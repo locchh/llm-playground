{
 "cells": [
  {
   "cell_type": "markdown",
   "id": "39fd1948-b5c3-48c4-b10e-2ae7e8c83334",
   "metadata": {},
   "source": [
    "# Lesson 2: Construct a Multi-Agent Workflow\n",
    "\n",
    "In this lesson, you'll build a data agent that can perform web research, answer questions, and generate charts.\n",
    "\n",
    "```\n",
    "Data Agent Architecture\n",
    "                    \n",
    "                    \n",
    "        +-------+           +------------------+\n",
    "        | Start |---------->|     Planner      |\n",
    "        +-------+           |   [👥] [⚙️]      |\n",
    "                           +------------------+\n",
    "                                    |\n",
    "                                    | ↕\n",
    "                                    v\n",
    "                           +------------------+\n",
    "                           |    Executor      |\n",
    "                           |   [👥] [⚙️]      |\n",
    "                           +------------------+\n",
    "                                    |\n",
    "                    +---------------+---------------+\n",
    "                    |               |               |\n",
    "                    v               v               v\n",
    "          +----------------+  +-----------+  +----------------+\n",
    "          |      Web       |  |   Chart   |  |                |\n",
    "          |  Researcher    |  | Generator |  |  Synthesizer   |\n",
    "          |    (Tavily)    |  | (Python)  |  |                |\n",
    "          | Assistant Agent|  +-----------+  | Assistant Agent|\n",
    "          +----------------+        |        +----------------+\n",
    "                                    v               |\n",
    "                              +-----------+         |\n",
    "                              |   Chart   |         |\n",
    "                              |Summarizer |         |\n",
    "                              |           |         |\n",
    "                              |Assistant  |         |\n",
    "                              |  Agent    |         |\n",
    "                              +-----------+         |\n",
    "                                    |               |\n",
    "                                    +-------+-------+\n",
    "                                            |\n",
    "                                            v\n",
    "                                       +-------+\n",
    "                                       |  End  |\n",
    "                                       +-------+\n",
    "```\n",
    "\n",
    "Let's load the environment variables that define the OpenAI API and Tavily API keys."
   ]
  },
  {
   "cell_type": "code",
   "execution_count": 1,
   "id": "b2172e54",
   "metadata": {
    "height": 47
   },
   "outputs": [],
   "source": [
    "from dotenv import load_dotenv\n",
    "_ = load_dotenv(override=True)"
   ]
  },
  {
   "cell_type": "markdown",
   "id": "32dbe8c9",
   "metadata": {},
   "source": [
    "**Note**: These variables are already defined in this environment. If you'd like to run the notebook locally, you can define them in a `.env` file. For an env template, you can check the file `env.template` in this lesson's folder."
   ]
  },
  {
   "cell_type": "markdown",
   "id": "7551424b-6334-4c9b-8dc3-9c61a2347b62",
   "metadata": {},
   "source": [
    "<div style=\"background-color:#fff6ff; padding:13px; border-width:3px; border-color:#efe6ef; border-style:solid; border-radius:6px\">\n",
    "<p> 💻 &nbsp; <b>To access <code>requirements.txt</code>, <code>env.template</code>, <code>prompts.py</code>, and <code>helper.py</code> files:</b> 1) click on the <em>\"File\"</em> option on the top menu of the notebook 2) click on <em>\"Open\"</em>.\n",
    "\n",
    "<p> ⬇ &nbsp; <b>Download Notebooks:</b> 1) click on the <em>\"File\"</em> option on the top menu of the notebook and then 2) click on <em>\"Download as\"</em> and select <em>\"Notebook (.ipynb)\"</em>.</p>\n",
    "\n",
    "</div>"
   ]
  },
  {
   "cell_type": "markdown",
   "id": "68b6570f-c8ad-4176-8e25-94bc53a4a780",
   "metadata": {},
   "source": [
    "## 2.1 Initialize the agent's state"
   ]
  },
  {
   "cell_type": "markdown",
   "id": "aaf984dd",
   "metadata": {},
   "source": [
    "State provides the agent with a shared, evolving memory across nodes so that the agents have the context and instructions needed to act coherently and achieve the goal."
   ]
  },
  {
   "cell_type": "code",
   "execution_count": 2,
   "id": "e65289f3",
   "metadata": {
    "height": 234
   },
   "outputs": [],
   "source": [
    "from typing import Literal, Optional, List, Dict, Any, Type\n",
    "from langgraph.graph import MessagesState\n",
    "\n",
    "# Custom State class with specific keys\n",
    "class State(MessagesState):\n",
    "    user_query: Optional[str] # The user's original query\n",
    "    enabled_agents: Optional[List[str]] # Makes our multi-agent system modular on which agents to include\n",
    "    plan: Optional[List[Dict[int, Dict[str, Any]]]] # Listing the steps in the plan needed to achieve the goal.\n",
    "    current_step: int # Marking the current step in the plan.\n",
    "    agent_query: Optional[str] # Inbox note: `agent_query` tells the next agent exactly what to do at the current step.\n",
    "    last_reason: Optional[str] # Explains the executor’s decision to help maintain continuity and provide traceability.\n",
    "    replan_flag: Optional[bool] # Set by the executor to indicate that the planner should revise the plan.\n",
    "    replan_attempts: Optional[Dict[int, Dict[int, int]]] # Replan attempts tracked per step number."
   ]
  },
  {
   "cell_type": "markdown",
   "id": "cba2b7fa-56e0-46dc-97c4-9e0a79ff0508",
   "metadata": {},
   "source": [
    "**Note**: `State` inherits from `MessagesState`, which is defined with a single `messages` key that keeps track of the list of messages shared among agents. So in addition to the fields you just defined for `State`, it also has a `messages` field from `MessagesState`. "
   ]
  },
  {
   "cell_type": "markdown",
   "id": "eecbb6b7-62fe-4ac0-b557-36cfeb102897",
   "metadata": {},
   "source": [
    "## 2.2 Create planner"
   ]
  },
  {
   "cell_type": "markdown",
   "id": "e08cd82b",
   "metadata": {},
   "source": [
    "The planner takes in the user's query and generates a plan. The plan consists of a sequence of numbered steps; each step includes the action and the sub-agent that is assigned to that action."
   ]
  },
  {
   "cell_type": "code",
   "execution_count": 3,
   "id": "9e263cc1-2e9a-4d6d-ae4a-ca12935c2e7a",
   "metadata": {
    "height": 115
   },
   "outputs": [],
   "source": [
    "from prompts import plan_prompt\n",
    "from langgraph.types import Command\n",
    "from langchain.schema import HumanMessage\n",
    "from langchain_openai import ChatOpenAI\n",
    "\n",
    "import json"
   ]
  },
  {
   "cell_type": "code",
   "execution_count": 4,
   "id": "0164f8e6-5c20-4451-b865-b5497e6cb04d",
   "metadata": {
    "height": 81
   },
   "outputs": [],
   "source": [
    "reasoning_llm = ChatOpenAI(\n",
    "    model=\"o3\",\n",
    "    model_kwargs={\"response_format\": {\"type\": \"json_object\"}},\n",
    ")"
   ]
  },
  {
   "cell_type": "code",
   "execution_count": 5,
   "id": "f0ff2f4f",
   "metadata": {
    "height": 608
   },
   "outputs": [],
   "source": [
    "def planner_node(state: State) -> Command[Literal['executor']]:\n",
    "    \"\"\"\n",
    "    Runs the planning LLM and stores the resulting plan in state.\n",
    "    \"\"\"\n",
    "    # 1. Invoke LLM with the planner prompt\n",
    "    llm_reply = reasoning_llm.invoke([plan_prompt(state)])\n",
    "\n",
    "    # 2. Validate JSON\n",
    "    try:\n",
    "        content_str = llm_reply.content if isinstance(\n",
    "            llm_reply.content, str) else str(llm_reply.content)\n",
    "        parsed_plan = json.loads(content_str)\n",
    "    except json.JSONDecodeError:\n",
    "        raise ValueError(\n",
    "            f\"Planner returned invalid JSON:\\n{llm_reply.content}\")\n",
    "\n",
    "    # 3. Store as current plan only\n",
    "    replan = state.get(\"replan_flag\", False)\n",
    "    updated_plan: Dict[str, Any] = parsed_plan\n",
    "\n",
    "    return Command(\n",
    "        update={\n",
    "            \"plan\": updated_plan,\n",
    "            \"messages\": [HumanMessage(\n",
    "                content=llm_reply.content,\n",
    "                name=\"replan\" if replan else \"initial_plan\")],\n",
    "            \"user_query\": state.get(\"user_query\", state[\"messages\"][0].content),\"current_step\": 1 if not replan else state[\"current_step\"],\n",
    "            # Preserve replan flag so executor runs planned agent\n",
    "            # once before reconsidering\n",
    "            \"replan_flag\": state.get(\"replan_flag\", False),\n",
    "            \"last_reason\": \"\",\n",
    "            \"enabled_agents\": state.get(\"enabled_agents\"),\n",
    "        },\n",
    "        goto=\"executor\",\n",
    "    )"
   ]
  },
  {
   "cell_type": "markdown",
   "id": "140771f4",
   "metadata": {},
   "source": [
    "## 2.3 Create executor"
   ]
  },
  {
   "cell_type": "markdown",
   "id": "76583902",
   "metadata": {},
   "source": [
    "The executor executes the plan by identifying the sub-agent that should go next and generating the instructions (or agent query) for the chosen agent. Based on the results of the retrieval step (web search results in this case), the executor might decide that the plan needs to be changed. In this case, it goes back to the planner and asks it to generate an updated plan."
   ]
  },
  {
   "cell_type": "code",
   "execution_count": 7,
   "id": "aede02bc-758d-4d39-9941-6d47520b98a7",
   "metadata": {
    "height": 81
   },
   "outputs": [],
   "source": [
    "from prompts import executor_prompt\n",
    "from langgraph.graph import END\n",
    "\n",
    "MAX_REPLANS = 3"
   ]
  },
  {
   "cell_type": "code",
   "execution_count": 8,
   "id": "1422bcfe",
   "metadata": {
    "height": 1084
   },
   "outputs": [],
   "source": [
    "def executor_node(\n",
    "    state: State,\n",
    ") -> Command[Literal[\"web_researcher\", \"chart_generator\", \"synthesizer\", \"planner\"]]:\n",
    "\n",
    "    plan: Dict[str, Any] = state.get(\"plan\", {})\n",
    "    step: int = state.get(\"current_step\", 1)\n",
    "\n",
    "    # 0) If we *just* replanned, \n",
    "    # run the planned agent once before reconsidering.\n",
    "    if state.get(\"replan_flag\"):\n",
    "        planned_agent = plan.get(str(step), {}).get(\"agent\")\n",
    "        return Command(\n",
    "            update={\n",
    "                \"replan_flag\": False,\n",
    "                \"current_step\": step + 1,  # advance because we executed the planned agent\n",
    "            },\n",
    "            goto=planned_agent,\n",
    "        )\n",
    "\n",
    "    # 1) Build prompt & call LLM\n",
    "    llm_reply = reasoning_llm.invoke([executor_prompt(state)])\n",
    "    try:\n",
    "        content_str = llm_reply.content if isinstance(llm_reply.content, str) else str(llm_reply.content)\n",
    "        parsed = json.loads(content_str)\n",
    "        replan: bool = parsed[\"replan\"]\n",
    "        goto: str   = parsed[\"goto\"]\n",
    "        reason: str = parsed[\"reason\"]\n",
    "        query: str  = parsed[\"query\"]\n",
    "    except Exception as exc:\n",
    "        raise ValueError(f\"Invalid executor JSON:\\n{llm_reply.content}\") from exc\n",
    "\n",
    "    # Upodate the state\n",
    "    updates: Dict[str, Any] = {\n",
    "        \"messages\": [HumanMessage(content=llm_reply.content, name=\"executor\")],\n",
    "        \"last_reason\": reason,\n",
    "        \"agent_query\": query,\n",
    "    }\n",
    "\n",
    "    # Replan accounting\n",
    "    replans: Dict[int, int] = state.get(\"replan_attempts\", {}) or {}\n",
    "    step_replans = replans.get(step, 0)\n",
    "\n",
    "    # 2) Replan decision\n",
    "    if replan:\n",
    "        if step_replans < MAX_REPLANS:\n",
    "            replans[step] = step_replans + 1\n",
    "            updates.update({\n",
    "                \"replan_attempts\": replans,\n",
    "                \"replan_flag\": True,     # ensure next turn executes the planned agent once\n",
    "                \"current_step\": step,    # stay on same step for the new plan\n",
    "            })\n",
    "            return Command(update=updates, goto=\"planner\")\n",
    "        else:\n",
    "            # Cap hit: skip this step; let next step (or synthesizer) handle termination\n",
    "            next_agent = plan.get(str(step + 1), {}).get(\"agent\", \"synthesizer\")\n",
    "            updates[\"current_step\"] = step + 1\n",
    "            return Command(update=updates, goto=next_agent)\n",
    "\n",
    "    # 3) Happy path: run chosen agent; advance only if following the plan\n",
    "    planned_agent = plan.get(str(step), {}).get(\"agent\")\n",
    "    updates[\"current_step\"] = step + 1 if goto == planned_agent else step\n",
    "    updates[\"replan_flag\"] = False\n",
    "    return Command(update=updates, goto=goto)"
   ]
  },
  {
   "cell_type": "markdown",
   "id": "51b75e40",
   "metadata": {},
   "source": [
    "## 2.4 Create Web research agent"
   ]
  },
  {
   "cell_type": "markdown",
   "id": "769ae2d5",
   "metadata": {},
   "source": [
    "The web research sub-agent is a [ReAct agent](https://arxiv.org/abs/2210.03629) that uses [Tavily Search tool](https://python.langchain.com/docs/integrations/tools/tavily_search/) to search the web and answer the sub-query assigned to it. "
   ]
  },
  {
   "cell_type": "code",
   "execution_count": 9,
   "id": "de6d926a",
   "metadata": {
    "height": 149
   },
   "outputs": [
    {
     "data": {
      "text/plain": [
       "[{'url': 'https://tradingeconomics.com/jpm:us',\n",
       "  'title': 'JPMorgan | JPM - Stock Price | Live Quote | Historical Chart',\n",
       "  'content': 'JPMorgan | JPM - Stock Price | Live Quote | Historical Chart  | Capital One Financial | 215.99 |  | 1.79 | 0.83% | 37.82% | Oct/15 | Rowe Price | 106.13 |  | 0.77 | 0.73% | -2.94% | Oct/14 | | US Bank Index | 77 |  | 0.92 | 1.20% | 22.78% | Oct/15 | Looking ahead, we forecast J.P. Morgan Chase to be priced at 291.56 by the end of this quarter and at 265.28 in one year, according to Trading Economics global macro models projections and analysts expectations. **JPMorgan Stock Price Hits 4-week Low** **JPMorgan Stock Price Hits All-time High** **JPMorgan Stock Price Hits All-time High** Brent Crude Oil Edges Up, Still Near 5-Month Low',\n",
       "  'score': 0.84918517,\n",
       "  'raw_content': None},\n",
       " {'url': 'https://www.macrotrends.net/stocks/charts/JPM/jpmorgan-chase/stock-price-history',\n",
       "  'title': 'JPMorgan Chase - 45 Year Stock Price History | JPM - Macrotrends',\n",
       "  'content': '* The JPMorgan Chase 52-week high stock price is **301.29**, which is **4.3%** above the current share price. * The average JPMorgan Chase stock price for the last 52 weeks is **247.57**. | JPMorgan Chase Historical Annual Stock Price Data | | | | | | | | Robinhood Markets (HOOD) | United States | $101.869B | 76.42 | | PNC Financial Services (PNC) | United States | $74.721B | 12.98 | | Tradeweb Markets (TW) | United States | $32.025B | 41.80 | | LPL Financial Holdings (LPLA) | United States | $29.589B | 20.47 | | Stifel Financial (SF) | United States | $11.407B | 18.83 | | Siebert Financial (SIEB) | United States | $0.160B | 8.63 |',\n",
       "  'score': 0.8116913,\n",
       "  'raw_content': None},\n",
       " {'url': 'https://seekingalpha.com/symbol/JPM',\n",
       "  'title': 'JPMorgan Chase & Co. (JPM) Stock Price, Quote, News & Analysis',\n",
       "  'content': \"[Read Now »](https://seekingalpha.com/symbol/JPM#scroll_insiders_buy_sell#source=insider_promo) ### [JPMorgan Q3 Earnings Preview: Time To Find Out The Pulse Of The Consumer](https://seekingalpha.com/article/4828460-jpmorgan-q3-earnings-preview-time-to-find-out-the-pulse-of-consumer-maintain-buy#source=section%3Asummary%7Csection_asset%3Aall_analysis%7Cfirst_level_url%3Asymbol%7Cbutton%3ATitle%7Clock_status%3ANo%7Cline%3A2) ### [JPMorgan Chase: The Profit Engine That Remains Undervalued](https://seekingalpha.com/article/4822712-jpmorgan-chase-profit-engine-remains-undervalued#source=section%3Asummary%7Csection_asset%3Aall_analysis%7Cfirst_level_url%3Asymbol%7Cbutton%3ATitle%7Clock_status%3ANo%7Cline%3A4) ### [JPMorgan Chase: The First Trillion Dollar Bank?](https://seekingalpha.com/article/4804431-jpmorgan-chase-the-first-trillion-dollar-bank#source=section%3Asummary%7Csection_asset%3Aall_analysis%7Cfirst_level_url%3Asymbol%7Cbutton%3ATitle%7Clock_status%3ANo%7Cline%3A10) [The Value Portfolio](https://seekingalpha.com/author/the-value-portfolio#source=section%3Asummary%7Csection_asset%3Aall_analysis%7Cfirst_level_url%3Asymbol%7Cbutton%3AAuthor%7Clock_status%3ANo%7Cline%3A10)Fri, Jul. 25[6 Comments](https://seekingalpha.com/article/4804431-jpmorgan-chase-the-first-trillion-dollar-bank#scroll_comments#source=section%3Asummary%7Csection_asset%3Aall_analysis%7Cfirst_level_url%3Asymbol%7Cbutton%3ATitle%7Clock_status%3ANo%7Cline%3A10) ### [Market Voices: Trump on furloughs, U.S. mining stakes, JPM's Dimon](https://seekingalpha.com/news/4502458-market-voices-trump-on-furloughs-us-mining-stakes-jpms-dimon#source=section%3Asummary%7Csection_asset%3Aall_news%7Cfirst_level_url%3Asymbol%7Cbutton%3ATitle%7Clock_status%3ANo%7Cline%3A1) SA News Tue, Oct. 07[22 Comments](https://seekingalpha.com/news/4502458-market-voices-trump-on-furloughs-us-mining-stakes-jpms-dimon#scroll_comments#source=section%3Asummary%7Csection_asset%3Aall_news%7Cfirst_level_url%3Asymbol%7Cbutton%3ATitle%7Clock_status%3ANo%7Cline%3A1) SA News Tue, Oct. 07[18 Comments](https://seekingalpha.com/news/4502445-jpmorgans-dimon-would-welcome-change-in-quarterly-earnings-rules#scroll_comments#source=section%3Asummary%7Csection_asset%3Aall_news%7Cfirst_level_url%3Asymbol%7Cbutton%3ATitle%7Clock_status%3ANo%7Cline%3A2) SA News Mon, Sep. 29[17 Comments](https://seekingalpha.com/news/4499944-charlie-javice-gets-7-years-behind-bars-for-jpmorgan-fraud---reports#scroll_comments#source=section%3Asummary%7Csection_asset%3Aall_news%7Cfirst_level_url%3Asymbol%7Cbutton%3ATitle%7Clock_status%3ANo%7Cline%3A4) SA News Fri, Sep. 26[136 Comments](https://seekingalpha.com/news/4498800-sa-graphics-here-are-the-companies-with-the-most-h-1b-visas-approved-this-year#scroll_comments#source=section%3Asummary%7Csection_asset%3Aall_news%7Cfirst_level_url%3Asymbol%7Cbutton%3ATitle%7Clock_status%3ANo%7Cline%3A5) SA News Fri, Sep. 19[1 Comment](https://seekingalpha.com/news/4496532-dividend-roundup-microsoft-jpmorgan-mastercard-broadcom-and-more#scroll_comments#source=section%3Asummary%7Csection_asset%3Aall_news%7Cfirst_level_url%3Asymbol%7Cbutton%3ATitle%7Clock_status%3ANo%7Cline%3A9) SA News Thu, Sep. 18[2 Comments](https://seekingalpha.com/news/4496327-jpmorgan-chase-hits-52-week-high-extends-rally-amid-investor-optimism-on-bank-stocks#scroll_comments#source=section%3Asummary%7Csection_asset%3Aall_news%7Cfirst_level_url%3Asymbol%7Cbutton%3ATitle%7Clock_status%3ANo%7Cline%3A10) ### [JPMorgan Chase boosts dividend by 7.1% to $1.50 a share](https://seekingalpha.com/news/4495511-jpmorgan-chase-boosts-dividend-by-71-to-150-a-share#source=section%3Asummary%7Csection_asset%3Aall_news%7Cfirst_level_url%3Asymbol%7Cbutton%3ATitle%7Clock_status%3ANo%7Cline%3A11) SA News Wed, Sep. 17[21 Comments](https://seekingalpha.com/news/4495511-jpmorgan-chase-boosts-dividend-by-71-to-150-a-share#scroll_comments#source=section%3Asummary%7Csection_asset%3Aall_news%7Cfirst_level_url%3Asymbol%7Cbutton%3ATitle%7Clock_status%3ANo%7Cline%3A11) ### [JPMorgan raised to Buy at CFRA on capital markets growth](https://seekingalpha.com/news/4495484-jpmorgan-raised-to-buy-at-cfra-on-capital-markets-growth#source=section%3Asummary%7Csection_asset%3Aall_news%7Cfirst_level_url%3Asymbol%7Cbutton%3ATitle%7Clock_status%3ANo%7Cline%3A12) SA News Tue, Sep. 16[3 Comments](https://seekingalpha.com/news/4495484-jpmorgan-raised-to-buy-at-cfra-on-capital-markets-growth#scroll_comments#source=section%3Asummary%7Csection_asset%3Aall_news%7Cfirst_level_url%3Asymbol%7Cbutton%3ATitle%7Clock_status%3ANo%7Cline%3A12)\",\n",
       "  'score': 0.75616,\n",
       "  'raw_content': None},\n",
       " {'url': 'https://www.marketwatch.com/investing/stock/jpm?gaa_at=eafs&gaa_n=AWEtsqdfTHkDOE31QSE8asi1tKSyKj38gPPOOMakw5Z_0M7CWt5jyw34q83y&gaa_ts=68f395d5&gaa_sig=C_ORMGb43o9TBGKOwtK4_AsI6ufW02JEz6_YX-MShJleOLwuWyCmJxqk4mgyOCQxntqMCOkNImC7cUK-4tFgMg%3D%3D',\n",
       "  'title': 'JPMorgan Chase & Co. Stock Quote (U.S.: NYSE) - MarketWatch',\n",
       "  'content': 'Key Data. Open $299.16; Day Range 294.20 - 299.55; 52 Week Range 202.16 - 318.01; Market Cap $820.91B; Shares Outstanding 2.75B; Public Float 2.74B',\n",
       "  'score': 0.75442725,\n",
       "  'raw_content': None},\n",
       " {'url': 'https://robinhood.com/us/en/stocks/JPM/',\n",
       "  'title': 'JPMorgan Chase: JPM Stock Price Quote & News - Robinhood',\n",
       "  'content': \"Unlock powerful investing tools, advanced data, and expert analyst insights to...](https://www.tipranks.com/news/company-announcements/jpmorgan-chase-co-reduces-stake-in-mineral-resources-limited?utm_source=robinhood.com&utm_medium=referral)[TipRanks 2d JPMorgan Chase Plans to Go All-In on AI Banking giant JPMorgan Chase (JPM) has a powerful AI tool that’s called LLM Suite. ![Image 4: Cramer's Banking Bet: Why JPMorgan And Goldman Still Look Cheap](https://images.robinhood.com/VoBDeuG4n6xGrijA-OrSyBTDfD0/aHR0cHM6Ly9jZG4uYmVuemluZ2EuY29tL2ZpbGVzL2ltYWdlcy9zdG9yeS8yMDI1LzA5LzI5L0ppbS1DcmFtZXIucG5nP3dpZHRoPTEyMDAmaGVpZ2h0PTgwMCZmaXQ9Y3JvcA)](https://www.benzinga.com/trading-ideas/long-ideas/25/09/47928344/cramers-banking-bet-why-jpmorgan-and-goldman-still-look-cheap?utm_source=robinhood.com&utm_campaign=partner_feed&utm_medium=partner_feed&utm_content=ticker_page)[Seeking Alpha 3d Charlie Javice gets 7 years behind bars for JPMorgan fraud - reports Startup founder Charlie Javice on Monday was given an 85-month prison sentence for defrauding JPMorgan Chase (NYSE:JPM) regarding its $175M acquisition of her f... ![Image 6: Enlight Strengthens US Presence With New Financing Deals For Clean Energy Projects](https://images.robinhood.com/_WihQdYBTWyC54g38cIl-Mq-EKM/aHR0cHM6Ly9jZG4uYmVuemluZ2EuY29tL2ZpbGVzL2ltYWdlcy9zdG9yeS8yMDI1LzA5LzI5L0xhcmdlLXNjYWxlLVNvbGFyLUZhcm0tQXQtU3VucmlzZS0tU29sYXIuanBlZz93aWR0aD0xMjAwJmhlaWdodD04MDAmZml0PWNyb3A)](https://www.benzinga.com/trading-ideas/movers/25/09/47914696/enlight-strengthens-us-presence-with-new-financing-deals-for-clean-energy-projects?utm_source=robinhood.com&utm_campaign=partner_feed&utm_medium=partner_feed&utm_content=ticker_page)[TipRanks 3d JPMorgan price target raised to $336 from $298 at Morgan Stanley Morgan Stanley analyst Betsy Graseck raised the firm’s price target on JPMorgan (JPM) to $336 from $298 and keeps an Equal Weight rating on the shares.\",\n",
       "  'score': 0.74273956,\n",
       "  'raw_content': None}]"
      ]
     },
     "execution_count": 9,
     "metadata": {},
     "output_type": "execute_result"
    }
   ],
   "source": [
    "from langgraph.prebuilt import create_react_agent\n",
    "from typing import Literal\n",
    "from langchain_tavily import TavilySearch\n",
    "from langchain_openai import ChatOpenAI\n",
    "\n",
    "tavily_tool = TavilySearch(max_results=5)\n",
    "\n",
    "tavily_tool.invoke(\"What is JP Morgan's stock price?\")['results']"
   ]
  },
  {
   "cell_type": "code",
   "execution_count": 10,
   "id": "b526c0e4",
   "metadata": {
    "height": 268
   },
   "outputs": [],
   "source": [
    "from helper import agent_system_prompt\n",
    "\n",
    "llm = ChatOpenAI(model=\"gpt-4o\")\n",
    "\n",
    "# Research agent and node\n",
    "web_search_agent = create_react_agent(\n",
    "    llm,\n",
    "    tools=[tavily_tool],\n",
    "    prompt=agent_system_prompt(f\"\"\"\n",
    "        You are the Researcher. You can ONLY perform research \n",
    "        by using the provided search tool (tavily_tool). \n",
    "        When you have found the necessary information, end your output.  \n",
    "        Do NOT attempt to take further actions.\n",
    "    \"\"\"),\n",
    ")"
   ]
  },
  {
   "cell_type": "code",
   "execution_count": 11,
   "id": "b9694060",
   "metadata": {
    "height": 47
   },
   "outputs": [],
   "source": [
    "agent_response = web_search_agent.invoke(\n",
    "    {\"messages\":\"what is jp morgan's current market cap?\"})"
   ]
  },
  {
   "cell_type": "code",
   "execution_count": 12,
   "id": "8552977a",
   "metadata": {
    "height": 30
   },
   "outputs": [
    {
     "data": {
      "text/plain": [
       "'The current market capitalization of JP Morgan is approximately $818.22 billion. You can find more details on the [Wall Street Journal](https://www.wsj.com/market-data/quotes/JPM) or [Bloomberg](https://www.bloomberg.com/quote/JPM:US) websites.'"
      ]
     },
     "execution_count": 12,
     "metadata": {},
     "output_type": "execute_result"
    }
   ],
   "source": [
    "agent_response['messages'][-1].content"
   ]
  },
  {
   "cell_type": "markdown",
   "id": "e0a44ebf-4a1d-4a88-a656-09469e384e4f",
   "metadata": {},
   "source": [
    "<div style=\"background-color:#f7fff8; padding:15px; border-width:3px; border-color:#e0f0e0; border-style:solid; border-radius:6px\"> \n",
    "    <p>🚨 &nbsp; <b>Different Run Results:</b> The output generated by AI chat models can vary with each execution due to their dynamic, probabilistic nature. Also, the answer depends on the web search results since the question asks for current market cap."
   ]
  },
  {
   "cell_type": "code",
   "execution_count": 13,
   "id": "134c6e98",
   "metadata": {
    "height": 319
   },
   "outputs": [],
   "source": [
    "def web_research_node(\n",
    "    state: State,\n",
    ") -> Command[Literal[\"executor\"]]:\n",
    "    agent_query = state.get(\"agent_query\")\n",
    "    result = web_search_agent.invoke({\"messages\":agent_query})\n",
    "    goto = \"executor\"\n",
    "    # wrap in a human message, as not all providers allow\n",
    "    # AI message at the last position of the input messages list\n",
    "    result[\"messages\"][-1] = HumanMessage(\n",
    "        content=result[\"messages\"][-1].content, name=\"web_researcher\"\n",
    "    )\n",
    "    return Command(\n",
    "        update={\n",
    "            # share internal message history of research agent with other agents\n",
    "            \"messages\": result[\"messages\"],\n",
    "        },\n",
    "        goto=goto,\n",
    "    )"
   ]
  },
  {
   "cell_type": "markdown",
   "id": "911a283e-ea04-40c1-b792-f9e5f7d81203",
   "metadata": {},
   "source": [
    "## 2.5 Create charting agent"
   ]
  },
  {
   "cell_type": "markdown",
   "id": "38bae808",
   "metadata": {},
   "source": [
    "If the user asks for the results to be charted, then the charting sub-agent can help with that. It first generates the Python code that generates the chart, and then executes the code using the `python_repl_tool`."
   ]
  },
  {
   "cell_type": "code",
   "execution_count": 14,
   "id": "17422908-7831-486f-acdc-5e5c44c7326f",
   "metadata": {
    "height": 387
   },
   "outputs": [],
   "source": [
    "from helper import python_repl_tool\n",
    "\n",
    "# Chart generator agent and node\n",
    "# NOTE: THIS PERFORMS ARBITRARY CODE EXECUTION, \n",
    "# WHICH CAN BE UNSAFE WHEN NOT SANDBOXED\n",
    "chart_agent = create_react_agent(\n",
    "    llm,\n",
    "    [python_repl_tool],\n",
    "    prompt=agent_system_prompt(\n",
    "        \"\"\"\n",
    "        You can only generate charts. You are working with a researcher \n",
    "        colleague.\n",
    "        1) Print the chart first.\n",
    "        2) Save the chart to a file in the current working directory.\n",
    "        3) At the very end of your message, output EXACTLY two lines \n",
    "        so the summarizer can find them:\n",
    "           CHART_PATH: <relative_path_to_chart_file>\n",
    "           CHART_NOTES: <one concise sentence summarizing the main insight in the chart>\n",
    "        Do not include any other trailing text after these two lines.\n",
    "        \"\"\"\n",
    "    ),\n",
    ")"
   ]
  },
  {
   "cell_type": "code",
   "execution_count": 15,
   "id": "66d34f2d",
   "metadata": {
    "height": 268
   },
   "outputs": [],
   "source": [
    "def chart_node(state: State) -> Command[Literal[\"chart_summarizer\"]]:\n",
    "    result = chart_agent.invoke(state)\n",
    "    # wrap in a human message, as not all providers allow\n",
    "    # AI message at the last position of the input messages list\n",
    "    result[\"messages\"][-1] = HumanMessage(\n",
    "        content=result[\"messages\"][-1].content, name=\"chart_generator\"\n",
    "    )\n",
    "    goto=\"chart_summarizer\"\n",
    "    return Command(\n",
    "        update={\n",
    "            # share internal message history of chart agent with other agents\n",
    "            \"messages\": result[\"messages\"],\n",
    "        },\n",
    "        goto=goto,\n",
    "    )"
   ]
  },
  {
   "cell_type": "markdown",
   "id": "9832ebba-d72f-4e69-bf98-3f3af46e2810",
   "metadata": {},
   "source": [
    "## 2.6 Create chart summary agent"
   ]
  },
  {
   "cell_type": "markdown",
   "id": "3cb45506",
   "metadata": {},
   "source": [
    "This sub-agent generates a caption describing the chart generated by the chart generator."
   ]
  },
  {
   "cell_type": "code",
   "execution_count": 16,
   "id": "6314eec9-5f96-483e-aba4-940d855f1fdd",
   "metadata": {
    "height": 149
   },
   "outputs": [],
   "source": [
    "chart_summary_agent = create_react_agent(\n",
    "    llm,\n",
    "    tools=[],  # Add image processing tools if available/needed.\n",
    "    prompt=agent_system_prompt(\n",
    "        \"You can only generate image captions. You are working with a researcher colleague and a chart generator colleague. \"\n",
    "        + \"Your task is to generate a standalone, concise summary for the provided chart image saved at a local PATH, where the PATH should be and only be provided by your chart generator colleague. The summary should be no more than 3 sentences and should not mention the chart itself.\"\n",
    "    ),\n",
    ")"
   ]
  },
  {
   "cell_type": "code",
   "execution_count": 17,
   "id": "80cab43e",
   "metadata": {
    "height": 268
   },
   "outputs": [],
   "source": [
    "def chart_summary_node(\n",
    "    state: State,\n",
    ") -> Command[Literal[END]]:\n",
    "    result = chart_summary_agent.invoke(state)\n",
    "    print(f\"Chart summarizer answer: {result['messages'][-1].content}\")\n",
    "    # Send to the end node\n",
    "    goto = END\n",
    "    return Command(\n",
    "        update={\n",
    "            # share internal message history of chart agent with other agents\n",
    "            \"messages\": result[\"messages\"],\n",
    "            \"final_answer\": result[\"messages\"][-1].content,\n",
    "        },\n",
    "        goto=goto,\n",
    "    )"
   ]
  },
  {
   "cell_type": "markdown",
   "id": "43dee1d3",
   "metadata": {},
   "source": [
    "## 2.7 Create a Synthesizer (Text Summarizer) Agent"
   ]
  },
  {
   "cell_type": "markdown",
   "id": "53f4a1ec",
   "metadata": {},
   "source": [
    "In the case where the user does not ask for the results to be charted, the synthesizer sub-agent generates text that summarizes the retrieved results (in this case, the web search results)."
   ]
  },
  {
   "cell_type": "code",
   "execution_count": 18,
   "id": "822b21d3-f2ae-4b1b-9cf3-256ea03d0c39",
   "metadata": {
    "height": 30
   },
   "outputs": [],
   "source": [
    "llm = ChatOpenAI(model=\"gpt-4o\")"
   ]
  },
  {
   "cell_type": "code",
   "execution_count": 19,
   "id": "9bd6e703",
   "metadata": {
    "height": 965
   },
   "outputs": [],
   "source": [
    "def synthesizer_node(state: State) -> Command[Literal[END]]:\n",
    "    \"\"\"\n",
    "    Creates a concise, human‑readable summary of the entire interaction,\n",
    "    **purely in prose**.\n",
    "\n",
    "    It ignores structured tables or chart IDs and instead rewrites the\n",
    "    relevant agent messages (research results, chart commentary, etc.)\n",
    "    into a short final answer.\n",
    "    \"\"\"\n",
    "    # Gather informative messages for final synthesis\n",
    "    relevant_msgs = [\n",
    "        m.content for m in state.get(\"messages\", [])\n",
    "        if getattr(m, \"name\", None) in (\"web_researcher\", \n",
    "                                        \"chart_generator\", \n",
    "                                        \"chart_summarizer\")\n",
    "    ]\n",
    "\n",
    "    user_question = state.get(\"user_query\", state.get(\"messages\", [{}])[0].content if state.get(\"messages\") else \"\")\n",
    "\n",
    "    synthesis_instructions = (\n",
    "        \"\"\"\n",
    "        You are the Synthesizer. Use the context below to directly \n",
    "        answer the user's question. Perform any lightweight calculations, \n",
    "        comparisons, or inferences required. Do not invent facts not \n",
    "        supported by the context. If data is missing, say what's missing\n",
    "        and, if helpful, offer a clearly labeled best-effort estimate \n",
    "        with assumptions.\\n\\n\n",
    "        Produce a concise response that fully answers the question, with \n",
    "        the following guidance:\\n\n",
    "        - Start with the direct answer (one short paragraph or a tight bullet list).\\n\n",
    "        - Include key figures from any 'Results:' tables (e.g., totals, top items).\\n\n",
    "        - If any message contains citations, include them as a brief 'Citations: [...]' line.\\n\n",
    "        - Keep the output crisp; avoid meta commentary or tool instructions.\n",
    "        \"\"\"\n",
    "        )\n",
    "\n",
    "    summary_prompt = [\n",
    "        HumanMessage(content=(\n",
    "            f\"User question: {user_question}\\n\\n\"\n",
    "            f\"{synthesis_instructions}\\n\\n\"\n",
    "            f\"Context:\\n\\n\" + \"\\n\\n---\\n\\n\".join(relevant_msgs)\n",
    "        ))\n",
    "    ]\n",
    "\n",
    "    llm_reply = llm.invoke(summary_prompt)\n",
    "\n",
    "    answer = llm_reply.content.strip()\n",
    "    print(f\"Synthesizer answer: {answer}\")\n",
    "\n",
    "    return Command(\n",
    "        update={\n",
    "            \"final_answer\": answer,\n",
    "            \"messages\": [HumanMessage(content=answer, name=\"synthesizer\")],\n",
    "        },\n",
    "        goto=END,           # hand off to the END node\n",
    "    )"
   ]
  },
  {
   "cell_type": "markdown",
   "id": "d810f00e",
   "metadata": {},
   "source": [
    "## 2.8 Build the agent graph"
   ]
  },
  {
   "cell_type": "code",
   "execution_count": 20,
   "id": "0fb15bf4",
   "metadata": {
    "height": 234
   },
   "outputs": [],
   "source": [
    "from langgraph.graph import START, StateGraph\n",
    "\n",
    "workflow = StateGraph(State)\n",
    "workflow.add_node(\"planner\", planner_node)\n",
    "workflow.add_node(\"executor\", executor_node)\n",
    "workflow.add_node(\"web_researcher\", web_research_node)\n",
    "workflow.add_node(\"chart_generator\", chart_node)\n",
    "workflow.add_node(\"chart_summarizer\", chart_summary_node)\n",
    "workflow.add_node(\"synthesizer\", synthesizer_node)\n",
    "\n",
    "workflow.add_edge(START, \"planner\")\n",
    "\n",
    "graph = workflow.compile()"
   ]
  },
  {
   "cell_type": "code",
   "execution_count": 21,
   "id": "e783bb21",
   "metadata": {
    "height": 64
   },
   "outputs": [
    {
     "data": {
      "image/png": "[encoded data removed]",
      "text/plain": [
       "<IPython.core.display.Image object>"
      ]
     },
     "metadata": {},
     "output_type": "display_data"
    }
   ],
   "source": [
    "from IPython.display import Image, display\n",
    "\n",
    "display(Image(graph.get_graph().draw_png()))"
   ]
  },
  {
   "cell_type": "markdown",
   "id": "fac3b1fe",
   "metadata": {},
   "source": [
    "## 2.9 Use the agent"
   ]
  },
  {
   "cell_type": "markdown",
   "id": "4e173629",
   "metadata": {},
   "source": [
    "<p style=\"background-color:#fff6e4; padding:15px; border-width:3px; border-color:#f5ecda; border-style:solid; border-radius:6px\"> ⏳ </b> The following two queries might take <b>2-5 minutes</b> to output the results.</p>"
   ]
  },
  {
   "cell_type": "markdown",
   "id": "ef4b0d76-b8be-4a30-80e4-ee470680dbd0",
   "metadata": {},
   "source": [
    "<div style=\"background-color:#f7fff8; padding:15px; border-width:3px; border-color:#e0f0e0; border-style:solid; border-radius:6px\"> \n",
    "<p>🚨 &nbsp; <b>Different Run Results:</b> The output generated by AI chat models can vary with each execution due to their dynamic, probabilistic nature. Your results may differ from those shown in the video. For example: \n",
    "\n",
    "In the first query, the agent might decide to call the synthesizer instead of calling the chart generator. In this case, you will only see text summarizing the web search results instead of a chart, which means the agent's answer is not completely relevant to the user's query. This is what you'll learn how to evaluate in the next lessons.\n",
    "</p>"
   ]
  },
  {
   "cell_type": "code",
   "execution_count": 24,
   "id": "c75f640f",
   "metadata": {
    "height": 268
   },
   "outputs": [
    {
     "name": "stdout",
     "output_type": "stream",
     "text": [
      "Query: Chart the current market capitalization of the top 5 banks in the US?\n"
     ]
    },
    {
     "name": "stderr",
     "output_type": "stream",
     "text": [
      "Python REPL can execute arbitrary code. Use with caution.\n"
     ]
    },
    {
     "data": {
      "image/png": "[encoded data removed]",
      "text/plain": [
       "<Figure size 640x480 with 1 Axes>"
      ]
     },
     "metadata": {},
     "output_type": "display_data"
    },
    {
     "name": "stdout",
     "output_type": "stream",
     "text": [
      "Chart summarizer answer: Based on the recent data, JPMorgan Chase has the highest market capitalization among the top U.S. banks at 845.69 billion USD, significantly outpacing the others, with Bank of America at 373.61 billion USD and Wells Fargo at 264.51 billion USD. Goldman Sachs and Citigroup trail behind with 239.95 billion and 179.19 billion USD respectively.\n",
      "--------------------------------\n"
     ]
    }
   ],
   "source": [
    "from langchain.schema import HumanMessage\n",
    "import json\n",
    "\n",
    "query = \"Chart the current market capitalization of the top 5 banks in the US?\"\n",
    "print(f\"Query: {query}\")\n",
    "\n",
    "state = {\n",
    "            \"messages\": [HumanMessage(content=query)],\n",
    "            \"user_query\": query,\n",
    "            \"enabled_agents\": [\"web_researcher\", \"chart_generator\", \n",
    "                               \"chart_summarizer\", \"synthesizer\"],\n",
    "        }\n",
    "graph.invoke(state)\n",
    "\n",
    "print(\"--------------------------------\")"
   ]
  },
  {
   "cell_type": "code",
   "execution_count": 23,
   "id": "a03180c6",
   "metadata": {
    "height": 217
   },
   "outputs": [
    {
     "name": "stdout",
     "output_type": "stream",
     "text": [
      "Query: Identify current regulatory changes for the financial services industry in the US.\n",
      "Synthesizer answer: - **SEC**: New rules for private fund advisers to enhance transparency and risk management practices in the U.S. Treasury market have been adopted in 2023.\n",
      "- **OCC**: Established the Office of Financial Technology in March 2023 to focus on fintech innovations.\n",
      "- **CFPB**: Finalized a rule in March 2023 requiring data reporting on credit applications from small businesses, particularly those owned by women and minorities.\n",
      "- **Federal Reserve**: Finalized principles for managing climate-related financial risks for large institutions as of October 2023.\n",
      "- **FINRA**: Amendments to rule 4210 regarding margin requirements for agency transactions are set to be implemented by May 2024.\n",
      "\n",
      "Citations: [1](https://www.sec.gov/newsroom/press-releases/2023-155), [2](https://www.sec.gov/newsroom/press-releases/2023-247), [3](https://www.occ.gov/news-issuances/news-releases/2023/nr-occ-2023-28.html), [4](https://www.consumerfinance.gov/1071-rule/), [5](https://www.federalreserve.gov/newsevents/pressreleases/2023-press.htm), [6](https://www.finra.org/rules-guidance/notices/23-14)\n",
      "--------------------------------\n"
     ]
    }
   ],
   "source": [
    "query = \"Identify current regulatory changes for the financial services industry in the US.\"\n",
    "print(f\"Query: {query}\")\n",
    "\n",
    "state = {\n",
    "            \"messages\": [HumanMessage(content=query)],\n",
    "            \"user_query\": query,\n",
    "            \"enabled_agents\": [\"web_researcher\", \"chart_generator\", \n",
    "                               \"chart_summarizer\", \"synthesizer\"],\n",
    "        }\n",
    "graph.invoke(state)\n",
    "\n",
    "print(\"--------------------------------\")"
   ]
  }
 ],
 "metadata": {
  "kernelspec": {
   "display_name": "Python 3 (ipykernel)",
   "language": "python",
   "name": "python3"
  },
  "language_info": {
   "codemirror_mode": {
    "name": "ipython",
    "version": 3
   },
   "file_extension": ".py",
   "mimetype": "text/x-python",
   "name": "python",
   "nbconvert_exporter": "python",
   "pygments_lexer": "ipython3",
   "version": "3.11.3"
  }
 },
 "nbformat": 4,
 "nbformat_minor": 5
}
