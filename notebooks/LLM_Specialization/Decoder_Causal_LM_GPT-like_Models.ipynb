{
 "cells": [
  {
   "cell_type": "markdown",
   "id": "b5d821c9-cd5c-4715-9090-4f3ab2017b3a",
   "metadata": {},
   "source": [
    "<p style=\"text-align:center\">\n",
    "    <a href=\"https://skills.network\" target=\"_blank\">\n",
    "    <img src=\"https://cf-courses-data.s3.us.cloud-object-storage.appdomain.cloud/assets/logos/SN_web_lightmode.png\" width=\"200\" alt=\"Skills Network Logo\"  />\n",
    "    </a>\n",
    "</p>\n",
    "\n",
    "# Decoder Causal Language Models\n",
    "\n",
    "Estimated time needed: **45** minutes\n",
    "\n",
    "In this tutorial, you'll learn how to build and train a decoder GPT-like model, which is great for generating text and other natural language processing tasks. We'll start with the basics, like getting our environment ready and preparing our data by breaking it down into tokens and turning those tokens into numbers the model can understand. Then, we'll dive into building the model itself, focusing on how it learns to pay attention to different parts of the text to generate text. Along the way, we'll cover how to train our model with data. Finally, we'll see how to use our trained model to create text based on what it has learned.\n",
    "\n",
    "## GPT models\n",
    "\n",
    "GPT (Generative Pretrained Transformer) is a decoder-only model because it is trained using a causal language modeling objective, where the goal is to predict the next token in a sequence given the previous tokens. During training, the input sequence is shifted to the right, and the model learns to generate output tokens autoregressively, one at a time. This process allows GPT to generate coherent and contextually relevant text based on the given input prompt. In this lab you will learn how to create and train a decoder-only GPT-like model. However, please note that the actual GPT models are larger models and are trained on massive training data for specific NLP tasks.\n",
    "\n",
    "## GPT vs. ChatGPT\n",
    "\n",
    "GPT and ChatGPT are both AI models developed by OpenAI, but they serve different purposes and have distinct functionalities.\n",
    "\n",
    "GPT is a family of large-scale transformer-based language models trained on diverse internet text data. GPT models are designed for a wide range of natural language processing tasks, such as text generation, translation, summarization, and question-answering. They generate responses based on the input text (prompt) but do not maintain a consistent conversation history.\n",
    "\n",
    "On the other hand, ChatGPT is a fine-tuned version of the GPT model, specifically designed for conversational AI applications. It is trained to maintain a consistent conversation history and generate contextually relevant responses, making it more suitable for chatbot-like interactions. ChatGPT excels at understanding and generating human-like dialogues, providing coherent and engaging responses in a conversational setting.\n"
   ]
  },
  {
   "cell_type": "markdown",
   "id": "70635a39-d922-4082-a309-bee44856700c",
   "metadata": {},
   "source": [
    "## __Table of contents__\n",
    "\n",
    "<ol>\n",
    "    <li><a href=\"#Objectives\">Objectives</a></li>\n",
    "    <li>\n",
    "        <a href=\"#Setup\">Setup</a>\n",
    "        <ol>\n",
    "            <li><a href=\"#Installing-required-libraries\">Installing required libraries</a></li>\n",
    "            <li><a href=\"#Importing-required-libraries\">Importing required libraries</a></li>\n",
    "        </ol>\n",
    "    </li>\n",
    "    <li>\n",
    "        <a href=\"#Text-pipeline\">Text pipeline</a>\n",
    "        <ol>\n",
    "            <li><a href=\"#Dataset\">Dataset</a></li>\n",
    "            <li> <a href=\"#Collate-function\">Collate function</a></li> \n",
    "        </ol>\n",
    "    </li>\n",
    "    <li><a href=\"#Model-prerequisites\">Model prerequisites</a>\n",
    "        <ol>\n",
    "            <li><a href=\"#Masking\">Masking</a></li>\n",
    "            <li><a href=\"#Positional-encoding\">Positional encoding</a></li>\n",
    "            <li><a href=\"#Token-embedding\">Token embedding</a></li>\n",
    "        </ol>\n",
    "    </li>\n",
    "    <li>\n",
    "        <a href=\"#Custom-GPT-model-architecture\">Custom GPT model architecture</a>\n",
    "        <ol>\n",
    "            <li><a href=\"#Model-configuration-and-initialization\">Model configuration and initialization</a></li>\n",
    "            <li><a href=\"#Iterating-through-data-samples\">Iterating through data samples</a></li>\n",
    "        </ol>\n",
    "    </li>\n",
    "    <li>\n",
    "        <a href=\"#Full-output\">Full output</a>\n",
    "        <ol>\n",
    "            <li><a href=\"#Decoding-the-differences:-Training-vs.-inference\">Decoding the differences: Training vs. inference</a></li>\n",
    "            <li><a href=\"#Training-the-model\">Training the model</a></li>\n",
    "            <li><a href=\"#Loading-the-saved-model\">Loading the saved model</a></li>\n",
    "            <li><a href=\"#Loading-GPT2-model-from-HuggingFace\">Loading GPT2 model from HuggingFace</a></li>\n",
    "        </ol>\n",
    "    </li>\n",
    "      <li>\n",
    "        <a href=\"#Exercise:-Creating-a-decoder-model\">Exercise: Creating a decoder model</a>\n",
    "    </li>\n",
    "</ol>\n"
   ]
  },
  {
   "cell_type": "markdown",
   "id": "25ca4c71-8088-4d8e-bb1c-d45a6e1a2c95",
   "metadata": {},
   "source": [
    "## Objectives\n",
    "\n",
    "After going through this tutorial, you'll be able to:\n",
    "\n",
    "- Understand how to pick random samples from your data and break text down into tokens.\n",
    "- Learn how to turn tokens into a vocabulary that your model can use to understand and process text.\n",
    "- Master the setup of the decoder model architecture, including how it uses attention to generate text.\n",
    "- Get familiar with training a decoder model, including how to feed it data and improve its performance over time.\n",
    "- Use your trained decoder model to generate text.\n"
   ]
  },
  {
   "cell_type": "markdown",
   "id": "8d500d4a-b01b-40b4-96c9-66b904d1a6da",
   "metadata": {},
   "source": [
    "## Setup\n"
   ]
  },
  {
   "cell_type": "markdown",
   "id": "b0a67bb1-881f-4b6a-8c72-bf5bbbff427c",
   "metadata": {},
   "source": [
    "### Installing required libraries\n",
    "\n",
    "The following required libraries are __not__ pre-installed in the Skills Network Labs environment. __You will need to run the following cell__ to install them:\n",
    "\n",
    "```bash\n",
    "!pip install -U torchdata==0.7.1\n",
    "!pip install -Uqq portalocker>=2.0.0\n",
    "!pip install -qq torchtext==0.17.1\n",
    "!pip install -qq matplotlib\n",
    "!pip install -qq transformers\n",
    "```"
   ]
  },
  {
   "cell_type": "markdown",
   "id": "3c4bc803-a73a-4a14-a289-55b739777113",
   "metadata": {},
   "source": [
    "- **torchdata**: Enhances data loading and preprocessing functionalities for PyTorch, streamlining the workflow for machine learning models.\n",
    "- **portalocker**: Provides a mechanism to lock files, ensuring that only one process can access a file at a time, useful for managing file resources in concurrent applications.\n",
    "- **torchtext**: Offers utilities for text processing and datasets in PyTorch, simplifying the preparation of data for NLP tasks.\n",
    "- **matplotlib**: A plotting library for creating static, interactive, and animated visualizations in Python, commonly used for data visualization and graphical plotting tasks.\n",
    "\n",
    "Each of these libraries is used to handle different aspects of data preparation, processing, and model training for machine learning and natural language processing applications, enhancing the overall workflow and capabilities of the project.\n"
   ]
  },
  {
   "cell_type": "code",
   "execution_count": 1,
   "id": "121f56c8-58c2-4309-92cd-b6055de797c8",
   "metadata": {},
   "outputs": [
    {
     "name": "stdout",
     "output_type": "stream",
     "text": [
      "True\n",
      "Tesla P40\n",
      "Import Successfully!\n"
     ]
    }
   ],
   "source": [
    "import os\n",
    "\n",
    "import math\n",
    "import time\n",
    "import torch\n",
    "import torch.nn as nn\n",
    "import matplotlib.pyplot as plt\n",
    "\n",
    "from datasets import load_dataset, Dataset\n",
    "from typing import Iterable, List\n",
    "\n",
    "\n",
    "from torch import Tensor\n",
    "from torch.nn import Transformer\n",
    "from torch.optim import Adam\n",
    "from torch.utils.data import DataLoader\n",
    "from torch.nn.utils.rnn import pad_sequence\n",
    "\n",
    "\n",
    "from torchtext.vocab import Vocab\n",
    "from torchtext.data.utils import get_tokenizer\n",
    "from torchtext.vocab import build_vocab_from_iterator\n",
    "from torchtext.datasets import multi30k, Multi30k\n",
    "from torchtext.datasets import IMDB,PennTreebank\n",
    "\n",
    "from transformers import GPT2Tokenizer, GPT2LMHeadModel\n",
    "\n",
    "# You can also use this section to suppress warnings generated by your code:\n",
    "def warn(*args, **kwargs):\n",
    "    pass\n",
    "import warnings\n",
    "warnings.warn = warn\n",
    "warnings.filterwarnings('ignore')\n",
    "\n",
    "os.environ[\"CUDA_VISIBLE_DEVICES\"]=\"0\"\n",
    "print(torch.cuda.is_available())\n",
    "print(torch.cuda.get_device_name())\n",
    "\n",
    "print(\"Import Successfully!\")"
   ]
  },
  {
   "cell_type": "markdown",
   "id": "1a750087-3054-4de3-9786-9da2be8a85dc",
   "metadata": {},
   "source": [
    "# Text pipeline\n",
    "## Dataset\n",
    "The code loads the IMDB dataset into training, and validation sets. It then creates an iterator for the training set and loops through the first 10 samples, printing each one. This process simulates how one might manually iterate over a dataset without using PyTorch's `DataLoader` for batch processing and data management.\n",
    "\n",
    "When training language models, it is generally advisable to use general-domain text. However, in this case, we are using the IMDB dataset, which is well-suited for classification tasks. However, we use IMDB due to its smaller size and compatibility with machines that have limited RAM. For language modeling tasks, some datasets you can consider include: [PennTreebank](https://pytorch.org/text/0.8.1/datasets.html#penntreebank), [WikiText-2](https://pytorch.org/text/0.8.1/datasets.html#wikitext-2), [WikiText103](https://pytorch.org/text/0.8.1/datasets.html#wikitext103)\n",
    "\n"
   ]
  },
  {
   "cell_type": "code",
   "execution_count": 2,
   "id": "6180e30b-41fc-41d9-913e-64f8e020c240",
   "metadata": {},
   "outputs": [
    {
     "name": "stdout",
     "output_type": "stream",
     "text": [
      "{'text': 'I rented I AM CURIOUS-YELLOW from my video store because of all the controversy that surrounded it when it was first released in 1967. I also heard that at first it was seized by U.S. customs if it ever tried to enter this country, therefore being a fan of films considered \"controversial\" I really had to see this for myself.<br /><br />The plot is centered around a young Swedish drama student named Lena who wants to learn everything she can about life. In particular she wants to focus her attentions to making some sort of documentary on what the average Swede thought about certain political issues such as the Vietnam War and race issues in the United States. In between asking politicians and ordinary denizens of Stockholm about their opinions on politics, she has sex with her drama teacher, classmates, and married men.<br /><br />What kills me about I AM CURIOUS-YELLOW is that 40 years ago, this was considered pornographic. Really, the sex and nudity scenes are few and far between, even then it\\'s not shot like some cheaply made porno. While my countrymen mind find it shocking, in reality sex and nudity are a major staple in Swedish cinema. Even Ingmar Bergman, arguably their answer to good old boy John Ford, had sex scenes in his films.<br /><br />I do commend the filmmakers for the fact that any sex shown in the film is shown for artistic purposes rather than just to shock people and make money to be shown in pornographic theaters in America. I AM CURIOUS-YELLOW is a good film for anyone wanting to study the meat and potatoes (no pun intended) of Swedish cinema. But really, this film doesn\\'t have much of a plot.', 'label': 0}\n"
     ]
    }
   ],
   "source": [
    "# Load the dataset\n",
    "# train_iter, val_iter = IMDB()\n",
    "\n",
    "# Load IMDB dataset\n",
    "dataset = load_dataset('imdb')\n",
    "\n",
    "# Access the train and test splits\n",
    "train_iter = dataset['train']\n",
    "val_iter = dataset['test']\n",
    "\n",
    "# Example: Print the first example\n",
    "print(train_iter[0])\n"
   ]
  },
  {
   "cell_type": "markdown",
   "id": "fab1535d-9055-4477-a9d6-e62d7d7e7dd3",
   "metadata": {},
   "source": [
    "Initialize an iterator for the train data loader:\n"
   ]
  },
  {
   "cell_type": "code",
   "execution_count": 3,
   "id": "bfe3b2f3-bce8-4da7-80bf-89f57171fd26",
   "metadata": {},
   "outputs": [],
   "source": [
    "# # retriving the third first record\n",
    "# data_itr = iter(train_iter)\n",
    "# next(data_itr)\n",
    "# next(data_itr)\n",
    "# next(data_itr)"
   ]
  },
  {
   "cell_type": "markdown",
   "id": "0243cfc1-5bf1-442c-b165-09c5461f0ac9",
   "metadata": {},
   "source": [
    "Let's define our device (CPU or GPU) for training. We'll check if a GPU is available and use it; otherwise, we'll use the CPU.\n"
   ]
  },
  {
   "cell_type": "code",
   "execution_count": 4,
   "id": "1175b40d-14aa-4b54-8fe7-c42341c9288a",
   "metadata": {},
   "outputs": [
    {
     "data": {
      "text/plain": [
       "device(type='cuda')"
      ]
     },
     "execution_count": 4,
     "metadata": {},
     "output_type": "execute_result"
    }
   ],
   "source": [
    "DEVICE = torch.device('cuda' if torch.cuda.is_available() else 'cpu')\n",
    "DEVICE"
   ]
  },
  {
   "cell_type": "markdown",
   "id": "949f77e3-7cd8-4322-a16f-eeb11ba6f903",
   "metadata": {},
   "source": [
    "\n",
    "## Preprocessing data\n",
    "The provided code is used for preprocessing text data, particularly for NLP tasks, with a focus on tokenization and vocabulary building.\n",
    "\n",
    "- **Special Symbols and Indices**: Initializes special tokens (`<unk>`, `<pad>`, and an empty string for EOS) with their corresponding indices (`0`, `1`, and `2`). These tokens are used for unknown words, padding, and end of sentence respectively.\n",
    "    - `UNK_IDX`: Index for unknown words.\n",
    "    - `PAD_IDX`: Index used for padding shorter sentences in a batch to ensure uniform length.\n",
    "    - `EOS_IDX`: Index representing the end of a sentence (though not explicitly used here as the EOS symbol is set to an empty string).\n",
    "\n",
    "- **`yield_tokens` Function**: A generator function that iterates through a dataset (`data_iter`), tokenizing each data sample using a `tokenizer` function, and yields one tokenized sample at a time.\n",
    "\n",
    "- **Vocabulary building**: Constructs a vocabulary from the tokenized dataset. The `build_vocab_from_iterator` function processes tokens generated by `yield_tokens`, includes special tokens (`special_symbols`) at the beginning of the vocabulary, and sets a minimum frequency (`min_freq=1`) for tokens to be included.\n",
    "\n",
    "- **Default index for unknown tokens**: Sets a default index for tokens not found in the vocabulary (`UNK_IDX`), ensuring that out-of-vocabulary words are handled as unknown tokens.\n",
    "\n",
    "- **`text_to_index` function**: Converts a given text into a sequence of indices based on the built vocabulary. This function is essential for transforming raw text into a numerical format that can be processed by machine learning models.\n",
    "\n",
    "- **`index_to_en` function**: Transforms a sequence of indices back into a readable string. It's useful for interpreting the outputs of models and converting numerical predictions back into text.\n",
    "\n",
    "- **Check functionality**: Demonstrates the use of `index_to_en` by converting a tensor of indices `[0,1,2]` back into their corresponding special symbols. This helps verify that the vocabulary and index conversion functions are working as expected.\n"
   ]
  },
  {
   "cell_type": "code",
   "execution_count": 5,
   "id": "2b0aeb73-f578-4b7f-b683-eb1396f06e25",
   "metadata": {},
   "outputs": [],
   "source": [
    "# Define special symbols and indices\n",
    "UNK_IDX, PAD_IDX, EOS_IDX = 0, 1, 2\n",
    "# Make sure the tokens are in order of their indices to properly insert them in vocab\n",
    "special_symbols = ['<unk>', '<pad>', '<|endoftext|>' ]"
   ]
  },
  {
   "cell_type": "code",
   "execution_count": 6,
   "id": "4ba3ec94-bd43-4e92-8941-2a6274e408f3",
   "metadata": {},
   "outputs": [],
   "source": [
    "tokenizer = get_tokenizer('basic_english')"
   ]
  },
  {
   "cell_type": "code",
   "execution_count": 7,
   "id": "2277d7fa-16bf-44ea-ae88-f198bf6defdc",
   "metadata": {},
   "outputs": [],
   "source": [
    "# Function to yield tokens from the dataset\n",
    "def yield_tokens(data_iter):\n",
    "    for example in data_iter:\n",
    "        # Tokenize the text field (IMDB reviews are in the 'text' column)\n",
    "        yield tokenizer(example['text'])"
   ]
  },
  {
   "cell_type": "code",
   "execution_count": 8,
   "id": "fffa3f36-f29f-46cc-8332-ba11feaa129b",
   "metadata": {},
   "outputs": [],
   "source": [
    "vocab = build_vocab_from_iterator(yield_tokens(train_iter), specials=special_symbols, special_first=True)\n",
    "vocab.set_default_index(UNK_IDX)"
   ]
  },
  {
   "cell_type": "code",
   "execution_count": 9,
   "id": "5cdb71c7-dbb2-426b-96da-42ec138ac4a4",
   "metadata": {},
   "outputs": [
    {
     "name": "stdout",
     "output_type": "stream",
     "text": [
      "Vocabulary size: 100685\n",
      "First 10 tokens: [('₤250', 100684), ('₤100', 100683), ('“you’ve', 100681), ('“x”', 100680), ('“sanatorium”', 100679), ('“playboy”', 100678), ('“mr', 100675), ('“jean', 100672), ('“it’s', 100670), ('“him”', 100669)]\n"
     ]
    }
   ],
   "source": [
    "# Print vocabulary size and some tokens\n",
    "print(\"Vocabulary size:\", len(vocab))\n",
    "print(\"First 10 tokens:\", list(vocab.get_stoi().items())[:10])"
   ]
  },
  {
   "cell_type": "code",
   "execution_count": 10,
   "id": "b2e7fd6a-c122-4b7e-a1dc-0766c54e2875",
   "metadata": {},
   "outputs": [
    {
     "name": "stdout",
     "output_type": "stream",
     "text": [
      "Token IDs for sample text: [15, 11, 42, 477, 22, 37]\n"
     ]
    }
   ],
   "source": [
    "# Example: Convert a sample text into token IDs\n",
    "sample_text = \"This is an amazing movie!\"\n",
    "token_ids = [vocab[token] for token in tokenizer(sample_text)]  # Use vocab to convert tokens to ids\n",
    "print(\"Token IDs for sample text:\", token_ids)"
   ]
  },
  {
   "cell_type": "markdown",
   "id": "7b25f7bd-f084-4f3d-8236-262b930e10e1",
   "metadata": {},
   "source": [
    ">Note : **The above block should be complete in less than 20 seconds.If it takes longer than that, it is advisable to `Restart the kernel` and run the cells following the cell containing the `pip install` commands to ensure that the function mentioned above operates as intended.**\n"
   ]
  },
  {
   "cell_type": "markdown",
   "id": "933d95ce-e244-4f80-bee5-79901f735fc5",
   "metadata": {},
   "source": [
    "###  Text to index and index to Text\n"
   ]
  },
  {
   "cell_type": "code",
   "execution_count": 11,
   "id": "f49b7f13-5558-4e13-9d2a-19a453647dc4",
   "metadata": {},
   "outputs": [],
   "source": [
    "text_to_index=lambda text: [vocab(token) for token in tokenizer(text)]\n",
    "index_to_en = lambda seq_en: \" \".join([vocab.get_itos()[index] for index in seq_en])"
   ]
  },
  {
   "cell_type": "code",
   "execution_count": 12,
   "id": "4533929f-3c7b-4d95-a867-e34878108cc1",
   "metadata": {},
   "outputs": [
    {
     "data": {
      "text/plain": [
       "'<unk> <pad> <|endoftext|>'"
      ]
     },
     "execution_count": 12,
     "metadata": {},
     "output_type": "execute_result"
    }
   ],
   "source": [
    "#check\n",
    "index_to_en(torch.tensor([0,1,2]))"
   ]
  },
  {
   "cell_type": "markdown",
   "id": "7a54f7d0-edf4-41eb-8700-e6c6c657fba2",
   "metadata": {},
   "source": [
    "### Collate function\n",
    "In the context of our decoder model, we aim to create a collate function. This function takes a block of text as input and produces a modified block of text as output. The actual text transformation is achieved through the use of the `get_sample(block_size, text)` function. The **get_sample** function generates a random text sample(src_sequence) and its subsequent sequence(tgt_sequence) from a given text for language model training. It ensures the sample fits within the specified block size and adjusts for text shorter than the block size, returning both the source and target sequences for model input.\n"
   ]
  },
  {
   "cell_type": "code",
   "execution_count": 13,
   "id": "815e7a4b-c453-4312-a5c9-9738182a68dc",
   "metadata": {},
   "outputs": [],
   "source": [
    "def get_sample(block_size, text):\n",
    "    # Determine the length of the input text\n",
    "    sample_leg = len(text)\n",
    "    # Calculate the stopping point for randomly selecting a sample\n",
    "    # This ensures the selected sample doesn't exceed the text length\n",
    "    random_sample_stop = sample_leg - block_size\n",
    "\n",
    "\n",
    "    # Check if a random sample can be taken (if the text is longer than block_size)\n",
    "    if random_sample_stop >= 1:\n",
    "        # Randomly select a starting point for the sample\n",
    "        random_start = torch.randint(low=0, high=random_sample_stop, size=(1,)).item()\n",
    "        # Define the endpoint of the sample\n",
    "        stop = random_start + block_size\n",
    "\n",
    "        # Create the input and target sequences\n",
    "        src_sequence = text[random_start:stop]\n",
    "        tgt_sequence= text[random_start + 1:stop + 1]\n",
    "\n",
    "    # Handle the case where the text length is exactly equal or less the block size\n",
    "    elif random_sample_stop <= 0:\n",
    "        # Start from the beginning and use the entire text\n",
    "        random_start = 0\n",
    "        stop = sample_leg\n",
    "        src_sequence= text[random_start:stop]\n",
    "        tgt_sequence = text[random_start + 1:stop]\n",
    "        # Append an empty string to maintain sequence alignment\n",
    "        tgt_sequence.append( '<|endoftext|>')\n",
    "\n",
    "    return src_sequence, tgt_sequence"
   ]
  },
  {
   "cell_type": "markdown",
   "id": "f521305d-a3ff-4344-a673-27dead3caa55",
   "metadata": {},
   "source": [
    "Lets test `get_sample(block_size, text)` first and get batch of texts:\n"
   ]
  },
  {
   "cell_type": "code",
   "execution_count": 14,
   "id": "193358da-a2dd-4e64-a448-103c6d1f1f6d",
   "metadata": {},
   "outputs": [],
   "source": [
    "BATCH_SIZE=1\n",
    "\n",
    "batch_of_tokens=[]\n",
    "\n",
    "for i in range(BATCH_SIZE):\n",
    "    example =next(iter(train_iter))\n",
    "    text = example['text']\n",
    "    batch_of_tokens.append(tokenizer(text))"
   ]
  },
  {
   "cell_type": "markdown",
   "id": "e75180f1-355f-4fb6-b8a2-8fb602cb14bb",
   "metadata": {},
   "source": [
    "Get first smaple of text\n"
   ]
  },
  {
   "cell_type": "code",
   "execution_count": 15,
   "id": "23cd1cea-9519-4987-a1dd-e02c4d2706e0",
   "metadata": {},
   "outputs": [
    {
     "data": {
      "text/plain": [
       "[['i',\n",
       "  'rented',\n",
       "  'i',\n",
       "  'am',\n",
       "  'curious-yellow',\n",
       "  'from',\n",
       "  'my',\n",
       "  'video',\n",
       "  'store',\n",
       "  'because',\n",
       "  'of',\n",
       "  'all',\n",
       "  'the',\n",
       "  'controversy',\n",
       "  'that',\n",
       "  'surrounded',\n",
       "  'it',\n",
       "  'when',\n",
       "  'it',\n",
       "  'was',\n",
       "  'first',\n",
       "  'released',\n",
       "  'in',\n",
       "  '1967',\n",
       "  '.',\n",
       "  'i',\n",
       "  'also',\n",
       "  'heard',\n",
       "  'that',\n",
       "  'at',\n",
       "  'first',\n",
       "  'it',\n",
       "  'was',\n",
       "  'seized',\n",
       "  'by',\n",
       "  'u',\n",
       "  '.',\n",
       "  's',\n",
       "  '.',\n",
       "  'customs',\n",
       "  'if',\n",
       "  'it',\n",
       "  'ever',\n",
       "  'tried',\n",
       "  'to',\n",
       "  'enter',\n",
       "  'this',\n",
       "  'country',\n",
       "  ',',\n",
       "  'therefore',\n",
       "  'being',\n",
       "  'a',\n",
       "  'fan',\n",
       "  'of',\n",
       "  'films',\n",
       "  'considered',\n",
       "  'controversial',\n",
       "  'i',\n",
       "  'really',\n",
       "  'had',\n",
       "  'to',\n",
       "  'see',\n",
       "  'this',\n",
       "  'for',\n",
       "  'myself',\n",
       "  '.',\n",
       "  'the',\n",
       "  'plot',\n",
       "  'is',\n",
       "  'centered',\n",
       "  'around',\n",
       "  'a',\n",
       "  'young',\n",
       "  'swedish',\n",
       "  'drama',\n",
       "  'student',\n",
       "  'named',\n",
       "  'lena',\n",
       "  'who',\n",
       "  'wants',\n",
       "  'to',\n",
       "  'learn',\n",
       "  'everything',\n",
       "  'she',\n",
       "  'can',\n",
       "  'about',\n",
       "  'life',\n",
       "  '.',\n",
       "  'in',\n",
       "  'particular',\n",
       "  'she',\n",
       "  'wants',\n",
       "  'to',\n",
       "  'focus',\n",
       "  'her',\n",
       "  'attentions',\n",
       "  'to',\n",
       "  'making',\n",
       "  'some',\n",
       "  'sort',\n",
       "  'of',\n",
       "  'documentary',\n",
       "  'on',\n",
       "  'what',\n",
       "  'the',\n",
       "  'average',\n",
       "  'swede',\n",
       "  'thought',\n",
       "  'about',\n",
       "  'certain',\n",
       "  'political',\n",
       "  'issues',\n",
       "  'such',\n",
       "  'as',\n",
       "  'the',\n",
       "  'vietnam',\n",
       "  'war',\n",
       "  'and',\n",
       "  'race',\n",
       "  'issues',\n",
       "  'in',\n",
       "  'the',\n",
       "  'united',\n",
       "  'states',\n",
       "  '.',\n",
       "  'in',\n",
       "  'between',\n",
       "  'asking',\n",
       "  'politicians',\n",
       "  'and',\n",
       "  'ordinary',\n",
       "  'denizens',\n",
       "  'of',\n",
       "  'stockholm',\n",
       "  'about',\n",
       "  'their',\n",
       "  'opinions',\n",
       "  'on',\n",
       "  'politics',\n",
       "  ',',\n",
       "  'she',\n",
       "  'has',\n",
       "  'sex',\n",
       "  'with',\n",
       "  'her',\n",
       "  'drama',\n",
       "  'teacher',\n",
       "  ',',\n",
       "  'classmates',\n",
       "  ',',\n",
       "  'and',\n",
       "  'married',\n",
       "  'men',\n",
       "  '.',\n",
       "  'what',\n",
       "  'kills',\n",
       "  'me',\n",
       "  'about',\n",
       "  'i',\n",
       "  'am',\n",
       "  'curious-yellow',\n",
       "  'is',\n",
       "  'that',\n",
       "  '40',\n",
       "  'years',\n",
       "  'ago',\n",
       "  ',',\n",
       "  'this',\n",
       "  'was',\n",
       "  'considered',\n",
       "  'pornographic',\n",
       "  '.',\n",
       "  'really',\n",
       "  ',',\n",
       "  'the',\n",
       "  'sex',\n",
       "  'and',\n",
       "  'nudity',\n",
       "  'scenes',\n",
       "  'are',\n",
       "  'few',\n",
       "  'and',\n",
       "  'far',\n",
       "  'between',\n",
       "  ',',\n",
       "  'even',\n",
       "  'then',\n",
       "  'it',\n",
       "  \"'\",\n",
       "  's',\n",
       "  'not',\n",
       "  'shot',\n",
       "  'like',\n",
       "  'some',\n",
       "  'cheaply',\n",
       "  'made',\n",
       "  'porno',\n",
       "  '.',\n",
       "  'while',\n",
       "  'my',\n",
       "  'countrymen',\n",
       "  'mind',\n",
       "  'find',\n",
       "  'it',\n",
       "  'shocking',\n",
       "  ',',\n",
       "  'in',\n",
       "  'reality',\n",
       "  'sex',\n",
       "  'and',\n",
       "  'nudity',\n",
       "  'are',\n",
       "  'a',\n",
       "  'major',\n",
       "  'staple',\n",
       "  'in',\n",
       "  'swedish',\n",
       "  'cinema',\n",
       "  '.',\n",
       "  'even',\n",
       "  'ingmar',\n",
       "  'bergman',\n",
       "  ',',\n",
       "  'arguably',\n",
       "  'their',\n",
       "  'answer',\n",
       "  'to',\n",
       "  'good',\n",
       "  'old',\n",
       "  'boy',\n",
       "  'john',\n",
       "  'ford',\n",
       "  ',',\n",
       "  'had',\n",
       "  'sex',\n",
       "  'scenes',\n",
       "  'in',\n",
       "  'his',\n",
       "  'films',\n",
       "  '.',\n",
       "  'i',\n",
       "  'do',\n",
       "  'commend',\n",
       "  'the',\n",
       "  'filmmakers',\n",
       "  'for',\n",
       "  'the',\n",
       "  'fact',\n",
       "  'that',\n",
       "  'any',\n",
       "  'sex',\n",
       "  'shown',\n",
       "  'in',\n",
       "  'the',\n",
       "  'film',\n",
       "  'is',\n",
       "  'shown',\n",
       "  'for',\n",
       "  'artistic',\n",
       "  'purposes',\n",
       "  'rather',\n",
       "  'than',\n",
       "  'just',\n",
       "  'to',\n",
       "  'shock',\n",
       "  'people',\n",
       "  'and',\n",
       "  'make',\n",
       "  'money',\n",
       "  'to',\n",
       "  'be',\n",
       "  'shown',\n",
       "  'in',\n",
       "  'pornographic',\n",
       "  'theaters',\n",
       "  'in',\n",
       "  'america',\n",
       "  '.',\n",
       "  'i',\n",
       "  'am',\n",
       "  'curious-yellow',\n",
       "  'is',\n",
       "  'a',\n",
       "  'good',\n",
       "  'film',\n",
       "  'for',\n",
       "  'anyone',\n",
       "  'wanting',\n",
       "  'to',\n",
       "  'study',\n",
       "  'the',\n",
       "  'meat',\n",
       "  'and',\n",
       "  'potatoes',\n",
       "  '(',\n",
       "  'no',\n",
       "  'pun',\n",
       "  'intended',\n",
       "  ')',\n",
       "  'of',\n",
       "  'swedish',\n",
       "  'cinema',\n",
       "  '.',\n",
       "  'but',\n",
       "  'really',\n",
       "  ',',\n",
       "  'this',\n",
       "  'film',\n",
       "  'doesn',\n",
       "  \"'\",\n",
       "  't',\n",
       "  'have',\n",
       "  'much',\n",
       "  'of',\n",
       "  'a',\n",
       "  'plot',\n",
       "  '.']]"
      ]
     },
     "execution_count": 15,
     "metadata": {},
     "output_type": "execute_result"
    }
   ],
   "source": [
    "text=batch_of_tokens[0][0:100]\n",
    "text[0:100]\n",
    "batch_of_tokens"
   ]
  },
  {
   "cell_type": "markdown",
   "id": "56df57a5-bb09-49cf-8a6f-75f85cc9774d",
   "metadata": {},
   "source": [
    "To test the get_sample function with a block size of 100, where the output includes both the source sequence and the target sequence, with the target sequence being the source sequence shifted by one character, you can use the following code as an example:\n"
   ]
  },
  {
   "cell_type": "code",
   "execution_count": 16,
   "id": "5ff39558-befe-42ae-9efc-34904aa62690",
   "metadata": {},
   "outputs": [],
   "source": [
    "block_size=10\n",
    "src_sequences, tgt_sequence=get_sample( block_size, text)"
   ]
  },
  {
   "cell_type": "markdown",
   "id": "13632212-a0fa-4030-b055-7bab9f76bc6d",
   "metadata": {},
   "source": [
    "Check if seqence is shiffted\n"
   ]
  },
  {
   "cell_type": "code",
   "execution_count": 17,
   "id": "b8496c5e-e683-4e2f-b55d-8ca5f18446c4",
   "metadata": {},
   "outputs": [
    {
     "name": "stdout",
     "output_type": "stream",
     "text": [
      "src:  ['surrounded', 'it', 'when', 'it', 'was', 'first', 'released', 'in', '1967', '.']\n",
      "tgt:  ['it', 'when', 'it', 'was', 'first', 'released', 'in', '1967', '.', 'i']\n"
     ]
    }
   ],
   "source": [
    "print(\"src: \",src_sequences)\n",
    "print(\"tgt: \",tgt_sequence)"
   ]
  },
  {
   "cell_type": "markdown",
   "id": "17f98638-d966-4922-ab00-6dde0bc916ee",
   "metadata": {},
   "source": [
    "The below code creates batches of source (`src_batch`) and target (`tgt_batch`) sequences from a dataset for training NLP models. It loops through the dataset to extract text samples, generates corresponding source and target sequences using the `get_sample` function, converts them into vocabulary indices, and then into PyTorch tensors. Each iteration appends these sequences to their respective batch lists and prints their details, including text, indices, and tensor shapes, for two samples per batch.\n"
   ]
  },
  {
   "cell_type": "code",
   "execution_count": 18,
   "id": "fdb25db5-b123-4204-8692-6c0fac3da84c",
   "metadata": {},
   "outputs": [
    {
     "name": "stdout",
     "output_type": "stream",
     "text": [
      "Sample 0:\n",
      "Source Sequence (Text): ['rented', 'i', 'am', 'curious-yellow', 'from', 'my', 'video', 'store', 'because', 'of']\n",
      "Source Sequence (Indices): [1569, 14, 247, 35469, 44, 65, 399, 1136, 93, 8]\n",
      "Source Sequence (Shape): torch.Size([10])\n",
      "Target Sequence (Text): ['i', 'am', 'curious-yellow', 'from', 'my', 'video', 'store', 'because', 'of', 'all']\n",
      "Target Sequence (Indices): [14, 247, 35469, 44, 65, 399, 1136, 93, 8, 38]\n",
      "Target Sequence (Shape): torch.Size([10])\n",
      "Sample 1:\n",
      "Source Sequence (Text): ['if', 'it', 'ever', 'tried', 'to', 'enter', 'this', 'country', ',', 'therefore']\n",
      "Source Sequence (Indices): [52, 12, 132, 781, 9, 2481, 15, 683, 5, 1576]\n",
      "Source Sequence (Shape): torch.Size([10])\n",
      "Target Sequence (Text): ['it', 'ever', 'tried', 'to', 'enter', 'this', 'country', ',', 'therefore', 'being']\n",
      "Target Sequence (Indices): [12, 132, 781, 9, 2481, 15, 683, 5, 1576, 119]\n",
      "Target Sequence (Shape): torch.Size([10])\n"
     ]
    }
   ],
   "source": [
    "# Initialize empty lists to store source and target sequences\n",
    "src_batch, tgt_batch = [], []\n",
    "\n",
    "# Define the batch size\n",
    "BATCH_SIZE = 2\n",
    "\n",
    "# Loop to create batches of source and target sequences\n",
    "for i in range(BATCH_SIZE):\n",
    "    # Retrieve the next data point from the training iterator\n",
    "    example = next(iter(train_iter))\n",
    "    text = example['text']\n",
    "    # Generate source and target sequences using the get_sample function\n",
    "    src_sequence_text, tgt_sequence_text = get_sample(block_size, tokenizer(text))\n",
    "\n",
    "    # Convert source and target sequences to tokenized vocabulary indices\n",
    "    src_sequence_indices = vocab(src_sequence_text)\n",
    "    tgt_sequence_indices = vocab(tgt_sequence_text)\n",
    "\n",
    "    # Convert the sequences to PyTorch tensors with dtype int64\n",
    "    src_sequence = torch.tensor(src_sequence_indices, dtype=torch.int64)\n",
    "    tgt_sequence = torch.tensor(tgt_sequence_indices, dtype=torch.int64)\n",
    "\n",
    "    # Append the source and target sequences to their respective batches\n",
    "    src_batch.append(src_sequence)\n",
    "    tgt_batch.append(tgt_sequence)\n",
    "\n",
    "    # Print the output for every 2nd sample (adjust as needed)\n",
    "    print(f\"Sample {i}:\")\n",
    "    print(\"Source Sequence (Text):\", src_sequence_text)\n",
    "    print(\"Source Sequence (Indices):\", src_sequence_indices)\n",
    "    print(\"Source Sequence (Shape):\", src_sequence.shape)\n",
    "    print(\"Target Sequence (Text):\", tgt_sequence_text)\n",
    "    print(\"Target Sequence (Indices):\", tgt_sequence_indices)\n",
    "    print(\"Target Sequence (Shape):\", tgt_sequence.shape)"
   ]
  },
  {
   "cell_type": "markdown",
   "id": "93fafe8d-4831-4c2d-88bf-8d822405d329",
   "metadata": {},
   "source": [
    "The `collate_batch` function prepares batches of source and target sequences for training by processing each text sample in a given batch. It generates source and target sequences using the `get_sample` function with a specified block size, converts these sequences to indices using a vocabulary, and transforms them into PyTorch tensors. The sequences are then padded to ensure uniform length across the batch. Finally, it returns the padded source and target batches, ready for training on the specified device (`DEVICE`).\n"
   ]
  },
  {
   "cell_type": "code",
   "execution_count": 19,
   "id": "617cee40-076f-43a3-b63a-a77edb49eda5",
   "metadata": {},
   "outputs": [],
   "source": [
    "BLOCK_SIZE=30\n",
    "def collate_batch(batch):\n",
    "    src_batch, tgt_batch = [], []\n",
    "    for example in batch:\n",
    "        _textt = example['text']\n",
    "        src_sequence,tgt_sequence=get_sample(BLOCK_SIZE,tokenizer(_textt))\n",
    "        src_sequence=vocab(src_sequence)\n",
    "        tgt_sequence=vocab(tgt_sequence)\n",
    "        src_sequence= torch.tensor(src_sequence, dtype=torch.int64)\n",
    "        tgt_sequence = torch.tensor(tgt_sequence, dtype=torch.int64)\n",
    "        src_batch.append(src_sequence)\n",
    "        tgt_batch.append(tgt_sequence)\n",
    "\n",
    "    src_batch = pad_sequence(src_batch, padding_value=PAD_IDX, batch_first=False)\n",
    "    tgt_batch = pad_sequence(tgt_batch, padding_value=PAD_IDX, batch_first=False)\n",
    "\n",
    "    return src_batch.to(DEVICE), tgt_batch.to(DEVICE)"
   ]
  },
  {
   "cell_type": "markdown",
   "id": "65783e20-b5ac-4495-a610-2a963c4866a8",
   "metadata": {},
   "source": [
    "The code sets up data loaders for the training, validation, and testing sets using the `DataLoader` class, with each set utilizing a custom `collate_batch` function for batch processing. The data loaders handle batches of size 1 for simplicity and shuffle the data for randomized access. After initializing the training data loader, it fetches the first batch of source (`src`) and target (`tgt`) sequences. It then iterates over each token in the source sequence, converts them back to text using the `index_to_en` function, and prints the resulting sentences, demonstrating how to access and display preprocessed data ready for model training.\n"
   ]
  },
  {
   "cell_type": "code",
   "execution_count": 20,
   "id": "99445847-5c21-4246-917d-e765c1c116f7",
   "metadata": {},
   "outputs": [],
   "source": [
    "BATCH_SIZE=1\n",
    "dataloader = DataLoader(train_iter, batch_size=BATCH_SIZE, shuffle=True, collate_fn=collate_batch)\n",
    "val_dataloader= DataLoader(val_iter , batch_size=BATCH_SIZE, shuffle=True, collate_fn=collate_batch)"
   ]
  },
  {
   "cell_type": "markdown",
   "id": "63dac3f4-acad-40b0-9a0d-8494628ae3af",
   "metadata": {},
   "source": [
    "### Iterating through data samples\n",
    "\n",
    "The provided code iterates through batches of source-target pairs from a data loader. It demonstrates how to access and print a few samples from the dataset:\n",
    "\n",
    "- We initialize an iterator over the data loader named `dataset`.\n",
    "- A loop runs for 10 iterations to fetch and print the first 10 source-target pairs. For each pair:\n",
    "    - `src` and `trt` (short for target) hold the batch of source and target sequences respectively.\n",
    "    - The `index_to_en` function is used to convert these sequences from numerical indices back to readable text.\n",
    "    - The `sample` number and corresponding source and target texts are printed out.\n",
    "\n",
    "After printing the first 10 samples, the code continues to iterate through the dataset:\n",
    "\n",
    "- It prints the shape of the target and source tensors for the next batch, which provides information about the number of tokens and batch size.\n",
    "- The `index_to_en` function is again used to convert the first sequence of the batch from indices to text for both source and target.\n",
    "- Only the first pair of the remaining batches is printed, and then the loop breaks.\n",
    "\n",
    "This process is useful for verifying that the data loader is functioning correctly and that the sequences are being properly transformed.\n"
   ]
  },
  {
   "cell_type": "code",
   "execution_count": 21,
   "id": "ec0d645b-b18c-4ac9-a763-c37d19a37269",
   "metadata": {},
   "outputs": [
    {
     "name": "stdout",
     "output_type": "stream",
     "text": [
      "sample 0\n",
      "sorce: , this film was an interesting experiment in photography . the colors are comic book bold . i think the director got carried away with his artistic vision over the\n",
      "\n",
      "\n",
      "target: this film was an interesting experiment in photography . the colors are comic book bold . i think the director got carried away with his artistic vision over the look\n",
      "\n",
      "\n",
      "sample 1\n",
      "sorce: mexican movie makers are in this film and it ' s not only that the script is terrible . it ' s just that . . . this movie sucks\n",
      "\n",
      "\n",
      "target: movie makers are in this film and it ' s not only that the script is terrible . it ' s just that . . . this movie sucks .\n",
      "\n",
      "\n",
      "sample 2\n",
      "sorce: -- she ' s really flat here and not just in the chest . her role is supposed to be this lively , nice , caring girl who just keeps\n",
      "\n",
      "\n",
      "target: she ' s really flat here and not just in the chest . her role is supposed to be this lively , nice , caring girl who just keeps getting\n",
      "\n",
      "\n",
      "sample 3\n",
      "sorce: movie including the end . when the movie ended , i sat amazed . . . amazed that i sat through the entire movie waiting for something of interest to\n",
      "\n",
      "\n",
      "target: including the end . when the movie ended , i sat amazed . . . amazed that i sat through the entire movie waiting for something of interest to happen\n",
      "\n",
      "\n",
      "sample 4\n",
      "sorce: heero ) is extremely mundane and the only reason i think , they cast prashant raj in the role of raj is because he has a striking resemblance to amitabh\n",
      "\n",
      "\n",
      "target: ) is extremely mundane and the only reason i think , they cast prashant raj in the role of raj is because he has a striking resemblance to amitabh of\n",
      "\n",
      "\n",
      "sample 5\n",
      "sorce: work . and we ( against many of us ' s will ) watched 700 ' s club , and of course that jerk pat was on ranting and raving\n",
      "\n",
      "\n",
      "target: . and we ( against many of us ' s will ) watched 700 ' s club , and of course that jerk pat was on ranting and raving about\n",
      "\n",
      "\n",
      "sample 6\n",
      "sorce: surfers . i felt as if the documentary had more to do with the nature of the sport , the ideology of the sport , etc . it would have\n",
      "\n",
      "\n",
      "target: . i felt as if the documentary had more to do with the nature of the sport , the ideology of the sport , etc . it would have been\n",
      "\n",
      "\n",
      "sample 7\n",
      "sorce: . . . ) probably no more than 700 dollars to make this movie . it was just hysterical to watch with or without mystery science theater . i am\n",
      "\n",
      "\n",
      "target: . . ) probably no more than 700 dollars to make this movie . it was just hysterical to watch with or without mystery science theater . i am giving\n",
      "\n",
      "\n",
      "sample 8\n",
      "sorce: with doggett spilling his guts out on who hired him to whack stewart it doesn ' t take long for the long arm of the law to arrest stewart '\n",
      "\n",
      "\n",
      "target: doggett spilling his guts out on who hired him to whack stewart it doesn ' t take long for the long arm of the law to arrest stewart ' s\n",
      "\n",
      "\n",
      "sample 9\n",
      "sorce: characters , who don ' t give a toss about their son , and their personalities wear well thin . the story lines are very unoriginal on the most part\n",
      "\n",
      "\n",
      "target: , who don ' t give a toss about their son , and their personalities wear well thin . the story lines are very unoriginal on the most part ,\n",
      "\n",
      "\n"
     ]
    }
   ],
   "source": [
    "dataset=iter(dataloader)\n",
    "for sample in range(10):\n",
    "  src,trt=next(dataset)\n",
    "  print(\"sample\",sample)\n",
    "  print(\"sorce:\",index_to_en(src))\n",
    "  print(\"\\n\")\n",
    "  print(\"target:\",index_to_en(trt))\n",
    "  print(\"\\n\")"
   ]
  },
  {
   "cell_type": "code",
   "execution_count": 22,
   "id": "38ec0b42-19da-4595-a08e-1e4c95c5f9b0",
   "metadata": {},
   "outputs": [
    {
     "name": "stdout",
     "output_type": "stream",
     "text": [
      "torch.Size([30, 1])\n",
      "torch.Size([30, 1])\n",
      "to\n",
      "the\n"
     ]
    }
   ],
   "source": [
    "for  src,trt in dataset:\n",
    "    print(trt.shape)\n",
    "    print(src.shape)\n",
    "    print(index_to_en(src[0,:]))\n",
    "    print(index_to_en(trt[0,:]))\n",
    "    break"
   ]
  },
  {
   "cell_type": "markdown",
   "id": "32682de2-fd8a-4220-8d77-d8a2ccb9a0ac",
   "metadata": {},
   "source": [
    "Make sure source and target is shifted\n"
   ]
  },
  {
   "cell_type": "code",
   "execution_count": 23,
   "id": "34fbfec1-18ed-47a1-943f-0fa878a08e4c",
   "metadata": {},
   "outputs": [
    {
     "name": "stdout",
     "output_type": "stream",
     "text": [
      "source: to the film by moving on to the dry humour if provides , thankfully of a similar standard to his previous films . bulls**t ! this film doesn ' t\n",
      "target: the film by moving on to the dry humour if provides , thankfully of a similar standard to his previous films . bulls**t ! this film doesn ' t try\n"
     ]
    }
   ],
   "source": [
    "print(\"source:\",index_to_en(src))\n",
    "print(\"target:\",index_to_en(trt))"
   ]
  },
  {
   "cell_type": "markdown",
   "id": "9014e252-7df3-4960-8875-31fbad74e776",
   "metadata": {},
   "source": [
    "Now that we've covered data preparation, let's move on to understanding the key components of the Transformer model.\n"
   ]
  },
  {
   "cell_type": "markdown",
   "id": "f792a73e-9992-4959-b1f3-7150350f64cc",
   "metadata": {},
   "source": [
    "## Masking\n",
    "\n",
    "In transformers, masking is crucial for ensuring certain positions are not attended to. The function ```generate_square_subsequent_mask``` produces an upper triangular matrix, which ensures that during decoding, a token can't attend to future tokens of target.\n"
   ]
  },
  {
   "cell_type": "code",
   "execution_count": 24,
   "id": "1f9f8132-dd63-4405-a205-5cae296ff8d9",
   "metadata": {},
   "outputs": [],
   "source": [
    "def generate_square_subsequent_mask(sz,device=DEVICE):\n",
    "    mask = (torch.triu(torch.ones((sz, sz), device=device)) == 1).transpose(0, 1)\n",
    "    mask = mask.float().masked_fill(mask == 0, float('-inf')).masked_fill(mask == 1, float(0.0))\n",
    "    return mask"
   ]
  },
  {
   "cell_type": "markdown",
   "id": "e618f018-433a-4f64-999a-defc4f2ea93a",
   "metadata": {},
   "source": [
    "The ```create_mask function```, on the other hand, generates source masks, based on the provided source sequence.\n"
   ]
  },
  {
   "cell_type": "code",
   "execution_count": 25,
   "id": "ba371a8d-2f52-47a7-ab8f-7f3292c0e329",
   "metadata": {},
   "outputs": [],
   "source": [
    "def create_mask(src,device=DEVICE):\n",
    "    src_seq_len = src.shape[0]\n",
    "    src_mask = generate_square_subsequent_mask(src_seq_len)\n",
    "    src_padding_mask = (src == PAD_IDX).transpose(0, 1)\n",
    "    return src_mask,src_padding_mask"
   ]
  },
  {
   "cell_type": "markdown",
   "id": "0c57d07b-f623-4a14-9f93-e7c2a9de6112",
   "metadata": {},
   "source": [
    "Let's check an example source tensor and its associated masks:\n"
   ]
  },
  {
   "cell_type": "code",
   "execution_count": 26,
   "id": "67e1d301-a185-46e5-ba45-26c11c36916e",
   "metadata": {},
   "outputs": [],
   "source": [
    "#Replace first four tokens with PAD token so we can also check how pad tokens are masked using padding_mask\n",
    "src[0:4]=PAD_IDX"
   ]
  },
  {
   "cell_type": "code",
   "execution_count": 27,
   "id": "8bfcf76f-c254-4518-ab81-3b6b60b3bf67",
   "metadata": {},
   "outputs": [
    {
     "data": {
      "text/plain": [
       "tensor([[    1],\n",
       "        [    1],\n",
       "        [    1],\n",
       "        [    1],\n",
       "        [  748],\n",
       "        [   29],\n",
       "        [    9],\n",
       "        [    3],\n",
       "        [ 2254],\n",
       "        [ 1248],\n",
       "        [   52],\n",
       "        [ 1522],\n",
       "        [    5],\n",
       "        [ 2665],\n",
       "        [    8],\n",
       "        [    7],\n",
       "        [  719],\n",
       "        [ 1282],\n",
       "        [    9],\n",
       "        [   33],\n",
       "        [  932],\n",
       "        [  115],\n",
       "        [    4],\n",
       "        [35008],\n",
       "        [   37],\n",
       "        [   15],\n",
       "        [   24],\n",
       "        [  160],\n",
       "        [   10],\n",
       "        [   28]], device='cuda:0')"
      ]
     },
     "execution_count": 27,
     "metadata": {},
     "output_type": "execute_result"
    }
   ],
   "source": [
    "mask,padding_mask = create_mask(src)\n",
    "src"
   ]
  },
  {
   "cell_type": "code",
   "execution_count": 28,
   "id": "11736da2-1c24-4a18-be7a-65c932e870a0",
   "metadata": {},
   "outputs": [
    {
     "data": {
      "text/plain": [
       "tensor([[0., -inf, -inf, -inf, -inf, -inf, -inf, -inf, -inf, -inf, -inf, -inf, -inf, -inf, -inf, -inf, -inf, -inf, -inf, -inf, -inf, -inf, -inf, -inf,\n",
       "         -inf, -inf, -inf, -inf, -inf, -inf],\n",
       "        [0., 0., -inf, -inf, -inf, -inf, -inf, -inf, -inf, -inf, -inf, -inf, -inf, -inf, -inf, -inf, -inf, -inf, -inf, -inf, -inf, -inf, -inf, -inf,\n",
       "         -inf, -inf, -inf, -inf, -inf, -inf],\n",
       "        [0., 0., 0., -inf, -inf, -inf, -inf, -inf, -inf, -inf, -inf, -inf, -inf, -inf, -inf, -inf, -inf, -inf, -inf, -inf, -inf, -inf, -inf, -inf,\n",
       "         -inf, -inf, -inf, -inf, -inf, -inf],\n",
       "        [0., 0., 0., 0., -inf, -inf, -inf, -inf, -inf, -inf, -inf, -inf, -inf, -inf, -inf, -inf, -inf, -inf, -inf, -inf, -inf, -inf, -inf, -inf,\n",
       "         -inf, -inf, -inf, -inf, -inf, -inf],\n",
       "        [0., 0., 0., 0., 0., -inf, -inf, -inf, -inf, -inf, -inf, -inf, -inf, -inf, -inf, -inf, -inf, -inf, -inf, -inf, -inf, -inf, -inf, -inf,\n",
       "         -inf, -inf, -inf, -inf, -inf, -inf],\n",
       "        [0., 0., 0., 0., 0., 0., -inf, -inf, -inf, -inf, -inf, -inf, -inf, -inf, -inf, -inf, -inf, -inf, -inf, -inf, -inf, -inf, -inf, -inf,\n",
       "         -inf, -inf, -inf, -inf, -inf, -inf],\n",
       "        [0., 0., 0., 0., 0., 0., 0., -inf, -inf, -inf, -inf, -inf, -inf, -inf, -inf, -inf, -inf, -inf, -inf, -inf, -inf, -inf, -inf, -inf,\n",
       "         -inf, -inf, -inf, -inf, -inf, -inf],\n",
       "        [0., 0., 0., 0., 0., 0., 0., 0., -inf, -inf, -inf, -inf, -inf, -inf, -inf, -inf, -inf, -inf, -inf, -inf, -inf, -inf, -inf, -inf,\n",
       "         -inf, -inf, -inf, -inf, -inf, -inf],\n",
       "        [0., 0., 0., 0., 0., 0., 0., 0., 0., -inf, -inf, -inf, -inf, -inf, -inf, -inf, -inf, -inf, -inf, -inf, -inf, -inf, -inf, -inf,\n",
       "         -inf, -inf, -inf, -inf, -inf, -inf],\n",
       "        [0., 0., 0., 0., 0., 0., 0., 0., 0., 0., -inf, -inf, -inf, -inf, -inf, -inf, -inf, -inf, -inf, -inf, -inf, -inf, -inf, -inf,\n",
       "         -inf, -inf, -inf, -inf, -inf, -inf],\n",
       "        [0., 0., 0., 0., 0., 0., 0., 0., 0., 0., 0., -inf, -inf, -inf, -inf, -inf, -inf, -inf, -inf, -inf, -inf, -inf, -inf, -inf,\n",
       "         -inf, -inf, -inf, -inf, -inf, -inf],\n",
       "        [0., 0., 0., 0., 0., 0., 0., 0., 0., 0., 0., 0., -inf, -inf, -inf, -inf, -inf, -inf, -inf, -inf, -inf, -inf, -inf, -inf,\n",
       "         -inf, -inf, -inf, -inf, -inf, -inf],\n",
       "        [0., 0., 0., 0., 0., 0., 0., 0., 0., 0., 0., 0., 0., -inf, -inf, -inf, -inf, -inf, -inf, -inf, -inf, -inf, -inf, -inf,\n",
       "         -inf, -inf, -inf, -inf, -inf, -inf],\n",
       "        [0., 0., 0., 0., 0., 0., 0., 0., 0., 0., 0., 0., 0., 0., -inf, -inf, -inf, -inf, -inf, -inf, -inf, -inf, -inf, -inf,\n",
       "         -inf, -inf, -inf, -inf, -inf, -inf],\n",
       "        [0., 0., 0., 0., 0., 0., 0., 0., 0., 0., 0., 0., 0., 0., 0., -inf, -inf, -inf, -inf, -inf, -inf, -inf, -inf, -inf,\n",
       "         -inf, -inf, -inf, -inf, -inf, -inf],\n",
       "        [0., 0., 0., 0., 0., 0., 0., 0., 0., 0., 0., 0., 0., 0., 0., 0., -inf, -inf, -inf, -inf, -inf, -inf, -inf, -inf,\n",
       "         -inf, -inf, -inf, -inf, -inf, -inf],\n",
       "        [0., 0., 0., 0., 0., 0., 0., 0., 0., 0., 0., 0., 0., 0., 0., 0., 0., -inf, -inf, -inf, -inf, -inf, -inf, -inf,\n",
       "         -inf, -inf, -inf, -inf, -inf, -inf],\n",
       "        [0., 0., 0., 0., 0., 0., 0., 0., 0., 0., 0., 0., 0., 0., 0., 0., 0., 0., -inf, -inf, -inf, -inf, -inf, -inf,\n",
       "         -inf, -inf, -inf, -inf, -inf, -inf],\n",
       "        [0., 0., 0., 0., 0., 0., 0., 0., 0., 0., 0., 0., 0., 0., 0., 0., 0., 0., 0., -inf, -inf, -inf, -inf, -inf,\n",
       "         -inf, -inf, -inf, -inf, -inf, -inf],\n",
       "        [0., 0., 0., 0., 0., 0., 0., 0., 0., 0., 0., 0., 0., 0., 0., 0., 0., 0., 0., 0., -inf, -inf, -inf, -inf,\n",
       "         -inf, -inf, -inf, -inf, -inf, -inf],\n",
       "        [0., 0., 0., 0., 0., 0., 0., 0., 0., 0., 0., 0., 0., 0., 0., 0., 0., 0., 0., 0., 0., -inf, -inf, -inf,\n",
       "         -inf, -inf, -inf, -inf, -inf, -inf],\n",
       "        [0., 0., 0., 0., 0., 0., 0., 0., 0., 0., 0., 0., 0., 0., 0., 0., 0., 0., 0., 0., 0., 0., -inf, -inf,\n",
       "         -inf, -inf, -inf, -inf, -inf, -inf],\n",
       "        [0., 0., 0., 0., 0., 0., 0., 0., 0., 0., 0., 0., 0., 0., 0., 0., 0., 0., 0., 0., 0., 0., 0., -inf,\n",
       "         -inf, -inf, -inf, -inf, -inf, -inf],\n",
       "        [0., 0., 0., 0., 0., 0., 0., 0., 0., 0., 0., 0., 0., 0., 0., 0., 0., 0., 0., 0., 0., 0., 0., 0.,\n",
       "         -inf, -inf, -inf, -inf, -inf, -inf],\n",
       "        [0., 0., 0., 0., 0., 0., 0., 0., 0., 0., 0., 0., 0., 0., 0., 0., 0., 0., 0., 0., 0., 0., 0., 0.,\n",
       "         0., -inf, -inf, -inf, -inf, -inf],\n",
       "        [0., 0., 0., 0., 0., 0., 0., 0., 0., 0., 0., 0., 0., 0., 0., 0., 0., 0., 0., 0., 0., 0., 0., 0.,\n",
       "         0., 0., -inf, -inf, -inf, -inf],\n",
       "        [0., 0., 0., 0., 0., 0., 0., 0., 0., 0., 0., 0., 0., 0., 0., 0., 0., 0., 0., 0., 0., 0., 0., 0.,\n",
       "         0., 0., 0., -inf, -inf, -inf],\n",
       "        [0., 0., 0., 0., 0., 0., 0., 0., 0., 0., 0., 0., 0., 0., 0., 0., 0., 0., 0., 0., 0., 0., 0., 0.,\n",
       "         0., 0., 0., 0., -inf, -inf],\n",
       "        [0., 0., 0., 0., 0., 0., 0., 0., 0., 0., 0., 0., 0., 0., 0., 0., 0., 0., 0., 0., 0., 0., 0., 0.,\n",
       "         0., 0., 0., 0., 0., -inf],\n",
       "        [0., 0., 0., 0., 0., 0., 0., 0., 0., 0., 0., 0., 0., 0., 0., 0., 0., 0., 0., 0., 0., 0., 0., 0.,\n",
       "         0., 0., 0., 0., 0., 0.]], device='cuda:0')"
      ]
     },
     "execution_count": 28,
     "metadata": {},
     "output_type": "execute_result"
    }
   ],
   "source": [
    "mask"
   ]
  },
  {
   "cell_type": "code",
   "execution_count": 29,
   "id": "faad8b98-8bf5-466d-91ef-6c6a9d8465eb",
   "metadata": {},
   "outputs": [
    {
     "data": {
      "text/plain": [
       "tensor([[ True,  True,  True,  True, False, False, False, False, False, False,\n",
       "         False, False, False, False, False, False, False, False, False, False,\n",
       "         False, False, False, False, False, False, False, False, False, False]],\n",
       "       device='cuda:0')"
      ]
     },
     "execution_count": 29,
     "metadata": {},
     "output_type": "execute_result"
    }
   ],
   "source": [
    "padding_mask"
   ]
  },
  {
   "cell_type": "markdown",
   "id": "dc0f35e8-e11c-4cba-a6d8-ad74c26e0c55",
   "metadata": {},
   "source": [
    "## Positional encoding\n",
    "The Transformer model doesn't have built-in knowledge of the order of tokens in the sequence. To give the model this information, positional encodings are added to the embeddings of the tokens. These encodings have a fixed pattern based on their position in the sequence.\n",
    "\n",
    "GPT uses trainable positional encodings. Unlike fixed positional encodings (such as sinusoidal encodings used in the original Transformer paper), trainable positional encodings are learned during the model training process.\n",
    "\n",
    "Trainable positional encodings are implemented as a set of learnable parameters, one for each position in the input sequence. These parameters have the same dimensionality as the token embeddings. During training, the model updates the positional encoding parameters along with the other model parameters to capture the positional information more effectively.\n",
    "\n",
    "The use of trainable positional encodings in GPT allows the model to learn more flexible and task-specific positional representations, potentially improving its performance on various natural language processing tasks.\n",
    "\n",
    "In the context of this lab, we stick with fixed positional encoding for the sake of simplicity.\n"
   ]
  },
  {
   "cell_type": "code",
   "execution_count": 30,
   "id": "abd44240-ec49-483c-a219-cb3365f44a34",
   "metadata": {},
   "outputs": [],
   "source": [
    "# add positional information to the input tokens\n",
    "class PositionalEncoding(nn.Module):\n",
    "    def __init__(self,\n",
    "                 emb_size: int,\n",
    "                 dropout: float,\n",
    "                 maxlen: int = 5000):\n",
    "        super(PositionalEncoding, self).__init__()\n",
    "        den = torch.exp(- torch.arange(0, emb_size, 2)* math.log(10000) / emb_size)\n",
    "        pos = torch.arange(0, maxlen).reshape(maxlen, 1)\n",
    "        pos_embedding = torch.zeros((maxlen, emb_size))\n",
    "        pos_embedding[:, 0::2] = torch.sin(pos * den)\n",
    "        pos_embedding[:, 1::2] = torch.cos(pos * den)\n",
    "        pos_embedding = pos_embedding.unsqueeze(-2)\n",
    "\n",
    "        self.dropout = nn.Dropout(dropout)\n",
    "        self.register_buffer('pos_embedding', pos_embedding)\n",
    "\n",
    "    def forward(self, token_embedding: Tensor):\n",
    "        return self.dropout(token_embedding + self.pos_embedding[:token_embedding.size(0), :])"
   ]
  },
  {
   "cell_type": "markdown",
   "id": "23fb24ae-4bdb-47a4-82ca-d9071d27934c",
   "metadata": {},
   "source": [
    "## Token embedding\n",
    "Token embedding, also known as word embedding or word representation, is a way to convert words or tokens from a text corpus into numerical vectors in a continuous vector space. Each unique word or token in the corpus is assigned a fixed-length vector where the numerical values represent various linguistic properties of the word, such as its meaning, context, or relationships with other words.\n",
    "\n",
    "The `TokenEmbedding` class below converts numerical tokens into embeddings:\n"
   ]
  },
  {
   "cell_type": "code",
   "execution_count": 31,
   "id": "8501c2f8-1873-45e3-aea4-3a9bd0cc0ecb",
   "metadata": {},
   "outputs": [],
   "source": [
    "class TokenEmbedding(nn.Module):\n",
    "    def __init__(self, vocab_size: int, emb_size):\n",
    "        super(TokenEmbedding, self).__init__()\n",
    "        self.embedding = nn.Embedding(vocab_size, emb_size)\n",
    "        self.emb_size = emb_size\n",
    "\n",
    "    def forward(self, tokens: Tensor):\n",
    "        return self.embedding(tokens.long()) * math.sqrt(self.emb_size)"
   ]
  },
  {
   "cell_type": "markdown",
   "id": "e4c6c4be-10e7-48a2-86fa-7f1c1749f6b0",
   "metadata": {},
   "source": [
    "## Custom GPT model architecture\n",
    "\n",
    "The `CustomGPTModel` class defines a transformer-based model architecture for generative pre-trained models. This model aims to generate text and perform various NLP tasks. Below is an explanation of the main components of the class:\n",
    "\n",
    "- **Initialization (`__init__`)**: The constructor takes several parameters including `embed_size`, `vocab_size`, `num_heads`, `num_layers`, `max_seq_len`, and `dropout`. It initializes the embedding layer, positional encoding, transformer encoder layers, and a linear layer (`lm_head`) for generating logits over the vocabulary.\n",
    "\n",
    "- **Weight initialization (`init_weights`)**: This method initializes the weights of the model for better training convergence. The Xavier uniform initialization is used, which is a common practice for initializing weights in deep learning.\n",
    "\n",
    "- **Decoder (`decoder`)**: Although named `decoder`, this method currently functions as the forward pass through the transformer encoder layers, followed by the generation of logits for the language modeling task. It handles the addition of positional encodings to the embeddings and applies a mask if necessary.\n",
    "\n",
    "- **Forward pass (`forward`)**: This method is similar to the `decoder` method and defines the forward computation of the model. It processes the input through embedding layers, positional encoding, transformer encoder layers, and produces the final output using the `lm_head`.\n",
    "\n",
    "- **Mask generation**: Both `decoder` and `forward` methods contain logic to generate a square causal mask if no source mask is provided. This mask ensures that the prediction for a position does not depend on the future tokens in the sequence, which is important for the autoregressive nature of GPT models.\n",
    "\n",
    "- **Commented out decoder**: A section of the code is commented out, suggesting an initial design where a transformer decoder layer was considered. However, the final implementation uses only encoder layers, which is a common simplification for models focusing on language modeling and generation.\n",
    "\n",
    "This class effectively encapsulates the necessary components to create a GPT-like model, allowing for training on language modeling tasks and text generation applications.\n"
   ]
  },
  {
   "cell_type": "code",
   "execution_count": 32,
   "id": "8c719ea8-e283-45b0-9e53-010d8e0ed2a0",
   "metadata": {},
   "outputs": [],
   "source": [
    "class CustomGPTModel(nn.Module):\n",
    "    def __init__(self, embed_size,vocab_size, num_heads, num_layers, max_seq_len=500,dropout=0.1):\n",
    "\n",
    "        super().__init__()\n",
    "\n",
    "        self.init_weights()\n",
    "        self.embed = nn.Embedding(vocab_size, embed_size)\n",
    "        self.positional_encoding = PositionalEncoding(embed_size, dropout=dropout)\n",
    "\n",
    "        print( embed_size )\n",
    "\n",
    "\n",
    "        # Remaining layers are part of the TransformerDecoder\n",
    "        encoder_layers = nn.TransformerEncoderLayer(d_model=embed_size, nhead=num_heads, dropout=dropout)\n",
    "        self.transformer_encoder = nn.TransformerEncoder(encoder_layers, num_layers=num_layers)\n",
    "        self.embed_size = embed_size\n",
    "        self.lm_head = nn.Linear(embed_size, vocab_size)\n",
    "\n",
    "    def init_weights(self):\n",
    "      for p in self.parameters():\n",
    "          if p.dim() > 1:\n",
    "              nn.init.xavier_uniform_(p)\n",
    "\n",
    "    def create_mask(src,device=DEVICE):\n",
    "        src_seq_len = src.shape[0]\n",
    "        src_mask = nn.Transformer.generate_square_subsequent_mask(src_seq_len)\n",
    "        src_padding_mask = (src == PAD_IDX).transpose(0, 1)\n",
    "        return src_mask,src_padding_mask\n",
    "\n",
    "    def decoder(self, x,src_mask):\n",
    "        seq_length = x.size(0)\n",
    "\n",
    "        # Add positional embeddings to the input embeddings\n",
    "        x = self.embed(x)* math.sqrt(self.embed_size)\n",
    "        x = self.positional_encoding(x)\n",
    "\n",
    "        if src_mask is None:\n",
    "            \"\"\"Generate a square causal mask for the sequence. The masked positions are filled with float('-inf').\n",
    "            Unmasked positions are filled with float(0.0).\n",
    "            \"\"\"\n",
    "            src_mask, src_padding_mask = create_mask(x)\n",
    "\n",
    "        output = self.transformer_encoder(x, src_mask)\n",
    "        logits = self.lm_head(x)\n",
    "        return logits\n",
    "\n",
    "    def forward(self,x,src_mask=None,key_padding_mask=None):\n",
    "\n",
    "        seq_length = x.size(0)\n",
    "\n",
    "        # Add positional embeddings to the input embeddings\n",
    "        x = self.embed(x)* math.sqrt(self.embed_size) #src = self.embedding(src) * math.sqrt(self.d_model)\n",
    "        x = self.positional_encoding(x)\n",
    "\n",
    "\n",
    "        if src_mask is None:\n",
    "            \"\"\"Generate a square causal mask for the sequence. The masked positions are filled with float('-inf').\n",
    "            Unmasked positions are filled with float(0.0).\n",
    "            \"\"\"\n",
    "            src_mask, src_padding_mask = create_mask(x)\n",
    "\n",
    "        output = self.transformer_encoder(x, src_mask,key_padding_mask)\n",
    "        x = self.lm_head(x)\n",
    "\n",
    "        return x\n"
   ]
  },
  {
   "cell_type": "markdown",
   "id": "ac672d7f-a8cf-4d4c-9c92-3320824d2dbc",
   "metadata": {},
   "source": [
    "### Model configuration and initialization\n",
    "\n",
    "Here, we configure and instantiate a Custom GPT Model with the following specifications:\n",
    "\n",
    "- `ntokens`: The total number of unique tokens in the vocabulary, which the model will use to represent words.\n",
    "- `emsize`: The size of each embedding vector. In this model, each word will be represented by a 200-dimensional vector.\n",
    "- `nlayers`: The number of transformer encoder layers in the model. We are using two layers in this configuration.\n",
    "- `nhead`: The number of attention heads in the multi-head attention mechanism. The model will use two attention heads.\n",
    "- `dropout`: A regularization technique where randomly selected neurons are ignored during training to prevent overfitting. Here, we set the dropout probability to 0.2.\n",
    "\n",
    "After setting these hyperparameters, we create an instance of `CustomGPTModel` by passing in the embedding size, number of attention heads, number of layers, vocabulary size, and dropout probability. The model is then moved to the specified `DEVICE`, which could be a CPU or GPU, for training or inference.\n"
   ]
  },
  {
   "cell_type": "code",
   "execution_count": 33,
   "id": "b137e2f2-edce-4ef9-8320-6c4be680acfc",
   "metadata": {},
   "outputs": [
    {
     "name": "stdout",
     "output_type": "stream",
     "text": [
      "200\n"
     ]
    }
   ],
   "source": [
    "ntokens = len(vocab)  # size of vocabulary\n",
    "emsize = 200  # embedding dimension\n",
    "nlayers = 2  # number of ``nn.TransformerEncoderLayer`` in ``nn.TransformerEncoder``\n",
    "nhead = 2  # number of heads in ``nn.MultiheadAttention``\n",
    "dropout = 0.2  # dropout probability\n",
    "\n",
    "model = CustomGPTModel(embed_size=emsize, num_heads=nhead, num_layers=nlayers, vocab_size=ntokens,dropout=dropout).to(DEVICE)"
   ]
  },
  {
   "cell_type": "markdown",
   "id": "efdc562e-88de-4413-a76e-6c489380fcd7",
   "metadata": {},
   "source": [
    "### Prompting \n",
    "In order to get the model to generate text (next token), you will need to create an starting point, which we call prompt, for the model to append tokens to it and generate text. Verify that the prompt is neither None nor too long, then proceed to tokenize it, convert it into indices, and reshape as needed.\n"
   ]
  },
  {
   "cell_type": "code",
   "execution_count": 34,
   "id": "757bf645-5201-4d8d-a345-8430512d6421",
   "metadata": {},
   "outputs": [],
   "source": [
    "def encode_prompt(prompt, block_size=BLOCK_SIZE):\n",
    "    # Handle None prompt\n",
    "    while prompt is None:\n",
    "        prompt = input(\"Sorry, prompt cannot be empty. Please enter a valid prompt: \")\n",
    "\n",
    "    tokens = tokenizer(prompt)\n",
    "    number_of_tokens = len(tokens)\n",
    "\n",
    "    # Handle long prompts\n",
    "    if number_of_tokens > block_size:\n",
    "        tokens = tokens[-block_size:]  # Keep last block_size characters\n",
    "\n",
    "    prompt_indices = vocab(tokens)\n",
    "    prompt_encoded = torch.tensor(prompt_indices, dtype=torch.int64).reshape(-1, 1)\n",
    "    return prompt_encoded"
   ]
  },
  {
   "cell_type": "markdown",
   "id": "a749c5ec-620f-45cf-921f-150ee765e41f",
   "metadata": {},
   "source": [
    "Let's see some differnt exmaples where the input is None or longer than block size:\n"
   ]
  },
  {
   "cell_type": "code",
   "execution_count": 35,
   "id": "622a1d64-8884-4a74-838c-4a67d6cca06e",
   "metadata": {},
   "outputs": [
    {
     "name": "stdin",
     "output_type": "stream",
     "text": [
      "Sorry, prompt cannot be empty. Please enter a valid prompt:  Let's write a story\n"
     ]
    },
    {
     "name": "stdout",
     "output_type": "stream",
     "text": [
      "let ' s write a story\n"
     ]
    }
   ],
   "source": [
    "print(index_to_en(encode_prompt(None)))"
   ]
  },
  {
   "cell_type": "code",
   "execution_count": 45,
   "id": "93e372cf-d316-4bcb-9d13-8fa8f56f80dc",
   "metadata": {},
   "outputs": [
    {
     "name": "stdout",
     "output_type": "stream",
     "text": [
      "this is a prompt to get model generate next words .\n"
     ]
    }
   ],
   "source": [
    "print(index_to_en(encode_prompt(\"This is a prompt to get model generate next words.\" ) ))"
   ]
  },
  {
   "cell_type": "markdown",
   "id": "811ad9b5-89e9-4990-a010-6667b26347f1",
   "metadata": {},
   "source": [
    "Now, lets encode a text prompt and run it through the decoder part of the model:\n",
    "\n",
    "- The `decoder` method of the `CustomGPTModel` instance `model` is called with the encoded prompt and without a source mask (`src_mask=None`), indicating that it will not mask any part of the sequence during processing. The decoder will handle creating a causal mask internally if required.\n",
    "- The output `logits` represents the model's raw predictions for each token position, which can be further processed (e.g., by applying a softmax function) to obtain the probabilities of the next token in the sequence.\n"
   ]
  },
  {
   "cell_type": "code",
   "execution_count": 46,
   "id": "6372f0f3-47b1-43e3-91bc-1371c06907a3",
   "metadata": {},
   "outputs": [
    {
     "data": {
      "text/plain": [
       "tensor([[   15],\n",
       "        [   11],\n",
       "        [    7],\n",
       "        [24369],\n",
       "        [    9],\n",
       "        [   84],\n",
       "        [ 2230],\n",
       "        [ 7152],\n",
       "        [  376],\n",
       "        [  703],\n",
       "        [    4]], device='cuda:0')"
      ]
     },
     "execution_count": 46,
     "metadata": {},
     "output_type": "execute_result"
    }
   ],
   "source": [
    "prompt_encoded=encode_prompt(\"This is a prompt to get model generate next words.\").to(DEVICE)\n",
    "prompt_encoded"
   ]
  },
  {
   "cell_type": "code",
   "execution_count": 47,
   "id": "5674bca7-7468-4ef1-9843-18262e2b57cb",
   "metadata": {},
   "outputs": [],
   "source": [
    "logits = model.decoder(prompt_encoded,src_mask=None).to(DEVICE)"
   ]
  },
  {
   "cell_type": "markdown",
   "id": "0f7bebf0-a680-4a1b-9dcb-6f9092786c45",
   "metadata": {},
   "source": [
    "We have 11 tokens per output, an additional batch dimension, along with corresponding logits values for each word in the vocabulary.\n"
   ]
  },
  {
   "cell_type": "code",
   "execution_count": 48,
   "id": "b863d279-0d1e-443c-b441-5ce6538f6300",
   "metadata": {},
   "outputs": [
    {
     "data": {
      "text/plain": [
       "torch.Size([11, 1, 100685])"
      ]
     },
     "execution_count": 48,
     "metadata": {},
     "output_type": "execute_result"
    }
   ],
   "source": [
    "logits.shape"
   ]
  },
  {
   "cell_type": "markdown",
   "id": "19130538-49c7-40b4-bab8-4e4e2a14c05e",
   "metadata": {},
   "source": [
    "Reshape it such that the batch dimension becomes five\n"
   ]
  },
  {
   "cell_type": "code",
   "execution_count": 49,
   "id": "565e8fe7-a7bd-4dfb-8ad0-1f3325d03bd7",
   "metadata": {},
   "outputs": [
    {
     "data": {
      "text/plain": [
       "torch.Size([1, 11, 100685])"
      ]
     },
     "execution_count": 49,
     "metadata": {},
     "output_type": "execute_result"
    }
   ],
   "source": [
    "logits = logits.transpose(0, 1)\n",
    "logits.shape"
   ]
  },
  {
   "cell_type": "markdown",
   "id": "5aba9ea1-8207-4c39-b6f5-6082f6cd5206",
   "metadata": {},
   "source": [
    "Logits contains logits for each token in the sequence generated by the decoder we just need the last one for the next word\n"
   ]
  },
  {
   "cell_type": "code",
   "execution_count": 50,
   "id": "9d2983c5-fff4-4f74-95c1-d5289d11ca23",
   "metadata": {},
   "outputs": [
    {
     "data": {
      "text/plain": [
       "torch.Size([1, 100685])"
      ]
     },
     "execution_count": 50,
     "metadata": {},
     "output_type": "execute_result"
    }
   ],
   "source": [
    "logit_preiction =logits[:,-1]\n",
    "logit_preiction.shape"
   ]
  },
  {
   "cell_type": "markdown",
   "id": "7e6579f5-6a58-4f3d-add7-9845826572b2",
   "metadata": {},
   "source": [
    "Get index of next word\n"
   ]
  },
  {
   "cell_type": "code",
   "execution_count": 51,
   "id": "f0dd4655-a171-4cf4-a999-210aa08690e5",
   "metadata": {},
   "outputs": [
    {
     "data": {
      "text/plain": [
       "tensor([60750], device='cuda:0')"
      ]
     },
     "execution_count": 51,
     "metadata": {},
     "output_type": "execute_result"
    }
   ],
   "source": [
    " _, next_word_index = torch.max(logit_preiction, dim=1)\n",
    " next_word_index"
   ]
  },
  {
   "cell_type": "markdown",
   "id": "4752a008-b4bb-4ce9-ad62-0bf5f579ceff",
   "metadata": {},
   "source": [
    "Next word\n"
   ]
  },
  {
   "cell_type": "code",
   "execution_count": 52,
   "id": "55113aa7-d1cb-46dd-83ab-bb7c5c952bde",
   "metadata": {},
   "outputs": [
    {
     "data": {
      "text/plain": [
       "'chakkraphat'"
      ]
     },
     "execution_count": 52,
     "metadata": {},
     "output_type": "execute_result"
    }
   ],
   "source": [
    "index_to_en(next_word_index)"
   ]
  },
  {
   "cell_type": "markdown",
   "id": "6b26a686-d91c-4fc8-81c2-4456d2a85620",
   "metadata": {},
   "source": [
    "## Autoregressive text generation\n",
    "In decoder models, we simply append the output to the input to generate the next response. We stop this process when we encounter the end-of-sequence tag <|endoftext|> or if the input becomes too large. We will implement it as a function later in this notebook.\n"
   ]
  },
  {
   "cell_type": "code",
   "execution_count": 53,
   "id": "5b846269-a466-463f-abca-f6d64ebc2324",
   "metadata": {},
   "outputs": [],
   "source": [
    "prompt=\"this is the beginning of\""
   ]
  },
  {
   "cell_type": "markdown",
   "id": "51ef4bc4-f09a-4d0f-a8b0-64c3fa9d87cb",
   "metadata": {},
   "source": [
    "Ensuring that the prompt is of the maximum input size and make a prediction\n"
   ]
  },
  {
   "cell_type": "code",
   "execution_count": 54,
   "id": "98456faf-758d-44bd-a040-2dfe4e6a7e85",
   "metadata": {},
   "outputs": [
    {
     "name": "stdout",
     "output_type": "stream",
     "text": [
      "Device for prompt_encoded: torch.Size([5, 1])\n"
     ]
    }
   ],
   "source": [
    "prompt_encoded = encode_prompt(prompt).to(DEVICE)\n",
    "print(\"Device for prompt_encoded:\", prompt_encoded.shape)"
   ]
  },
  {
   "cell_type": "code",
   "execution_count": 55,
   "id": "e57d01bc-9849-485b-af02-09efd99cc559",
   "metadata": {},
   "outputs": [],
   "source": [
    "max_new_tokens=10"
   ]
  },
  {
   "cell_type": "code",
   "execution_count": 56,
   "id": "dbbff63d-b26c-4352-825d-7e69d96157ad",
   "metadata": {},
   "outputs": [
    {
     "name": "stdout",
     "output_type": "stream",
     "text": [
      " \n",
      "Shape of logits at step 0: torch.Size([1, 5, 100685])\n",
      "Shape of logit_prediction at step 0: torch.Size([1, 100685])\n",
      "Shape of next_token_encoded at step 0: torch.Size([1, 1])\n",
      "Sequence for step 0: ['this', 'is', 'the', 'beginning', 'of', 'fraim']\n",
      "Shape of prompt_encoded after concatenation at step 0: torch.Size([6, 1])\n",
      " \n",
      "Shape of logits at step 1: torch.Size([1, 6, 100685])\n",
      "Shape of logit_prediction at step 1: torch.Size([1, 100685])\n",
      "Shape of next_token_encoded at step 1: torch.Size([1, 1])\n",
      "Sequence for step 1: ['this', 'is', 'the', 'beginning', 'of', 'fraim', 'coast']\n",
      "Shape of prompt_encoded after concatenation at step 1: torch.Size([7, 1])\n",
      " \n",
      "Shape of logits at step 2: torch.Size([1, 7, 100685])\n",
      "Shape of logit_prediction at step 2: torch.Size([1, 100685])\n",
      "Shape of next_token_encoded at step 2: torch.Size([1, 1])\n",
      "Sequence for step 2: ['this', 'is', 'the', 'beginning', 'of', 'fraim', 'coast', 'endpieces']\n",
      "Shape of prompt_encoded after concatenation at step 2: torch.Size([8, 1])\n",
      " \n",
      "Shape of logits at step 3: torch.Size([1, 8, 100685])\n",
      "Shape of logit_prediction at step 3: torch.Size([1, 100685])\n",
      "Shape of next_token_encoded at step 3: torch.Size([1, 1])\n",
      "Sequence for step 3: ['this', 'is', 'the', 'beginning', 'of', 'fraim', 'coast', 'endpieces', 'dishwater']\n",
      "Shape of prompt_encoded after concatenation at step 3: torch.Size([9, 1])\n",
      " \n",
      "Shape of logits at step 4: torch.Size([1, 9, 100685])\n",
      "Shape of logit_prediction at step 4: torch.Size([1, 100685])\n",
      "Shape of next_token_encoded at step 4: torch.Size([1, 1])\n",
      "Sequence for step 4: ['this', 'is', 'the', 'beginning', 'of', 'fraim', 'coast', 'endpieces', 'dishwater', 'non-horror']\n",
      "Shape of prompt_encoded after concatenation at step 4: torch.Size([10, 1])\n",
      " \n",
      "Shape of logits at step 5: torch.Size([1, 10, 100685])\n",
      "Shape of logit_prediction at step 5: torch.Size([1, 100685])\n",
      "Shape of next_token_encoded at step 5: torch.Size([1, 1])\n",
      "Sequence for step 5: ['this', 'is', 'the', 'beginning', 'of', 'fraim', 'coast', 'endpieces', 'dishwater', 'non-horror', 'collegiate']\n",
      "Shape of prompt_encoded after concatenation at step 5: torch.Size([11, 1])\n",
      " \n",
      "Shape of logits at step 6: torch.Size([1, 11, 100685])\n",
      "Shape of logit_prediction at step 6: torch.Size([1, 100685])\n",
      "Shape of next_token_encoded at step 6: torch.Size([1, 1])\n",
      "Sequence for step 6: ['this', 'is', 'the', 'beginning', 'of', 'fraim', 'coast', 'endpieces', 'dishwater', 'non-horror', 'collegiate', 'lamo']\n",
      "Shape of prompt_encoded after concatenation at step 6: torch.Size([12, 1])\n",
      " \n",
      "Shape of logits at step 7: torch.Size([1, 12, 100685])\n",
      "Shape of logit_prediction at step 7: torch.Size([1, 100685])\n",
      "Shape of next_token_encoded at step 7: torch.Size([1, 1])\n",
      "Sequence for step 7: ['this', 'is', 'the', 'beginning', 'of', 'fraim', 'coast', 'endpieces', 'dishwater', 'non-horror', 'collegiate', 'lamo', 'polar']\n",
      "Shape of prompt_encoded after concatenation at step 7: torch.Size([13, 1])\n",
      " \n",
      "Shape of logits at step 8: torch.Size([1, 13, 100685])\n",
      "Shape of logit_prediction at step 8: torch.Size([1, 100685])\n",
      "Shape of next_token_encoded at step 8: torch.Size([1, 1])\n",
      "Sequence for step 8: ['this', 'is', 'the', 'beginning', 'of', 'fraim', 'coast', 'endpieces', 'dishwater', 'non-horror', 'collegiate', 'lamo', 'polar', 'kennyhotz']\n",
      "Shape of prompt_encoded after concatenation at step 8: torch.Size([14, 1])\n",
      " \n",
      "Shape of logits at step 9: torch.Size([1, 14, 100685])\n",
      "Shape of logit_prediction at step 9: torch.Size([1, 100685])\n",
      "Shape of next_token_encoded at step 9: torch.Size([1, 1])\n",
      "Sequence for step 9: ['this', 'is', 'the', 'beginning', 'of', 'fraim', 'coast', 'endpieces', 'dishwater', 'non-horror', 'collegiate', 'lamo', 'polar', 'kennyhotz', 'double-headed']\n",
      "Shape of prompt_encoded after concatenation at step 9: torch.Size([15, 1])\n"
     ]
    }
   ],
   "source": [
    "for i in range(max_new_tokens):\n",
    "    logits = model.decoder(prompt_encoded,src_mask=None)\n",
    "    logits = logits.transpose(0, 1)\n",
    "    print(\" \")\n",
    "    print(f\"Shape of logits at step {i}: {logits.shape}\")\n",
    "\n",
    "    logit_preiction = logits[:, -1]\n",
    "    print(f\"Shape of logit_prediction at step {i}: {logit_preiction.shape}\")\n",
    "\n",
    "    next_token_encoded = torch.argmax(logit_preiction, dim=-1).reshape(-1, 1)\n",
    "    print(f\"Shape of next_token_encoded at step {i}: {next_token_encoded.shape}\")\n",
    "\n",
    "    prompt_encoded = torch.cat((prompt_encoded, next_token_encoded), dim=0).to(DEVICE)\n",
    "    print(f\"Sequence for step {i}: {[index_to_en(j) for j in prompt_encoded]}\")\n",
    "    print(f\"Shape of prompt_encoded after concatenation at step {i}: {prompt_encoded.shape}\")"
   ]
  },
  {
   "cell_type": "markdown",
   "id": "ae5ea99c-1b45-4c3d-892e-b0d726ffdd5b",
   "metadata": {},
   "source": [
    "Lets implement it as a function now\n"
   ]
  },
  {
   "cell_type": "code",
   "execution_count": 57,
   "id": "aaa26e11-ee85-4e24-881d-83f14c9d9466",
   "metadata": {},
   "outputs": [
    {
     "data": {
      "text/plain": [
       "30"
      ]
     },
     "execution_count": 57,
     "metadata": {},
     "output_type": "execute_result"
    }
   ],
   "source": [
    "# Define special symbols and indices\n",
    "UNK_IDX, PAD_IDX, EOS_IDX = 0, 1, 2\n",
    "# Make sure the tokens are in order of their indices to properly insert them in vocab\n",
    "special_symbols = ['<unk>', '<pad>', '<|endoftext|>' ]\n",
    "BLOCK_SIZE"
   ]
  },
  {
   "cell_type": "code",
   "execution_count": 58,
   "id": "58c3eebb-6caa-4e41-af77-98fd57276183",
   "metadata": {},
   "outputs": [],
   "source": [
    "\n",
    "#auto-regressive Language Model text generation\n",
    "def generate(model, prompt=None, max_new_tokens=500, block_size=BLOCK_SIZE, vocab=vocab, tokenizer=tokenizer):\n",
    "    # Move model to the specified device (e.g., GPU or CPU)\n",
    "    model.to(DEVICE)\n",
    "\n",
    "    # Encode the input prompt using the provided encode_prompt function\n",
    "    prompt_encoded = encode_prompt(prompt).to(DEVICE)\n",
    "    tokens = []\n",
    "\n",
    "    # Generate new tokens up to max_new_tokens\n",
    "    for _ in range(max_new_tokens):\n",
    "        # Decode the encoded prompt using the model's decoder\n",
    "        logits = model(prompt_encoded,src_mask=None,key_padding_mask=None)\n",
    "\n",
    "        # Transpose the logits to bring the sequence length to the first dimension\n",
    "        logits = logits.transpose(0, 1)\n",
    "\n",
    "        # Select the logits of the last token in the sequence\n",
    "        logit_prediction = logits[:, -1]\n",
    "\n",
    "        # Choose the most probable next token from the logits(greedy decoding)\n",
    "        next_token_encoded = torch.argmax(logit_prediction, dim=-1).reshape(-1, 1)\n",
    "\n",
    "        # If the next token is the end-of-sequence (EOS) token, stop generation\n",
    "        if next_token_encoded.item() == EOS_IDX:\n",
    "            break\n",
    "\n",
    "        # Append the next token to the prompt_encoded and keep only the last 'block_size' tokens\n",
    "        prompt_encoded = torch.cat((prompt_encoded, next_token_encoded), dim=0)[-block_size:]\n",
    "\n",
    "        # Convert the next token index to a token string using the vocabulary\n",
    "        # Move the tensor back to CPU for vocab lookup if needed\n",
    "        token_id = next_token_encoded.to('cpu').item()\n",
    "        tokens.append(vocab.get_itos()[token_id])\n",
    "\n",
    "    # Join the generated tokens into a single string and return\n",
    "    return ' '.join(tokens)"
   ]
  },
  {
   "cell_type": "code",
   "execution_count": 59,
   "id": "8660dfe3-d143-4433-b559-b145ddf87e52",
   "metadata": {},
   "outputs": [
    {
     "data": {
      "text/plain": [
       "'agnosticism yash judeo/christian f* guiana female-buddy ww2 duane 10/10 academy dunderheads afflect mclaglin muppeteers supported day-there castigated suv startling rat-a-tat-tat mists xeroxing enders 16- disasterous grimms injects well-grounded throat grieves'"
      ]
     },
     "execution_count": 59,
     "metadata": {},
     "output_type": "execute_result"
    }
   ],
   "source": [
    "generate(model,prompt=\"this is the beginning of\",max_new_tokens=30,vocab=vocab,tokenizer=tokenizer)"
   ]
  },
  {
   "cell_type": "markdown",
   "id": "eedf2736-b2a1-4dcb-a57b-a3fe4583b8aa",
   "metadata": {},
   "source": [
    "### Decoding the differences: Training vs. inference\n",
    "\n",
    "The key difference between the training and inference stages lies in the inputs to the decoder. During training, the decoder benefits from exposure to the ground truth--receiving the exact target sequence tokens incrementally through a technique known as \"teacher forcing.\" This approach is in stark contrast to some other neural network architectures that rely on the network's previous predictions as inputs during training. Once training concludes, the datasets used resemble those employed in more conventional neural network models, providing a familiar foundation for comparison and evaluation.\n",
    "\n",
    "To start the training, first create a Cross Entropy Loss object. The loss will not consider PAD tokens.\n"
   ]
  },
  {
   "cell_type": "code",
   "execution_count": 60,
   "id": "bbde0705-2367-4b1e-b252-fe74799fc87d",
   "metadata": {},
   "outputs": [],
   "source": [
    "from torch.nn import CrossEntropyLoss\n",
    "loss_fn = CrossEntropyLoss(ignore_index=PAD_IDX)"
   ]
  },
  {
   "cell_type": "markdown",
   "id": "ae8bd0cd-10ab-4ffc-9f8a-c32fb8180814",
   "metadata": {},
   "source": [
    "We create the required masks\n"
   ]
  },
  {
   "cell_type": "code",
   "execution_count": 61,
   "id": "83f6ef4e-dcf2-4c70-b7c1-b380360d2b88",
   "metadata": {},
   "outputs": [],
   "source": [
    "src,tgt=next(iter(dataloader))\n",
    "\n",
    "mask,padding_mask = create_mask(src)"
   ]
  },
  {
   "cell_type": "markdown",
   "id": "8670ce20-7057-457e-9ae0-d5ff1da82947",
   "metadata": {},
   "source": [
    "When you call `model(src, src_mask, key_padding_mask)`,  the forward method of the `CustomGPTModel` class generates logits for the target sequence, which can then be translated into actual tokens by taking the highest probability prediction at each step in the sequence.\n"
   ]
  },
  {
   "cell_type": "code",
   "execution_count": 62,
   "id": "d919811f-b6ae-42f9-806b-9e79fc864da7",
   "metadata": {},
   "outputs": [
    {
     "name": "stdout",
     "output_type": "stream",
     "text": [
      "torch.Size([30, 1, 100685])\n"
     ]
    }
   ],
   "source": [
    "logits = model(src,src_mask=mask,key_padding_mask=padding_mask)\n",
    "print(logits.shape)"
   ]
  },
  {
   "cell_type": "code",
   "execution_count": 63,
   "id": "d198fbf5-63d6-4c2d-a752-f2be34b40064",
   "metadata": {},
   "outputs": [
    {
     "name": "stdout",
     "output_type": "stream",
     "text": [
      "output shape torch.Size([30, 1, 100685])\n",
      "source shape  tensor([[    4],\n",
      "        [ 3593],\n",
      "        [   18],\n",
      "        [   55],\n",
      "        [  811],\n",
      "        [   79],\n",
      "        [  156],\n",
      "        [   15],\n",
      "        [   24],\n",
      "        [   38],\n",
      "        [    3],\n",
      "        [  104],\n",
      "        [   44],\n",
      "        [ 1830],\n",
      "        [    9],\n",
      "        [13770],\n",
      "        [    4],\n",
      "        [   25],\n",
      "        [   64],\n",
      "        [   52],\n",
      "        [   27],\n",
      "        [ 3391],\n",
      "        [   38],\n",
      "        [    3],\n",
      "        [ 6584],\n",
      "        [ 3993],\n",
      "        [    5],\n",
      "        [   15],\n",
      "        [   18],\n",
      "        [   50]], device='cuda:0')\n"
     ]
    }
   ],
   "source": [
    "print(\"output shape\",logits.shape)\n",
    "print(\"source shape \",src)"
   ]
  },
  {
   "cell_type": "markdown",
   "id": "a950096c-67d4-4dd5-8215-c4aaaf0fc9d8",
   "metadata": {},
   "source": [
    "\n",
    "During training, the transformer's decoder is provided with the entire target sequence at once. This allows for parallel processing of the sequence, as opposed to generating one token at a time. Consequently, the output sequence is produced in its entirety, matching the shape of the input target sequence. This parallel generation is efficient and takes advantage of the model's capacity to handle sequences in a comprehensive manner. By examining the dimensions of the output, we can confirm that it aligns with the input target sequence, indicating that the entire sequence has been processed simultaneously.\n"
   ]
  },
  {
   "cell_type": "markdown",
   "id": "20f8714e-3985-4d22-b323-72dad1200aa3",
   "metadata": {},
   "source": [
    "We drop the the first sample of the target\n"
   ]
  },
  {
   "cell_type": "code",
   "execution_count": 64,
   "id": "d71d98d8-fb38-410f-a525-d7c56920f6c9",
   "metadata": {},
   "outputs": [
    {
     "name": "stdout",
     "output_type": "stream",
     "text": [
      "torch.Size([30, 1])\n"
     ]
    }
   ],
   "source": [
    "tgt\n",
    "print(tgt.shape)"
   ]
  },
  {
   "cell_type": "code",
   "execution_count": 65,
   "id": "9c6c8d14-9682-4c94-a275-de9de5f52d49",
   "metadata": {},
   "outputs": [
    {
     "name": "stdout",
     "output_type": "stream",
     "text": [
      "torch.Size([30, 100685])\n",
      "torch.Size([30])\n"
     ]
    }
   ],
   "source": [
    "print(logits.reshape(-1, logits.shape[-1]).shape)\n",
    "print(tgt.reshape(-1).shape)"
   ]
  },
  {
   "cell_type": "markdown",
   "id": "b6bee041-7025-4189-a446-d757ed9d93b0",
   "metadata": {},
   "source": [
    "We now calculate the loss as the output from the transformer's decoder is provided as input to the cross-entropy loss function along with the target sequence values. Given that the transformer's output has the dimensions sequence length, batch size, and features, it's necessary to reshape this output to align with the standard input format required by the cross-entropy loss function. This step ensures that the loss is calculated correctly, comparing the predicted sequence against the ground truth at each timestep across the batch using the reshape method\n"
   ]
  },
  {
   "cell_type": "code",
   "execution_count": 66,
   "id": "fdc4a2c9-ec70-484f-9c41-1d0e408cf4a0",
   "metadata": {},
   "outputs": [
    {
     "name": "stdout",
     "output_type": "stream",
     "text": [
      "44.54493713378906\n"
     ]
    }
   ],
   "source": [
    "loss = loss_fn(logits.reshape(-1, logits.shape[-1]), tgt.reshape(-1))\n",
    "print(loss.item())"
   ]
  },
  {
   "cell_type": "markdown",
   "id": "e32c273c-b9f4-47f4-8eb9-21c5c66889e4",
   "metadata": {},
   "source": [
    "By following the aforementioned procedures, we can develop a function that is capable of making predictions and subsequently computing the corresponding loss on the validation data, we will use this fuction later on.\n"
   ]
  },
  {
   "cell_type": "code",
   "execution_count": 67,
   "id": "c4c136ef-0fdd-47da-a2a6-ca33b739c02a",
   "metadata": {},
   "outputs": [],
   "source": [
    "def evaluate(model: nn.Module, eval_data) -> float:\n",
    "    model.eval()  # turn on evaluation mode\n",
    "    total_loss = 0.\n",
    "    with torch.no_grad():\n",
    "        for src,tgt in eval_data:\n",
    "            tgt = tgt.to(DEVICE)\n",
    "            #seq_len = src.size(0)\n",
    "            logits = model(src,src_mask=None,key_padding_mask=None)\n",
    "            total_loss +=  loss_fn(logits.reshape(-1, logits.shape[-1]), tgt.reshape(-1)).item()\n",
    "    return total_loss / (len(list(eval_data)) - 1)"
   ]
  },
  {
   "cell_type": "code",
   "execution_count": 68,
   "id": "54c4f07f-5627-4615-8a7b-09e02e9c2e7d",
   "metadata": {},
   "outputs": [
    {
     "data": {
      "text/plain": [
       "35.9260471555642"
      ]
     },
     "execution_count": 68,
     "metadata": {},
     "output_type": "execute_result"
    }
   ],
   "source": [
    "evaluate(model,val_dataloader)"
   ]
  },
  {
   "cell_type": "markdown",
   "id": "9c25d57d-028b-4374-a3a1-a7198e4b5e9a",
   "metadata": {},
   "source": [
    "## Training the model\n",
    "Incorporating the previously outlined steps, we proceed to train the model. Apart from these specific procedures, the overall training process conforms to the conventional methods employed in neural network training.\n",
    "\n",
    "**Please be aware that training the model using CPUs can be a time-consuming process. If you don't have access to GPUs, you can jump to  \"loading the saved model\" and proceed with loading the pre-trained model using the provided code in the subsequent section `Loading the Saved Model`. We have trained the model for 30 epochs and saved it for your convenience.**\n",
    "\n",
    "The `train` function is defined to fine-tune the `CustomGPTModel` on a given training dataset. It is structured as follows:\n",
    "\n",
    "- **Optimizer**: Initializes an ADAM optimizer.\n",
    "\n",
    "Within the `train` function:\n",
    "\n",
    "- The model is set to train mode, which enables dropout and batch normalization layers.\n",
    "- A loop iterates over the training data, which is loaded in batches. For each batch:\n",
    "    - The source (`src`) and target (`tgt`) sequences are extracted.\n",
    "    - The model performs a forward pass to get logits.\n",
    "    - The logits are reshaped for loss calculation.\n",
    "    - The loss is computed using `loss_fn`, which likely refers to a loss function such as cross-entropy that measures the difference between the predicted logits and the target sequences.\n",
    "- Gradient clipping is applied to prevent exploding gradients, which is common in training deep neural networks.\n",
    "- The optimizer updates the model parameters based on the computed gradients.\n",
    "\n",
    "Logging occurs every `10000` steps, or when reaching a specific batch (batch `42060` is hardcoded as an example). During logging:\n",
    "\n",
    "- The average loss and the perplexity (a measure of how well the probability model predicts a sample) are calculated and printed, providing insights into the model's performance.\n",
    "- The elapsed time per batch since the last log interval is measured and reported, giving an indication of training efficiency.\n",
    "\n"
   ]
  },
  {
   "cell_type": "code",
   "execution_count": 69,
   "id": "26df233f-a545-4422-8cb2-d88cb2477c4e",
   "metadata": {},
   "outputs": [],
   "source": [
    "optimizer = Adam(model.parameters(), lr=1e-2, weight_decay=0.01, betas=(0.9, 0.999))\n",
    "scheduler = torch.optim.lr_scheduler.StepLR(optimizer, 10000, gamma=0.9)\n",
    "\n",
    "def train(model: nn.Module,train_data) -> None:\n",
    "    model.train()  # turn on train mode\n",
    "    total_loss = 0.\n",
    "    log_interval = 10000\n",
    "    start_time = time.time()\n",
    "\n",
    "    num_batches = len(list(train_data)) // block_size\n",
    "    for batch,srctgt in enumerate(train_data):\n",
    "        src= srctgt[0]\n",
    "        tgt= srctgt[1]\n",
    "        logits = model(src,src_mask=None)\n",
    "        logits_flat = logits.reshape(-1, logits.shape[-1])\n",
    "        loss = loss_fn(logits_flat, tgt.reshape(-1))\n",
    "\n",
    "        optimizer.zero_grad()\n",
    "        loss.backward()\n",
    "        torch.nn.utils.clip_grad_norm_(model.parameters(), 0.5)\n",
    "        optimizer.step()\n",
    "        total_loss += loss.item()\n",
    "\n",
    "        if (batch % log_interval == 0 and batch > 0) or batch==42060:\n",
    "            lr = scheduler.get_last_lr()[0]\n",
    "            ms_per_batch = (time.time() - start_time) * 1000 / log_interval\n",
    "            #cur_loss = total_loss / log_interval\n",
    "            cur_loss = total_loss / batch\n",
    "            ppl = math.exp(cur_loss)\n",
    "            print(f'| epoch {epoch:3d} | {batch//block_size:5d}/{num_batches:5d} batches | '\n",
    "                  f'lr {lr:02.4f} | ms/batch {ms_per_batch:5.2f} | '\n",
    "                  f'loss {cur_loss:5.2f} | ppl {ppl:8.2f}')\n",
    "            start_time = time.time()\n",
    "\n",
    "    return total_loss"
   ]
  },
  {
   "cell_type": "markdown",
   "id": "ee543cff-8d2f-4bd9-ad4d-e0c5c0d9d06e",
   "metadata": {},
   "source": [
    "We use loss lists to keep track of our training and validation loss.\n",
    "\n",
    "The model will go through the training data 30 times (epochs). This training step uses functions we've defined earlier.\n",
    "\n",
    "\n"
   ]
  },
  {
   "cell_type": "code",
   "execution_count": 71,
   "id": "8a89178f-b23b-4c49-b192-402f115a16c7",
   "metadata": {},
   "outputs": [
    {
     "name": "stdout",
     "output_type": "stream",
     "text": [
      "-----------------------------------------------------------------------------------------\n",
      "| end of epoch   1 | time: 48.69s | valid loss  6.66 | valid ppl   780.67\n",
      "-----------------------------------------------------------------------------------------\n",
      "-----------------------------------------------------------------------------------------\n",
      "| end of epoch   2 | time: 48.76s | valid loss  6.67 | valid ppl   787.41\n",
      "-----------------------------------------------------------------------------------------\n",
      "-----------------------------------------------------------------------------------------\n",
      "| end of epoch   3 | time: 48.47s | valid loss  6.68 | valid ppl   794.87\n",
      "-----------------------------------------------------------------------------------------\n",
      "-----------------------------------------------------------------------------------------\n",
      "| end of epoch   4 | time: 48.12s | valid loss  6.70 | valid ppl   812.78\n",
      "-----------------------------------------------------------------------------------------\n",
      "-----------------------------------------------------------------------------------------\n",
      "| end of epoch   5 | time: 47.95s | valid loss  6.71 | valid ppl   820.10\n",
      "-----------------------------------------------------------------------------------------\n",
      "-----------------------------------------------------------------------------------------\n",
      "| end of epoch   6 | time: 47.90s | valid loss  6.72 | valid ppl   827.82\n",
      "-----------------------------------------------------------------------------------------\n",
      "-----------------------------------------------------------------------------------------\n",
      "| end of epoch   7 | time: 48.02s | valid loss  6.74 | valid ppl   844.29\n",
      "-----------------------------------------------------------------------------------------\n",
      "-----------------------------------------------------------------------------------------\n",
      "| end of epoch   8 | time: 48.16s | valid loss  6.73 | valid ppl   836.42\n",
      "-----------------------------------------------------------------------------------------\n",
      "-----------------------------------------------------------------------------------------\n",
      "| end of epoch   9 | time: 48.15s | valid loss  6.73 | valid ppl   836.98\n",
      "-----------------------------------------------------------------------------------------\n",
      "-----------------------------------------------------------------------------------------\n",
      "| end of epoch  10 | time: 48.04s | valid loss  6.72 | valid ppl   832.12\n",
      "-----------------------------------------------------------------------------------------\n",
      "-----------------------------------------------------------------------------------------\n",
      "| end of epoch  11 | time: 48.21s | valid loss  6.73 | valid ppl   836.94\n",
      "-----------------------------------------------------------------------------------------\n",
      "-----------------------------------------------------------------------------------------\n",
      "| end of epoch  12 | time: 48.08s | valid loss  6.72 | valid ppl   830.14\n",
      "-----------------------------------------------------------------------------------------\n",
      "-----------------------------------------------------------------------------------------\n",
      "| end of epoch  13 | time: 47.99s | valid loss  6.72 | valid ppl   829.52\n",
      "-----------------------------------------------------------------------------------------\n",
      "-----------------------------------------------------------------------------------------\n",
      "| end of epoch  14 | time: 48.81s | valid loss  6.74 | valid ppl   842.71\n",
      "-----------------------------------------------------------------------------------------\n",
      "-----------------------------------------------------------------------------------------\n",
      "| end of epoch  15 | time: 48.12s | valid loss  6.73 | valid ppl   833.30\n",
      "-----------------------------------------------------------------------------------------\n"
     ]
    }
   ],
   "source": [
    "dataloader = DataLoader(train_iter, batch_size=300, shuffle=True, collate_fn=collate_batch)\n",
    "val_dataloader = DataLoader(val_iter, batch_size=50, shuffle=True, collate_fn=collate_batch)\n",
    "\n",
    "best_val_loss = float('inf')\n",
    "epochs = 15 #30\n",
    "Train_losses= []\n",
    "Val_losses = []\n",
    "\n",
    "for epoch in range(1, epochs + 1):\n",
    "    epoch_start_time = time.time()\n",
    "    train_loss = train(model,dataloader)\n",
    "    val_loss = evaluate(model, val_dataloader)\n",
    "    val_ppl = math.exp(val_loss)\n",
    "    Train_losses.append(train_loss)\n",
    "    Val_losses.append(val_loss)\n",
    "\n",
    "    elapsed = time.time() - epoch_start_time\n",
    "    print('-' * 89)\n",
    "    print(f'| end of epoch {epoch:3d} | time: {elapsed:5.2f}s | '\n",
    "        f'valid loss {val_loss:5.2f} | valid ppl {val_ppl:8.2f}')\n",
    "    print('-' * 89)\n",
    "\n",
    "    if val_loss < best_val_loss:\n",
    "        best_val_loss = val_loss\n",
    "        torch.save(model.state_dict(), 'model_best_val_loss.pt')"
   ]
  },
  {
   "cell_type": "markdown",
   "id": "e5534b1b-1072-4952-8df2-863945f03bf1",
   "metadata": {},
   "source": [
    "Let's plot training and validation losses:\n"
   ]
  },
  {
   "cell_type": "code",
   "execution_count": 72,
   "id": "4a6fdc77-d448-4d99-9657-7a3018e1305b",
   "metadata": {},
   "outputs": [
    {
     "data": {
      "image/png": "[encoded data removed]",
      "text/plain": [
       "<Figure size 640x480 with 1 Axes>"
      ]
     },
     "metadata": {},
     "output_type": "display_data"
    }
   ],
   "source": [
    "# Calculate the number of epochs (assuming the lengths of train_losses and val_losses are equal)\n",
    "num_epochs = len(Train_losses)\n",
    "\n",
    "# Create a figure and a set of subplots\n",
    "fig, ax = plt.subplots()\n",
    "\n",
    "# Plot the training losses\n",
    "ax.plot(range(num_epochs), Train_losses, label='Training Loss', color='blue')\n",
    "\n",
    "# Plot the validation losses\n",
    "ax.plot(range(num_epochs), Val_losses, label='Validation Loss', color='orange')\n",
    "\n",
    "# Set the x-axis label\n",
    "ax.set_xlabel('Epoch')\n",
    "\n",
    "# Set the y-axis label\n",
    "ax.set_ylabel('Loss')\n",
    "\n",
    "# Set the title of the plot\n",
    "ax.set_title('Training and Validation Losses')\n",
    "\n",
    "# Add a legend to the plot\n",
    "ax.legend()\n",
    "\n",
    "# Show the plot\n",
    "plt.show()"
   ]
  },
  {
   "cell_type": "markdown",
   "id": "36304826-31bd-480e-a990-dd81720eea7a",
   "metadata": {},
   "source": [
    "![loss_gpt.png](https://cf-courses-data.s3.us.cloud-object-storage.appdomain.cloud/V1Fda63Q4CrNfgT5g1HfVQ.png)\n"
   ]
  },
  {
   "cell_type": "markdown",
   "id": "0c96f560-060a-4b49-8590-07a4ce114d71",
   "metadata": {},
   "source": [
    "## Loading the saved model\n",
    "If you want to skip training and load a trained model that we provided, go ahead and uncomment the following cell:\n"
   ]
  },
  {
   "cell_type": "code",
   "execution_count": 77,
   "id": "68e17aaf-53a5-448d-b32c-7140db9e540a",
   "metadata": {},
   "outputs": [],
   "source": [
    "#!wget 'https://cf-courses-data.s3.us.cloud-object-storage.appdomain.cloud/kyn1_OsXrzjef0xihlsXmg.pt'\n",
    "#model.load_state_dict(torch.load('kyn1_OsXrzjef0xihlsXmg.pt',map_location=torch.device('cpu')))"
   ]
  },
  {
   "cell_type": "code",
   "execution_count": 81,
   "id": "747a896a-802b-495e-960b-e8706e3b96e0",
   "metadata": {},
   "outputs": [
    {
     "name": "stdout",
     "output_type": "stream",
     "text": [
      "shivam amble projector/ray terrell syndication raffles lloyd bottomline hanks-philes daffily\n"
     ]
    }
   ],
   "source": [
    "print(generate(model,prompt=\"the movie was\",max_new_tokens=10,vocab=vocab,tokenizer=tokenizer))"
   ]
  },
  {
   "cell_type": "markdown",
   "id": "bd182824-a0ca-43f8-8120-7b7555e3734f",
   "metadata": {},
   "source": [
    "You can see that the result is not satisfactory, which is due to the fact that LLMs need to be trained on huge data for several epochs to be accurate.\n"
   ]
  },
  {
   "cell_type": "markdown",
   "id": "84e2c0cb-c04e-437d-89ac-0c54ecdf6ff7",
   "metadata": {},
   "source": [
    "## Loading GPT2 model from HuggingFace\n",
    "Let's now load the GPT2 model from HuggingFace to check how it performs at text generation:\n"
   ]
  },
  {
   "cell_type": "code",
   "execution_count": 79,
   "id": "cc707a38-ba48-4b48-b265-23f8b8920c60",
   "metadata": {},
   "outputs": [
    {
     "name": "stdout",
     "output_type": "stream",
     "text": [
      "Input: the movie was\n",
      "Generated Text: the movie was a bit of a disappointment, but it was a great movie\n"
     ]
    }
   ],
   "source": [
    "# Load the tokenizer and model\n",
    "tokenizer1 = GPT2Tokenizer.from_pretrained(\"gpt2\")\n",
    "model = GPT2LMHeadModel.from_pretrained(\"gpt2\")\n",
    "\n",
    "# Define the input prompt\n",
    "#input_text = \"Once upon a time in a faraway land,\"\n",
    "input_text = \"the movie was\"\n",
    "\n",
    "# Tokenize the input text and prepare the input for the model\n",
    "input_ids = tokenizer1.encode(input_text, return_tensors=\"pt\")\n",
    "\n",
    "# Generate text using the model\n",
    "# Set the desired length of the generated text (max_length),\n",
    "# and other generation parameters like temperature, top_k, and top_p\n",
    "max_length = 15\n",
    "temperature = 0.7\n",
    "top_k = 50\n",
    "top_p = 0.95\n",
    "\n",
    "generated_ids = model.generate(\n",
    "    input_ids,\n",
    "    max_length=max_length,\n",
    "    temperature=temperature,\n",
    "    top_k=top_k,\n",
    "    top_p=top_p,\n",
    "    pad_token_id=tokenizer1.eos_token_id,\n",
    ")\n",
    "\n",
    "# Decode the generated text\n",
    "generated_text = tokenizer1.decode(generated_ids[0], skip_special_tokens=True)\n",
    "\n",
    "# Print the input prompt and the generated text\n",
    "print(f\"Input: {input_text}\")\n",
    "print(f\"Generated Text: {generated_text}\")"
   ]
  },
  {
   "cell_type": "markdown",
   "id": "f523aa54-8e60-4def-bca1-763928e579f8",
   "metadata": {},
   "source": [
    "## Exercise: Creating a decoder model\n",
    "In this exercise, you will create an instance of GPT-like model and prompt it to generate text. To achieve this, you will leverage the same GPT model discussed previously and make necessary modifications.\n",
    "\n",
    "1. **Create an instance with the following parameters:**\n",
    "   - `embedding size` = 200\n",
    "   -  `number of layers` = 2\n",
    "   -  `number of attention heads` = 2\n",
    "   -  `dropout probability` = 0.2\n",
    "\n",
    "2. **Create a prompt**\n",
    "\n",
    "3. **Pass the prompt to model to generate text with a maximum length of 15**\n"
   ]
  },
  {
   "cell_type": "code",
   "execution_count": 80,
   "id": "b05181ef-2985-4fcb-9290-e998e4cd5ec4",
   "metadata": {},
   "outputs": [
    {
     "name": "stdout",
     "output_type": "stream",
     "text": [
      "200\n",
      "ambitious tableware desolate campfire goût poor-choice existience restriction ---> shanao are goksal hone stocking pepin\n"
     ]
    }
   ],
   "source": [
    "#Write your code here\n",
    "\n",
    "ntokens = len(vocab)  \n",
    "emsize = 200 \n",
    "nlayers = 2  \n",
    "nhead = 2\n",
    "dropout = 0.2  \n",
    "\n",
    "\n",
    "\n",
    "\n",
    "print(generate(model,prompt=\"spring is\",max_new_tokens=15,vocab=vocab,tokenizer=tokenizer))\n",
    "\n"
   ]
  },
  {
   "cell_type": "markdown",
   "id": "cb7090c4-4ebe-412b-915d-5828cea16d02",
   "metadata": {},
   "source": [
    "<details>\n",
    "    <summary>Click here for Solution</summary>\n",
    "\n",
    "```python\n",
    "\n",
    "ntokens = len(vocab)  \n",
    "emsize = 200 \n",
    "nlayers = 2  \n",
    "nhead = 2\n",
    "dropout = 0.2  \n",
    "\n",
    "\n",
    "model = CustomGPTModel(embed_size=emsize, num_heads=nhead, num_layers=nlayers, vocab_size=ntokens,dropout=dropout).to(DEVICE)\n",
    "\n",
    "\n",
    "print(generate(model,prompt=\"spring is\",max_new_tokens=15,vocab=vocab,tokenizer=tokenizer))\n",
    "```\n",
    "\n",
    "</details>\n"
   ]
  },
  {
   "cell_type": "markdown",
   "id": "998f49b8-2ee2-4f6d-a1c9-cbd2de2edd3b",
   "metadata": {},
   "source": [
    "# Congratulations! You have completed the lab\n",
    "\n",
    "## Authors\n",
    "\n",
    "[Joseph Santarcangelo](https://author.skills.network/instructors/joseph_santarcangelo) has a Ph.D. in Electrical Engineering, his research focused on using machine learning, signal processing, and computer vision to determine how videos impact human cognition. Joseph has been working for IBM since he completed his PhD.\n",
    "\n",
    "[Fateme Akbari](https://www.linkedin.com/in/fatemeakbari/) is a Ph.D. candidate in Information Systems at McMaster University with demonstrated research experience in Machine Learning and NLP.\n",
    "\n",
    "## References\n",
    "[Causal Language Modeling](https://huggingface.co/docs/transformers/en/tasks/language_modeling) PyTorch tutorial\n",
    "\n",
    "© Copyright IBM Corporation. All rights reserved.\n"
   ]
  },
  {
   "cell_type": "code",
   "execution_count": null,
   "id": "94b3a288-89b4-4459-9434-14dcb81bebec",
   "metadata": {},
   "outputs": [],
   "source": []
  },
  {
   "cell_type": "code",
   "execution_count": null,
   "id": "2d1014d4-1bcd-44f8-833f-f9f1397d0e94",
   "metadata": {},
   "outputs": [],
   "source": []
  }
 ],
 "metadata": {
  "kernelspec": {
   "display_name": "Python 3 (ipykernel)",
   "language": "python",
   "name": "python3"
  },
  "language_info": {
   "codemirror_mode": {
    "name": "ipython",
    "version": 3
   },
   "file_extension": ".py",
   "mimetype": "text/x-python",
   "name": "python",
   "nbconvert_exporter": "python",
   "pygments_lexer": "ipython3",
   "version": "3.8.20"
  }
 },
 "nbformat": 4,
 "nbformat_minor": 5
}
