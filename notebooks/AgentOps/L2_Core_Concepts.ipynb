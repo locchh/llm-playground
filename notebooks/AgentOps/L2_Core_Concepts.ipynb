{
 "cells": [
  {
   "cell_type": "markdown",
   "id": "91f68c21-1529-49df-8beb-9f6491a93097",
   "metadata": {},
   "source": [
    "# Core Concepts\n",
    "\n",
    "Understanding the fundamental concepts of AgentOps\n",
    "\n",
    "## The AgentOps SDK Architecture\n",
    "\n",
    "AgentOps is designed to provide comprehensive monitoring and analytics for AI agent workflows with minimal implementation effort. The SDK follows these key design principles:\n",
    "\n",
    "### Automated Instrumentation\n",
    "\n",
    "After calling `agentops.init()`, the SDK automatically identifies installed LLM providers and instruments their API calls. This allows AgentOps to capture interactions between your code and the LLM providers to collect data for your dashboard without requiring manual instrumentation for every call.\n",
    "\n",
    "### Declarative Tracing with Decorators\n",
    "\n",
    "The [decorators](https://docs.agentops.ai/v2/concepts/decorators) system allows you to add tracing to your existing functions and classes with minimal code changes. Decorators create hierarchical spans that provide a structured view of your agent’s operations for monitoring and analysis.\n",
    "\n",
    "### OpenTelemetry Foundation\n",
    "\n",
    "AgentOps is built on [OpenTelemetry](https://opentelemetry.io/), a widely-adopted standard for observability instrumentation. This provides a robust and standardized approach to collecting, processing, and exporting telemetry data."
   ]
  },
  {
   "cell_type": "markdown",
   "id": "8232a575-a1b5-46ea-84ab-d40a8f585507",
   "metadata": {},
   "source": [
    "## Sessions\n",
    "\n",
    "A Session represents a single user interaction with your agent. When you initialize AgentOps using the init function, a session is automatically created for you:\n",
    "\n",
    "```python\n",
    "import agentops\n",
    "\n",
    "# Initialize AgentOps with automatic session creation\n",
    "agentops.init(api_key=\"YOUR_API_KEY\")\n",
    "```\n",
    "\n",
    "By default, all events and API calls will be associated with this session. For more advanced use cases, you can control session creation manually:\n",
    "\n",
    "```python\n",
    "# Initialize without auto-starting a session\n",
    "agentops.init(api_key=\"YOUR_API_KEY\", auto_start_session=False)\n",
    "\n",
    "# Later, manually start a session when needed\n",
    "agentops.start_session(tags=[\"customer-query\"])\n",
    "```"
   ]
  },
  {
   "cell_type": "markdown",
   "id": "7b9f9146-0da2-4d28-bf0b-d016e429282f",
   "metadata": {},
   "source": [
    "## Span Hierarchy\n",
    "\n",
    "In AgentOps, activities are organized into a hierarchical structure of spans:\n",
    "\n",
    "\n",
    "- **SESSION**: The root container for all activities in a single execution of your workflow}\n",
    "- **AGENT**: Represents an autonomous entity with specialized capabilities\n",
    "- **WORKFLOW**: A logical grouping of related operations\n",
    "- **OPERATION/TASK**: A specific task or function performed by an agent\n",
    "- **LLM**: An interaction with a language model\n",
    "- **TOOL**: The use of a tool or API by an agent\n",
    "\n",
    "```\n",
    "SESSION\n",
    "  ├── AGENT\n",
    "  │     ├── OPERATION/TASK\n",
    "  │     │     ├── LLM\n",
    "  │     │     └── TOOL\n",
    "  │     └── WORKFLOW\n",
    "  │           └── OPERATION/TASK\n",
    "  └── LLM (unattributed to a specific agent)\n",
    "```"
   ]
  },
  {
   "cell_type": "markdown",
   "id": "326e8ca5-2e33-41dd-885e-d839e92077d9",
   "metadata": {},
   "source": [
    "## Agents\n",
    "\n",
    "An **Agent** represents a component in your application that performs tasks. You can create and track agents using the `@agent` decorator:\n",
    "\n",
    "```python\n",
    "from agentops.sdk.decorators import agent, operation\n",
    "\n",
    "@agent(name=\"customer_service\")\n",
    "class CustomerServiceAgent:\n",
    "    @operation\n",
    "    def answer_query(self, query):\n",
    "        # Agent logic here\n",
    "        pass\n",
    "```"
   ]
  },
  {
   "cell_type": "markdown",
   "id": "4d65ef64-9c37-457b-adc4-f15b9f0d855e",
   "metadata": {},
   "source": [
    "## LLM Events\n",
    "\n",
    "AgentOps automatically tracks LLM API calls from supported providers, collecting valuable information like:\n",
    "\n",
    "- **Model**: The specific model used (e.g., “gpt-4”, “claude-3-opus”)\n",
    "- **Provider**: The LLM provider (e.g., “OpenAI”, “Anthropic”)\n",
    "- **Prompt Tokens**: Number of tokens in the input\n",
    "- **Completion Tokens**: Number of tokens in the output\n",
    "- **Cost**: The estimated cost of the interaction\n",
    "- **Messages**: The prompt and completion content\n",
    "\n",
    "```python\n",
    "import agentops\n",
    "from openai import OpenAI\n",
    "\n",
    "# Initialize AgentOps\n",
    "agentops.init(api_key=\"YOUR_API_KEY\")\n",
    "\n",
    "# Initialize the OpenAI client\n",
    "client = OpenAI()\n",
    "\n",
    "# This LLM call is automatically tracked\n",
    "response = client.chat.completions.create(\n",
    "    model=\"gpt-4\",\n",
    "    messages=[{\"role\": \"user\", \"content\": \"What's the capital of France?\"}]\n",
    ")\n",
    "```"
   ]
  },
  {
   "cell_type": "markdown",
   "id": "10b80c33-9886-4b03-b585-bcd3a05ee2a3",
   "metadata": {},
   "source": [
    "## Tags\n",
    "\n",
    "[Tags](https://docs.agentops.ai/v2/concepts/tags) help you organize and filter your sessions. You can add tags when initializing AgentOps or when starting a session:\n",
    "\n",
    "```python\n",
    "# Add tags when initializing\n",
    "agentops.init(api_key=\"YOUR_API_KEY\", tags=[\"production\", \"web-app\"])\n",
    "\n",
    "# Or when manually starting a session\n",
    "agentops.start_session(tags=[\"customer-service\", \"tier-1\"])\n",
    "```"
   ]
  },
  {
   "cell_type": "markdown",
   "id": "e01caaaa-1020-4868-b3ef-b6d9af06946d",
   "metadata": {},
   "source": [
    "## Host Environment\n",
    "\n",
    "AgentOps automatically collects basic information about the environment where your agent is running:\n",
    "\n",
    "- **Operating System**: The OS type and version\n",
    "- **Python Version**: The version of Python being used\n",
    "- **Hostname**: The name of the host machine (anonymized)\n",
    "- **SDK Version**: The version of the AgentOps SDK being used"
   ]
  },
  {
   "cell_type": "markdown",
   "id": "fb8a1bd6-1a0c-4cba-a2c8-2adf907c2027",
   "metadata": {},
   "source": [
    "## Dashboard Views\n",
    "\n",
    "The AgentOps dashboard provides several ways to visualize and analyze your agent’s performance:\n",
    "\n",
    "\n",
    "- **Session List**: Overview of all sessions with filtering options\n",
    "- **Timeline View**: Chronological display of spans showing duration and relationships\n",
    "- **Tree View**: Hierarchical representation of spans showing parent-child relationships\n",
    "- **Message View**: Detailed view of LLM interactions with prompt and completion content\n",
    "- **Analytics**: Aggregated metrics across sessions and operations\n",
    "\n",
    "Waterfall View\n",
    "\n",
    "\n",
    "![img](imgs/5.waterfallview.png)\n",
    "\n",
    "\n",
    "Tree View\n",
    "\n",
    "![img](imgs/6.treeview.png)\n",
    "\n",
    "\n",
    "Graph View\n",
    "\n",
    "![img](imgs/7.graphview.png)\n"
   ]
  },
  {
   "cell_type": "markdown",
   "id": "9d47f30a-724d-4e4f-8536-ce9d06809711",
   "metadata": {},
   "source": [
    "## Putting It All Together\n",
    "\n",
    "A typical implementation looks like this:"
   ]
  },
  {
   "cell_type": "code",
   "execution_count": 1,
   "id": "ebbd2078-8c14-4747-83e5-9556664e702a",
   "metadata": {},
   "outputs": [
    {
     "name": "stderr",
     "output_type": "stream",
     "text": [
      "🖇 AgentOps: \u001b[34m\u001b[34mYou're on the agentops free plan 🤔\u001b[0m\u001b[0m\n",
      "🖇 AgentOps: [OPENAI INSTRUMENTOR] Error setting up OpenAI streaming wrappers: No module named 'openai.resources.beta.chat'\n"
     ]
    },
    {
     "name": "stdout",
     "output_type": "stream",
     "text": [
      "The capital of France is Paris.\n"
     ]
    }
   ],
   "source": [
    "import os\n",
    "import agentops\n",
    "from dotenv import load_dotenv\n",
    "from openai import OpenAI\n",
    "from agentops.sdk.decorators import agent, operation\n",
    "\n",
    "load_dotenv()\n",
    "\n",
    "# Initialize AgentOps\n",
    "agentops.init(api_key=os.getenv(\"AGENTOPS_API_KEY\"), tags=[\"production\"])\n",
    "\n",
    "# Define an agent\n",
    "@agent(name=\"assistant\")\n",
    "class AssistantAgent:\n",
    "    def __init__(self):\n",
    "        self.client = OpenAI()\n",
    "\n",
    "    @operation\n",
    "    def answer_question(self, question):\n",
    "        # This LLM call will be automatically tracked and associated with this agent\n",
    "        response = self.client.chat.completions.create(\n",
    "            model=\"gpt-4\",\n",
    "            messages=[\n",
    "                {\"role\":\"user\",\n",
    "                 \"content\":question}\n",
    "            ]\n",
    "        )\n",
    "        return response.choices[0].message.content\n",
    "\n",
    "def workflow():\n",
    "    # Use the agent\n",
    "    assistant = AssistantAgent()\n",
    "    answer = assistant.answer_question(\"What's the capital of France?\")\n",
    "    print(answer)\n",
    "\n",
    "workflow()\n",
    "# Session is automatically tracked until application terminates"
   ]
  }
 ],
 "metadata": {
  "kernelspec": {
   "display_name": "Python 3 (ipykernel)",
   "language": "python",
   "name": "python3"
  },
  "language_info": {
   "codemirror_mode": {
    "name": "ipython",
    "version": 3
   },
   "file_extension": ".py",
   "mimetype": "text/x-python",
   "name": "python",
   "nbconvert_exporter": "python",
   "pygments_lexer": "ipython3",
   "version": "3.12.11"
  }
 },
 "nbformat": 4,
 "nbformat_minor": 5
}
