{
 "cells": [
  {
   "cell_type": "markdown",
   "id": "6502d788-da9e-4410-84ee-2af7b389fbd1",
   "metadata": {},
   "source": [
    "# Agent Integrations"
   ]
  },
  {
   "cell_type": "markdown",
   "id": "b7f37856-a4ab-4f10-a0ca-e4afc953d921",
   "metadata": {},
   "source": [
    "## [Autogen](https://docs.agentops.ai/v2/examples/autogen)"
   ]
  },
  {
   "cell_type": "code",
   "execution_count": null,
   "id": "fc764baf-cf44-4da4-b28b-78286bbb3e6f",
   "metadata": {},
   "outputs": [],
   "source": []
  },
  {
   "cell_type": "markdown",
   "id": "31529853-2552-4ea2-bd9d-21698ac22cc5",
   "metadata": {},
   "source": [
    "## [LangChain](https://docs.agentops.ai/v2/examples/langchain)"
   ]
  },
  {
   "cell_type": "code",
   "execution_count": null,
   "id": "7b10dca4-69bf-4d97-bac6-a03eabeef2fa",
   "metadata": {},
   "outputs": [],
   "source": []
  },
  {
   "cell_type": "markdown",
   "id": "e251a6fb-ba59-4d51-8405-0daaa44d5e6e",
   "metadata": {},
   "source": [
    "## [LangGraph](https://docs.agentops.ai/v2/examples/langgraph)"
   ]
  },
  {
   "cell_type": "code",
   "execution_count": null,
   "id": "e1a1e8e2-8d64-40c8-9807-4fbb57824bae",
   "metadata": {},
   "outputs": [],
   "source": []
  },
  {
   "cell_type": "markdown",
   "id": "1aee8e74-cd4f-46b9-9d1a-586b62683699",
   "metadata": {},
   "source": [
    "## [Smolagents](https://docs.agentops.ai/v2/integrations/smolagents)"
   ]
  },
  {
   "cell_type": "code",
   "execution_count": null,
   "id": "5ce67b92-c13a-49b6-b648-10bb89bd8eaf",
   "metadata": {},
   "outputs": [],
   "source": []
  },
  {
   "cell_type": "markdown",
   "id": "be0e7f59-bec0-471e-beb3-a4072a81f542",
   "metadata": {},
   "source": [
    "## [OpenAI Agents](https://docs.agentops.ai/v2/examples/openai_agents)"
   ]
  },
  {
   "cell_type": "code",
   "execution_count": null,
   "id": "2fa44b57-ed40-4fa8-ac33-943779c1581d",
   "metadata": {},
   "outputs": [],
   "source": []
  }
 ],
 "metadata": {
  "kernelspec": {
   "display_name": "Python 3 (ipykernel)",
   "language": "python",
   "name": "python3"
  },
  "language_info": {
   "codemirror_mode": {
    "name": "ipython",
    "version": 3
   },
   "file_extension": ".py",
   "mimetype": "text/x-python",
   "name": "python",
   "nbconvert_exporter": "python",
   "pygments_lexer": "ipython3",
   "version": "3.12.11"
  }
 },
 "nbformat": 4,
 "nbformat_minor": 5
}
