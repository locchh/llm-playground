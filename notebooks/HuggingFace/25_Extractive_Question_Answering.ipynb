{
 "cells": [
  {
   "cell_type": "markdown",
   "id": "3779b057-8977-41c4-ac31-bee1a3457582",
   "metadata": {},
   "source": [
    "## Table of Contents\n",
    "\n",
    "<ol>\n",
    "    <li>\n",
    "        <a href=\"#Introduction\">Introduction</a>\n",
    "    </li>\n",
    "    <li>\n",
    "        <a href=\"#Preparing-the-data\">Preparing the data</a>\n",
    "    </li>\n",
    "    <li>\n",
    "        <a href=\"#Fine-tuning-the-model-with-the-Trainer-API\">Fine-tuning the model with the Trainer API</a>\n",
    "    </li>\n",
    "    <li>\n",
    "        <a href=\"#Using-the-fine-tuned model\">Training loop</a>\n",
    "    </li>\n",
    "    <li>\n",
    "        <a href=\"#A-custom-training-loop\">A custom training loop</a>\n",
    "    </li>\n",
    "    <li>\n",
    "        <a href=\"#Training-loop\">Training loop</a>\n",
    "    </li>\n",
    "</ol>"
   ]
  },
  {
   "cell_type": "markdown",
   "id": "846661e7-c453-4810-8556-8c5d0facaee3",
   "metadata": {},
   "source": [
    "## Introduction"
   ]
  },
  {
   "cell_type": "markdown",
   "id": "d5caffe6-c6fe-4736-923f-3f65c2efa9aa",
   "metadata": {},
   "source": [
    "Time to look at question answering! This task comes in many flavors, but the one we’ll focus on in this section is called extractive question answering. This involves posing questions about a document and identifying the answers as spans of text in the document itself.\n",
    "\n",
    "We will fine-tune a BERT model on the [SQuAD dataset](https://rajpurkar.github.io/SQuAD-explorer/), which consists of questions posed by crowdworkers on a set of Wikipedia articles. This will give us a model able to compute predictions like this one:\n",
    "\n",
    "This is actually showcasing the model that was trained and uploaded to the Hub using the code shown in this section. You can find it and double-check the predictions [here](https://huggingface.co/huggingface-course/bert-finetuned-squad?context=%F0%9F%A4%97+Transformers+is+backed+by+the+three+most+popular+deep+learning+libraries+%E2%80%94+Jax%2C+PyTorch+and+TensorFlow+%E2%80%94+with+a+seamless+integration+between+them.+It%27s+straightforward+to+train+your+models+with+one+before+loading+them+for+inference+with+the+other.&question=Which+deep+learning+libraries+back+%F0%9F%A4%97+Transformers%3F).\n",
    "\n",
    "💡 Encoder-only models like BERT tend to be great at extracting answers to factoid questions like “Who invented the Transformer architecture?” but fare poorly when given open-ended questions like “Why is the sky blue?” In these more challenging cases, encoder-decoder models like T5 and BART are typically used to synthesize the information in a way that’s quite similar to [text summarization](https://huggingface.co/course/chapter7/5). If you’re interested in this type of generative question answering, we recommend checking out our [demo](https://yjernite.github.io/lfqa.html) based on the [ELI5 dataset](https://huggingface.co/datasets/eli5)."
   ]
  },
  {
   "cell_type": "code",
   "execution_count": 1,
   "id": "c97cb4b7-b42c-4f7a-946f-f132bc01bdeb",
   "metadata": {},
   "outputs": [
    {
     "name": "stdout",
     "output_type": "stream",
     "text": [
      "True\n",
      "Tesla P40\n"
     ]
    }
   ],
   "source": [
    "import os\n",
    "os.environ[\"CUDA_VISIBLE_DEVICES\"] = \"0\"\n",
    "\n",
    "import torch\n",
    "print(torch.cuda.is_available())\n",
    "print(torch.cuda.get_device_name())"
   ]
  },
  {
   "cell_type": "markdown",
   "id": "529bcdc0-ff4a-448a-8673-d2742b76e177",
   "metadata": {},
   "source": [
    "## Preparing the data"
   ]
  },
  {
   "cell_type": "markdown",
   "id": "687d951f-384b-4ff5-b20e-1320d0aba96a",
   "metadata": {},
   "source": [
    "The dataset that is used the most as an academic benchmark for extractive question answering is [SQuAD](https://rajpurkar.github.io/SQuAD-explorer/), so that’s the one we’ll use here. There is also a harder [SQuAD v2](https://huggingface.co/datasets/squad_v2) benchmark, which includes questions that don’t have an answer. As long as your own dataset contains a column for contexts, a column for questions, and a column for answers, you should be able to adapt the steps below."
   ]
  },
  {
   "cell_type": "markdown",
   "id": "5b4b448e-c79b-47ba-9f72-7e9d8d89ee6c",
   "metadata": {},
   "source": [
    "###  The SQuAD dataset\n",
    "As usual, we can download and cache the dataset in just one step thanks to `load_dataset()`:"
   ]
  },
  {
   "cell_type": "code",
   "execution_count": 2,
   "id": "03b008f7-c586-4eba-8ab5-f24108a94d0c",
   "metadata": {},
   "outputs": [],
   "source": [
    "from datasets import load_dataset\n",
    "\n",
    "raw_datasets = load_dataset(\"squad\")"
   ]
  },
  {
   "cell_type": "markdown",
   "id": "8959cf39-7a87-429f-97b2-58a9b870fccd",
   "metadata": {},
   "source": [
    "We can then have a look at this object to learn more about the SQuAD dataset:"
   ]
  },
  {
   "cell_type": "code",
   "execution_count": 3,
   "id": "79849e14-ab79-4736-b720-5c83f6412632",
   "metadata": {},
   "outputs": [
    {
     "data": {
      "text/plain": [
       "DatasetDict({\n",
       "    train: Dataset({\n",
       "        features: ['id', 'title', 'context', 'question', 'answers'],\n",
       "        num_rows: 87599\n",
       "    })\n",
       "    validation: Dataset({\n",
       "        features: ['id', 'title', 'context', 'question', 'answers'],\n",
       "        num_rows: 10570\n",
       "    })\n",
       "})"
      ]
     },
     "execution_count": 3,
     "metadata": {},
     "output_type": "execute_result"
    }
   ],
   "source": [
    "raw_datasets"
   ]
  },
  {
   "cell_type": "markdown",
   "id": "ef4785ea-3203-4fa6-a7ee-165d6e21422e",
   "metadata": {},
   "source": [
    "It looks like we have everything we need with the context, question, and answers fields, so let’s print those for the first element of our training set:"
   ]
  },
  {
   "cell_type": "code",
   "execution_count": 4,
   "id": "a279740e-c93f-424f-9d2d-5605d42afbd8",
   "metadata": {},
   "outputs": [
    {
     "name": "stdout",
     "output_type": "stream",
     "text": [
      "Context:  Architecturally, the school has a Catholic character. Atop the Main Building's gold dome is a golden statue of the Virgin Mary. Immediately in front of the Main Building and facing it, is a copper statue of Christ with arms upraised with the legend \"Venite Ad Me Omnes\". Next to the Main Building is the Basilica of the Sacred Heart. Immediately behind the basilica is the Grotto, a Marian place of prayer and reflection. It is a replica of the grotto at Lourdes, France where the Virgin Mary reputedly appeared to Saint Bernadette Soubirous in 1858. At the end of the main drive (and in a direct line that connects through 3 statues and the Gold Dome), is a simple, modern stone statue of Mary. \n",
      "\n",
      "Question:  To whom did the Virgin Mary allegedly appear in 1858 in Lourdes France? \n",
      "\n",
      "Answer:  {'text': ['Saint Bernadette Soubirous'], 'answer_start': [515]} \n",
      "\n"
     ]
    }
   ],
   "source": [
    "print(\"Context: \", raw_datasets[\"train\"][0][\"context\"],\"\\n\")\n",
    "print(\"Question: \", raw_datasets[\"train\"][0][\"question\"],\"\\n\")\n",
    "print(\"Answer: \", raw_datasets[\"train\"][0][\"answers\"],\"\\n\")"
   ]
  },
  {
   "cell_type": "markdown",
   "id": "2fe5ece6-2707-44b1-b0b2-08eefbaba84e",
   "metadata": {},
   "source": [
    "The `context` and `question` fields are very straightforward to use. The `answers` field is a bit trickier as it comports a dictionary with two fields that are both lists. This is the format that will be expected by the `squad` metric during evaluation; if you are using your own data, you don’t necessarily need to worry about putting the answers in the same format. The `text` field is rather obvious, and the `answer_start` field contains the starting character index of each answer in the context.\n",
    "\n",
    "During training, there is only one possible answer. We can double-check this by using the `Dataset.filter()` method:"
   ]
  },
  {
   "cell_type": "code",
   "execution_count": 5,
   "id": "f92def77-c151-4e49-a647-cc7c3dd4f800",
   "metadata": {},
   "outputs": [
    {
     "data": {
      "text/plain": [
       "Dataset({\n",
       "    features: ['id', 'title', 'context', 'question', 'answers'],\n",
       "    num_rows: 0\n",
       "})"
      ]
     },
     "execution_count": 5,
     "metadata": {},
     "output_type": "execute_result"
    }
   ],
   "source": [
    "raw_datasets[\"train\"].filter(lambda x: len(x[\"answers\"][\"text\"]) != 1)"
   ]
  },
  {
   "cell_type": "markdown",
   "id": "d0ddac0c-47a9-465e-b99e-7b01c36766d5",
   "metadata": {},
   "source": [
    "For evaluation, however, there are several possible answers for each sample, which may be the same or different:"
   ]
  },
  {
   "cell_type": "code",
   "execution_count": 6,
   "id": "0498f135-4520-464a-9709-72d76ce546ae",
   "metadata": {},
   "outputs": [
    {
     "name": "stdout",
     "output_type": "stream",
     "text": [
      "{'text': ['Denver Broncos', 'Denver Broncos', 'Denver Broncos'], 'answer_start': [177, 177, 177]}\n",
      "{'text': ['Santa Clara, California', \"Levi's Stadium\", \"Levi's Stadium in the San Francisco Bay Area at Santa Clara, California.\"], 'answer_start': [403, 355, 355]}\n"
     ]
    }
   ],
   "source": [
    "print(raw_datasets[\"validation\"][0][\"answers\"])\n",
    "print(raw_datasets[\"validation\"][2][\"answers\"])"
   ]
  },
  {
   "cell_type": "markdown",
   "id": "f9756ae1-5605-46f5-9501-1ca6561652df",
   "metadata": {},
   "source": [
    "We won’t dive into the evaluation script as it will all be wrapped up by a 🤗 Datasets metric for us, but the short version is that some of the questions have several possible answers, and this script will compare a predicted answer to all the acceptable answers and take the best score. If we take a look at the sample at index 2, for instance:"
   ]
  },
  {
   "cell_type": "code",
   "execution_count": 7,
   "id": "b68d15f7-6dee-46e2-8fa8-ba3127d1ddc1",
   "metadata": {},
   "outputs": [
    {
     "name": "stdout",
     "output_type": "stream",
     "text": [
      "Super Bowl 50 was an American football game to determine the champion of the National Football League (NFL) for the 2015 season. The American Football Conference (AFC) champion Denver Broncos defeated the National Football Conference (NFC) champion Carolina Panthers 24–10 to earn their third Super Bowl title. The game was played on February 7, 2016, at Levi's Stadium in the San Francisco Bay Area at Santa Clara, California. As this was the 50th Super Bowl, the league emphasized the \"golden anniversary\" with various gold-themed initiatives, as well as temporarily suspending the tradition of naming each Super Bowl game with Roman numerals (under which the game would have been known as \"Super Bowl L\"), so that the logo could prominently feature the Arabic numerals 50.\n",
      "Where did Super Bowl 50 take place?\n"
     ]
    }
   ],
   "source": [
    "print(raw_datasets[\"validation\"][2][\"context\"])\n",
    "print(raw_datasets[\"validation\"][2][\"question\"])"
   ]
  },
  {
   "cell_type": "markdown",
   "id": "939186de-b7b1-4745-88f6-2d1e8f931ec3",
   "metadata": {},
   "source": [
    "we can see that the answer can indeed be one of the three possibilities we saw before."
   ]
  },
  {
   "cell_type": "markdown",
   "id": "13eaaeee-f250-4fa6-b0a3-f03c718e3a82",
   "metadata": {},
   "source": [
    "###  Processing the training data\n",
    "\n",
    "Let’s start with preprocessing the training data. The hard part will be to generate labels for the question’s answer, which will be the start and end positions of the tokens corresponding to the answer inside the context.\n",
    "\n",
    "But let’s not get ahead of ourselves. First, we need to convert the text in the input into IDs the model can make sense of, using a tokenizer:"
   ]
  },
  {
   "cell_type": "code",
   "execution_count": 8,
   "id": "feb9d6fd-60f1-4516-9da1-28089df6115f",
   "metadata": {},
   "outputs": [
    {
     "name": "stderr",
     "output_type": "stream",
     "text": [
      "/home/loc/miniconda3/envs/py38/lib/python3.8/site-packages/transformers/tokenization_utils_base.py:1617: FutureWarning: `clean_up_tokenization_spaces` was not set. It will be set to `True` by default. This behavior will be deprecated in transformers v4.45, and will be then set to `False` by default. For more details check this issue: https://github.com/huggingface/transformers/issues/31884\n",
      "  warnings.warn(\n"
     ]
    }
   ],
   "source": [
    "from transformers import AutoTokenizer\n",
    "\n",
    "model_checkpoint = \"bert-base-cased\"\n",
    "tokenizer = AutoTokenizer.from_pretrained(model_checkpoint)"
   ]
  },
  {
   "cell_type": "markdown",
   "id": "98bb71cb-76df-4dc1-8541-5af1f06a1132",
   "metadata": {},
   "source": [
    "As mentioned previously, we’ll be fine-tuning a BERT model, but you can use any other model type as long as it has a fast tokenizer implemented. You can see all the architectures that come with a fast version in this big table, and to check that the `tokenizer` object you’re using is indeed backed by 🤗 Tokenizers you can look at its `is_fast` attribute:\n",
    "\n",
    "```\n",
    "tokenizer.is_fast\n",
    ">>> True\n",
    "```\n",
    "\n",
    "We can pass to our tokenizer the question and the context together, and it will properly insert the special tokens to form a sentence like this:\n",
    "\n",
    "```\n",
    "[CLS] question [SEP] context [SEP]\n",
    "```\n",
    "\n",
    "Let’s double-check:"
   ]
  },
  {
   "cell_type": "code",
   "execution_count": 9,
   "id": "dbc59902-d9c2-44bc-b1c8-434e9db1e318",
   "metadata": {},
   "outputs": [
    {
     "name": "stdout",
     "output_type": "stream",
     "text": [
      "To whom did the Virgin Mary allegedly appear in 1858 in Lourdes France? Architecturally, the school has a Catholic character. Atop the Main Building's gold dome is a golden statue of the Virgin Mary. Immediately in front of the Main Building and facing it, is a copper statue of Christ with arms upraised with the legend \"Venite Ad Me Omnes\". Next to the Main Building is the Basilica of the Sacred Heart. Immediately behind the basilica is the Grotto, a Marian place of prayer and reflection. It is a replica of the grotto at Lourdes, France where the Virgin Mary reputedly appeared to Saint Bernadette Soubirous in 1858. At the end of the main drive (and in a direct line that connects through 3 statues and the Gold Dome), is a simple, modern stone statue of Mary.\n",
      "\n"
     ]
    },
    {
     "data": {
      "text/plain": [
       "'[CLS] To whom did the Virgin Mary allegedly appear in 1858 in Lourdes France? [SEP] Architecturally, the school has a Catholic character. Atop the Main Building\\'s gold dome is a golden statue of the Virgin Mary. Immediately in front of the Main Building and facing it, is a copper statue of Christ with arms upraised with the legend \" Venite Ad Me Omnes \". Next to the Main Building is the Basilica of the Sacred Heart. Immediately behind the basilica is the Grotto, a Marian place of prayer and reflection. It is a replica of the grotto at Lourdes, France where the Virgin Mary reputedly appeared to Saint Bernadette Soubirous in 1858. At the end of the main drive ( and in a direct line that connects through 3 statues and the Gold Dome ), is a simple, modern stone statue of Mary. [SEP]'"
      ]
     },
     "execution_count": 9,
     "metadata": {},
     "output_type": "execute_result"
    }
   ],
   "source": [
    "context = raw_datasets[\"train\"][0][\"context\"]\n",
    "question = raw_datasets[\"train\"][0][\"question\"]\n",
    "\n",
    "print(question, context)\n",
    "print()\n",
    "\n",
    "inputs = tokenizer(question, context)\n",
    "tokenizer.decode(inputs[\"input_ids\"])"
   ]
  },
  {
   "attachments": {
    "102edcc3-4cd7-40fe-bd6a-bbd48f9bcc85.png": {
     "image/png": "[encoded data removed]"
    }
   },
   "cell_type": "markdown",
   "id": "ee54ddca-fd06-48f7-af6e-510e1851ef27",
   "metadata": {},
   "source": [
    "The labels will then be the index of the tokens starting and ending the answer, and the model will be tasked to predicted one start and end logit per token in the input, with the theoretical labels being as follow:\n",
    "\n",
    "![image.png](attachment:102edcc3-4cd7-40fe-bd6a-bbd48f9bcc85.png)\n",
    "\n",
    "In this case the context is not too long, but some of the examples in the dataset have very long contexts that will exceed the maximum length we set (which is 384 in this case). As we saw in [Chapter 6](https://huggingface.co/course/chapter6/4) when we explored the internals of the `question-answering` pipeline, we will deal with long contexts by creating several training features from one sample of our dataset, with a sliding window between them.\n",
    "\n",
    "To see how this works using the current example, we can limit the length to 100 and use a sliding window of 50 tokens. As a reminder, we use:\n",
    "\n",
    "- `max_length` to set the maximum length (here 100)\n",
    "\n",
    "- `truncation=\"only_second\"` to truncate the context (which is in the second position) when the question with its context is too long\n",
    "\n",
    "- `stride` to set the number of overlapping tokens between two successive chunks (here 50)\n",
    "\n",
    "- `return_overflowing_tokens=True` to let the tokenizer know we want the overflowing tokens"
   ]
  },
  {
   "cell_type": "code",
   "execution_count": 10,
   "id": "7c881be8-d847-4761-9933-dbc7580d101f",
   "metadata": {},
   "outputs": [
    {
     "name": "stdout",
     "output_type": "stream",
     "text": [
      "[CLS] To whom did the Virgin Mary allegedly appear in 1858 in Lourdes France? [SEP] Architecturally, the school has a Catholic character. Atop the Main Building's gold dome is a golden statue of the Virgin Mary. Immediately in front of the Main Building and facing it, is a copper statue of Christ with arms upraised with the legend \" Venite Ad Me Omnes \". Next to the Main Building is the Basilica of the Sacred Heart. Immediately behind the basi [SEP]\n",
      "---\n",
      "[CLS] To whom did the Virgin Mary allegedly appear in 1858 in Lourdes France? [SEP] the Main Building and facing it, is a copper statue of Christ with arms upraised with the legend \" Venite Ad Me Omnes \". Next to the Main Building is the Basilica of the Sacred Heart. Immediately behind the basilica is the Grotto, a Marian place of prayer and reflection. It is a replica of the grotto at Lourdes, France where the Virgin [SEP]\n",
      "---\n",
      "[CLS] To whom did the Virgin Mary allegedly appear in 1858 in Lourdes France? [SEP] Next to the Main Building is the Basilica of the Sacred Heart. Immediately behind the basilica is the Grotto, a Marian place of prayer and reflection. It is a replica of the grotto at Lourdes, France where the Virgin Mary reputedly appeared to Saint Bernadette Soubirous in 1858. At the end of the main drive ( and in a direct line that connects through 3 [SEP]\n",
      "---\n",
      "[CLS] To whom did the Virgin Mary allegedly appear in 1858 in Lourdes France? [SEP]. It is a replica of the grotto at Lourdes, France where the Virgin Mary reputedly appeared to Saint Bernadette Soubirous in 1858. At the end of the main drive ( and in a direct line that connects through 3 statues and the Gold Dome ), is a simple, modern stone statue of Mary. [SEP]\n",
      "---\n"
     ]
    }
   ],
   "source": [
    "inputs = tokenizer(\n",
    "    question,\n",
    "    context,\n",
    "    max_length=100,\n",
    "    truncation=\"only_second\",\n",
    "    stride=50,\n",
    "    return_overflowing_tokens=True,\n",
    ")\n",
    "\n",
    "for ids in inputs[\"input_ids\"]:\n",
    "    print(tokenizer.decode(ids))\n",
    "    print(\"---\")"
   ]
  },
  {
   "cell_type": "markdown",
   "id": "140596b0-571f-44f2-9724-9ce9c8785b0b",
   "metadata": {},
   "source": [
    "As we can see, our example has been in split into four inputs, each of them containing the question and some part of the context. Note that the answer to the question (“Bernadette Soubirous”) only appears in the third and last inputs, so by dealing with long contexts in this way we will create some training examples where the answer is not included in the context. For those examples, the labels will be `start_position = end_position = 0` (so we predict the [CLS] token). We will also set those labels in the unfortunate case where the answer has been truncated so that we only have the start (or end) of it. For the examples where the answer is fully in the context, the labels will be the index of the token where the answer starts and the index of the token where the answer ends.\n",
    "\n",
    "\n",
    "The dataset provides us with the start character of the answer in the context, and by adding the length of the answer, we can find the end character in the context. To map those to token indices, we will need to use the offset mappings we studied in [Chapter 6](https://huggingface.co/course/chapter6/4). We can have our tokenizer return these by passing along `return_offsets_mapping=True`:"
   ]
  },
  {
   "cell_type": "code",
   "execution_count": 11,
   "id": "778301aa-176b-44a2-ad23-c552584ae768",
   "metadata": {},
   "outputs": [
    {
     "data": {
      "text/plain": [
       "dict_keys(['input_ids', 'token_type_ids', 'attention_mask', 'offset_mapping', 'overflow_to_sample_mapping'])"
      ]
     },
     "execution_count": 11,
     "metadata": {},
     "output_type": "execute_result"
    }
   ],
   "source": [
    "inputs = tokenizer(\n",
    "    question,\n",
    "    context,\n",
    "    max_length=100,\n",
    "    truncation=\"only_second\",\n",
    "    stride=50,\n",
    "    return_overflowing_tokens=True,\n",
    "    return_offsets_mapping=True,\n",
    ")\n",
    "inputs.keys()"
   ]
  },
  {
   "cell_type": "markdown",
   "id": "aac7b9c6-5fb4-4a1e-a4bc-f883617b4d8f",
   "metadata": {},
   "source": [
    "As we can see, we get back the usual input IDs, token type IDs, and attention mask, as well as the offset mapping we required and an extra key, overflow_to_sample_mapping. The corresponding value will be of use to us when we tokenize several texts at the same time (which we should do to benefit from the fact that our tokenizer is backed by Rust). Since one sample can give several features, it maps each feature to the example it originated from. Because here we only tokenized one example, we get a list of 0s:\n",
    "\n"
   ]
  },
  {
   "cell_type": "code",
   "execution_count": 12,
   "id": "9399a043-e49a-43fb-867f-391c445a933d",
   "metadata": {},
   "outputs": [
    {
     "data": {
      "text/plain": [
       "[0, 0, 0, 0]"
      ]
     },
     "execution_count": 12,
     "metadata": {},
     "output_type": "execute_result"
    }
   ],
   "source": [
    "inputs[\"overflow_to_sample_mapping\"]"
   ]
  },
  {
   "cell_type": "markdown",
   "id": "47fcb00b-5a4c-40cd-9a05-3b331687879e",
   "metadata": {},
   "source": [
    "But if we tokenize more examples, this will become more useful:"
   ]
  },
  {
   "cell_type": "code",
   "execution_count": 13,
   "id": "fda6154f-bbbf-49d7-b26d-b578fca13ea6",
   "metadata": {},
   "outputs": [
    {
     "name": "stdout",
     "output_type": "stream",
     "text": [
      "The 4 examples gave 19 features.\n",
      "Here is where each comes from: [0, 0, 0, 0, 1, 1, 1, 1, 2, 2, 2, 2, 3, 3, 3, 3, 3, 3, 3].\n"
     ]
    }
   ],
   "source": [
    "# Tokenizing a subset of the training dataset (from index 2 to 5)\n",
    "inputs = tokenizer(\n",
    "    raw_datasets[\"train\"][2:6][\"question\"],  # Extracting 'question' field for tokenization\n",
    "    raw_datasets[\"train\"][2:6][\"context\"],   # Extracting 'context' field for tokenization\n",
    "    max_length=100,                          # Setting maximum sequence length to 100 tokens\n",
    "    truncation=\"only_second\",                # Truncating the 'context' part if it exceeds max_length\n",
    "    stride=50,                               # Stride size of 50 tokens for handling overflow (splitting into multiple chunks)\n",
    "    return_overflowing_tokens=True,          # Ensuring that any overflow tokens are returned\n",
    "    return_offsets_mapping=True,             # Returning offset mappings to trace original positions of tokens\n",
    ")\n",
    "\n",
    "# Printing the total number of tokenized sequences generated\n",
    "print(f\"The 4 examples gave {len(inputs['input_ids'])} features.\")\n",
    "\n",
    "# Printing the mapping from overflowed tokens back to the original dataset entries\n",
    "print(f\"Here is where each comes from: {inputs['overflow_to_sample_mapping']}.\")\n"
   ]
  },
  {
   "cell_type": "markdown",
   "id": "d4c30189-8635-4bc3-808a-3b8ee66714a7",
   "metadata": {},
   "source": [
    "As we can see, the first three examples (at indices 2, 3, and 4 in the training set) each gave four features and the last example (at index 5 in the training set) gave 7 features.\n",
    "\n",
    "This information will be useful to map each feature we get to its corresponding label. As mentioned earlier, those labels are:\n",
    "\n",
    "- `(0, 0)` if the answer is not in the corresponding span of the context\n",
    "\n",
    "- `(start_position, end_position)` if the answer is in the corresponding span of the context, with `start_position` being the index of the token (in the input IDs) at the start of the answer and `end_position` being the index of the token (in the input IDs) where the answer ends\n",
    "\n",
    "To determine which of these is the case and, if relevant, the positions of the tokens, we first find the indices that start and end the context in the input IDs. We could use the token type IDs to do this, but since those do not necessarily exist for all models (DistilBERT does not require them, for instance), we’ll instead use the `sequence_ids()` method of the `BatchEncoding` our tokenizer returns.\n",
    "\n",
    "Once we have those token indices, we look at the corresponding offsets, which are tuples of two integers representing the span of characters inside the original context. We can thus detect if the chunk of the context in this feature starts after the answer or ends before the answer begins (in which case the label is `(0, 0)`). If that’s not the case, we loop to find the first and last token of the answer:"
   ]
  },
  {
   "cell_type": "code",
   "execution_count": 14,
   "id": "b26ded1d-36c1-40e8-8306-8a0922b7d173",
   "metadata": {},
   "outputs": [
    {
     "data": {
      "text/plain": [
       "([83, 51, 19, 0, 0, 64, 27, 0, 34, 0, 0, 0, 67, 34, 0, 0, 0, 0, 0],\n",
       " [85, 53, 21, 0, 0, 70, 33, 0, 40, 0, 0, 0, 68, 35, 0, 0, 0, 0, 0])"
      ]
     },
     "execution_count": 14,
     "metadata": {},
     "output_type": "execute_result"
    }
   ],
   "source": [
    "# Extracting the \"answers\" from the raw dataset (train subset)\n",
    "answers = raw_datasets[\"train\"][2:6][\"answers\"]\n",
    "start_positions = []  # List to store start token positions\n",
    "end_positions = []  # List to store end token positions\n",
    "\n",
    "# Iterate through the input sequence offsets\n",
    "for i, offset in enumerate(inputs[\"offset_mapping\"]):\n",
    "    # Mapping index from the overflow sequence\n",
    "    sample_idx = inputs[\"overflow_to_sample_mapping\"][i]\n",
    "    answer = answers[sample_idx]\n",
    "    \n",
    "    # Get the starting character and the ending character of the answer\n",
    "    start_char = answer[\"answer_start\"][0]\n",
    "    end_char = answer[\"answer_start\"][0] + len(answer[\"text\"][0])\n",
    "    \n",
    "    # Get the sequence IDs to identify the context and question spans\n",
    "    sequence_ids = inputs.sequence_ids(i)\n",
    "\n",
    "    # Find the start and end of the context (part of the input that holds the passage)\n",
    "    idx = 0\n",
    "    while sequence_ids[idx] != 1:\n",
    "        idx += 1\n",
    "    context_start = idx  # First token of the context\n",
    "    while sequence_ids[idx] == 1:\n",
    "        idx += 1\n",
    "    context_end = idx - 1  # Last token of the context\n",
    "\n",
    "    # If the answer is not fully inside the context (not in the context span), label the positions as (0, 0)\n",
    "    if offset[context_start][0] > start_char or offset[context_end][1] < end_char:\n",
    "        start_positions.append(0)\n",
    "        end_positions.append(0)\n",
    "    else:\n",
    "        # Otherwise, find the token positions corresponding to the answer's start and end within the context\n",
    "        idx = context_start\n",
    "        # Find the token corresponding to the start of the answer\n",
    "        while idx <= context_end and offset[idx][0] <= start_char:\n",
    "            idx += 1\n",
    "        start_positions.append(idx - 1)  # Append the start token position\n",
    "\n",
    "        idx = context_end\n",
    "        # Find the token corresponding to the end of the answer\n",
    "        while idx >= context_start and offset[idx][1] >= end_char:\n",
    "            idx -= 1\n",
    "        end_positions.append(idx + 1)  # Append the end token position\n",
    "\n",
    "# Return the final start and end positions\n",
    "start_positions, end_positions\n"
   ]
  },
  {
   "cell_type": "markdown",
   "id": "4f545324-7dc8-42da-9a91-b0dd8b4c1fee",
   "metadata": {},
   "source": [
    "Let’s take a look at a few results to verify that our approach is correct. For the first feature we find `(83, 85)` as labels, so let’s compare the theoretical answer with the decoded span of tokens from 83 to 85 (inclusive):"
   ]
  },
  {
   "cell_type": "code",
   "execution_count": 15,
   "id": "7e432b15-7cb4-4ede-8307-ba431423a0a8",
   "metadata": {},
   "outputs": [
    {
     "name": "stdout",
     "output_type": "stream",
     "text": [
      "83 85\n",
      "Theoretical answer: the Main Building, labels give: the Main Building\n"
     ]
    }
   ],
   "source": [
    "idx = 0\n",
    "sample_idx = inputs[\"overflow_to_sample_mapping\"][idx]\n",
    "answer = answers[sample_idx][\"text\"][0]\n",
    "\n",
    "start = start_positions[idx]\n",
    "end = end_positions[idx]\n",
    "print(start, end)\n",
    "labeled_answer = tokenizer.decode(inputs[\"input_ids\"][idx][start : end + 1])\n",
    "\n",
    "print(f\"Theoretical answer: {answer}, labels give: {labeled_answer}\")"
   ]
  },
  {
   "cell_type": "code",
   "execution_count": 16,
   "id": "1dea6610-b892-48c5-91c8-e5ae68e4684d",
   "metadata": {},
   "outputs": [
    {
     "data": {
      "text/plain": [
       "[0, 0, 0, 0, 1, 1, 1, 1, 2, 2, 2, 2, 3, 3, 3, 3, 3, 3, 3]"
      ]
     },
     "execution_count": 16,
     "metadata": {},
     "output_type": "execute_result"
    }
   ],
   "source": [
    "inputs[\"overflow_to_sample_mapping\"]"
   ]
  },
  {
   "cell_type": "markdown",
   "id": "e845ba6f-af04-4a7a-803c-5c208fba8d6d",
   "metadata": {},
   "source": [
    "So that’s a match! Now let’s check index 4, where we set the labels to `(0, 0)`, which means the answer is not in the context chunk of that feature:"
   ]
  },
  {
   "cell_type": "code",
   "execution_count": 17,
   "id": "4dee1f7f-6c38-4e86-8701-e70d897a352d",
   "metadata": {},
   "outputs": [
    {
     "name": "stdout",
     "output_type": "stream",
     "text": [
      "Theoretical answer: a Marian place of prayer and reflection, decoded example: [CLS] What is the Grotto at Notre Dame? [SEP] Architecturally, the school has a Catholic character. Atop the Main Building's gold dome is a golden statue of the Virgin Mary. Immediately in front of the Main Building and facing it, is a copper statue of Christ with arms upraised with the legend \" Venite Ad Me Omnes \". Next to the Main Building is the Basilica of the Sacred Heart. Immediately behind the basilica is the Grot [SEP]\n"
     ]
    }
   ],
   "source": [
    "idx = 4\n",
    "sample_idx = inputs[\"overflow_to_sample_mapping\"][idx]\n",
    "answer = answers[sample_idx][\"text\"][0]\n",
    "\n",
    "decoded_example = tokenizer.decode(inputs[\"input_ids\"][idx])\n",
    "print(f\"Theoretical answer: {answer}, decoded example: {decoded_example}\")"
   ]
  },
  {
   "cell_type": "markdown",
   "id": "66ccdc73-4ec4-40ae-99fd-97f89905806a",
   "metadata": {},
   "source": [
    "Indeed, we don’t see the answer inside the context.\n",
    "\n",
    "✏️ Your turn! When using the `XLNet architecture`, padding is applied on the left and the question and context are switched. Adapt all the code we just saw to the XLNet architecture (and add `padding=True`). Be aware that the `[CLS]` token may not be at the 0 position with padding applied.\n",
    "\n",
    "Now that we have seen step by step how to preprocess our training data, we can group it in a function we will apply on the whole training dataset. We’ll pad every feature to the maximum length we set, as most of the contexts will be long (and the corresponding samples will be split into several features), so there is no real benefit to applying dynamic padding here:"
   ]
  },
  {
   "cell_type": "code",
   "execution_count": 18,
   "id": "3196463e-3a75-4da2-93a1-26211c79668e",
   "metadata": {},
   "outputs": [],
   "source": [
    "max_length = 384\n",
    "stride = 128\n",
    "\n",
    "\n",
    "def preprocess_training_examples(examples):\n",
    "    questions = [q.strip() for q in examples[\"question\"]]\n",
    "    inputs = tokenizer(\n",
    "        questions,\n",
    "        examples[\"context\"],\n",
    "        max_length=max_length,\n",
    "        truncation=\"only_second\",\n",
    "        stride=stride,\n",
    "        return_overflowing_tokens=True,\n",
    "        return_offsets_mapping=True,\n",
    "        padding=\"max_length\",\n",
    "    )\n",
    "\n",
    "    offset_mapping = inputs.pop(\"offset_mapping\")\n",
    "    sample_map = inputs.pop(\"overflow_to_sample_mapping\")\n",
    "    answers = examples[\"answers\"]\n",
    "    start_positions = []\n",
    "    end_positions = []\n",
    "\n",
    "    for i, offset in enumerate(offset_mapping):\n",
    "        sample_idx = sample_map[i]\n",
    "        answer = answers[sample_idx]\n",
    "        start_char = answer[\"answer_start\"][0]\n",
    "        end_char = answer[\"answer_start\"][0] + len(answer[\"text\"][0])\n",
    "        sequence_ids = inputs.sequence_ids(i)\n",
    "\n",
    "        # Find the start and end of the context\n",
    "        idx = 0\n",
    "        while sequence_ids[idx] != 1:\n",
    "            idx += 1\n",
    "        context_start = idx\n",
    "        while sequence_ids[idx] == 1:\n",
    "            idx += 1\n",
    "        context_end = idx - 1\n",
    "\n",
    "        # If the answer is not fully inside the context, label is (0, 0)\n",
    "        if offset[context_start][0] > start_char or offset[context_end][1] < end_char:\n",
    "            start_positions.append(0)\n",
    "            end_positions.append(0)\n",
    "        else:\n",
    "            # Otherwise it's the start and end token positions\n",
    "            idx = context_start\n",
    "            while idx <= context_end and offset[idx][0] <= start_char:\n",
    "                idx += 1\n",
    "            start_positions.append(idx - 1)\n",
    "\n",
    "            idx = context_end\n",
    "            while idx >= context_start and offset[idx][1] >= end_char:\n",
    "                idx -= 1\n",
    "            end_positions.append(idx + 1)\n",
    "\n",
    "    inputs[\"start_positions\"] = start_positions\n",
    "    inputs[\"end_positions\"] = end_positions\n",
    "    return inputs"
   ]
  },
  {
   "cell_type": "markdown",
   "id": "fdb4ec0f-6b96-4daa-91fc-137b78262f92",
   "metadata": {},
   "source": [
    "Note that we defined two constants to determine the maximum length used as well as the length of the sliding window, and that we added a tiny bit of cleanup before tokenizing: some of the questions in the SQuAD dataset have extra spaces at the beginning and the end that don’t add anything (and take up space when being tokenized if you use a model like RoBERTa), so we removed those extra spaces.\n",
    "\n",
    "To apply this function to the whole training set, we use the `Dataset.map()` method with the `batched=True` flag. It’s necessary here as we are changing the length of the dataset (since one example can give several training features):"
   ]
  },
  {
   "cell_type": "code",
   "execution_count": 19,
   "id": "2c412810-4129-4e1d-ae11-4824941f413d",
   "metadata": {},
   "outputs": [
    {
     "data": {
      "text/plain": [
       "(87599, 88729)"
      ]
     },
     "execution_count": 19,
     "metadata": {},
     "output_type": "execute_result"
    }
   ],
   "source": [
    "train_dataset = raw_datasets[\"train\"].map(\n",
    "    preprocess_training_examples,\n",
    "    batched=True,\n",
    "    remove_columns=raw_datasets[\"train\"].column_names,\n",
    ")\n",
    "len(raw_datasets[\"train\"]), len(train_dataset)"
   ]
  },
  {
   "cell_type": "markdown",
   "id": "af70f280-546d-4887-b45e-4d82735b7ff6",
   "metadata": {},
   "source": [
    "As we can see, the preprocessing added roughly 1,000 features. Our training set is now ready to be used — let’s dig into the preprocessing of the validation set!"
   ]
  },
  {
   "cell_type": "markdown",
   "id": "29d5615f-cd1a-42bd-8ad0-3f0e3490c2b2",
   "metadata": {},
   "source": [
    "##  Processing the validation data\n",
    "\n",
    "Preprocessing the validation data will be slightly easier as we don’t need to generate labels (unless we want to compute a validation loss, but that number won’t really help us understand how good the model is). The real joy will be to interpret the predictions of the model into spans of the original context. For this, we will just need to store both the offset mappings and some way to match each created feature to the original example it comes from. Since there is an ID column in the original dataset, we’ll use that ID.\n",
    "\n",
    "The only thing we’ll add here is a tiny bit of cleanup of the offset mappings. They will contain offsets for the question and the context, but once we’re in the post-processing stage we won’t have any way to know which part of the input IDs corresponded to the context and which part was the question (the `sequence_ids()` method we used is available for the output of the tokenizer only). So, we’ll set the offsets corresponding to the question to `None`:"
   ]
  },
  {
   "cell_type": "code",
   "execution_count": 20,
   "id": "ac4b6c2c-2440-487b-a247-28c018cd8970",
   "metadata": {},
   "outputs": [],
   "source": [
    "def preprocess_validation_examples(examples):\n",
    "    questions = [q.strip() for q in examples[\"question\"]]\n",
    "    inputs = tokenizer(\n",
    "        questions,\n",
    "        examples[\"context\"],\n",
    "        max_length=max_length,\n",
    "        truncation=\"only_second\",\n",
    "        stride=stride,\n",
    "        return_overflowing_tokens=True,\n",
    "        return_offsets_mapping=True,\n",
    "        padding=\"max_length\",\n",
    "    )\n",
    "\n",
    "    sample_map = inputs.pop(\"overflow_to_sample_mapping\")\n",
    "    example_ids = []\n",
    "\n",
    "    for i in range(len(inputs[\"input_ids\"])):\n",
    "        sample_idx = sample_map[i]\n",
    "        example_ids.append(examples[\"id\"][sample_idx])\n",
    "\n",
    "        sequence_ids = inputs.sequence_ids(i)\n",
    "        offset = inputs[\"offset_mapping\"][i]\n",
    "        inputs[\"offset_mapping\"][i] = [\n",
    "            o if sequence_ids[k] == 1 else None for k, o in enumerate(offset)\n",
    "        ]\n",
    "\n",
    "    inputs[\"example_id\"] = example_ids\n",
    "    return inputs"
   ]
  },
  {
   "cell_type": "markdown",
   "id": "48d11834-9505-45eb-b828-976e3362ff27",
   "metadata": {},
   "source": [
    "We can apply this function on the whole validation dataset like before:"
   ]
  },
  {
   "cell_type": "code",
   "execution_count": 21,
   "id": "0fa782e3-7103-42a5-a3ab-dd905dbc8ae4",
   "metadata": {},
   "outputs": [
    {
     "data": {
      "text/plain": [
       "(10570, 10822)"
      ]
     },
     "execution_count": 21,
     "metadata": {},
     "output_type": "execute_result"
    }
   ],
   "source": [
    "validation_dataset = raw_datasets[\"validation\"].map(\n",
    "    preprocess_validation_examples,\n",
    "    batched=True,\n",
    "    remove_columns=raw_datasets[\"validation\"].column_names,\n",
    ")\n",
    "len(raw_datasets[\"validation\"]), len(validation_dataset)"
   ]
  },
  {
   "cell_type": "markdown",
   "id": "1458be55-4ed5-44ef-9f79-e21bada95b73",
   "metadata": {},
   "source": [
    "In this case we’ve only added a couple of hundred samples, so it appears the contexts in the validation dataset are a bit shorter.\n",
    "\n",
    "Now that we have preprocessed all the data, we can get to the training."
   ]
  },
  {
   "cell_type": "code",
   "execution_count": 22,
   "id": "e9b9def1-fd53-48f6-8dbd-b493e9394c48",
   "metadata": {},
   "outputs": [
    {
     "data": {
      "text/plain": [
       "Dataset({\n",
       "    features: ['input_ids', 'token_type_ids', 'attention_mask', 'start_positions', 'end_positions'],\n",
       "    num_rows: 88729\n",
       "})"
      ]
     },
     "execution_count": 22,
     "metadata": {},
     "output_type": "execute_result"
    }
   ],
   "source": [
    "train_dataset"
   ]
  },
  {
   "cell_type": "code",
   "execution_count": 23,
   "id": "5d9f3b2a-e7e4-48c5-bdf9-239fa63c870c",
   "metadata": {},
   "outputs": [
    {
     "data": {
      "text/plain": [
       "Dataset({\n",
       "    features: ['input_ids', 'token_type_ids', 'attention_mask', 'offset_mapping', 'example_id'],\n",
       "    num_rows: 10822\n",
       "})"
      ]
     },
     "execution_count": 23,
     "metadata": {},
     "output_type": "execute_result"
    }
   ],
   "source": [
    "validation_dataset"
   ]
  },
  {
   "cell_type": "markdown",
   "id": "895aeafe-db4d-40e2-900b-0a4e91a98223",
   "metadata": {},
   "source": [
    "## Fine-tuning the model with the Trainer API\n",
    "\n",
    "The training code for this example will look a lot like the code in the previous sections — the hardest thing will be to write the `compute_metrics()` function. Since we padded all the samples to the maximum length we set, there is no data collator to define, so this metric computation is really the only thing we have to worry about. The difficult part will be to post-process the model predictions into spans of text in the original examples; once we have done that, the metric from the 🤗 Datasets library will do most of the work for us."
   ]
  },
  {
   "cell_type": "markdown",
   "id": "bc3ee0f7-a14f-4988-9f4e-48982dbf5260",
   "metadata": {},
   "source": [
    "###  Post-processing\n",
    "\n",
    "The model will output logits for the start and end positions of the answer in the input IDs, as we saw during our exploration of the [question-answering pipeline](https://huggingface.co/course/chapter6/3b). The post-processing step will be similar to what we did there, so here’s a quick reminder of the actions we took:\n",
    "\n",
    "- We masked the start and end logits corresponding to tokens outside of the context.\n",
    "- We then converted the start and end logits into probabilities using a softmax.\n",
    "- We attributed a score to each `(start_token, end_token)` pair by taking the product of the corresponding two probabilities.\n",
    "- We looked for the pair with the maximum score that yielded a valid answer (e.g., a `start_token` lower than `end_token`).\n",
    "\n",
    "Here we will change this process slightly because we don’t need to compute actual scores (just the predicted answer). This means we can skip the softmax step. To go faster, we also won’t score all the possible (start_token, end_token) pairs, but only the ones corresponding to the highest `n_best` logits (with `n_best=20`). Since we will skip the softmax, those scores will be logit scores, and will be obtained by taking the sum of the start and end logits (instead of the product, because of the $rulelog⁡(ab)=log⁡(a)+log⁡(b)$.\n",
    "\n",
    "To demonstrate all of this, we will need some kind of predictions. Since we have not trained our model yet, we are going to use the default model for the QA pipeline to generate some predictions on a small part of the validation set. We can use the same processing function as before; because it relies on the global constant `tokenizer`, we just have to change that object to the tokenizer of the model we want to use temporarily:"
   ]
  },
  {
   "cell_type": "code",
   "execution_count": 24,
   "id": "33fdf005-1a72-4852-89d9-1a7c93e32047",
   "metadata": {},
   "outputs": [
    {
     "data": {
      "text/plain": [
       "Dataset({\n",
       "    features: ['input_ids', 'attention_mask', 'offset_mapping', 'example_id'],\n",
       "    num_rows: 100\n",
       "})"
      ]
     },
     "execution_count": 24,
     "metadata": {},
     "output_type": "execute_result"
    }
   ],
   "source": [
    "small_eval_set = raw_datasets[\"validation\"].select(range(100))\n",
    "\n",
    "trained_checkpoint = \"distilbert-base-cased-distilled-squad\"\n",
    "\n",
    "tokenizer = AutoTokenizer.from_pretrained(trained_checkpoint)\n",
    "\n",
    "eval_set = small_eval_set.map(\n",
    "    preprocess_validation_examples,\n",
    "    batched=True,\n",
    "    remove_columns=raw_datasets[\"validation\"].column_names,\n",
    ")\n",
    "\n",
    "eval_set"
   ]
  },
  {
   "cell_type": "markdown",
   "id": "3c3a869d-00d1-42b7-85a2-9200feda14f0",
   "metadata": {},
   "source": [
    "Now that the preprocessing is done, we change the tokenizer back to the one we originally picked:"
   ]
  },
  {
   "cell_type": "code",
   "execution_count": 25,
   "id": "cd03d1f3-e965-4224-82bd-9441518a705a",
   "metadata": {},
   "outputs": [],
   "source": [
    "tokenizer = AutoTokenizer.from_pretrained(model_checkpoint)"
   ]
  },
  {
   "cell_type": "markdown",
   "id": "26f8adbb-9456-4669-97bd-c33df5954d33",
   "metadata": {},
   "source": [
    "We then remove the columns of our `eval_set` that are not expected by the model, build a batch with all of that small validation set, and pass it through the model. If a GPU is available, we use it to go faster:"
   ]
  },
  {
   "cell_type": "code",
   "execution_count": 26,
   "id": "4358ad96-11fd-4993-a402-fd4670875d5d",
   "metadata": {},
   "outputs": [],
   "source": [
    "import torch\n",
    "from transformers import AutoModelForQuestionAnswering\n",
    "\n",
    "eval_set_for_model = eval_set.remove_columns([\"example_id\", \"offset_mapping\"])\n",
    "eval_set_for_model.set_format(\"torch\")\n",
    "\n",
    "device = torch.device(\"cuda\") if torch.cuda.is_available() else torch.device(\"cpu\")\n",
    "\n",
    "batch = {k: eval_set_for_model[k].to(device) for k in eval_set_for_model.column_names}\n",
    "\n",
    "trained_model = AutoModelForQuestionAnswering.from_pretrained(trained_checkpoint).to(\n",
    "    device\n",
    ")\n",
    "\n",
    "with torch.no_grad():\n",
    "    outputs = trained_model(**batch)"
   ]
  },
  {
   "cell_type": "markdown",
   "id": "4b65e55e-5a88-44b7-89b1-729ba5c91659",
   "metadata": {},
   "source": [
    "Since the `Trainer` will give us predictions as `NumPy` arrays, we grab the start and end logits and convert them to that format:"
   ]
  },
  {
   "cell_type": "code",
   "execution_count": 27,
   "id": "46e581df-a3d4-4fd9-b38c-4f3a3a9d21aa",
   "metadata": {},
   "outputs": [],
   "source": [
    "start_logits = outputs.start_logits.cpu().numpy()\n",
    "\n",
    "end_logits = outputs.end_logits.cpu().numpy()"
   ]
  },
  {
   "cell_type": "markdown",
   "id": "cd95ce21-920c-4a37-98e7-c291bc867e22",
   "metadata": {},
   "source": [
    "Now, we need to find the predicted answer for each example in our `small_eval_set`. One example may have been split into several features in `eval_set`, so the first step is to map each example in `small_eval_set` to the corresponding features in `eval_set`:\n"
   ]
  },
  {
   "cell_type": "code",
   "execution_count": 28,
   "id": "2c36bc82-ffb4-4cea-9000-4bcae5b244d0",
   "metadata": {},
   "outputs": [],
   "source": [
    "import collections\n",
    "\n",
    "example_to_features = collections.defaultdict(list)\n",
    "for idx, feature in enumerate(eval_set):\n",
    "    example_to_features[feature[\"example_id\"]].append(idx)"
   ]
  },
  {
   "cell_type": "markdown",
   "id": "dda8bda0-cfe3-496d-817c-5333a21a0836",
   "metadata": {},
   "source": [
    "With this in hand, we can really get to work by looping through all the examples and, for each example, through all the associated features. As we said before, we’ll look at the logit scores for the `n_best` start logits and end logits, excluding positions that give:\n",
    "\n",
    "- An answer that wouldn’t be inside the context\n",
    "\n",
    "- An answer with negative length\n",
    "\n",
    "- An answer that is too long (we limit the possibilities at `max_answer_length=30`)\n",
    "\n",
    "Once we have all the scored possible answers for one example, we just pick the one with the best logit score:"
   ]
  },
  {
   "cell_type": "code",
   "execution_count": 29,
   "id": "ea621d84-782f-4800-9bb4-394cf232f87e",
   "metadata": {},
   "outputs": [],
   "source": [
    "import numpy as np\n",
    "\n",
    "# Set the number of best answers to consider and the maximum allowed answer length\n",
    "n_best = 20\n",
    "max_answer_length = 30\n",
    "\n",
    "# List to store the predicted answers for each example\n",
    "predicted_answers = []\n",
    "\n",
    "# Iterate through each example in the evaluation set\n",
    "for example in small_eval_set:\n",
    "    example_id = example[\"id\"]  # Get the example ID\n",
    "    context = example[\"context\"]  # Get the context (passage of text)\n",
    "    answers = []  # List to store possible answers for this example\n",
    "\n",
    "    # Iterate through the features (generated from the example) to get start and end logits\n",
    "    for feature_index in example_to_features[example_id]:\n",
    "        start_logit = start_logits[feature_index]  # Get start logits for this feature\n",
    "        end_logit = end_logits[feature_index]  # Get end logits for this feature\n",
    "        offsets = eval_set[\"offset_mapping\"][feature_index]  # Get the offsets for the feature\n",
    "\n",
    "        # Get the top n_best start and end indices based on logits\n",
    "        start_indexes = np.argsort(start_logit)[-1 : -n_best - 1 : -1].tolist()\n",
    "        end_indexes = np.argsort(end_logit)[-1 : -n_best - 1 : -1].tolist()\n",
    "\n",
    "        # Iterate through the top start and end indices\n",
    "        for start_index in start_indexes:\n",
    "            for end_index in end_indexes:\n",
    "                # Skip answers that are not fully in the context\n",
    "                if offsets[start_index] is None or offsets[end_index] is None:\n",
    "                    continue\n",
    "                # Skip answers that have a length < 0 or > max_answer_length\n",
    "                if (\n",
    "                    end_index < start_index  # End index must be greater than or equal to start index\n",
    "                    or end_index - start_index + 1 > max_answer_length  # Answer length must be within limits\n",
    "                ):\n",
    "                    continue\n",
    "\n",
    "                # Append the valid answer (text from context) and its logit score to the answers list\n",
    "                answers.append(\n",
    "                    {\n",
    "                        \"text\": context[offsets[start_index][0] : offsets[end_index][1]],  # Extract answer text\n",
    "                        \"logit_score\": start_logit[start_index] + end_logit[end_index],  # Combine start and end logits as score\n",
    "                    }\n",
    "                )\n",
    "\n",
    "    # Select the answer with the highest logit score as the best answer for this example\n",
    "    best_answer = max(answers, key=lambda x: x[\"logit_score\"])\n",
    "    \n",
    "    # Append the example ID and the best answer to the predicted answers list\n",
    "    predicted_answers.append({\"id\": example_id, \"prediction_text\": best_answer[\"text\"]})\n"
   ]
  },
  {
   "cell_type": "markdown",
   "id": "d70cf2c3-5e6d-48e5-bf1a-7dc2601e7a97",
   "metadata": {},
   "source": [
    "The final format of the predicted answers is the one that will be expected by the metric we will use. As usual, we can load it with the help of the 🤗 Evaluate library:"
   ]
  },
  {
   "cell_type": "code",
   "execution_count": 30,
   "id": "737fbe2f-0043-4a6d-87d8-97c145a29a34",
   "metadata": {},
   "outputs": [],
   "source": [
    "import evaluate\n",
    "\n",
    "metric = evaluate.load(\"squad\")"
   ]
  },
  {
   "cell_type": "markdown",
   "id": "0b010545-b9eb-4f9e-86fe-83de45de5c26",
   "metadata": {},
   "source": [
    "This metric expects the predicted answers in the format we saw above (a list of dictionaries with one key for the ID of the example and one key for the predicted text) and the theoretical answers in the format below (a list of dictionaries with one key for the ID of the example and one key for the possible answers):"
   ]
  },
  {
   "cell_type": "code",
   "execution_count": 31,
   "id": "dbfc292c-2e6b-4230-bca8-b6fb7a7381a8",
   "metadata": {},
   "outputs": [],
   "source": [
    "theoretical_answers = [\n",
    "    {\"id\": ex[\"id\"], \"answers\": ex[\"answers\"]} for ex in small_eval_set\n",
    "]"
   ]
  },
  {
   "cell_type": "markdown",
   "id": "bd19f9a2-4abc-4622-9f1d-2bee273a49e1",
   "metadata": {},
   "source": [
    "We can now check that we get sensible results by looking at the first element of both lists:"
   ]
  },
  {
   "cell_type": "code",
   "execution_count": 32,
   "id": "e10d71f4-be76-4ffb-ab81-288f71413620",
   "metadata": {},
   "outputs": [
    {
     "name": "stdout",
     "output_type": "stream",
     "text": [
      "{'id': '56be4db0acb8001400a502ec', 'prediction_text': 'Denver Broncos'}\n",
      "{'id': '56be4db0acb8001400a502ec', 'answers': {'text': ['Denver Broncos', 'Denver Broncos', 'Denver Broncos'], 'answer_start': [177, 177, 177]}}\n"
     ]
    }
   ],
   "source": [
    "print(predicted_answers[0])\n",
    "print(theoretical_answers[0])"
   ]
  },
  {
   "cell_type": "markdown",
   "id": "d74d0010-d774-43a3-9e4f-c25d2e2989be",
   "metadata": {},
   "source": [
    "Not too bad! Now let’s have a look at the score the metric gives us:"
   ]
  },
  {
   "cell_type": "code",
   "execution_count": 33,
   "id": "5d205124-3265-4f68-8cff-af48f466d84c",
   "metadata": {},
   "outputs": [
    {
     "data": {
      "text/plain": [
       "{'exact_match': 83.0, 'f1': 88.25000000000004}"
      ]
     },
     "execution_count": 33,
     "metadata": {},
     "output_type": "execute_result"
    }
   ],
   "source": [
    "metric.compute(predictions=predicted_answers, references=theoretical_answers)"
   ]
  },
  {
   "cell_type": "markdown",
   "id": "6430e3e8-5365-460d-b7db-f485847e1326",
   "metadata": {},
   "source": [
    "Again, that’s rather good considering that according to [its paper](https://arxiv.org/abs/1910.01108v2) DistilBERT fine-tuned on SQuAD obtains 79.1 and 86.9 for those scores on the whole dataset.\n",
    "\n",
    "Now let’s put everything we just did in a `compute_metrics()` function that we will use in the `Trainer`. Normally, that `compute_metrics()` function only receives a tuple `eval_preds` with logits and labels. Here we will need a bit more, as we have to look in the dataset of features for the offset and in the dataset of examples for the original contexts, so we won’t be able to use this function to get regular evaluation results during training. We will only use it at the end of training to check the results.\n",
    "\n",
    "The `compute_metrics()` function groups the same steps as before; we just add a small check in case we don’t come up with any valid answers (in which case we predict an empty string)."
   ]
  },
  {
   "cell_type": "code",
   "execution_count": 34,
   "id": "8f47900c-7f1e-4e9f-8b25-5c71aa5f70cf",
   "metadata": {},
   "outputs": [],
   "source": [
    "from tqdm.auto import tqdm\n",
    "\n",
    "\n",
    "def compute_metrics(start_logits, end_logits, features, examples):\n",
    "    example_to_features = collections.defaultdict(list)\n",
    "    for idx, feature in enumerate(features):\n",
    "        example_to_features[feature[\"example_id\"]].append(idx)\n",
    "\n",
    "    predicted_answers = []\n",
    "    for example in tqdm(examples):\n",
    "        example_id = example[\"id\"]\n",
    "        context = example[\"context\"]\n",
    "        answers = []\n",
    "\n",
    "        # Loop through all features associated with that example\n",
    "        for feature_index in example_to_features[example_id]:\n",
    "            start_logit = start_logits[feature_index]\n",
    "            end_logit = end_logits[feature_index]\n",
    "            offsets = features[feature_index][\"offset_mapping\"]\n",
    "\n",
    "            start_indexes = np.argsort(start_logit)[-1 : -n_best - 1 : -1].tolist()\n",
    "            end_indexes = np.argsort(end_logit)[-1 : -n_best - 1 : -1].tolist()\n",
    "            for start_index in start_indexes:\n",
    "                for end_index in end_indexes:\n",
    "                    # Skip answers that are not fully in the context\n",
    "                    if offsets[start_index] is None or offsets[end_index] is None:\n",
    "                        continue\n",
    "                    # Skip answers with a length that is either < 0 or > max_answer_length\n",
    "                    if (\n",
    "                        end_index < start_index\n",
    "                        or end_index - start_index + 1 > max_answer_length\n",
    "                    ):\n",
    "                        continue\n",
    "\n",
    "                    answer = {\n",
    "                        \"text\": context[offsets[start_index][0] : offsets[end_index][1]],\n",
    "                        \"logit_score\": start_logit[start_index] + end_logit[end_index],\n",
    "                    }\n",
    "                    answers.append(answer)\n",
    "\n",
    "        # Select the answer with the best score\n",
    "        if len(answers) > 0:\n",
    "            best_answer = max(answers, key=lambda x: x[\"logit_score\"])\n",
    "            predicted_answers.append(\n",
    "                {\"id\": example_id, \"prediction_text\": best_answer[\"text\"]}\n",
    "            )\n",
    "        else:\n",
    "            predicted_answers.append({\"id\": example_id, \"prediction_text\": \"\"})\n",
    "\n",
    "    theoretical_answers = [{\"id\": ex[\"id\"], \"answers\": ex[\"answers\"]} for ex in examples]\n",
    "    return metric.compute(predictions=predicted_answers, references=theoretical_answers)"
   ]
  },
  {
   "cell_type": "markdown",
   "id": "4b079fe5-671b-49e5-8759-f4594c4cc1c9",
   "metadata": {},
   "source": [
    "We can check it works on our predictions:"
   ]
  },
  {
   "cell_type": "code",
   "execution_count": 35,
   "id": "c6aeeef3-2ed9-4311-8373-995518a25774",
   "metadata": {},
   "outputs": [
    {
     "data": {
      "application/vnd.jupyter.widget-view+json": {
       "model_id": "2fbd9de035bc4ad0845e0e03c3449dc5",
       "version_major": 2,
       "version_minor": 0
      },
      "text/plain": [
       "  0%|          | 0/100 [00:00<?, ?it/s]"
      ]
     },
     "metadata": {},
     "output_type": "display_data"
    },
    {
     "data": {
      "text/plain": [
       "{'exact_match': 83.0, 'f1': 88.25000000000004}"
      ]
     },
     "execution_count": 35,
     "metadata": {},
     "output_type": "execute_result"
    }
   ],
   "source": [
    "compute_metrics(start_logits, end_logits, eval_set, small_eval_set)"
   ]
  },
  {
   "cell_type": "markdown",
   "id": "7ddf088c-3194-4957-ae19-b9f2ffeccff2",
   "metadata": {},
   "source": [
    "Looking good! Now let’s use this to fine-tune our model."
   ]
  },
  {
   "cell_type": "markdown",
   "id": "d709dfd2-b34d-468e-9b14-dde97839339d",
   "metadata": {},
   "source": [
    "###  Fine-tuning the model\n",
    "\n",
    "We are now ready to train our model. Let’s create it first, using the `AutoModelForQuestionAnswering` class like before:"
   ]
  },
  {
   "cell_type": "code",
   "execution_count": 36,
   "id": "eb081f04-9f8a-4614-a747-0e5e8d11eff2",
   "metadata": {},
   "outputs": [
    {
     "name": "stderr",
     "output_type": "stream",
     "text": [
      "Some weights of BertForQuestionAnswering were not initialized from the model checkpoint at bert-base-cased and are newly initialized: ['qa_outputs.bias', 'qa_outputs.weight']\n",
      "You should probably TRAIN this model on a down-stream task to be able to use it for predictions and inference.\n"
     ]
    }
   ],
   "source": [
    "model = AutoModelForQuestionAnswering.from_pretrained(model_checkpoint)"
   ]
  },
  {
   "cell_type": "markdown",
   "id": "f3ce5ef0-d630-46c3-af4f-743b1e947918",
   "metadata": {},
   "source": [
    "As usual, we get a warning that some weights are not used (the ones from the pretraining head) and some others are initialized randomly (the ones for the question answering head). You should be used to this by now, but that means this model is not ready to be used just yet and needs fine-tuning — good thing we’re about to do that!\n",
    "\n",
    "To be able to push our model to the Hub, we’ll need to log in to Hugging Face. If you’re running this code in a notebook, you can do so with the following utility function, which displays a widget where you can enter your login credentials:\n",
    "\n",
    "```python\n",
    "from huggingface_hub import notebook_login\n",
    "\n",
    "notebook_login()\n",
    "```\n",
    "\n",
    "If you aren’t working in a notebook, just type the following line in your terminal: `huggingface-cli login`\n",
    "\n",
    "Once this is done, we can define our `TrainingArguments`. As we said when we defined our function to compute the metric, we won’t be able to have a regular evaluation loop because of the signature of the `compute_metrics()` function. We could write our own subclass of `Trainer` to do this (an approach you can find in the [question answering example script](https://github.com/huggingface/transformers/blob/master/examples/pytorch/question-answering/trainer_qa.py)), but that’s a bit too long for this section. Instead, we will only evaluate the model at the end of training here and show you how to do a regular evaluation in “A custom training loop” below.\n",
    "\n",
    "This is really where the `Trainer` API shows its limits and the 🤗 Accelerate library shines: customizing the class to a specific use case can be painful, but tweaking a fully exposed training loop is easy.\n",
    "\n",
    "Let’s take a look at our `TrainingArguments`:"
   ]
  },
  {
   "cell_type": "code",
   "execution_count": 37,
   "id": "060b10ac-cfcb-4e3f-834e-7bdad569897d",
   "metadata": {},
   "outputs": [
    {
     "name": "stderr",
     "output_type": "stream",
     "text": [
      "/home/loc/miniconda3/envs/py38/lib/python3.8/site-packages/transformers/training_args.py:1545: FutureWarning: `evaluation_strategy` is deprecated and will be removed in version 4.46 of 🤗 Transformers. Use `eval_strategy` instead\n",
      "  warnings.warn(\n",
      "huggingface/tokenizers: The current process just got forked, after parallelism has already been used. Disabling parallelism to avoid deadlocks...\n",
      "To disable this warning, you can either:\n",
      "\t- Avoid using `tokenizers` before the fork if possible\n",
      "\t- Explicitly set the environment variable TOKENIZERS_PARALLELISM=(true | false)\n"
     ]
    }
   ],
   "source": [
    "from transformers import TrainingArguments\n",
    "\n",
    "args = TrainingArguments(\n",
    "    \"bert-finetuned-squad\",\n",
    "    evaluation_strategy=\"no\",\n",
    "    save_strategy=\"epoch\",\n",
    "    learning_rate=2e-5,\n",
    "    num_train_epochs=3,\n",
    "    weight_decay=0.01,\n",
    "    per_device_train_batch_size=64,\n",
    "    per_device_eval_batch_size=32,\n",
    "    fp16=True,\n",
    "    # push_to_hub=True,\n",
    ")"
   ]
  },
  {
   "cell_type": "markdown",
   "id": "d2858a2f-7b93-4227-938e-0584ffb9d4d3",
   "metadata": {},
   "source": [
    "Cite a small training set and evaluation set"
   ]
  },
  {
   "cell_type": "code",
   "execution_count": 38,
   "id": "d40b4c40-5bf1-43ea-9d49-a954095c2d5c",
   "metadata": {},
   "outputs": [],
   "source": [
    "f = 0.1\n",
    "\n",
    "# Shuffle and select the first f% of the rows\n",
    "small_train_dataset = train_dataset.shuffle().select(range(int(f * train_dataset.num_rows)))\n",
    "\n",
    "small_validation_dataset = validation_dataset.shuffle().select(range(int(f * validation_dataset.num_rows)))\n"
   ]
  },
  {
   "cell_type": "code",
   "execution_count": 39,
   "id": "366dda26-af48-4003-b453-6f60b77f75db",
   "metadata": {},
   "outputs": [
    {
     "data": {
      "text/plain": [
       "Dataset({\n",
       "    features: ['input_ids', 'token_type_ids', 'attention_mask', 'start_positions', 'end_positions'],\n",
       "    num_rows: 8872\n",
       "})"
      ]
     },
     "execution_count": 39,
     "metadata": {},
     "output_type": "execute_result"
    }
   ],
   "source": [
    "small_train_dataset"
   ]
  },
  {
   "cell_type": "code",
   "execution_count": 40,
   "id": "14b64c7a-6488-4262-b79b-7ae34f805673",
   "metadata": {},
   "outputs": [
    {
     "data": {
      "text/plain": [
       "Dataset({\n",
       "    features: ['input_ids', 'token_type_ids', 'attention_mask', 'offset_mapping', 'example_id'],\n",
       "    num_rows: 1082\n",
       "})"
      ]
     },
     "execution_count": 40,
     "metadata": {},
     "output_type": "execute_result"
    }
   ],
   "source": [
    "small_validation_dataset"
   ]
  },
  {
   "cell_type": "markdown",
   "id": "40615d58-f41c-48fc-b03d-51a798fd2ef6",
   "metadata": {},
   "source": [
    "We’ve seen most of these before: we set some hyperparameters (like the learning rate, the number of epochs we train for, and some weight decay) and indicate that we want to save the model at the end of every epoch, skip evaluation, and upload our results to the Model Hub. We also enable mixed-precision training with `fp16=True`, as it can speed up the training nicely on a recent GPU.\n",
    "\n",
    "By default, the repository used will be in your namespace and named after the output directory you set, so in our case it will be in `\"sgugger/bert-finetuned-squad\"`. We can override this by passing a `hub_model_id`; for instance, to push the model to the `huggingface_course` organization we used `hub_model_id=\"huggingface_course/bert-finetuned-squad\"` (which is the model we linked to at the beginning of this section).\n",
    "\n",
    "💡 If the output directory you are using exists, it needs to be a local clone of the repository you want to push to (so set a new name if you get an error when defining your `Trainer`).\n",
    "\n",
    "Finally, we just pass everything to the `Trainer` class and launch the training:"
   ]
  },
  {
   "cell_type": "code",
   "execution_count": 41,
   "id": "a450cf60-995a-4303-9215-eb6962d9c64f",
   "metadata": {},
   "outputs": [],
   "source": [
    "from transformers import Trainer\n",
    "\n",
    "trainer = Trainer(\n",
    "    model=model,\n",
    "    args=args,\n",
    "    train_dataset=small_train_dataset,\n",
    "    eval_dataset=small_validation_dataset,\n",
    "    tokenizer=tokenizer,\n",
    ")"
   ]
  },
  {
   "cell_type": "code",
   "execution_count": 42,
   "id": "9591fc8f-abe8-47d4-9077-d5ce4d541178",
   "metadata": {},
   "outputs": [
    {
     "data": {
      "text/html": [
       "\n",
       "    <div>\n",
       "      \n",
       "      <progress value='417' max='417' style='width:300px; height:20px; vertical-align: middle;'></progress>\n",
       "      [417/417 52:23, Epoch 3/3]\n",
       "    </div>\n",
       "    <table border=\"1\" class=\"dataframe\">\n",
       "  <thead>\n",
       " <tr style=\"text-align: left;\">\n",
       "      <th>Step</th>\n",
       "      <th>Training Loss</th>\n",
       "    </tr>\n",
       "  </thead>\n",
       "  <tbody>\n",
       "  </tbody>\n",
       "</table><p>"
      ],
      "text/plain": [
       "<IPython.core.display.HTML object>"
      ]
     },
     "metadata": {},
     "output_type": "display_data"
    },
    {
     "data": {
      "text/plain": [
       "TrainOutput(global_step=417, training_loss=2.096389587548711, metrics={'train_runtime': 3150.7382, 'train_samples_per_second': 8.448, 'train_steps_per_second': 0.132, 'total_flos': 5216005857964032.0, 'train_loss': 2.096389587548711, 'epoch': 3.0})"
      ]
     },
     "execution_count": 42,
     "metadata": {},
     "output_type": "execute_result"
    }
   ],
   "source": [
    "trainer.train()"
   ]
  },
  {
   "cell_type": "markdown",
   "id": "dbb1bada-2857-43e9-883f-7bde4ae1aba0",
   "metadata": {},
   "source": [
    "Note that while the training happens, each time the model is saved (here, every epoch) it is uploaded to the Hub in the background. This way, you will be able to to resume your training on another machine if necessary. The whole training takes a while (a little over an hour on a Titan RTX), so you can grab a coffee or reread some of the parts of the course that you’ve found more challenging while it proceeds. Also note that as soon as the first epoch is finished, you will see some weights uploaded to the Hub and you can start playing with your model on its page.\n",
    "\n",
    "Once the training is complete, we can finally evaluate our model (and pray we didn’t spend all that compute time on nothing). The `predict()` method of the `Trainer` will return a tuple where the first elements will be the predictions of the model (here a pair with the start and end logits). We send this to our `compute_metrics()`function:"
   ]
  },
  {
   "cell_type": "code",
   "execution_count": 43,
   "id": "5b52e2bc-4208-49e6-8fbb-98e307d1b220",
   "metadata": {},
   "outputs": [
    {
     "data": {
      "text/html": [],
      "text/plain": [
       "<IPython.core.display.HTML object>"
      ]
     },
     "metadata": {},
     "output_type": "display_data"
    },
    {
     "data": {
      "application/vnd.jupyter.widget-view+json": {
       "model_id": "d8e77b959048487d9b59b33a28adb75c",
       "version_major": 2,
       "version_minor": 0
      },
      "text/plain": [
       "  0%|          | 0/10570 [00:00<?, ?it/s]"
      ]
     },
     "metadata": {},
     "output_type": "display_data"
    },
    {
     "data": {
      "text/plain": [
       "{'exact_match': 63.34910122989593, 'f1': 74.16305789984753}"
      ]
     },
     "execution_count": 43,
     "metadata": {},
     "output_type": "execute_result"
    }
   ],
   "source": [
    "predictions, _, _ = trainer.predict(validation_dataset)\n",
    "start_logits, end_logits = predictions\n",
    "compute_metrics(start_logits, end_logits, validation_dataset, raw_datasets[\"validation\"])"
   ]
  },
  {
   "cell_type": "markdown",
   "id": "f72b4e00-597a-4cf1-8858-47cbb9b9bc92",
   "metadata": {},
   "source": [
    "Great! As a comparison, the baseline scores reported in the BERT article for this model are 80.8 and 88.5, so we’re right where we should be.\n",
    "\n",
    "Finally, we use the `push_to_hub()` method to make sure we upload the latest version of the model:\n",
    "\n",
    "```python\n",
    "trainer.push_to_hub(commit_message=\"Training complete\")\n",
    "```\n",
    "\n",
    "This returns the URL of the commit it just did, if you want to inspect it:\n",
    "\n",
    "```\n",
    "'https://huggingface.co/sgugger/bert-finetuned-squad/commit/9dcee1fbc25946a6ed4bb32efb1bd71d5fa90b68'\n",
    "```\n",
    "\n",
    "The `Trainer` also drafts a model card with all the evaluation results and uploads it.\n",
    "\n",
    "At this stage, you can use the inference widget on the Model Hub to test the model and share it with your friends, family, and favorite pets. You have successfully fine-tuned a model on a question answering task — congratulations!\n",
    "\n",
    "✏️ Your turn! Try another model architecture to see if it performs better on this task!"
   ]
  },
  {
   "cell_type": "markdown",
   "id": "8b0148e4-e7c4-4fca-acce-ab4e5b9eb41c",
   "metadata": {},
   "source": [
    "##  Using the fine-tuned model"
   ]
  },
  {
   "cell_type": "markdown",
   "id": "68244b53-5878-4575-a8a6-7f7e966e0564",
   "metadata": {},
   "source": [
    "We’ve already shown you how you can use the model we fine-tuned on the Model Hub with the inference widget. To use it locally in a `pipeline`, you just have to specify the model identifier:"
   ]
  },
  {
   "cell_type": "code",
   "execution_count": 48,
   "id": "ff34c94f-73b6-4d11-8337-a0ee21631e44",
   "metadata": {},
   "outputs": [
    {
     "name": "stderr",
     "output_type": "stream",
     "text": [
      "Hardware accelerator e.g. GPU is available in the environment, but no `device` argument is passed to the `Pipeline` object. Model will be on CPU.\n"
     ]
    },
    {
     "data": {
      "text/plain": [
       "{'score': 0.40507030487060547, 'start': 33, 'end': 38, 'answer': 'three'}"
      ]
     },
     "execution_count": 48,
     "metadata": {},
     "output_type": "execute_result"
    }
   ],
   "source": [
    "from transformers import pipeline\n",
    "\n",
    "# Replace this with your own checkpoint\n",
    "model_checkpoint = \"bert-finetuned-squad/checkpoint-417\"\n",
    "question_answerer = pipeline(\"question-answering\", model=model_checkpoint)\n",
    "\n",
    "context = \"\"\"\n",
    "🤗 Transformers is backed by the three most popular deep learning libraries — Jax, PyTorch and TensorFlow — with a seamless integration\n",
    "between them. It's straightforward to train your models with one before loading them for inference with the other.\n",
    "\"\"\"\n",
    "question = \"Which deep learning libraries back 🤗 Transformers?\"\n",
    "question_answerer(question=question, context=context)"
   ]
  },
  {
   "cell_type": "markdown",
   "id": "621a5fe0-ae4e-46fb-94d8-5ddb4421698a",
   "metadata": {},
   "source": [
    "Great! Our model is working as well as the default one for this pipeline!\n",
    "\n",
    "If you want to dive a bit more deeply into the training loop, we will now show you how to do the same thing using 🤗 Accelerate."
   ]
  },
  {
   "cell_type": "markdown",
   "id": "ac65e39e-88a7-44e6-9ce1-ac4088d634b1",
   "metadata": {},
   "source": [
    "##  A custom training loop"
   ]
  },
  {
   "cell_type": "markdown",
   "id": "b176d8c6-2155-4216-be33-65460e768b76",
   "metadata": {},
   "source": [
    "Let’s now have a look at the full training loop, so you can easily customize the parts you need. It will look a lot like the training loop in [Chapter 3](https://huggingface.co/course/chapter3/4), with the exception of the evaluation loop. We will be able to evaluate the model regularly since we’re not constrained by the `Trainer` class anymore."
   ]
  },
  {
   "cell_type": "markdown",
   "id": "a735fae6-7acf-4c4d-98aa-34c4776428d8",
   "metadata": {},
   "source": [
    "###  Preparing everything for training\n",
    "\n",
    "First we need to build the `DataLoaders` from our datasets. We set the format of those datasets to `\"torch\"`, and remove the columns in the validation set that are not used by the model. Then, we can use the `default_data_collator` provided by Transformers as a `collate_fn` and shuffle the training set, but not the validation set:"
   ]
  },
  {
   "cell_type": "code",
   "execution_count": null,
   "id": "5f48c218-090b-4076-a930-c2e95816d887",
   "metadata": {},
   "outputs": [],
   "source": [
    "from torch.utils.data import DataLoader\n",
    "from transformers import default_data_collator\n",
    "\n",
    "train_dataset.set_format(\"torch\")\n",
    "validation_set = validation_dataset.remove_columns([\"example_id\", \"offset_mapping\"])\n",
    "validation_set.set_format(\"torch\")\n",
    "\n",
    "train_dataloader = DataLoader(\n",
    "    train_dataset,\n",
    "    shuffle=True,\n",
    "    collate_fn=default_data_collator,\n",
    "    batch_size=8,\n",
    ")\n",
    "eval_dataloader = DataLoader(\n",
    "    validation_set, collate_fn=default_data_collator, batch_size=8\n",
    ")"
   ]
  },
  {
   "cell_type": "markdown",
   "id": "aa90fa97-302c-4b2a-b25d-fe1b7b4e9933",
   "metadata": {},
   "source": [
    "Next we reinstantiate our model, to make sure we’re not continuing the fine-tuning from before but starting from the BERT pretrained model again:"
   ]
  },
  {
   "cell_type": "code",
   "execution_count": null,
   "id": "fc63de51-0921-4a8c-bafe-888092badbb6",
   "metadata": {},
   "outputs": [],
   "source": [
    "model = AutoModelForQuestionAnswering.from_pretrained(model_checkpoint)"
   ]
  },
  {
   "cell_type": "markdown",
   "id": "1ce62638-7bcc-46f8-99ea-8f5200b2fe57",
   "metadata": {},
   "source": [
    "Then we will need an optimizer. As usual we use the classic `AdamW`, which is like `Adam`, but with a fix in the way weight decay is applied:"
   ]
  },
  {
   "cell_type": "code",
   "execution_count": null,
   "id": "26b833ea-ef38-499a-ac83-b5f648cbe0fb",
   "metadata": {},
   "outputs": [],
   "source": [
    "from torch.optim import AdamW\n",
    "\n",
    "optimizer = AdamW(model.parameters(), lr=2e-5)"
   ]
  },
  {
   "cell_type": "markdown",
   "id": "72f765ba-bb8d-48cf-af26-c42cc811c310",
   "metadata": {},
   "source": [
    "Once we have all those objects, we can send them to the `accelerator.prepare()` method. Remember that if you want to train on TPUs in a Colab notebook, you will need to move all of this code into a training function, and that shouldn’t execute any cell that instantiates an `Accelerator`. We can force `mixed-precision` training by passing `fp16=True` to the `Accelerator` (or, if you are executing the code as a script, just make sure to fill in the 🤗 Accelerate `config` appropriately)."
   ]
  },
  {
   "cell_type": "code",
   "execution_count": null,
   "id": "b4985376-9e2b-48bc-bc22-fc16b66b73b7",
   "metadata": {},
   "outputs": [],
   "source": [
    "from accelerate import Accelerator\n",
    "\n",
    "accelerator = Accelerator(fp16=True)\n",
    "model, optimizer, train_dataloader, eval_dataloader = accelerator.prepare(\n",
    "    model, optimizer, train_dataloader, eval_dataloader\n",
    ")"
   ]
  },
  {
   "cell_type": "markdown",
   "id": "734b8046-351b-47e6-bb71-587646c38cfe",
   "metadata": {},
   "source": [
    "As you should know from the previous sections, we can only use the `train_dataloader` length to compute the number of training steps after it has gone through the `accelerator.prepare()` method. We use the same linear schedule as in the previous sections:"
   ]
  },
  {
   "cell_type": "code",
   "execution_count": null,
   "id": "82ea8684-e598-432b-bee1-344d90edbf8f",
   "metadata": {},
   "outputs": [],
   "source": [
    "from transformers import get_scheduler\n",
    "\n",
    "num_train_epochs = 3\n",
    "num_update_steps_per_epoch = len(train_dataloader)\n",
    "num_training_steps = num_train_epochs * num_update_steps_per_epoch\n",
    "\n",
    "lr_scheduler = get_scheduler(\n",
    "    \"linear\",\n",
    "    optimizer=optimizer,\n",
    "    num_warmup_steps=0,\n",
    "    num_training_steps=num_training_steps,\n",
    ")"
   ]
  },
  {
   "cell_type": "markdown",
   "id": "be7c4fe2-f86f-4c00-bb81-ac8682e6ce9a",
   "metadata": {},
   "source": [
    "To push our model to the Hub, we will need to create a `Repository` object in a working folder. First log in to the Hugging Face Hub, if you’re not logged in already. We’ll determine the repository name from the model ID we want to give our model (feel free to replace the `repo_name` with your own choice; it just needs to contain your username, which is what the function `get_full_repo_name()` does):\n",
    "\n",
    "```python\n",
    "from huggingface_hub import Repository, get_full_repo_name\n",
    "\n",
    "model_name = \"bert-finetuned-squad-accelerate\"\n",
    "repo_name = get_full_repo_name(model_name)\n",
    "repo_name\n",
    "```\n",
    "\n",
    "Then we can clone that repository in a local folder. If it already exists, this local folder should be a clone of the repository we are working with:\n",
    "\n",
    "```python\n",
    "output_dir = \"bert-finetuned-squad-accelerate\"\n",
    "repo = Repository(output_dir, clone_from=repo_name)\n",
    "```"
   ]
  },
  {
   "cell_type": "markdown",
   "id": "5850ca49-89c6-4641-a878-f237650744c8",
   "metadata": {},
   "source": [
    "## Training loop"
   ]
  },
  {
   "cell_type": "markdown",
   "id": "6dfc094d-1b1e-4704-845e-4461b99764f6",
   "metadata": {},
   "source": [
    "We are now ready to write the full training loop. After defining a progress bar to follow how training goes, the loop has three parts:\n",
    "\n",
    "- The training in itself, which is the classic iteration over the `train_dataloader`, forward pass through the model, then backward pass and optimizer step.\n",
    "    \n",
    "- The evaluation, in which we gather all the values for `start_logits` and `end_logits` before converting them to NumPy arrays. Once the evaluation loop is finished, we concatenate all the results. Note that we need to truncate because the `Accelerator` may have added a few samples at the end to ensure we have the same number of examples in each process.\n",
    "    \n",
    "- Saving and uploading, where we first save the model and the tokenizer, then call `repo.push_to_hub()`. As we did before, we use the argument `blocking=False` to tell the 🤗 Hub library to push in an asynchronous process. This way, training continues normally and this (long) instruction is executed in the background.\n",
    "\n",
    "Here’s the complete code for the training loop:"
   ]
  },
  {
   "cell_type": "code",
   "execution_count": null,
   "id": "c2f9e8a0-53fa-4b8b-b17c-dd99bade5681",
   "metadata": {},
   "outputs": [],
   "source": [
    "from tqdm.auto import tqdm\n",
    "import torch\n",
    "\n",
    "progress_bar = tqdm(range(num_training_steps))\n",
    "\n",
    "for epoch in range(num_train_epochs):\n",
    "    # Training\n",
    "    model.train()\n",
    "    for step, batch in enumerate(train_dataloader):\n",
    "        outputs = model(**batch)\n",
    "        loss = outputs.loss\n",
    "        accelerator.backward(loss)\n",
    "\n",
    "        optimizer.step()\n",
    "        lr_scheduler.step()\n",
    "        optimizer.zero_grad()\n",
    "        progress_bar.update(1)\n",
    "\n",
    "    # Evaluation\n",
    "    model.eval()\n",
    "    start_logits = []\n",
    "    end_logits = []\n",
    "    accelerator.print(\"Evaluation!\")\n",
    "    for batch in tqdm(eval_dataloader):\n",
    "        with torch.no_grad():\n",
    "            outputs = model(**batch)\n",
    "\n",
    "        start_logits.append(accelerator.gather(outputs.start_logits).cpu().numpy())\n",
    "        end_logits.append(accelerator.gather(outputs.end_logits).cpu().numpy())\n",
    "\n",
    "    start_logits = np.concatenate(start_logits)\n",
    "    end_logits = np.concatenate(end_logits)\n",
    "    start_logits = start_logits[: len(validation_dataset)]\n",
    "    end_logits = end_logits[: len(validation_dataset)]\n",
    "\n",
    "    metrics = compute_metrics(\n",
    "        start_logits, end_logits, validation_dataset, raw_datasets[\"validation\"]\n",
    "    )\n",
    "    print(f\"epoch {epoch}:\", metrics)\n",
    "\n",
    "    # Save and upload\n",
    "    accelerator.wait_for_everyone()\n",
    "    unwrapped_model = accelerator.unwrap_model(model)\n",
    "    unwrapped_model.save_pretrained(output_dir, save_function=accelerator.save)\n",
    "    if accelerator.is_main_process:\n",
    "        tokenizer.save_pretrained(output_dir)\n",
    "        repo.push_to_hub(\n",
    "            commit_message=f\"Training in progress epoch {epoch}\", blocking=False\n",
    "        )"
   ]
  },
  {
   "cell_type": "markdown",
   "id": "217be649-0745-4ea2-b3ff-0a0b48b1ad42",
   "metadata": {},
   "source": [
    "In case this is the first time you’re seeing a model saved with 🤗 Accelerate, let’s take a moment to inspect the three lines of code that go with it:\n",
    "\n",
    "```python\n",
    "accelerator.wait_for_everyone()\n",
    "unwrapped_model = accelerator.unwrap_model(model)\n",
    "unwrapped_model.save_pretrained(output_dir, save_function=accelerator.save)\n",
    "```\n",
    "\n",
    "The first line is self-explanatory: it tells all the processes to wait until everyone is at that stage before continuing. This is to make sure we have the same model in every process before saving. Then we grab the `unwrapped_model`, which is the base model we defined. The `accelerator.prepare()` method changes the model to work in distributed training, so it won’t have the `save_pretrained()` method anymore; the `accelerator.unwrap_model()` method undoes that step. Lastly, we call `save_pretrained()` but tell that method to use `accelerator.save()` instead of `torch.save()`.\n",
    "\n",
    "Once this is done, you should have a model that produces results pretty similar to the one trained with the `Trainer`. You can check the model we trained using this code at [huggingface-course/bert-finetuned-squad-accelerate](https://huggingface.co/huggingface-course/bert-finetuned-squad-accelerate). And if you want to test out any tweaks to the training loop, you can directly implement them by editing the code shown above!"
   ]
  }
 ],
 "metadata": {
  "kernelspec": {
   "display_name": "Python 3 (ipykernel)",
   "language": "python",
   "name": "python3"
  },
  "language_info": {
   "codemirror_mode": {
    "name": "ipython",
    "version": 3
   },
   "file_extension": ".py",
   "mimetype": "text/x-python",
   "name": "python",
   "nbconvert_exporter": "python",
   "pygments_lexer": "ipython3",
   "version": "3.8.20"
  }
 },
 "nbformat": 4,
 "nbformat_minor": 5
}
