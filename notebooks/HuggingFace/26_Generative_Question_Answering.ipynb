{
 "cells": [
  {
   "cell_type": "markdown",
   "id": "2b47dcb0-bf88-4b4b-aa39-47968ec97ea9",
   "metadata": {},
   "source": [
    "## Table of Contents\n",
    "\n",
    "<ol>\n",
    "    <li>\n",
    "        <a href=\"#Introduction\">Introduction</a>\n",
    "    </li>\n",
    "    <li>\n",
    "        <a href=\"#Preparing-the-data\">Preparing the data</a>\n",
    "    </li>\n",
    "    <li>\n",
    "        <a href=\"#Fine-tuning-the-model-with-the-Trainer-API\">Fine-tuning the model with the Trainer API</a>\n",
    "    </li>\n",
    "    <li>\n",
    "        <a href=\"#Using-the-fine-tuned model\">Training loop</a>\n",
    "</ol>\n",
    "\n",
    "\n",
    "https://huggingface.co/datasets/ajsbsd/nvidia-qa\n",
    "\n",
    "https://huggingface.co/datasets/arunima29/nvidia_qa_formatted/viewer/default/train\n",
    "\n",
    "https://github.com/locchh/nvidia-docs/tree/main/AI_Infrastructure_and_Operations_Fundamentals"
   ]
  },
  {
   "cell_type": "code",
   "execution_count": null,
   "id": "5fe5b937-5808-4f04-bfb0-e87e8476c46c",
   "metadata": {},
   "outputs": [],
   "source": []
  }
 ],
 "metadata": {
  "kernelspec": {
   "display_name": "Python 3 (ipykernel)",
   "language": "python",
   "name": "python3"
  },
  "language_info": {
   "codemirror_mode": {
    "name": "ipython",
    "version": 3
   },
   "file_extension": ".py",
   "mimetype": "text/x-python",
   "name": "python",
   "nbconvert_exporter": "python",
   "pygments_lexer": "ipython3",
   "version": "3.8.20"
  }
 },
 "nbformat": 4,
 "nbformat_minor": 5
}
