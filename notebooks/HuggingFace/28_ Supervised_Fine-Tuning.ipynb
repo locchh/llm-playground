{
 "cells": [
  {
   "cell_type": "markdown",
   "id": "247e60da-5119-41a3-a82b-3bd769e707b7",
   "metadata": {},
   "source": [
    "##  Supervised Fine-Tuning\n",
    "\n",
    "Supervised Fine-Tuning (SFT) is a process primarily used to adapt pre-trained language models to follow instructions, engage in dialogue, and use specific output formats. While pre-trained models have impressive general capabilities, SFT helps transform them into assistant-like models that can better understand and respond to user prompts. This is typically done by training on datasets of human-written conversations and instructions.\n",
    "\n",
    "This page provides a step-by-step guide to fine-tuning the [deepseek-ai/DeepSeek-R1-Distill-Qwen-1.5B](https://huggingface.co/deepseek-ai/DeepSeek-R1-Distill-Qwen-1.5B) model using the [SFTTrainer](https://huggingface.co/docs/trl/en/sft_trainer). By following these steps, you can adapt the model to perform specific tasks more effectively."
   ]
  },
  {
   "cell_type": "markdown",
   "id": "55c750b5-80a2-4fab-994b-43af42203f75",
   "metadata": {},
   "source": [
    "### When to Use SFT\n",
    "\n",
    "Before diving into implementation, it’s important to understand when SFT is the right choice for your project. As a first step, you should consider whether using an existing instruction-tuned model with well-crafted prompts would suffice for your use case. SFT involves significant computational resources and engineering effort, so it should only be pursued when prompting existing models proves insufficient.\n",
    "\n",
    "Consider SFT only if you: \n",
    "- Need additional performance beyond what prompting can achieve\n",
    "- Have a specific use case where the cost of using a large general-purpose model outweighs the cost of fine-tuning a smaller model\n",
    "- Require specialized output formats or domain-specific knowledge that existing models struggle with\n",
    "\n",
    "If you determine that SFT is necessary, the decision to proceed depends on two primary factors:\n",
    "\n",
    "####  Template Control\n",
    "\n",
    "SFT allows precise control over the model’s output structure. This is particularly valuable when you need the model to:\n",
    "\n",
    "1. Generate responses in a specific chat template format\n",
    "2. Follow strict output schemas\n",
    "3. Maintain consistent styling across responses\n",
    "\n",
    "####  Domain Adaptation\n",
    "\n",
    "1. Teaching domain terminology and concepts\n",
    "2. Enforcing professional standards\n",
    "3. Handling technical queries appropriately\n",
    "4. Following industry-specific guidelines\n",
    "\n",
    "Before starting SFT, evaluate whether your use case requires: \n",
    "- Precise output formatting\n",
    "- Domain-specific knowledge\n",
    "- Consistent response patterns\n",
    "- Adherence to specific guidelines\n",
    "\n",
    "This evaluation will help determine if SFT is the right approach for your needs"
   ]
  },
  {
   "cell_type": "markdown",
   "id": "9452c83d-389e-4518-86c9-c048a33b910b",
   "metadata": {},
   "source": [
    "### Dataset Preparation\n",
    "\n",
    "The supervised fine-tuning process requires a task-specific dataset structured with input-output pairs. Each pair should consist of:\n",
    "\n",
    "1. An input prompt\n",
    "2. The expected model response\n",
    "3. Any additional context or metadata\n",
    "\n",
    "The quality of your training data is crucial for successful fine-tuning."
   ]
  },
  {
   "cell_type": "markdown",
   "id": "fe376177-de22-41ce-9d55-893f4dc2a791",
   "metadata": {},
   "source": [
    "### Training Configuration\n",
    "\n",
    "The success of your fine-tuning depends heavily on choosing the right training parameters. Let’s explore each important parameter and how to configure them effectively:\n",
    "\n",
    "The SFTTrainer configuration requires consideration of several parameters that control the training process. Let’s explore each parameter and their purpose:\n",
    "\n",
    "#### 1. Training Duration Parameters:\n",
    "\n",
    "- `num_train_epochs`: Controls total training duration\n",
    "- `max_steps`: Alternative to epochs, sets maximum number of training steps\n",
    "\n",
    "More epochs allow better learning but risk overfitting\n",
    "\n",
    "#### 2. Batch Size Parameters:\n",
    "\n",
    "- `per_device_train_batch_size`: Determines memory usage and training stability\n",
    "- `gradient_accumulation_steps`: Enables larger effective batch sizes\n",
    "\n",
    "Larger batches provide more stable gradients but require more memory\n",
    "\n",
    "### 3. Learning Rate Parameters:\n",
    "\n",
    "- `learning_rate`: Controls size of weight updates\n",
    "- `warmup_ratio`: Portion of training used for learning rate warmup\n",
    "\n",
    "Too high can cause instability, too low results in slow learning\n",
    "\n",
    "### 4. Monitoring Parameters:\n",
    "\n",
    "- `logging_steps`: Frequency of metric logging\n",
    "- `eval_steps`: How often to evaluate on validation data\n",
    "- `save_steps`: Frequency of model checkpoint saves\n",
    "\n",
    "Start with conservative values and adjust based on monitoring: \n",
    "- Begin with 1-3 epochs\n",
    "- Use smaller batch sizes initially\n",
    "- Monitor validation metrics closely\n",
    "- Adjust learning rate if training is unstable"
   ]
  },
  {
   "cell_type": "markdown",
   "id": "b6498d3d-93d7-439d-abfd-ff8f8cbe6c31",
   "metadata": {},
   "source": [
    "###  Implementation with TRL\n",
    "\n",
    "Now that we understand the key components, let’s implement the training with proper validation and monitoring. We will use the `SFTTrainer` class from the Transformers Reinforcement Learning (TRL) library, which is built on top of the `transformers` library. Here’s a complete example using the TRL library:"
   ]
  },
  {
   "cell_type": "code",
   "execution_count": 1,
   "id": "64133e02-a24c-44fb-b6ec-2efcb59614d2",
   "metadata": {},
   "outputs": [
    {
     "name": "stdout",
     "output_type": "stream",
     "text": [
      "True\n",
      "Tesla P40\n"
     ]
    }
   ],
   "source": [
    "import os\n",
    "os.environ[\"CUDA_VISIBLE_DEVICES\"] = \"0\"\n",
    "\n",
    "import torch\n",
    "print(torch.cuda.is_available())\n",
    "print(torch.cuda.get_device_name())\n",
    "\n",
    "# Free GPU Memory Before Training\n",
    "torch.cuda.empty_cache()\n",
    "torch.cuda.reset_peak_memory_stats()"
   ]
  },
  {
   "cell_type": "code",
   "execution_count": 2,
   "id": "377cf2e5-eec7-4b90-8ce2-f9509f2008e0",
   "metadata": {},
   "outputs": [],
   "source": [
    "from datasets import load_dataset\n",
    "from trl import SFTConfig, SFTTrainer\n",
    "from transformers import AutoTokenizer"
   ]
  },
  {
   "cell_type": "code",
   "execution_count": 3,
   "id": "fe4532e2-ef90-4a3d-9e3b-293654eed3e9",
   "metadata": {},
   "outputs": [],
   "source": [
    "# Set device\n",
    "device = \"cuda\" if torch.cuda.is_available() else \"cpu\""
   ]
  },
  {
   "cell_type": "code",
   "execution_count": 4,
   "id": "186040de-be3b-46e9-94e9-ab8a9dd3e344",
   "metadata": {},
   "outputs": [],
   "source": [
    "model = \"deepseek-ai/DeepSeek-R1-Distill-Qwen-1.5B\"\n",
    "tokenizer = AutoTokenizer.from_pretrained(model)\n",
    "tokenizer.pad_token = tokenizer.eos_token"
   ]
  },
  {
   "cell_type": "code",
   "execution_count": 5,
   "id": "91712266-89b6-4aaa-bbf1-25435df7995a",
   "metadata": {},
   "outputs": [
    {
     "data": {
      "text/plain": [
       "DatasetDict({\n",
       "    train: Dataset({\n",
       "        features: ['messages', 'source'],\n",
       "        num_rows: 1043917\n",
       "    })\n",
       "    test: Dataset({\n",
       "        features: ['messages', 'source'],\n",
       "        num_rows: 54948\n",
       "    })\n",
       "})"
      ]
     },
     "execution_count": 5,
     "metadata": {},
     "output_type": "execute_result"
    }
   ],
   "source": [
    "# Load dataset\n",
    "dataset = load_dataset(\"HuggingFaceTB/smoltalk\", \"all\")\n",
    "dataset"
   ]
  },
  {
   "cell_type": "code",
   "execution_count": 6,
   "id": "8afce59b-0df3-40f0-91ba-b4463d3bf6a2",
   "metadata": {},
   "outputs": [],
   "source": [
    "deepspeed_config_path = os.path.abspath(\"ds_zero3.json\")\n",
    "\n",
    "# Configure trainer\n",
    "training_args = SFTConfig(\n",
    "    output_dir=\"./sft_output\",\n",
    "    max_steps=1000,\n",
    "    per_device_train_batch_size=2,  # 4 Reduce this (try 2, 1, or even gradient accumulation)\n",
    "    gradient_accumulation_steps=4,  # Accumulate gradients over 4 steps to simulate batch size 4\n",
    "    learning_rate=5e-5,\n",
    "    logging_steps=10,\n",
    "    save_steps=100,\n",
    "    eval_strategy=\"steps\",\n",
    "    eval_steps=50,\n",
    "    #bf16=True,  # Use bf16 if supported\n",
    "    fp16=True,  # Use fp16 if bf16 is unsupported\n",
    "    deepspeed=deepspeed_config_path,  # DeepSpeed Zero-3 Offloading\n",
    ")\n"
   ]
  },
  {
   "cell_type": "markdown",
   "id": "a129aaae-84b3-4cad-97b9-d707673771d3",
   "metadata": {},
   "source": [
    "**Note:**\n",
    "\n",
    "```bash\n",
    "pip install deepspeed>=0.9.3\n",
    "conda install mpi4py\n",
    "```"
   ]
  },
  {
   "cell_type": "code",
   "execution_count": 7,
   "id": "2a84a048-8684-4b8c-ad59-1b9bbef5edf7",
   "metadata": {},
   "outputs": [
    {
     "name": "stderr",
     "output_type": "stream",
     "text": [
      "/home/loc/miniconda3/envs/py38/lib/python3.8/site-packages/trl/trainer/sft_trainer.py:185: UserWarning: You passed a model_id to the SFTTrainer. This will automatically create an `AutoModelForCausalLM` or a `PeftModel` (if you passed a `peft_config`) for you.\n",
      "  warnings.warn(\n"
     ]
    },
    {
     "name": "stdout",
     "output_type": "stream",
     "text": [
      "[2025-03-09 10:27:45,489] [INFO] [real_accelerator.py:222:get_accelerator] Setting ds_accelerator to cuda (auto detect)\n"
     ]
    },
    {
     "name": "stderr",
     "output_type": "stream",
     "text": [
      "/home/loc/miniconda3/envs/py38/compiler_compat/ld: cannot find -laio: No such file or directory\n",
      "collect2: error: ld returned 1 exit status\n",
      "/home/loc/miniconda3/envs/py38/compiler_compat/ld: cannot find -lcufile: No such file or directory\n",
      "collect2: error: ld returned 1 exit status\n"
     ]
    },
    {
     "name": "stdout",
     "output_type": "stream",
     "text": [
      "[2025-03-09 10:27:46,860] [INFO] [config.py:734:__init__] Config mesh_device None world_size = 1\n",
      "[2025-03-09 10:27:46,861] [INFO] [comm.py:658:init_distributed] cdb=None\n",
      "[2025-03-09 10:27:46,861] [INFO] [comm.py:673:init_distributed] Not using the DeepSpeed or dist launchers, attempting to detect MPI environment...\n",
      "[2025-03-09 10:27:46,901] [INFO] [comm.py:728:mpi_discovery] Discovered MPI settings of world_rank=0, local_rank=0, world_size=1, master_addr=192.168.1.6, master_port=29500\n",
      "[2025-03-09 10:27:46,905] [INFO] [comm.py:689:init_distributed] Initializing TorchBackend in DeepSpeed with backend nccl\n",
      "[2025-03-09 10:27:48,826] [INFO] [partition_parameters.py:348:__exit__] finished initializing model - num_params = 339, num_elems = 1.78B\n"
     ]
    },
    {
     "name": "stderr",
     "output_type": "stream",
     "text": [
      "/home/loc/miniconda3/envs/py38/lib/python3.8/site-packages/trl/trainer/sft_trainer.py:292: UserWarning: You didn't pass a `max_seq_length` argument to the SFTTrainer, this will default to 1024\n",
      "  warnings.warn(\n",
      "/home/loc/miniconda3/envs/py38/lib/python3.8/site-packages/trl/trainer/sft_trainer.py:396: UserWarning: You passed a tokenizer with `padding_side` not equal to `right` to the SFTTrainer. This might lead to some unexpected behaviour due to overflow issues when training a model in half-precision. You might consider adding `tokenizer.padding_side = 'right'` to your code.\n",
      "  warnings.warn(\n",
      "max_steps is given, it will override any value given in num_train_epochs\n"
     ]
    }
   ],
   "source": [
    "# Initialize trainer\n",
    "trainer = SFTTrainer(\n",
    "    model=model,\n",
    "    args=training_args,\n",
    "    train_dataset=dataset[\"train\"],\n",
    "    eval_dataset=dataset[\"test\"],\n",
    "    tokenizer=tokenizer,  # If tokenizer is required\n",
    ")\n",
    "\n",
    "# 7GB"
   ]
  },
  {
   "cell_type": "code",
   "execution_count": null,
   "id": "6fc2b2d2-bdae-415b-86da-2c1f322d90f1",
   "metadata": {},
   "outputs": [],
   "source": [
    "# Start training\n",
    "trainer.train()"
   ]
  },
  {
   "cell_type": "markdown",
   "id": "b8a6e840-cfd6-4eb9-9367-4c385ce226c8",
   "metadata": {},
   "source": [
    "When using a dataset with a \"messages\" field (like the example above), the SFTTrainer automatically applies the model's chat template, which it retrieves from the hub. This means you don't need any additional configuration to handle chat-style conversations - the trainer will format the messages according to the model's expected template format."
   ]
  },
  {
   "cell_type": "markdown",
   "id": "36bd52aa-2a5e-4eb6-bb6a-eedfd235a6d8",
   "metadata": {},
   "source": [
    "###  Packing the Dataset\n",
    "\n",
    "The SFTTrainer supports example packing to optimize training efficiency. This feature allows multiple short examples to be packed into the same input sequence, maximizing GPU utilization during training. To enable packing, simply set `packing=True` in the SFTConfig constructor. When using packed datasets with `max_steps`, be aware that you may train for more epochs than expected depending on your packing configuration. You can customize how examples are combined using a formatting function - particularly useful when working with datasets that have multiple fields like question-answer pairs. For evaluation datasets, you can disable packing by setting `eval_packing=False` in the SFTConfig. Here’s a basic example of customizing the packing configuration:\n",
    "\n",
    "```python\n",
    "# Configure packing\n",
    "training_args = SFTConfig(packing=True)\n",
    "\n",
    "trainer = SFTTrainer(model=model, train_dataset=dataset, args=training_args)\n",
    "\n",
    "trainer.train()\n",
    "```\n",
    "\n",
    "\n",
    "When packing the dataset with multiple fields, you can define a custom formatting function to combine the fields into a single input sequence. This function should take a list of examples and return a dictionary with the packed input sequence. Here’s an example of a custom formatting function:\n",
    "\n",
    "```python\n",
    "def formatting_func(example):\n",
    "    text = f\"### Question: {example['question']}\\n ### Answer: {example['answer']}\"\n",
    "    return text\n",
    "\n",
    "\n",
    "training_args = SFTConfig(packing=True)\n",
    "\n",
    "trainer = SFTTrainer(\n",
    "    \"facebook/opt-350m\",\n",
    "    train_dataset=dataset,\n",
    "    args=training_args,\n",
    "    formatting_func=formatting_func,\n",
    ")```\n"
   ]
  },
  {
   "cell_type": "markdown",
   "id": "bf26c76d-7ea9-491c-929c-5f8c0ed4aadd",
   "metadata": {},
   "source": [
    "###  Monitoring Training Progress\n",
    "\n",
    "Effective monitoring is crucial for successful fine-tuning. Let’s explore what to watch for during training:\n",
    "\n",
    "####  Understanding Loss Patterns\n",
    "\n",
    "Training loss typically follows three distinct phases:\n",
    "\n",
    "1. Initial Sharp Drop: Rapid adaptation to new data distribution\n",
    "2. Gradual Stabilization: Learning rate slows as model fine-tunes\n",
    "3. Convergence: Loss values stabilize, indicating training completion\n",
    "\n",
    "![fig](https://huggingface.co/datasets/huggingface/documentation-images/resolve/main/nlp_course_sft_loss_graphic.png)\n",
    "\n",
    "####  Metrics to Monitor\n",
    "\n",
    "Effective monitoring involves tracking quantitative metrics, and evaluating qualitative metrics. Available metrics are:\n",
    "\n",
    "- Training loss\n",
    "- Validation loss\n",
    "- Learning rate progression\n",
    "- Gradient norms\n",
    "\n",
    "Watch for these warning signs during training: \n",
    "\n",
    "1. Validation loss increasing while training loss decreases (overfitting)\n",
    "2. No significant improvement in loss values (underfitting)\n",
    "3. Extremely low loss values (potential memorization)\n",
    "4. Inconsistent output formatting (template learning issues)\n",
    "\n",
    "####  The Path to Convergence\n",
    "\n",
    "As training progresses, the loss curve should gradually stabilize. The key indicator of healthy training is a small gap between training and validation loss, suggesting the model is learning generalizable patterns rather than memorizing specific examples. The absolute loss values will vary depending on your task and dataset.\n",
    "\n",
    "\n",
    "#### Monitoring Training Progress\n",
    "\n",
    "The graph above shows a typical training progression. Notice how both training and validation loss decrease sharply at first, then gradually level off. This pattern indicates the model is learning effectively while maintaining generalization ability.\n",
    "\n",
    "####  Warning Signs to Watch For\n",
    "\n",
    "Several patterns in the loss curves can indicate potential issues. Below we illustrate common warning signs and solutions that we can consider.\n",
    "\n",
    "![fig](https://huggingface.co/datasets/huggingface/documentation-images/resolve/main/sft_loss_1.png)\n",
    "\n",
    "If the validation loss decreases at a significantly slower rate than training loss, your model is likely overfitting to the training data. Consider:\n",
    "\n",
    "- Reducing the training steps\n",
    "- Increasing the dataset size\n",
    "- Validating dataset quality and diversity\n",
    "\n",
    "\n",
    "![fig](https://huggingface.co/datasets/huggingface/documentation-images/resolve/main/sft_loss_2.png)\n",
    "\n",
    "\n",
    "If the loss doesn’t show significant improvement, the model might be:\n",
    "\n",
    "- Learning too slowly (try increasing the learning rate)\n",
    "- Struggling with the task (check data quality and task complexity)\n",
    "- Hitting architecture limitations (consider a different model)\n",
    "  \n",
    "![fig](https://huggingface.co/datasets/huggingface/documentation-images/resolve/main/sft_loss_3.png)\n",
    "\n",
    "Extremely low loss values could suggest memorization rather than learning. This is particularly concerning if:\n",
    "\n",
    "- The model performs poorly on new, similar examples\n",
    "- The outputs lack diversity\n",
    "- The responses are too similar to training examples\n",
    "\n",
    "*Monitor both the loss values and the model's actual outputs during training. Sometimes the loss can look good while the model develops unwanted behaviors. Regular qualitative evaluation of the model's responses helps catch issues that metrics alone might miss.*\n",
    "\n",
    "We should note that the interpretation of the loss values we outline here is aimed on the most common case, and in fact, loss values can behave on various ways depending on the model, the dataset, the training parameters, etc. If you interested in exploring more about outlined patterns, you should check out this blog post by the people at [Fast AI](https://www.fast.ai/posts/2023-09-04-learning-jumps/)."
   ]
  },
  {
   "cell_type": "markdown",
   "id": "2839d5d4-05b4-4150-9f07-55590fb029ff",
   "metadata": {},
   "source": [
    "###  Evaluation after SFT\n",
    "\n",
    "In section [11.4](https://huggingface.co/en/chapter11/4) we will learn how to evaluate the model using benchmark datasets. For now, we will focus on the qualitative evaluation of the model.\n",
    "\n",
    "After completing SFT, consider these follow-up actions:\n",
    "\n",
    "- Evaluate the model thoroughly on held-out test data\n",
    "- Validate template adherence across various inputs\n",
    "- Test domain-specific knowledge retention\n",
    "- Monitor real-world performance metrics\n",
    "\n",
    "Document your training process, including:\n",
    "- Dataset characteristics\n",
    "- Training parameters\n",
    "- Performance metrics\n",
    "- Known limitations This documentation will be valuable for future model iterations."
   ]
  },
  {
   "cell_type": "code",
   "execution_count": null,
   "id": "3b3dbe3a-763d-4252-8a8e-7eecd7e51154",
   "metadata": {},
   "outputs": [],
   "source": []
  }
 ],
 "metadata": {
  "kernelspec": {
   "display_name": "Python 3 (ipykernel)",
   "language": "python",
   "name": "python3"
  },
  "language_info": {
   "codemirror_mode": {
    "name": "ipython",
    "version": 3
   },
   "file_extension": ".py",
   "mimetype": "text/x-python",
   "name": "python",
   "nbconvert_exporter": "python",
   "pygments_lexer": "ipython3",
   "version": "3.8.20"
  }
 },
 "nbformat": 4,
 "nbformat_minor": 5
}
