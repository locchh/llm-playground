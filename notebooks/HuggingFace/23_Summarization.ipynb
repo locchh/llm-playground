{
 "cells": [
  {
   "cell_type": "markdown",
   "id": "6e0aaaca-7f85-44e4-bebb-f31856f9823b",
   "metadata": {},
   "source": [
    "## Table of Contents\n",
    "\n",
    "<ol>\n",
    "    <li>\n",
    "        <a href=\"#Introduction\">Introduction</a>\n",
    "    </li>\n",
    "    <li>\n",
    "        <a href=\"#Preparing-a-multilingual-corpus\">Preparing a multilingual corpus</a>\n",
    "    </li>\n",
    "    <li>\n",
    "        <a href=\"#Models-for-text-summarization\">Models for text summarization</a>\n",
    "    </li>\n",
    "    <li>\n",
    "        <a href=\"#Preprocessing-the-data\">Preprocessing the data</a>\n",
    "    </li>\n",
    "    <li>\n",
    "        <a href=\"#Metrics-for-text-summarization\">Metrics for text summarization</a>\n",
    "    </li>\n",
    "    <li>\n",
    "        <a href=\"#Fine-tuning-mT5-with-the-Trainer-API\">Fine-tuning mT5 with the Trainer API</a>\n",
    "    </li>\n",
    "    <li>\n",
    "        <a href=\"#Using-your-fine-tuned-model\">Using your fine-tuned model</a>\n",
    "    </li>\n",
    "    <li>\n",
    "        <a href=\"#Fine-tuning-mT5-with-🤗-Accelerate\">Fine-tuning mT5 with 🤗 Accelerate</a>\n",
    "    </li>\n",
    "</ol>"
   ]
  },
  {
   "cell_type": "markdown",
   "id": "8a2a2ccc-64e0-4eff-84e6-5e9c4c91e2a1",
   "metadata": {},
   "source": [
    "## Introduction"
   ]
  },
  {
   "cell_type": "markdown",
   "id": "4da2d923-47c6-42dd-8cf0-80f3026a7b9d",
   "metadata": {},
   "source": [
    "In this section we’ll take a look at how Transformer models can be used to condense long documents into summaries, a task known as text summarization. This is one of the most challenging NLP tasks as it requires a range of abilities, such as understanding long passages and generating coherent text that captures the main topics in a document. However, when done well, text summarization is a powerful tool that can speed up various business processes by relieving the burden of domain experts to read long documents in detail.\n",
    "\n",
    "Although there already exist various fine-tuned models for summarization on the [Hugging Face Hub](https://huggingface.co/models?pipeline_tag=summarization&sort=downloads), almost all of these are only suitable for English documents. So, to add a twist in this section, we’ll train a bilingual model for English and Spanish. By the end of this section, you’ll have a [model](https://huggingface.co/huggingface-course/mt5-small-finetuned-amazon-en-es) that can summarize customer reviews like the one shown here:\n",
    "\n",
    "As we’ll see, these summaries are concise because they’re learned from the titles that customers provide in their product reviews. Let’s start by putting together a suitable bilingual corpus for this task."
   ]
  },
  {
   "cell_type": "code",
   "execution_count": 1,
   "id": "672ed759-b942-44d1-a228-ffe7d55f1884",
   "metadata": {},
   "outputs": [
    {
     "name": "stdout",
     "output_type": "stream",
     "text": [
      "True\n",
      "Tesla P40\n"
     ]
    }
   ],
   "source": [
    "import os\n",
    "os.environ[\"CUDA_VISIBLE_DEVICES\"] = \"0\"\n",
    "\n",
    "import torch\n",
    "print(torch.cuda.is_available())\n",
    "print(torch.cuda.get_device_name())"
   ]
  },
  {
   "cell_type": "markdown",
   "id": "88c0da72-cda0-4b21-94b6-f292d79f733c",
   "metadata": {},
   "source": [
    "## Preparing a multilingual corpus"
   ]
  },
  {
   "cell_type": "markdown",
   "id": "f1cb9569-aea8-4eee-997e-c81a2870cb6c",
   "metadata": {},
   "source": [
    "We’ll use the [Multilingual Amazon Reviews Corpus](https://huggingface.co/datasets/amazon_reviews_multi) or [Amazon Reviews Multi Kaggle](https://www.kaggle.com/datasets/mexwell/amazon-reviews-multi?select=validation.csv) to create our bilingual summarizer. This corpus consists of Amazon product reviews in six languages and is typically used to benchmark multilingual classifiers. However, since each review is accompanied by a short title, we can use the titles as the target summaries for our model to learn from! To get started, let’s download the English and Spanish subsets from the Hugging Face Hub:\n",
    "\n",
    "```python\n",
    "from datasets import load_dataset\n",
    "\n",
    "spanish_dataset = load_dataset(\"amazon_reviews_multi\", \"es\")\n",
    "english_dataset = load_dataset(\"amazon_reviews_multi\", \"en\")\n",
    "```"
   ]
  },
  {
   "cell_type": "code",
   "execution_count": 2,
   "id": "42d19b50-f87a-4035-b552-232896b9566a",
   "metadata": {},
   "outputs": [
    {
     "name": "stdout",
     "output_type": "stream",
     "text": [
      "DatasetDict({\n",
      "    train: Dataset({\n",
      "        features: ['review_id', 'product_id', 'reviewer_id', 'stars', 'review_body', 'review_title', 'language', 'product_category'],\n",
      "        num_rows: 1200000\n",
      "    })\n",
      "    test: Dataset({\n",
      "        features: ['review_id', 'product_id', 'reviewer_id', 'stars', 'review_body', 'review_title', 'language', 'product_category'],\n",
      "        num_rows: 30000\n",
      "    })\n",
      "    validation: Dataset({\n",
      "        features: ['review_id', 'product_id', 'reviewer_id', 'stars', 'review_body', 'review_title', 'language', 'product_category'],\n",
      "        num_rows: 30000\n",
      "    })\n",
      "})\n"
     ]
    }
   ],
   "source": [
    "from datasets import load_dataset\n",
    "\n",
    "# Load the CSV file\n",
    "dataset = load_dataset('csv', data_files='archive/train.csv')\n",
    "test_dataset = load_dataset('csv', data_files='archive/test.csv')\n",
    "validation_dataset = load_dataset('csv', data_files='archive/validation.csv')\n",
    "dataset[\"test\"] = test_dataset[\"train\"]\n",
    "dataset[\"validation\"] = test_dataset[\"train\"] \n",
    "\n",
    "# Cleaning\n",
    "del test_dataset\n",
    "del validation_dataset\n",
    "\n",
    "# Remove the 'Unnamed: 0' column\n",
    "dataset = dataset.remove_columns(['Unnamed: 0'])\n",
    "\n",
    "# Inspect the dataset\n",
    "print(dataset)"
   ]
  },
  {
   "cell_type": "code",
   "execution_count": 3,
   "id": "bc449a2f-80d6-4468-9db3-9c18dbcd5a2f",
   "metadata": {},
   "outputs": [
    {
     "data": {
      "text/plain": [
       "DatasetDict({\n",
       "    train: Dataset({\n",
       "        features: ['review_id', 'product_id', 'reviewer_id', 'stars', 'review_body', 'review_title', 'language', 'product_category'],\n",
       "        num_rows: 200000\n",
       "    })\n",
       "    test: Dataset({\n",
       "        features: ['review_id', 'product_id', 'reviewer_id', 'stars', 'review_body', 'review_title', 'language', 'product_category'],\n",
       "        num_rows: 5000\n",
       "    })\n",
       "    validation: Dataset({\n",
       "        features: ['review_id', 'product_id', 'reviewer_id', 'stars', 'review_body', 'review_title', 'language', 'product_category'],\n",
       "        num_rows: 5000\n",
       "    })\n",
       "})"
      ]
     },
     "execution_count": 3,
     "metadata": {},
     "output_type": "execute_result"
    }
   ],
   "source": [
    "# Filter for rows where the 'language' column equals 'es'\n",
    "spanish_dataset = dataset.filter(lambda example: example['language'] == 'es')\n",
    "spanish_dataset"
   ]
  },
  {
   "cell_type": "code",
   "execution_count": 4,
   "id": "fcc9050d-1171-41dc-bd79-d0d23a1dc6f2",
   "metadata": {},
   "outputs": [
    {
     "data": {
      "text/plain": [
       "DatasetDict({\n",
       "    train: Dataset({\n",
       "        features: ['review_id', 'product_id', 'reviewer_id', 'stars', 'review_body', 'review_title', 'language', 'product_category'],\n",
       "        num_rows: 200000\n",
       "    })\n",
       "    test: Dataset({\n",
       "        features: ['review_id', 'product_id', 'reviewer_id', 'stars', 'review_body', 'review_title', 'language', 'product_category'],\n",
       "        num_rows: 5000\n",
       "    })\n",
       "    validation: Dataset({\n",
       "        features: ['review_id', 'product_id', 'reviewer_id', 'stars', 'review_body', 'review_title', 'language', 'product_category'],\n",
       "        num_rows: 5000\n",
       "    })\n",
       "})"
      ]
     },
     "execution_count": 4,
     "metadata": {},
     "output_type": "execute_result"
    }
   ],
   "source": [
    "# Filter for rows where the 'language' column equals 'es'\n",
    "english_dataset = dataset.filter(lambda example: example['language'] == 'en')\n",
    "english_dataset"
   ]
  },
  {
   "cell_type": "markdown",
   "id": "8b00e242-873a-4a5a-95a5-9baa2f499df8",
   "metadata": {},
   "source": [
    "Let’s take a look at a few examples by creating a simple function that takes a random sample from the training set with the techniques we learned in [Chapter 5](https://huggingface.co/course/chapter5):"
   ]
  },
  {
   "cell_type": "code",
   "execution_count": 5,
   "id": "84506841-deb3-4004-90ad-87947fd13e59",
   "metadata": {},
   "outputs": [
    {
     "name": "stdout",
     "output_type": "stream",
     "text": [
      "\n",
      "'>> Title: Worked in front position, not rear'\n",
      "'>> Review: 3 stars because these are not rear brakes as stated in the item description. At least the mount adapter only worked on the front fork of the bike that I got it for.'\n",
      "\n",
      "'>> Title: meh'\n",
      "'>> Review: Does it’s job and it’s gorgeous but mine is falling apart, I had to basically put it together again with hot glue'\n",
      "\n",
      "'>> Title: Can't beat these for the money'\n",
      "'>> Review: Bought this for handling miscellaneous aircraft parts and hanger \"stuff\" that I needed to organize; it really fit the bill. The unit arrived quickly, was well packaged and arrived intact (always a good sign). There are five wall mounts-- three on the top and two on the bottom. I wanted to mount it on the wall, so all I had to do was to remove the top two layers of plastic drawers, as well as the bottom corner drawers, place it when I wanted and mark it; I then used some of the new plastic screw in wall anchors (the 50 pound variety) and it easily mounted to the wall. Some have remarked that they wanted dividers for the drawers, and that they made those. Good idea. My application was that I needed something that I can see the contents at about eye level, so I wanted the fuller-sized drawers. I also like that these are the new plastic that doesn't get brittle and split like my older plastic drawers did. I like the all-plastic construction. It's heavy duty enough to hold metal parts, but being made of plastic it's not as heavy as a metal frame, so you can easily mount it to the wall and still load it up with heavy stuff, or light stuff. No problem there. For the money, you can't beat it. Best one of these I've bought to date-- and I've been using some version of these for over forty years.'\n"
     ]
    }
   ],
   "source": [
    "def show_samples(dataset, num_samples=3, seed=42):\n",
    "    sample = dataset[\"train\"].shuffle(seed=seed).select(range(num_samples))\n",
    "    for example in sample:\n",
    "        print(f\"\\n'>> Title: {example['review_title']}'\")\n",
    "        print(f\"'>> Review: {example['review_body']}'\")\n",
    "\n",
    "\n",
    "show_samples(english_dataset)"
   ]
  },
  {
   "cell_type": "markdown",
   "id": "6c015be1-fad8-433d-ab49-1d462e4839d9",
   "metadata": {},
   "source": [
    "This sample shows the diversity of reviews one typically finds online, ranging from positive to negative (and everything in between!). Although the example with the “meh” title is not very informative, the other titles look like decent summaries of the reviews themselves. Training a summarization model on all 400,000 reviews would take far too long on a single GPU, so instead we’ll focus on generating summaries for a single domain of products. To get a feel for what domains we can choose from, let’s convert `english_dataset` to a `pandas.DataFrame` and compute the number of reviews per product category:"
   ]
  },
  {
   "cell_type": "code",
   "execution_count": 6,
   "id": "54ccaa02-e3a2-43c5-b531-45512ef2f297",
   "metadata": {},
   "outputs": [
    {
     "data": {
      "text/plain": [
       "product_category\n",
       "home                      17679\n",
       "apparel                   15951\n",
       "wireless                  15717\n",
       "other                     13418\n",
       "beauty                    12091\n",
       "drugstore                 11730\n",
       "kitchen                   10382\n",
       "toy                        8745\n",
       "sports                     8277\n",
       "automotive                 7506\n",
       "lawn_and_garden            7327\n",
       "home_improvement           7136\n",
       "pet_products               7082\n",
       "digital_ebook_purchase     6749\n",
       "pc                         6401\n",
       "electronics                6186\n",
       "office_product             5521\n",
       "shoes                      5197\n",
       "grocery                    4730\n",
       "book                       3756\n",
       "Name: count, dtype: int64"
      ]
     },
     "execution_count": 6,
     "metadata": {},
     "output_type": "execute_result"
    }
   ],
   "source": [
    "english_dataset.set_format(\"pandas\")\n",
    "english_df = english_dataset[\"train\"][:]\n",
    "# Show counts for top 20 products\n",
    "english_df[\"product_category\"].value_counts()[:20]"
   ]
  },
  {
   "cell_type": "markdown",
   "id": "e4cde82c-41b5-4dfb-9a55-75fc8b30a485",
   "metadata": {},
   "source": [
    "The most popular products in the English dataset are about household items, clothing, and wireless electronics. To stick with the Amazon theme, though, let’s focus on summarizing book reviews — after all, this is what the company was founded on! We can see two product categories that fit the bill (`book` and `digital_ebook_purchase`), so let’s filter the datasets in both languages for just these products. As we saw in [Chapter 5](https://huggingface.co/course/chapter5), the `Dataset.filter()` function allows us to slice a dataset very efficiently, so we can define a simple function to do this:"
   ]
  },
  {
   "cell_type": "code",
   "execution_count": 7,
   "id": "d3b3708f-96a5-48d0-bc46-80b846f56d64",
   "metadata": {},
   "outputs": [],
   "source": [
    "def filter_books(example):\n",
    "    return (\n",
    "        example[\"product_category\"] == \"book\"\n",
    "        or example[\"product_category\"] == \"digital_ebook_purchase\"\n",
    "    )"
   ]
  },
  {
   "cell_type": "markdown",
   "id": "06ba0e18-0ed4-46bd-b513-d54bcce91200",
   "metadata": {},
   "source": [
    "Now when we apply this function to `english_dataset` and `spanish_dataset`, the result will contain just those rows involving the book categories. Before applying the filter, let’s switch the format of english_dataset from \"pandas\" back to \"arrow\":"
   ]
  },
  {
   "cell_type": "code",
   "execution_count": 8,
   "id": "6142e7eb-6f30-4be9-8665-5c0fff675369",
   "metadata": {},
   "outputs": [],
   "source": [
    "english_dataset.reset_format()"
   ]
  },
  {
   "cell_type": "markdown",
   "id": "b62ee22d-4156-4002-9d2b-91f9948b3721",
   "metadata": {},
   "source": [
    "\n",
    "\n",
    "We can then apply the filter function, and as a sanity check let’s inspect a sample of reviews to see if they are indeed about books:"
   ]
  },
  {
   "cell_type": "code",
   "execution_count": 9,
   "id": "e2cb45f0-8ffd-487f-a6a5-24ecd12c66a8",
   "metadata": {},
   "outputs": [
    {
     "name": "stdout",
     "output_type": "stream",
     "text": [
      "\n",
      "'>> Title: I'm dissapointed.'\n",
      "'>> Review: I guess I had higher expectations for this book from the reviews. I really thought I'd at least like it. The plot idea was great. I loved Ash but, it just didnt go anywhere. Most of the book was about their radio show and talking to callers. I wanted the author to dig deeper so we could really get to know the characters. All we know about Grace is that she is attractive looking, Latino and is kind of a brat. I'm dissapointed.'\n",
      "\n",
      "'>> Title: Good art, good price, poor design'\n",
      "'>> Review: I had gotten the DC Vintage calendar the past two years, but it was on backorder forever this year and I saw they had shrunk the dimensions for no good reason. This one has good art choices but the design has the fold going through the picture, so it's less aesthetically pleasing, especially if you want to keep a picture to hang. For the price, a good calendar'\n",
      "\n",
      "'>> Title: Helpful'\n",
      "'>> Review: Nearly all the tips useful and. I consider myself an intermediate to advanced user of OneNote. I would highly recommend.'\n"
     ]
    }
   ],
   "source": [
    "spanish_books = spanish_dataset.filter(filter_books)\n",
    "english_books = english_dataset.filter(filter_books)\n",
    "show_samples(english_books)"
   ]
  },
  {
   "cell_type": "markdown",
   "id": "d0553447-5b6a-4072-9fc1-62a301b8515e",
   "metadata": {},
   "source": [
    "Okay, we can see that the reviews are not strictly about books and might refer to things like calendars and electronic applications such as OneNote. Nevertheless, the domain seems about right to train a summarization model on. Before we look at various models that are suitable for this task, we have one last bit of data preparation to do: combining the English and Spanish reviews as a single `DatasetDict` object. 🤗 Datasets provides a handy concatenate_datasets() function that (as the name suggests) will stack two `Dataset` objects on top of each other. So, to create our bilingual dataset, we’ll loop over each split, concatenate the datasets for that split, and shuffle the result to ensure our model doesn’t overfit to a single language:"
   ]
  },
  {
   "cell_type": "code",
   "execution_count": 10,
   "id": "ec3d23b5-1b2b-419a-a2ba-f1d11929fd8a",
   "metadata": {},
   "outputs": [
    {
     "name": "stdout",
     "output_type": "stream",
     "text": [
      "\n",
      "'>> Title: Easy to follow!!!!'\n",
      "'>> Review: I loved The dash diet weight loss Solution. Never hungry. I would recommend this diet. Also the menus are well rounded. Try it. Has lots of the information need thanks.'\n",
      "\n",
      "'>> Title: PARCIALMENTE DAÑADO'\n",
      "'>> Review: Me llegó el día que tocaba, junto a otros libros que pedí, pero la caja llegó en mal estado lo cual dañó las esquinas de los libros porque venían sin protección (forro).'\n",
      "\n",
      "'>> Title: no lo he podido descargar'\n",
      "'>> Review: igual que el anterior'\n"
     ]
    }
   ],
   "source": [
    "from datasets import concatenate_datasets, DatasetDict\n",
    "\n",
    "books_dataset = DatasetDict()\n",
    "\n",
    "for split in english_books.keys():\n",
    "    books_dataset[split] = concatenate_datasets(\n",
    "        [english_books[split], spanish_books[split]]\n",
    "    )\n",
    "    books_dataset[split] = books_dataset[split].shuffle(seed=42)\n",
    "\n",
    "# Peek at a few examples\n",
    "show_samples(books_dataset)"
   ]
  },
  {
   "cell_type": "markdown",
   "id": "6a45c471-6ec9-486b-aa11-af2a48baac91",
   "metadata": {},
   "source": [
    "This certainly looks like a mix of English and Spanish reviews! Now that we have a training corpus, one final thing to check is the distribution of words in the reviews and their titles. This is especially important for summarization tasks, where short reference summaries in the data can bias the model to only output one or two words in the generated summaries. The plots below show the word distributions, and we can see that the titles are heavily skewed toward just 1-2 words:\n",
    "Word count distributions for the review titles and texts."
   ]
  },
  {
   "cell_type": "code",
   "execution_count": 11,
   "id": "221bf3b6-de9d-409d-8b2b-80893ad4654b",
   "metadata": {},
   "outputs": [
    {
     "data": {
      "image/png": "[encoded data removed]",
      "text/plain": [
       "<Figure size 1200x600 with 2 Axes>"
      ]
     },
     "metadata": {},
     "output_type": "display_data"
    }
   ],
   "source": [
    "import matplotlib.pyplot as plt\n",
    "\n",
    "# Function to calculate word counts\n",
    "def word_count(text):\n",
    "    return len(text.split())\n",
    "\n",
    "# Prepare data for plotting\n",
    "train_data = books_dataset[\"train\"]\n",
    "review_title_word_counts = [word_count(item[\"review_title\"]) for item in train_data]\n",
    "review_body_word_counts = [word_count(item[\"review_body\"]) for item in train_data]\n",
    "\n",
    "# Plot histograms\n",
    "plt.figure(figsize=(12, 6))\n",
    "\n",
    "# Histogram for review titles\n",
    "plt.subplot(1, 2, 1)\n",
    "plt.hist(review_title_word_counts, bins=15, color=\"blue\", alpha=0.7, edgecolor=\"black\")\n",
    "plt.title(\"Histogram of Word Counts in Review Titles\")\n",
    "plt.xlabel(\"Word Count\")\n",
    "plt.ylabel(\"Frequency\")\n",
    "\n",
    "# Histogram for review bodies\n",
    "plt.subplot(1, 2, 2)\n",
    "plt.hist(review_body_word_counts, bins=15, color=\"green\", alpha=0.7, edgecolor=\"black\")\n",
    "plt.title(\"Histogram of Word Counts in Review Bodies\")\n",
    "plt.xlabel(\"Word Count\")\n",
    "plt.ylabel(\"Frequency\")\n",
    "\n",
    "plt.tight_layout()\n",
    "plt.show()"
   ]
  },
  {
   "cell_type": "markdown",
   "id": "75391cc0-9e8d-4996-97e5-0d46de3bcfdb",
   "metadata": {},
   "source": [
    "To deal with this, we’ll filter out the examples with very short titles so that our model can produce more interesting summaries. Since we’re dealing with English and Spanish texts, we can use a rough heuristic to split the titles on whitespace and then use our trusty `Dataset.filter()` method as follows:"
   ]
  },
  {
   "cell_type": "code",
   "execution_count": 12,
   "id": "89a10318-2be3-446e-bb2e-4c3bfe5c0308",
   "metadata": {},
   "outputs": [],
   "source": [
    "books_dataset = books_dataset.filter(lambda x: len(x[\"review_title\"].split()) > 2)"
   ]
  },
  {
   "cell_type": "markdown",
   "id": "501cdb10-6358-4391-b9d8-f38eeeb10aad",
   "metadata": {},
   "source": [
    "Now that we’ve prepared our corpus, let’s take a look at a few possible Transformer models that one might fine-tune on it!"
   ]
  },
  {
   "cell_type": "code",
   "execution_count": 13,
   "id": "9a2749fb-5397-4a25-bfa7-a87266739545",
   "metadata": {},
   "outputs": [
    {
     "data": {
      "text/plain": [
       "DatasetDict({\n",
       "    train: Dataset({\n",
       "        features: ['review_id', 'product_id', 'reviewer_id', 'stars', 'review_body', 'review_title', 'language', 'product_category'],\n",
       "        num_rows: 9672\n",
       "    })\n",
       "    test: Dataset({\n",
       "        features: ['review_id', 'product_id', 'reviewer_id', 'stars', 'review_body', 'review_title', 'language', 'product_category'],\n",
       "        num_rows: 245\n",
       "    })\n",
       "    validation: Dataset({\n",
       "        features: ['review_id', 'product_id', 'reviewer_id', 'stars', 'review_body', 'review_title', 'language', 'product_category'],\n",
       "        num_rows: 245\n",
       "    })\n",
       "})"
      ]
     },
     "execution_count": 13,
     "metadata": {},
     "output_type": "execute_result"
    }
   ],
   "source": [
    "books_dataset"
   ]
  },
  {
   "cell_type": "markdown",
   "id": "28b83c57-ee52-47c3-b46c-8018b65d8cf6",
   "metadata": {},
   "source": [
    "## Models for text summarization"
   ]
  },
  {
   "attachments": {
    "30ba1ebe-f5d0-4587-ace1-3d912cec0242.png": {
     "image/png": "[encoded data removed]"
    }
   },
   "cell_type": "markdown",
   "id": "ff079be1-a6a8-4a5d-8a30-1dc5e98210c3",
   "metadata": {},
   "source": [
    "If you think about it, text summarization is a similar sort of task to machine translation: we have a body of text like a review that we’d like to “translate” into a shorter version that captures the salient features of the input. Accordingly, most Transformer models for summarization adopt the encoder-decoder architecture that we first encountered in [Chapter 1](https://huggingface.co/course/chapter1), although there are some exceptions like the GPT family of models which can also be used for summarization in few-shot settings. The following table lists some popular pretrained models that can be fine-tuned for summarization.\n",
    "\n",
    "Here is the content formatted as a table:\n",
    "\n",
    "| Transformer Model | Description | Multilingual? |\n",
    "|-------------------|-------------|---------------|\n",
    "| [GPT-2](https://huggingface.co/gpt2-xl) | Although trained as an auto-regressive language model, you can make GPT-2 generate summaries by appending “TL;DR” at the end of the input text. | ❌ |\n",
    "| [PEGASUS](https://huggingface.co/google/pegasus-large) | Uses a pretraining objective to predict masked sentences in multi-sentence texts. This pretraining objective is closer to summarization than vanilla language modeling and scores highly on popular benchmarks. | ❌ |\n",
    "| [T5](https://huggingface.co/t5-base) | A universal Transformer architecture that formulates all tasks in a text-to-text framework; e.g., the input format for the model to summarize a document is summarize: ARTICLE. | ❌ |\n",
    "| [mT5](https://huggingface.co/google/mt5-base) | A multilingual version of T5, pretrained on the multilingual Common Crawl corpus (mC4), covering 101 languages. | ✅ |\n",
    "| [BART](https://huggingface.co/facebook/bart-base) | A novel Transformer architecture with both an encoder and a decoder stack trained to reconstruct corrupted input that combines the pretraining schemes of BERT and GPT-2. | ❌ |\n",
    "| [mBART-50](https://huggingface.co/facebook/mbart-large-50) | A multilingual version of BART, pretrained on 50 languages. | ✅ |\n",
    "\n",
    "As you can see from this table, the majority of Transformer models for summarization (and indeed most NLP tasks) are monolingual. This is great if your task is in a “high-resource” language like English or German, but less so for the thousands of other languages in use across the world. Fortunately, there is a class of multilingual Transformer models, like mT5 and mBART, that come to the rescue. These models are pretrained using language modeling, but with a twist: instead of training on a corpus of one language, they are trained jointly on texts in over 50 languages at once!\n",
    "\n",
    "We’ll focus on mT5, an interesting architecture based on T5 that was pretrained in a text-to-text framework. In T5, every NLP task is formulated in terms of a prompt prefix like summarize: which conditions the model to adapt the generated text to the prompt. As shown in the figure below, this makes T5 extremely versatile, as you can solve many tasks with a single model!\n",
    "\n",
    "![image.png](attachment:30ba1ebe-f5d0-4587-ace1-3d912cec0242.png)\n",
    "\n",
    "mT5 doesn’t use prefixes, but shares much of the versatility of T5 and has the advantage of being multilingual. Now that we’ve picked a model, let’s take a look at preparing our data for training.\n",
    "\n",
    "✏️ Try it out! Once you’ve worked through this section, see how well mT5 compares to mBART by fine-tuning the latter with the same techniques. For bonus points, you can also try fine-tuning T5 on just the English reviews. Since T5 has a special prefix prompt, you’ll need to prepend summarize: to the input examples in the preprocessing steps below."
   ]
  },
  {
   "cell_type": "markdown",
   "id": "c7a0cc57-7721-4eee-842f-2bcb4166b053",
   "metadata": {},
   "source": [
    "##  Preprocessing the data"
   ]
  },
  {
   "cell_type": "markdown",
   "id": "755d3a7b-fc5f-4ce8-a1e7-99ac106f6c0f",
   "metadata": {},
   "source": [
    "Our next task is to tokenize and encode our reviews and their titles. As usual, we begin by loading the tokenizer associated with the pretrained model checkpoint. We’ll use `mt5-small` as our checkpoint so we can fine-tune the model in a reasonable amount of time:"
   ]
  },
  {
   "cell_type": "code",
   "execution_count": 14,
   "id": "4b12bc99-067a-418d-975e-4b2cc09cb832",
   "metadata": {},
   "outputs": [
    {
     "name": "stderr",
     "output_type": "stream",
     "text": [
      "You are using the default legacy behaviour of the <class 'transformers.models.t5.tokenization_t5.T5Tokenizer'>. This is expected, and simply means that the `legacy` (previous) behavior will be used so nothing changes for you. If you want to use the new behaviour, set `legacy=False`. This should only be set if you understand what it means, and thoroughly read the reason why this was added as explained in https://github.com/huggingface/transformers/pull/24565\n",
      "/home/loc/miniconda3/envs/py38/lib/python3.8/site-packages/transformers/tokenization_utils_base.py:1617: FutureWarning: `clean_up_tokenization_spaces` was not set. It will be set to `True` by default. This behavior will be deprecated in transformers v4.45, and will be then set to `False` by default. For more details check this issue: https://github.com/huggingface/transformers/issues/31884\n",
      "  warnings.warn(\n",
      "/home/loc/miniconda3/envs/py38/lib/python3.8/site-packages/transformers/convert_slow_tokenizer.py:558: UserWarning: The sentencepiece tokenizer that you are converting to a fast tokenizer uses the byte fallback option which is not implemented in the fast tokenizers. In practice this means that the fast version of the tokenizer can produce unknown tokens whereas the sentencepiece version would have converted these unknown tokens into a sequence of byte tokens matching the original piece of text.\n",
      "  warnings.warn(\n"
     ]
    }
   ],
   "source": [
    "from transformers import AutoTokenizer\n",
    "\n",
    "model_checkpoint = \"google/mt5-small\"\n",
    "tokenizer = AutoTokenizer.from_pretrained(model_checkpoint)"
   ]
  },
  {
   "cell_type": "markdown",
   "id": "a27c9892-d5e4-4aa7-8dd4-f8acffde797f",
   "metadata": {},
   "source": [
    "💡 In the early stages of your NLP projects, a good practice is to train a class of “small” models on a small sample of data. This allows you to debug and iterate faster toward an end-to-end workflow. Once you are confident in the results, you can always scale up the model by simply changing the model checkpoint!\n",
    "\n",
    "Let’s test out the mT5 tokenizer on a small example:"
   ]
  },
  {
   "cell_type": "code",
   "execution_count": 15,
   "id": "1b1c4d61-a8d9-44b3-a9d3-e2536bfb8585",
   "metadata": {},
   "outputs": [
    {
     "data": {
      "text/plain": [
       "{'input_ids': [336, 259, 28387, 11807, 287, 62893, 295, 12507, 309, 1], 'attention_mask': [1, 1, 1, 1, 1, 1, 1, 1, 1, 1]}"
      ]
     },
     "execution_count": 15,
     "metadata": {},
     "output_type": "execute_result"
    }
   ],
   "source": [
    "inputs = tokenizer(\"I loved reading the Hunger Games!\")\n",
    "inputs"
   ]
  },
  {
   "cell_type": "markdown",
   "id": "4def200a-4116-4fd6-9f69-cac574786c42",
   "metadata": {},
   "source": [
    "Here we can see the familiar `input_ids` and `attention_mask` that we encountered in our first fine-tuning experiments back in [Chapter 3](https://huggingface.co/course/chapter3). Let’s decode these input IDs with the tokenizer’s `convert_ids_to_tokens()` function to see what kind of tokenizer we’re dealing with:"
   ]
  },
  {
   "cell_type": "code",
   "execution_count": 16,
   "id": "79a8f8eb-b4ee-424f-8897-ab0bad578364",
   "metadata": {},
   "outputs": [
    {
     "data": {
      "text/plain": [
       "['▁I', '▁', 'loved', '▁reading', '▁the', '▁Hung', 'er', '▁Games', '!', '</s>']"
      ]
     },
     "execution_count": 16,
     "metadata": {},
     "output_type": "execute_result"
    }
   ],
   "source": [
    "tokenizer.convert_ids_to_tokens(inputs.input_ids)"
   ]
  },
  {
   "cell_type": "markdown",
   "id": "b029b10c-e372-48df-82ca-aba0de2002d6",
   "metadata": {},
   "source": [
    "The special Unicode character `▁` and end-of-sequence token `</s>` indicate that we’re dealing with the SentencePiece tokenizer, which is based on the Unigram segmentation algorithm discussed in [Chapter 6](https://huggingface.co/course/chapter6). Unigram is especially useful for multilingual corpora since it allows SentencePiece to be agnostic about accents, punctuation, and the fact that many languages, like Japanese, do not have whitespace characters.\n",
    "\n",
    "To tokenize our corpus, we have to deal with a subtlety associated with summarization: because our labels are also text, it is possible that they exceed the model’s maximum context size. This means we need to apply truncation to both the reviews and their titles to ensure we don’t pass excessively long inputs to our model. The tokenizers in 🤗 Transformers provide a nifty `text_target` argument that allows you to tokenize the labels in parallel to the inputs. Here is an example of how the inputs and targets are processed for mT5:"
   ]
  },
  {
   "cell_type": "code",
   "execution_count": 17,
   "id": "14ba8aa1-0041-4e96-8c0d-c5f26cfccb08",
   "metadata": {},
   "outputs": [],
   "source": [
    "max_input_length = 512\n",
    "max_target_length = 30\n",
    "\n",
    "\n",
    "def preprocess_function(examples):\n",
    "    model_inputs = tokenizer(\n",
    "        examples[\"review_body\"],\n",
    "        max_length=max_input_length,\n",
    "        truncation=True,\n",
    "    )\n",
    "    labels = tokenizer(\n",
    "        examples[\"review_title\"], max_length=max_target_length, truncation=True\n",
    "    )\n",
    "    model_inputs[\"labels\"] = labels[\"input_ids\"]\n",
    "    return model_inputs"
   ]
  },
  {
   "cell_type": "markdown",
   "id": "861e6610-d58b-4368-bfd5-b3b24fd19347",
   "metadata": {},
   "source": [
    "Let’s walk through this code to understand what’s happening. The first thing we’ve done is define values for `max_input_length` and `max_target_length`, which set the upper limits for how long our reviews and titles can be. Since the review body is typically much larger than the title, we’ve scaled these values accordingly.\n",
    "\n",
    "With `preprocess_function()`, it is then a simple matter to tokenize the whole corpus using the handy `Dataset.map()` function we’ve used extensively throughout this course:"
   ]
  },
  {
   "cell_type": "code",
   "execution_count": 18,
   "id": "3c7ac75b-5283-443d-baed-ce128b6f6500",
   "metadata": {},
   "outputs": [],
   "source": [
    "tokenized_datasets = books_dataset.map(preprocess_function, batched=True)"
   ]
  },
  {
   "cell_type": "markdown",
   "id": "68726fd5-6fbb-48ac-8ca8-9ea96e429be1",
   "metadata": {},
   "source": [
    "Now that the corpus has been preprocessed, let’s take a look at some metrics that are commonly used for summarization. As we’ll see, there is no silver bullet when it comes to measuring the quality of machine-generated text.\n",
    "\n",
    "💡 You may have noticed that we used `batched=True` in our `Dataset.map()` function above. This encodes the examples in batches of 1,000 (the default) and allows you to make use of the multithreading capabilities of the fast tokenizers in 🤗 Transformers. Where possible, try using `batched=True` to get the most out of your preprocessing!"
   ]
  },
  {
   "cell_type": "markdown",
   "id": "f7594437-8cfe-4086-b931-837eb1d78325",
   "metadata": {},
   "source": [
    "## Metrics for text summarization"
   ]
  },
  {
   "cell_type": "markdown",
   "id": "2ddbb407-877c-4f20-9165-52744fc45843",
   "metadata": {},
   "source": [
    "In comparison to most of the other tasks we’ve covered in this course, measuring the performance of text generation tasks like summarization or translation is not as straightforward. For example, given a review like “I loved reading the Hunger Games”, there are multiple valid summaries, like “I loved the Hunger Games” or “Hunger Games is a great read”. Clearly, applying some sort of exact match between the generated summary and the label is not a good solution — even humans would fare poorly under such a metric, because we all have our own writing style.\n",
    "\n",
    "For summarization, one of the most commonly used metrics is the [ROUGE score](https://en.wikipedia.org/wiki/ROUGE_(metric)) (short for Recall-Oriented Understudy for Gisting Evaluation). The basic idea behind this metric is to compare a generated summary against a set of reference summaries that are typically created by humans. To make this more precise, suppose we want to compare the following two summaries:"
   ]
  },
  {
   "cell_type": "code",
   "execution_count": 19,
   "id": "07d3c6ee-69d8-4c3e-9e50-ebb4413256a4",
   "metadata": {},
   "outputs": [],
   "source": [
    "generated_summary = \"I absolutely loved reading the Hunger Games\"\n",
    "reference_summary = \"I loved reading the Hunger Games\""
   ]
  },
  {
   "cell_type": "markdown",
   "id": "d7ce846b-214c-459a-99dc-def45eb7a7ff",
   "metadata": {},
   "source": [
    "🙋 Don’t worry if this is the first time you’ve heard of precision and recall — we’ll go through some explicit examples together to make it all clear. These metrics are usually encountered in classification tasks, so if you want to understand how precision and recall are defined in that context, we recommend checking out the scikit-learn guides."
   ]
  },
  {
   "cell_type": "markdown",
   "id": "005430f5-8247-4df8-9f94-d1bac91d1675",
   "metadata": {},
   "source": [
    "**Recall**  \n",
    "Recall measures how much of the reference summary is captured by the generated one. If we are just comparing words, recall can be calculated using the following formula:  \n",
    "\n",
    "\\$\n",
    "\\text{Recall} = \\frac{\\text{Number of overlapping words}}{\\text{Total number of words in reference summary}}\n",
    "\\$  \n",
    "\n",
    "For the simple example above, this formula gives a perfect recall of $ \\frac{6}{6} = 1 $; i.e., all the words in the reference summary have been produced by the model.  \n",
    "\n",
    "This may sound great, but imagine if the generated summary was:  \n",
    "*“I really really loved reading the Hunger Games all night.”*  \n",
    "\n",
    "This would also have a perfect recall, but it is arguably a worse summary since it is verbose.  \n",
    "\n",
    "\n",
    "**Precision**  \n",
    "To address verbosity, we also compute **precision**, which measures how much of the generated summary is relevant:  \n",
    "\n",
    "\\$\n",
    "\\text{Precision} = \\frac{\\text{Number of overlapping words}}{\\text{Total number of words in generated summary}}\n",
    "\\$  \n",
    "\n",
    "Applying this to the verbose summary gives a precision of $ \\frac{6}{10} = 0.6 $, which is considerably worse than the precision of $ \\frac{6}{7} \\approx 0.86 $ obtained by the shorter one.  \n",
    "\n",
    "\n",
    "**F1-Score**  \n",
    "In practice, both precision and recall are computed, and then the **F1-score** (the harmonic mean of precision and recall) is reported.  \n",
    "\n",
    "\n",
    "**Implementation with 🤗 Datasets**\n",
    "You can compute ROUGE metrics easily by first installing the `rouge_score` package:  \n",
    "\n",
    "```bash\n",
    "pip install rouge_score\n",
    "```\n",
    "\n",
    "and then loading the ROUGE metric as follows:"
   ]
  },
  {
   "cell_type": "code",
   "execution_count": 20,
   "id": "9e99e879-c892-4692-914f-03937b7d91ee",
   "metadata": {},
   "outputs": [],
   "source": [
    "import evaluate\n",
    "\n",
    "rouge_score = evaluate.load(\"rouge\")"
   ]
  },
  {
   "cell_type": "markdown",
   "id": "d5812f42-75ff-4516-b33d-d8a46563fe8d",
   "metadata": {},
   "source": [
    "Then we can use the `rouge_score.compute()` function to calculate all the metrics at once:"
   ]
  },
  {
   "cell_type": "code",
   "execution_count": 21,
   "id": "7c7821d8-da23-47f1-a60b-7e9edd63a711",
   "metadata": {},
   "outputs": [
    {
     "data": {
      "text/plain": [
       "{'rouge1': 0.923076923076923,\n",
       " 'rouge2': 0.7272727272727272,\n",
       " 'rougeL': 0.923076923076923,\n",
       " 'rougeLsum': 0.923076923076923}"
      ]
     },
     "execution_count": 21,
     "metadata": {},
     "output_type": "execute_result"
    }
   ],
   "source": [
    "scores = rouge_score.compute(\n",
    "    predictions=[generated_summary], references=[reference_summary]\n",
    ")\n",
    "scores"
   ]
  },
  {
   "cell_type": "markdown",
   "id": "c1ba0f41-34a9-4f84-ae0e-a1f06b420407",
   "metadata": {},
   "source": [
    "Whoa, there’s a lot of information in that output — what does it all mean? First, 🤗 Datasets actually computes confidence intervals for precision, recall, and F1-score; these are the low, mid, and high attributes you can see here. Moreover, 🤗 Datasets computes a variety of ROUGE scores which are based on different types of text granularity when comparing the generated and reference summaries. The rouge1 variant is the overlap of unigrams — this is just a fancy way of saying the overlap of words and is exactly the metric we’ve discussed above. To verify this, let’s pull out the mid value of our scores:\n",
    "\n",
    "```python\n",
    "\n",
    "scores[\"rouge1\"].mid\n",
    "```\n",
    "\n",
    "```\n",
    "Score(precision=0.86, recall=1.0, fmeasure=0.92)\n",
    "```\n",
    "\n",
    "Great, the precision and recall numbers match up! Now what about those other ROUGE scores? rouge2 measures the overlap between bigrams (think the overlap of pairs of words), while rougeL and rougeLsum measure the longest matching sequences of words by looking for the longest common substrings in the generated and reference summaries. The “sum” in rougeLsum refers to the fact that this metric is computed over a whole summary, while rougeL is computed as the average over individual sentences.\n",
    "\n",
    "\n",
    "✏️ Try it out! Create your own example of a generated and reference summary and see if the resulting ROUGE scores agree with a manual calculation based on the formulas for precision and recall. For bonus points, split the text into bigrams and compare the precision and recall for the rouge2 metric.\n",
    "\n",
    "We’ll use these ROUGE scores to track the performance of our model, but before doing that let’s do something every good NLP practitioner should do: create a strong, yet simple baseline!\n",
    "\n",
    "###  Creating a strong baseline\n",
    "\n",
    "A common baseline for text summarization is to simply take the first three sentences of an article, often called the lead-3 baseline. We could use full stops to track the sentence boundaries, but this will fail on acronyms like “U.S.” or “U.N.” — so instead we’ll use the nltk library, which includes a better algorithm to handle these cases. You can install the package using pip as follows: `!pip install nltk`\n",
    "\n",
    "and then download the punctuation rules:"
   ]
  },
  {
   "cell_type": "code",
   "execution_count": 22,
   "id": "4bf3324a-952d-49a7-b761-ee76254f3f01",
   "metadata": {},
   "outputs": [
    {
     "name": "stderr",
     "output_type": "stream",
     "text": [
      "[nltk_data] Downloading package punkt to /home/loc/nltk_data...\n",
      "[nltk_data]   Package punkt is already up-to-date!\n"
     ]
    },
    {
     "data": {
      "text/plain": [
       "True"
      ]
     },
     "execution_count": 22,
     "metadata": {},
     "output_type": "execute_result"
    }
   ],
   "source": [
    "import nltk\n",
    "\n",
    "nltk.download(\"punkt\")"
   ]
  },
  {
   "cell_type": "markdown",
   "id": "c2e1611c-4c55-493c-8166-9ecc22ee5b50",
   "metadata": {},
   "source": [
    "Next, we import the sentence tokenizer from `nltk` and create a simple function to extract the first three sentences in a review. The convention in text summarization is to separate each summary with a newline, so let’s also include this and test it on a training example:"
   ]
  },
  {
   "cell_type": "code",
   "execution_count": 23,
   "id": "e07baf3b-ecf5-4d17-b299-69b4ae832571",
   "metadata": {},
   "outputs": [
    {
     "name": "stdout",
     "output_type": "stream",
     "text": [
      "I grew up reading Koontz, and years ago, I stopped,convinced i had \"outgrown\" him.\n",
      "Still,when a friend was looking for something suspenseful too read, I suggested Koontz.\n",
      "She found Strangers.\n"
     ]
    }
   ],
   "source": [
    "from nltk.tokenize import sent_tokenize\n",
    "\n",
    "\n",
    "def three_sentence_summary(text):\n",
    "    return \"\\n\".join(sent_tokenize(text)[:3])\n",
    "\n",
    "\n",
    "print(three_sentence_summary(books_dataset[\"train\"][1][\"review_body\"]))"
   ]
  },
  {
   "cell_type": "markdown",
   "id": "e9b33d67-d87c-4ab1-b935-e51f351ea8ce",
   "metadata": {},
   "source": [
    "\n",
    "\n",
    "This seems to work, so let’s now implement a function that extracts these “summaries” from a dataset and computes the ROUGE scores for the baseline:"
   ]
  },
  {
   "cell_type": "code",
   "execution_count": 24,
   "id": "0807f329-4039-48d1-bf98-5a1b14a112b8",
   "metadata": {},
   "outputs": [],
   "source": [
    "def evaluate_baseline(dataset, metric):\n",
    "    summaries = [three_sentence_summary(text) for text in dataset[\"review_body\"]]\n",
    "    return metric.compute(predictions=summaries, references=dataset[\"review_title\"])"
   ]
  },
  {
   "cell_type": "markdown",
   "id": "82605175-f97d-4437-80e5-de87fbba53b9",
   "metadata": {},
   "source": [
    "We can then use this function to compute the ROUGE scores over the validation set and prettify them a bit using Pandas:"
   ]
  },
  {
   "cell_type": "code",
   "execution_count": 25,
   "id": "72a1355d-cd8d-4973-967d-1d7e180011f0",
   "metadata": {},
   "outputs": [
    {
     "data": {
      "text/plain": [
       "{'rouge1': 0.14791769321146975,\n",
       " 'rouge2': 0.07072292730605598,\n",
       " 'rougeL': 0.13549262793667455,\n",
       " 'rougeLsum': 0.13880224614096986}"
      ]
     },
     "execution_count": 25,
     "metadata": {},
     "output_type": "execute_result"
    }
   ],
   "source": [
    "import pandas as pd\n",
    "\n",
    "score = evaluate_baseline(books_dataset[\"validation\"], rouge_score)\n",
    "score"
   ]
  },
  {
   "cell_type": "markdown",
   "id": "78c7870b-5116-4d27-91f9-8341ffae4771",
   "metadata": {},
   "source": [
    "##  Fine-tuning mT5 with the Trainer API"
   ]
  },
  {
   "cell_type": "markdown",
   "id": "eee15697-36dc-44a5-bc1a-140054729af2",
   "metadata": {},
   "source": [
    "Fine-tuning a model for summarization is very similar to the other tasks we’ve covered in this chapter. The first thing we need to do is load the pretrained model from the `mt5-small` checkpoint. Since summarization is a sequence-to-sequence task, we can load the model with the `AutoModelForSeq2SeqLM` class, which will automatically download and cache the weights:"
   ]
  },
  {
   "cell_type": "code",
   "execution_count": 26,
   "id": "370b92ee-ede8-45eb-a8a7-781ad52d7832",
   "metadata": {},
   "outputs": [],
   "source": [
    "from transformers import AutoModelForSeq2SeqLM\n",
    "\n",
    "model = AutoModelForSeq2SeqLM.from_pretrained(model_checkpoint)"
   ]
  },
  {
   "cell_type": "markdown",
   "id": "0b213bd9-9a9a-4a15-a865-ec0dae48426a",
   "metadata": {},
   "source": [
    "💡 If you’re wondering why you don’t see any warnings about fine-tuning the model on a downstream task, that’s because for sequence-to-sequence tasks we keep all the weights of the network. Compare this to our text classification model in [Chapter 3](https://huggingface.co/course/chapter3), where the head of the pretrained model was replaced with a randomly initialized network."
   ]
  },
  {
   "cell_type": "markdown",
   "id": "03677833-e638-4bfa-9e4a-6ea5ccc77735",
   "metadata": {},
   "source": [
    "The next thing we need to do is log in to the Hugging Face Hub. If you’re running this code in a notebook, you can do so with the following utility function:\n",
    "\n",
    "```python\n",
    "from huggingface_hub import notebook_login\n",
    "\n",
    "notebook_login()\n",
    "```\n",
    "\n",
    "which will display a widget where you can enter your credentials. Alternatively, you can run this command in your terminal and log in there: `huggingface-cli login`\n",
    "\n",
    "We’ll need to generate summaries in order to compute ROUGE scores during training. Fortunately, 🤗 Transformers provides dedicated Seq2SeqTrainingArguments and Seq2SeqTrainer classes that can do this for us automatically! To see how this works, let’s first define the hyperparameters and other arguments for our experiments:"
   ]
  },
  {
   "cell_type": "code",
   "execution_count": 27,
   "id": "7d31d20a-47b6-4471-96c9-844b9c6994cd",
   "metadata": {},
   "outputs": [
    {
     "name": "stdout",
     "output_type": "stream",
     "text": [
      "number of samples= 9672\n",
      "logging_steps= 1209\n"
     ]
    },
    {
     "name": "stderr",
     "output_type": "stream",
     "text": [
      "/home/loc/miniconda3/envs/py38/lib/python3.8/site-packages/transformers/training_args.py:1545: FutureWarning: `evaluation_strategy` is deprecated and will be removed in version 4.46 of 🤗 Transformers. Use `eval_strategy` instead\n",
      "  warnings.warn(\n",
      "huggingface/tokenizers: The current process just got forked, after parallelism has already been used. Disabling parallelism to avoid deadlocks...\n",
      "To disable this warning, you can either:\n",
      "\t- Avoid using `tokenizers` before the fork if possible\n",
      "\t- Explicitly set the environment variable TOKENIZERS_PARALLELISM=(true | false)\n"
     ]
    }
   ],
   "source": [
    "from transformers import Seq2SeqTrainingArguments\n",
    "\n",
    "batch_size = 8\n",
    "num_train_epochs = 8\n",
    "# Show the training loss with every epoch\n",
    "logging_steps = len(tokenized_datasets[\"train\"]) // batch_size\n",
    "\n",
    "print(\"number of samples=\",len(tokenized_datasets[\"train\"]))\n",
    "print(\"logging_steps=\",logging_steps)\n",
    "\n",
    "model_name = model_checkpoint.split(\"/\")[-1]\n",
    "\n",
    "args = Seq2SeqTrainingArguments(\n",
    "    output_dir=f\"{model_name}-finetuned-amazon-en-es\",\n",
    "    evaluation_strategy=\"epoch\",\n",
    "    learning_rate=5.6e-5,\n",
    "    per_device_train_batch_size=batch_size,\n",
    "    per_device_eval_batch_size=batch_size,\n",
    "    weight_decay=0.01,\n",
    "    save_total_limit=3,\n",
    "    num_train_epochs=num_train_epochs,\n",
    "    predict_with_generate=True, # we should generate summaries during evaluation so that we can compute ROUGE scores for each epoch\n",
    "    logging_steps=logging_steps,\n",
    "    push_to_hub=True,\n",
    ")"
   ]
  },
  {
   "cell_type": "markdown",
   "id": "f07424bb-512c-4119-9b9c-b7ee9f616769",
   "metadata": {},
   "source": [
    "The next thing we need to do is provide the trainer with a `compute_metrics()` function so that we can evaluate our model during training. For summarization this is a bit more involved than simply calling `rouge_score.compute()` on the model’s predictions, since we need to decode the outputs and labels into text before we can compute the ROUGE scores. The following function does exactly that, and also makes use of the `sent_tokenize()` function from `nltk` to separate the summary sentences with newlines:"
   ]
  },
  {
   "cell_type": "code",
   "execution_count": 28,
   "id": "5a79bc0d-c0b9-48dd-8690-77333854021f",
   "metadata": {},
   "outputs": [],
   "source": [
    "import numpy as np\n",
    "\n",
    "def compute_metrics(eval_pred):\n",
    "    predictions, labels = eval_pred\n",
    "    # Decode generated summaries into text\n",
    "    decoded_preds = tokenizer.batch_decode(predictions, skip_special_tokens=True)\n",
    "    # Replace -100 in the labels as we can't decode them\n",
    "    labels = np.where(labels != -100, labels, tokenizer.pad_token_id)\n",
    "    # Decode reference summaries into text\n",
    "    decoded_labels = tokenizer.batch_decode(labels, skip_special_tokens=True)\n",
    "    # ROUGE expects a newline after each sentence\n",
    "    decoded_preds = [\"\\n\".join(sent_tokenize(pred.strip())) for pred in decoded_preds]\n",
    "    decoded_labels = [\"\\n\".join(sent_tokenize(label.strip())) for label in decoded_labels]\n",
    "    # Compute ROUGE scores\n",
    "    result = rouge_score.compute(\n",
    "        predictions=decoded_preds, references=decoded_labels, use_stemmer=True\n",
    "    )\n",
    "    # Extract the median scores\n",
    "    # result = {key: value.mid.fmeasure * 100 for key, value in result.items()}\n",
    "    # return {k: round(v, 4) for k, v in result.items()}\n",
    "    return result"
   ]
  },
  {
   "cell_type": "markdown",
   "id": "ebf668ab-41be-4035-ab48-eae465c0ffc4",
   "metadata": {},
   "source": [
    "Next, we need to define a data collator for our sequence-to-sequence task. Since mT5 is an encoder-decoder Transformer model, one subtlety with preparing our batches is that during decoding we need to shift the labels to the right by one. This is required to ensure that the decoder only sees the previous ground truth labels and not the current or future ones, which would be easy for the model to memorize. This is similar to how masked self-attention is applied to the inputs in a task like [causal language modeling](https://huggingface.co/course/chapter7/6).\n",
    "\n",
    "Luckily, 🤗 Transformers provides a `DataCollatorForSeq2Seq` collator that will dynamically pad the inputs and the labels for us. To instantiate this collator, we simply need to provide the `tokenizer` and `model`:"
   ]
  },
  {
   "cell_type": "code",
   "execution_count": 29,
   "id": "4987247f-c0e0-49b1-a14a-bda465443729",
   "metadata": {},
   "outputs": [],
   "source": [
    "from transformers import DataCollatorForSeq2Seq\n",
    "\n",
    "data_collator = DataCollatorForSeq2Seq(tokenizer, model=model)"
   ]
  },
  {
   "cell_type": "markdown",
   "id": "99f918c6-f833-4c23-9fe3-0311143558c4",
   "metadata": {},
   "source": [
    "Let’s see what this collator produces when fed a small batch of examples. First, we need to remove the columns with strings because the collator won’t know how to pad these elements:"
   ]
  },
  {
   "cell_type": "code",
   "execution_count": 30,
   "id": "9d2abb86-69f6-478b-af2f-7c013d2ba7ba",
   "metadata": {},
   "outputs": [],
   "source": [
    "tokenized_datasets = tokenized_datasets.remove_columns(\n",
    "    books_dataset[\"train\"].column_names\n",
    ")"
   ]
  },
  {
   "cell_type": "markdown",
   "id": "04d81ddd-d635-400f-b710-c4ef3d6d5d73",
   "metadata": {},
   "source": [
    "Since the collator expects a list of `dicts`, where each `dict` represents a single example in the dataset, we also need to wrangle the data into the expected format before passing it to the data collator:"
   ]
  },
  {
   "cell_type": "code",
   "execution_count": 31,
   "id": "8bb05af8-d7fc-4ec0-aa7a-b17c54f5f5d9",
   "metadata": {},
   "outputs": [
    {
     "data": {
      "text/plain": [
       "{'input_ids': tensor([[   653,   1957,   1314,    261,   2757,   1280,    435,    259,  29166,\n",
       "            263,    269,    774,   5547,      1,      0,      0,      0,      0,\n",
       "              0,      0,      0,      0,      0,      0,      0,      0,      0,\n",
       "              0,      0,      0,      0,      0,      0,      0,      0,      0,\n",
       "              0,      0,      0,      0,      0,      0,      0,      0,      0,\n",
       "              0,      0,      0,      0,      0,      0,      0,      0,      0,\n",
       "              0,      0,      0,      0,      0,      0,      0,      0,      0,\n",
       "              0,      0,      0,      0,      0,      0,      0,      0,      0,\n",
       "              0,      0,      0,      0,      0,      0,      0,      0,      0,\n",
       "              0,      0,      0,      0,      0,      0,      0,      0,      0,\n",
       "              0,      0,      0,      0,      0,      0,      0,      0,      0,\n",
       "              0,      0,      0,      0,      0,      0,      0,      0,      0,\n",
       "              0,      0,      0,      0,      0,      0,      0,      0,      0,\n",
       "              0,      0,      0,      0,      0,      0,      0,      0,      0,\n",
       "              0,      0,      0,      0,      0,      0,      0,      0,      0,\n",
       "              0,      0,      0,      0,      0,      0,      0,      0,      0,\n",
       "              0,      0,      0,      0,      0,      0,      0,      0,      0,\n",
       "              0,      0,      0,      0,      0,      0,      0,      0,      0,\n",
       "              0,      0,      0,      0,      0,      0,      0,      0,      0,\n",
       "              0,      0,      0,      0,      0,      0,      0,      0,      0,\n",
       "              0,      0,      0,      0,      0,      0,      0,      0],\n",
       "        [   336,   6998,    481,   1150,  11807,   1590,  16339,    360,    261,\n",
       "            305,   3127,   2780,    261,    336,  35042,    345,    261,   3141,\n",
       "         136052,    285,    259,    266,   1425,    313,   2983, 106419,    272,\n",
       "            311,   4065,    260,  36874,    261,   1909,    259,    262,  22163,\n",
       "            639,    259,   7505,    332,   9066,  88398,    265,   5105,   6320,\n",
       "           4906,    261,    336,  21847,    345,   1590,  16339,    360,    260,\n",
       "           4630,   5897,    320, 146261,    260,    486,  21101,   1998,   3684,\n",
       "           2606,   2316,    609,    639,   3014,  11665,    416,    260,    336,\n",
       "            639,   7779,    259,    266,   1425,  57512,   9066,   5401,    260,\n",
       "            336,    259,  91451,    259,    262,  27613,    332,    259,  34779,\n",
       "            260,   1494,    639,    259,    262,   3005,    584,  62351,    288,\n",
       "            461,   6801,  22590,  62799,   3093,    259,    262,  20233,   3622,\n",
       "            304,    259,  11994,    259,  36260,  48971,    533,    418,   2725,\n",
       "            484,  27067,   1059,    260,  18646,    521,    259,   3659,   1063,\n",
       "           1388,    514,   3622,   3004,  26222,    260,    298, 109508,    276,\n",
       "            533,   1425,    288,    390,    259, 131690,    260,    336,    259,\n",
       "          25505,    609,    288,    390,    287,   3435,    336,   4906,   6338,\n",
       "            259,   6924,    259,  29426,    261,   2469,    351,    259, 109933,\n",
       "            260,    563,  15129,    261,    336,    277,    857,  36975,    345,\n",
       "          14355,    305,    259,    265, 111962,    288,  27039,    714,    260,\n",
       "            459,  25640,    259,    262,   5150,   4906,    260,      1]]), 'attention_mask': tensor([[1, 1, 1, 1, 1, 1, 1, 1, 1, 1, 1, 1, 1, 1, 0, 0, 0, 0, 0, 0, 0, 0, 0, 0,\n",
       "         0, 0, 0, 0, 0, 0, 0, 0, 0, 0, 0, 0, 0, 0, 0, 0, 0, 0, 0, 0, 0, 0, 0, 0,\n",
       "         0, 0, 0, 0, 0, 0, 0, 0, 0, 0, 0, 0, 0, 0, 0, 0, 0, 0, 0, 0, 0, 0, 0, 0,\n",
       "         0, 0, 0, 0, 0, 0, 0, 0, 0, 0, 0, 0, 0, 0, 0, 0, 0, 0, 0, 0, 0, 0, 0, 0,\n",
       "         0, 0, 0, 0, 0, 0, 0, 0, 0, 0, 0, 0, 0, 0, 0, 0, 0, 0, 0, 0, 0, 0, 0, 0,\n",
       "         0, 0, 0, 0, 0, 0, 0, 0, 0, 0, 0, 0, 0, 0, 0, 0, 0, 0, 0, 0, 0, 0, 0, 0,\n",
       "         0, 0, 0, 0, 0, 0, 0, 0, 0, 0, 0, 0, 0, 0, 0, 0, 0, 0, 0, 0, 0, 0, 0, 0,\n",
       "         0, 0, 0, 0, 0, 0, 0, 0, 0, 0, 0, 0, 0, 0, 0, 0, 0, 0, 0, 0],\n",
       "        [1, 1, 1, 1, 1, 1, 1, 1, 1, 1, 1, 1, 1, 1, 1, 1, 1, 1, 1, 1, 1, 1, 1, 1,\n",
       "         1, 1, 1, 1, 1, 1, 1, 1, 1, 1, 1, 1, 1, 1, 1, 1, 1, 1, 1, 1, 1, 1, 1, 1,\n",
       "         1, 1, 1, 1, 1, 1, 1, 1, 1, 1, 1, 1, 1, 1, 1, 1, 1, 1, 1, 1, 1, 1, 1, 1,\n",
       "         1, 1, 1, 1, 1, 1, 1, 1, 1, 1, 1, 1, 1, 1, 1, 1, 1, 1, 1, 1, 1, 1, 1, 1,\n",
       "         1, 1, 1, 1, 1, 1, 1, 1, 1, 1, 1, 1, 1, 1, 1, 1, 1, 1, 1, 1, 1, 1, 1, 1,\n",
       "         1, 1, 1, 1, 1, 1, 1, 1, 1, 1, 1, 1, 1, 1, 1, 1, 1, 1, 1, 1, 1, 1, 1, 1,\n",
       "         1, 1, 1, 1, 1, 1, 1, 1, 1, 1, 1, 1, 1, 1, 1, 1, 1, 1, 1, 1, 1, 1, 1, 1,\n",
       "         1, 1, 1, 1, 1, 1, 1, 1, 1, 1, 1, 1, 1, 1, 1, 1, 1, 1, 1, 1]]), 'labels': tensor([[  298,   259,  5994,   269,   774,  5547,     1],\n",
       "        [  298, 10380,   304, 13992,   291,     1,  -100]]), 'decoder_input_ids': tensor([[    0,   298,   259,  5994,   269,   774,  5547],\n",
       "        [    0,   298, 10380,   304, 13992,   291,     1]])}"
      ]
     },
     "execution_count": 31,
     "metadata": {},
     "output_type": "execute_result"
    }
   ],
   "source": [
    "features = [tokenized_datasets[\"train\"][i] for i in range(2)]\n",
    "data_collator(features)"
   ]
  },
  {
   "cell_type": "markdown",
   "id": "e39480c5-e166-4738-b5e5-4382ec6ec64a",
   "metadata": {},
   "source": [
    "The main thing to notice here is that the first example is longer than the second one, so the `input_ids` and `attention_mask` of the second example have been padded on the right with a `[PAD]` token (whose ID is `0`). Similarly, we can see that the `labels` have been padded with `-100`s, to make sure the padding tokens are ignored by the loss function. And finally, we can see a new `decoder_input_ids` which has shifted the labels to the right by inserting a `[PAD]` token in the first entry.\n",
    "\n",
    "We finally have all the ingredients we need to train with! We now simply need to instantiate the trainer with the standard arguments:"
   ]
  },
  {
   "cell_type": "code",
   "execution_count": 32,
   "id": "4b81380b-8d62-4410-b2a4-3cbc0641ef13",
   "metadata": {},
   "outputs": [],
   "source": [
    "from transformers import Seq2SeqTrainer\n",
    "\n",
    "trainer = Seq2SeqTrainer(\n",
    "    model,\n",
    "    args,\n",
    "    train_dataset=tokenized_datasets[\"train\"],\n",
    "    eval_dataset=tokenized_datasets[\"validation\"],\n",
    "    data_collator=data_collator,\n",
    "    tokenizer=tokenizer,\n",
    "    compute_metrics=compute_metrics,\n",
    ")"
   ]
  },
  {
   "cell_type": "markdown",
   "id": "4681cc84-a44b-430f-a6b6-f90eb2f4b45b",
   "metadata": {},
   "source": [
    "During training, you should see the training loss decrease and the ROUGE scores increase with each epoch. Once the training is complete, you can see the final ROUGE scores by running `Trainer.evaluate()`:"
   ]
  },
  {
   "cell_type": "code",
   "execution_count": 33,
   "id": "ba4cd0d7-37c7-43e6-8b21-c86607685dee",
   "metadata": {},
   "outputs": [
    {
     "name": "stderr",
     "output_type": "stream",
     "text": [
      "/home/loc/miniconda3/envs/py38/lib/python3.8/site-packages/transformers/generation/utils.py:1220: UserWarning: Using the model-agnostic default `max_length` (=20) to control the generation length. We recommend setting `max_new_tokens` to control the maximum length of the generation.\n",
      "  warnings.warn(\n"
     ]
    },
    {
     "data": {
      "text/html": [
       "\n",
       "    <div>\n",
       "      \n",
       "      <progress value='62' max='31' style='width:300px; height:20px; vertical-align: middle;'></progress>\n",
       "      [31/31 04:56]\n",
       "    </div>\n",
       "    "
      ],
      "text/plain": [
       "<IPython.core.display.HTML object>"
      ]
     },
     "metadata": {},
     "output_type": "display_data"
    },
    {
     "data": {
      "text/plain": [
       "{'eval_loss': 21.85244369506836,\n",
       " 'eval_model_preparation_time': 0.0017,\n",
       " 'eval_rouge1': 0.0009544740973312402,\n",
       " 'eval_rouge2': 0.0,\n",
       " 'eval_rougeL': 0.0009544740973312402,\n",
       " 'eval_rougeLsum': 0.0009544740973312402,\n",
       " 'eval_runtime': 2.9794,\n",
       " 'eval_samples_per_second': 82.232,\n",
       " 'eval_steps_per_second': 10.405}"
      ]
     },
     "execution_count": 33,
     "metadata": {},
     "output_type": "execute_result"
    }
   ],
   "source": [
    "trainer.evaluate()"
   ]
  },
  {
   "cell_type": "markdown",
   "id": "9d2aa1e8-67f1-4961-9b1d-860d0a060bfd",
   "metadata": {},
   "source": [
    "and launch our training run:"
   ]
  },
  {
   "cell_type": "code",
   "execution_count": 34,
   "id": "f22ecab0-d306-43e9-8b57-2473c23fecfd",
   "metadata": {},
   "outputs": [
    {
     "data": {
      "text/html": [
       "\n",
       "    <div>\n",
       "      \n",
       "      <progress value='9672' max='9672' style='width:300px; height:20px; vertical-align: middle;'></progress>\n",
       "      [9672/9672 33:31, Epoch 8/8]\n",
       "    </div>\n",
       "    <table border=\"1\" class=\"dataframe\">\n",
       "  <thead>\n",
       " <tr style=\"text-align: left;\">\n",
       "      <th>Epoch</th>\n",
       "      <th>Training Loss</th>\n",
       "      <th>Validation Loss</th>\n",
       "      <th>Model Preparation Time</th>\n",
       "      <th>Rouge1</th>\n",
       "      <th>Rouge2</th>\n",
       "      <th>Rougel</th>\n",
       "      <th>Rougelsum</th>\n",
       "    </tr>\n",
       "  </thead>\n",
       "  <tbody>\n",
       "    <tr>\n",
       "      <td>1</td>\n",
       "      <td>6.668700</td>\n",
       "      <td>3.326033</td>\n",
       "      <td>0.001700</td>\n",
       "      <td>0.131507</td>\n",
       "      <td>0.042952</td>\n",
       "      <td>0.125352</td>\n",
       "      <td>0.126792</td>\n",
       "    </tr>\n",
       "    <tr>\n",
       "      <td>2</td>\n",
       "      <td>3.894100</td>\n",
       "      <td>3.172322</td>\n",
       "      <td>0.001700</td>\n",
       "      <td>0.147006</td>\n",
       "      <td>0.055193</td>\n",
       "      <td>0.140776</td>\n",
       "      <td>0.140796</td>\n",
       "    </tr>\n",
       "    <tr>\n",
       "      <td>3</td>\n",
       "      <td>3.596200</td>\n",
       "      <td>3.144613</td>\n",
       "      <td>0.001700</td>\n",
       "      <td>0.159991</td>\n",
       "      <td>0.068402</td>\n",
       "      <td>0.151908</td>\n",
       "      <td>0.153612</td>\n",
       "    </tr>\n",
       "    <tr>\n",
       "      <td>4</td>\n",
       "      <td>3.416500</td>\n",
       "      <td>3.109553</td>\n",
       "      <td>0.001700</td>\n",
       "      <td>0.167544</td>\n",
       "      <td>0.073172</td>\n",
       "      <td>0.159122</td>\n",
       "      <td>0.160093</td>\n",
       "    </tr>\n",
       "    <tr>\n",
       "      <td>5</td>\n",
       "      <td>3.313100</td>\n",
       "      <td>3.087152</td>\n",
       "      <td>0.001700</td>\n",
       "      <td>0.154362</td>\n",
       "      <td>0.066831</td>\n",
       "      <td>0.148077</td>\n",
       "      <td>0.148900</td>\n",
       "    </tr>\n",
       "    <tr>\n",
       "      <td>6</td>\n",
       "      <td>3.255400</td>\n",
       "      <td>3.082428</td>\n",
       "      <td>0.001700</td>\n",
       "      <td>0.158913</td>\n",
       "      <td>0.066155</td>\n",
       "      <td>0.151874</td>\n",
       "      <td>0.152674</td>\n",
       "    </tr>\n",
       "    <tr>\n",
       "      <td>7</td>\n",
       "      <td>3.200600</td>\n",
       "      <td>3.075292</td>\n",
       "      <td>0.001700</td>\n",
       "      <td>0.160016</td>\n",
       "      <td>0.069352</td>\n",
       "      <td>0.153378</td>\n",
       "      <td>0.153668</td>\n",
       "    </tr>\n",
       "    <tr>\n",
       "      <td>8</td>\n",
       "      <td>3.183400</td>\n",
       "      <td>3.076189</td>\n",
       "      <td>0.001700</td>\n",
       "      <td>0.158913</td>\n",
       "      <td>0.070015</td>\n",
       "      <td>0.151508</td>\n",
       "      <td>0.152167</td>\n",
       "    </tr>\n",
       "  </tbody>\n",
       "</table><p>"
      ],
      "text/plain": [
       "<IPython.core.display.HTML object>"
      ]
     },
     "metadata": {},
     "output_type": "display_data"
    },
    {
     "name": "stderr",
     "output_type": "stream",
     "text": [
      "/home/loc/miniconda3/envs/py38/lib/python3.8/site-packages/transformers/generation/utils.py:1220: UserWarning: Using the model-agnostic default `max_length` (=20) to control the generation length. We recommend setting `max_new_tokens` to control the maximum length of the generation.\n",
      "  warnings.warn(\n",
      "/home/loc/miniconda3/envs/py38/lib/python3.8/site-packages/transformers/generation/utils.py:1220: UserWarning: Using the model-agnostic default `max_length` (=20) to control the generation length. We recommend setting `max_new_tokens` to control the maximum length of the generation.\n",
      "  warnings.warn(\n",
      "/home/loc/miniconda3/envs/py38/lib/python3.8/site-packages/transformers/generation/utils.py:1220: UserWarning: Using the model-agnostic default `max_length` (=20) to control the generation length. We recommend setting `max_new_tokens` to control the maximum length of the generation.\n",
      "  warnings.warn(\n",
      "/home/loc/miniconda3/envs/py38/lib/python3.8/site-packages/transformers/generation/utils.py:1220: UserWarning: Using the model-agnostic default `max_length` (=20) to control the generation length. We recommend setting `max_new_tokens` to control the maximum length of the generation.\n",
      "  warnings.warn(\n",
      "/home/loc/miniconda3/envs/py38/lib/python3.8/site-packages/transformers/generation/utils.py:1220: UserWarning: Using the model-agnostic default `max_length` (=20) to control the generation length. We recommend setting `max_new_tokens` to control the maximum length of the generation.\n",
      "  warnings.warn(\n",
      "/home/loc/miniconda3/envs/py38/lib/python3.8/site-packages/transformers/generation/utils.py:1220: UserWarning: Using the model-agnostic default `max_length` (=20) to control the generation length. We recommend setting `max_new_tokens` to control the maximum length of the generation.\n",
      "  warnings.warn(\n",
      "/home/loc/miniconda3/envs/py38/lib/python3.8/site-packages/transformers/generation/utils.py:1220: UserWarning: Using the model-agnostic default `max_length` (=20) to control the generation length. We recommend setting `max_new_tokens` to control the maximum length of the generation.\n",
      "  warnings.warn(\n",
      "/home/loc/miniconda3/envs/py38/lib/python3.8/site-packages/transformers/generation/utils.py:1220: UserWarning: Using the model-agnostic default `max_length` (=20) to control the generation length. We recommend setting `max_new_tokens` to control the maximum length of the generation.\n",
      "  warnings.warn(\n"
     ]
    },
    {
     "data": {
      "text/plain": [
       "TrainOutput(global_step=9672, training_loss=3.816016412550403, metrics={'train_runtime': 2012.2887, 'train_samples_per_second': 38.452, 'train_steps_per_second': 4.806, 'total_flos': 1.187112454422528e+16, 'train_loss': 3.816016412550403, 'epoch': 8.0})"
      ]
     },
     "execution_count": 34,
     "metadata": {},
     "output_type": "execute_result"
    }
   ],
   "source": [
    "trainer.train()"
   ]
  },
  {
   "cell_type": "markdown",
   "id": "c349604d-5315-4738-83a6-47b32c2ff153",
   "metadata": {},
   "source": [
    "Evaluate after training"
   ]
  },
  {
   "cell_type": "code",
   "execution_count": 35,
   "id": "9fa6c5b5-d96e-4b54-a07a-5b97c07c5f1f",
   "metadata": {},
   "outputs": [
    {
     "data": {
      "text/html": [
       "\n",
       "    <div>\n",
       "      \n",
       "      <progress value='31' max='31' style='width:300px; height:20px; vertical-align: middle;'></progress>\n",
       "      [31/31 00:04]\n",
       "    </div>\n",
       "    "
      ],
      "text/plain": [
       "<IPython.core.display.HTML object>"
      ]
     },
     "metadata": {},
     "output_type": "display_data"
    },
    {
     "data": {
      "text/plain": [
       "{'eval_loss': 3.0761890411376953,\n",
       " 'eval_model_preparation_time': 0.0017,\n",
       " 'eval_rouge1': 0.15891257628475844,\n",
       " 'eval_rouge2': 0.07001497633735057,\n",
       " 'eval_rougeL': 0.15150777019556166,\n",
       " 'eval_rougeLsum': 0.15216748186300075,\n",
       " 'eval_runtime': 5.1171,\n",
       " 'eval_samples_per_second': 47.879,\n",
       " 'eval_steps_per_second': 6.058,\n",
       " 'epoch': 8.0}"
      ]
     },
     "execution_count": 35,
     "metadata": {},
     "output_type": "execute_result"
    }
   ],
   "source": [
    "trainer.evaluate()"
   ]
  },
  {
   "cell_type": "markdown",
   "id": "0dfc7bda-85b2-4924-8db0-005447ce2537",
   "metadata": {},
   "source": [
    "From the scores we can see that our model has handily outperformed our lead-3 baseline — nice! The final thing to do is push the model weights to the Hub, as follow\n",
    "```\n",
    "trainer.push_to_hub(commit_message=\"Training complete\", tags=\"summarization\")\n",
    "```\n",
    "\n",
    "This will save the checkpoint and configuration files to output_dir, before uploading all the files to the Hub. By specifying the tags argument, we also ensure that the widget on the Hub will be one for a summarization pipeline instead of the default text generation one associated with the mT5 architecture (for more information about model tags, see the 🤗 Hub documentation). The output from trainer.push_to_hub() is a URL to the Git commit hash, so you can easily see the changes that were made to the model repository!\n",
    "\n",
    "To wrap up this section, let’s take a look at how we can also fine-tune mT5 using the low-level features provided by 🤗 Accelerate."
   ]
  },
  {
   "cell_type": "markdown",
   "id": "4349756b-1bf3-4130-a9a3-27d663cd8588",
   "metadata": {},
   "source": [
    "##  Using your fine-tuned model"
   ]
  },
  {
   "cell_type": "markdown",
   "id": "e16095e5-27c5-4b90-9f90-295f35e12c6b",
   "metadata": {},
   "source": [
    "Once you’ve pushed the model to the Hub, you can play with it either via the inference widget or with a pipeline object, as follows:"
   ]
  },
  {
   "cell_type": "code",
   "execution_count": 36,
   "id": "a2983c74-d064-491f-b8e1-42a4598ba482",
   "metadata": {},
   "outputs": [
    {
     "name": "stderr",
     "output_type": "stream",
     "text": [
      "You set `add_prefix_space`. The tokenizer needs to be converted from the slow tokenizers\n",
      "/home/loc/miniconda3/envs/py38/lib/python3.8/site-packages/transformers/convert_slow_tokenizer.py:558: UserWarning: The sentencepiece tokenizer that you are converting to a fast tokenizer uses the byte fallback option which is not implemented in the fast tokenizers. In practice this means that the fast version of the tokenizer can produce unknown tokens whereas the sentencepiece version would have converted these unknown tokens into a sequence of byte tokens matching the original piece of text.\n",
      "  warnings.warn(\n",
      "Hardware accelerator e.g. GPU is available in the environment, but no `device` argument is passed to the `Pipeline` object. Model will be on CPU.\n"
     ]
    }
   ],
   "source": [
    "from transformers import pipeline\n",
    "\n",
    "hub_model_id = \"mt5-small-finetuned-amazon-en-es\"\n",
    "summarizer = pipeline(\"summarization\", model=hub_model_id)"
   ]
  },
  {
   "cell_type": "markdown",
   "id": "ad0b0685-ed65-4d8b-ac0b-29bd483fff43",
   "metadata": {},
   "source": [
    "We can feed some examples from the test set (which the model has not seen) to our pipeline to get a feel for the quality of the summaries. First let’s implement a simple function to show the review, title, and generated summary together:"
   ]
  },
  {
   "cell_type": "code",
   "execution_count": 37,
   "id": "677ae648-f0fb-481b-8b6e-f827b438b5fe",
   "metadata": {},
   "outputs": [],
   "source": [
    "def print_summary(idx):\n",
    "    review = books_dataset[\"test\"][idx][\"review_body\"]\n",
    "    title = books_dataset[\"test\"][idx][\"review_title\"]\n",
    "    summary = summarizer(books_dataset[\"test\"][idx][\"review_body\"])[0][\"summary_text\"]\n",
    "    print(f\"'>>> Review: {review}'\")\n",
    "    print(f\"\\n'>>> Title: {title}'\")\n",
    "    print(f\"\\n'>>> Summary: {summary}'\")"
   ]
  },
  {
   "cell_type": "markdown",
   "id": "f430ff2a-81bb-4d97-81b0-35dbc3961dc2",
   "metadata": {},
   "source": [
    "Let’s take a look at one of the English examples we get:"
   ]
  },
  {
   "cell_type": "code",
   "execution_count": 38,
   "id": "482c2d38-e641-48b5-ad2b-98d785ac4866",
   "metadata": {},
   "outputs": [
    {
     "name": "stderr",
     "output_type": "stream",
     "text": [
      "Your max_length is set to 20, but your input_length is only 9. Since this is a summarization task, where outputs shorter than the input are typically wanted, you might consider decreasing max_length manually, e.g. summarizer('...', max_length=4)\n"
     ]
    },
    {
     "name": "stdout",
     "output_type": "stream",
     "text": [
      "'>>> Review: Muy apropiado para mis hijas'\n",
      "\n",
      "'>>> Title: Libros para el verano'\n",
      "\n",
      "'>>> Summary: Muy buen libro'\n"
     ]
    }
   ],
   "source": [
    "print_summary(100)"
   ]
  },
  {
   "cell_type": "code",
   "execution_count": 39,
   "id": "54081580-4b72-4657-8f34-4ff0180b6f80",
   "metadata": {},
   "outputs": [
    {
     "name": "stdout",
     "output_type": "stream",
     "text": [
      "'>>> Review: El envío muy rápido, el mismo día del lanzamiento del libro. La lástima es que me lo han mandado algo deteriorado, en la parte superior hay una zona que está como rasgada. Era para un regalo.'\n",
      "\n",
      "'>>> Title: La rápida entrega'\n",
      "\n",
      "'>>> Summary: El envío muy rápido'\n"
     ]
    }
   ],
   "source": [
    "print_summary(19)"
   ]
  },
  {
   "cell_type": "markdown",
   "id": "dc577bf8-b463-4c28-9bf6-ec31ec4d0a5e",
   "metadata": {},
   "source": [
    "This is not too bad! We can see that our model has actually been able to perform abstractive summarization by augmenting parts of the review with new words. And perhaps the coolest aspect of our model is that it is bilingual, so we can also generate summaries of Spanish reviews:"
   ]
  },
  {
   "cell_type": "code",
   "execution_count": 40,
   "id": "6d8877ef-4008-4b89-ae26-22e97d8e1c7c",
   "metadata": {},
   "outputs": [
    {
     "name": "stdout",
     "output_type": "stream",
     "text": [
      "'>>> Review: Es una trilogia que se hace muy facil de leer. Me ha gustado, no me esperaba el final para nada'\n",
      "\n",
      "'>>> Title: Buena literatura para adolescentes'\n",
      "\n",
      "'>>> Summary: No me esperaba el final'\n"
     ]
    }
   ],
   "source": [
    "print_summary(0)"
   ]
  },
  {
   "cell_type": "code",
   "execution_count": 41,
   "id": "185d1bec-0ac8-4093-b9b8-1deafe2fe7f1",
   "metadata": {},
   "outputs": [
    {
     "name": "stdout",
     "output_type": "stream",
     "text": [
      "'>>> Review: product arrived bent on all corners. the bubble mailer alone will not ship it in perfect condition. :('\n",
      "\n",
      "'>>> Title: the bubble mailer alone will not ship it in perfect condition.'\n",
      "\n",
      "'>>> Summary: Packaging arrived bent on all corners'\n"
     ]
    }
   ],
   "source": [
    "print_summary(1)"
   ]
  },
  {
   "cell_type": "code",
   "execution_count": 42,
   "id": "16269cef-8607-4718-b0ed-cc5206934f3b",
   "metadata": {},
   "outputs": [
    {
     "name": "stdout",
     "output_type": "stream",
     "text": [
      "'>>> Review: Cook delicious, healthy and easy to prepare straight from my kitchen. This book all foods very good take this book you can weight loss easily.You can improve self-confidence day by day.'\n",
      "\n",
      "'>>> Title: I recommend this book.'\n",
      "\n",
      "'>>> Summary: Delicious, healthy and easy to prepare straight from my kitchen'\n"
     ]
    }
   ],
   "source": [
    "print_summary(2)"
   ]
  },
  {
   "cell_type": "markdown",
   "id": "f3d75143-3e86-4a7e-81e0-f8039bf33231",
   "metadata": {},
   "source": [
    "The summary translates into “Very easy to read” in English, which we can see in this case was extracted directly from the review. Nevertheless, this shows the versatility of the mT5 model and has given you a taste of what it’s like to deal with a multilingual corpus!\n",
    "\n",
    "Next, we’ll turn our attention to a slightly more complex task: training a language model from scratch."
   ]
  },
  {
   "cell_type": "markdown",
   "id": "9171e1a7-f209-4dc5-be55-8cbb72155849",
   "metadata": {},
   "source": [
    "##  Fine-tuning mT5 with 🤗 Accelerate"
   ]
  },
  {
   "cell_type": "markdown",
   "id": "39899b41-9de0-4cde-98cb-b780442fa621",
   "metadata": {},
   "source": [
    "Fine-tuning our model with 🤗 Accelerate is very similar to the text classification example we encountered in Chapter 3. The main differences will be the need to explicitly generate our summaries during training and define how we compute the ROUGE scores (recall that the Seq2SeqTrainer took care of the generation for us). Let’s take a look how we can implement these two requirements within 🤗 Accelerate!"
   ]
  },
  {
   "cell_type": "markdown",
   "id": "6082b64b-3484-4979-ad61-c2a2b1ae619c",
   "metadata": {},
   "source": [
    "###  Preparing everything for training\n",
    "\n",
    "The first thing we need to do is create a `DataLoader` for each of our splits. Since the PyTorch dataloaders expect batches of tensors, we need to set the format to `\"torch\"` in our datasets:"
   ]
  },
  {
   "cell_type": "code",
   "execution_count": 43,
   "id": "03bc5687-2a08-4d2e-beef-e475f28fbcc5",
   "metadata": {},
   "outputs": [],
   "source": [
    "tokenized_datasets.set_format(\"torch\")"
   ]
  },
  {
   "cell_type": "markdown",
   "id": "0b5b6cd6-797c-4915-961d-726cb482b788",
   "metadata": {},
   "source": [
    "Now that we’ve got datasets consisting of just tensors, the next thing to do is instantiate the `DataCollatorForSeq2Seq` again. For this we need to provide a fresh version of the model, so let’s load it again from our cache:"
   ]
  },
  {
   "cell_type": "code",
   "execution_count": 44,
   "id": "2565823b-9e91-46d8-ba44-0c0e28449eb7",
   "metadata": {},
   "outputs": [],
   "source": [
    "model = AutoModelForSeq2SeqLM.from_pretrained(model_checkpoint)"
   ]
  },
  {
   "cell_type": "markdown",
   "id": "fcda177b-f976-4b3e-ad6f-95dcbae2dfa8",
   "metadata": {},
   "source": [
    "We can then instantiate the data collator and use this to define our dataloaders:"
   ]
  },
  {
   "cell_type": "code",
   "execution_count": 45,
   "id": "08ebf396-db28-4978-8d20-296b4e3ddd14",
   "metadata": {},
   "outputs": [],
   "source": [
    "from torch.utils.data import DataLoader\n",
    "\n",
    "batch_size = 8\n",
    "train_dataloader = DataLoader(\n",
    "    tokenized_datasets[\"train\"],\n",
    "    shuffle=True,\n",
    "    collate_fn=data_collator,\n",
    "    batch_size=batch_size,\n",
    ")\n",
    "eval_dataloader = DataLoader(\n",
    "    tokenized_datasets[\"validation\"], collate_fn=data_collator, batch_size=batch_size\n",
    ")"
   ]
  },
  {
   "cell_type": "markdown",
   "id": "19ac093b-6b5e-4d3d-9322-5960fbc7de5c",
   "metadata": {},
   "source": [
    "The next thing to do is define the optimizer we want to use. As in our other examples, we’ll use `AdamW`, which works well for most problems:"
   ]
  },
  {
   "cell_type": "code",
   "execution_count": 46,
   "id": "22ec5471-d2b5-4142-b5e5-08f4497dc89d",
   "metadata": {},
   "outputs": [],
   "source": [
    "from torch.optim import AdamW\n",
    "\n",
    "optimizer = AdamW(model.parameters(), lr=2e-5)"
   ]
  },
  {
   "cell_type": "markdown",
   "id": "0dd70bf0-61c3-4882-ae84-c25bf8cbf9b6",
   "metadata": {},
   "source": [
    "Finally, we feed our model, optimizer, and dataloaders to the `accelerator.prepare()` method:"
   ]
  },
  {
   "cell_type": "code",
   "execution_count": 47,
   "id": "fee190fc-e6bd-4de7-b29f-48d1995f9921",
   "metadata": {},
   "outputs": [],
   "source": [
    "from accelerate import Accelerator\n",
    "\n",
    "accelerator = Accelerator()\n",
    "model, optimizer, train_dataloader, eval_dataloader = accelerator.prepare(\n",
    "    model, optimizer, train_dataloader, eval_dataloader\n",
    ")"
   ]
  },
  {
   "cell_type": "markdown",
   "id": "4dc51bef-835a-4577-8d40-fbb8a4cba5d1",
   "metadata": {},
   "source": [
    "🚨 If you’re training on a TPU, you’ll need to move all the code above into a dedicated training function. See Chapter 3 for more details.\n",
    "\n",
    "Now that we’ve prepared our objects, there are three remaining things to do:\n",
    "\n",
    "- Define the learning rate schedule.\n",
    "\n",
    "- Implement a function to post-process the summaries for evaluation.\n",
    "\n",
    "- Create a repository on the Hub that we can push our model to.\n",
    "\n",
    "For the learning rate schedule, we’ll use the standard linear one from previous sections:"
   ]
  },
  {
   "cell_type": "code",
   "execution_count": 48,
   "id": "f452ea63-cd70-490b-8bc0-f299fedfa787",
   "metadata": {},
   "outputs": [],
   "source": [
    "from transformers import get_scheduler\n",
    "\n",
    "num_train_epochs = 10\n",
    "num_update_steps_per_epoch = len(train_dataloader)\n",
    "num_training_steps = num_train_epochs * num_update_steps_per_epoch\n",
    "\n",
    "lr_scheduler = get_scheduler(\n",
    "    \"linear\",\n",
    "    optimizer=optimizer,\n",
    "    num_warmup_steps=0,\n",
    "    num_training_steps=num_training_steps,\n",
    ")"
   ]
  },
  {
   "cell_type": "markdown",
   "id": "5fdf2013-c296-4ed6-ba56-ce4dcf1d58a3",
   "metadata": {},
   "source": [
    "For post-processing, we need a function that splits the generated summaries into sentences that are separated by newlines. This is the format the ROUGE metric expects, and we can achieve this with the following snippet of code:"
   ]
  },
  {
   "cell_type": "code",
   "execution_count": 49,
   "id": "39920530-277b-4086-b7b8-e293f430457a",
   "metadata": {},
   "outputs": [],
   "source": [
    "def postprocess_text(preds, labels):\n",
    "    preds = [pred.strip() for pred in preds]\n",
    "    labels = [label.strip() for label in labels]\n",
    "\n",
    "    # ROUGE expects a newline after each sentence\n",
    "    preds = [\"\\n\".join(nltk.sent_tokenize(pred)) for pred in preds]\n",
    "    labels = [\"\\n\".join(nltk.sent_tokenize(label)) for label in labels]\n",
    "\n",
    "    return preds, labels"
   ]
  },
  {
   "cell_type": "markdown",
   "id": "2d02bee9-f6fd-4302-ba4b-68c70f410af1",
   "metadata": {},
   "source": [
    "This should look familiar to you if you recall how we defined the compute_metrics() function of the `Seq2SeqTrainer`."
   ]
  },
  {
   "cell_type": "markdown",
   "id": "a6f0e749-a2cd-40ca-8a28-652a2a1adba8",
   "metadata": {},
   "source": [
    "Finally, we need to create a model repository on the Hugging Face Hub. For this, we can use the appropriately titled 🤗 Hub library. We just need to define a name for our repository, and the library has a utility function to combine the repository ID with the user profile:\n",
    "\n",
    "```python\n",
    "from huggingface_hub import get_full_repo_name\n",
    "\n",
    "model_name = \"test-bert-finetuned-squad-accelerate\"\n",
    "repo_name = get_full_repo_name(model_name)\n",
    "repo_name\n",
    "```\n",
    "\n",
    "Now we can use this repository name to clone a local version to our results directory that will store the training artifacts:\n",
    "\n",
    "```python\n",
    "from huggingface_hub import Repository\n",
    "\n",
    "output_dir = \"results-mt5-finetuned-squad-accelerate\"\n",
    "repo = Repository(output_dir, clone_from=repo_name)\n",
    "```\n",
    "This will allow us to push the artifacts back to the Hub by calling the repo.push_to_hub() method during training! Let’s now wrap up our analysis by writing out the training loop."
   ]
  },
  {
   "cell_type": "markdown",
   "id": "87554b7a-4c55-46a6-898f-78d06e90e063",
   "metadata": {},
   "source": [
    "###  Training loop\n",
    "\n",
    "The training loop for summarization is quite similar to the other 🤗 Accelerate examples that we’ve encountered and is roughly split into four main steps:\n",
    "\n",
    "- Train the model by iterating over all the examples in `train_dataloader` for each epoch.\n",
    "    \n",
    "- Generate model summaries at the end of each epoch, by first generating the tokens and then decoding them (and the reference summaries) into text.\n",
    "    \n",
    "- Compute the ROUGE scores using the same techniques we saw earlier.\n",
    "    \n",
    "- Save the checkpoints and push everything to the Hub. Here we rely on the nifty `blocking=False` argument of the `Repository` object so that we can push the checkpoints per epoch asynchronously. This allows us to continue training without having to wait for the somewhat slow upload associated with a GB-sized model!\n",
    "\n",
    "These steps can be seen in the following block of code:"
   ]
  },
  {
   "cell_type": "code",
   "execution_count": 51,
   "id": "8581ff90-bad4-416e-b37a-0828b821430c",
   "metadata": {},
   "outputs": [
    {
     "data": {
      "application/vnd.jupyter.widget-view+json": {
       "model_id": "9503bbbdb04f46d2a3e62d747fd8b40d",
       "version_major": 2,
       "version_minor": 0
      },
      "text/plain": [
       "  0%|          | 0/12090 [00:00<?, ?it/s]"
      ]
     },
     "metadata": {},
     "output_type": "display_data"
    },
    {
     "name": "stdout",
     "output_type": "stream",
     "text": [
      "Epoch 0: {'rouge1': 0.016886733381331225, 'rouge2': 0.00326530612244898, 'rougeL': 0.01591944436782372, 'rougeLsum': 0.01654541936654782}\n",
      "Epoch 1: {'rouge1': 0.016886733381331225, 'rouge2': 0.00326530612244898, 'rougeL': 0.01591944436782372, 'rougeLsum': 0.01654541936654782}\n",
      "Epoch 2: {'rouge1': 0.016886733381331225, 'rouge2': 0.00326530612244898, 'rougeL': 0.01591944436782372, 'rougeLsum': 0.01654541936654782}\n",
      "Epoch 3: {'rouge1': 0.016886733381331225, 'rouge2': 0.00326530612244898, 'rougeL': 0.01591944436782372, 'rougeLsum': 0.01654541936654782}\n",
      "Epoch 4: {'rouge1': 0.016886733381331225, 'rouge2': 0.00326530612244898, 'rougeL': 0.01591944436782372, 'rougeLsum': 0.01654541936654782}\n",
      "Epoch 5: {'rouge1': 0.016886733381331225, 'rouge2': 0.00326530612244898, 'rougeL': 0.01591944436782372, 'rougeLsum': 0.01654541936654782}\n",
      "Epoch 6: {'rouge1': 0.016886733381331225, 'rouge2': 0.00326530612244898, 'rougeL': 0.01591944436782372, 'rougeLsum': 0.01654541936654782}\n",
      "Epoch 7: {'rouge1': 0.016886733381331225, 'rouge2': 0.00326530612244898, 'rougeL': 0.01591944436782372, 'rougeLsum': 0.01654541936654782}\n",
      "Epoch 8: {'rouge1': 0.016886733381331225, 'rouge2': 0.00326530612244898, 'rougeL': 0.01591944436782372, 'rougeLsum': 0.01654541936654782}\n",
      "Epoch 9: {'rouge1': 0.016886733381331225, 'rouge2': 0.00326530612244898, 'rougeL': 0.01591944436782372, 'rougeLsum': 0.01654541936654782}\n"
     ]
    }
   ],
   "source": [
    "from tqdm.auto import tqdm  # Progress bar library for better visualization\n",
    "import torch  # PyTorch library for deep learning\n",
    "import numpy as np  # Library for numerical operations\n",
    "\n",
    "# Initialize the progress bar to track the total number of training steps\n",
    "progress_bar = tqdm(range(num_training_steps))\n",
    "\n",
    "for epoch in range(num_train_epochs):  # Loop through each training epoch\n",
    "    # Training phase\n",
    "    model.train()  # Set the model to training mode\n",
    "    for step, batch in enumerate(train_dataloader):  # Iterate over the training data\n",
    "        outputs = model(**batch)  # Forward pass through the model with the batch data\n",
    "        loss = outputs.loss  # Retrieve the loss value\n",
    "        accelerator.backward(loss)  # Compute gradients for backpropagation\n",
    "\n",
    "        optimizer.step()  # Update model parameters using the optimizer\n",
    "        lr_scheduler.step()  # Update the learning rate based on the scheduler\n",
    "        optimizer.zero_grad()  # Reset gradients for the next iteration\n",
    "        progress_bar.update(1)  # Update the progress bar\n",
    "\n",
    "    # Evaluation phase\n",
    "    model.eval()  # Set the model to evaluation mode\n",
    "    for step, batch in enumerate(eval_dataloader):  # Iterate over the evaluation data\n",
    "        with torch.no_grad():  # Disable gradient calculation for evaluation\n",
    "            # Generate tokens using the model\n",
    "            generated_tokens = accelerator.unwrap_model(model).generate(\n",
    "                batch[\"input_ids\"],\n",
    "                attention_mask=batch[\"attention_mask\"],\n",
    "            )\n",
    "\n",
    "            # Pad the generated tokens across processes to ensure consistency\n",
    "            generated_tokens = accelerator.pad_across_processes(\n",
    "                generated_tokens, dim=1, pad_index=tokenizer.pad_token_id\n",
    "            )\n",
    "            labels = batch[\"labels\"]\n",
    "\n",
    "            # Pad labels to ensure they match the same dimensions as generated tokens\n",
    "            labels = accelerator.pad_across_processes(\n",
    "                batch[\"labels\"], dim=1, pad_index=tokenizer.pad_token_id\n",
    "            )\n",
    "\n",
    "            # Gather tokens and labels across all processes and convert to NumPy arrays\n",
    "            generated_tokens = accelerator.gather(generated_tokens).cpu().numpy()\n",
    "            labels = accelerator.gather(labels).cpu().numpy()\n",
    "\n",
    "            # Replace label values of -100 (used for ignored tokens) with the pad token ID\n",
    "            labels = np.where(labels != -100, labels, tokenizer.pad_token_id)\n",
    "            if isinstance(generated_tokens, tuple):  # Handle tuple format if necessary\n",
    "                generated_tokens = generated_tokens[0]\n",
    "\n",
    "            # Decode predictions and labels into text for evaluation\n",
    "            decoded_preds = tokenizer.batch_decode(\n",
    "                generated_tokens, skip_special_tokens=True\n",
    "            )\n",
    "            decoded_labels = tokenizer.batch_decode(labels, skip_special_tokens=True)\n",
    "\n",
    "            # Post-process predictions and labels to prepare for metric computation\n",
    "            decoded_preds, decoded_labels = postprocess_text(\n",
    "                decoded_preds, decoded_labels\n",
    "            )\n",
    "\n",
    "            # Add predictions and references to compute ROUGE scores later\n",
    "            rouge_score.add_batch(predictions=decoded_preds, references=decoded_labels)\n",
    "\n",
    "    # Compute ROUGE metrics for the current epoch\n",
    "    # result = rouge_score.compute()\n",
    "    # Extract the median ROUGE scores and scale them by 100 for readability\n",
    "    #result = {key: value.mid.fmeasure * 100 for key, value in result.items()}\n",
    "    # Round the scores to 4 decimal places for presentation\n",
    "    #result = {k: round(v, 4) for k, v in result.items()}\n",
    "    print(f\"Epoch {epoch}:\", result)  # Print the evaluation results for the epoch\n",
    "\n",
    "    # Save the model and tokenizer at the end of the epoch\n",
    "    # accelerator.wait_for_everyone()  # Ensure all processes are synchronized\n",
    "    # unwrapped_model = accelerator.unwrap_model(model)  # Get the base model\n",
    "    # unwrapped_model.save_pretrained(output_dir, save_function=accelerator.save)  # Save the model\n",
    "    # if accelerator.is_main_process:  # Ensure only the main process handles saving tokenizer and repo updates\n",
    "    #     tokenizer.save_pretrained(output_dir)  # Save the tokenizer\n",
    "    #     repo.push_to_hub(\n",
    "    #         commit_message=f\"Training in progress epoch {epoch}\", blocking=False\n",
    "    #     )  # Push the checkpoint to the hub\n"
   ]
  },
  {
   "cell_type": "markdown",
   "id": "a82b98fb-ccee-4e44-9b76-e89261987dcd",
   "metadata": {},
   "source": [
    "And that’s it! Once you run this, you’ll have a model and results that are pretty similar to the ones we obtained with the Trainer."
   ]
  }
 ],
 "metadata": {
  "kernelspec": {
   "display_name": "Python 3 (ipykernel)",
   "language": "python",
   "name": "python3"
  },
  "language_info": {
   "codemirror_mode": {
    "name": "ipython",
    "version": 3
   },
   "file_extension": ".py",
   "mimetype": "text/x-python",
   "name": "python",
   "nbconvert_exporter": "python",
   "pygments_lexer": "ipython3",
   "version": "3.8.20"
  }
 },
 "nbformat": 4,
 "nbformat_minor": 5
}
