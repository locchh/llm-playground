{
 "cells": [
  {
   "cell_type": "markdown",
   "id": "8597cf40-debb-41d1-8bb9-65930fb6d809",
   "metadata": {},
   "source": [
    "## Evaluation\n",
    "\n",
    "With a finetuned model through either SFT or LoRA SFT, we should evaluate it on standard benchmarks. As machine learning engineers you should maintain a suite of relevant evaluations for your targeted domain of interest. In this page, we will look at some of the most common benchmarks and how to use them to evaluate your model. We’ll also look at how to create custom benchmarks for your specific use case."
   ]
  },
  {
   "cell_type": "markdown",
   "id": "77c2ecde-2f9f-4717-8149-aa1204dadf71",
   "metadata": {},
   "source": [
    "###  Automatic Benchmarks\n",
    "\n",
    "Automatic benchmarks serve as standardized tools for evaluating language models across different tasks and capabilities. While they provide a useful starting point for understanding model performance, it’s important to recognize that they represent only one piece of a comprehensive evaluation strategy."
   ]
  },
  {
   "cell_type": "markdown",
   "id": "5e5d4d66-58aa-443a-8920-2b29b5a9eca5",
   "metadata": {},
   "source": [
    "###  Understanding Automatic Benchmarks\n",
    "\n",
    "Automatic benchmarks typically consist of curated datasets with predefined tasks and evaluation metrics. These benchmarks aim to assess various aspects of model capability, from basic language understanding to complex reasoning. The key advantage of using automatic benchmarks is their standardization - they allow for consistent comparison across different models and provide reproducible results.\n",
    "\n",
    "However, it’s crucial to understand that benchmark performance doesn’t always translate directly to real-world effectiveness. A model that excels at academic benchmarks may still struggle with specific domain applications or practical use cases."
   ]
  },
  {
   "cell_type": "markdown",
   "id": "7c341fe5-4015-4c09-aa1e-acc16a6035b4",
   "metadata": {},
   "source": [
    "###  General Knowledge Benchmarks\n",
    "\n",
    "[MMLU (Massive Multitask Language Understanding)](https://huggingface.co/datasets/cais/mmlu) tests knowledge across 57 subjects, from science to humanities. While comprehensive, it may not reflect the depth of expertise needed for specific domains. TruthfulQA evaluates a model’s tendency to reproduce common misconceptions, though it can’t capture all forms of misinformation."
   ]
  },
  {
   "cell_type": "markdown",
   "id": "5f2156b0-8ebf-410e-ac9b-71a6130aeb45",
   "metadata": {},
   "source": [
    "### Reasoning Benchmarks\n",
    "\n",
    "[BBH (Big Bench Hard)](https://huggingface.co/datasets/lukaemon/bbh) and [GSM8K](https://huggingface.co/datasets/openai/gsm8k) focus on complex reasoning tasks. BBH tests logical thinking and planning, while GSM8K specifically targets mathematical problem-solving. These benchmarks help assess analytical capabilities but may not capture the nuanced reasoning required in real-world scenarios."
   ]
  },
  {
   "cell_type": "markdown",
   "id": "8b87c051-03a6-4c9a-9483-296ae05bf9c4",
   "metadata": {},
   "source": [
    "###  Language Understanding\n",
    "\n",
    "[HELM](https://github.com/stanford-crfm/helm) provides a holistic evaluation framework. Benchmarks like HELM offer insights into language processing capabilities on aspects like commonsense, world knowledge, and reasoning. But may not fully represent the complexity of natural conversation or domain-specific terminology.\n"
   ]
  },
  {
   "cell_type": "markdown",
   "id": "e4c9ab95-b6e8-4700-b5e6-f656d2ffcb90",
   "metadata": {},
   "source": [
    "###  Domain-Specific Benchmarks\n",
    "\n",
    "Let’s look at a few benchmarks that focus on specific domains like math, coding, and chat.\n",
    "\n",
    "The [MATH benchmark](https://huggingface.co/papers/2103.03874) is another important evaluation tool for mathematical reasoning. It consists of 12,500 problems from mathematics competitions, covering algebra, geometry, number theory, counting, probability, and more. What makes MATH particularly challenging is that it requires multi-step reasoning, formal mathematical notation understanding, and the ability to generate step-by-step solutions. Unlike simpler arithmetic tasks, MATH problems often demand sophisticated problem-solving strategies and mathematical concept applications.\n",
    "\n",
    "The [HumanEval Benchmark](https://github.com/openai/human-eval) is a coding-focused evaluation dataset consisting of 164 programming problems. The benchmark tests a model’s ability to generate functionally correct Python code that solves the given programming tasks. What makes HumanEval particularly valuable is that it evaluates both code generation capabilities and functional correctness through actual test case execution, rather than just superficial similarity to reference solutions. The problems range from basic string manipulation to more complex algorithms and data structures.\n",
    "\n",
    "[Alpaca Eval](https://tatsu-lab.github.io/alpaca_eval/) is an automated evaluation framework designed to assess the quality of instruction-following language models. It uses GPT-4 as a judge to evaluate model outputs across various dimensions including helpfulness, honesty, and harmlessness. The framework includes a dataset of 805 carefully curated prompts and can evaluate responses against multiple reference models like Claude, GPT-4, and others. What makes Alpaca Eval particularly useful is its ability to provide consistent, scalable evaluations without requiring human annotators, while still capturing nuanced aspects of model performance that traditional metrics might miss."
   ]
  },
  {
   "cell_type": "markdown",
   "id": "5c87d873-2e25-4288-8001-d608d6e98e64",
   "metadata": {},
   "source": [
    "###  Alternative Evaluation Approaches\n",
    "\n",
    "Many organizations have developed alternative evaluation methods to address the limitations of standard benchmarks:\n",
    "\n",
    "####  LLM-as-Judge\n",
    "\n",
    "Using one language model to evaluate another’s outputs has become increasingly popular. This approach can provide more nuanced feedback than traditional metrics, though it comes with its own biases and limitations.\n",
    "\n",
    "####  Evaluation Arenas\n",
    "\n",
    "Evaluation arenas like [Chatbot Arena](https://lmarena.ai/) offer a unique approach to LLM assessment through crowdsourced feedback. In these platforms, users engage in anonymous “battles” between two LLMs, asking questions and voting on which model provides better responses. This approach captures real-world usage patterns and preferences through diverse, challenging questions, with studies showing strong agreement between crowd-sourced votes and expert evaluations. While powerful, these platforms have limitations including potential user base bias, skewed prompt distributions, and a primary focus on helpfulness rather than safety considerations.\n",
    "\n",
    "####  Custom Benchmark Suites\n",
    "Organizations often develop internal benchmark suites tailored to their specific needs and use cases. These might include domain-specific knowledge tests or evaluation scenarios that mirror actual deployment conditions."
   ]
  },
  {
   "cell_type": "markdown",
   "id": "59ad3b24-33f3-44b0-a8ac-fa30e9327e1b",
   "metadata": {},
   "source": [
    "###  Custom Evaluation\n",
    "\n",
    "While standard benchmarks provide a useful baseline, they shouldn’t be your only evaluation method. Here’s how to develop a more comprehensive approach:\n",
    "\n",
    "1. Start with relevant standard benchmarks to establish a baseline and enable comparison with other models.\n",
    "2. Identify the specific requirements and challenges of your use case. What tasks will your model actually perform? What kinds of errors would be most problematic?\n",
    "3. Develop custom evaluation datasets that reflect your actual use case. This might include:\n",
    "- Real user queries from your domain\n",
    "- Common edge cases you’ve encountered\n",
    "- Examples of particularly challenging scenarios\n",
    "\n",
    "4. Consider implementing a multi-layered evaluation strategy:\n",
    "- Automated metrics for quick feedback\n",
    "- Human evaluation for nuanced understanding\n",
    "- Domain expert review for specialized applications\n",
    "- A/B testing in controlled environments"
   ]
  },
  {
   "cell_type": "markdown",
   "id": "d7e46211-a9fe-48b0-bd77-c44ff9bdad75",
   "metadata": {},
   "source": [
    "###  Implementing Custom Evaluations\n",
    "\n",
    "In this section, we will implement evaluation for our finetuned model. We can use [lighteval](https://github.com/huggingface/lighteval) to evaluate our finetuned model on standard benchmarks, which contains a wide range of tasks built into the library. We just need to define the tasks we want to evaluate and the parameters for the evaluation.\n",
    "\n",
    "LightEval tasks are defined using a specific format: `{suite}|{task}|{num_few_shot}|{auto_reduce}`\n",
    "\n",
    "| Parameter      | Description                                                     |\n",
    "|--------------|-----------------------------------------------------------------|\n",
    "| **suite**      | The benchmark suite (e.g., ‘mmlu’, ‘truthfulqa’)               |\n",
    "| **task**       | Specific task within the suite (e.g., ‘abstract_algebra’)      |\n",
    "| **num_few_shot** | Number of examples to include in prompt (0 for zero-shot)    |\n",
    "| **auto_reduce**  | Whether to automatically reduce few-shot examples if prompt is too long (0 or 1) |  \n",
    "\n",
    "\n",
    "Example: `\"mmlu|abstract_algebra|0|0\"` evaluates on MMLU’s abstract algebra task with zero-shot inference."
   ]
  },
  {
   "cell_type": "markdown",
   "id": "9ad79829-98e1-4117-b182-c6252f4cb621",
   "metadata": {},
   "source": [
    "###  Example Evaluation Pipeline\n",
    "\n",
    "Let’s set up an evaluation pipeline for our finetuned model. We will evaluate the model on set of sub tasks that relate to the domain of medicine.\n",
    "\n",
    "Here’s a complete example of evaluating on automatic benchmarks relevant to one specific domain using Lighteval with the VLLM backend:\n",
    "\n",
    "```\n",
    "lighteval accelerate \\\n",
    "    \"pretrained=your-model-name\" \\\n",
    "    \"mmlu|anatomy|0|0\" \\\n",
    "    \"mmlu|high_school_biology|0|0\" \\\n",
    "    \"mmlu|high_school_chemistry|0|0\" \\\n",
    "    \"mmlu|professional_medicine|0|0\" \\\n",
    "    --max_samples 40 \\\n",
    "    --batch_size 1 \\\n",
    "    --output_path \"./results\" \\\n",
    "    --save_generations true\n",
    "```\n",
    "\n",
    "Results are displayed in a tabular format showing:\n",
    "\n",
    "```\n",
    "|                  Task                  |Version|Metric|Value |   |Stderr|\n",
    "|----------------------------------------|------:|------|-----:|---|-----:|\n",
    "|all                                     |       |acc   |0.3333|±  |0.1169|\n",
    "|leaderboard:mmlu:_average:5             |       |acc   |0.3400|±  |0.1121|\n",
    "|leaderboard:mmlu:anatomy:5              |      0|acc   |0.4500|±  |0.1141|\n",
    "|leaderboard:mmlu:high_school_biology:5  |      0|acc   |0.1500|±  |0.0819|\n",
    "```\n",
    "\n",
    "Lighteval also include a python API for more detailed evaluation tasks, which is useful for manipulating the results in a more flexible way. Check out the [Lighteval documentation](https://huggingface.co/docs/lighteval/using-the-python-api) for more information.\n",
    "\n",
    "✏️ Try it out! Evaluate your finetuned model on a specific task in lighteval."
   ]
  },
  {
   "cell_type": "markdown",
   "id": "3e42c616-8dff-41b4-b4ae-be5e7ce7de3b",
   "metadata": {},
   "source": [
    "###  Conclusion\n",
    "\n",
    "In this chapter, we explored the essential components of fine-tuning language models:\n",
    "\n",
    "1. **Chat Templates** provide structure to model interactions, ensuring consistent and appropriate responses through standardized formatting.\n",
    "\n",
    "2. **Supervised Fine-Tuning (SFT)** allows adaptation of pre-trained models to specific tasks while maintaining their foundational knowledge.\n",
    "\n",
    "3. **LoRA** offers an efficient approach to fine-tuning by reducing trainable parameters while preserving model performance.\n",
    "\n",
    "4. **Evaluation** helps measure and validate the effectiveness of fine-tuning through various metrics and benchmarks.\n",
    "\n",
    "\n",
    "These techniques, when combined, enable the creation of specialized language models that can excel at specific tasks while remaining computationally efficient. Whether you’re building a customer service bot or a domain-specific assistant, understanding these concepts is crucial for successful model adaptation."
   ]
  }
 ],
 "metadata": {
  "kernelspec": {
   "display_name": "Python 3 (ipykernel)",
   "language": "python",
   "name": "python3"
  },
  "language_info": {
   "codemirror_mode": {
    "name": "ipython",
    "version": 3
   },
   "file_extension": ".py",
   "mimetype": "text/x-python",
   "name": "python",
   "nbconvert_exporter": "python",
   "pygments_lexer": "ipython3",
   "version": "3.8.20"
  }
 },
 "nbformat": 4,
 "nbformat_minor": 5
}
