{
 "cells": [
  {
   "cell_type": "markdown",
   "id": "100b8448-ac14-406d-989c-105d800becab",
   "metadata": {},
   "source": [
    "# Managing State\n",
    "\n",
    "So far, we have discussed how to build components in a multi-agent application - agents, teams, termination conditions. In many cases, it is useful to save the state of these components to disk and load them back later. This is particularly useful in a web application where stateless endpoints respond to requests and need to load the state of the application from persistent storage.\n",
    "\n",
    "In this notebook, we will discuss how to save and load the state of agents, teams, and termination conditions."
   ]
  },
  {
   "cell_type": "markdown",
   "id": "cdea9660-35f3-49cf-a94c-ed6e3cd53e03",
   "metadata": {},
   "source": [
    "## Saving and Loading Agents\n",
    "\n",
    "We can get the state of an agent by calling `save_state()` method on an [AssistantAgent](https://microsoft.github.io/autogen/stable/reference/python/autogen_agentchat.agents.html#autogen_agentchat.agents.AssistantAgent).\n",
    "\n",
    "**⚠️ Warning**: *For [AssistantAgent](https://microsoft.github.io/autogen/stable/reference/python/autogen_agentchat.agents.html#autogen_agentchat.agents.AssistantAgent), its state consists of the model_context. If you write your own custom agent, consider overriding the [save_state()](https://microsoft.github.io/autogen/stable/reference/python/autogen_agentchat.agents.html#autogen_agentchat.agents.BaseChatAgent.save_state) and [load_state()](https://microsoft.github.io/autogen/stable/reference/python/autogen_agentchat.agents.html#autogen_agentchat.agents.BaseChatAgent.load_state) methods to customize the behavior. The default implementations save and load an empty state.*"
   ]
  },
  {
   "cell_type": "code",
   "execution_count": 1,
   "id": "59352d96-d50b-45df-af5a-b80401f4a0b5",
   "metadata": {},
   "outputs": [
    {
     "name": "stdout",
     "output_type": "stream",
     "text": [
      "id='b7596cd5-0f73-4c0d-8513-df17e5dd82df' source='assistant_agent' models_usage=RequestUsage(prompt_tokens=28, completion_tokens=29) metadata={} created_at=datetime.datetime(2025, 7, 28, 6, 54, 19, 150311, tzinfo=datetime.timezone.utc) content=\"In Tanganyika's depths so wide and blue,  \\nWhispers of ancient stories softly renew,  \\nMirror to sunsets, a tranquil view.  \" type='TextMessage'\n"
     ]
    }
   ],
   "source": [
    "import os\n",
    "from dotenv import load_dotenv\n",
    "load_dotenv()\n",
    "\n",
    "from autogen_agentchat.agents import AssistantAgent\n",
    "from autogen_agentchat.conditions import MaxMessageTermination\n",
    "from autogen_agentchat.messages import TextMessage\n",
    "from autogen_agentchat.teams import RoundRobinGroupChat\n",
    "from autogen_agentchat.ui import Console\n",
    "from autogen_core import CancellationToken\n",
    "from autogen_ext.models.openai import OpenAIChatCompletionClient\n",
    "\n",
    "model_client = OpenAIChatCompletionClient(model=\"gpt-4o-2024-08-06\")\n",
    "\n",
    "assistant_agent = AssistantAgent(\n",
    "    name=\"assistant_agent\",\n",
    "    system_message=\"You are a helpful assistant\",\n",
    "    model_client=model_client,\n",
    ")\n",
    "\n",
    "# Use asyncio.run(...) when running in a script.\n",
    "response = await assistant_agent.on_messages(\n",
    "    [TextMessage(content=\"Write a 3 line poem on lake tangayika\", source=\"user\")], CancellationToken()\n",
    ")\n",
    "print(response.chat_message)\n",
    "await model_client.close()"
   ]
  },
  {
   "cell_type": "code",
   "execution_count": 2,
   "id": "f8a45074-3e13-4e0f-b15d-1b42159b3e59",
   "metadata": {},
   "outputs": [
    {
     "name": "stdout",
     "output_type": "stream",
     "text": [
      "{'type': 'AssistantAgentState', 'version': '1.0.0', 'llm_context': {'messages': [{'content': 'Write a 3 line poem on lake tangayika', 'source': 'user', 'type': 'UserMessage'}, {'content': \"In Tanganyika's depths so wide and blue,  \\nWhispers of ancient stories softly renew,  \\nMirror to sunsets, a tranquil view.  \", 'thought': None, 'source': 'assistant_agent', 'type': 'AssistantMessage'}]}}\n"
     ]
    }
   ],
   "source": [
    "agent_state = await assistant_agent.save_state()\n",
    "print(agent_state)"
   ]
  },
  {
   "cell_type": "code",
   "execution_count": 3,
   "id": "e4e8bad6-f9ee-4f0b-810c-0a7cde892fe8",
   "metadata": {},
   "outputs": [
    {
     "name": "stdout",
     "output_type": "stream",
     "text": [
      "id='7a5e736a-8044-4186-8300-99f0cc183a0d' source='assistant_agent' models_usage=RequestUsage(prompt_tokens=77, completion_tokens=22) metadata={} created_at=datetime.datetime(2025, 7, 28, 6, 55, 15, 223443, tzinfo=datetime.timezone.utc) content='The last line of the poem I wrote for you is:  \\n\"Mirror to sunsets, a tranquil view.\"' type='TextMessage'\n"
     ]
    }
   ],
   "source": [
    "model_client = OpenAIChatCompletionClient(model=\"gpt-4o-2024-08-06\")\n",
    "\n",
    "new_assistant_agent = AssistantAgent(\n",
    "    name=\"assistant_agent\",\n",
    "    system_message=\"You are a helpful assistant\",\n",
    "    model_client=model_client,\n",
    ")\n",
    "await new_assistant_agent.load_state(agent_state)\n",
    "\n",
    "# Use asyncio.run(...) when running in a script.\n",
    "response = await new_assistant_agent.on_messages(\n",
    "    [TextMessage(content=\"What was the last line of the previous poem you wrote\", source=\"user\")], CancellationToken()\n",
    ")\n",
    "print(response.chat_message)\n",
    "await model_client.close()"
   ]
  },
  {
   "cell_type": "markdown",
   "id": "0b740fd2-70b2-4101-bcc5-c34762ad5980",
   "metadata": {},
   "source": [
    "## Saving and Loading Teams\n",
    "\n",
    "We can get the state of a team by calling `save_state` method on the team and load it back by calling `load_state` method on the team.\n",
    "\n",
    "When we call `save_state` on a team, it saves the state of all the agents in the team.\n",
    "\n",
    "We will begin by creating a simple [RoundRobinGroupChat](https://microsoft.github.io/autogen/stable/reference/python/autogen_agentchat.teams.html#autogen_agentchat.teams.RoundRobinGroupChat) team with a single agent and ask it to write a poem."
   ]
  },
  {
   "cell_type": "code",
   "execution_count": 4,
   "id": "a2cc426b-598d-46bc-a96b-ae97646a74da",
   "metadata": {},
   "outputs": [
    {
     "name": "stdout",
     "output_type": "stream",
     "text": [
      "---------- TextMessage (user) ----------\n",
      "Write a beautiful poem 3-line about lake tangayika\n",
      "---------- TextMessage (assistant_agent) ----------\n",
      "In Tanganyika's depths, whispers of ancient tales,  \n",
      "Crystal waves embrace shores with gentle ballet,  \n",
      "Serene heart of Africa, where spirits sail.\n"
     ]
    }
   ],
   "source": [
    "model_client = OpenAIChatCompletionClient(model=\"gpt-4o-2024-08-06\")\n",
    "\n",
    "# Define a team.\n",
    "assistant_agent = AssistantAgent(\n",
    "    name=\"assistant_agent\",\n",
    "    system_message=\"You are a helpful assistant\",\n",
    "    model_client=model_client,\n",
    ")\n",
    "agent_team = RoundRobinGroupChat([assistant_agent], termination_condition=MaxMessageTermination(max_messages=2))\n",
    "\n",
    "# Run the team and stream messages to the console.\n",
    "stream = agent_team.run_stream(task=\"Write a beautiful poem 3-line about lake tangayika\")\n",
    "\n",
    "# Use asyncio.run(...) when running in a script.\n",
    "await Console(stream)\n",
    "\n",
    "# Save the state of the agent team.\n",
    "team_state = await agent_team.save_state()"
   ]
  },
  {
   "cell_type": "markdown",
   "id": "4eaf5186-e194-4fbc-a9ec-fc55df8c8f2d",
   "metadata": {},
   "source": [
    "If we reset the team (simulating instantiation of the team), and ask the question `What was the last line of the poem you wrote?`, we see that the team is unable to accomplish this as there is no reference to the previous run."
   ]
  },
  {
   "cell_type": "code",
   "execution_count": 5,
   "id": "0a97e206-b5fe-45f0-8910-c679b05abb91",
   "metadata": {},
   "outputs": [
    {
     "name": "stdout",
     "output_type": "stream",
     "text": [
      "---------- TextMessage (user) ----------\n",
      "What was the last line of the poem you wrote?\n",
      "---------- TextMessage (assistant_agent) ----------\n",
      "I don't have the ability to recall previous interactions or specific writings since I don't retain user data or past conversations. However, I can certainly help you write a new poem or provide another line if you'd like. Let me know what you'd prefer!\n"
     ]
    },
    {
     "data": {
      "text/plain": [
       "TaskResult(messages=[TextMessage(id='0cfe308e-1a99-4cf2-a1ac-71b462fa6da3', source='user', models_usage=None, metadata={}, created_at=datetime.datetime(2025, 7, 28, 7, 1, 6, 276204, tzinfo=datetime.timezone.utc), content='What was the last line of the poem you wrote?', type='TextMessage'), TextMessage(id='34cdd8f6-0c85-48cb-bbbf-508939cb190e', source='assistant_agent', models_usage=RequestUsage(prompt_tokens=28, completion_tokens=48), metadata={}, created_at=datetime.datetime(2025, 7, 28, 7, 1, 8, 72276, tzinfo=datetime.timezone.utc), content=\"I don't have the ability to recall previous interactions or specific writings since I don't retain user data or past conversations. However, I can certainly help you write a new poem or provide another line if you'd like. Let me know what you'd prefer!\", type='TextMessage')], stop_reason='Maximum number of messages 2 reached, current message count: 2')"
      ]
     },
     "execution_count": 5,
     "metadata": {},
     "output_type": "execute_result"
    }
   ],
   "source": [
    "await agent_team.reset()\n",
    "\n",
    "stream = agent_team.run_stream(task=\"What was the last line of the poem you wrote?\")\n",
    "\n",
    "await Console(stream)"
   ]
  },
  {
   "cell_type": "markdown",
   "id": "8c2eaa9d-2867-4766-9e14-d3697541a778",
   "metadata": {},
   "source": [
    "Next, we load the state of the team and ask the same question. We see that the team is able to accurately return the last line of the poem it wrote."
   ]
  },
  {
   "cell_type": "code",
   "execution_count": 6,
   "id": "226421c8-6df8-4603-9360-f67c2cdbfefe",
   "metadata": {},
   "outputs": [
    {
     "name": "stdout",
     "output_type": "stream",
     "text": [
      "{'type': 'TeamState', 'version': '1.0.0', 'agent_states': {'assistant_agent': {'type': 'ChatAgentContainerState', 'version': '1.0.0', 'agent_state': {'type': 'AssistantAgentState', 'version': '1.0.0', 'llm_context': {'messages': [{'content': 'Write a beautiful poem 3-line about lake tangayika', 'source': 'user', 'type': 'UserMessage'}, {'content': \"In Tanganyika's depths, whispers of ancient tales,  \\nCrystal waves embrace shores with gentle ballet,  \\nSerene heart of Africa, where spirits sail.\", 'thought': None, 'source': 'assistant_agent', 'type': 'AssistantMessage'}]}}, 'message_buffer': []}, 'RoundRobinGroupChatManager': {'type': 'RoundRobinManagerState', 'version': '1.0.0', 'message_thread': [{'id': '8a3e5e78-8ca4-4aed-8540-655f2a1728f1', 'source': 'user', 'models_usage': None, 'metadata': {}, 'created_at': datetime.datetime(2025, 7, 28, 7, 0, 19, 97065, tzinfo=datetime.timezone.utc), 'content': 'Write a beautiful poem 3-line about lake tangayika', 'type': 'TextMessage'}, {'id': '3c4d5a0f-c0eb-4af2-9748-aeb7275766a9', 'source': 'assistant_agent', 'models_usage': {'prompt_tokens': 29, 'completion_tokens': 31}, 'metadata': {}, 'created_at': datetime.datetime(2025, 7, 28, 7, 0, 20, 745569, tzinfo=datetime.timezone.utc), 'content': \"In Tanganyika's depths, whispers of ancient tales,  \\nCrystal waves embrace shores with gentle ballet,  \\nSerene heart of Africa, where spirits sail.\", 'type': 'TextMessage'}], 'current_turn': 0, 'next_speaker_index': 0}}}\n",
      "---------- TextMessage (user) ----------\n",
      "What was the last line of the poem you wrote?\n",
      "---------- TextMessage (assistant_agent) ----------\n",
      "The last line of the poem is:  \n",
      "\"Serene heart of Africa, where spirits sail.\"\n"
     ]
    },
    {
     "data": {
      "text/plain": [
       "TaskResult(messages=[TextMessage(id='ef41f83c-db75-4252-93ab-e7f9992cb228', source='user', models_usage=None, metadata={}, created_at=datetime.datetime(2025, 7, 28, 7, 1, 28, 357854, tzinfo=datetime.timezone.utc), content='What was the last line of the poem you wrote?', type='TextMessage'), TextMessage(id='db7aed3f-f817-4005-9d87-ec412e9a2f6e', source='assistant_agent', models_usage=RequestUsage(prompt_tokens=80, completion_tokens=20), metadata={}, created_at=datetime.datetime(2025, 7, 28, 7, 1, 29, 639023, tzinfo=datetime.timezone.utc), content='The last line of the poem is:  \\n\"Serene heart of Africa, where spirits sail.\"', type='TextMessage')], stop_reason='Maximum number of messages 2 reached, current message count: 2')"
      ]
     },
     "execution_count": 6,
     "metadata": {},
     "output_type": "execute_result"
    }
   ],
   "source": [
    "print(team_state)\n",
    "\n",
    "# Load team state.\n",
    "await agent_team.load_state(team_state)\n",
    "\n",
    "stream = agent_team.run_stream(task=\"What was the last line of the poem you wrote?\")\n",
    "\n",
    "await Console(stream)"
   ]
  },
  {
   "cell_type": "markdown",
   "id": "864ead1d-2b3c-46ec-a191-c2d342412361",
   "metadata": {},
   "source": [
    "## Persisting State (File or Database)"
   ]
  },
  {
   "cell_type": "code",
   "execution_count": 9,
   "id": "10f22b7a-c654-41a9-ad14-9f9b2d1b0268",
   "metadata": {},
   "outputs": [
    {
     "data": {
      "text/plain": [
       "{'type': 'TeamState',\n",
       " 'version': '1.0.0',\n",
       " 'agent_states': {'assistant_agent': {'type': 'ChatAgentContainerState',\n",
       "   'version': '1.0.0',\n",
       "   'agent_state': {'type': 'AssistantAgentState',\n",
       "    'version': '1.0.0',\n",
       "    'llm_context': {'messages': [{'content': 'Write a beautiful poem 3-line about lake tangayika',\n",
       "       'source': 'user',\n",
       "       'type': 'UserMessage'},\n",
       "      {'content': \"In Tanganyika's depths, whispers of ancient tales,  \\nCrystal waves embrace shores with gentle ballet,  \\nSerene heart of Africa, where spirits sail.\",\n",
       "       'thought': None,\n",
       "       'source': 'assistant_agent',\n",
       "       'type': 'AssistantMessage'}]}},\n",
       "   'message_buffer': []},\n",
       "  'RoundRobinGroupChatManager': {'type': 'RoundRobinManagerState',\n",
       "   'version': '1.0.0',\n",
       "   'message_thread': [{'id': '8a3e5e78-8ca4-4aed-8540-655f2a1728f1',\n",
       "     'source': 'user',\n",
       "     'models_usage': None,\n",
       "     'metadata': {},\n",
       "     'created_at': datetime.datetime(2025, 7, 28, 7, 0, 19, 97065, tzinfo=datetime.timezone.utc),\n",
       "     'content': 'Write a beautiful poem 3-line about lake tangayika',\n",
       "     'type': 'TextMessage'},\n",
       "    {'id': '3c4d5a0f-c0eb-4af2-9748-aeb7275766a9',\n",
       "     'source': 'assistant_agent',\n",
       "     'models_usage': {'prompt_tokens': 29, 'completion_tokens': 31},\n",
       "     'metadata': {},\n",
       "     'created_at': datetime.datetime(2025, 7, 28, 7, 0, 20, 745569, tzinfo=datetime.timezone.utc),\n",
       "     'content': \"In Tanganyika's depths, whispers of ancient tales,  \\nCrystal waves embrace shores with gentle ballet,  \\nSerene heart of Africa, where spirits sail.\",\n",
       "     'type': 'TextMessage'}],\n",
       "   'current_turn': 0,\n",
       "   'next_speaker_index': 0}}}"
      ]
     },
     "execution_count": 9,
     "metadata": {},
     "output_type": "execute_result"
    }
   ],
   "source": [
    "team_state"
   ]
  },
  {
   "cell_type": "code",
   "execution_count": null,
   "id": "ae8e47a5-05ae-402f-a3dd-d12012a553b2",
   "metadata": {},
   "outputs": [],
   "source": [
    "import json\n",
    "\n",
    "## save state to disk\n",
    "\n",
    "with open(\".team_state.json\", \"w\") as f:\n",
    "    json.dump(team_state, f)\n",
    "\n",
    "## load state from disk\n",
    "with open(\".team_state.json\", \"r\") as f:\n",
    "    team_state = json.load(f)\n",
    "\n",
    "new_agent_team = RoundRobinGroupChat([assistant_agent], termination_condition=MaxMessageTermination(max_messages=2))\n",
    "\n",
    "await new_agent_team.load_state(team_state)\n",
    "\n",
    "stream = new_agent_team.run_stream(task=\"What was the last line of the poem you wrote?\")\n",
    "\n",
    "await Console(stream)\n",
    "\n",
    "await model_client.close()"
   ]
  }
 ],
 "metadata": {
  "kernelspec": {
   "display_name": "Python 3 (ipykernel)",
   "language": "python",
   "name": "python3"
  },
  "language_info": {
   "codemirror_mode": {
    "name": "ipython",
    "version": 3
   },
   "file_extension": ".py",
   "mimetype": "text/x-python",
   "name": "python",
   "nbconvert_exporter": "python",
   "pygments_lexer": "ipython3",
   "version": "3.12.11"
  }
 },
 "nbformat": 4,
 "nbformat_minor": 5
}
