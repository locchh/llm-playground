{
 "cells": [
  {
   "cell_type": "markdown",
   "id": "282a90e3-c1f8-48cb-836d-4f98ced8915d",
   "metadata": {},
   "source": [
    "# Logging\n",
    "\n",
    "AutoGen uses Python’s built-in [logging](https://docs.python.org/3/library/logging.html) module.\n",
    "\n",
    "To enable logging for AgentChat, you can use the following code:"
   ]
  },
  {
   "cell_type": "code",
   "execution_count": 1,
   "id": "9a2bfb75-dab3-4a7c-a2a3-0f420ed04562",
   "metadata": {},
   "outputs": [],
   "source": [
    "import logging\n",
    "\n",
    "from autogen_agentchat import EVENT_LOGGER_NAME, TRACE_LOGGER_NAME\n",
    "\n",
    "logging.basicConfig(level=logging.WARNING)\n",
    "\n",
    "# For trace logging.\n",
    "trace_logger = logging.getLogger(TRACE_LOGGER_NAME)\n",
    "trace_logger.addHandler(logging.StreamHandler())\n",
    "trace_logger.setLevel(logging.DEBUG)\n",
    "\n",
    "# For structured message logging, such as low-level messages between agents.\n",
    "event_logger = logging.getLogger(EVENT_LOGGER_NAME)\n",
    "event_logger.addHandler(logging.StreamHandler())\n",
    "event_logger.setLevel(logging.DEBUG)"
   ]
  },
  {
   "cell_type": "markdown",
   "id": "4fb45837-3261-4fbd-a8b3-359c9c18fbe0",
   "metadata": {},
   "source": [
    "To enable additional logs such as model client calls and agent runtime events, please refer to the [Core Logging Guide](https://microsoft.github.io/autogen/stable/user-guide/core-user-guide/framework/logging.html)."
   ]
  }
 ],
 "metadata": {
  "kernelspec": {
   "display_name": "Python 3 (ipykernel)",
   "language": "python",
   "name": "python3"
  },
  "language_info": {
   "codemirror_mode": {
    "name": "ipython",
    "version": 3
   },
   "file_extension": ".py",
   "mimetype": "text/x-python",
   "name": "python",
   "nbconvert_exporter": "python",
   "pygments_lexer": "ipython3",
   "version": "3.12.11"
  }
 },
 "nbformat": 4,
 "nbformat_minor": 5
}
