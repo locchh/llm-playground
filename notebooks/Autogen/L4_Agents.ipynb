{
 "cells": [
  {
   "cell_type": "markdown",
   "id": "c00e4f32-9635-409e-ae58-6a96d534886a",
   "metadata": {},
   "source": [
    "# Agents\n",
    "\n",
    "AutoGen AgentChat provides a set of preset Agents, each with variations in how an agent might respond to messages. All agents share the following attributes and methods:\n",
    "\n",
    "- [name](https://microsoft.github.io/autogen/stable/reference/python/autogen_agentchat.agents.html#autogen_agentchat.agents.BaseChatAgent.name): The unique name of the agent.\n",
    "- [description](https://microsoft.github.io/autogen/stable/reference/python/autogen_agentchat.agents.html#autogen_agentchat.agents.BaseChatAgent.description): The description of the agent in text.\n",
    "- [run](https://microsoft.github.io/autogen/stable/reference/python/autogen_agentchat.agents.html#autogen_agentchat.agents.BaseChatAgent.run): The method that runs the agent given a task as a string or a list of messages, and returns a TaskResult. **Agents are expected to be stateful and this method is expected to be called with new messages, not complete history.**\n",
    "- [run_stream](https://microsoft.github.io/autogen/stable/reference/python/autogen_agentchat.agents.html#autogen_agentchat.agents.BaseChatAgent.run_stream): Same as `run()` but returns an iterator of messages that subclass [BaseAgentEvent](https://microsoft.github.io/autogen/stable/reference/python/autogen_agentchat.messages.html#autogen_agentchat.messages.BaseAgentEvent) or [BaseChatMessage](https://microsoft.github.io/autogen/stable/reference/python/autogen_agentchat.messages.html#autogen_agentchat.messages.BaseChatMessage) followed by a [TaskResult](https://microsoft.github.io/autogen/stable/reference/python/autogen_agentchat.base.html#autogen_agentchat.base.TaskResult) as the last item.\n",
    "\n",
    "See [autogen_agentchat.messages](https://microsoft.github.io/autogen/stable/reference/python/autogen_agentchat.messages.html#module-autogen_agentchat.messages) for more information on AgentChat message types.\n",
    "\n",
    "## Available Agents\n",
    "\n",
    "The following preset agents are available:\n",
    "\n",
    "- [UserProxyAgent](https://microsoft.github.io/autogen/stable/reference/python/autogen_agentchat.agents.html#autogen_agentchat.agents.UserProxyAgent): An agent that takes user input returns it as responses.\n",
    "\n",
    "- [CodeExecutorAgent](https://microsoft.github.io/autogen/stable/reference/python/autogen_agentchat.agents.html#autogen_agentchat.agents.CodeExecutorAgent): An agent that can execute code.\n",
    "\n",
    "- [OpenAIAssistantAgent](https://microsoft.github.io/autogen/stable/reference/python/autogen_ext.agents.openai.html#autogen_ext.agents.openai.OpenAIAssistantAgent): An agent that is backed by an OpenAI Assistant, with ability to use custom tools.\n",
    "\n",
    "- [MultimodalWebSurfer](https://microsoft.github.io/autogen/stable/reference/python/autogen_ext.agents.web_surfer.html#autogen_ext.agents.web_surfer.MultimodalWebSurfer): A multi-modal agent that can search the web and visit web pages for information.\n",
    "\n",
    "- [FileSurfer](https://microsoft.github.io/autogen/stable/reference/python/autogen_ext.agents.file_surfer.html#autogen_ext.agents.file_surfer.FileSurfer): An agent that can search and browse local files for information.\n",
    "\n",
    "- [VideoSurfer](https://microsoft.github.io/autogen/stable/reference/python/autogen_ext.agents.video_surfer.html#autogen_ext.agents.video_surfer.VideoSurfer): An agent that can watch videos for information."
   ]
  },
  {
   "cell_type": "code",
   "execution_count": 1,
   "id": "ac2a2a61-8149-41c2-85dd-313a2713d94a",
   "metadata": {},
   "outputs": [],
   "source": [
    "import os\n",
    "\n",
    "from dotenv import load_dotenv\n",
    "\n",
    "load_dotenv()\n",
    "\n",
    "MODEL_NAME = \"gpt-4.1-nano\""
   ]
  },
  {
   "cell_type": "markdown",
   "id": "d09a1f63-4baf-4c93-ace4-7f7628eafe32",
   "metadata": {},
   "source": [
    "## Assistant Agent\n",
    "\n",
    "[AssistantAgent](https://microsoft.github.io/autogen/stable/reference/python/autogen_agentchat.agents.html#autogen_agentchat.agents.AssistantAgent) is a built-in agent that uses a language model and has the ability to use tools.\n",
    "\n",
    "The following diagram shows how the assistant agent works:\n",
    "\n",
    "<p align=\"center\">\n",
    "  <img src=\"https://microsoft.github.io/autogen/stable/_images/assistant-agent.svg\" alt=\"img\">\n",
    "</p>\n",
    "\n",
    "**⚠️ Warning**: *`AssistantAgent` is a “kitchen sink” agent for prototyping and educational purpose – it is very general. Make sure you read the documentation and implementation to understand the design choices. Once you fully understand the design, you may want to implement your own agent. See [Custom Agent](https://microsoft.github.io/autogen/stable/user-guide/agentchat-user-guide/custom-agents.html).*"
   ]
  },
  {
   "cell_type": "markdown",
   "id": "6e9721bf-e0e0-4c33-ad69-4307fe15ff24",
   "metadata": {},
   "source": [
    "### Getting Result\n",
    "\n",
    "We can use the `run()` method to get the agent run on a given task.\n",
    "\n",
    "The call to the [run()](https://microsoft.github.io/autogen/stable/reference/python/autogen_agentchat.agents.html#autogen_agentchat.agents.BaseChatAgent.run) method returns a [TaskResult](https://microsoft.github.io/autogen/stable/reference/python/autogen_agentchat.base.html#autogen_agentchat.base.TaskResult) with the list of [messages](https://microsoft.github.io/autogen/stable/reference/python/autogen_agentchat.base.html#autogen_agentchat.base.TaskResult.messages) in the messages attribute, which stores the agent’s “thought process” as well as the final response.\n",
    "\n",
    "**⚠️ Warning**: *It is important to note that `run()` will update the internal state of the agent – it will add the messages to the agent’s message history. You can also call `run()` without a task to get the agent to generate responses given its current state*"
   ]
  },
  {
   "cell_type": "code",
   "execution_count": 2,
   "id": "d4d9e1c5-ee25-4846-bea2-2ff7bae80bff",
   "metadata": {},
   "outputs": [],
   "source": [
    "from autogen_agentchat.agents import AssistantAgent\n",
    "from autogen_ext.models.openai import OpenAIChatCompletionClient"
   ]
  },
  {
   "cell_type": "code",
   "execution_count": 3,
   "id": "ed2d6f76-ba7e-4185-ad85-26f4d7fdf1c2",
   "metadata": {},
   "outputs": [],
   "source": [
    "# Define mock function tool that searches the web for information\n",
    "async def web_search(query:str)->str:\n",
    "    \"\"\"Find information on the web\"\"\"\n",
    "    return \"AutoGen is a programming framework for building multi-agent applications.\""
   ]
  },
  {
   "cell_type": "code",
   "execution_count": 4,
   "id": "3a6a4959-dc27-41fe-a6a1-d687b6e1c468",
   "metadata": {},
   "outputs": [],
   "source": [
    "# Create model client\n",
    "model_client = OpenAIChatCompletionClient(\n",
    "    model=MODEL_NAME,\n",
    "    api_key=os.getenv(\"OPENAI_API_KEY\")\n",
    ")\n",
    "\n",
    "# Create agent\n",
    "agent = AssistantAgent(\n",
    "    name=\"assistant\",\n",
    "    model_client=model_client,\n",
    "    tools=[web_search],\n",
    "    system_message=\"Use tools to solve tasks.\",\n",
    ")"
   ]
  },
  {
   "cell_type": "code",
   "execution_count": 6,
   "id": "6413694c-bd6b-4537-8236-4b8b8fb0c39c",
   "metadata": {},
   "outputs": [
    {
     "data": {
      "text/plain": [
       "TaskResult(messages=[TextMessage(id='a99cde28-f9d9-492d-8ab6-a4a99281ea62', source='user', models_usage=None, metadata={}, created_at=datetime.datetime(2025, 7, 27, 5, 50, 55, 460955, tzinfo=datetime.timezone.utc), content='Find information about Autogen', type='TextMessage'), ToolCallRequestEvent(id='18b3d80b-fc08-4d15-bdcd-ce09823e59ef', source='assistant', models_usage=RequestUsage(prompt_tokens=103, completion_tokens=15), metadata={}, created_at=datetime.datetime(2025, 7, 27, 5, 50, 56, 349190, tzinfo=datetime.timezone.utc), content=[FunctionCall(id='call_ydpVdSxjF4M7JMeUNiw9YxsU', arguments='{\"query\":\"Autogen\"}', name='web_search')], type='ToolCallRequestEvent'), ToolCallExecutionEvent(id='1452fda9-8eab-42a6-8087-73fc657ebb99', source='assistant', models_usage=None, metadata={}, created_at=datetime.datetime(2025, 7, 27, 5, 50, 56, 349550, tzinfo=datetime.timezone.utc), content=[FunctionExecutionResult(content='AutoGen is a programming framework for building multi-agent applications.', name='web_search', call_id='call_ydpVdSxjF4M7JMeUNiw9YxsU', is_error=False)], type='ToolCallExecutionEvent'), ToolCallSummaryMessage(id='2a8a9e57-532f-4f7c-b80a-56029aeafb76', source='assistant', models_usage=None, metadata={}, created_at=datetime.datetime(2025, 7, 27, 5, 50, 56, 349573, tzinfo=datetime.timezone.utc), content='AutoGen is a programming framework for building multi-agent applications.', type='ToolCallSummaryMessage', tool_calls=[FunctionCall(id='call_ydpVdSxjF4M7JMeUNiw9YxsU', arguments='{\"query\":\"Autogen\"}', name='web_search')], results=[FunctionExecutionResult(content='AutoGen is a programming framework for building multi-agent applications.', name='web_search', call_id='call_ydpVdSxjF4M7JMeUNiw9YxsU', is_error=False)])], stop_reason=None)"
      ]
     },
     "execution_count": 6,
     "metadata": {},
     "output_type": "execute_result"
    }
   ],
   "source": [
    "# Use asyncio.run(agent.run(...)) when running a script.\n",
    "res = await agent.run(task=\"Find information about Autogen\")\n",
    "res"
   ]
  },
  {
   "cell_type": "code",
   "execution_count": 12,
   "id": "a12cf48a-7156-4fa8-bb96-09e956ebb662",
   "metadata": {},
   "outputs": [
    {
     "name": "stdout",
     "output_type": "stream",
     "text": [
      "Type: TextMessage Source: user (a99cde28-f9d9-492d-8ab6-a4a99281ea62)\n",
      "Conent:\n",
      "Find information about Autogen\n",
      "----------\n",
      "Type: ToolCallRequestEvent Source: assistant (18b3d80b-fc08-4d15-bdcd-ce09823e59ef)\n",
      "Conent:\n",
      "[FunctionCall(id='call_ydpVdSxjF4M7JMeUNiw9YxsU', arguments='{\"query\":\"Autogen\"}', name='web_search')]\n",
      "----------\n",
      "Type: ToolCallExecutionEvent Source: assistant (1452fda9-8eab-42a6-8087-73fc657ebb99)\n",
      "Conent:\n",
      "[FunctionExecutionResult(content='AutoGen is a programming framework for building multi-agent applications.', name='web_search', call_id='call_ydpVdSxjF4M7JMeUNiw9YxsU', is_error=False)]\n",
      "----------\n",
      "Type: ToolCallSummaryMessage Source: assistant (2a8a9e57-532f-4f7c-b80a-56029aeafb76)\n",
      "Conent:\n",
      "AutoGen is a programming framework for building multi-agent applications.\n",
      "----------\n"
     ]
    }
   ],
   "source": [
    "#res.dict()\n",
    "#res.model_dump()\n",
    "for msg in res.messages:\n",
    "    print(f\"Type: {msg.type} Source: {msg.source} ({msg.id})\")\n",
    "    print(f\"Conent:\\n{msg.content}\")\n",
    "    print(\"-\"*10)"
   ]
  },
  {
   "cell_type": "markdown",
   "id": "e154eb48-890b-4fb8-9c90-ed01b05245ec",
   "metadata": {},
   "source": [
    "Here are the key differences between the `run()` method and the `on_message()` method in `BaseChatAgent`:\n",
    "\n",
    "`on_messages()` method:\n",
    "- **Purpose**: Core message handling logic that agents must implement\n",
    "- **Input**: Takes a sequence of BaseChatMessage objects directly\n",
    "- **Usage**: Called internally by teams during conversation flows\n",
    "- **Returns**: A Response object containing the agent's reply\n",
    "- **Abstract method**: Must be implemented by all concrete agents\n",
    "\n",
    "`run()` method:\n",
    "- **Purpose**: High-level interface for running agents with tasks\n",
    "- **Input**: More flexible - accepts strings, single messages, or sequences of messages\n",
    "- **Usage**: External interface for directly invoking agents\n",
    "- **Returns**: A TaskResult object with complete conversation history\n",
    "- **Concrete implementation**: Already provided by BaseChatAgent"
   ]
  },
  {
   "cell_type": "code",
   "execution_count": null,
   "id": "ecf7ec30-0964-4897-b979-5906b6bd0986",
   "metadata": {},
   "outputs": [],
   "source": []
  },
  {
   "cell_type": "markdown",
   "id": "2cc33d77-9044-4401-8048-2c14125c2342",
   "metadata": {},
   "source": [
    "### Multi-Modal Input\n",
    "\n",
    "The [AssistantAgent](https://microsoft.github.io/autogen/stable/reference/python/autogen_agentchat.agents.html#autogen_agentchat.agents.AssistantAgent) can handle multi-modal input by providing the input as a [MultiModalMessage](https://microsoft.github.io/autogen/stable/reference/python/autogen_agentchat.messages.html#autogen_agentchat.messages.MultiModalMessage)."
   ]
  },
  {
   "cell_type": "code",
   "execution_count": 13,
   "id": "d24a02aa-f4b0-42ed-855d-fa915ee53530",
   "metadata": {},
   "outputs": [
    {
     "data": {
      "text/html": [
       "<img src=\"data:image/png;base64,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\"/>"
      ],
      "text/plain": [
       "<autogen_core._image.Image at 0x7f77fff2a120>"
      ]
     },
     "execution_count": 13,
     "metadata": {},
     "output_type": "execute_result"
    }
   ],
   "source": [
    "import PIL\n",
    "import requests\n",
    "from io import BytesIO\n",
    "from autogen_agentchat.messages import MultiModalMessage\n",
    "from autogen_core import Image\n",
    "\n",
    "# Create a multi-modal message with random image and text.\n",
    "pil_image = PIL.Image.open(BytesIO(requests.get(\"https://picsum.photos/300/200\").content))\n",
    "img = Image(pil_image)\n",
    "multi_modal_message = MultiModalMessage(content=[\"Can you describe the content of this image?\", img], source=\"user\")\n",
    "img"
   ]
  },
  {
   "cell_type": "code",
   "execution_count": 14,
   "id": "7cd300a0-824f-4f61-a76a-c4de6073e984",
   "metadata": {},
   "outputs": [
    {
     "name": "stdout",
     "output_type": "stream",
     "text": [
      "This image shows a person sitting on a stone wall, overlooking a vast landscape that includes mountains and a city or town below. The scene appears to be peaceful and contemplative, with the individual gazing at the view. The sky is partly cloudy, adding a serene atmosphere to the setting.\n"
     ]
    }
   ],
   "source": [
    "res = await agent.run(task=multi_modal_message)\n",
    "print(res.messages[-1].content)"
   ]
  },
  {
   "cell_type": "markdown",
   "id": "130e1eb6-9ab8-4743-9716-209c8ed2e51e",
   "metadata": {},
   "source": [
    "### Streaming Messages\n",
    "\n",
    "We can also stream each message as it is generated by the agent by using the [run_stream()](https://microsoft.github.io/autogen/stable/reference/python/autogen_agentchat.agents.html#autogen_agentchat.agents.BaseChatAgent.run_stream) method, and use [Console](https://microsoft.github.io/autogen/stable/reference/python/autogen_agentchat.ui.html#autogen_agentchat.ui.Console) (consumes the message stream from `run_stream()` or `on_messages_stream()` and renders the messages to the console.) to print the messages as they appear to the console.\n",
    "\n",
    "The [run_stream()](https://microsoft.github.io/autogen/stable/reference/python/autogen_agentchat.agents.html#autogen_agentchat.agents.BaseChatAgent.run_stream) method returns an asynchronous generator that yields each message generated by the agent, followed by a [TaskResult](https://microsoft.github.io/autogen/stable/reference/python/autogen_agentchat.base.html#autogen_agentchat.base.TaskResult) as the last item.\n",
    "\n",
    "From the messages, you can observe that the assistant agent utilized the `web_search` tool to gather information and responded based on the search results."
   ]
  },
  {
   "cell_type": "code",
   "execution_count": 15,
   "id": "4789f748-a825-4ba4-9b7d-f73017a1ffcb",
   "metadata": {},
   "outputs": [],
   "source": [
    "from autogen_agentchat.ui import Console"
   ]
  },
  {
   "cell_type": "code",
   "execution_count": 16,
   "id": "ad700305-2f63-4c8e-95fd-82e9f4ce69f4",
   "metadata": {},
   "outputs": [
    {
     "name": "stdout",
     "output_type": "stream",
     "text": [
      "---------- TextMessage (user) ----------\n",
      "Find information on AutoGen\n",
      "---------- ToolCallRequestEvent (assistant) ----------\n",
      "[FunctionCall(id='call_620bOd7nTGoWC0NPp6hLdKcN', arguments='{\"query\": \"AutoGen programming framework\"}', name='web_search'), FunctionCall(id='call_cfASH4TvDekZsadtQE00AQ6M', arguments='{\"query\": \"features of AutoGen\"}', name='web_search')]\n",
      "[Prompt tokens: 398, Completion tokens: 50]\n",
      "---------- ToolCallExecutionEvent (assistant) ----------\n",
      "[FunctionExecutionResult(content='AutoGen is a programming framework for building multi-agent applications.', name='web_search', call_id='call_620bOd7nTGoWC0NPp6hLdKcN', is_error=False), FunctionExecutionResult(content='AutoGen is a programming framework for building multi-agent applications.', name='web_search', call_id='call_cfASH4TvDekZsadtQE00AQ6M', is_error=False)]\n",
      "---------- ToolCallSummaryMessage (assistant) ----------\n",
      "AutoGen is a programming framework for building multi-agent applications.\n",
      "AutoGen is a programming framework for building multi-agent applications.\n",
      "---------- Summary ----------\n",
      "Number of messages: 4\n",
      "Finish reason: None\n",
      "Total prompt tokens: 398\n",
      "Total completion tokens: 50\n",
      "Duration: 1.66 seconds\n"
     ]
    }
   ],
   "source": [
    "async def assistant_run_stream() -> None:\n",
    "    # Option 1: read each message from the stream (as shown in the previous example).\n",
    "    # async for message in agent.run_stream(task=\"Find information on AutoGen\"):\n",
    "    #     print(message)\n",
    "\n",
    "    # Option 2: use Console to print all messages as they appear.\n",
    "    await Console(\n",
    "        agent.run_stream(task=\"Find information on AutoGen\"),\n",
    "        output_stats=True,  # Enable stats printing.\n",
    "    )\n",
    "\n",
    "# Use asyncio.run(assistant_run_stream()) when running in a script.\n",
    "await assistant_run_stream()"
   ]
  },
  {
   "cell_type": "code",
   "execution_count": null,
   "id": "50614976-ed14-4c2e-8f9f-5a21f9be0e65",
   "metadata": {},
   "outputs": [],
   "source": []
  },
  {
   "cell_type": "markdown",
   "id": "1107c36c-3bef-4bfe-978f-b2b8823b57f2",
   "metadata": {},
   "source": [
    "### Using Tools and Workbench\n",
    "\n",
    "In AgentChat, the [AssistantAgent](https://microsoft.github.io/autogen/stable/reference/python/autogen_agentchat.agents.html#autogen_agentchat.agents.AssistantAgent) can use tools to perform specific actions. The `web_search` tool is one such tool that allows the assistant agent to search the web for information. A single custom tool can be a Python function or a subclass of the [BaseTool](https://microsoft.github.io/autogen/stable/reference/python/autogen_core.tools.html#autogen_core.tools.BaseTool).\n",
    "\n",
    "On the other hand, a [Workbench](https://microsoft.github.io/autogen/stable/reference/python/autogen_core.tools.html#autogen_core.tools.Workbench) is a collection of tools that share state and resources.\n",
    "\n",
    "AutoGen Extension provides a set of built-in tools that can be used with the Assistant Agent. Head over to the API documentation for all the available tools under the `autogen_ext.tools` namespace. For example, you can find the following tools:\n",
    "- [graphrag](https://microsoft.github.io/autogen/stable/reference/python/autogen_ext.tools.graphrag.html#module-autogen_ext.tools.graphrag): Tools for using GraphRAG index.\n",
    "- [http](https://microsoft.github.io/autogen/stable/reference/python/autogen_ext.tools.http.html#module-autogen_ext.tools.http): Tools for making HTTP requests.\n",
    "- [langchain](https://microsoft.github.io/autogen/stable/reference/python/autogen_ext.tools.langchain.html#module-autogen_ext.tools.langchain): Adaptor for using LangChain tools.\n",
    "- [mcp](https://microsoft.github.io/autogen/stable/reference/python/autogen_ext.tools.mcp.html#module-autogen_ext.tools.mcp): Tools and workbench for using Model Chat Protocol (MCP) servers.\n",
    "\n",
    "\n",
    "The `AssistantAgent` automatically converts a Python function into a [FunctionTool](https://microsoft.github.io/autogen/stable/reference/python/autogen_core.tools.html#autogen_core.tools.FunctionTool) which can be used as a tool by the agent and automatically generates the tool schema from the function signature and docstring.\n",
    "\n",
    "The `web_search_func` tool is an example of a function tool. The schema is automatically generated."
   ]
  },
  {
   "cell_type": "code",
   "execution_count": 17,
   "id": "7324844d-f174-42df-92ae-2843355f4f7a",
   "metadata": {},
   "outputs": [
    {
     "data": {
      "text/plain": [
       "{'name': 'web_search_func',\n",
       " 'description': 'Find information on the web',\n",
       " 'parameters': {'type': 'object',\n",
       "  'properties': {'query': {'description': 'query',\n",
       "    'title': 'Query',\n",
       "    'type': 'string'}},\n",
       "  'required': ['query'],\n",
       "  'additionalProperties': False},\n",
       " 'strict': False}"
      ]
     },
     "execution_count": 17,
     "metadata": {},
     "output_type": "execute_result"
    }
   ],
   "source": [
    "from autogen_core.tools import FunctionTool\n",
    "\n",
    "# Define a tool using a Python function.\n",
    "async def web_search_func(query: str) -> str:\n",
    "    \"\"\"Find information on the web\"\"\"\n",
    "    return \"AutoGen is a programming framework for building multi-agent applications.\"\n",
    "\n",
    "# This step is automatically performed inside the AssistantAgent if the tool is a Python function.\n",
    "web_search_function_tool = FunctionTool(web_search_func,\n",
    "                                        description=\"Find information on the web\"\n",
    "                                       )\n",
    "\n",
    "# The schema is provided to the model during AssistantAgent's on_messages call.\n",
    "web_search_function_tool.schema"
   ]
  },
  {
   "cell_type": "markdown",
   "id": "92fc95de-1003-47b8-857d-9d2da1f179cd",
   "metadata": {},
   "source": [
    "The [AssistantAgent](https://microsoft.github.io/autogen/stable/reference/python/autogen_agentchat.agents.html#autogen_agentchat.agents.AssistantAgent) can also use tools that are served from a Model Context Protocol (MCP) server using [McpWorkbench()](https://microsoft.github.io/autogen/stable/reference/python/autogen_ext.tools.mcp.html#autogen_ext.tools.mcp.McpWorkbench)."
   ]
  },
  {
   "cell_type": "code",
   "execution_count": null,
   "id": "4849d528-cb05-4a22-8df2-62a445c1b54b",
   "metadata": {},
   "outputs": [],
   "source": [
    "from autogen_ext.tools.mcp import McpWorkbench, StdioServerParams\n",
    "\n",
    "# Get the fetch tool from mcp-server-fetch.\n",
    "fetch_mcp_server = StdioServerParams(command=\"uvx\", args=[\"mcp-server-fetch\"])\n",
    "\n",
    "# Create an MCP workbench which provides a session to the mcp server.\n",
    "async with McpWorkbench(fetch_mcp_server) as workbench:\n",
    "\n",
    "    fetch_agent = AssistantAgent(name=\"fetcher\",\n",
    "                                 model_client=model_client,\n",
    "                                 workbench=workbench,\n",
    "                                 reflect_on_tool_use=True\n",
    "                                )\n",
    "    \n",
    "    # Let the agent fetch the content of a URL and summarize it.\n",
    "    result = await fetch_agent.run(task=\"Summarize the content of https://en.wikipedia.org/wiki/Seattle\")\n",
    "    assert isinstance(result.messages[-1], TextMessage)\n",
    "    print(result.messages[-1].content)\n",
    "\n",
    "    # Close the connection to the model client.\n",
    "    await model_client.close()"
   ]
  },
  {
   "cell_type": "markdown",
   "id": "29fec0d9-b788-4e3c-8139-52a48675f73f",
   "metadata": {},
   "source": [
    "### Agent as a Tool\n",
    "\n",
    "Any [BaseChatAgent](https://microsoft.github.io/autogen/stable/reference/python/autogen_agentchat.agents.html#autogen_agentchat.agents.BaseChatAgent) can be used as a tool by wrapping it in a [AgentTool](https://microsoft.github.io/autogen/stable/reference/python/autogen_agentchat.tools.html#autogen_agentchat.tools.AgentTool). This allows for a dynamic, model-driven multi-agent workflow where the agent can call other agents as tools to solve tasks."
   ]
  },
  {
   "cell_type": "markdown",
   "id": "48740bbb-acdf-4b28-bae8-4ac5d5c8e7fd",
   "metadata": {},
   "source": [
    "### Parallel Tool Calls\n",
    "\n",
    "Some models support parallel tool calls, which can be useful for tasks that require multiple tools to be called simultaneously. **By default, if the model client produces multiple tool calls, [AssistantAgent](https://microsoft.github.io/autogen/stable/reference/python/autogen_agentchat.agents.html#autogen_agentchat.agents.AssistantAgent) will call the tools in parallel.**\n",
    "\n",
    "You may want to disable parallel tool calls when the tools have side effects that may interfere with each other, or, when agent behavior needs to be consistent across different models. This should be done at the model client level.\n",
    "\n",
    "For [OpenAIChatCompletionClient](https://microsoft.github.io/autogen/stable/reference/python/autogen_ext.models.openai.html#autogen_ext.models.openai.OpenAIChatCompletionClient) and [AzureOpenAIChatCompletionClient](https://microsoft.github.io/autogen/stable/reference/python/autogen_ext.models.openai.html#autogen_ext.models.openai.AzureOpenAIChatCompletionClient) , set `parallel_tool_calls=False` to disable parallel tool calls.\n",
    "\n",
    "```python\n",
    "model_client_no_parallel_tool_call = OpenAIChatCompletionClient(\n",
    "    model=\"gpt-4o\",\n",
    "    parallel_tool_calls=False,  # type: ignore\n",
    ")\n",
    "\n",
    "agent_no_parallel_tool_call = AssistantAgent(\n",
    "    name=\"assistant\",\n",
    "    model_client=model_client_no_parallel_tool_call,\n",
    "    tools=[web_search],\n",
    "    system_message=\"Use tools to solve tasks.\",\n",
    ")\n",
    "```"
   ]
  },
  {
   "cell_type": "markdown",
   "id": "1d6a65ad-cb25-4cca-a440-87417e6aa7f3",
   "metadata": {},
   "source": [
    "### Tool Iterations\n",
    "\n",
    "One model call followed by one tool call or parallel tool calls is a single tool iteration. By default, the AssistantAgent will execute at most one iteration.\n",
    "\n",
    "The agent can be configured to execute multiple iterations until the model stops generating tool calls or the maximum number of iterations is reached. You can control the maximum number of iterations by setting the max_tool_iterations parameter in the AssistantAgent constructor.\n",
    "\n",
    "```python\n",
    "agent_loop = AssistantAgent(\n",
    "    name=\"assistant_loop\",\n",
    "    model_client=model_client_no_parallel_tool_call,\n",
    "    tools=[web_search],\n",
    "    system_message=\"Use tools to solve tasks.\",\n",
    "    max_tool_iterations=10,  # At most 10 iterations of tool calls before stopping the loop.\n",
    ")\n",
    "```"
   ]
  },
  {
   "cell_type": "markdown",
   "id": "f3c89f18-f6f2-4a03-a35b-e6f982f63e4c",
   "metadata": {},
   "source": [
    "### Structured Output\n",
    "\n",
    "Structured output allows models to return structured JSON text with pre-defined schema provided by the application. Different from JSON-mode, the schema can be provided as a [Pydantic BaseModel](https://docs.pydantic.dev/latest/concepts/models/) class, which can also be used to validate the output.\n",
    "\n",
    "Once you specify the base model class in the `output_content_type` parameter of the [AssistantAgent](https://microsoft.github.io/autogen/stable/reference/python/autogen_agentchat.agents.html#autogen_agentchat.agents.AssistantAgent) constructor, the agent will respond with a [StructuredMessage](https://microsoft.github.io/autogen/stable/reference/python/autogen_agentchat.messages.html#autogen_agentchat.messages.StructuredMessage) whose `content`’s type is the type of the base model class.\n",
    "\n",
    "This way, you can integrate agent’s response directly into your application and use the model’s output as a structured object.\n",
    "\n",
    "**⚠️ Warning:** *When the `output_content_type` is set, it by default requires the agent to reflect on the tool use and return the a structured output message based on the tool call result. You can disable this behavior by setting `reflect_on_tool_use=False` explictly.*\n",
    "\n",
    "Structured output is also useful for incorporating Chain-of-Thought reasoning in the agent’s responses. See the example below for how to use structured output with the assistant agent."
   ]
  },
  {
   "cell_type": "code",
   "execution_count": 21,
   "id": "e30784bf-73eb-49ae-9fbb-c24db821fb6c",
   "metadata": {},
   "outputs": [
    {
     "name": "stdout",
     "output_type": "stream",
     "text": [
      "---------- TextMessage (user) ----------\n",
      "I am happy.\n",
      "---------- StructuredMessage[AgentResponse] (assistant) ----------\n",
      "{\"thoughts\":\"The user expressed happiness.\",\"response\":\"happy\"}\n",
      "Thought:  The user expressed happiness.\n",
      "Response:  happy\n"
     ]
    }
   ],
   "source": [
    "from typing import Literal\n",
    "from pydantic import BaseModel\n",
    "from autogen_agentchat.messages import StructuredMessage\n",
    "\n",
    "# The response format for the agent as a Pydantic base model.\n",
    "class AgentResponse(BaseModel):\n",
    "    thoughts: str\n",
    "    response: Literal[\"happy\",\"sad\",\"neutral\"]\n",
    "\n",
    "# Create an agent that uses the OpenAI GPT-4o model.\n",
    "agent = AssistantAgent(name=\"assistant\",\n",
    "                       model_client=model_client,\n",
    "                       system_message=\"Categorize the input as happy, sad, or neutral following the JSON format.\",\n",
    "                       # Define the output content type of the agent\n",
    "                       output_content_type=AgentResponse\n",
    "                      )\n",
    "\n",
    "result = await Console(agent.run_stream(task=\"I am happy.\"))\n",
    "\n",
    "# Check the last message in the result, validate its type, and print the thoughts and response.\n",
    "assert isinstance(result.messages[-1], StructuredMessage)\n",
    "assert isinstance(result.messages[-1].content, AgentResponse)\n",
    "print(\"Thought: \", result.messages[-1].content.thoughts)\n",
    "print(\"Response: \", result.messages[-1].content.response)\n",
    "#await model_client.close()"
   ]
  },
  {
   "cell_type": "markdown",
   "id": "c0d9a314-320c-4ce8-af89-c94951fc5330",
   "metadata": {},
   "source": [
    "### Streaming Tokens\n",
    "\n",
    "You can stream the tokens generated by the model client by setting `model_client_stream=True`. This will cause the agent to yield ModelClientStreamingChunkEvent messages in run_stream().\n",
    "\n",
    "The underlying model API must support streaming tokens for this to work. Please check with your model provider to see if this is supported.\n",
    "\n",
    "```python\n",
    "model_client = OpenAIChatCompletionClient(model=\"gpt-4o\")\n",
    "\n",
    "streaming_assistant = AssistantAgent(\n",
    "    name=\"assistant\",\n",
    "    model_client=model_client,\n",
    "    system_message=\"You are a helpful assistant.\",\n",
    "    model_client_stream=True,  # Enable streaming tokens.\n",
    ")\n",
    "\n",
    "# Use an async function and asyncio.run() in a script.\n",
    "async for message in streaming_assistant.run_stream(task=\"Name two cities in South America\"):  # type: ignore\n",
    "    print(message)\n",
    "```"
   ]
  },
  {
   "cell_type": "markdown",
   "id": "28712e50-bb76-43ac-90ee-6f0369eb61de",
   "metadata": {},
   "source": [
    "You can see the streaming chunks in the output above. The chunks are generated by the model client and are yielded by the agent as they are received. The final response, the concatenation of all the chunks, is yielded right after the last chunk."
   ]
  },
  {
   "cell_type": "markdown",
   "id": "17dc6232-ebfa-4b7a-9518-466d59daf3d6",
   "metadata": {},
   "source": [
    "### Using Model Context\n",
    "\n",
    "`AssistantAgent` has a `model_context` parameter that can be used to pass in a [ChatCompletionContext](https://microsoft.github.io/autogen/stable/reference/python/autogen_core.model_context.html#autogen_core.model_context.ChatCompletionContext) object. This allows the agent to use different model contexts, such as [BufferedChatCompletionContext](https://microsoft.github.io/autogen/stable/reference/python/autogen_core.model_context.html#autogen_core.model_context.BufferedChatCompletionContext) to limit the context sent to the model.\n",
    "\n",
    "By default, `AssistantAgent` uses the [UnboundedChatCompletionContext](https://microsoft.github.io/autogen/stable/reference/python/autogen_core.model_context.html#autogen_core.model_context.UnboundedChatCompletionContext) which sends the full conversation history to the model. To limit the context to the last `n` messages, you can use the [BufferedChatCompletionContext](https://microsoft.github.io/autogen/stable/reference/python/autogen_core.model_context.html#autogen_core.model_context.BufferedChatCompletionContext). To limit the context by token count, you can use the [TokenLimitedChatCompletionContext](https://microsoft.github.io/autogen/stable/reference/python/autogen_core.model_context.html#autogen_core.model_context.TokenLimitedChatCompletionContext).\n",
    "\n",
    "```python\n",
    "from autogen_core.model_context import BufferedChatCompletionContext\n",
    "\n",
    "# Create an agent that uses only the last 5 messages in the context to generate responses.\n",
    "agent = AssistantAgent(\n",
    "    name=\"assistant\",\n",
    "    model_client=model_client,\n",
    "    tools=[web_search],\n",
    "    system_message=\"Use tools to solve tasks.\",\n",
    "    model_context=BufferedChatCompletionContext(buffer_size=5),  # Only use the last 5 messages in the context.\n",
    ")\n",
    "```"
   ]
  },
  {
   "cell_type": "markdown",
   "id": "8d2b0181-c659-4a9f-abd6-1bcf867d904c",
   "metadata": {},
   "source": [
    "## UserProxyAgent\n",
    "\n",
    "An agent that can represent a human user through an input function. This agent can be used to represent a human user in a chat system by providing a custom input function.\n",
    "\n",
    "**⚠️ Warning:** *Using `UserProxyAgent` puts a running team in a temporary blocked state until the user responds. So it is important to time out the user input function and cancel using the `CancellationToken` if the user does not respond. The input function should also handle exceptions and return a default response if needed. For typical use cases that involve slow human responses, it is recommended to use termination conditions such as `HandoffTermination` or `SourceMatchTermination` to stop the running team and return the control to the application. You can run the team again with the user input. This way, the state of the team can be saved and restored when the user responds. See Human-in-the-loop for more information.*"
   ]
  },
  {
   "cell_type": "code",
   "execution_count": 1,
   "id": "d318f4b2-e702-4f0c-a237-5f0e3b5e5fcb",
   "metadata": {},
   "outputs": [],
   "source": [
    "import asyncio\n",
    "from autogen_core import CancellationToken\n",
    "from autogen_agentchat.agents import UserProxyAgent"
   ]
  },
  {
   "cell_type": "code",
   "execution_count": null,
   "id": "ddaf7cd4-70b8-4566-8fd3-00d694e25fb9",
   "metadata": {},
   "outputs": [],
   "source": []
  },
  {
   "cell_type": "code",
   "execution_count": 3,
   "id": "aa547e6d-a1c5-4a55-912c-d56bacf936fc",
   "metadata": {},
   "outputs": [
    {
     "name": "stdin",
     "output_type": "stream",
     "text": [
      "Enter your response:  What is Autogen?\n"
     ]
    },
    {
     "data": {
      "text/plain": [
       "TaskResult(messages=[TextMessage(id='8e31ea3a-748e-49b1-8079-254aa161a608', source='user', models_usage=None, metadata={}, created_at=datetime.datetime(2025, 7, 27, 8, 2, 54, 606389, tzinfo=datetime.timezone.utc), content='Enter your query:', type='TextMessage'), TextMessage(id='b0467936-e94b-4129-9a4b-a76359978fc4', source='user_proxy', models_usage=None, metadata={}, created_at=datetime.datetime(2025, 7, 27, 8, 3, 0, 706607, tzinfo=datetime.timezone.utc), content='What is Autogen?', type='TextMessage')], stop_reason=None)"
      ]
     },
     "execution_count": 3,
     "metadata": {},
     "output_type": "execute_result"
    }
   ],
   "source": [
    "user_proxy = UserProxyAgent(\"user_proxy\")\n",
    "    \n",
    "# Create cancellation token with timeout\n",
    "cancellation_token = CancellationToken()\n",
    "\n",
    "res = await user_proxy.run(task=\"Enter your query:\",cancellation_token=cancellation_token)\n",
    "\n",
    "res"
   ]
  },
  {
   "cell_type": "code",
   "execution_count": 2,
   "id": "49907551-4dfc-49a9-aa0c-24057b44db06",
   "metadata": {},
   "outputs": [
    {
     "name": "stdout",
     "output_type": "stream",
     "text": [
      "User input timed out\n"
     ]
    },
    {
     "name": "stdin",
     "output_type": "stream",
     "text": [
      "Enter your response:  \n"
     ]
    }
   ],
   "source": [
    "# Timeout Example\n",
    "\n",
    "user_proxy = UserProxyAgent(\"user_proxy\")\n",
    "\n",
    "cancellation_token = CancellationToken()\n",
    "\n",
    "# Create cancellation token with timeout\n",
    "cancellation_token = CancellationToken()\n",
    "try:\n",
    "    result = await asyncio.wait_for(\n",
    "            user_proxy.run(\n",
    "                task=\"Enter your choice (you have 5 seconds):\",\n",
    "                cancellation_token=cancellation_token\n",
    "            ),\n",
    "            timeout=5.0\n",
    "        )\n",
    "    print(f\"User responded: {result.messages[-1].content}\")\n",
    "except asyncio.TimeoutError:\n",
    "    print(\"User input timed out\")"
   ]
  },
  {
   "cell_type": "code",
   "execution_count": null,
   "id": "5556553d-f5ae-4678-8acd-5d9f1b678e05",
   "metadata": {},
   "outputs": [],
   "source": []
  },
  {
   "cell_type": "markdown",
   "id": "45118b9a-51be-45ea-a8e7-6885ba4207c5",
   "metadata": {},
   "source": [
    "## CodeExecutorAgent\n",
    "\n",
    "(Experimental) An agent that generates and executes code snippets based on user instructions.\n",
    "\n",
    "It is typically used within a team with another agent that generates code snippets to be executed or alone with `model_client` provided so that it can generate code based on user query, execute it and reflect on the code result.\n",
    "\n",
    "When used with `model_client`, it will generate code snippets using the model and execute them using the provided code_executor. The model will also reflect on the code execution results. The agent will yield the final reflection result from the model as the final response.\n",
    "\n",
    "When used without model_client, it will only execute code blocks found in TextMessage messages and returns the output of the code execution."
   ]
  },
  {
   "cell_type": "markdown",
   "id": "cbd2906f-8191-4875-b3dc-c0bc69e4737a",
   "metadata": {},
   "source": [
    "## MultimodalWebSurfer\n",
    "\n",
    "MultimodalWebSurfer is a multimodal agent that acts as a web surfer that can search the web and visit web pages. Insallation: `uv add \"autogen-ext[web-surfer]\"` and `playwright install`. It launches a chromium browser and allows the playwright to interact with the web browser and can perform a variety of actions. The browser is launched on the first call to the agent and is reused for subsequent calls. It must be used with a multimodal model client that supports function/tool calling, ideally GPT-4o currently."
   ]
  },
  {
   "cell_type": "code",
   "execution_count": 4,
   "id": "81442647-34e9-4eb3-a190-2cc8572164ff",
   "metadata": {},
   "outputs": [
    {
     "name": "stdout",
     "output_type": "stream",
     "text": [
      "Web surfer response:\n",
      "- Search for the latest news about artificial intelligence and summarize the top 3 articles\n",
      "- web_search( {\"reasoning\": \"Searching for the latest news about artificial intelligence.\", \"query\": \"latest news about artificial intelligence\"} )\n",
      "- ['I typed \\'latest news about artificial intelligence\\' into the browser search bar.\\n\\nThe web browser is open to the page [latest news about artificial intelligence - Tìm kiếm](https://www.bing.com/search?q=latest+news+about+artificial+intelligence&FORM=QBLH).\\nThe viewport shows 36% of the webpage, and is positioned at the top of the page\\nThe following text is visible in the viewport:\\n\\nBỏ qua tới phần Nội dung\\nlatest news about artificial intelligenceEnglishDi độngTất cả\\nTìm kiếm\\nHình ảnh\\nVideo\\nBản đồ\\nCopilot\\nXem thêm\\nCông cụ\\nTrả lời của Copilot\\nEWN\\n · 2 giờ\\nUCT to begin implementing its new Artificial Intelligence in education framework\\nThe tool was previously used to analyse student submissions for potential use of generative ai and plagiarism.\\nTin tức về \\nArtificial IntelligenceThe Motley Fool on MSN\\n · 18 giờ\\n2 Artificial Intelligence (AI) Stocks With High Conviction\\nThe Motley Fool on MSN\\n · 19 giờ\\nThis Artificial Intelligence (AI) Stock Has Big Potential and a Surprisingly Low Price\\nEC&M\\n · 1 ngày\\nThe Future of Artificial Intelligence in the Construction Industry\\n02:06\\nUsing AI to monitor air quality for safer schools in Laos | REUTERS\\nYouTubeReuters825 lượt xem1 ngày trướcWill Ai be a dominant technology in 2028?\\nThe report comes as the US and China engage in intense competition in the rapidly evolving AI landscape, with both nations vying for technological dominance. Gartner predicts at least 15% of day-to-day work decisions will be made autonomously through agentic AI by 2028, up from 0% in 2024.\\nindianexpress.com\\nArtificial Intelligence: Read latest updates on AI like \\nGoogle AI, ChatGPT, Google Lamda, Bard chatbot and more along with latest news as AI technology advances and makes new progress.\\nArtificial Intelligence: Read latest news updates on AI technologyindianexpress.com/section/technology/artificial-intelligence/\\nMục này có hữu ích không?\\nTechCrunch\\n\\nThe following metadata was extracted from the webpage:\\n\\n{\\n    \"meta_tags\": {\\n        \"referrer\": \"origin-when-cross-origin\",\\n        \"SystemEntropyOriginTrialToken\": \"A5is4nwJJVnhaJpUr1URgj4vvAXSiHoK0VBbM9fawMskbDUj9WUREpa3JzGAo6xd1Cp2voQEG1h6NQ71AsMznU8AAABxeyJvcmlnaW4iOiJodHRwczovL3d3dy5iaW5nLmNvbTo0NDMiLCJmZWF0dXJlIjoiTXNVc2VyQWdlbnRMYXVuY2hOYXZUeXBlIiwiZXhwaXJ5IjoxNzUzNzQ3MjAwLCJpc1N1YmRvbWFpbiI6dHJ1ZX0=\",\\n        \"ConfidenceOriginTrialToken\": \"Aqw360MHzRcmtEVv55zzdIWcTk2BBYHcdBAOysNJZP4qkN8M+5vUq36ITHFVst8LiX36KBZJXB8xvyBgdK2z5Q0AAAB6eyJvcmlnaW4iOiJodHRwczovL2JpbmcuY29tOjQ0MyIsImZlYXR1cmUiOiJQZXJmb3JtYW5jZU5hdmlnYXRpb25UaW1pbmdDb25maWRlbmNlIiwiZXhwaXJ5IjoxNzYwNDAwMDAwLCJpc1N1YmRvbWFpbiI6dHJ1ZX0=\",\\n        \"og:description\": \"T\\\\u00ecm ki\\\\u1ebfm th\\\\u00f4ng minh t\\\\u1eeb Bing gi\\\\u00fap b\\\\u1ea1n d\\\\u1ec5 d\\\\u00e0ng t\\\\u00ecm th\\\\u1ea5y nh\\\\u1eefng g\\\\u00ec b\\\\u1ea1n \\\\u0111ang t\\\\u00ecm ki\\\\u1ebfm h\\\\u01a1n v\\\\u00e0 trao th\\\\u01b0\\\\u1edfng cho b\\\\u1ea1n.\",\\n        \"og:site_name\": \"Bing\",\\n        \"og:title\": \"latest news about artificial intelligence - Bing\",\\n        \"og:url\": \"https://www.bing.com/search?q=latest+news+about+artificial+intelligence&FORM=QBLH\",\\n        \"fb:app_id\": \"3732605936979161\",\\n        \"og:image\": \"http://www.bing.com/sa/simg/facebook_sharing_5.png\",\\n        \"og:type\": \"website\",\\n        \"og:image:width\": \"600\",\\n        \"og:image:height\": \"315\"\\n    }\\n}\\n\\nHere is a screenshot of the page.', <autogen_core._image.Image object at 0x7f2845ab1460>]\n"
     ]
    }
   ],
   "source": [
    "import asyncio\n",
    "from autogen_ext.agents.web_surfer import MultimodalWebSurfer\n",
    "from autogen_ext.models.openai import OpenAIChatCompletionClient\n",
    "\n",
    "async def basic_web_surfer_example():\n",
    "    # Create model client (requires multimodal model like GPT-4o)\n",
    "    model_client = OpenAIChatCompletionClient(\n",
    "        model=MODEL_NAME,\n",
    "        api_key=os.getenv(\"OPENAI_API_KEY\")\n",
    "    )\n",
    "    \n",
    "    # Create web surfer agent\n",
    "    web_surfer = MultimodalWebSurfer(\n",
    "        name=\"web_surfer\",\n",
    "        model_client=model_client,\n",
    "        headless=True,  # Run browser in headless mode\n",
    "        start_page=\"https://www.bing.com/\"  # Starting page\n",
    "    )\n",
    "    \n",
    "    try:\n",
    "        # Search for information\n",
    "        result = await web_surfer.run(\n",
    "            task=\"Search for the latest news about artificial intelligence and summarize the top 3 articles\"\n",
    "        )\n",
    "        \n",
    "        print(\"Web surfer response:\")\n",
    "        for message in result.messages:\n",
    "            if hasattr(message, 'content'):\n",
    "                print(f\"- {message.content}\")\n",
    "                \n",
    "    finally:\n",
    "        # Always close the browser when done\n",
    "        await web_surfer.close()\n",
    "\n",
    "# Run the example\n",
    "await basic_web_surfer_example()"
   ]
  },
  {
   "cell_type": "code",
   "execution_count": null,
   "id": "d85e4ed1-db37-48a5-b6f7-bb8400efcec5",
   "metadata": {},
   "outputs": [],
   "source": []
  }
 ],
 "metadata": {
  "kernelspec": {
   "display_name": "Python 3 (ipykernel)",
   "language": "python",
   "name": "python3"
  },
  "language_info": {
   "codemirror_mode": {
    "name": "ipython",
    "version": 3
   },
   "file_extension": ".py",
   "mimetype": "text/x-python",
   "name": "python",
   "nbconvert_exporter": "python",
   "pygments_lexer": "ipython3",
   "version": "3.12.11"
  }
 },
 "nbformat": 4,
 "nbformat_minor": 5
}
