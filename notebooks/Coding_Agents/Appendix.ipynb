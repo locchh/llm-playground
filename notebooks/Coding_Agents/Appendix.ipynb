{
 "cells": [
  {
   "cell_type": "markdown",
   "id": "09c70a74-b45f-4ce0-b6c9-0c2cecb5d6cd",
   "metadata": {},
   "source": [
    "## 💻 &nbsp; Prompts for lessons 7-10:\n",
    "\n",
    "**📚 &nbsp; L7: Wikipedia Analysis App – Data Analysis**\n",
    "\n",
    "Write a script that takes in a wikipedia category as a command line argument and outputs the cumulative frequency of non-common words across all of the pages in that category, and then run it on \"Large_language_models.\" Use the MediaWiki API.\n",
    "\n",
    "**📚 &nbsp; L8: Wikipedia Analysis App – Caching**\n",
    "\n",
    "[First prompt] Create a local cache of page results so that we aren't rerunning the retrieval logic for the same category\n",
    "[Second prompt] Create a local cache of the script's results so that we aren't rerunning the processing logic for the same category\n",
    "\n",
    "**📚 &nbsp; L9: Wikipedia Analysis App – Fullstack App**\n",
    "\n",
    "Create a webpage that loads from the results cache (if available, otherwise computes the frequencies from scratch) and displays a word cloud where the sizes of the words are proportional to frequency. Use HTML, javascript, and Flask.\n",
    "[Command] create a ColorPalette class that would contain 6 hex colors, and a bunch of common color palettes that extend the class\n",
    "\n",
    "Integrate @get_all_color_palettes into the word cloud app. Make the color palettes selectable in a drop down and display the colors being used.\n",
    "\n",
    "**📚 &nbsp; L10: Wikipedia Analysis App – Polish**\n",
    "\n",
    "Add raw frequencies to the app as shown in the image.\n"
   ]
  },
  {
   "cell_type": "markdown",
   "id": "2b874e72-56f8-4b8d-bfe2-abfb6e86d5bf",
   "metadata": {},
   "source": [
    "## 🧑‍💻 &nbsp; Repos used in the course\n",
    "\n",
    "**📚 &nbsp; L3 Repo – Fixing Tests Automatically**\n",
    "\n",
    "- https://github.com/Exafunction/windsurf-demo\n",
    "\n",
    "**📚 &nbsp; L6 Repo – Understanding Large Codebases**\n",
    "\n",
    "- https://github.com/ddd-by-examples/library\n"
   ]
  }
 ],
 "metadata": {
  "kernelspec": {
   "display_name": "Python 3 (ipykernel)",
   "language": "python",
   "name": "python3"
  },
  "language_info": {
   "codemirror_mode": {
    "name": "ipython",
    "version": 3
   },
   "file_extension": ".py",
   "mimetype": "text/x-python",
   "name": "python",
   "nbconvert_exporter": "python",
   "pygments_lexer": "ipython3",
   "version": "3.9.19"
  }
 },
 "nbformat": 4,
 "nbformat_minor": 5
}
