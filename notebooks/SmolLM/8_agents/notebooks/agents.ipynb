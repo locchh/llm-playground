{
 "cells": [
  {
   "cell_type": "markdown",
   "id": "a7803915-d6c9-4227-aaac-fc5d3a8fcd80",
   "metadata": {},
   "source": [
    "### Building AI Agents\n",
    "\n",
    "This notebook contains exercises to help you learn how to build different types of agents using the smolagents library. We'll progress from basic to more complex implementations."
   ]
  },
  {
   "cell_type": "markdown",
   "id": "adf126ae-cec4-4fae-b492-f3e1ac28eda1",
   "metadata": {},
   "source": [
    "### Setup\n",
    "\n",
    "First, let's install the required packages:\n",
    "\n",
    "```bash\n",
    "!pip install smolagents\n",
    "```"
   ]
  },
  {
   "cell_type": "code",
   "execution_count": 2,
   "id": "2c05c935-eb89-4e5a-b5c3-3e4df9f15a25",
   "metadata": {},
   "outputs": [
    {
     "name": "stdout",
     "output_type": "stream",
     "text": [
      "Name: smolagents\n",
      "Version: 1.11.0\n",
      "Summary: 🤗 smolagents: a barebones library for agents. Agents write python code to call tools or orchestrate other agents.\n",
      "Home-page: \n",
      "Author: Thomas Wolf\n",
      "Author-email: Aymeric Roucher <aymeric@hf.co>\n",
      "License: \n",
      "Location: /home/loc/miniconda3/envs/py3x/lib/python3.10/site-packages\n",
      "Requires: duckduckgo-search, huggingface-hub, jinja2, markdownify, pandas, pillow, python-dotenv, requests, rich\n",
      "Required-by: \n"
     ]
    }
   ],
   "source": [
    "!pip show smolagents"
   ]
  },
  {
   "cell_type": "code",
   "execution_count": 3,
   "id": "da228ea9-642b-45ab-8115-df7c32821d2b",
   "metadata": {},
   "outputs": [
    {
     "name": "stdout",
     "output_type": "stream",
     "text": [
      "True\n",
      "Tesla P40\n"
     ]
    }
   ],
   "source": [
    "import os\n",
    "os.environ[\"CUDA_VISIBLE_DEVICES\"] = \"0\"\n",
    "\n",
    "import torch\n",
    "print(torch.cuda.is_available())\n",
    "print(torch.cuda.get_device_name())"
   ]
  },
  {
   "cell_type": "markdown",
   "id": "3bdb24f2-7804-4a8a-b51e-3fb54adf68d4",
   "metadata": {},
   "source": [
    "### 🐢 Exercise 1: Basic Code Agent\n",
    "\n",
    "Let's start by creating a simple code agent that can answer programming-related questions using web search."
   ]
  },
  {
   "cell_type": "code",
   "execution_count": 5,
   "id": "606d57ce-fb6b-4cb2-8b82-468f81865a65",
   "metadata": {},
   "outputs": [
    {
     "data": {
      "text/html": [
       "<pre style=\"white-space:pre;overflow-x:auto;line-height:normal;font-family:Menlo,'DejaVu Sans Mono',consolas,'Courier New',monospace\"><span style=\"color: #d4b702; text-decoration-color: #d4b702\">╭──────────────────────────────────────────────────── </span><span style=\"color: #d4b702; text-decoration-color: #d4b702; font-weight: bold\">New run</span><span style=\"color: #d4b702; text-decoration-color: #d4b702\"> ────────────────────────────────────────────────────╮</span>\n",
       "<span style=\"color: #d4b702; text-decoration-color: #d4b702\">│</span>                                                                                                                 <span style=\"color: #d4b702; text-decoration-color: #d4b702\">│</span>\n",
       "<span style=\"color: #d4b702; text-decoration-color: #d4b702\">│</span> <span style=\"font-weight: bold\">What's the difference between a list and a tuple in Python?</span>                                                     <span style=\"color: #d4b702; text-decoration-color: #d4b702\">│</span>\n",
       "<span style=\"color: #d4b702; text-decoration-color: #d4b702\">│</span>                                                                                                                 <span style=\"color: #d4b702; text-decoration-color: #d4b702\">│</span>\n",
       "<span style=\"color: #d4b702; text-decoration-color: #d4b702\">╰─ HfApiModel - Qwen/Qwen2.5-Coder-32B-Instruct ──────────────────────────────────────────────────────────────────╯</span>\n",
       "</pre>\n"
      ],
      "text/plain": [
       "\u001b[38;2;212;183;2m╭─\u001b[0m\u001b[38;2;212;183;2m───────────────────────────────────────────────────\u001b[0m\u001b[38;2;212;183;2m \u001b[0m\u001b[1;38;2;212;183;2mNew run\u001b[0m\u001b[38;2;212;183;2m \u001b[0m\u001b[38;2;212;183;2m───────────────────────────────────────────────────\u001b[0m\u001b[38;2;212;183;2m─╮\u001b[0m\n",
       "\u001b[38;2;212;183;2m│\u001b[0m                                                                                                                 \u001b[38;2;212;183;2m│\u001b[0m\n",
       "\u001b[38;2;212;183;2m│\u001b[0m \u001b[1mWhat's the difference between a list and a tuple in Python?\u001b[0m                                                     \u001b[38;2;212;183;2m│\u001b[0m\n",
       "\u001b[38;2;212;183;2m│\u001b[0m                                                                                                                 \u001b[38;2;212;183;2m│\u001b[0m\n",
       "\u001b[38;2;212;183;2m╰─\u001b[0m\u001b[38;2;212;183;2m HfApiModel - Qwen/Qwen2.5-Coder-32B-Instruct \u001b[0m\u001b[38;2;212;183;2m─────────────────────────────────────────────────────────────────\u001b[0m\u001b[38;2;212;183;2m─╯\u001b[0m\n"
      ]
     },
     "metadata": {},
     "output_type": "display_data"
    },
    {
     "data": {
      "text/html": [
       "<pre style=\"white-space:pre;overflow-x:auto;line-height:normal;font-family:Menlo,'DejaVu Sans Mono',consolas,'Courier New',monospace\"><span style=\"color: #d4b702; text-decoration-color: #d4b702\">━━━━━━━━━━━━━━━━━━━━━━━━━━━━━━━━━━━━━━━━━━━━━━━━━━━━━ </span><span style=\"font-weight: bold\">Step </span><span style=\"color: #008080; text-decoration-color: #008080; font-weight: bold\">1</span><span style=\"color: #d4b702; text-decoration-color: #d4b702\"> ━━━━━━━━━━━━━━━━━━━━━━━━━━━━━━━━━━━━━━━━━━━━━━━━━━━━━━</span>\n",
       "</pre>\n"
      ],
      "text/plain": [
       "\u001b[38;2;212;183;2m━━━━━━━━━━━━━━━━━━━━━━━━━━━━━━━━━━━━━━━━━━━━━━━━━━━━━ \u001b[0m\u001b[1mStep \u001b[0m\u001b[1;36m1\u001b[0m\u001b[38;2;212;183;2m ━━━━━━━━━━━━━━━━━━━━━━━━━━━━━━━━━━━━━━━━━━━━━━━━━━━━━━\u001b[0m\n"
      ]
     },
     "metadata": {},
     "output_type": "display_data"
    },
    {
     "data": {
      "text/html": [
       "<pre style=\"white-space:pre;overflow-x:auto;line-height:normal;font-family:Menlo,'DejaVu Sans Mono',consolas,'Courier New',monospace\"> ─ <span style=\"font-weight: bold\">Executing parsed code:</span> ──────────────────────────────────────────────────────────────────────────────────────── \n",
       "  <span style=\"color: #f8f8f2; text-decoration-color: #f8f8f2; background-color: #272822\">difference </span><span style=\"color: #ff4689; text-decoration-color: #ff4689; background-color: #272822\">=</span><span style=\"color: #f8f8f2; text-decoration-color: #f8f8f2; background-color: #272822\"> web_search(query</span><span style=\"color: #ff4689; text-decoration-color: #ff4689; background-color: #272822\">=</span><span style=\"color: #e6db74; text-decoration-color: #e6db74; background-color: #272822\">\"difference between a list and a tuple in Python\"</span><span style=\"color: #f8f8f2; text-decoration-color: #f8f8f2; background-color: #272822\">)</span><span style=\"background-color: #272822\">                               </span>  \n",
       "  <span style=\"color: #f8f8f2; text-decoration-color: #f8f8f2; background-color: #272822\">print(difference)</span><span style=\"background-color: #272822\">                                                                                              </span>  \n",
       " ───────────────────────────────────────────────────────────────────────────────────────────────────────────────── \n",
       "</pre>\n"
      ],
      "text/plain": [
       " ─ \u001b[1mExecuting parsed code:\u001b[0m ──────────────────────────────────────────────────────────────────────────────────────── \n",
       "  \u001b[38;2;248;248;242;48;2;39;40;34mdifference\u001b[0m\u001b[38;2;248;248;242;48;2;39;40;34m \u001b[0m\u001b[38;2;255;70;137;48;2;39;40;34m=\u001b[0m\u001b[38;2;248;248;242;48;2;39;40;34m \u001b[0m\u001b[38;2;248;248;242;48;2;39;40;34mweb_search\u001b[0m\u001b[38;2;248;248;242;48;2;39;40;34m(\u001b[0m\u001b[38;2;248;248;242;48;2;39;40;34mquery\u001b[0m\u001b[38;2;255;70;137;48;2;39;40;34m=\u001b[0m\u001b[38;2;230;219;116;48;2;39;40;34m\"\u001b[0m\u001b[38;2;230;219;116;48;2;39;40;34mdifference between a list and a tuple in Python\u001b[0m\u001b[38;2;230;219;116;48;2;39;40;34m\"\u001b[0m\u001b[38;2;248;248;242;48;2;39;40;34m)\u001b[0m\u001b[48;2;39;40;34m                               \u001b[0m  \n",
       "  \u001b[38;2;248;248;242;48;2;39;40;34mprint\u001b[0m\u001b[38;2;248;248;242;48;2;39;40;34m(\u001b[0m\u001b[38;2;248;248;242;48;2;39;40;34mdifference\u001b[0m\u001b[38;2;248;248;242;48;2;39;40;34m)\u001b[0m\u001b[48;2;39;40;34m                                                                                              \u001b[0m  \n",
       " ───────────────────────────────────────────────────────────────────────────────────────────────────────────────── \n"
      ]
     },
     "metadata": {},
     "output_type": "display_data"
    },
    {
     "data": {
      "text/html": [
       "<pre style=\"white-space:pre;overflow-x:auto;line-height:normal;font-family:Menlo,'DejaVu Sans Mono',consolas,'Courier New',monospace\"><span style=\"font-weight: bold\">Execution logs:</span>\n",
       "## Search Results\n",
       "\n",
       "[Difference Between List and Tuple in Python - \n",
       "GeeksforGeeks](https://www.geeksforgeeks.org/python-difference-between-list-and-tuple/)\n",
       "In Python, lists and tuples both store collections of data, but differ in mutability, performance and memory usage.\n",
       "Lists are mutable, allowing modifications, while tuples are immutable. Choosing between them depends on whether you\n",
       "need to modify the data or prioritize performance and memory efficiency. Key Differences between List and Tuple\n",
       "\n",
       "[python - What's the difference between lists and tuples ... - Stack \n",
       "...](https://stackoverflow.com/questions/626759/whats-the-difference-between-lists-and-tuples)\n",
       "Tuples are heterogeneous data structures (i.e., their entries have different meanings), while lists are homogeneous\n",
       "sequences. Tuples have structure, lists have order. Using this distinction makes code more explicit and \n",
       "understandable. One example would be pairs of page and line number to reference locations in a book, e.g.:\n",
       "\n",
       "[Difference between Tuple and List in Python | Tuples vs Lists](https://pythongeeks.org/tuples-vs-lists/)\n",
       "We will cover the differences between tuples and lists, which also include the use cases. So, let's first begin \n",
       "with the recap! Lists are the collection of heterogeneous values stored in a contiguous memory location. These are \n",
       "mutable, ordered, and allow duplicate values. 1. Declaration of lists in Python.\n",
       "\n",
       "[Lists vs Tuples in Python](https://realpython.com/python-lists-tuples/)\n",
       "The key difference between lists and tuples is that lists are mutable, allowing you to modify them after creation, \n",
       "while tuples are immutable so you can't change them once defined. When would you prefer tuples over lists?\n",
       "\n",
       "[Python Lists Vs Tuples (With Examples) - Programiz](https://www.programiz.com/python-programming/list-vs-tuples)\n",
       "In this article we will learn key differences between the List and Tuples and how to use these two data structure.\n",
       "\n",
       "[Difference between List and Tuples in Python - Online Tutorials \n",
       "Library](https://www.tutorialspoint.com/difference-between-list-and-tuples-in-python)\n",
       "Following are the important differences between List and Tuple −. List is mutable which means its elements can be \n",
       "updated as per requirement. Tuple is immutable which means we can't modify its element once created. List iteration\n",
       "is slower and is time consuming. Tuple iteration is faster. List is useful for insertion and deletion operations.\n",
       "\n",
       "[Python Tuple VS List - What is the Difference? - \n",
       "freeCodeCamp.org](https://www.freecodecamp.org/news/python-tuple-vs-list-what-is-the-difference/)\n",
       "Learn how tuples and lists are similar and different in Python, with examples and explanations. Tuples are \n",
       "immutable and lists are mutable, and they have different syntax and methods.\n",
       "\n",
       "[Python: Differences Between Lists and Tuples - datagy](https://datagy.io/python-list-vs-tuple/)\n",
       "Learn the key differences and similarities between Python lists and tuples, two fundamental container data \n",
       "structures. Lists are mutable, heterogeneous, and can be copied, while tuples are immutable, heterogeneous, and \n",
       "have lower memory consumption.\n",
       "\n",
       "[5 Major Difference Between List and Tuple in Python - \n",
       "CSEStack](https://www.csestack.org/difference-tuple-list-python/)\n",
       "What is the difference between tuple and list in Python? Why is tuple immutable and list mutable? Where to use \n",
       "Tuple and List?\n",
       "\n",
       "[Python Tuple vs List: The Differences Between Tuple and List in \n",
       "Python](https://www.pythontutorial.net/advanced-python/python-tuple-vs-list/)\n",
       "A tuple is immutable while a list is mutable. The storage efficiency of a tuple is greater than a list. Copying a \n",
       "tuple is slightly faster than a list. Use a tuple if you don't intend to mutable it.\n",
       "\n",
       "Out: None\n",
       "</pre>\n"
      ],
      "text/plain": [
       "\u001b[1mExecution logs:\u001b[0m\n",
       "## Search Results\n",
       "\n",
       "[Difference Between List and Tuple in Python - \n",
       "GeeksforGeeks](https://www.geeksforgeeks.org/python-difference-between-list-and-tuple/)\n",
       "In Python, lists and tuples both store collections of data, but differ in mutability, performance and memory usage.\n",
       "Lists are mutable, allowing modifications, while tuples are immutable. Choosing between them depends on whether you\n",
       "need to modify the data or prioritize performance and memory efficiency. Key Differences between List and Tuple\n",
       "\n",
       "[python - What's the difference between lists and tuples ... - Stack \n",
       "...](https://stackoverflow.com/questions/626759/whats-the-difference-between-lists-and-tuples)\n",
       "Tuples are heterogeneous data structures (i.e., their entries have different meanings), while lists are homogeneous\n",
       "sequences. Tuples have structure, lists have order. Using this distinction makes code more explicit and \n",
       "understandable. One example would be pairs of page and line number to reference locations in a book, e.g.:\n",
       "\n",
       "[Difference between Tuple and List in Python | Tuples vs Lists](https://pythongeeks.org/tuples-vs-lists/)\n",
       "We will cover the differences between tuples and lists, which also include the use cases. So, let's first begin \n",
       "with the recap! Lists are the collection of heterogeneous values stored in a contiguous memory location. These are \n",
       "mutable, ordered, and allow duplicate values. 1. Declaration of lists in Python.\n",
       "\n",
       "[Lists vs Tuples in Python](https://realpython.com/python-lists-tuples/)\n",
       "The key difference between lists and tuples is that lists are mutable, allowing you to modify them after creation, \n",
       "while tuples are immutable so you can't change them once defined. When would you prefer tuples over lists?\n",
       "\n",
       "[Python Lists Vs Tuples (With Examples) - Programiz](https://www.programiz.com/python-programming/list-vs-tuples)\n",
       "In this article we will learn key differences between the List and Tuples and how to use these two data structure.\n",
       "\n",
       "[Difference between List and Tuples in Python - Online Tutorials \n",
       "Library](https://www.tutorialspoint.com/difference-between-list-and-tuples-in-python)\n",
       "Following are the important differences between List and Tuple −. List is mutable which means its elements can be \n",
       "updated as per requirement. Tuple is immutable which means we can't modify its element once created. List iteration\n",
       "is slower and is time consuming. Tuple iteration is faster. List is useful for insertion and deletion operations.\n",
       "\n",
       "[Python Tuple VS List - What is the Difference? - \n",
       "freeCodeCamp.org](https://www.freecodecamp.org/news/python-tuple-vs-list-what-is-the-difference/)\n",
       "Learn how tuples and lists are similar and different in Python, with examples and explanations. Tuples are \n",
       "immutable and lists are mutable, and they have different syntax and methods.\n",
       "\n",
       "[Python: Differences Between Lists and Tuples - datagy](https://datagy.io/python-list-vs-tuple/)\n",
       "Learn the key differences and similarities between Python lists and tuples, two fundamental container data \n",
       "structures. Lists are mutable, heterogeneous, and can be copied, while tuples are immutable, heterogeneous, and \n",
       "have lower memory consumption.\n",
       "\n",
       "[5 Major Difference Between List and Tuple in Python - \n",
       "CSEStack](https://www.csestack.org/difference-tuple-list-python/)\n",
       "What is the difference between tuple and list in Python? Why is tuple immutable and list mutable? Where to use \n",
       "Tuple and List?\n",
       "\n",
       "[Python Tuple vs List: The Differences Between Tuple and List in \n",
       "Python](https://www.pythontutorial.net/advanced-python/python-tuple-vs-list/)\n",
       "A tuple is immutable while a list is mutable. The storage efficiency of a tuple is greater than a list. Copying a \n",
       "tuple is slightly faster than a list. Use a tuple if you don't intend to mutable it.\n",
       "\n",
       "Out: None\n"
      ]
     },
     "metadata": {},
     "output_type": "display_data"
    },
    {
     "data": {
      "text/html": [
       "<pre style=\"white-space:pre;overflow-x:auto;line-height:normal;font-family:Menlo,'DejaVu Sans Mono',consolas,'Courier New',monospace\"><span style=\"color: #7f7f7f; text-decoration-color: #7f7f7f\">[Step 1: Duration 5.02 seconds| Input tokens: 2,083 | Output tokens: 72]</span>\n",
       "</pre>\n"
      ],
      "text/plain": [
       "\u001b[2m[Step 1: Duration 5.02 seconds| Input tokens: 2,083 | Output tokens: 72]\u001b[0m\n"
      ]
     },
     "metadata": {},
     "output_type": "display_data"
    },
    {
     "data": {
      "text/html": [
       "<pre style=\"white-space:pre;overflow-x:auto;line-height:normal;font-family:Menlo,'DejaVu Sans Mono',consolas,'Courier New',monospace\"><span style=\"color: #d4b702; text-decoration-color: #d4b702\">━━━━━━━━━━━━━━━━━━━━━━━━━━━━━━━━━━━━━━━━━━━━━━━━━━━━━ </span><span style=\"font-weight: bold\">Step </span><span style=\"color: #008080; text-decoration-color: #008080; font-weight: bold\">2</span><span style=\"color: #d4b702; text-decoration-color: #d4b702\"> ━━━━━━━━━━━━━━━━━━━━━━━━━━━━━━━━━━━━━━━━━━━━━━━━━━━━━━</span>\n",
       "</pre>\n"
      ],
      "text/plain": [
       "\u001b[38;2;212;183;2m━━━━━━━━━━━━━━━━━━━━━━━━━━━━━━━━━━━━━━━━━━━━━━━━━━━━━ \u001b[0m\u001b[1mStep \u001b[0m\u001b[1;36m2\u001b[0m\u001b[38;2;212;183;2m ━━━━━━━━━━━━━━━━━━━━━━━━━━━━━━━━━━━━━━━━━━━━━━━━━━━━━━\u001b[0m\n"
      ]
     },
     "metadata": {},
     "output_type": "display_data"
    },
    {
     "data": {
      "text/html": [
       "<pre style=\"white-space:pre;overflow-x:auto;line-height:normal;font-family:Menlo,'DejaVu Sans Mono',consolas,'Courier New',monospace\"> ─ <span style=\"font-weight: bold\">Executing parsed code:</span> ──────────────────────────────────────────────────────────────────────────────────────── \n",
       "  <span style=\"color: #f8f8f2; text-decoration-color: #f8f8f2; background-color: #272822\">difference_summary </span><span style=\"color: #ff4689; text-decoration-color: #ff4689; background-color: #272822\">=</span><span style=\"color: #f8f8f2; text-decoration-color: #f8f8f2; background-color: #272822\"> </span><span style=\"color: #e6db74; text-decoration-color: #e6db74; background-color: #272822\">\"Lists are mutable, allowing modifications, while tuples are immutable. Lists are </span><span style=\"background-color: #272822\">        </span>  \n",
       "  <span style=\"color: #e6db74; text-decoration-color: #e6db74; background-color: #272822\">generally ordered sequences of homogeneous elements, whereas tuples can be heterogeneous. Lists have a dynamic </span>  \n",
       "  <span style=\"color: #e6db74; text-decoration-color: #e6db74; background-color: #272822\">size and can grow or shrink, whereas tuples have a fixed size. Tuples are faster than lists for iteration and </span><span style=\"background-color: #272822\"> </span>  \n",
       "  <span style=\"color: #e6db74; text-decoration-color: #e6db74; background-color: #272822\">generally consume less memory due to their immutability. Lists have more built-in methods for modification, </span><span style=\"background-color: #272822\">   </span>  \n",
       "  <span style=\"color: #e6db74; text-decoration-color: #e6db74; background-color: #272822\">such as append, insert, and remove, which are not available for tuples.\"</span><span style=\"background-color: #272822\">                                       </span>  \n",
       "  <span style=\"color: #f8f8f2; text-decoration-color: #f8f8f2; background-color: #272822\">final_answer(difference_summary)</span><span style=\"background-color: #272822\">                                                                               </span>  \n",
       " ───────────────────────────────────────────────────────────────────────────────────────────────────────────────── \n",
       "</pre>\n"
      ],
      "text/plain": [
       " ─ \u001b[1mExecuting parsed code:\u001b[0m ──────────────────────────────────────────────────────────────────────────────────────── \n",
       "  \u001b[38;2;248;248;242;48;2;39;40;34mdifference_summary\u001b[0m\u001b[38;2;248;248;242;48;2;39;40;34m \u001b[0m\u001b[38;2;255;70;137;48;2;39;40;34m=\u001b[0m\u001b[38;2;248;248;242;48;2;39;40;34m \u001b[0m\u001b[38;2;230;219;116;48;2;39;40;34m\"\u001b[0m\u001b[38;2;230;219;116;48;2;39;40;34mLists are mutable, allowing modifications, while tuples are immutable. Lists are \u001b[0m\u001b[48;2;39;40;34m        \u001b[0m  \n",
       "  \u001b[38;2;230;219;116;48;2;39;40;34mgenerally ordered sequences of homogeneous elements, whereas tuples can be heterogeneous. Lists have a dynamic \u001b[0m  \n",
       "  \u001b[38;2;230;219;116;48;2;39;40;34msize and can grow or shrink, whereas tuples have a fixed size. Tuples are faster than lists for iteration and \u001b[0m\u001b[48;2;39;40;34m \u001b[0m  \n",
       "  \u001b[38;2;230;219;116;48;2;39;40;34mgenerally consume less memory due to their immutability. Lists have more built-in methods for modification, \u001b[0m\u001b[48;2;39;40;34m   \u001b[0m  \n",
       "  \u001b[38;2;230;219;116;48;2;39;40;34msuch as append, insert, and remove, which are not available for tuples.\u001b[0m\u001b[38;2;230;219;116;48;2;39;40;34m\"\u001b[0m\u001b[48;2;39;40;34m                                       \u001b[0m  \n",
       "  \u001b[38;2;248;248;242;48;2;39;40;34mfinal_answer\u001b[0m\u001b[38;2;248;248;242;48;2;39;40;34m(\u001b[0m\u001b[38;2;248;248;242;48;2;39;40;34mdifference_summary\u001b[0m\u001b[38;2;248;248;242;48;2;39;40;34m)\u001b[0m\u001b[48;2;39;40;34m                                                                               \u001b[0m  \n",
       " ───────────────────────────────────────────────────────────────────────────────────────────────────────────────── \n"
      ]
     },
     "metadata": {},
     "output_type": "display_data"
    },
    {
     "data": {
      "text/html": [
       "<pre style=\"white-space:pre;overflow-x:auto;line-height:normal;font-family:Menlo,'DejaVu Sans Mono',consolas,'Courier New',monospace\"><span style=\"color: #d4b702; text-decoration-color: #d4b702; font-weight: bold\">Out - Final answer: Lists are mutable, allowing modifications, while tuples are immutable. Lists are generally </span>\n",
       "<span style=\"color: #d4b702; text-decoration-color: #d4b702; font-weight: bold\">ordered sequences of homogeneous elements, whereas tuples can be heterogeneous. Lists have a dynamic size and can </span>\n",
       "<span style=\"color: #d4b702; text-decoration-color: #d4b702; font-weight: bold\">grow or shrink, whereas tuples have a fixed size. Tuples are faster than lists for iteration and generally consume </span>\n",
       "<span style=\"color: #d4b702; text-decoration-color: #d4b702; font-weight: bold\">less memory due to their immutability. Lists have more built-in methods for modification, such as append, insert, </span>\n",
       "<span style=\"color: #d4b702; text-decoration-color: #d4b702; font-weight: bold\">and remove, which are not available for tuples.</span>\n",
       "</pre>\n"
      ],
      "text/plain": [
       "\u001b[1;38;2;212;183;2mOut - Final answer: Lists are mutable, allowing modifications, while tuples are immutable. Lists are generally \u001b[0m\n",
       "\u001b[1;38;2;212;183;2mordered sequences of homogeneous elements, whereas tuples can be heterogeneous. Lists have a dynamic size and can \u001b[0m\n",
       "\u001b[1;38;2;212;183;2mgrow or shrink, whereas tuples have a fixed size. Tuples are faster than lists for iteration and generally consume \u001b[0m\n",
       "\u001b[1;38;2;212;183;2mless memory due to their immutability. Lists have more built-in methods for modification, such as append, insert, \u001b[0m\n",
       "\u001b[1;38;2;212;183;2mand remove, which are not available for tuples.\u001b[0m\n"
      ]
     },
     "metadata": {},
     "output_type": "display_data"
    },
    {
     "data": {
      "text/html": [
       "<pre style=\"white-space:pre;overflow-x:auto;line-height:normal;font-family:Menlo,'DejaVu Sans Mono',consolas,'Courier New',monospace\"><span style=\"color: #7f7f7f; text-decoration-color: #7f7f7f\">[Step 2: Duration 8.05 seconds| Input tokens: 5,091 | Output tokens: 232]</span>\n",
       "</pre>\n"
      ],
      "text/plain": [
       "\u001b[2m[Step 2: Duration 8.05 seconds| Input tokens: 5,091 | Output tokens: 232]\u001b[0m\n"
      ]
     },
     "metadata": {},
     "output_type": "display_data"
    },
    {
     "name": "stdout",
     "output_type": "stream",
     "text": [
      "Lists are mutable, allowing modifications, while tuples are immutable. Lists are generally ordered sequences of homogeneous elements, whereas tuples can be heterogeneous. Lists have a dynamic size and can grow or shrink, whereas tuples have a fixed size. Tuples are faster than lists for iteration and generally consume less memory due to their immutability. Lists have more built-in methods for modification, such as append, insert, and remove, which are not available for tuples.\n"
     ]
    }
   ],
   "source": [
    "from smolagents import CodeAgent, DuckDuckGoSearchTool, HfApiModel\n",
    "\n",
    "# HfApiModel is a wrapper for accessing Hugging Face models via API.\n",
    "# It allows the agent to use an external language model hosted on Hugging Face.\n",
    "\n",
    "# Initialize the agent with a web search tool (DuckDuckGo) and an LLM (HfApiModel)\n",
    "agent = CodeAgent(tools=[DuckDuckGoSearchTool()], model=HfApiModel())\n",
    "\n",
    "# Run the agent with a sample query\n",
    "response = agent.run(\"What's the difference between a list and a tuple in Python?\")\n",
    "\n",
    "# Print the response generated by the agent\n",
    "print(response)\n"
   ]
  },
  {
   "cell_type": "markdown",
   "id": "7684ae8b-13b4-4c47-9037-eb70d3a7c31d",
   "metadata": {},
   "source": [
    "### 🤔 Exercise 1 Challenge\n",
    "\n",
    "Try asking the agent to explain different programming concepts and evaluate its responses. How well does it handle:\n",
    "\n",
    "- Basic syntax questions\n",
    "- Language-specific features\n",
    "- Code examples"
   ]
  },
  {
   "cell_type": "markdown",
   "id": "f7f6df4b-6782-44a7-b079-d99b5b1f6cf5",
   "metadata": {},
   "source": [
    "### 🐕 Exercise 2: Agent with Custom Functions\n",
    "\n",
    "Now let's create an agent that can perform specific tasks using custom functions. We'll implement a simple calculator tool."
   ]
  },
  {
   "cell_type": "code",
   "execution_count": 14,
   "id": "b41e6de5-74fd-4f23-b9cb-bc46b14088ba",
   "metadata": {},
   "outputs": [
    {
     "data": {
      "text/html": [
       "<pre style=\"white-space:pre;overflow-x:auto;line-height:normal;font-family:Menlo,'DejaVu Sans Mono',consolas,'Courier New',monospace\"><span style=\"color: #d4b702; text-decoration-color: #d4b702\">╭──────────────────────────────────────────────────── </span><span style=\"color: #d4b702; text-decoration-color: #d4b702; font-weight: bold\">New run</span><span style=\"color: #d4b702; text-decoration-color: #d4b702\"> ────────────────────────────────────────────────────╮</span>\n",
       "<span style=\"color: #d4b702; text-decoration-color: #d4b702\">│</span>                                                                                                                 <span style=\"color: #d4b702; text-decoration-color: #d4b702\">│</span>\n",
       "<span style=\"color: #d4b702; text-decoration-color: #d4b702\">│</span> <span style=\"font-weight: bold\">What is the average of 10, 15, 20, 25, and 30?</span>                                                                  <span style=\"color: #d4b702; text-decoration-color: #d4b702\">│</span>\n",
       "<span style=\"color: #d4b702; text-decoration-color: #d4b702\">│</span>                                                                                                                 <span style=\"color: #d4b702; text-decoration-color: #d4b702\">│</span>\n",
       "<span style=\"color: #d4b702; text-decoration-color: #d4b702\">╰─ HfApiModel - Qwen/Qwen2.5-Coder-32B-Instruct ──────────────────────────────────────────────────────────────────╯</span>\n",
       "</pre>\n"
      ],
      "text/plain": [
       "\u001b[38;2;212;183;2m╭─\u001b[0m\u001b[38;2;212;183;2m───────────────────────────────────────────────────\u001b[0m\u001b[38;2;212;183;2m \u001b[0m\u001b[1;38;2;212;183;2mNew run\u001b[0m\u001b[38;2;212;183;2m \u001b[0m\u001b[38;2;212;183;2m───────────────────────────────────────────────────\u001b[0m\u001b[38;2;212;183;2m─╮\u001b[0m\n",
       "\u001b[38;2;212;183;2m│\u001b[0m                                                                                                                 \u001b[38;2;212;183;2m│\u001b[0m\n",
       "\u001b[38;2;212;183;2m│\u001b[0m \u001b[1mWhat is the average of 10, 15, 20, 25, and 30?\u001b[0m                                                                  \u001b[38;2;212;183;2m│\u001b[0m\n",
       "\u001b[38;2;212;183;2m│\u001b[0m                                                                                                                 \u001b[38;2;212;183;2m│\u001b[0m\n",
       "\u001b[38;2;212;183;2m╰─\u001b[0m\u001b[38;2;212;183;2m HfApiModel - Qwen/Qwen2.5-Coder-32B-Instruct \u001b[0m\u001b[38;2;212;183;2m─────────────────────────────────────────────────────────────────\u001b[0m\u001b[38;2;212;183;2m─╯\u001b[0m\n"
      ]
     },
     "metadata": {},
     "output_type": "display_data"
    },
    {
     "data": {
      "text/html": [
       "<pre style=\"white-space:pre;overflow-x:auto;line-height:normal;font-family:Menlo,'DejaVu Sans Mono',consolas,'Courier New',monospace\"><span style=\"color: #d4b702; text-decoration-color: #d4b702\">━━━━━━━━━━━━━━━━━━━━━━━━━━━━━━━━━━━━━━━━━━━━━━━━━━━━━ </span><span style=\"font-weight: bold\">Step </span><span style=\"color: #008080; text-decoration-color: #008080; font-weight: bold\">1</span><span style=\"color: #d4b702; text-decoration-color: #d4b702\"> ━━━━━━━━━━━━━━━━━━━━━━━━━━━━━━━━━━━━━━━━━━━━━━━━━━━━━━</span>\n",
       "</pre>\n"
      ],
      "text/plain": [
       "\u001b[38;2;212;183;2m━━━━━━━━━━━━━━━━━━━━━━━━━━━━━━━━━━━━━━━━━━━━━━━━━━━━━ \u001b[0m\u001b[1mStep \u001b[0m\u001b[1;36m1\u001b[0m\u001b[38;2;212;183;2m ━━━━━━━━━━━━━━━━━━━━━━━━━━━━━━━━━━━━━━━━━━━━━━━━━━━━━━\u001b[0m\n"
      ]
     },
     "metadata": {},
     "output_type": "display_data"
    },
    {
     "data": {
      "text/html": [
       "<pre style=\"white-space:pre;overflow-x:auto;line-height:normal;font-family:Menlo,'DejaVu Sans Mono',consolas,'Courier New',monospace\"> ─ <span style=\"font-weight: bold\">Executing parsed code:</span> ──────────────────────────────────────────────────────────────────────────────────────── \n",
       "  <span style=\"color: #f8f8f2; text-decoration-color: #f8f8f2; background-color: #272822\">average_result </span><span style=\"color: #ff4689; text-decoration-color: #ff4689; background-color: #272822\">=</span><span style=\"color: #f8f8f2; text-decoration-color: #f8f8f2; background-color: #272822\"> calculate(operation</span><span style=\"color: #ff4689; text-decoration-color: #ff4689; background-color: #272822\">=</span><span style=\"color: #e6db74; text-decoration-color: #e6db74; background-color: #272822\">'average'</span><span style=\"color: #f8f8f2; text-decoration-color: #f8f8f2; background-color: #272822\">, numbers</span><span style=\"color: #ff4689; text-decoration-color: #ff4689; background-color: #272822\">=</span><span style=\"color: #f8f8f2; text-decoration-color: #f8f8f2; background-color: #272822\">[</span><span style=\"color: #ae81ff; text-decoration-color: #ae81ff; background-color: #272822\">10</span><span style=\"color: #f8f8f2; text-decoration-color: #f8f8f2; background-color: #272822\">, </span><span style=\"color: #ae81ff; text-decoration-color: #ae81ff; background-color: #272822\">15</span><span style=\"color: #f8f8f2; text-decoration-color: #f8f8f2; background-color: #272822\">, </span><span style=\"color: #ae81ff; text-decoration-color: #ae81ff; background-color: #272822\">20</span><span style=\"color: #f8f8f2; text-decoration-color: #f8f8f2; background-color: #272822\">, </span><span style=\"color: #ae81ff; text-decoration-color: #ae81ff; background-color: #272822\">25</span><span style=\"color: #f8f8f2; text-decoration-color: #f8f8f2; background-color: #272822\">, </span><span style=\"color: #ae81ff; text-decoration-color: #ae81ff; background-color: #272822\">30</span><span style=\"color: #f8f8f2; text-decoration-color: #f8f8f2; background-color: #272822\">])</span><span style=\"background-color: #272822\">                                  </span>  \n",
       "  <span style=\"color: #f8f8f2; text-decoration-color: #f8f8f2; background-color: #272822\">final_answer(average_result)</span><span style=\"background-color: #272822\">                                                                                   </span>  \n",
       " ───────────────────────────────────────────────────────────────────────────────────────────────────────────────── \n",
       "</pre>\n"
      ],
      "text/plain": [
       " ─ \u001b[1mExecuting parsed code:\u001b[0m ──────────────────────────────────────────────────────────────────────────────────────── \n",
       "  \u001b[38;2;248;248;242;48;2;39;40;34maverage_result\u001b[0m\u001b[38;2;248;248;242;48;2;39;40;34m \u001b[0m\u001b[38;2;255;70;137;48;2;39;40;34m=\u001b[0m\u001b[38;2;248;248;242;48;2;39;40;34m \u001b[0m\u001b[38;2;248;248;242;48;2;39;40;34mcalculate\u001b[0m\u001b[38;2;248;248;242;48;2;39;40;34m(\u001b[0m\u001b[38;2;248;248;242;48;2;39;40;34moperation\u001b[0m\u001b[38;2;255;70;137;48;2;39;40;34m=\u001b[0m\u001b[38;2;230;219;116;48;2;39;40;34m'\u001b[0m\u001b[38;2;230;219;116;48;2;39;40;34maverage\u001b[0m\u001b[38;2;230;219;116;48;2;39;40;34m'\u001b[0m\u001b[38;2;248;248;242;48;2;39;40;34m,\u001b[0m\u001b[38;2;248;248;242;48;2;39;40;34m \u001b[0m\u001b[38;2;248;248;242;48;2;39;40;34mnumbers\u001b[0m\u001b[38;2;255;70;137;48;2;39;40;34m=\u001b[0m\u001b[38;2;248;248;242;48;2;39;40;34m[\u001b[0m\u001b[38;2;174;129;255;48;2;39;40;34m10\u001b[0m\u001b[38;2;248;248;242;48;2;39;40;34m,\u001b[0m\u001b[38;2;248;248;242;48;2;39;40;34m \u001b[0m\u001b[38;2;174;129;255;48;2;39;40;34m15\u001b[0m\u001b[38;2;248;248;242;48;2;39;40;34m,\u001b[0m\u001b[38;2;248;248;242;48;2;39;40;34m \u001b[0m\u001b[38;2;174;129;255;48;2;39;40;34m20\u001b[0m\u001b[38;2;248;248;242;48;2;39;40;34m,\u001b[0m\u001b[38;2;248;248;242;48;2;39;40;34m \u001b[0m\u001b[38;2;174;129;255;48;2;39;40;34m25\u001b[0m\u001b[38;2;248;248;242;48;2;39;40;34m,\u001b[0m\u001b[38;2;248;248;242;48;2;39;40;34m \u001b[0m\u001b[38;2;174;129;255;48;2;39;40;34m30\u001b[0m\u001b[38;2;248;248;242;48;2;39;40;34m]\u001b[0m\u001b[38;2;248;248;242;48;2;39;40;34m)\u001b[0m\u001b[48;2;39;40;34m                                  \u001b[0m  \n",
       "  \u001b[38;2;248;248;242;48;2;39;40;34mfinal_answer\u001b[0m\u001b[38;2;248;248;242;48;2;39;40;34m(\u001b[0m\u001b[38;2;248;248;242;48;2;39;40;34maverage_result\u001b[0m\u001b[38;2;248;248;242;48;2;39;40;34m)\u001b[0m\u001b[48;2;39;40;34m                                                                                   \u001b[0m  \n",
       " ───────────────────────────────────────────────────────────────────────────────────────────────────────────────── \n"
      ]
     },
     "metadata": {},
     "output_type": "display_data"
    },
    {
     "data": {
      "text/html": [
       "<pre style=\"white-space:pre;overflow-x:auto;line-height:normal;font-family:Menlo,'DejaVu Sans Mono',consolas,'Courier New',monospace\"><span style=\"color: #d4b702; text-decoration-color: #d4b702; font-weight: bold\">Out - Final answer: 20.0</span>\n",
       "</pre>\n"
      ],
      "text/plain": [
       "\u001b[1;38;2;212;183;2mOut - Final answer: 20.0\u001b[0m\n"
      ]
     },
     "metadata": {},
     "output_type": "display_data"
    },
    {
     "data": {
      "text/html": [
       "<pre style=\"white-space:pre;overflow-x:auto;line-height:normal;font-family:Menlo,'DejaVu Sans Mono',consolas,'Courier New',monospace\"><span style=\"color: #7f7f7f; text-decoration-color: #7f7f7f\">[Step 1: Duration 13.85 seconds| Input tokens: 2,112 | Output tokens: 101]</span>\n",
       "</pre>\n"
      ],
      "text/plain": [
       "\u001b[2m[Step 1: Duration 13.85 seconds| Input tokens: 2,112 | Output tokens: 101]\u001b[0m\n"
      ]
     },
     "metadata": {},
     "output_type": "display_data"
    },
    {
     "name": "stdout",
     "output_type": "stream",
     "text": [
      "20.0\n"
     ]
    }
   ],
   "source": [
    "from smolagents import CodeAgent, tool\n",
    "from typing import Union\n",
    "\n",
    "\n",
    "@tool\n",
    "def calculate(operation: str, numbers: object) -> float:\n",
    "    \"\"\"Performs basic mathematical operations on a list of numbers.\n",
    "\n",
    "    Args:\n",
    "        operation: One of 'sum', 'average', 'multiply', 'min', 'max'\n",
    "        numbers: List of numbers to operate on\n",
    "\n",
    "    Returns:\n",
    "        float: Result of the operation\n",
    "    \"\"\"\n",
    "    if operation == \"sum\":\n",
    "        return sum(numbers)\n",
    "    elif operation == \"average\":\n",
    "        return sum(numbers) / len(numbers)\n",
    "    elif operation == \"multiply\":\n",
    "        result = 1\n",
    "        for n in numbers:\n",
    "            result *= n\n",
    "        return result\n",
    "    elif operation == \"min\":\n",
    "        return min(numbers)\n",
    "    elif operation == \"max\":\n",
    "        return max(numbers)\n",
    "    else:\n",
    "        raise ValueError(f\"Unknown operation: {operation}\")\n",
    "\n",
    "\n",
    "# Create agent with custom tool\n",
    "math_agent = CodeAgent(tools=[calculate], model=HfApiModel())\n",
    "\n",
    "# Test the agent\n",
    "response = math_agent.run(\"What is the average of 10, 15, 20, 25, and 30?\")\n",
    "print(response)\n"
   ]
  },
  {
   "cell_type": "markdown",
   "id": "057393ab-cc98-45cd-80be-82fc3919b9b2",
   "metadata": {},
   "source": [
    "### 🤔 Exercise 2 Challenge\n",
    "\n",
    "- Add more mathematical operations to the calculator tool\n",
    "- Create a new custom tool (e.g., for string manipulation or date calculations)\n",
    "- Combine multiple custom tools in one agent"
   ]
  },
  {
   "cell_type": "markdown",
   "id": "71f0be9c-f870-4fdd-a3b6-fe739c882d7b",
   "metadata": {},
   "source": [
    "### 🦁 Exercise 3: Advanced Retrieval Agent\n",
    "\n",
    "Finally, let's build a more sophisticated agent that combines web search with memory to maintain context across conversations.\n"
   ]
  },
  {
   "cell_type": "code",
   "execution_count": 16,
   "id": "0c73dafc-68eb-4947-89c0-aab7ed4575a9",
   "metadata": {},
   "outputs": [
    {
     "data": {
      "text/html": [
       "<pre style=\"white-space:pre;overflow-x:auto;line-height:normal;font-family:Menlo,'DejaVu Sans Mono',consolas,'Courier New',monospace\"><span style=\"color: #d4b702; text-decoration-color: #d4b702\">╭──────────────────────────────────────────────────── </span><span style=\"color: #d4b702; text-decoration-color: #d4b702; font-weight: bold\">New run</span><span style=\"color: #d4b702; text-decoration-color: #d4b702\"> ────────────────────────────────────────────────────╮</span>\n",
       "<span style=\"color: #d4b702; text-decoration-color: #d4b702\">│</span>                                                                                                                 <span style=\"color: #d4b702; text-decoration-color: #d4b702\">│</span>\n",
       "<span style=\"color: #d4b702; text-decoration-color: #d4b702\">│</span> <span style=\"font-weight: bold\">What are the main types of machine learning?</span>                                                                    <span style=\"color: #d4b702; text-decoration-color: #d4b702\">│</span>\n",
       "<span style=\"color: #d4b702; text-decoration-color: #d4b702\">│</span>                                                                                                                 <span style=\"color: #d4b702; text-decoration-color: #d4b702\">│</span>\n",
       "<span style=\"color: #d4b702; text-decoration-color: #d4b702\">╰─ HfApiModel - Qwen/Qwen2.5-Coder-32B-Instruct ──────────────────────────────────────────────────────────────────╯</span>\n",
       "</pre>\n"
      ],
      "text/plain": [
       "\u001b[38;2;212;183;2m╭─\u001b[0m\u001b[38;2;212;183;2m───────────────────────────────────────────────────\u001b[0m\u001b[38;2;212;183;2m \u001b[0m\u001b[1;38;2;212;183;2mNew run\u001b[0m\u001b[38;2;212;183;2m \u001b[0m\u001b[38;2;212;183;2m───────────────────────────────────────────────────\u001b[0m\u001b[38;2;212;183;2m─╮\u001b[0m\n",
       "\u001b[38;2;212;183;2m│\u001b[0m                                                                                                                 \u001b[38;2;212;183;2m│\u001b[0m\n",
       "\u001b[38;2;212;183;2m│\u001b[0m \u001b[1mWhat are the main types of machine learning?\u001b[0m                                                                    \u001b[38;2;212;183;2m│\u001b[0m\n",
       "\u001b[38;2;212;183;2m│\u001b[0m                                                                                                                 \u001b[38;2;212;183;2m│\u001b[0m\n",
       "\u001b[38;2;212;183;2m╰─\u001b[0m\u001b[38;2;212;183;2m HfApiModel - Qwen/Qwen2.5-Coder-32B-Instruct \u001b[0m\u001b[38;2;212;183;2m─────────────────────────────────────────────────────────────────\u001b[0m\u001b[38;2;212;183;2m─╯\u001b[0m\n"
      ]
     },
     "metadata": {},
     "output_type": "display_data"
    },
    {
     "data": {
      "text/html": [
       "<pre style=\"white-space:pre;overflow-x:auto;line-height:normal;font-family:Menlo,'DejaVu Sans Mono',consolas,'Courier New',monospace\"><span style=\"color: #d4b702; text-decoration-color: #d4b702\">━━━━━━━━━━━━━━━━━━━━━━━━━━━━━━━━━━━━━━━━━━━━━━━━━━━━━ </span><span style=\"font-weight: bold\">Step </span><span style=\"color: #008080; text-decoration-color: #008080; font-weight: bold\">1</span><span style=\"color: #d4b702; text-decoration-color: #d4b702\"> ━━━━━━━━━━━━━━━━━━━━━━━━━━━━━━━━━━━━━━━━━━━━━━━━━━━━━━</span>\n",
       "</pre>\n"
      ],
      "text/plain": [
       "\u001b[38;2;212;183;2m━━━━━━━━━━━━━━━━━━━━━━━━━━━━━━━━━━━━━━━━━━━━━━━━━━━━━ \u001b[0m\u001b[1mStep \u001b[0m\u001b[1;36m1\u001b[0m\u001b[38;2;212;183;2m ━━━━━━━━━━━━━━━━━━━━━━━━━━━━━━━━━━━━━━━━━━━━━━━━━━━━━━\u001b[0m\n"
      ]
     },
     "metadata": {},
     "output_type": "display_data"
    },
    {
     "data": {
      "text/html": [
       "<pre style=\"white-space:pre;overflow-x:auto;line-height:normal;font-family:Menlo,'DejaVu Sans Mono',consolas,'Courier New',monospace\"> ─ <span style=\"font-weight: bold\">Executing parsed code:</span> ──────────────────────────────────────────────────────────────────────────────────────── \n",
       "  <span style=\"color: #f8f8f2; text-decoration-color: #f8f8f2; background-color: #272822\">ml_types </span><span style=\"color: #ff4689; text-decoration-color: #ff4689; background-color: #272822\">=</span><span style=\"color: #f8f8f2; text-decoration-color: #f8f8f2; background-color: #272822\"> web_search(query</span><span style=\"color: #ff4689; text-decoration-color: #ff4689; background-color: #272822\">=</span><span style=\"color: #e6db74; text-decoration-color: #e6db74; background-color: #272822\">\"main types of machine learning\"</span><span style=\"color: #f8f8f2; text-decoration-color: #f8f8f2; background-color: #272822\">)</span><span style=\"background-color: #272822\">                                                  </span>  \n",
       "  <span style=\"color: #f8f8f2; text-decoration-color: #f8f8f2; background-color: #272822\">print(ml_types)</span><span style=\"background-color: #272822\">                                                                                                </span>  \n",
       " ───────────────────────────────────────────────────────────────────────────────────────────────────────────────── \n",
       "</pre>\n"
      ],
      "text/plain": [
       " ─ \u001b[1mExecuting parsed code:\u001b[0m ──────────────────────────────────────────────────────────────────────────────────────── \n",
       "  \u001b[38;2;248;248;242;48;2;39;40;34mml_types\u001b[0m\u001b[38;2;248;248;242;48;2;39;40;34m \u001b[0m\u001b[38;2;255;70;137;48;2;39;40;34m=\u001b[0m\u001b[38;2;248;248;242;48;2;39;40;34m \u001b[0m\u001b[38;2;248;248;242;48;2;39;40;34mweb_search\u001b[0m\u001b[38;2;248;248;242;48;2;39;40;34m(\u001b[0m\u001b[38;2;248;248;242;48;2;39;40;34mquery\u001b[0m\u001b[38;2;255;70;137;48;2;39;40;34m=\u001b[0m\u001b[38;2;230;219;116;48;2;39;40;34m\"\u001b[0m\u001b[38;2;230;219;116;48;2;39;40;34mmain types of machine learning\u001b[0m\u001b[38;2;230;219;116;48;2;39;40;34m\"\u001b[0m\u001b[38;2;248;248;242;48;2;39;40;34m)\u001b[0m\u001b[48;2;39;40;34m                                                  \u001b[0m  \n",
       "  \u001b[38;2;248;248;242;48;2;39;40;34mprint\u001b[0m\u001b[38;2;248;248;242;48;2;39;40;34m(\u001b[0m\u001b[38;2;248;248;242;48;2;39;40;34mml_types\u001b[0m\u001b[38;2;248;248;242;48;2;39;40;34m)\u001b[0m\u001b[48;2;39;40;34m                                                                                                \u001b[0m  \n",
       " ───────────────────────────────────────────────────────────────────────────────────────────────────────────────── \n"
      ]
     },
     "metadata": {},
     "output_type": "display_data"
    },
    {
     "data": {
      "text/html": [
       "<pre style=\"white-space:pre;overflow-x:auto;line-height:normal;font-family:Menlo,'DejaVu Sans Mono',consolas,'Courier New',monospace\"><span style=\"font-weight: bold\">Execution logs:</span>\n",
       "## Search Results\n",
       "\n",
       "[Types of Machine Learning - GeeksforGeeks](https://www.geeksforgeeks.org/types-of-machine-learning/)\n",
       "Machine learning, a branch of Artificial Intelligence, encompasses various algorithms such as supervised, \n",
       "unsupervised, reinforcement, and semi-supervised learning, enabling systems to learn from data and improve \n",
       "performance over time.\n",
       "\n",
       "[3 Types of Machine Learning You Should Know - \n",
       "Coursera](https://www.coursera.org/articles/types-of-machine-learning)\n",
       "Machine learning involves showing a large volume of data to a machine so that it can learn and make predictions, \n",
       "find patterns, or classify data. The three machine learning types are supervised, unsupervised, and reinforcement \n",
       "learning. 1. Supervised learning.\n",
       "\n",
       "[Types of Machine Learning - IBM](https://www.ibm.com/think/topics/machine-learning-types)\n",
       "Here, we'll discuss the five major types and their applications. What is machine learning? ML is a computer \n",
       "science, data science and artificial intelligence (AI) subset that enables systems to learn and improve from data \n",
       "without additional programming interventions.\n",
       "\n",
       "[Types of Machine Learning: A Detailed Guide to the 4 Main Types - \n",
       "Emeritus](https://emeritus.org/blog/ai-and-ml-types-of-machine-learning/)\n",
       "In this article, let's take a closer look at the four main types of machine learning and their respective \n",
       "applications: supervised learning, unsupervised learning, semi-supervised learning, and reinforcement learning.\n",
       "\n",
       "[Types of machine learning](https://www.telefonica.com/en/communication-room/blog/types-machine-learning/)\n",
       "Each of the types of learning has a series of specific applications and algorithms, adapting to different needs or \n",
       "data sets in the field of AI. Let's look at the main characteristics of the types of machine learning: supervised \n",
       "learning, unsupervised learning, semi-supervised learning and reinforcement learning. Supervised learning\n",
       "\n",
       "[Four Types of Machine Learning Algorithms \n",
       "Explained](https://www.seldon.io/four-types-of-machine-learning-algorithms-explained/)\n",
       "In general, there are four main types of machine learning algorithms. Each one takes a different approach to how a \n",
       "machine will learn from data and are positioned to solve unique problems and challenges. They also differ on the \n",
       "level of input required from developers and the condition of the datasets they learn from.\n",
       "\n",
       "[5 Types of Machine Learning You Must Know - With Use Cases](https://techtheboy.com/ai/5-types-of-machine-learning)\n",
       "Here's a quick overview of the 5 main types of Machine Learning: Supervised Learning: Involves learning from \n",
       "labeled data where the algorithm is trained to predict outcomes based on input-output pairs. Unsupervised Learning:\n",
       "Focuses on identifying patterns and relationships in data without the need for labeled examples.\n",
       "\n",
       "[Types of Machine Learning: Supervised, Unsupervised &amp; \n",
       "More](https://www.centricdxb.com/insights/types-of-machine-learning)\n",
       "Understanding the types of machine learning is essential for leveraging AI in business, healthcare, finance, and \n",
       "other industries. With advancements in deep learning, AI automation, and personalized AI models, machine learning \n",
       "will continue to evolve and transform the way we work, live, and interact with technology. ... 1801 Main St, Suite \n",
       "1300 ...\n",
       "\n",
       "[5 types of machine learning (Updated 2025)](https://lumenalta.com/insights/5-types-of-machine-learning)\n",
       "Different machine learning models are tailored to specific scenarios, each offering unique advantages to drive \n",
       "efficiency, cost-effectiveness, and innovation. The five types of machine learning are supervised learning, \n",
       "unsupervised learning, semi-supervised learning, reinforcement learning, and self-supervised learning.\n",
       "\n",
       "[5 Important Types of Machine Learning - JARO \n",
       "Education](https://www.jaroeducation.com/blog/types-of-machine-learning/)\n",
       "Explore the 5 types of machine learning, including supervised, unsupervised, reinforcement, semi-supervised, and \n",
       "self-supervised learning, and learn how they are applied. ... Advanced Certificate Programme in Machine Learning, \n",
       "Gen AI &amp; LLMs for Business Applications. IITM Pravartak.\n",
       "\n",
       "Out: None\n",
       "</pre>\n"
      ],
      "text/plain": [
       "\u001b[1mExecution logs:\u001b[0m\n",
       "## Search Results\n",
       "\n",
       "[Types of Machine Learning - GeeksforGeeks](https://www.geeksforgeeks.org/types-of-machine-learning/)\n",
       "Machine learning, a branch of Artificial Intelligence, encompasses various algorithms such as supervised, \n",
       "unsupervised, reinforcement, and semi-supervised learning, enabling systems to learn from data and improve \n",
       "performance over time.\n",
       "\n",
       "[3 Types of Machine Learning You Should Know - \n",
       "Coursera](https://www.coursera.org/articles/types-of-machine-learning)\n",
       "Machine learning involves showing a large volume of data to a machine so that it can learn and make predictions, \n",
       "find patterns, or classify data. The three machine learning types are supervised, unsupervised, and reinforcement \n",
       "learning. 1. Supervised learning.\n",
       "\n",
       "[Types of Machine Learning - IBM](https://www.ibm.com/think/topics/machine-learning-types)\n",
       "Here, we'll discuss the five major types and their applications. What is machine learning? ML is a computer \n",
       "science, data science and artificial intelligence (AI) subset that enables systems to learn and improve from data \n",
       "without additional programming interventions.\n",
       "\n",
       "[Types of Machine Learning: A Detailed Guide to the 4 Main Types - \n",
       "Emeritus](https://emeritus.org/blog/ai-and-ml-types-of-machine-learning/)\n",
       "In this article, let's take a closer look at the four main types of machine learning and their respective \n",
       "applications: supervised learning, unsupervised learning, semi-supervised learning, and reinforcement learning.\n",
       "\n",
       "[Types of machine learning](https://www.telefonica.com/en/communication-room/blog/types-machine-learning/)\n",
       "Each of the types of learning has a series of specific applications and algorithms, adapting to different needs or \n",
       "data sets in the field of AI. Let's look at the main characteristics of the types of machine learning: supervised \n",
       "learning, unsupervised learning, semi-supervised learning and reinforcement learning. Supervised learning\n",
       "\n",
       "[Four Types of Machine Learning Algorithms \n",
       "Explained](https://www.seldon.io/four-types-of-machine-learning-algorithms-explained/)\n",
       "In general, there are four main types of machine learning algorithms. Each one takes a different approach to how a \n",
       "machine will learn from data and are positioned to solve unique problems and challenges. They also differ on the \n",
       "level of input required from developers and the condition of the datasets they learn from.\n",
       "\n",
       "[5 Types of Machine Learning You Must Know - With Use Cases](https://techtheboy.com/ai/5-types-of-machine-learning)\n",
       "Here's a quick overview of the 5 main types of Machine Learning: Supervised Learning: Involves learning from \n",
       "labeled data where the algorithm is trained to predict outcomes based on input-output pairs. Unsupervised Learning:\n",
       "Focuses on identifying patterns and relationships in data without the need for labeled examples.\n",
       "\n",
       "[Types of Machine Learning: Supervised, Unsupervised & \n",
       "More](https://www.centricdxb.com/insights/types-of-machine-learning)\n",
       "Understanding the types of machine learning is essential for leveraging AI in business, healthcare, finance, and \n",
       "other industries. With advancements in deep learning, AI automation, and personalized AI models, machine learning \n",
       "will continue to evolve and transform the way we work, live, and interact with technology. ... 1801 Main St, Suite \n",
       "1300 ...\n",
       "\n",
       "[5 types of machine learning (Updated 2025)](https://lumenalta.com/insights/5-types-of-machine-learning)\n",
       "Different machine learning models are tailored to specific scenarios, each offering unique advantages to drive \n",
       "efficiency, cost-effectiveness, and innovation. The five types of machine learning are supervised learning, \n",
       "unsupervised learning, semi-supervised learning, reinforcement learning, and self-supervised learning.\n",
       "\n",
       "[5 Important Types of Machine Learning - JARO \n",
       "Education](https://www.jaroeducation.com/blog/types-of-machine-learning/)\n",
       "Explore the 5 types of machine learning, including supervised, unsupervised, reinforcement, semi-supervised, and \n",
       "self-supervised learning, and learn how they are applied. ... Advanced Certificate Programme in Machine Learning, \n",
       "Gen AI & LLMs for Business Applications. IITM Pravartak.\n",
       "\n",
       "Out: None\n"
      ]
     },
     "metadata": {},
     "output_type": "display_data"
    },
    {
     "data": {
      "text/html": [
       "<pre style=\"white-space:pre;overflow-x:auto;line-height:normal;font-family:Menlo,'DejaVu Sans Mono',consolas,'Courier New',monospace\"><span style=\"color: #7f7f7f; text-decoration-color: #7f7f7f\">[Step 1: Duration 4.46 seconds| Input tokens: 2,079 | Output tokens: 57]</span>\n",
       "</pre>\n"
      ],
      "text/plain": [
       "\u001b[2m[Step 1: Duration 4.46 seconds| Input tokens: 2,079 | Output tokens: 57]\u001b[0m\n"
      ]
     },
     "metadata": {},
     "output_type": "display_data"
    },
    {
     "data": {
      "text/html": [
       "<pre style=\"white-space:pre;overflow-x:auto;line-height:normal;font-family:Menlo,'DejaVu Sans Mono',consolas,'Courier New',monospace\"><span style=\"color: #d4b702; text-decoration-color: #d4b702\">━━━━━━━━━━━━━━━━━━━━━━━━━━━━━━━━━━━━━━━━━━━━━━━━━━━━━ </span><span style=\"font-weight: bold\">Step </span><span style=\"color: #008080; text-decoration-color: #008080; font-weight: bold\">2</span><span style=\"color: #d4b702; text-decoration-color: #d4b702\"> ━━━━━━━━━━━━━━━━━━━━━━━━━━━━━━━━━━━━━━━━━━━━━━━━━━━━━━</span>\n",
       "</pre>\n"
      ],
      "text/plain": [
       "\u001b[38;2;212;183;2m━━━━━━━━━━━━━━━━━━━━━━━━━━━━━━━━━━━━━━━━━━━━━━━━━━━━━ \u001b[0m\u001b[1mStep \u001b[0m\u001b[1;36m2\u001b[0m\u001b[38;2;212;183;2m ━━━━━━━━━━━━━━━━━━━━━━━━━━━━━━━━━━━━━━━━━━━━━━━━━━━━━━\u001b[0m\n"
      ]
     },
     "metadata": {},
     "output_type": "display_data"
    },
    {
     "data": {
      "text/html": [
       "<pre style=\"white-space:pre;overflow-x:auto;line-height:normal;font-family:Menlo,'DejaVu Sans Mono',consolas,'Courier New',monospace\"> ─ <span style=\"font-weight: bold\">Executing parsed code:</span> ──────────────────────────────────────────────────────────────────────────────────────── \n",
       "  <span style=\"color: #f8f8f2; text-decoration-color: #f8f8f2; background-color: #272822\">final_answer(</span><span style=\"color: #e6db74; text-decoration-color: #e6db74; background-color: #272822\">\"The main types of machine learning are supervised learning, unsupervised learning, </span><span style=\"background-color: #272822\">              </span>  \n",
       "  <span style=\"color: #e6db74; text-decoration-color: #e6db74; background-color: #272822\">semi-supervised learning, reinforcement learning, and self-supervised learning.\"</span><span style=\"color: #f8f8f2; text-decoration-color: #f8f8f2; background-color: #272822\">)</span><span style=\"background-color: #272822\">                              </span>  \n",
       " ───────────────────────────────────────────────────────────────────────────────────────────────────────────────── \n",
       "</pre>\n"
      ],
      "text/plain": [
       " ─ \u001b[1mExecuting parsed code:\u001b[0m ──────────────────────────────────────────────────────────────────────────────────────── \n",
       "  \u001b[38;2;248;248;242;48;2;39;40;34mfinal_answer\u001b[0m\u001b[38;2;248;248;242;48;2;39;40;34m(\u001b[0m\u001b[38;2;230;219;116;48;2;39;40;34m\"\u001b[0m\u001b[38;2;230;219;116;48;2;39;40;34mThe main types of machine learning are supervised learning, unsupervised learning, \u001b[0m\u001b[48;2;39;40;34m              \u001b[0m  \n",
       "  \u001b[38;2;230;219;116;48;2;39;40;34msemi-supervised learning, reinforcement learning, and self-supervised learning.\u001b[0m\u001b[38;2;230;219;116;48;2;39;40;34m\"\u001b[0m\u001b[38;2;248;248;242;48;2;39;40;34m)\u001b[0m\u001b[48;2;39;40;34m                              \u001b[0m  \n",
       " ───────────────────────────────────────────────────────────────────────────────────────────────────────────────── \n"
      ]
     },
     "metadata": {},
     "output_type": "display_data"
    },
    {
     "data": {
      "text/html": [
       "<pre style=\"white-space:pre;overflow-x:auto;line-height:normal;font-family:Menlo,'DejaVu Sans Mono',consolas,'Courier New',monospace\"><span style=\"color: #d4b702; text-decoration-color: #d4b702; font-weight: bold\">Out - Final answer: The main types of machine learning are supervised learning, unsupervised learning, </span>\n",
       "<span style=\"color: #d4b702; text-decoration-color: #d4b702; font-weight: bold\">semi-supervised learning, reinforcement learning, and self-supervised learning.</span>\n",
       "</pre>\n"
      ],
      "text/plain": [
       "\u001b[1;38;2;212;183;2mOut - Final answer: The main types of machine learning are supervised learning, unsupervised learning, \u001b[0m\n",
       "\u001b[1;38;2;212;183;2msemi-supervised learning, reinforcement learning, and self-supervised learning.\u001b[0m\n"
      ]
     },
     "metadata": {},
     "output_type": "display_data"
    },
    {
     "data": {
      "text/html": [
       "<pre style=\"white-space:pre;overflow-x:auto;line-height:normal;font-family:Menlo,'DejaVu Sans Mono',consolas,'Courier New',monospace\"><span style=\"color: #7f7f7f; text-decoration-color: #7f7f7f\">[Step 2: Duration 6.70 seconds| Input tokens: 5,125 | Output tokens: 149]</span>\n",
       "</pre>\n"
      ],
      "text/plain": [
       "\u001b[2m[Step 2: Duration 6.70 seconds| Input tokens: 5,125 | Output tokens: 149]\u001b[0m\n"
      ]
     },
     "metadata": {},
     "output_type": "display_data"
    },
    {
     "name": "stdout",
     "output_type": "stream",
     "text": [
      "The main types of machine learning are supervised learning, unsupervised learning, semi-supervised learning, reinforcement learning, and self-supervised learning.\n",
      "---\n"
     ]
    },
    {
     "data": {
      "text/html": [
       "<pre style=\"white-space:pre;overflow-x:auto;line-height:normal;font-family:Menlo,'DejaVu Sans Mono',consolas,'Courier New',monospace\"><span style=\"color: #d4b702; text-decoration-color: #d4b702\">╭──────────────────────────────────────────────────── </span><span style=\"color: #d4b702; text-decoration-color: #d4b702; font-weight: bold\">New run</span><span style=\"color: #d4b702; text-decoration-color: #d4b702\"> ────────────────────────────────────────────────────╮</span>\n",
       "<span style=\"color: #d4b702; text-decoration-color: #d4b702\">│</span>                                                                                                                 <span style=\"color: #d4b702; text-decoration-color: #d4b702\">│</span>\n",
       "<span style=\"color: #d4b702; text-decoration-color: #d4b702\">│</span> <span style=\"font-weight: bold\">Can you explain supervised learning in more detail?</span>                                                             <span style=\"color: #d4b702; text-decoration-color: #d4b702\">│</span>\n",
       "<span style=\"color: #d4b702; text-decoration-color: #d4b702\">│</span>                                                                                                                 <span style=\"color: #d4b702; text-decoration-color: #d4b702\">│</span>\n",
       "<span style=\"color: #d4b702; text-decoration-color: #d4b702\">╰─ HfApiModel - Qwen/Qwen2.5-Coder-32B-Instruct ──────────────────────────────────────────────────────────────────╯</span>\n",
       "</pre>\n"
      ],
      "text/plain": [
       "\u001b[38;2;212;183;2m╭─\u001b[0m\u001b[38;2;212;183;2m───────────────────────────────────────────────────\u001b[0m\u001b[38;2;212;183;2m \u001b[0m\u001b[1;38;2;212;183;2mNew run\u001b[0m\u001b[38;2;212;183;2m \u001b[0m\u001b[38;2;212;183;2m───────────────────────────────────────────────────\u001b[0m\u001b[38;2;212;183;2m─╮\u001b[0m\n",
       "\u001b[38;2;212;183;2m│\u001b[0m                                                                                                                 \u001b[38;2;212;183;2m│\u001b[0m\n",
       "\u001b[38;2;212;183;2m│\u001b[0m \u001b[1mCan you explain supervised learning in more detail?\u001b[0m                                                             \u001b[38;2;212;183;2m│\u001b[0m\n",
       "\u001b[38;2;212;183;2m│\u001b[0m                                                                                                                 \u001b[38;2;212;183;2m│\u001b[0m\n",
       "\u001b[38;2;212;183;2m╰─\u001b[0m\u001b[38;2;212;183;2m HfApiModel - Qwen/Qwen2.5-Coder-32B-Instruct \u001b[0m\u001b[38;2;212;183;2m─────────────────────────────────────────────────────────────────\u001b[0m\u001b[38;2;212;183;2m─╯\u001b[0m\n"
      ]
     },
     "metadata": {},
     "output_type": "display_data"
    },
    {
     "data": {
      "text/html": [
       "<pre style=\"white-space:pre;overflow-x:auto;line-height:normal;font-family:Menlo,'DejaVu Sans Mono',consolas,'Courier New',monospace\"><span style=\"color: #d4b702; text-decoration-color: #d4b702\">━━━━━━━━━━━━━━━━━━━━━━━━━━━━━━━━━━━━━━━━━━━━━━━━━━━━━ </span><span style=\"font-weight: bold\">Step </span><span style=\"color: #008080; text-decoration-color: #008080; font-weight: bold\">1</span><span style=\"color: #d4b702; text-decoration-color: #d4b702\"> ━━━━━━━━━━━━━━━━━━━━━━━━━━━━━━━━━━━━━━━━━━━━━━━━━━━━━━</span>\n",
       "</pre>\n"
      ],
      "text/plain": [
       "\u001b[38;2;212;183;2m━━━━━━━━━━━━━━━━━━━━━━━━━━━━━━━━━━━━━━━━━━━━━━━━━━━━━ \u001b[0m\u001b[1mStep \u001b[0m\u001b[1;36m1\u001b[0m\u001b[38;2;212;183;2m ━━━━━━━━━━━━━━━━━━━━━━━━━━━━━━━━━━━━━━━━━━━━━━━━━━━━━━\u001b[0m\n"
      ]
     },
     "metadata": {},
     "output_type": "display_data"
    },
    {
     "data": {
      "text/html": [
       "<pre style=\"white-space:pre;overflow-x:auto;line-height:normal;font-family:Menlo,'DejaVu Sans Mono',consolas,'Courier New',monospace\"> ─ <span style=\"font-weight: bold\">Executing parsed code:</span> ──────────────────────────────────────────────────────────────────────────────────────── \n",
       "  <span style=\"color: #f8f8f2; text-decoration-color: #f8f8f2; background-color: #272822\">search_results </span><span style=\"color: #ff4689; text-decoration-color: #ff4689; background-color: #272822\">=</span><span style=\"color: #f8f8f2; text-decoration-color: #f8f8f2; background-color: #272822\"> web_search(query</span><span style=\"color: #ff4689; text-decoration-color: #ff4689; background-color: #272822\">=</span><span style=\"color: #e6db74; text-decoration-color: #e6db74; background-color: #272822\">\"what is supervised learning in machine learning\"</span><span style=\"color: #f8f8f2; text-decoration-color: #f8f8f2; background-color: #272822\">)</span><span style=\"background-color: #272822\">                           </span>  \n",
       "  <span style=\"color: #f8f8f2; text-decoration-color: #f8f8f2; background-color: #272822\">print(search_results)</span><span style=\"background-color: #272822\">                                                                                          </span>  \n",
       " ───────────────────────────────────────────────────────────────────────────────────────────────────────────────── \n",
       "</pre>\n"
      ],
      "text/plain": [
       " ─ \u001b[1mExecuting parsed code:\u001b[0m ──────────────────────────────────────────────────────────────────────────────────────── \n",
       "  \u001b[38;2;248;248;242;48;2;39;40;34msearch_results\u001b[0m\u001b[38;2;248;248;242;48;2;39;40;34m \u001b[0m\u001b[38;2;255;70;137;48;2;39;40;34m=\u001b[0m\u001b[38;2;248;248;242;48;2;39;40;34m \u001b[0m\u001b[38;2;248;248;242;48;2;39;40;34mweb_search\u001b[0m\u001b[38;2;248;248;242;48;2;39;40;34m(\u001b[0m\u001b[38;2;248;248;242;48;2;39;40;34mquery\u001b[0m\u001b[38;2;255;70;137;48;2;39;40;34m=\u001b[0m\u001b[38;2;230;219;116;48;2;39;40;34m\"\u001b[0m\u001b[38;2;230;219;116;48;2;39;40;34mwhat is supervised learning in machine learning\u001b[0m\u001b[38;2;230;219;116;48;2;39;40;34m\"\u001b[0m\u001b[38;2;248;248;242;48;2;39;40;34m)\u001b[0m\u001b[48;2;39;40;34m                           \u001b[0m  \n",
       "  \u001b[38;2;248;248;242;48;2;39;40;34mprint\u001b[0m\u001b[38;2;248;248;242;48;2;39;40;34m(\u001b[0m\u001b[38;2;248;248;242;48;2;39;40;34msearch_results\u001b[0m\u001b[38;2;248;248;242;48;2;39;40;34m)\u001b[0m\u001b[48;2;39;40;34m                                                                                          \u001b[0m  \n",
       " ───────────────────────────────────────────────────────────────────────────────────────────────────────────────── \n"
      ]
     },
     "metadata": {},
     "output_type": "display_data"
    },
    {
     "data": {
      "text/html": [
       "<pre style=\"white-space:pre;overflow-x:auto;line-height:normal;font-family:Menlo,'DejaVu Sans Mono',consolas,'Courier New',monospace\"><span style=\"font-weight: bold\">Execution logs:</span>\n",
       "## Search Results\n",
       "\n",
       "[Supervised Machine Learning - GeeksforGeeks](https://www.geeksforgeeks.org/supervised-machine-learning/)\n",
       "Supervised machine learning is a fundamental approach for machine learning and artificial intelligence. It involves\n",
       "training a model using labeled data, where each input comes with a corresponding correct output. The process is \n",
       "like a teacher guiding a student—hence the term \"supervised\" learning.\n",
       "\n",
       "[What Is Supervised Learning? - IBM](https://www.ibm.com/think/topics/supervised-learning)\n",
       "Supervised learning is a machine learning technique that uses labeled data sets to train artificial intelligence \n",
       "algorithms models to identify the underlying patterns and relationships between input features and outputs.\n",
       "\n",
       "[Supervised and Unsupervised learning - \n",
       "GeeksforGeeks](https://www.geeksforgeeks.org/supervised-unsupervised-learning/)\n",
       "Supervised and unsupervised learning are two fundamental approaches to machine learning that differ in their \n",
       "training data and learning objectives. Supervised learning involves training a machine learning model on a labeled \n",
       "dataset, where each data point has a corresponding label or output value.\n",
       "\n",
       "[Supervised Machine Learning - DataCamp](https://www.datacamp.com/blog/supervised-machine-learning)\n",
       "Discover what supervised machine learning is, how it compares to unsupervised machine learning and how some \n",
       "essential supervised machine learning algorithms work. Supervised machine learning is a type of machine learning \n",
       "that learns the relationship between input and output.\n",
       "\n",
       "[What Is Supervised Learning? (Definition, Examples) - Built \n",
       "In](https://builtin.com/machine-learning/supervised-learning)\n",
       "Supervised learning is an approach to machine learning that uses labeled data sets to train algorithms in order to \n",
       "properly classify data and predict outcomes.\n",
       "\n",
       "[Supervised Machine Learning: What is, Algorithms with Examples - \n",
       "Guru99](https://www.guru99.com/supervised-machine-learning.html)\n",
       "Supervised Machine Learning is an algorithm that learns from labeled training data to help you predict outcomes for\n",
       "unforeseen data. In Supervised learning, you train the machine using data that is well \"labeled.\" It means some \n",
       "data is already tagged with correct answers. It can be compared to learning in the presence of a supervisor or a \n",
       "teacher.\n",
       "\n",
       "[Machine Learning Basics: What Is Supervised Learning?](https://www.coursera.org/articles/supervised-learning)\n",
       "Supervised learning, a subset of machine learning, involves training models and algorithms to predict \n",
       "characteristics of new, unseen data using labeled data sets. Each output matches an input, meaning a corresponding \n",
       "output label exists for each input feature present in the labeled data.\n",
       "\n",
       "[Supervised machine learning: Types, use cases, applications \n",
       "...](https://www.leewayhertz.com/supervised-machine-learning/)\n",
       "Supervised learning or supervised machine learning is an ML technique that involves training a model on labeled \n",
       "data to make predictions or classifications. In this approach, the algorithm learns from a given dataset whose \n",
       "corresponding label or target variable accompanies each data instance.\n",
       "\n",
       "[Supervised Learning: Algorithms, Examples, and How It Works - \n",
       "DatabaseTown](https://databasetown.com/supervised-learning-algorithms/)\n",
       "Supervised machine learning is a branch of artificial intelligence that focuses on training models to make \n",
       "predictions or decisions based on labeled training data. It involves a learning process where the model learns from\n",
       "known examples to predict or classify unseen or future instances accurately. What is Supervised Machine Learning?\n",
       "\n",
       "[Supervised Machine Learning: All You Need to \n",
       "Know](https://www.simplilearn.com/tutorials/machine-learning-tutorial/supervised-machine-learning)\n",
       "In supervised learning, machines are trained using labeled data, also known as training data, to predict results. \n",
       "Data that has been tagged with one or more names and is already familiar to the computer is called \"labeled data.\"\n",
       "\n",
       "Out: None\n",
       "</pre>\n"
      ],
      "text/plain": [
       "\u001b[1mExecution logs:\u001b[0m\n",
       "## Search Results\n",
       "\n",
       "[Supervised Machine Learning - GeeksforGeeks](https://www.geeksforgeeks.org/supervised-machine-learning/)\n",
       "Supervised machine learning is a fundamental approach for machine learning and artificial intelligence. It involves\n",
       "training a model using labeled data, where each input comes with a corresponding correct output. The process is \n",
       "like a teacher guiding a student—hence the term \"supervised\" learning.\n",
       "\n",
       "[What Is Supervised Learning? - IBM](https://www.ibm.com/think/topics/supervised-learning)\n",
       "Supervised learning is a machine learning technique that uses labeled data sets to train artificial intelligence \n",
       "algorithms models to identify the underlying patterns and relationships between input features and outputs.\n",
       "\n",
       "[Supervised and Unsupervised learning - \n",
       "GeeksforGeeks](https://www.geeksforgeeks.org/supervised-unsupervised-learning/)\n",
       "Supervised and unsupervised learning are two fundamental approaches to machine learning that differ in their \n",
       "training data and learning objectives. Supervised learning involves training a machine learning model on a labeled \n",
       "dataset, where each data point has a corresponding label or output value.\n",
       "\n",
       "[Supervised Machine Learning - DataCamp](https://www.datacamp.com/blog/supervised-machine-learning)\n",
       "Discover what supervised machine learning is, how it compares to unsupervised machine learning and how some \n",
       "essential supervised machine learning algorithms work. Supervised machine learning is a type of machine learning \n",
       "that learns the relationship between input and output.\n",
       "\n",
       "[What Is Supervised Learning? (Definition, Examples) - Built \n",
       "In](https://builtin.com/machine-learning/supervised-learning)\n",
       "Supervised learning is an approach to machine learning that uses labeled data sets to train algorithms in order to \n",
       "properly classify data and predict outcomes.\n",
       "\n",
       "[Supervised Machine Learning: What is, Algorithms with Examples - \n",
       "Guru99](https://www.guru99.com/supervised-machine-learning.html)\n",
       "Supervised Machine Learning is an algorithm that learns from labeled training data to help you predict outcomes for\n",
       "unforeseen data. In Supervised learning, you train the machine using data that is well \"labeled.\" It means some \n",
       "data is already tagged with correct answers. It can be compared to learning in the presence of a supervisor or a \n",
       "teacher.\n",
       "\n",
       "[Machine Learning Basics: What Is Supervised Learning?](https://www.coursera.org/articles/supervised-learning)\n",
       "Supervised learning, a subset of machine learning, involves training models and algorithms to predict \n",
       "characteristics of new, unseen data using labeled data sets. Each output matches an input, meaning a corresponding \n",
       "output label exists for each input feature present in the labeled data.\n",
       "\n",
       "[Supervised machine learning: Types, use cases, applications \n",
       "...](https://www.leewayhertz.com/supervised-machine-learning/)\n",
       "Supervised learning or supervised machine learning is an ML technique that involves training a model on labeled \n",
       "data to make predictions or classifications. In this approach, the algorithm learns from a given dataset whose \n",
       "corresponding label or target variable accompanies each data instance.\n",
       "\n",
       "[Supervised Learning: Algorithms, Examples, and How It Works - \n",
       "DatabaseTown](https://databasetown.com/supervised-learning-algorithms/)\n",
       "Supervised machine learning is a branch of artificial intelligence that focuses on training models to make \n",
       "predictions or decisions based on labeled training data. It involves a learning process where the model learns from\n",
       "known examples to predict or classify unseen or future instances accurately. What is Supervised Machine Learning?\n",
       "\n",
       "[Supervised Machine Learning: All You Need to \n",
       "Know](https://www.simplilearn.com/tutorials/machine-learning-tutorial/supervised-machine-learning)\n",
       "In supervised learning, machines are trained using labeled data, also known as training data, to predict results. \n",
       "Data that has been tagged with one or more names and is already familiar to the computer is called \"labeled data.\"\n",
       "\n",
       "Out: None\n"
      ]
     },
     "metadata": {},
     "output_type": "display_data"
    },
    {
     "data": {
      "text/html": [
       "<pre style=\"white-space:pre;overflow-x:auto;line-height:normal;font-family:Menlo,'DejaVu Sans Mono',consolas,'Courier New',monospace\"><span style=\"color: #7f7f7f; text-decoration-color: #7f7f7f\">[Step 1: Duration 19.20 seconds| Input tokens: 2,079 | Output tokens: 57]</span>\n",
       "</pre>\n"
      ],
      "text/plain": [
       "\u001b[2m[Step 1: Duration 19.20 seconds| Input tokens: 2,079 | Output tokens: 57]\u001b[0m\n"
      ]
     },
     "metadata": {},
     "output_type": "display_data"
    },
    {
     "data": {
      "text/html": [
       "<pre style=\"white-space:pre;overflow-x:auto;line-height:normal;font-family:Menlo,'DejaVu Sans Mono',consolas,'Courier New',monospace\"><span style=\"color: #d4b702; text-decoration-color: #d4b702\">━━━━━━━━━━━━━━━━━━━━━━━━━━━━━━━━━━━━━━━━━━━━━━━━━━━━━ </span><span style=\"font-weight: bold\">Step </span><span style=\"color: #008080; text-decoration-color: #008080; font-weight: bold\">2</span><span style=\"color: #d4b702; text-decoration-color: #d4b702\"> ━━━━━━━━━━━━━━━━━━━━━━━━━━━━━━━━━━━━━━━━━━━━━━━━━━━━━━</span>\n",
       "</pre>\n"
      ],
      "text/plain": [
       "\u001b[38;2;212;183;2m━━━━━━━━━━━━━━━━━━━━━━━━━━━━━━━━━━━━━━━━━━━━━━━━━━━━━ \u001b[0m\u001b[1mStep \u001b[0m\u001b[1;36m2\u001b[0m\u001b[38;2;212;183;2m ━━━━━━━━━━━━━━━━━━━━━━━━━━━━━━━━━━━━━━━━━━━━━━━━━━━━━━\u001b[0m\n"
      ]
     },
     "metadata": {},
     "output_type": "display_data"
    },
    {
     "data": {
      "text/html": [
       "<pre style=\"white-space:pre;overflow-x:auto;line-height:normal;font-family:Menlo,'DejaVu Sans Mono',consolas,'Courier New',monospace\"> ─ <span style=\"font-weight: bold\">Executing parsed code:</span> ──────────────────────────────────────────────────────────────────────────────────────── \n",
       "  <span style=\"color: #f8f8f2; text-decoration-color: #f8f8f2; background-color: #272822\">summary </span><span style=\"color: #ff4689; text-decoration-color: #ff4689; background-color: #272822\">=</span><span style=\"color: #f8f8f2; text-decoration-color: #f8f8f2; background-color: #272822\"> (</span><span style=\"background-color: #272822\">                                                                                                    </span>  \n",
       "  <span style=\"color: #f8f8f2; text-decoration-color: #f8f8f2; background-color: #272822\">    </span><span style=\"color: #e6db74; text-decoration-color: #e6db74; background-color: #272822\">\"Supervised learning is a type of machine learning where a model is trained using labeled data, meaning </span><span style=\"background-color: #272822\">   </span>  \n",
       "  <span style=\"color: #e6db74; text-decoration-color: #e6db74; background-color: #272822\">each training example is paired with the correct output. \"</span><span style=\"background-color: #272822\">                                                     </span>  \n",
       "  <span style=\"color: #f8f8f2; text-decoration-color: #f8f8f2; background-color: #272822\">    </span><span style=\"color: #e6db74; text-decoration-color: #e6db74; background-color: #272822\">\"The model learns the mapping from inputs to outputs by finding patterns in the training data. It is called</span>  \n",
       "  <span style=\"color: #e6db74; text-decoration-color: #e6db74; background-color: #272822\">'supervised' because, during training, the model is 'supervised' \"</span><span style=\"background-color: #272822\">                                             </span>  \n",
       "  <span style=\"color: #f8f8f2; text-decoration-color: #f8f8f2; background-color: #272822\">    </span><span style=\"color: #e6db74; text-decoration-color: #e6db74; background-color: #272822\">\"by the correct answers, similar to a teacher guiding a student. The primary goal is to build a model that </span>  \n",
       "  <span style=\"color: #e6db74; text-decoration-color: #e6db74; background-color: #272822\">can make accurate predictions or classifications on new, \"</span><span style=\"background-color: #272822\">                                                     </span>  \n",
       "  <span style=\"color: #f8f8f2; text-decoration-color: #f8f8f2; background-color: #272822\">    </span><span style=\"color: #e6db74; text-decoration-color: #e6db74; background-color: #272822\">\"unseen data based on what it has learned from the training dataset. This approach is widely used in </span><span style=\"background-color: #272822\">      </span>  \n",
       "  <span style=\"color: #e6db74; text-decoration-color: #e6db74; background-color: #272822\">various applications such as image recognition, speech \"</span><span style=\"background-color: #272822\">                                                       </span>  \n",
       "  <span style=\"color: #f8f8f2; text-decoration-color: #f8f8f2; background-color: #272822\">    </span><span style=\"color: #e6db74; text-decoration-color: #e6db74; background-color: #272822\">\"recognition, and natural language processing.\"</span><span style=\"background-color: #272822\">                                                            </span>  \n",
       "  <span style=\"color: #f8f8f2; text-decoration-color: #f8f8f2; background-color: #272822\">)</span><span style=\"background-color: #272822\">                                                                                                              </span>  \n",
       "  <span style=\"background-color: #272822\">                                                                                                               </span>  \n",
       "  <span style=\"color: #f8f8f2; text-decoration-color: #f8f8f2; background-color: #272822\">final_answer(summary)</span><span style=\"background-color: #272822\">                                                                                          </span>  \n",
       " ───────────────────────────────────────────────────────────────────────────────────────────────────────────────── \n",
       "</pre>\n"
      ],
      "text/plain": [
       " ─ \u001b[1mExecuting parsed code:\u001b[0m ──────────────────────────────────────────────────────────────────────────────────────── \n",
       "  \u001b[38;2;248;248;242;48;2;39;40;34msummary\u001b[0m\u001b[38;2;248;248;242;48;2;39;40;34m \u001b[0m\u001b[38;2;255;70;137;48;2;39;40;34m=\u001b[0m\u001b[38;2;248;248;242;48;2;39;40;34m \u001b[0m\u001b[38;2;248;248;242;48;2;39;40;34m(\u001b[0m\u001b[48;2;39;40;34m                                                                                                    \u001b[0m  \n",
       "  \u001b[38;2;248;248;242;48;2;39;40;34m    \u001b[0m\u001b[38;2;230;219;116;48;2;39;40;34m\"\u001b[0m\u001b[38;2;230;219;116;48;2;39;40;34mSupervised learning is a type of machine learning where a model is trained using labeled data, meaning \u001b[0m\u001b[48;2;39;40;34m   \u001b[0m  \n",
       "  \u001b[38;2;230;219;116;48;2;39;40;34meach training example is paired with the correct output. \u001b[0m\u001b[38;2;230;219;116;48;2;39;40;34m\"\u001b[0m\u001b[48;2;39;40;34m                                                     \u001b[0m  \n",
       "  \u001b[38;2;248;248;242;48;2;39;40;34m    \u001b[0m\u001b[38;2;230;219;116;48;2;39;40;34m\"\u001b[0m\u001b[38;2;230;219;116;48;2;39;40;34mThe model learns the mapping from inputs to outputs by finding patterns in the training data. It is called\u001b[0m  \n",
       "  \u001b[38;2;230;219;116;48;2;39;40;34m'\u001b[0m\u001b[38;2;230;219;116;48;2;39;40;34msupervised\u001b[0m\u001b[38;2;230;219;116;48;2;39;40;34m'\u001b[0m\u001b[38;2;230;219;116;48;2;39;40;34m because, during training, the model is \u001b[0m\u001b[38;2;230;219;116;48;2;39;40;34m'\u001b[0m\u001b[38;2;230;219;116;48;2;39;40;34msupervised\u001b[0m\u001b[38;2;230;219;116;48;2;39;40;34m'\u001b[0m\u001b[38;2;230;219;116;48;2;39;40;34m \u001b[0m\u001b[38;2;230;219;116;48;2;39;40;34m\"\u001b[0m\u001b[48;2;39;40;34m                                             \u001b[0m  \n",
       "  \u001b[38;2;248;248;242;48;2;39;40;34m    \u001b[0m\u001b[38;2;230;219;116;48;2;39;40;34m\"\u001b[0m\u001b[38;2;230;219;116;48;2;39;40;34mby the correct answers, similar to a teacher guiding a student. The primary goal is to build a model that \u001b[0m  \n",
       "  \u001b[38;2;230;219;116;48;2;39;40;34mcan make accurate predictions or classifications on new, \u001b[0m\u001b[38;2;230;219;116;48;2;39;40;34m\"\u001b[0m\u001b[48;2;39;40;34m                                                     \u001b[0m  \n",
       "  \u001b[38;2;248;248;242;48;2;39;40;34m    \u001b[0m\u001b[38;2;230;219;116;48;2;39;40;34m\"\u001b[0m\u001b[38;2;230;219;116;48;2;39;40;34munseen data based on what it has learned from the training dataset. This approach is widely used in \u001b[0m\u001b[48;2;39;40;34m      \u001b[0m  \n",
       "  \u001b[38;2;230;219;116;48;2;39;40;34mvarious applications such as image recognition, speech \u001b[0m\u001b[38;2;230;219;116;48;2;39;40;34m\"\u001b[0m\u001b[48;2;39;40;34m                                                       \u001b[0m  \n",
       "  \u001b[38;2;248;248;242;48;2;39;40;34m    \u001b[0m\u001b[38;2;230;219;116;48;2;39;40;34m\"\u001b[0m\u001b[38;2;230;219;116;48;2;39;40;34mrecognition, and natural language processing.\u001b[0m\u001b[38;2;230;219;116;48;2;39;40;34m\"\u001b[0m\u001b[48;2;39;40;34m                                                            \u001b[0m  \n",
       "  \u001b[38;2;248;248;242;48;2;39;40;34m)\u001b[0m\u001b[48;2;39;40;34m                                                                                                              \u001b[0m  \n",
       "  \u001b[48;2;39;40;34m                                                                                                               \u001b[0m  \n",
       "  \u001b[38;2;248;248;242;48;2;39;40;34mfinal_answer\u001b[0m\u001b[38;2;248;248;242;48;2;39;40;34m(\u001b[0m\u001b[38;2;248;248;242;48;2;39;40;34msummary\u001b[0m\u001b[38;2;248;248;242;48;2;39;40;34m)\u001b[0m\u001b[48;2;39;40;34m                                                                                          \u001b[0m  \n",
       " ───────────────────────────────────────────────────────────────────────────────────────────────────────────────── \n"
      ]
     },
     "metadata": {},
     "output_type": "display_data"
    },
    {
     "data": {
      "text/html": [
       "<pre style=\"white-space:pre;overflow-x:auto;line-height:normal;font-family:Menlo,'DejaVu Sans Mono',consolas,'Courier New',monospace\"><span style=\"color: #d4b702; text-decoration-color: #d4b702; font-weight: bold\">Out - Final answer: Supervised learning is a type of machine learning where a model is trained using labeled data, </span>\n",
       "<span style=\"color: #d4b702; text-decoration-color: #d4b702; font-weight: bold\">meaning each training example is paired with the correct output. The model learns the mapping from inputs to </span>\n",
       "<span style=\"color: #d4b702; text-decoration-color: #d4b702; font-weight: bold\">outputs by finding patterns in the training data. It is called 'supervised' because, during training, the model is </span>\n",
       "<span style=\"color: #d4b702; text-decoration-color: #d4b702; font-weight: bold\">'supervised' by the correct answers, similar to a teacher guiding a student. The primary goal is to build a model </span>\n",
       "<span style=\"color: #d4b702; text-decoration-color: #d4b702; font-weight: bold\">that can make accurate predictions or classifications on new, unseen data based on what it has learned from the </span>\n",
       "<span style=\"color: #d4b702; text-decoration-color: #d4b702; font-weight: bold\">training dataset. This approach is widely used in various applications such as image recognition, speech </span>\n",
       "<span style=\"color: #d4b702; text-decoration-color: #d4b702; font-weight: bold\">recognition, and natural language processing.</span>\n",
       "</pre>\n"
      ],
      "text/plain": [
       "\u001b[1;38;2;212;183;2mOut - Final answer: Supervised learning is a type of machine learning where a model is trained using labeled data, \u001b[0m\n",
       "\u001b[1;38;2;212;183;2mmeaning each training example is paired with the correct output. The model learns the mapping from inputs to \u001b[0m\n",
       "\u001b[1;38;2;212;183;2moutputs by finding patterns in the training data. It is called 'supervised' because, during training, the model is \u001b[0m\n",
       "\u001b[1;38;2;212;183;2m'supervised' by the correct answers, similar to a teacher guiding a student. The primary goal is to build a model \u001b[0m\n",
       "\u001b[1;38;2;212;183;2mthat can make accurate predictions or classifications on new, unseen data based on what it has learned from the \u001b[0m\n",
       "\u001b[1;38;2;212;183;2mtraining dataset. This approach is widely used in various applications such as image recognition, speech \u001b[0m\n",
       "\u001b[1;38;2;212;183;2mrecognition, and natural language processing.\u001b[0m\n"
      ]
     },
     "metadata": {},
     "output_type": "display_data"
    },
    {
     "data": {
      "text/html": [
       "<pre style=\"white-space:pre;overflow-x:auto;line-height:normal;font-family:Menlo,'DejaVu Sans Mono',consolas,'Courier New',monospace\"><span style=\"color: #7f7f7f; text-decoration-color: #7f7f7f\">[Step 2: Duration 10.07 seconds| Input tokens: 5,059 | Output tokens: 249]</span>\n",
       "</pre>\n"
      ],
      "text/plain": [
       "\u001b[2m[Step 2: Duration 10.07 seconds| Input tokens: 5,059 | Output tokens: 249]\u001b[0m\n"
      ]
     },
     "metadata": {},
     "output_type": "display_data"
    },
    {
     "name": "stdout",
     "output_type": "stream",
     "text": [
      "Supervised learning is a type of machine learning where a model is trained using labeled data, meaning each training example is paired with the correct output. The model learns the mapping from inputs to outputs by finding patterns in the training data. It is called 'supervised' because, during training, the model is 'supervised' by the correct answers, similar to a teacher guiding a student. The primary goal is to build a model that can make accurate predictions or classifications on new, unseen data based on what it has learned from the training dataset. This approach is widely used in various applications such as image recognition, speech recognition, and natural language processing.\n",
      "---\n"
     ]
    },
    {
     "data": {
      "text/html": [
       "<pre style=\"white-space:pre;overflow-x:auto;line-height:normal;font-family:Menlo,'DejaVu Sans Mono',consolas,'Courier New',monospace\"><span style=\"color: #d4b702; text-decoration-color: #d4b702\">╭──────────────────────────────────────────────────── </span><span style=\"color: #d4b702; text-decoration-color: #d4b702; font-weight: bold\">New run</span><span style=\"color: #d4b702; text-decoration-color: #d4b702\"> ────────────────────────────────────────────────────╮</span>\n",
       "<span style=\"color: #d4b702; text-decoration-color: #d4b702\">│</span>                                                                                                                 <span style=\"color: #d4b702; text-decoration-color: #d4b702\">│</span>\n",
       "<span style=\"color: #d4b702; text-decoration-color: #d4b702\">│</span> <span style=\"font-weight: bold\">What are some popular algorithms for this type?</span>                                                                 <span style=\"color: #d4b702; text-decoration-color: #d4b702\">│</span>\n",
       "<span style=\"color: #d4b702; text-decoration-color: #d4b702\">│</span>                                                                                                                 <span style=\"color: #d4b702; text-decoration-color: #d4b702\">│</span>\n",
       "<span style=\"color: #d4b702; text-decoration-color: #d4b702\">╰─ HfApiModel - Qwen/Qwen2.5-Coder-32B-Instruct ──────────────────────────────────────────────────────────────────╯</span>\n",
       "</pre>\n"
      ],
      "text/plain": [
       "\u001b[38;2;212;183;2m╭─\u001b[0m\u001b[38;2;212;183;2m───────────────────────────────────────────────────\u001b[0m\u001b[38;2;212;183;2m \u001b[0m\u001b[1;38;2;212;183;2mNew run\u001b[0m\u001b[38;2;212;183;2m \u001b[0m\u001b[38;2;212;183;2m───────────────────────────────────────────────────\u001b[0m\u001b[38;2;212;183;2m─╮\u001b[0m\n",
       "\u001b[38;2;212;183;2m│\u001b[0m                                                                                                                 \u001b[38;2;212;183;2m│\u001b[0m\n",
       "\u001b[38;2;212;183;2m│\u001b[0m \u001b[1mWhat are some popular algorithms for this type?\u001b[0m                                                                 \u001b[38;2;212;183;2m│\u001b[0m\n",
       "\u001b[38;2;212;183;2m│\u001b[0m                                                                                                                 \u001b[38;2;212;183;2m│\u001b[0m\n",
       "\u001b[38;2;212;183;2m╰─\u001b[0m\u001b[38;2;212;183;2m HfApiModel - Qwen/Qwen2.5-Coder-32B-Instruct \u001b[0m\u001b[38;2;212;183;2m─────────────────────────────────────────────────────────────────\u001b[0m\u001b[38;2;212;183;2m─╯\u001b[0m\n"
      ]
     },
     "metadata": {},
     "output_type": "display_data"
    },
    {
     "data": {
      "text/html": [
       "<pre style=\"white-space:pre;overflow-x:auto;line-height:normal;font-family:Menlo,'DejaVu Sans Mono',consolas,'Courier New',monospace\"><span style=\"color: #d4b702; text-decoration-color: #d4b702\">━━━━━━━━━━━━━━━━━━━━━━━━━━━━━━━━━━━━━━━━━━━━━━━━━━━━━ </span><span style=\"font-weight: bold\">Step </span><span style=\"color: #008080; text-decoration-color: #008080; font-weight: bold\">1</span><span style=\"color: #d4b702; text-decoration-color: #d4b702\"> ━━━━━━━━━━━━━━━━━━━━━━━━━━━━━━━━━━━━━━━━━━━━━━━━━━━━━━</span>\n",
       "</pre>\n"
      ],
      "text/plain": [
       "\u001b[38;2;212;183;2m━━━━━━━━━━━━━━━━━━━━━━━━━━━━━━━━━━━━━━━━━━━━━━━━━━━━━ \u001b[0m\u001b[1mStep \u001b[0m\u001b[1;36m1\u001b[0m\u001b[38;2;212;183;2m ━━━━━━━━━━━━━━━━━━━━━━━━━━━━━━━━━━━━━━━━━━━━━━━━━━━━━━\u001b[0m\n"
      ]
     },
     "metadata": {},
     "output_type": "display_data"
    },
    {
     "data": {
      "text/html": [
       "<pre style=\"white-space:pre;overflow-x:auto;line-height:normal;font-family:Menlo,'DejaVu Sans Mono',consolas,'Courier New',monospace\"> ─ <span style=\"font-weight: bold\">Executing parsed code:</span> ──────────────────────────────────────────────────────────────────────────────────────── \n",
       "  <span style=\"color: #f8f8f2; text-decoration-color: #f8f8f2; background-color: #272822\">search_query </span><span style=\"color: #ff4689; text-decoration-color: #ff4689; background-color: #272822\">=</span><span style=\"color: #f8f8f2; text-decoration-color: #f8f8f2; background-color: #272822\"> </span><span style=\"color: #e6db74; text-decoration-color: #e6db74; background-color: #272822\">\"popular algorithms\"</span><span style=\"background-color: #272822\">                                                                            </span>  \n",
       "  <span style=\"color: #f8f8f2; text-decoration-color: #f8f8f2; background-color: #272822\">search_results </span><span style=\"color: #ff4689; text-decoration-color: #ff4689; background-color: #272822\">=</span><span style=\"color: #f8f8f2; text-decoration-color: #f8f8f2; background-color: #272822\"> web_search(query</span><span style=\"color: #ff4689; text-decoration-color: #ff4689; background-color: #272822\">=</span><span style=\"color: #f8f8f2; text-decoration-color: #f8f8f2; background-color: #272822\">search_query)</span><span style=\"background-color: #272822\">                                                                </span>  \n",
       "  <span style=\"color: #f8f8f2; text-decoration-color: #f8f8f2; background-color: #272822\">print(search_results)</span><span style=\"background-color: #272822\">                                                                                          </span>  \n",
       " ───────────────────────────────────────────────────────────────────────────────────────────────────────────────── \n",
       "</pre>\n"
      ],
      "text/plain": [
       " ─ \u001b[1mExecuting parsed code:\u001b[0m ──────────────────────────────────────────────────────────────────────────────────────── \n",
       "  \u001b[38;2;248;248;242;48;2;39;40;34msearch_query\u001b[0m\u001b[38;2;248;248;242;48;2;39;40;34m \u001b[0m\u001b[38;2;255;70;137;48;2;39;40;34m=\u001b[0m\u001b[38;2;248;248;242;48;2;39;40;34m \u001b[0m\u001b[38;2;230;219;116;48;2;39;40;34m\"\u001b[0m\u001b[38;2;230;219;116;48;2;39;40;34mpopular algorithms\u001b[0m\u001b[38;2;230;219;116;48;2;39;40;34m\"\u001b[0m\u001b[48;2;39;40;34m                                                                            \u001b[0m  \n",
       "  \u001b[38;2;248;248;242;48;2;39;40;34msearch_results\u001b[0m\u001b[38;2;248;248;242;48;2;39;40;34m \u001b[0m\u001b[38;2;255;70;137;48;2;39;40;34m=\u001b[0m\u001b[38;2;248;248;242;48;2;39;40;34m \u001b[0m\u001b[38;2;248;248;242;48;2;39;40;34mweb_search\u001b[0m\u001b[38;2;248;248;242;48;2;39;40;34m(\u001b[0m\u001b[38;2;248;248;242;48;2;39;40;34mquery\u001b[0m\u001b[38;2;255;70;137;48;2;39;40;34m=\u001b[0m\u001b[38;2;248;248;242;48;2;39;40;34msearch_query\u001b[0m\u001b[38;2;248;248;242;48;2;39;40;34m)\u001b[0m\u001b[48;2;39;40;34m                                                                \u001b[0m  \n",
       "  \u001b[38;2;248;248;242;48;2;39;40;34mprint\u001b[0m\u001b[38;2;248;248;242;48;2;39;40;34m(\u001b[0m\u001b[38;2;248;248;242;48;2;39;40;34msearch_results\u001b[0m\u001b[38;2;248;248;242;48;2;39;40;34m)\u001b[0m\u001b[48;2;39;40;34m                                                                                          \u001b[0m  \n",
       " ───────────────────────────────────────────────────────────────────────────────────────────────────────────────── \n"
      ]
     },
     "metadata": {},
     "output_type": "display_data"
    },
    {
     "data": {
      "text/html": [
       "<pre style=\"white-space:pre;overflow-x:auto;line-height:normal;font-family:Menlo,'DejaVu Sans Mono',consolas,'Courier New',monospace\"><span style=\"font-weight: bold\">Execution logs:</span>\n",
       "## Search Results\n",
       "\n",
       "[List of algorithms - Wikipedia](https://en.wikipedia.org/wiki/List_of_algorithms)\n",
       "With the increasing automation of services, more and more decisions are being made by algorithms. Some general \n",
       "examples are; risk assessments, anticipatory policing, and pattern recognition technology. [1] The following is a \n",
       "list of well-known algorithms along with one-line descriptions for each. Coloring algorithm: Graph coloring \n",
       "algorithm.\n",
       "\n",
       "[Top 25 Algorithms Every Programmer Should Know - Techie \n",
       "Delight](https://www.techiedelight.com/top-25-algorithms-every-programmer-should-know/)\n",
       "Learn the most common and useful algorithms for various problems in computer science, such as sorting, searching, \n",
       "graph, and string algorithms. See examples, pseudocode, and complexity analysis for each algorithm.\n",
       "\n",
       "[Top 10 Algorithms and Data Structures for Competitive \n",
       "Programming](https://www.geeksforgeeks.org/top-algorithms-and-data-structures-for-competitive-programming/)\n",
       "In this post, we will discuss Important top 10 algorithms and data structures for competitive coding. Topics : The \n",
       "links below cover most important algorithms and data structure topics: Graph Algorithms. All Graph Algorithms. \n",
       "Dynamic Programming. All DP Algorithms. Searching And Sorting. All Articles on Searching, Sorting and Pattern \n",
       "Searching.\n",
       "\n",
       "[10 Most Important Algorithms For Coding Interviews](https://www.geeksforgeeks.org/algorithms-for-interviews/)\n",
       "In this article, we'll read about some of the most important algorithms that will help you crack coding interviews.\n",
       "There are many important Algorithms of which a few of them are mentioned below: 1. Sorting Algorithms. Sorting \n",
       "algorithms are used to arrange the data in a specific order and use the same data to get the required information.\n",
       "\n",
       "[15 of the Most Important Algorithms That Helped Define Mathematics \n",
       "...](https://interestingengineering.com/lists/15-of-the-most-important-algorithms-that-helped-define-mathematics-co\n",
       "mputing-and-physics)\n",
       "Algorithms are pre-defined, self-contained sets of instructions designed to execute diverse functions, and they \n",
       "have been around for longer than you might expect. From ancient Babylon to the...\n",
       "\n",
       "[Top 25 Algorithms Every Programmer Should Know - GitHub](https://github.com/tiagoavila/top-25-algorithms)\n",
       "This list highlights the top 25 algorithms that you should be familiar with to excel in the field of programming \n",
       "and computer science. Binary Search is a divide-and-conquer algorithm for efficiently finding a target value within\n",
       "a sorted array. It repeatedly divides the search space in half.\n",
       "\n",
       "[Top 11 Algorithms Every Developer Should Know in \n",
       "2025](https://www.index.dev/blog/must-know-algorithms-for-developers)\n",
       "Discover the top 11 essential algorithms for software developers in 2025, including Sorting, Machine Learning, and \n",
       "more. Learn how they work with code examples and why they're important.\n",
       "\n",
       "[The Essential 25: Algorithms Every Programmer Should Master - \n",
       "Medium](https://medium.com/@johnadjanohoun/the-essential-25-algorithms-every-programmer-should-master-82c5514163ff)\n",
       "Here's a curated list of the top 25 algorithms that every programmer should have in their toolkit: — **Bubble \n",
       "Sort**: Simple yet inefficient, it repeatedly steps through the list, compares...\n",
       "\n",
       "[Top Algorithms/Data Structures/Concepts every computer science ... - \n",
       "Medium](https://medium.com/techie-delight/top-algorithms-data-structures-concepts-every-computer-science-student-sh\n",
       "ould-know-e0549c67b4ac)\n",
       "Along with the above algorithms, every computer science student is expected to implement the following data \n",
       "structures: Finally, one is also expected to be familiar with other programming...\n",
       "\n",
       "[10 Famous Algorithms Every Programmer Should \n",
       "Know](https://technotes.blog/2023/01/15/10-famous-algorithms-every-programmer-should-know/)\n",
       "In this blog post, we will take a look at the 10 most famous algorithms that every programmer should know. Sorting \n",
       "algorithms: Sorting algorithms are used to arrange data in a specific order. Quicksort, merge sort, and heap sort \n",
       "are some of the most popular and efficient algorithms for sorting data.\n",
       "\n",
       "Out: None\n",
       "</pre>\n"
      ],
      "text/plain": [
       "\u001b[1mExecution logs:\u001b[0m\n",
       "## Search Results\n",
       "\n",
       "[List of algorithms - Wikipedia](https://en.wikipedia.org/wiki/List_of_algorithms)\n",
       "With the increasing automation of services, more and more decisions are being made by algorithms. Some general \n",
       "examples are; risk assessments, anticipatory policing, and pattern recognition technology. [1] The following is a \n",
       "list of well-known algorithms along with one-line descriptions for each. Coloring algorithm: Graph coloring \n",
       "algorithm.\n",
       "\n",
       "[Top 25 Algorithms Every Programmer Should Know - Techie \n",
       "Delight](https://www.techiedelight.com/top-25-algorithms-every-programmer-should-know/)\n",
       "Learn the most common and useful algorithms for various problems in computer science, such as sorting, searching, \n",
       "graph, and string algorithms. See examples, pseudocode, and complexity analysis for each algorithm.\n",
       "\n",
       "[Top 10 Algorithms and Data Structures for Competitive \n",
       "Programming](https://www.geeksforgeeks.org/top-algorithms-and-data-structures-for-competitive-programming/)\n",
       "In this post, we will discuss Important top 10 algorithms and data structures for competitive coding. Topics : The \n",
       "links below cover most important algorithms and data structure topics: Graph Algorithms. All Graph Algorithms. \n",
       "Dynamic Programming. All DP Algorithms. Searching And Sorting. All Articles on Searching, Sorting and Pattern \n",
       "Searching.\n",
       "\n",
       "[10 Most Important Algorithms For Coding Interviews](https://www.geeksforgeeks.org/algorithms-for-interviews/)\n",
       "In this article, we'll read about some of the most important algorithms that will help you crack coding interviews.\n",
       "There are many important Algorithms of which a few of them are mentioned below: 1. Sorting Algorithms. Sorting \n",
       "algorithms are used to arrange the data in a specific order and use the same data to get the required information.\n",
       "\n",
       "[15 of the Most Important Algorithms That Helped Define Mathematics \n",
       "...](https://interestingengineering.com/lists/15-of-the-most-important-algorithms-that-helped-define-mathematics-co\n",
       "mputing-and-physics)\n",
       "Algorithms are pre-defined, self-contained sets of instructions designed to execute diverse functions, and they \n",
       "have been around for longer than you might expect. From ancient Babylon to the...\n",
       "\n",
       "[Top 25 Algorithms Every Programmer Should Know - GitHub](https://github.com/tiagoavila/top-25-algorithms)\n",
       "This list highlights the top 25 algorithms that you should be familiar with to excel in the field of programming \n",
       "and computer science. Binary Search is a divide-and-conquer algorithm for efficiently finding a target value within\n",
       "a sorted array. It repeatedly divides the search space in half.\n",
       "\n",
       "[Top 11 Algorithms Every Developer Should Know in \n",
       "2025](https://www.index.dev/blog/must-know-algorithms-for-developers)\n",
       "Discover the top 11 essential algorithms for software developers in 2025, including Sorting, Machine Learning, and \n",
       "more. Learn how they work with code examples and why they're important.\n",
       "\n",
       "[The Essential 25: Algorithms Every Programmer Should Master - \n",
       "Medium](https://medium.com/@johnadjanohoun/the-essential-25-algorithms-every-programmer-should-master-82c5514163ff)\n",
       "Here's a curated list of the top 25 algorithms that every programmer should have in their toolkit: — **Bubble \n",
       "Sort**: Simple yet inefficient, it repeatedly steps through the list, compares...\n",
       "\n",
       "[Top Algorithms/Data Structures/Concepts every computer science ... - \n",
       "Medium](https://medium.com/techie-delight/top-algorithms-data-structures-concepts-every-computer-science-student-sh\n",
       "ould-know-e0549c67b4ac)\n",
       "Along with the above algorithms, every computer science student is expected to implement the following data \n",
       "structures: Finally, one is also expected to be familiar with other programming...\n",
       "\n",
       "[10 Famous Algorithms Every Programmer Should \n",
       "Know](https://technotes.blog/2023/01/15/10-famous-algorithms-every-programmer-should-know/)\n",
       "In this blog post, we will take a look at the 10 most famous algorithms that every programmer should know. Sorting \n",
       "algorithms: Sorting algorithms are used to arrange data in a specific order. Quicksort, merge sort, and heap sort \n",
       "are some of the most popular and efficient algorithms for sorting data.\n",
       "\n",
       "Out: None\n"
      ]
     },
     "metadata": {},
     "output_type": "display_data"
    },
    {
     "data": {
      "text/html": [
       "<pre style=\"white-space:pre;overflow-x:auto;line-height:normal;font-family:Menlo,'DejaVu Sans Mono',consolas,'Courier New',monospace\"><span style=\"color: #7f7f7f; text-decoration-color: #7f7f7f\">[Step 1: Duration 9.33 seconds| Input tokens: 2,079 | Output tokens: 146]</span>\n",
       "</pre>\n"
      ],
      "text/plain": [
       "\u001b[2m[Step 1: Duration 9.33 seconds| Input tokens: 2,079 | Output tokens: 146]\u001b[0m\n"
      ]
     },
     "metadata": {},
     "output_type": "display_data"
    },
    {
     "data": {
      "text/html": [
       "<pre style=\"white-space:pre;overflow-x:auto;line-height:normal;font-family:Menlo,'DejaVu Sans Mono',consolas,'Courier New',monospace\"><span style=\"color: #d4b702; text-decoration-color: #d4b702\">━━━━━━━━━━━━━━━━━━━━━━━━━━━━━━━━━━━━━━━━━━━━━━━━━━━━━ </span><span style=\"font-weight: bold\">Step </span><span style=\"color: #008080; text-decoration-color: #008080; font-weight: bold\">2</span><span style=\"color: #d4b702; text-decoration-color: #d4b702\"> ━━━━━━━━━━━━━━━━━━━━━━━━━━━━━━━━━━━━━━━━━━━━━━━━━━━━━━</span>\n",
       "</pre>\n"
      ],
      "text/plain": [
       "\u001b[38;2;212;183;2m━━━━━━━━━━━━━━━━━━━━━━━━━━━━━━━━━━━━━━━━━━━━━━━━━━━━━ \u001b[0m\u001b[1mStep \u001b[0m\u001b[1;36m2\u001b[0m\u001b[38;2;212;183;2m ━━━━━━━━━━━━━━━━━━━━━━━━━━━━━━━━━━━━━━━━━━━━━━━━━━━━━━\u001b[0m\n"
      ]
     },
     "metadata": {},
     "output_type": "display_data"
    },
    {
     "data": {
      "text/html": [
       "<pre style=\"white-space:pre;overflow-x:auto;line-height:normal;font-family:Menlo,'DejaVu Sans Mono',consolas,'Courier New',monospace\"> ─ <span style=\"font-weight: bold\">Executing parsed code:</span> ──────────────────────────────────────────────────────────────────────────────────────── \n",
       "  <span style=\"color: #959077; text-decoration-color: #959077; background-color: #272822\"># Define a dictionary to categorize and list popular algorithms</span><span style=\"background-color: #272822\">                                                </span>  \n",
       "  <span style=\"color: #f8f8f2; text-decoration-color: #f8f8f2; background-color: #272822\">popular_algorithms </span><span style=\"color: #ff4689; text-decoration-color: #ff4689; background-color: #272822\">=</span><span style=\"color: #f8f8f2; text-decoration-color: #f8f8f2; background-color: #272822\"> {</span><span style=\"background-color: #272822\">                                                                                         </span>  \n",
       "  <span style=\"color: #f8f8f2; text-decoration-color: #f8f8f2; background-color: #272822\">    </span><span style=\"color: #e6db74; text-decoration-color: #e6db74; background-color: #272822\">\"Sorting\"</span><span style=\"color: #f8f8f2; text-decoration-color: #f8f8f2; background-color: #272822\">: [</span><span style=\"color: #e6db74; text-decoration-color: #e6db74; background-color: #272822\">\"Quicksort\"</span><span style=\"color: #f8f8f2; text-decoration-color: #f8f8f2; background-color: #272822\">, </span><span style=\"color: #e6db74; text-decoration-color: #e6db74; background-color: #272822\">\"Merge Sort\"</span><span style=\"color: #f8f8f2; text-decoration-color: #f8f8f2; background-color: #272822\">, </span><span style=\"color: #e6db74; text-decoration-color: #e6db74; background-color: #272822\">\"Heap Sort\"</span><span style=\"color: #f8f8f2; text-decoration-color: #f8f8f2; background-color: #272822\">, </span><span style=\"color: #e6db74; text-decoration-color: #e6db74; background-color: #272822\">\"Bubble Sort\"</span><span style=\"color: #f8f8f2; text-decoration-color: #f8f8f2; background-color: #272822\">, </span><span style=\"color: #e6db74; text-decoration-color: #e6db74; background-color: #272822\">\"Insertion Sort\"</span><span style=\"color: #f8f8f2; text-decoration-color: #f8f8f2; background-color: #272822\">, </span><span style=\"color: #e6db74; text-decoration-color: #e6db74; background-color: #272822\">\"Selection Sort\"</span><span style=\"color: #f8f8f2; text-decoration-color: #f8f8f2; background-color: #272822\">],</span><span style=\"background-color: #272822\">    </span>  \n",
       "  <span style=\"color: #f8f8f2; text-decoration-color: #f8f8f2; background-color: #272822\">    </span><span style=\"color: #e6db74; text-decoration-color: #e6db74; background-color: #272822\">\"Searching\"</span><span style=\"color: #f8f8f2; text-decoration-color: #f8f8f2; background-color: #272822\">: [</span><span style=\"color: #e6db74; text-decoration-color: #e6db74; background-color: #272822\">\"Binary Search\"</span><span style=\"color: #f8f8f2; text-decoration-color: #f8f8f2; background-color: #272822\">, </span><span style=\"color: #e6db74; text-decoration-color: #e6db74; background-color: #272822\">\"Linear Search\"</span><span style=\"color: #f8f8f2; text-decoration-color: #f8f8f2; background-color: #272822\">, </span><span style=\"color: #e6db74; text-decoration-color: #e6db74; background-color: #272822\">\"Jump Search\"</span><span style=\"color: #f8f8f2; text-decoration-color: #f8f8f2; background-color: #272822\">, </span><span style=\"color: #e6db74; text-decoration-color: #e6db74; background-color: #272822\">\"Interpolation Search\"</span><span style=\"color: #f8f8f2; text-decoration-color: #f8f8f2; background-color: #272822\">],</span><span style=\"background-color: #272822\">                    </span>  \n",
       "  <span style=\"color: #f8f8f2; text-decoration-color: #f8f8f2; background-color: #272822\">    </span><span style=\"color: #e6db74; text-decoration-color: #e6db74; background-color: #272822\">\"Graph\"</span><span style=\"color: #f8f8f2; text-decoration-color: #f8f8f2; background-color: #272822\">: [</span><span style=\"color: #e6db74; text-decoration-color: #e6db74; background-color: #272822\">\"Dijkstra's Algorithm\"</span><span style=\"color: #f8f8f2; text-decoration-color: #f8f8f2; background-color: #272822\">, </span><span style=\"color: #e6db74; text-decoration-color: #e6db74; background-color: #272822\">\"A* Search Algorithm\"</span><span style=\"color: #f8f8f2; text-decoration-color: #f8f8f2; background-color: #272822\">, </span><span style=\"color: #e6db74; text-decoration-color: #e6db74; background-color: #272822\">\"Bellman-Ford Algorithm\"</span><span style=\"color: #f8f8f2; text-decoration-color: #f8f8f2; background-color: #272822\">, </span><span style=\"color: #e6db74; text-decoration-color: #e6db74; background-color: #272822\">\"Floyd-Warshall </span><span style=\"background-color: #272822\">        </span>  \n",
       "  <span style=\"color: #e6db74; text-decoration-color: #e6db74; background-color: #272822\">Algorithm\"</span><span style=\"color: #f8f8f2; text-decoration-color: #f8f8f2; background-color: #272822\">, </span><span style=\"color: #e6db74; text-decoration-color: #e6db74; background-color: #272822\">\"Kruskal's Algorithm\"</span><span style=\"color: #f8f8f2; text-decoration-color: #f8f8f2; background-color: #272822\">, </span><span style=\"color: #e6db74; text-decoration-color: #e6db74; background-color: #272822\">\"Prim's Algorithm\"</span><span style=\"color: #f8f8f2; text-decoration-color: #f8f8f2; background-color: #272822\">],</span><span style=\"background-color: #272822\">                                                        </span>  \n",
       "  <span style=\"color: #f8f8f2; text-decoration-color: #f8f8f2; background-color: #272822\">    </span><span style=\"color: #e6db74; text-decoration-color: #e6db74; background-color: #272822\">\"String\"</span><span style=\"color: #f8f8f2; text-decoration-color: #f8f8f2; background-color: #272822\">: [</span><span style=\"color: #e6db74; text-decoration-color: #e6db74; background-color: #272822\">\"KMP Algorithm\"</span><span style=\"color: #f8f8f2; text-decoration-color: #f8f8f2; background-color: #272822\">, </span><span style=\"color: #e6db74; text-decoration-color: #e6db74; background-color: #272822\">\"Boyer-Moore Algorithm\"</span><span style=\"color: #f8f8f2; text-decoration-color: #f8f8f2; background-color: #272822\">, </span><span style=\"color: #e6db74; text-decoration-color: #e6db74; background-color: #272822\">\"Rabin-Karp Algorithm\"</span><span style=\"color: #f8f8f2; text-decoration-color: #f8f8f2; background-color: #272822\">, </span><span style=\"color: #e6db74; text-decoration-color: #e6db74; background-color: #272822\">\"Suffix Array\"</span><span style=\"color: #f8f8f2; text-decoration-color: #f8f8f2; background-color: #272822\">, </span><span style=\"color: #e6db74; text-decoration-color: #e6db74; background-color: #272822\">\"Trie\"</span><span style=\"color: #f8f8f2; text-decoration-color: #f8f8f2; background-color: #272822\">],</span><span style=\"background-color: #272822\">      </span>  \n",
       "  <span style=\"color: #f8f8f2; text-decoration-color: #f8f8f2; background-color: #272822\">    </span><span style=\"color: #e6db74; text-decoration-color: #e6db74; background-color: #272822\">\"Dynamic Programming\"</span><span style=\"color: #f8f8f2; text-decoration-color: #f8f8f2; background-color: #272822\">: [</span><span style=\"color: #e6db74; text-decoration-color: #e6db74; background-color: #272822\">\"Fibonacci Sequence\"</span><span style=\"color: #f8f8f2; text-decoration-color: #f8f8f2; background-color: #272822\">, </span><span style=\"color: #e6db74; text-decoration-color: #e6db74; background-color: #272822\">\"0/1 Knapsack\"</span><span style=\"color: #f8f8f2; text-decoration-color: #f8f8f2; background-color: #272822\">, </span><span style=\"color: #e6db74; text-decoration-color: #e6db74; background-color: #272822\">\"Longest Common Subsequence\"</span><span style=\"color: #f8f8f2; text-decoration-color: #f8f8f2; background-color: #272822\">, </span><span style=\"color: #e6db74; text-decoration-color: #e6db74; background-color: #272822\">\"Matrix Chain </span><span style=\"background-color: #272822\"> </span>  \n",
       "  <span style=\"color: #e6db74; text-decoration-color: #e6db74; background-color: #272822\">Multiplication\"</span><span style=\"color: #f8f8f2; text-decoration-color: #f8f8f2; background-color: #272822\">],</span><span style=\"background-color: #272822\">                                                                                              </span>  \n",
       "  <span style=\"color: #f8f8f2; text-decoration-color: #f8f8f2; background-color: #272822\">    </span><span style=\"color: #e6db74; text-decoration-color: #e6db74; background-color: #272822\">\"Machine Learning\"</span><span style=\"color: #f8f8f2; text-decoration-color: #f8f8f2; background-color: #272822\">: [</span><span style=\"color: #e6db74; text-decoration-color: #e6db74; background-color: #272822\">\"Linear Regression\"</span><span style=\"color: #f8f8f2; text-decoration-color: #f8f8f2; background-color: #272822\">, </span><span style=\"color: #e6db74; text-decoration-color: #e6db74; background-color: #272822\">\"Logistic Regression\"</span><span style=\"color: #f8f8f2; text-decoration-color: #f8f8f2; background-color: #272822\">, </span><span style=\"color: #e6db74; text-decoration-color: #e6db74; background-color: #272822\">\"Support Vector Machines\"</span><span style=\"color: #f8f8f2; text-decoration-color: #f8f8f2; background-color: #272822\">, </span><span style=\"color: #e6db74; text-decoration-color: #e6db74; background-color: #272822\">\"K-Means </span><span style=\"background-color: #272822\">      </span>  \n",
       "  <span style=\"color: #e6db74; text-decoration-color: #e6db74; background-color: #272822\">Clustering\"</span><span style=\"color: #f8f8f2; text-decoration-color: #f8f8f2; background-color: #272822\">, </span><span style=\"color: #e6db74; text-decoration-color: #e6db74; background-color: #272822\">\"Decision Trees\"</span><span style=\"color: #f8f8f2; text-decoration-color: #f8f8f2; background-color: #272822\">, </span><span style=\"color: #e6db74; text-decoration-color: #e6db74; background-color: #272822\">\"Random Forest\"</span><span style=\"color: #f8f8f2; text-decoration-color: #f8f8f2; background-color: #272822\">, </span><span style=\"color: #e6db74; text-decoration-color: #e6db74; background-color: #272822\">\"Neural Networks\"</span><span style=\"color: #f8f8f2; text-decoration-color: #f8f8f2; background-color: #272822\">],</span><span style=\"background-color: #272822\">                                            </span>  \n",
       "  <span style=\"color: #f8f8f2; text-decoration-color: #f8f8f2; background-color: #272822\">    </span><span style=\"color: #e6db74; text-decoration-color: #e6db74; background-color: #272822\">\"Other\"</span><span style=\"color: #f8f8f2; text-decoration-color: #f8f8f2; background-color: #272822\">: [</span><span style=\"color: #e6db74; text-decoration-color: #e6db74; background-color: #272822\">\"Quickhull (Convex Hull)\"</span><span style=\"color: #f8f8f2; text-decoration-color: #f8f8f2; background-color: #272822\">, </span><span style=\"color: #e6db74; text-decoration-color: #e6db74; background-color: #272822\">\"Rapid Prototyping\"</span><span style=\"color: #f8f8f2; text-decoration-color: #f8f8f2; background-color: #272822\">, </span><span style=\"color: #e6db74; text-decoration-color: #e6db74; background-color: #272822\">\"Bit Manipulation Algorithms\"</span><span style=\"color: #f8f8f2; text-decoration-color: #f8f8f2; background-color: #272822\">, </span><span style=\"color: #e6db74; text-decoration-color: #e6db74; background-color: #272822\">\"Hashing </span><span style=\"background-color: #272822\">         </span>  \n",
       "  <span style=\"color: #e6db74; text-decoration-color: #e6db74; background-color: #272822\">Algorithms\"</span><span style=\"color: #f8f8f2; text-decoration-color: #f8f8f2; background-color: #272822\">, </span><span style=\"color: #e6db74; text-decoration-color: #e6db74; background-color: #272822\">\"Greedy Algorithms\"</span><span style=\"color: #f8f8f2; text-decoration-color: #f8f8f2; background-color: #272822\">]</span><span style=\"background-color: #272822\">                                                                              </span>  \n",
       "  <span style=\"color: #f8f8f2; text-decoration-color: #f8f8f2; background-color: #272822\">}</span><span style=\"background-color: #272822\">                                                                                                              </span>  \n",
       "  <span style=\"background-color: #272822\">                                                                                                               </span>  \n",
       "  <span style=\"color: #959077; text-decoration-color: #959077; background-color: #272822\"># Print the categorized list of popular algorithms</span><span style=\"background-color: #272822\">                                                             </span>  \n",
       "  <span style=\"color: #66d9ef; text-decoration-color: #66d9ef; background-color: #272822\">for</span><span style=\"color: #f8f8f2; text-decoration-color: #f8f8f2; background-color: #272822\"> category, algorithms </span><span style=\"color: #ff4689; text-decoration-color: #ff4689; background-color: #272822\">in</span><span style=\"color: #f8f8f2; text-decoration-color: #f8f8f2; background-color: #272822\"> popular_algorithms</span><span style=\"color: #ff4689; text-decoration-color: #ff4689; background-color: #272822\">.</span><span style=\"color: #f8f8f2; text-decoration-color: #f8f8f2; background-color: #272822\">items():</span><span style=\"background-color: #272822\">                                                        </span>  \n",
       "  <span style=\"color: #f8f8f2; text-decoration-color: #f8f8f2; background-color: #272822\">    print(</span><span style=\"color: #e6db74; text-decoration-color: #e6db74; background-color: #272822\">f\"{</span><span style=\"color: #f8f8f2; text-decoration-color: #f8f8f2; background-color: #272822\">category</span><span style=\"color: #e6db74; text-decoration-color: #e6db74; background-color: #272822\">}:\"</span><span style=\"color: #f8f8f2; text-decoration-color: #f8f8f2; background-color: #272822\">)</span><span style=\"background-color: #272822\">                                                                                      </span>  \n",
       "  <span style=\"color: #f8f8f2; text-decoration-color: #f8f8f2; background-color: #272822\">    </span><span style=\"color: #66d9ef; text-decoration-color: #66d9ef; background-color: #272822\">for</span><span style=\"color: #f8f8f2; text-decoration-color: #f8f8f2; background-color: #272822\"> algorithm </span><span style=\"color: #ff4689; text-decoration-color: #ff4689; background-color: #272822\">in</span><span style=\"color: #f8f8f2; text-decoration-color: #f8f8f2; background-color: #272822\"> algorithms:</span><span style=\"background-color: #272822\">                                                                               </span>  \n",
       "  <span style=\"color: #f8f8f2; text-decoration-color: #f8f8f2; background-color: #272822\">        print(</span><span style=\"color: #e6db74; text-decoration-color: #e6db74; background-color: #272822\">f\"  - {</span><span style=\"color: #f8f8f2; text-decoration-color: #f8f8f2; background-color: #272822\">algorithm</span><span style=\"color: #e6db74; text-decoration-color: #e6db74; background-color: #272822\">}\"</span><span style=\"color: #f8f8f2; text-decoration-color: #f8f8f2; background-color: #272822\">)</span><span style=\"background-color: #272822\">                                                                              </span>  \n",
       "  <span style=\"color: #f8f8f2; text-decoration-color: #f8f8f2; background-color: #272822\">    print()</span><span style=\"background-color: #272822\">                                                                                                    </span>  \n",
       " ───────────────────────────────────────────────────────────────────────────────────────────────────────────────── \n",
       "</pre>\n"
      ],
      "text/plain": [
       " ─ \u001b[1mExecuting parsed code:\u001b[0m ──────────────────────────────────────────────────────────────────────────────────────── \n",
       "  \u001b[38;2;149;144;119;48;2;39;40;34m# Define a dictionary to categorize and list popular algorithms\u001b[0m\u001b[48;2;39;40;34m                                                \u001b[0m  \n",
       "  \u001b[38;2;248;248;242;48;2;39;40;34mpopular_algorithms\u001b[0m\u001b[38;2;248;248;242;48;2;39;40;34m \u001b[0m\u001b[38;2;255;70;137;48;2;39;40;34m=\u001b[0m\u001b[38;2;248;248;242;48;2;39;40;34m \u001b[0m\u001b[38;2;248;248;242;48;2;39;40;34m{\u001b[0m\u001b[48;2;39;40;34m                                                                                         \u001b[0m  \n",
       "  \u001b[38;2;248;248;242;48;2;39;40;34m    \u001b[0m\u001b[38;2;230;219;116;48;2;39;40;34m\"\u001b[0m\u001b[38;2;230;219;116;48;2;39;40;34mSorting\u001b[0m\u001b[38;2;230;219;116;48;2;39;40;34m\"\u001b[0m\u001b[38;2;248;248;242;48;2;39;40;34m:\u001b[0m\u001b[38;2;248;248;242;48;2;39;40;34m \u001b[0m\u001b[38;2;248;248;242;48;2;39;40;34m[\u001b[0m\u001b[38;2;230;219;116;48;2;39;40;34m\"\u001b[0m\u001b[38;2;230;219;116;48;2;39;40;34mQuicksort\u001b[0m\u001b[38;2;230;219;116;48;2;39;40;34m\"\u001b[0m\u001b[38;2;248;248;242;48;2;39;40;34m,\u001b[0m\u001b[38;2;248;248;242;48;2;39;40;34m \u001b[0m\u001b[38;2;230;219;116;48;2;39;40;34m\"\u001b[0m\u001b[38;2;230;219;116;48;2;39;40;34mMerge Sort\u001b[0m\u001b[38;2;230;219;116;48;2;39;40;34m\"\u001b[0m\u001b[38;2;248;248;242;48;2;39;40;34m,\u001b[0m\u001b[38;2;248;248;242;48;2;39;40;34m \u001b[0m\u001b[38;2;230;219;116;48;2;39;40;34m\"\u001b[0m\u001b[38;2;230;219;116;48;2;39;40;34mHeap Sort\u001b[0m\u001b[38;2;230;219;116;48;2;39;40;34m\"\u001b[0m\u001b[38;2;248;248;242;48;2;39;40;34m,\u001b[0m\u001b[38;2;248;248;242;48;2;39;40;34m \u001b[0m\u001b[38;2;230;219;116;48;2;39;40;34m\"\u001b[0m\u001b[38;2;230;219;116;48;2;39;40;34mBubble Sort\u001b[0m\u001b[38;2;230;219;116;48;2;39;40;34m\"\u001b[0m\u001b[38;2;248;248;242;48;2;39;40;34m,\u001b[0m\u001b[38;2;248;248;242;48;2;39;40;34m \u001b[0m\u001b[38;2;230;219;116;48;2;39;40;34m\"\u001b[0m\u001b[38;2;230;219;116;48;2;39;40;34mInsertion Sort\u001b[0m\u001b[38;2;230;219;116;48;2;39;40;34m\"\u001b[0m\u001b[38;2;248;248;242;48;2;39;40;34m,\u001b[0m\u001b[38;2;248;248;242;48;2;39;40;34m \u001b[0m\u001b[38;2;230;219;116;48;2;39;40;34m\"\u001b[0m\u001b[38;2;230;219;116;48;2;39;40;34mSelection Sort\u001b[0m\u001b[38;2;230;219;116;48;2;39;40;34m\"\u001b[0m\u001b[38;2;248;248;242;48;2;39;40;34m]\u001b[0m\u001b[38;2;248;248;242;48;2;39;40;34m,\u001b[0m\u001b[48;2;39;40;34m    \u001b[0m  \n",
       "  \u001b[38;2;248;248;242;48;2;39;40;34m    \u001b[0m\u001b[38;2;230;219;116;48;2;39;40;34m\"\u001b[0m\u001b[38;2;230;219;116;48;2;39;40;34mSearching\u001b[0m\u001b[38;2;230;219;116;48;2;39;40;34m\"\u001b[0m\u001b[38;2;248;248;242;48;2;39;40;34m:\u001b[0m\u001b[38;2;248;248;242;48;2;39;40;34m \u001b[0m\u001b[38;2;248;248;242;48;2;39;40;34m[\u001b[0m\u001b[38;2;230;219;116;48;2;39;40;34m\"\u001b[0m\u001b[38;2;230;219;116;48;2;39;40;34mBinary Search\u001b[0m\u001b[38;2;230;219;116;48;2;39;40;34m\"\u001b[0m\u001b[38;2;248;248;242;48;2;39;40;34m,\u001b[0m\u001b[38;2;248;248;242;48;2;39;40;34m \u001b[0m\u001b[38;2;230;219;116;48;2;39;40;34m\"\u001b[0m\u001b[38;2;230;219;116;48;2;39;40;34mLinear Search\u001b[0m\u001b[38;2;230;219;116;48;2;39;40;34m\"\u001b[0m\u001b[38;2;248;248;242;48;2;39;40;34m,\u001b[0m\u001b[38;2;248;248;242;48;2;39;40;34m \u001b[0m\u001b[38;2;230;219;116;48;2;39;40;34m\"\u001b[0m\u001b[38;2;230;219;116;48;2;39;40;34mJump Search\u001b[0m\u001b[38;2;230;219;116;48;2;39;40;34m\"\u001b[0m\u001b[38;2;248;248;242;48;2;39;40;34m,\u001b[0m\u001b[38;2;248;248;242;48;2;39;40;34m \u001b[0m\u001b[38;2;230;219;116;48;2;39;40;34m\"\u001b[0m\u001b[38;2;230;219;116;48;2;39;40;34mInterpolation Search\u001b[0m\u001b[38;2;230;219;116;48;2;39;40;34m\"\u001b[0m\u001b[38;2;248;248;242;48;2;39;40;34m]\u001b[0m\u001b[38;2;248;248;242;48;2;39;40;34m,\u001b[0m\u001b[48;2;39;40;34m                    \u001b[0m  \n",
       "  \u001b[38;2;248;248;242;48;2;39;40;34m    \u001b[0m\u001b[38;2;230;219;116;48;2;39;40;34m\"\u001b[0m\u001b[38;2;230;219;116;48;2;39;40;34mGraph\u001b[0m\u001b[38;2;230;219;116;48;2;39;40;34m\"\u001b[0m\u001b[38;2;248;248;242;48;2;39;40;34m:\u001b[0m\u001b[38;2;248;248;242;48;2;39;40;34m \u001b[0m\u001b[38;2;248;248;242;48;2;39;40;34m[\u001b[0m\u001b[38;2;230;219;116;48;2;39;40;34m\"\u001b[0m\u001b[38;2;230;219;116;48;2;39;40;34mDijkstra\u001b[0m\u001b[38;2;230;219;116;48;2;39;40;34m'\u001b[0m\u001b[38;2;230;219;116;48;2;39;40;34ms Algorithm\u001b[0m\u001b[38;2;230;219;116;48;2;39;40;34m\"\u001b[0m\u001b[38;2;248;248;242;48;2;39;40;34m,\u001b[0m\u001b[38;2;248;248;242;48;2;39;40;34m \u001b[0m\u001b[38;2;230;219;116;48;2;39;40;34m\"\u001b[0m\u001b[38;2;230;219;116;48;2;39;40;34mA* Search Algorithm\u001b[0m\u001b[38;2;230;219;116;48;2;39;40;34m\"\u001b[0m\u001b[38;2;248;248;242;48;2;39;40;34m,\u001b[0m\u001b[38;2;248;248;242;48;2;39;40;34m \u001b[0m\u001b[38;2;230;219;116;48;2;39;40;34m\"\u001b[0m\u001b[38;2;230;219;116;48;2;39;40;34mBellman-Ford Algorithm\u001b[0m\u001b[38;2;230;219;116;48;2;39;40;34m\"\u001b[0m\u001b[38;2;248;248;242;48;2;39;40;34m,\u001b[0m\u001b[38;2;248;248;242;48;2;39;40;34m \u001b[0m\u001b[38;2;230;219;116;48;2;39;40;34m\"\u001b[0m\u001b[38;2;230;219;116;48;2;39;40;34mFloyd-Warshall \u001b[0m\u001b[48;2;39;40;34m        \u001b[0m  \n",
       "  \u001b[38;2;230;219;116;48;2;39;40;34mAlgorithm\u001b[0m\u001b[38;2;230;219;116;48;2;39;40;34m\"\u001b[0m\u001b[38;2;248;248;242;48;2;39;40;34m,\u001b[0m\u001b[38;2;248;248;242;48;2;39;40;34m \u001b[0m\u001b[38;2;230;219;116;48;2;39;40;34m\"\u001b[0m\u001b[38;2;230;219;116;48;2;39;40;34mKruskal\u001b[0m\u001b[38;2;230;219;116;48;2;39;40;34m'\u001b[0m\u001b[38;2;230;219;116;48;2;39;40;34ms Algorithm\u001b[0m\u001b[38;2;230;219;116;48;2;39;40;34m\"\u001b[0m\u001b[38;2;248;248;242;48;2;39;40;34m,\u001b[0m\u001b[38;2;248;248;242;48;2;39;40;34m \u001b[0m\u001b[38;2;230;219;116;48;2;39;40;34m\"\u001b[0m\u001b[38;2;230;219;116;48;2;39;40;34mPrim\u001b[0m\u001b[38;2;230;219;116;48;2;39;40;34m'\u001b[0m\u001b[38;2;230;219;116;48;2;39;40;34ms Algorithm\u001b[0m\u001b[38;2;230;219;116;48;2;39;40;34m\"\u001b[0m\u001b[38;2;248;248;242;48;2;39;40;34m]\u001b[0m\u001b[38;2;248;248;242;48;2;39;40;34m,\u001b[0m\u001b[48;2;39;40;34m                                                        \u001b[0m  \n",
       "  \u001b[38;2;248;248;242;48;2;39;40;34m    \u001b[0m\u001b[38;2;230;219;116;48;2;39;40;34m\"\u001b[0m\u001b[38;2;230;219;116;48;2;39;40;34mString\u001b[0m\u001b[38;2;230;219;116;48;2;39;40;34m\"\u001b[0m\u001b[38;2;248;248;242;48;2;39;40;34m:\u001b[0m\u001b[38;2;248;248;242;48;2;39;40;34m \u001b[0m\u001b[38;2;248;248;242;48;2;39;40;34m[\u001b[0m\u001b[38;2;230;219;116;48;2;39;40;34m\"\u001b[0m\u001b[38;2;230;219;116;48;2;39;40;34mKMP Algorithm\u001b[0m\u001b[38;2;230;219;116;48;2;39;40;34m\"\u001b[0m\u001b[38;2;248;248;242;48;2;39;40;34m,\u001b[0m\u001b[38;2;248;248;242;48;2;39;40;34m \u001b[0m\u001b[38;2;230;219;116;48;2;39;40;34m\"\u001b[0m\u001b[38;2;230;219;116;48;2;39;40;34mBoyer-Moore Algorithm\u001b[0m\u001b[38;2;230;219;116;48;2;39;40;34m\"\u001b[0m\u001b[38;2;248;248;242;48;2;39;40;34m,\u001b[0m\u001b[38;2;248;248;242;48;2;39;40;34m \u001b[0m\u001b[38;2;230;219;116;48;2;39;40;34m\"\u001b[0m\u001b[38;2;230;219;116;48;2;39;40;34mRabin-Karp Algorithm\u001b[0m\u001b[38;2;230;219;116;48;2;39;40;34m\"\u001b[0m\u001b[38;2;248;248;242;48;2;39;40;34m,\u001b[0m\u001b[38;2;248;248;242;48;2;39;40;34m \u001b[0m\u001b[38;2;230;219;116;48;2;39;40;34m\"\u001b[0m\u001b[38;2;230;219;116;48;2;39;40;34mSuffix Array\u001b[0m\u001b[38;2;230;219;116;48;2;39;40;34m\"\u001b[0m\u001b[38;2;248;248;242;48;2;39;40;34m,\u001b[0m\u001b[38;2;248;248;242;48;2;39;40;34m \u001b[0m\u001b[38;2;230;219;116;48;2;39;40;34m\"\u001b[0m\u001b[38;2;230;219;116;48;2;39;40;34mTrie\u001b[0m\u001b[38;2;230;219;116;48;2;39;40;34m\"\u001b[0m\u001b[38;2;248;248;242;48;2;39;40;34m]\u001b[0m\u001b[38;2;248;248;242;48;2;39;40;34m,\u001b[0m\u001b[48;2;39;40;34m      \u001b[0m  \n",
       "  \u001b[38;2;248;248;242;48;2;39;40;34m    \u001b[0m\u001b[38;2;230;219;116;48;2;39;40;34m\"\u001b[0m\u001b[38;2;230;219;116;48;2;39;40;34mDynamic Programming\u001b[0m\u001b[38;2;230;219;116;48;2;39;40;34m\"\u001b[0m\u001b[38;2;248;248;242;48;2;39;40;34m:\u001b[0m\u001b[38;2;248;248;242;48;2;39;40;34m \u001b[0m\u001b[38;2;248;248;242;48;2;39;40;34m[\u001b[0m\u001b[38;2;230;219;116;48;2;39;40;34m\"\u001b[0m\u001b[38;2;230;219;116;48;2;39;40;34mFibonacci Sequence\u001b[0m\u001b[38;2;230;219;116;48;2;39;40;34m\"\u001b[0m\u001b[38;2;248;248;242;48;2;39;40;34m,\u001b[0m\u001b[38;2;248;248;242;48;2;39;40;34m \u001b[0m\u001b[38;2;230;219;116;48;2;39;40;34m\"\u001b[0m\u001b[38;2;230;219;116;48;2;39;40;34m0/1 Knapsack\u001b[0m\u001b[38;2;230;219;116;48;2;39;40;34m\"\u001b[0m\u001b[38;2;248;248;242;48;2;39;40;34m,\u001b[0m\u001b[38;2;248;248;242;48;2;39;40;34m \u001b[0m\u001b[38;2;230;219;116;48;2;39;40;34m\"\u001b[0m\u001b[38;2;230;219;116;48;2;39;40;34mLongest Common Subsequence\u001b[0m\u001b[38;2;230;219;116;48;2;39;40;34m\"\u001b[0m\u001b[38;2;248;248;242;48;2;39;40;34m,\u001b[0m\u001b[38;2;248;248;242;48;2;39;40;34m \u001b[0m\u001b[38;2;230;219;116;48;2;39;40;34m\"\u001b[0m\u001b[38;2;230;219;116;48;2;39;40;34mMatrix Chain \u001b[0m\u001b[48;2;39;40;34m \u001b[0m  \n",
       "  \u001b[38;2;230;219;116;48;2;39;40;34mMultiplication\u001b[0m\u001b[38;2;230;219;116;48;2;39;40;34m\"\u001b[0m\u001b[38;2;248;248;242;48;2;39;40;34m]\u001b[0m\u001b[38;2;248;248;242;48;2;39;40;34m,\u001b[0m\u001b[48;2;39;40;34m                                                                                              \u001b[0m  \n",
       "  \u001b[38;2;248;248;242;48;2;39;40;34m    \u001b[0m\u001b[38;2;230;219;116;48;2;39;40;34m\"\u001b[0m\u001b[38;2;230;219;116;48;2;39;40;34mMachine Learning\u001b[0m\u001b[38;2;230;219;116;48;2;39;40;34m\"\u001b[0m\u001b[38;2;248;248;242;48;2;39;40;34m:\u001b[0m\u001b[38;2;248;248;242;48;2;39;40;34m \u001b[0m\u001b[38;2;248;248;242;48;2;39;40;34m[\u001b[0m\u001b[38;2;230;219;116;48;2;39;40;34m\"\u001b[0m\u001b[38;2;230;219;116;48;2;39;40;34mLinear Regression\u001b[0m\u001b[38;2;230;219;116;48;2;39;40;34m\"\u001b[0m\u001b[38;2;248;248;242;48;2;39;40;34m,\u001b[0m\u001b[38;2;248;248;242;48;2;39;40;34m \u001b[0m\u001b[38;2;230;219;116;48;2;39;40;34m\"\u001b[0m\u001b[38;2;230;219;116;48;2;39;40;34mLogistic Regression\u001b[0m\u001b[38;2;230;219;116;48;2;39;40;34m\"\u001b[0m\u001b[38;2;248;248;242;48;2;39;40;34m,\u001b[0m\u001b[38;2;248;248;242;48;2;39;40;34m \u001b[0m\u001b[38;2;230;219;116;48;2;39;40;34m\"\u001b[0m\u001b[38;2;230;219;116;48;2;39;40;34mSupport Vector Machines\u001b[0m\u001b[38;2;230;219;116;48;2;39;40;34m\"\u001b[0m\u001b[38;2;248;248;242;48;2;39;40;34m,\u001b[0m\u001b[38;2;248;248;242;48;2;39;40;34m \u001b[0m\u001b[38;2;230;219;116;48;2;39;40;34m\"\u001b[0m\u001b[38;2;230;219;116;48;2;39;40;34mK-Means \u001b[0m\u001b[48;2;39;40;34m      \u001b[0m  \n",
       "  \u001b[38;2;230;219;116;48;2;39;40;34mClustering\u001b[0m\u001b[38;2;230;219;116;48;2;39;40;34m\"\u001b[0m\u001b[38;2;248;248;242;48;2;39;40;34m,\u001b[0m\u001b[38;2;248;248;242;48;2;39;40;34m \u001b[0m\u001b[38;2;230;219;116;48;2;39;40;34m\"\u001b[0m\u001b[38;2;230;219;116;48;2;39;40;34mDecision Trees\u001b[0m\u001b[38;2;230;219;116;48;2;39;40;34m\"\u001b[0m\u001b[38;2;248;248;242;48;2;39;40;34m,\u001b[0m\u001b[38;2;248;248;242;48;2;39;40;34m \u001b[0m\u001b[38;2;230;219;116;48;2;39;40;34m\"\u001b[0m\u001b[38;2;230;219;116;48;2;39;40;34mRandom Forest\u001b[0m\u001b[38;2;230;219;116;48;2;39;40;34m\"\u001b[0m\u001b[38;2;248;248;242;48;2;39;40;34m,\u001b[0m\u001b[38;2;248;248;242;48;2;39;40;34m \u001b[0m\u001b[38;2;230;219;116;48;2;39;40;34m\"\u001b[0m\u001b[38;2;230;219;116;48;2;39;40;34mNeural Networks\u001b[0m\u001b[38;2;230;219;116;48;2;39;40;34m\"\u001b[0m\u001b[38;2;248;248;242;48;2;39;40;34m]\u001b[0m\u001b[38;2;248;248;242;48;2;39;40;34m,\u001b[0m\u001b[48;2;39;40;34m                                            \u001b[0m  \n",
       "  \u001b[38;2;248;248;242;48;2;39;40;34m    \u001b[0m\u001b[38;2;230;219;116;48;2;39;40;34m\"\u001b[0m\u001b[38;2;230;219;116;48;2;39;40;34mOther\u001b[0m\u001b[38;2;230;219;116;48;2;39;40;34m\"\u001b[0m\u001b[38;2;248;248;242;48;2;39;40;34m:\u001b[0m\u001b[38;2;248;248;242;48;2;39;40;34m \u001b[0m\u001b[38;2;248;248;242;48;2;39;40;34m[\u001b[0m\u001b[38;2;230;219;116;48;2;39;40;34m\"\u001b[0m\u001b[38;2;230;219;116;48;2;39;40;34mQuickhull (Convex Hull)\u001b[0m\u001b[38;2;230;219;116;48;2;39;40;34m\"\u001b[0m\u001b[38;2;248;248;242;48;2;39;40;34m,\u001b[0m\u001b[38;2;248;248;242;48;2;39;40;34m \u001b[0m\u001b[38;2;230;219;116;48;2;39;40;34m\"\u001b[0m\u001b[38;2;230;219;116;48;2;39;40;34mRapid Prototyping\u001b[0m\u001b[38;2;230;219;116;48;2;39;40;34m\"\u001b[0m\u001b[38;2;248;248;242;48;2;39;40;34m,\u001b[0m\u001b[38;2;248;248;242;48;2;39;40;34m \u001b[0m\u001b[38;2;230;219;116;48;2;39;40;34m\"\u001b[0m\u001b[38;2;230;219;116;48;2;39;40;34mBit Manipulation Algorithms\u001b[0m\u001b[38;2;230;219;116;48;2;39;40;34m\"\u001b[0m\u001b[38;2;248;248;242;48;2;39;40;34m,\u001b[0m\u001b[38;2;248;248;242;48;2;39;40;34m \u001b[0m\u001b[38;2;230;219;116;48;2;39;40;34m\"\u001b[0m\u001b[38;2;230;219;116;48;2;39;40;34mHashing \u001b[0m\u001b[48;2;39;40;34m         \u001b[0m  \n",
       "  \u001b[38;2;230;219;116;48;2;39;40;34mAlgorithms\u001b[0m\u001b[38;2;230;219;116;48;2;39;40;34m\"\u001b[0m\u001b[38;2;248;248;242;48;2;39;40;34m,\u001b[0m\u001b[38;2;248;248;242;48;2;39;40;34m \u001b[0m\u001b[38;2;230;219;116;48;2;39;40;34m\"\u001b[0m\u001b[38;2;230;219;116;48;2;39;40;34mGreedy Algorithms\u001b[0m\u001b[38;2;230;219;116;48;2;39;40;34m\"\u001b[0m\u001b[38;2;248;248;242;48;2;39;40;34m]\u001b[0m\u001b[48;2;39;40;34m                                                                              \u001b[0m  \n",
       "  \u001b[38;2;248;248;242;48;2;39;40;34m}\u001b[0m\u001b[48;2;39;40;34m                                                                                                              \u001b[0m  \n",
       "  \u001b[48;2;39;40;34m                                                                                                               \u001b[0m  \n",
       "  \u001b[38;2;149;144;119;48;2;39;40;34m# Print the categorized list of popular algorithms\u001b[0m\u001b[48;2;39;40;34m                                                             \u001b[0m  \n",
       "  \u001b[38;2;102;217;239;48;2;39;40;34mfor\u001b[0m\u001b[38;2;248;248;242;48;2;39;40;34m \u001b[0m\u001b[38;2;248;248;242;48;2;39;40;34mcategory\u001b[0m\u001b[38;2;248;248;242;48;2;39;40;34m,\u001b[0m\u001b[38;2;248;248;242;48;2;39;40;34m \u001b[0m\u001b[38;2;248;248;242;48;2;39;40;34malgorithms\u001b[0m\u001b[38;2;248;248;242;48;2;39;40;34m \u001b[0m\u001b[38;2;255;70;137;48;2;39;40;34min\u001b[0m\u001b[38;2;248;248;242;48;2;39;40;34m \u001b[0m\u001b[38;2;248;248;242;48;2;39;40;34mpopular_algorithms\u001b[0m\u001b[38;2;255;70;137;48;2;39;40;34m.\u001b[0m\u001b[38;2;248;248;242;48;2;39;40;34mitems\u001b[0m\u001b[38;2;248;248;242;48;2;39;40;34m(\u001b[0m\u001b[38;2;248;248;242;48;2;39;40;34m)\u001b[0m\u001b[38;2;248;248;242;48;2;39;40;34m:\u001b[0m\u001b[48;2;39;40;34m                                                        \u001b[0m  \n",
       "  \u001b[38;2;248;248;242;48;2;39;40;34m    \u001b[0m\u001b[38;2;248;248;242;48;2;39;40;34mprint\u001b[0m\u001b[38;2;248;248;242;48;2;39;40;34m(\u001b[0m\u001b[38;2;230;219;116;48;2;39;40;34mf\u001b[0m\u001b[38;2;230;219;116;48;2;39;40;34m\"\u001b[0m\u001b[38;2;230;219;116;48;2;39;40;34m{\u001b[0m\u001b[38;2;248;248;242;48;2;39;40;34mcategory\u001b[0m\u001b[38;2;230;219;116;48;2;39;40;34m}\u001b[0m\u001b[38;2;230;219;116;48;2;39;40;34m:\u001b[0m\u001b[38;2;230;219;116;48;2;39;40;34m\"\u001b[0m\u001b[38;2;248;248;242;48;2;39;40;34m)\u001b[0m\u001b[48;2;39;40;34m                                                                                      \u001b[0m  \n",
       "  \u001b[38;2;248;248;242;48;2;39;40;34m    \u001b[0m\u001b[38;2;102;217;239;48;2;39;40;34mfor\u001b[0m\u001b[38;2;248;248;242;48;2;39;40;34m \u001b[0m\u001b[38;2;248;248;242;48;2;39;40;34malgorithm\u001b[0m\u001b[38;2;248;248;242;48;2;39;40;34m \u001b[0m\u001b[38;2;255;70;137;48;2;39;40;34min\u001b[0m\u001b[38;2;248;248;242;48;2;39;40;34m \u001b[0m\u001b[38;2;248;248;242;48;2;39;40;34malgorithms\u001b[0m\u001b[38;2;248;248;242;48;2;39;40;34m:\u001b[0m\u001b[48;2;39;40;34m                                                                               \u001b[0m  \n",
       "  \u001b[38;2;248;248;242;48;2;39;40;34m        \u001b[0m\u001b[38;2;248;248;242;48;2;39;40;34mprint\u001b[0m\u001b[38;2;248;248;242;48;2;39;40;34m(\u001b[0m\u001b[38;2;230;219;116;48;2;39;40;34mf\u001b[0m\u001b[38;2;230;219;116;48;2;39;40;34m\"\u001b[0m\u001b[38;2;230;219;116;48;2;39;40;34m  - \u001b[0m\u001b[38;2;230;219;116;48;2;39;40;34m{\u001b[0m\u001b[38;2;248;248;242;48;2;39;40;34malgorithm\u001b[0m\u001b[38;2;230;219;116;48;2;39;40;34m}\u001b[0m\u001b[38;2;230;219;116;48;2;39;40;34m\"\u001b[0m\u001b[38;2;248;248;242;48;2;39;40;34m)\u001b[0m\u001b[48;2;39;40;34m                                                                              \u001b[0m  \n",
       "  \u001b[38;2;248;248;242;48;2;39;40;34m    \u001b[0m\u001b[38;2;248;248;242;48;2;39;40;34mprint\u001b[0m\u001b[38;2;248;248;242;48;2;39;40;34m(\u001b[0m\u001b[38;2;248;248;242;48;2;39;40;34m)\u001b[0m\u001b[48;2;39;40;34m                                                                                                    \u001b[0m  \n",
       " ───────────────────────────────────────────────────────────────────────────────────────────────────────────────── \n"
      ]
     },
     "metadata": {},
     "output_type": "display_data"
    },
    {
     "data": {
      "text/html": [
       "<pre style=\"white-space:pre;overflow-x:auto;line-height:normal;font-family:Menlo,'DejaVu Sans Mono',consolas,'Courier New',monospace\"><span style=\"font-weight: bold\">Execution logs:</span>\n",
       "Sorting:\n",
       "  - Quicksort\n",
       "  - Merge Sort\n",
       "  - Heap Sort\n",
       "  - Bubble Sort\n",
       "  - Insertion Sort\n",
       "  - Selection Sort\n",
       "\n",
       "Searching:\n",
       "  - Binary Search\n",
       "  - Linear Search\n",
       "  - Jump Search\n",
       "  - Interpolation Search\n",
       "\n",
       "Graph:\n",
       "  - Dijkstra's Algorithm\n",
       "  - A* Search Algorithm\n",
       "  - Bellman-Ford Algorithm\n",
       "  - Floyd-Warshall Algorithm\n",
       "  - Kruskal's Algorithm\n",
       "  - Prim's Algorithm\n",
       "\n",
       "String:\n",
       "  - KMP Algorithm\n",
       "  - Boyer-Moore Algorithm\n",
       "  - Rabin-Karp Algorithm\n",
       "  - Suffix Array\n",
       "  - Trie\n",
       "\n",
       "Dynamic Programming:\n",
       "  - Fibonacci Sequence\n",
       "  - 0/1 Knapsack\n",
       "  - Longest Common Subsequence\n",
       "  - Matrix Chain Multiplication\n",
       "\n",
       "Machine Learning:\n",
       "  - Linear Regression\n",
       "  - Logistic Regression\n",
       "  - Support Vector Machines\n",
       "  - K-Means Clustering\n",
       "  - Decision Trees\n",
       "  - Random Forest\n",
       "  - Neural Networks\n",
       "\n",
       "Other:\n",
       "  - Quickhull (Convex Hull)\n",
       "  - Rapid Prototyping\n",
       "  - Bit Manipulation Algorithms\n",
       "  - Hashing Algorithms\n",
       "  - Greedy Algorithms\n",
       "\n",
       "\n",
       "Out: None\n",
       "</pre>\n"
      ],
      "text/plain": [
       "\u001b[1mExecution logs:\u001b[0m\n",
       "Sorting:\n",
       "  - Quicksort\n",
       "  - Merge Sort\n",
       "  - Heap Sort\n",
       "  - Bubble Sort\n",
       "  - Insertion Sort\n",
       "  - Selection Sort\n",
       "\n",
       "Searching:\n",
       "  - Binary Search\n",
       "  - Linear Search\n",
       "  - Jump Search\n",
       "  - Interpolation Search\n",
       "\n",
       "Graph:\n",
       "  - Dijkstra's Algorithm\n",
       "  - A* Search Algorithm\n",
       "  - Bellman-Ford Algorithm\n",
       "  - Floyd-Warshall Algorithm\n",
       "  - Kruskal's Algorithm\n",
       "  - Prim's Algorithm\n",
       "\n",
       "String:\n",
       "  - KMP Algorithm\n",
       "  - Boyer-Moore Algorithm\n",
       "  - Rabin-Karp Algorithm\n",
       "  - Suffix Array\n",
       "  - Trie\n",
       "\n",
       "Dynamic Programming:\n",
       "  - Fibonacci Sequence\n",
       "  - 0/1 Knapsack\n",
       "  - Longest Common Subsequence\n",
       "  - Matrix Chain Multiplication\n",
       "\n",
       "Machine Learning:\n",
       "  - Linear Regression\n",
       "  - Logistic Regression\n",
       "  - Support Vector Machines\n",
       "  - K-Means Clustering\n",
       "  - Decision Trees\n",
       "  - Random Forest\n",
       "  - Neural Networks\n",
       "\n",
       "Other:\n",
       "  - Quickhull (Convex Hull)\n",
       "  - Rapid Prototyping\n",
       "  - Bit Manipulation Algorithms\n",
       "  - Hashing Algorithms\n",
       "  - Greedy Algorithms\n",
       "\n",
       "\n",
       "Out: None\n"
      ]
     },
     "metadata": {},
     "output_type": "display_data"
    },
    {
     "data": {
      "text/html": [
       "<pre style=\"white-space:pre;overflow-x:auto;line-height:normal;font-family:Menlo,'DejaVu Sans Mono',consolas,'Courier New',monospace\"><span style=\"color: #7f7f7f; text-decoration-color: #7f7f7f\">[Step 2: Duration 15.81 seconds| Input tokens: 5,254 | Output tokens: 484]</span>\n",
       "</pre>\n"
      ],
      "text/plain": [
       "\u001b[2m[Step 2: Duration 15.81 seconds| Input tokens: 5,254 | Output tokens: 484]\u001b[0m\n"
      ]
     },
     "metadata": {},
     "output_type": "display_data"
    },
    {
     "data": {
      "text/html": [
       "<pre style=\"white-space:pre;overflow-x:auto;line-height:normal;font-family:Menlo,'DejaVu Sans Mono',consolas,'Courier New',monospace\"><span style=\"color: #d4b702; text-decoration-color: #d4b702\">━━━━━━━━━━━━━━━━━━━━━━━━━━━━━━━━━━━━━━━━━━━━━━━━━━━━━ </span><span style=\"font-weight: bold\">Step </span><span style=\"color: #008080; text-decoration-color: #008080; font-weight: bold\">3</span><span style=\"color: #d4b702; text-decoration-color: #d4b702\"> ━━━━━━━━━━━━━━━━━━━━━━━━━━━━━━━━━━━━━━━━━━━━━━━━━━━━━━</span>\n",
       "</pre>\n"
      ],
      "text/plain": [
       "\u001b[38;2;212;183;2m━━━━━━━━━━━━━━━━━━━━━━━━━━━━━━━━━━━━━━━━━━━━━━━━━━━━━ \u001b[0m\u001b[1mStep \u001b[0m\u001b[1;36m3\u001b[0m\u001b[38;2;212;183;2m ━━━━━━━━━━━━━━━━━━━━━━━━━━━━━━━━━━━━━━━━━━━━━━━━━━━━━━\u001b[0m\n"
      ]
     },
     "metadata": {},
     "output_type": "display_data"
    },
    {
     "data": {
      "text/html": [
       "<pre style=\"white-space:pre;overflow-x:auto;line-height:normal;font-family:Menlo,'DejaVu Sans Mono',consolas,'Courier New',monospace\"> ─ <span style=\"font-weight: bold\">Executing parsed code:</span> ──────────────────────────────────────────────────────────────────────────────────────── \n",
       "  <span style=\"color: #959077; text-decoration-color: #959077; background-color: #272822\"># Prepare the final answer in a structured format</span><span style=\"background-color: #272822\">                                                              </span>  \n",
       "  <span style=\"color: #f8f8f2; text-decoration-color: #f8f8f2; background-color: #272822\">final_result </span><span style=\"color: #ff4689; text-decoration-color: #ff4689; background-color: #272822\">=</span><span style=\"color: #f8f8f2; text-decoration-color: #f8f8f2; background-color: #272822\"> </span><span style=\"color: #e6db74; text-decoration-color: #e6db74; background-color: #272822\">\"\"</span><span style=\"background-color: #272822\">                                                                                              </span>  \n",
       "  <span style=\"color: #66d9ef; text-decoration-color: #66d9ef; background-color: #272822\">for</span><span style=\"color: #f8f8f2; text-decoration-color: #f8f8f2; background-color: #272822\"> category, algorithms </span><span style=\"color: #ff4689; text-decoration-color: #ff4689; background-color: #272822\">in</span><span style=\"color: #f8f8f2; text-decoration-color: #f8f8f2; background-color: #272822\"> popular_algorithms</span><span style=\"color: #ff4689; text-decoration-color: #ff4689; background-color: #272822\">.</span><span style=\"color: #f8f8f2; text-decoration-color: #f8f8f2; background-color: #272822\">items():</span><span style=\"background-color: #272822\">                                                        </span>  \n",
       "  <span style=\"color: #f8f8f2; text-decoration-color: #f8f8f2; background-color: #272822\">    final_result </span><span style=\"color: #ff4689; text-decoration-color: #ff4689; background-color: #272822\">+=</span><span style=\"color: #f8f8f2; text-decoration-color: #f8f8f2; background-color: #272822\"> </span><span style=\"color: #e6db74; text-decoration-color: #e6db74; background-color: #272822\">f\"{</span><span style=\"color: #f8f8f2; text-decoration-color: #f8f8f2; background-color: #272822\">category</span><span style=\"color: #e6db74; text-decoration-color: #e6db74; background-color: #272822\">}:</span><span style=\"color: #ae81ff; text-decoration-color: #ae81ff; background-color: #272822\">\\n</span><span style=\"color: #e6db74; text-decoration-color: #e6db74; background-color: #272822\">\"</span><span style=\"background-color: #272822\">                                                                           </span>  \n",
       "  <span style=\"color: #f8f8f2; text-decoration-color: #f8f8f2; background-color: #272822\">    </span><span style=\"color: #66d9ef; text-decoration-color: #66d9ef; background-color: #272822\">for</span><span style=\"color: #f8f8f2; text-decoration-color: #f8f8f2; background-color: #272822\"> algorithm </span><span style=\"color: #ff4689; text-decoration-color: #ff4689; background-color: #272822\">in</span><span style=\"color: #f8f8f2; text-decoration-color: #f8f8f2; background-color: #272822\"> algorithms:</span><span style=\"background-color: #272822\">                                                                               </span>  \n",
       "  <span style=\"color: #f8f8f2; text-decoration-color: #f8f8f2; background-color: #272822\">        final_result </span><span style=\"color: #ff4689; text-decoration-color: #ff4689; background-color: #272822\">+=</span><span style=\"color: #f8f8f2; text-decoration-color: #f8f8f2; background-color: #272822\"> </span><span style=\"color: #e6db74; text-decoration-color: #e6db74; background-color: #272822\">f\"  - {</span><span style=\"color: #f8f8f2; text-decoration-color: #f8f8f2; background-color: #272822\">algorithm</span><span style=\"color: #e6db74; text-decoration-color: #e6db74; background-color: #272822\">}</span><span style=\"color: #ae81ff; text-decoration-color: #ae81ff; background-color: #272822\">\\n</span><span style=\"color: #e6db74; text-decoration-color: #e6db74; background-color: #272822\">\"</span><span style=\"background-color: #272822\">                                                                   </span>  \n",
       "  <span style=\"color: #f8f8f2; text-decoration-color: #f8f8f2; background-color: #272822\">    final_result </span><span style=\"color: #ff4689; text-decoration-color: #ff4689; background-color: #272822\">+=</span><span style=\"color: #f8f8f2; text-decoration-color: #f8f8f2; background-color: #272822\"> </span><span style=\"color: #e6db74; text-decoration-color: #e6db74; background-color: #272822\">\"</span><span style=\"color: #ae81ff; text-decoration-color: #ae81ff; background-color: #272822\">\\n</span><span style=\"color: #e6db74; text-decoration-color: #e6db74; background-color: #272822\">\"</span><span style=\"background-color: #272822\">                                                                                       </span>  \n",
       "  <span style=\"background-color: #272822\">                                                                                                               </span>  \n",
       "  <span style=\"color: #959077; text-decoration-color: #959077; background-color: #272822\"># Print the final result for review</span><span style=\"background-color: #272822\">                                                                            </span>  \n",
       "  <span style=\"color: #f8f8f2; text-decoration-color: #f8f8f2; background-color: #272822\">print(final_result)</span><span style=\"background-color: #272822\">                                                                                            </span>  \n",
       "  <span style=\"background-color: #272822\">                                                                                                               </span>  \n",
       "  <span style=\"color: #959077; text-decoration-color: #959077; background-color: #272822\"># Provide the final answer</span><span style=\"background-color: #272822\">                                                                                     </span>  \n",
       "  <span style=\"color: #f8f8f2; text-decoration-color: #f8f8f2; background-color: #272822\">final_answer(final_result)</span><span style=\"background-color: #272822\">                                                                                     </span>  \n",
       " ───────────────────────────────────────────────────────────────────────────────────────────────────────────────── \n",
       "</pre>\n"
      ],
      "text/plain": [
       " ─ \u001b[1mExecuting parsed code:\u001b[0m ──────────────────────────────────────────────────────────────────────────────────────── \n",
       "  \u001b[38;2;149;144;119;48;2;39;40;34m# Prepare the final answer in a structured format\u001b[0m\u001b[48;2;39;40;34m                                                              \u001b[0m  \n",
       "  \u001b[38;2;248;248;242;48;2;39;40;34mfinal_result\u001b[0m\u001b[38;2;248;248;242;48;2;39;40;34m \u001b[0m\u001b[38;2;255;70;137;48;2;39;40;34m=\u001b[0m\u001b[38;2;248;248;242;48;2;39;40;34m \u001b[0m\u001b[38;2;230;219;116;48;2;39;40;34m\"\u001b[0m\u001b[38;2;230;219;116;48;2;39;40;34m\"\u001b[0m\u001b[48;2;39;40;34m                                                                                              \u001b[0m  \n",
       "  \u001b[38;2;102;217;239;48;2;39;40;34mfor\u001b[0m\u001b[38;2;248;248;242;48;2;39;40;34m \u001b[0m\u001b[38;2;248;248;242;48;2;39;40;34mcategory\u001b[0m\u001b[38;2;248;248;242;48;2;39;40;34m,\u001b[0m\u001b[38;2;248;248;242;48;2;39;40;34m \u001b[0m\u001b[38;2;248;248;242;48;2;39;40;34malgorithms\u001b[0m\u001b[38;2;248;248;242;48;2;39;40;34m \u001b[0m\u001b[38;2;255;70;137;48;2;39;40;34min\u001b[0m\u001b[38;2;248;248;242;48;2;39;40;34m \u001b[0m\u001b[38;2;248;248;242;48;2;39;40;34mpopular_algorithms\u001b[0m\u001b[38;2;255;70;137;48;2;39;40;34m.\u001b[0m\u001b[38;2;248;248;242;48;2;39;40;34mitems\u001b[0m\u001b[38;2;248;248;242;48;2;39;40;34m(\u001b[0m\u001b[38;2;248;248;242;48;2;39;40;34m)\u001b[0m\u001b[38;2;248;248;242;48;2;39;40;34m:\u001b[0m\u001b[48;2;39;40;34m                                                        \u001b[0m  \n",
       "  \u001b[38;2;248;248;242;48;2;39;40;34m    \u001b[0m\u001b[38;2;248;248;242;48;2;39;40;34mfinal_result\u001b[0m\u001b[38;2;248;248;242;48;2;39;40;34m \u001b[0m\u001b[38;2;255;70;137;48;2;39;40;34m+\u001b[0m\u001b[38;2;255;70;137;48;2;39;40;34m=\u001b[0m\u001b[38;2;248;248;242;48;2;39;40;34m \u001b[0m\u001b[38;2;230;219;116;48;2;39;40;34mf\u001b[0m\u001b[38;2;230;219;116;48;2;39;40;34m\"\u001b[0m\u001b[38;2;230;219;116;48;2;39;40;34m{\u001b[0m\u001b[38;2;248;248;242;48;2;39;40;34mcategory\u001b[0m\u001b[38;2;230;219;116;48;2;39;40;34m}\u001b[0m\u001b[38;2;230;219;116;48;2;39;40;34m:\u001b[0m\u001b[38;2;174;129;255;48;2;39;40;34m\\n\u001b[0m\u001b[38;2;230;219;116;48;2;39;40;34m\"\u001b[0m\u001b[48;2;39;40;34m                                                                           \u001b[0m  \n",
       "  \u001b[38;2;248;248;242;48;2;39;40;34m    \u001b[0m\u001b[38;2;102;217;239;48;2;39;40;34mfor\u001b[0m\u001b[38;2;248;248;242;48;2;39;40;34m \u001b[0m\u001b[38;2;248;248;242;48;2;39;40;34malgorithm\u001b[0m\u001b[38;2;248;248;242;48;2;39;40;34m \u001b[0m\u001b[38;2;255;70;137;48;2;39;40;34min\u001b[0m\u001b[38;2;248;248;242;48;2;39;40;34m \u001b[0m\u001b[38;2;248;248;242;48;2;39;40;34malgorithms\u001b[0m\u001b[38;2;248;248;242;48;2;39;40;34m:\u001b[0m\u001b[48;2;39;40;34m                                                                               \u001b[0m  \n",
       "  \u001b[38;2;248;248;242;48;2;39;40;34m        \u001b[0m\u001b[38;2;248;248;242;48;2;39;40;34mfinal_result\u001b[0m\u001b[38;2;248;248;242;48;2;39;40;34m \u001b[0m\u001b[38;2;255;70;137;48;2;39;40;34m+\u001b[0m\u001b[38;2;255;70;137;48;2;39;40;34m=\u001b[0m\u001b[38;2;248;248;242;48;2;39;40;34m \u001b[0m\u001b[38;2;230;219;116;48;2;39;40;34mf\u001b[0m\u001b[38;2;230;219;116;48;2;39;40;34m\"\u001b[0m\u001b[38;2;230;219;116;48;2;39;40;34m  - \u001b[0m\u001b[38;2;230;219;116;48;2;39;40;34m{\u001b[0m\u001b[38;2;248;248;242;48;2;39;40;34malgorithm\u001b[0m\u001b[38;2;230;219;116;48;2;39;40;34m}\u001b[0m\u001b[38;2;174;129;255;48;2;39;40;34m\\n\u001b[0m\u001b[38;2;230;219;116;48;2;39;40;34m\"\u001b[0m\u001b[48;2;39;40;34m                                                                   \u001b[0m  \n",
       "  \u001b[38;2;248;248;242;48;2;39;40;34m    \u001b[0m\u001b[38;2;248;248;242;48;2;39;40;34mfinal_result\u001b[0m\u001b[38;2;248;248;242;48;2;39;40;34m \u001b[0m\u001b[38;2;255;70;137;48;2;39;40;34m+\u001b[0m\u001b[38;2;255;70;137;48;2;39;40;34m=\u001b[0m\u001b[38;2;248;248;242;48;2;39;40;34m \u001b[0m\u001b[38;2;230;219;116;48;2;39;40;34m\"\u001b[0m\u001b[38;2;174;129;255;48;2;39;40;34m\\n\u001b[0m\u001b[38;2;230;219;116;48;2;39;40;34m\"\u001b[0m\u001b[48;2;39;40;34m                                                                                       \u001b[0m  \n",
       "  \u001b[48;2;39;40;34m                                                                                                               \u001b[0m  \n",
       "  \u001b[38;2;149;144;119;48;2;39;40;34m# Print the final result for review\u001b[0m\u001b[48;2;39;40;34m                                                                            \u001b[0m  \n",
       "  \u001b[38;2;248;248;242;48;2;39;40;34mprint\u001b[0m\u001b[38;2;248;248;242;48;2;39;40;34m(\u001b[0m\u001b[38;2;248;248;242;48;2;39;40;34mfinal_result\u001b[0m\u001b[38;2;248;248;242;48;2;39;40;34m)\u001b[0m\u001b[48;2;39;40;34m                                                                                            \u001b[0m  \n",
       "  \u001b[48;2;39;40;34m                                                                                                               \u001b[0m  \n",
       "  \u001b[38;2;149;144;119;48;2;39;40;34m# Provide the final answer\u001b[0m\u001b[48;2;39;40;34m                                                                                     \u001b[0m  \n",
       "  \u001b[38;2;248;248;242;48;2;39;40;34mfinal_answer\u001b[0m\u001b[38;2;248;248;242;48;2;39;40;34m(\u001b[0m\u001b[38;2;248;248;242;48;2;39;40;34mfinal_result\u001b[0m\u001b[38;2;248;248;242;48;2;39;40;34m)\u001b[0m\u001b[48;2;39;40;34m                                                                                     \u001b[0m  \n",
       " ───────────────────────────────────────────────────────────────────────────────────────────────────────────────── \n"
      ]
     },
     "metadata": {},
     "output_type": "display_data"
    },
    {
     "data": {
      "text/html": [
       "<pre style=\"white-space:pre;overflow-x:auto;line-height:normal;font-family:Menlo,'DejaVu Sans Mono',consolas,'Courier New',monospace\"><span style=\"font-weight: bold\">Execution logs:</span>\n",
       "Sorting:\n",
       "  - Quicksort\n",
       "  - Merge Sort\n",
       "  - Heap Sort\n",
       "  - Bubble Sort\n",
       "  - Insertion Sort\n",
       "  - Selection Sort\n",
       "\n",
       "Searching:\n",
       "  - Binary Search\n",
       "  - Linear Search\n",
       "  - Jump Search\n",
       "  - Interpolation Search\n",
       "\n",
       "Graph:\n",
       "  - Dijkstra's Algorithm\n",
       "  - A* Search Algorithm\n",
       "  - Bellman-Ford Algorithm\n",
       "  - Floyd-Warshall Algorithm\n",
       "  - Kruskal's Algorithm\n",
       "  - Prim's Algorithm\n",
       "\n",
       "String:\n",
       "  - KMP Algorithm\n",
       "  - Boyer-Moore Algorithm\n",
       "  - Rabin-Karp Algorithm\n",
       "  - Suffix Array\n",
       "  - Trie\n",
       "\n",
       "Dynamic Programming:\n",
       "  - Fibonacci Sequence\n",
       "  - 0/1 Knapsack\n",
       "  - Longest Common Subsequence\n",
       "  - Matrix Chain Multiplication\n",
       "\n",
       "Machine Learning:\n",
       "  - Linear Regression\n",
       "  - Logistic Regression\n",
       "  - Support Vector Machines\n",
       "  - K-Means Clustering\n",
       "  - Decision Trees\n",
       "  - Random Forest\n",
       "  - Neural Networks\n",
       "\n",
       "Other:\n",
       "  - Quickhull (Convex Hull)\n",
       "  - Rapid Prototyping\n",
       "  - Bit Manipulation Algorithms\n",
       "  - Hashing Algorithms\n",
       "  - Greedy Algorithms\n",
       "\n",
       "\n",
       "\n",
       "<span style=\"color: #d4b702; text-decoration-color: #d4b702; font-weight: bold\">Out - Final answer: Sorting:</span>\n",
       "<span style=\"color: #d4b702; text-decoration-color: #d4b702; font-weight: bold\">  - Quicksort</span>\n",
       "<span style=\"color: #d4b702; text-decoration-color: #d4b702; font-weight: bold\">  - Merge Sort</span>\n",
       "<span style=\"color: #d4b702; text-decoration-color: #d4b702; font-weight: bold\">  - Heap Sort</span>\n",
       "<span style=\"color: #d4b702; text-decoration-color: #d4b702; font-weight: bold\">  - Bubble Sort</span>\n",
       "<span style=\"color: #d4b702; text-decoration-color: #d4b702; font-weight: bold\">  - Insertion Sort</span>\n",
       "<span style=\"color: #d4b702; text-decoration-color: #d4b702; font-weight: bold\">  - Selection Sort</span>\n",
       "\n",
       "<span style=\"color: #d4b702; text-decoration-color: #d4b702; font-weight: bold\">Searching:</span>\n",
       "<span style=\"color: #d4b702; text-decoration-color: #d4b702; font-weight: bold\">  - Binary Search</span>\n",
       "<span style=\"color: #d4b702; text-decoration-color: #d4b702; font-weight: bold\">  - Linear Search</span>\n",
       "<span style=\"color: #d4b702; text-decoration-color: #d4b702; font-weight: bold\">  - Jump Search</span>\n",
       "<span style=\"color: #d4b702; text-decoration-color: #d4b702; font-weight: bold\">  - Interpolation Search</span>\n",
       "\n",
       "<span style=\"color: #d4b702; text-decoration-color: #d4b702; font-weight: bold\">Graph:</span>\n",
       "<span style=\"color: #d4b702; text-decoration-color: #d4b702; font-weight: bold\">  - Dijkstra's Algorithm</span>\n",
       "<span style=\"color: #d4b702; text-decoration-color: #d4b702; font-weight: bold\">  - A* Search Algorithm</span>\n",
       "<span style=\"color: #d4b702; text-decoration-color: #d4b702; font-weight: bold\">  - Bellman-Ford Algorithm</span>\n",
       "<span style=\"color: #d4b702; text-decoration-color: #d4b702; font-weight: bold\">  - Floyd-Warshall Algorithm</span>\n",
       "<span style=\"color: #d4b702; text-decoration-color: #d4b702; font-weight: bold\">  - Kruskal's Algorithm</span>\n",
       "<span style=\"color: #d4b702; text-decoration-color: #d4b702; font-weight: bold\">  - Prim's Algorithm</span>\n",
       "\n",
       "<span style=\"color: #d4b702; text-decoration-color: #d4b702; font-weight: bold\">String:</span>\n",
       "<span style=\"color: #d4b702; text-decoration-color: #d4b702; font-weight: bold\">  - KMP Algorithm</span>\n",
       "<span style=\"color: #d4b702; text-decoration-color: #d4b702; font-weight: bold\">  - Boyer-Moore Algorithm</span>\n",
       "<span style=\"color: #d4b702; text-decoration-color: #d4b702; font-weight: bold\">  - Rabin-Karp Algorithm</span>\n",
       "<span style=\"color: #d4b702; text-decoration-color: #d4b702; font-weight: bold\">  - Suffix Array</span>\n",
       "<span style=\"color: #d4b702; text-decoration-color: #d4b702; font-weight: bold\">  - Trie</span>\n",
       "\n",
       "<span style=\"color: #d4b702; text-decoration-color: #d4b702; font-weight: bold\">Dynamic Programming:</span>\n",
       "<span style=\"color: #d4b702; text-decoration-color: #d4b702; font-weight: bold\">  - Fibonacci Sequence</span>\n",
       "<span style=\"color: #d4b702; text-decoration-color: #d4b702; font-weight: bold\">  - 0/1 Knapsack</span>\n",
       "<span style=\"color: #d4b702; text-decoration-color: #d4b702; font-weight: bold\">  - Longest Common Subsequence</span>\n",
       "<span style=\"color: #d4b702; text-decoration-color: #d4b702; font-weight: bold\">  - Matrix Chain Multiplication</span>\n",
       "\n",
       "<span style=\"color: #d4b702; text-decoration-color: #d4b702; font-weight: bold\">Machine Learning:</span>\n",
       "<span style=\"color: #d4b702; text-decoration-color: #d4b702; font-weight: bold\">  - Linear Regression</span>\n",
       "<span style=\"color: #d4b702; text-decoration-color: #d4b702; font-weight: bold\">  - Logistic Regression</span>\n",
       "<span style=\"color: #d4b702; text-decoration-color: #d4b702; font-weight: bold\">  - Support Vector Machines</span>\n",
       "<span style=\"color: #d4b702; text-decoration-color: #d4b702; font-weight: bold\">  - K-Means Clustering</span>\n",
       "<span style=\"color: #d4b702; text-decoration-color: #d4b702; font-weight: bold\">  - Decision Trees</span>\n",
       "<span style=\"color: #d4b702; text-decoration-color: #d4b702; font-weight: bold\">  - Random Forest</span>\n",
       "<span style=\"color: #d4b702; text-decoration-color: #d4b702; font-weight: bold\">  - Neural Networks</span>\n",
       "\n",
       "<span style=\"color: #d4b702; text-decoration-color: #d4b702; font-weight: bold\">Other:</span>\n",
       "<span style=\"color: #d4b702; text-decoration-color: #d4b702; font-weight: bold\">  - Quickhull (Convex Hull)</span>\n",
       "<span style=\"color: #d4b702; text-decoration-color: #d4b702; font-weight: bold\">  - Rapid Prototyping</span>\n",
       "<span style=\"color: #d4b702; text-decoration-color: #d4b702; font-weight: bold\">  - Bit Manipulation Algorithms</span>\n",
       "<span style=\"color: #d4b702; text-decoration-color: #d4b702; font-weight: bold\">  - Hashing Algorithms</span>\n",
       "<span style=\"color: #d4b702; text-decoration-color: #d4b702; font-weight: bold\">  - Greedy Algorithms</span>\n",
       "\n",
       "\n",
       "</pre>\n"
      ],
      "text/plain": [
       "\u001b[1mExecution logs:\u001b[0m\n",
       "Sorting:\n",
       "  - Quicksort\n",
       "  - Merge Sort\n",
       "  - Heap Sort\n",
       "  - Bubble Sort\n",
       "  - Insertion Sort\n",
       "  - Selection Sort\n",
       "\n",
       "Searching:\n",
       "  - Binary Search\n",
       "  - Linear Search\n",
       "  - Jump Search\n",
       "  - Interpolation Search\n",
       "\n",
       "Graph:\n",
       "  - Dijkstra's Algorithm\n",
       "  - A* Search Algorithm\n",
       "  - Bellman-Ford Algorithm\n",
       "  - Floyd-Warshall Algorithm\n",
       "  - Kruskal's Algorithm\n",
       "  - Prim's Algorithm\n",
       "\n",
       "String:\n",
       "  - KMP Algorithm\n",
       "  - Boyer-Moore Algorithm\n",
       "  - Rabin-Karp Algorithm\n",
       "  - Suffix Array\n",
       "  - Trie\n",
       "\n",
       "Dynamic Programming:\n",
       "  - Fibonacci Sequence\n",
       "  - 0/1 Knapsack\n",
       "  - Longest Common Subsequence\n",
       "  - Matrix Chain Multiplication\n",
       "\n",
       "Machine Learning:\n",
       "  - Linear Regression\n",
       "  - Logistic Regression\n",
       "  - Support Vector Machines\n",
       "  - K-Means Clustering\n",
       "  - Decision Trees\n",
       "  - Random Forest\n",
       "  - Neural Networks\n",
       "\n",
       "Other:\n",
       "  - Quickhull (Convex Hull)\n",
       "  - Rapid Prototyping\n",
       "  - Bit Manipulation Algorithms\n",
       "  - Hashing Algorithms\n",
       "  - Greedy Algorithms\n",
       "\n",
       "\n",
       "\n",
       "\u001b[1;38;2;212;183;2mOut - Final answer: Sorting:\u001b[0m\n",
       "\u001b[1;38;2;212;183;2m  - Quicksort\u001b[0m\n",
       "\u001b[1;38;2;212;183;2m  - Merge Sort\u001b[0m\n",
       "\u001b[1;38;2;212;183;2m  - Heap Sort\u001b[0m\n",
       "\u001b[1;38;2;212;183;2m  - Bubble Sort\u001b[0m\n",
       "\u001b[1;38;2;212;183;2m  - Insertion Sort\u001b[0m\n",
       "\u001b[1;38;2;212;183;2m  - Selection Sort\u001b[0m\n",
       "\n",
       "\u001b[1;38;2;212;183;2mSearching:\u001b[0m\n",
       "\u001b[1;38;2;212;183;2m  - Binary Search\u001b[0m\n",
       "\u001b[1;38;2;212;183;2m  - Linear Search\u001b[0m\n",
       "\u001b[1;38;2;212;183;2m  - Jump Search\u001b[0m\n",
       "\u001b[1;38;2;212;183;2m  - Interpolation Search\u001b[0m\n",
       "\n",
       "\u001b[1;38;2;212;183;2mGraph:\u001b[0m\n",
       "\u001b[1;38;2;212;183;2m  - Dijkstra's Algorithm\u001b[0m\n",
       "\u001b[1;38;2;212;183;2m  - A* Search Algorithm\u001b[0m\n",
       "\u001b[1;38;2;212;183;2m  - Bellman-Ford Algorithm\u001b[0m\n",
       "\u001b[1;38;2;212;183;2m  - Floyd-Warshall Algorithm\u001b[0m\n",
       "\u001b[1;38;2;212;183;2m  - Kruskal's Algorithm\u001b[0m\n",
       "\u001b[1;38;2;212;183;2m  - Prim's Algorithm\u001b[0m\n",
       "\n",
       "\u001b[1;38;2;212;183;2mString:\u001b[0m\n",
       "\u001b[1;38;2;212;183;2m  - KMP Algorithm\u001b[0m\n",
       "\u001b[1;38;2;212;183;2m  - Boyer-Moore Algorithm\u001b[0m\n",
       "\u001b[1;38;2;212;183;2m  - Rabin-Karp Algorithm\u001b[0m\n",
       "\u001b[1;38;2;212;183;2m  - Suffix Array\u001b[0m\n",
       "\u001b[1;38;2;212;183;2m  - Trie\u001b[0m\n",
       "\n",
       "\u001b[1;38;2;212;183;2mDynamic Programming:\u001b[0m\n",
       "\u001b[1;38;2;212;183;2m  - Fibonacci Sequence\u001b[0m\n",
       "\u001b[1;38;2;212;183;2m  - 0/1 Knapsack\u001b[0m\n",
       "\u001b[1;38;2;212;183;2m  - Longest Common Subsequence\u001b[0m\n",
       "\u001b[1;38;2;212;183;2m  - Matrix Chain Multiplication\u001b[0m\n",
       "\n",
       "\u001b[1;38;2;212;183;2mMachine Learning:\u001b[0m\n",
       "\u001b[1;38;2;212;183;2m  - Linear Regression\u001b[0m\n",
       "\u001b[1;38;2;212;183;2m  - Logistic Regression\u001b[0m\n",
       "\u001b[1;38;2;212;183;2m  - Support Vector Machines\u001b[0m\n",
       "\u001b[1;38;2;212;183;2m  - K-Means Clustering\u001b[0m\n",
       "\u001b[1;38;2;212;183;2m  - Decision Trees\u001b[0m\n",
       "\u001b[1;38;2;212;183;2m  - Random Forest\u001b[0m\n",
       "\u001b[1;38;2;212;183;2m  - Neural Networks\u001b[0m\n",
       "\n",
       "\u001b[1;38;2;212;183;2mOther:\u001b[0m\n",
       "\u001b[1;38;2;212;183;2m  - Quickhull (Convex Hull)\u001b[0m\n",
       "\u001b[1;38;2;212;183;2m  - Rapid Prototyping\u001b[0m\n",
       "\u001b[1;38;2;212;183;2m  - Bit Manipulation Algorithms\u001b[0m\n",
       "\u001b[1;38;2;212;183;2m  - Hashing Algorithms\u001b[0m\n",
       "\u001b[1;38;2;212;183;2m  - Greedy Algorithms\u001b[0m\n",
       "\n",
       "\n"
      ]
     },
     "metadata": {},
     "output_type": "display_data"
    },
    {
     "data": {
      "text/html": [
       "<pre style=\"white-space:pre;overflow-x:auto;line-height:normal;font-family:Menlo,'DejaVu Sans Mono',consolas,'Courier New',monospace\"><span style=\"color: #7f7f7f; text-decoration-color: #7f7f7f\">[Step 3: Duration 7.59 seconds| Input tokens: 9,404 | Output tokens: 606]</span>\n",
       "</pre>\n"
      ],
      "text/plain": [
       "\u001b[2m[Step 3: Duration 7.59 seconds| Input tokens: 9,404 | Output tokens: 606]\u001b[0m\n"
      ]
     },
     "metadata": {},
     "output_type": "display_data"
    },
    {
     "name": "stdout",
     "output_type": "stream",
     "text": [
      "Sorting:\n",
      "  - Quicksort\n",
      "  - Merge Sort\n",
      "  - Heap Sort\n",
      "  - Bubble Sort\n",
      "  - Insertion Sort\n",
      "  - Selection Sort\n",
      "\n",
      "Searching:\n",
      "  - Binary Search\n",
      "  - Linear Search\n",
      "  - Jump Search\n",
      "  - Interpolation Search\n",
      "\n",
      "Graph:\n",
      "  - Dijkstra's Algorithm\n",
      "  - A* Search Algorithm\n",
      "  - Bellman-Ford Algorithm\n",
      "  - Floyd-Warshall Algorithm\n",
      "  - Kruskal's Algorithm\n",
      "  - Prim's Algorithm\n",
      "\n",
      "String:\n",
      "  - KMP Algorithm\n",
      "  - Boyer-Moore Algorithm\n",
      "  - Rabin-Karp Algorithm\n",
      "  - Suffix Array\n",
      "  - Trie\n",
      "\n",
      "Dynamic Programming:\n",
      "  - Fibonacci Sequence\n",
      "  - 0/1 Knapsack\n",
      "  - Longest Common Subsequence\n",
      "  - Matrix Chain Multiplication\n",
      "\n",
      "Machine Learning:\n",
      "  - Linear Regression\n",
      "  - Logistic Regression\n",
      "  - Support Vector Machines\n",
      "  - K-Means Clustering\n",
      "  - Decision Trees\n",
      "  - Random Forest\n",
      "  - Neural Networks\n",
      "\n",
      "Other:\n",
      "  - Quickhull (Convex Hull)\n",
      "  - Rapid Prototyping\n",
      "  - Bit Manipulation Algorithms\n",
      "  - Hashing Algorithms\n",
      "  - Greedy Algorithms\n",
      "\n",
      "\n",
      "---\n"
     ]
    }
   ],
   "source": [
    "\n",
    "\n",
    "from smolagents import CodeAgent, DuckDuckGoSearchTool, HfApiModel\n",
    "\n",
    "# Initialize the agent with memory\n",
    "research_agent = CodeAgent(tools=[DuckDuckGoSearchTool()],\n",
    "                           model=HfApiModel())  # TODO: Define the agent\n",
    "\n",
    "# Test with a multi-turn conversation\n",
    "questions = [\n",
    "    \"What are the main types of machine learning?\",\n",
    "    \"Can you explain supervised learning in more detail?\",\n",
    "    \"What are some popular algorithms for this type?\",\n",
    "]\n",
    "\n",
    "# TODO: Test the agent\n",
    "\n",
    "for question in questions:\n",
    "    response = agent.run(question)\n",
    "    print(response)\n",
    "\n",
    "    print(\"---\")\n"
   ]
  },
  {
   "cell_type": "markdown",
   "id": "83a3bd46-f763-488b-8a0a-f1daafd64e8a",
   "metadata": {},
   "source": [
    "### 🤔 Exercise 3 Challenge\n",
    "\n",
    "- Test how well the agent maintains context across different topics\n",
    "- Implement a custom knowledge base tool (as shown in the retrieval_agents.md example)\n",
    "- Create a hybrid agent that combines code understanding with research capabilities"
   ]
  }
 ],
 "metadata": {
  "kernelspec": {
   "display_name": "Python 3 (ipykernel)",
   "language": "python",
   "name": "python3"
  },
  "language_info": {
   "codemirror_mode": {
    "name": "ipython",
    "version": 3
   },
   "file_extension": ".py",
   "mimetype": "text/x-python",
   "name": "python",
   "nbconvert_exporter": "python",
   "pygments_lexer": "ipython3",
   "version": "3.10.16"
  }
 },
 "nbformat": 4,
 "nbformat_minor": 5
}
