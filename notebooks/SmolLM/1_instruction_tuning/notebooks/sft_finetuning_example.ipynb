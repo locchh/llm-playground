{
 "cells": [
  {
   "cell_type": "markdown",
   "id": "bcfb103a-bfd7-47b6-8322-731963807d8a",
   "metadata": {},
   "source": [
    "## Supervised Fine-Tuning with SFTTrainer\n",
    "\n",
    "This notebook demonstrates how to fine-tune the `HuggingFaceTB/SmolLM2-135M` model using the `SFTTrainer` from the `trl` library. The notebook cells run and will finetune the model. You can select your difficulty by trying out different datasets.\n",
    "\n",
    "### Exercise: Fine-Tuning SmolLM2 with SFTTrainer\n",
    "\n",
    "Take a dataset from the Hugging Face hub and finetune a model on it.\n",
    "\n",
    "Difficulty Levels\n",
    "\n",
    "🐢 Use the `HuggingFaceTB/smoltalk` dataset\n",
    "\n",
    "🐕 Try out the `bigcode/the-stack-smol` dataset and finetune a code generation model on a specific subset `data/python`.\n",
    "\n",
    "🦁 Select a dataset that relates to a real world use case your interested in"
   ]
  },
  {
   "cell_type": "code",
   "execution_count": 1,
   "id": "e955b253-0cd4-4757-9e88-f24bd282dd15",
   "metadata": {},
   "outputs": [
    {
     "name": "stdout",
     "output_type": "stream",
     "text": [
      "True\n",
      "Tesla P40\n"
     ]
    }
   ],
   "source": [
    "import os\n",
    "os.environ[\"CUDA_VISIBLE_DEVICES\"] = \"0\"\n",
    "\n",
    "import torch\n",
    "print(torch.cuda.is_available())\n",
    "print(torch.cuda.get_device_name())\n",
    "\n",
    "import json\n",
    "from trl import setup_chat_format, SFTConfig, SFTTrainer\n",
    "from transformers import AutoModelForCausalLM, AutoTokenizer"
   ]
  },
  {
   "cell_type": "code",
   "execution_count": 4,
   "id": "8814e2f5-b4d8-4ff8-a49f-f54128294814",
   "metadata": {},
   "outputs": [],
   "source": [
    "device = (\n",
    "    \"cuda\"\n",
    "    if torch.cuda.is_available()\n",
    "    else \"mps\" if torch.backends.mps.is_available() else \"cpu\"\n",
    ")"
   ]
  },
  {
   "cell_type": "code",
   "execution_count": null,
   "id": "d66213d2-7797-4a34-a790-848e5bdf3c77",
   "metadata": {},
   "outputs": [],
   "source": [
    "# Load the model and tokenizer\n",
    "model_name = \"HuggingFaceTB/SmolLM2-135M\"\n",
    "model = AutoModelForCausalLM.from_pretrained(\n",
    "    pretrained_model_name_or_path=model_name\n",
    ").to(device)\n",
    "\n",
    "tokenizer = AutoTokenizer.from_pretrained(pretrained_model_name_or_path=model_name)\n",
    "\n",
    "# Set up the chat format\n",
    "model, tokenizer = setup_chat_format(model=model, tokenizer=tokenizer)\n",
    "\n",
    "# Set our name for the finetune to be saved &/ uploaded to\n",
    "finetune_name = \"SmolLM2-FT-MyDataset\"\n",
    "finetune_tags = [\"smol-course\", \"module_1\"]"
   ]
  },
  {
   "cell_type": "markdown",
   "id": "88eafe1e-9821-475b-91d4-8fe5349a9311",
   "metadata": {},
   "source": [
    "### Generate with the base model\n",
    "\n",
    "Here we will try out the base model which does not have a chat template."
   ]
  },
  {
   "cell_type": "code",
   "execution_count": null,
   "id": "bd920c3b-8994-4349-b064-b77377e8ec43",
   "metadata": {},
   "outputs": [
    {
     "name": "stdout",
     "output_type": "stream",
     "text": [
      "<|im_start|>user\n",
      "Write a haiku about programming<|im_end|>\n",
      "\n"
     ]
    }
   ],
   "source": [
    "# Let's test the base model before training\n",
    "prompt = \"Write a haiku about programming\"\n",
    "\n",
    "# Format with template\n",
    "messages = [{\"role\":\"user\",\"content\":prompt}]\n",
    "formatted_prompt = tokenizer.apply_chat_template(messages, tokenize=False)\n",
    "print(formatted_prompt)"
   ]
  },
  {
   "cell_type": "code",
   "execution_count": null,
   "id": "72497ba8-0b20-4427-866c-57390420f38e",
   "metadata": {},
   "outputs": [
    {
     "name": "stdout",
     "output_type": "stream",
     "text": [
      "{'input_ids': tensor([[    1,  4093,   198, 19161,   253,   421, 30614,   563,  6256,     2,\n",
      "           198]], device='cuda:0'), 'attention_mask': tensor([[1, 1, 1, 1, 1, 1, 1, 1, 1, 1, 1]], device='cuda:0')}\n"
     ]
    }
   ],
   "source": [
    "# Generate response\n",
    "inputs = tokenizer(formatted_prompt, return_tensors=\"pt\").to(device)\n",
    "print(inputs)"
   ]
  },
  {
   "cell_type": "code",
   "execution_count": null,
   "id": "fdd19425-80b8-4f33-a604-2a6e7e738631",
   "metadata": {},
   "outputs": [
    {
     "name": "stdout",
     "output_type": "stream",
     "text": [
      "Before training:\n",
      "user\n",
      "Write a haiku about programming\n",
      "Write a haiku about programming\n",
      "Write a haiku about programming\n",
      "Write a haiku about programming\n",
      "Write a haiku about programming\n",
      "Write a haiku about programming\n",
      "Write a haiku about programming\n",
      "Write a haiku about programming\n",
      "Write a haiku about programming\n",
      "Write a haiku about programming\n",
      "Write a haiku about programming\n",
      "Write a haiku about programming\n",
      "Write a haiku about programming\n",
      "Write a haiku about programming\n",
      "Write a haiku about programming\n",
      "Write a\n"
     ]
    }
   ],
   "source": [
    "outputs = model.generate(**inputs, max_new_tokens=100)\n",
    "print(\"Before training:\")\n",
    "print(tokenizer.decode(outputs[0], skip_special_tokens=True))"
   ]
  },
  {
   "cell_type": "markdown",
   "id": "7f28f74c-fabf-4f0f-abe1-0f8401053b1c",
   "metadata": {},
   "source": [
    "### Dataset Preparation\n",
    "\n",
    "We will load a sample dataset and format it for training. The dataset should be structured with input-output pairs, where each input is a prompt and the output is the expected response from the model.\n",
    "\n",
    "**TRL will format input messages based on the model's chat templates**. They need to be represented as a list of dictionaries with the keys: `role` and `content`,."
   ]
  },
  {
   "cell_type": "code",
   "execution_count": null,
   "id": "0405ff9f-c209-4d1f-b063-bd07dc53bc22",
   "metadata": {},
   "outputs": [],
   "source": [
    "# Load a sample dataset\n",
    "from datasets import load_dataset\n",
    "\n",
    "# TODO: define your dataset and config using the path and name parameters\n",
    "ds = load_dataset(path=\"HuggingFaceTB/smoltalk\", name=\"everyday-conversations\")"
   ]
  },
  {
   "cell_type": "code",
   "execution_count": null,
   "id": "a99c8122-5af0-45aa-85a5-66d6f94e725f",
   "metadata": {},
   "outputs": [
    {
     "data": {
      "text/plain": [
       "DatasetDict({\n",
       "    train: Dataset({\n",
       "        features: ['full_topic', 'messages'],\n",
       "        num_rows: 2260\n",
       "    })\n",
       "    test: Dataset({\n",
       "        features: ['full_topic', 'messages'],\n",
       "        num_rows: 119\n",
       "    })\n",
       "})"
      ]
     },
     "execution_count": 7,
     "metadata": {},
     "output_type": "execute_result"
    }
   ],
   "source": [
    "ds"
   ]
  },
  {
   "cell_type": "code",
   "execution_count": null,
   "id": "97aaa4a8-fd41-4983-b800-138788661f40",
   "metadata": {},
   "outputs": [
    {
     "data": {
      "text/plain": [
       "[{'content': 'Hi there', 'role': 'user'},\n",
       " {'content': 'Hello! How can I help you today?', 'role': 'assistant'},\n",
       " {'content': \"I'm looking for a beach resort for my next vacation. Can you recommend some popular ones?\",\n",
       "  'role': 'user'},\n",
       " {'content': \"Some popular beach resorts include Maui in Hawaii, the Maldives, and the Bahamas. They're known for their beautiful beaches and crystal-clear waters.\",\n",
       "  'role': 'assistant'},\n",
       " {'content': 'That sounds great. Are there any resorts in the Caribbean that are good for families?',\n",
       "  'role': 'user'},\n",
       " {'content': 'Yes, the Turks and Caicos Islands and Barbados are excellent choices for family-friendly resorts in the Caribbean. They offer a range of activities and amenities suitable for all ages.',\n",
       "  'role': 'assistant'},\n",
       " {'content': \"Okay, I'll look into those. Thanks for the recommendations!\",\n",
       "  'role': 'user'},\n",
       " {'content': \"You're welcome. I hope you find the perfect resort for your vacation.\",\n",
       "  'role': 'assistant'}]"
      ]
     },
     "execution_count": 8,
     "metadata": {},
     "output_type": "execute_result"
    }
   ],
   "source": [
    "ds['train'][0]['messages']"
   ]
  },
  {
   "cell_type": "code",
   "execution_count": null,
   "id": "0149dcdc-fd22-43c9-ac38-e93b09f296e3",
   "metadata": {},
   "outputs": [
    {
     "data": {
      "text/plain": [
       "DatasetDict({\n",
       "    train: Dataset({\n",
       "        features: ['input_ids', 'attention_mask'],\n",
       "        num_rows: 2260\n",
       "    })\n",
       "    test: Dataset({\n",
       "        features: ['input_ids', 'attention_mask'],\n",
       "        num_rows: 119\n",
       "    })\n",
       "})"
      ]
     },
     "execution_count": 9,
     "metadata": {},
     "output_type": "execute_result"
    }
   ],
   "source": [
    "# TODO: 🦁 If your dataset is not in a format that TRL can convert to the chat template,\n",
    "# you will need to process it. Refer to the [module](../chat_templates.md)\n",
    "\n",
    "def process_dataset(sample):\n",
    "    # Convert the sample into a chat format and tokenize it\n",
    "    formatted_prompts = tokenizer.apply_chat_template(sample['messages'], tokenize=False)\n",
    "    tokenized_output = tokenizer(formatted_prompts)\n",
    "\n",
    "    # Remove unused columns (only keeping tokenized fields)\n",
    "    keys_to_keep = [\"input_ids\", \"attention_mask\"]  # Adjust based on tokenizer output\n",
    "    tokenized_output = {key: tokenized_output[key] for key in keys_to_keep if key in tokenized_output}\n",
    "\n",
    "    return tokenized_output\n",
    "\n",
    "ds = ds.map(process_dataset, remove_columns=ds['train'].column_names)\n",
    "\n",
    "ds"
   ]
  },
  {
   "cell_type": "markdown",
   "id": "2cb9a03a-56a7-4f43-b78a-ed3bbab780de",
   "metadata": {},
   "source": [
    "### Configuring the SFTTrainer\n",
    "\n",
    "The `SFTTrainer` is configured with various parameters that control the training process. These include the number of training steps, batch size, learning rate, and evaluation strategy. Adjust these parameters based on your specific requirements and computational resources."
   ]
  },
  {
   "cell_type": "code",
   "execution_count": null,
   "id": "cf36b043-8e63-4cdc-8c46-fde8f78a2dad",
   "metadata": {},
   "outputs": [
    {
     "name": "stderr",
     "output_type": "stream",
     "text": [
      "/home/loc/miniconda3/envs/py3x/lib/python3.10/site-packages/transformers/training_args.py:1575: FutureWarning: `evaluation_strategy` is deprecated and will be removed in version 4.46 of 🤗 Transformers. Use `eval_strategy` instead\n",
      "  warnings.warn(\n",
      "/tmp/ipykernel_3978/3721637931.py:20: FutureWarning: `tokenizer` is deprecated and removed starting from version 0.16.0 for `SFTTrainer.__init__`. Use `processing_class` instead.\n",
      "  trainer = SFTTrainer(\n"
     ]
    }
   ],
   "source": [
    "\n",
    "\n",
    "# Configure the SFTTrainer\n",
    "sft_config = SFTConfig(\n",
    "    output_dir=\"./sft_output\",\n",
    "    max_steps=1000,  # Adjust based on dataset size and desired training duration\n",
    "    per_device_train_batch_size=4,  # Set according to your GPU memory capacity\n",
    "    learning_rate=5e-5,  # Common starting point for fine-tuning\n",
    "    logging_steps=10,  # Frequency of logging training metrics\n",
    "    save_steps=100,  # Frequency of saving model checkpoints\n",
    "    evaluation_strategy=\"steps\",  # Evaluate the model at regular intervals\n",
    "    eval_steps=100,  # Frequency of evaluation\n",
    "    fp16=True,\n",
    "    use_mps_device=(\n",
    "        True if device == \"mps\" else False\n",
    "    ),  # Use MPS for mixed precision training\n",
    "    hub_model_id=finetune_name,  # Set a unique name for your model,\n",
    "    report_to = \"none\"\n",
    ")\n",
    "\n",
    "# Initialize the SFTTrainer\n",
    "trainer = SFTTrainer(\n",
    "    model=model,\n",
    "    args=sft_config,\n",
    "    train_dataset=ds[\"train\"],\n",
    "    tokenizer=tokenizer,\n",
    "    eval_dataset=ds[\"test\"],\n",
    ")"
   ]
  },
  {
   "cell_type": "markdown",
   "id": "a4d9cff8-810a-4b22-a197-9e11a5cf4a8b",
   "metadata": {},
   "source": [
    "### Training the Model\n",
    "\n",
    "With the trainer configured, we can now proceed to train the model. The training process will involve iterating over the dataset, computing the loss, and updating the model's parameters to minimize this loss."
   ]
  },
  {
   "cell_type": "code",
   "execution_count": null,
   "id": "6e0b6e60-2b4a-47cf-9008-959c1ae0e65f",
   "metadata": {},
   "outputs": [
    {
     "data": {
      "application/vnd.jupyter.widget-view+json": {
       "model_id": "fdbeeb58354a453e915057145f56fb9c",
       "version_major": 2,
       "version_minor": 0
      },
      "text/plain": [
       "  0%|          | 0/1000 [00:00<?, ?it/s]"
      ]
     },
     "metadata": {},
     "output_type": "display_data"
    },
    {
     "name": "stdout",
     "output_type": "stream",
     "text": [
      "{'loss': 1.7802, 'grad_norm': 2.812790870666504, 'learning_rate': 4.9550000000000005e-05, 'epoch': 0.02}\n",
      "{'loss': 1.2665, 'grad_norm': 2.6464433670043945, 'learning_rate': 4.905e-05, 'epoch': 0.04}\n",
      "{'loss': 1.2406, 'grad_norm': 2.409515380859375, 'learning_rate': 4.855e-05, 'epoch': 0.05}\n",
      "{'loss': 1.166, 'grad_norm': 2.539659023284912, 'learning_rate': 4.805e-05, 'epoch': 0.07}\n",
      "{'loss': 1.0683, 'grad_norm': 2.2946698665618896, 'learning_rate': 4.755e-05, 'epoch': 0.09}\n",
      "{'loss': 1.1578, 'grad_norm': 2.285670042037964, 'learning_rate': 4.705e-05, 'epoch': 0.11}\n",
      "{'loss': 1.1655, 'grad_norm': 2.017538070678711, 'learning_rate': 4.655000000000001e-05, 'epoch': 0.12}\n",
      "{'loss': 1.1257, 'grad_norm': 2.1274728775024414, 'learning_rate': 4.605e-05, 'epoch': 0.14}\n",
      "{'loss': 1.0882, 'grad_norm': 2.2429051399230957, 'learning_rate': 4.555e-05, 'epoch': 0.16}\n",
      "{'loss': 1.1118, 'grad_norm': 2.083092451095581, 'learning_rate': 4.5050000000000004e-05, 'epoch': 0.18}\n"
     ]
    },
    {
     "data": {
      "application/vnd.jupyter.widget-view+json": {
       "model_id": "87d999a7fc734401b8c9fe6bc16fcd9f",
       "version_major": 2,
       "version_minor": 0
      },
      "text/plain": [
       "  0%|          | 0/15 [00:00<?, ?it/s]"
      ]
     },
     "metadata": {},
     "output_type": "display_data"
    },
    {
     "name": "stdout",
     "output_type": "stream",
     "text": [
      "{'eval_loss': 1.1242440938949585, 'eval_runtime': 4.8793, 'eval_samples_per_second': 24.389, 'eval_steps_per_second': 3.074, 'epoch': 0.18}\n",
      "{'loss': 1.0627, 'grad_norm': 2.0681509971618652, 'learning_rate': 4.4550000000000005e-05, 'epoch': 0.19}\n",
      "{'loss': 1.124, 'grad_norm': 2.0806641578674316, 'learning_rate': 4.405e-05, 'epoch': 0.21}\n",
      "{'loss': 1.0924, 'grad_norm': 2.004514694213867, 'learning_rate': 4.355e-05, 'epoch': 0.23}\n",
      "{'loss': 1.064, 'grad_norm': 2.1443967819213867, 'learning_rate': 4.305e-05, 'epoch': 0.25}\n",
      "{'loss': 1.0628, 'grad_norm': 2.0638463497161865, 'learning_rate': 4.2550000000000004e-05, 'epoch': 0.27}\n",
      "{'loss': 1.0683, 'grad_norm': 2.015770673751831, 'learning_rate': 4.205e-05, 'epoch': 0.28}\n",
      "{'loss': 1.0975, 'grad_norm': 2.063107490539551, 'learning_rate': 4.155e-05, 'epoch': 0.3}\n",
      "{'loss': 1.0372, 'grad_norm': 1.7578182220458984, 'learning_rate': 4.105e-05, 'epoch': 0.32}\n",
      "{'loss': 1.0558, 'grad_norm': 1.998705267906189, 'learning_rate': 4.055e-05, 'epoch': 0.34}\n",
      "{'loss': 1.0488, 'grad_norm': 1.8706649541854858, 'learning_rate': 4.0050000000000004e-05, 'epoch': 0.35}\n"
     ]
    },
    {
     "data": {
      "application/vnd.jupyter.widget-view+json": {
       "model_id": "0c16704af8db4c929d70f0f8bbeac26f",
       "version_major": 2,
       "version_minor": 0
      },
      "text/plain": [
       "  0%|          | 0/15 [00:00<?, ?it/s]"
      ]
     },
     "metadata": {},
     "output_type": "display_data"
    },
    {
     "name": "stdout",
     "output_type": "stream",
     "text": [
      "{'eval_loss': 1.079846978187561, 'eval_runtime': 4.8251, 'eval_samples_per_second': 24.663, 'eval_steps_per_second': 3.109, 'epoch': 0.35}\n",
      "{'loss': 1.0711, 'grad_norm': 1.971260905265808, 'learning_rate': 3.9550000000000006e-05, 'epoch': 0.37}\n",
      "{'loss': 1.1071, 'grad_norm': 2.0244431495666504, 'learning_rate': 3.905e-05, 'epoch': 0.39}\n",
      "{'loss': 1.0447, 'grad_norm': 1.9733654260635376, 'learning_rate': 3.855e-05, 'epoch': 0.41}\n",
      "{'loss': 1.0336, 'grad_norm': 1.939945936203003, 'learning_rate': 3.805e-05, 'epoch': 0.42}\n",
      "{'loss': 1.041, 'grad_norm': 1.9480276107788086, 'learning_rate': 3.7550000000000005e-05, 'epoch': 0.44}\n",
      "{'loss': 1.0651, 'grad_norm': 1.864621639251709, 'learning_rate': 3.705e-05, 'epoch': 0.46}\n",
      "{'loss': 1.0541, 'grad_norm': 1.8939626216888428, 'learning_rate': 3.655e-05, 'epoch': 0.48}\n",
      "{'loss': 1.0615, 'grad_norm': 2.0004489421844482, 'learning_rate': 3.605e-05, 'epoch': 0.5}\n",
      "{'loss': 1.0294, 'grad_norm': 1.874515414237976, 'learning_rate': 3.555e-05, 'epoch': 0.51}\n",
      "{'loss': 1.0296, 'grad_norm': 1.8306375741958618, 'learning_rate': 3.505e-05, 'epoch': 0.53}\n"
     ]
    },
    {
     "data": {
      "application/vnd.jupyter.widget-view+json": {
       "model_id": "bb94a49e85c14f9695b2982420dd98da",
       "version_major": 2,
       "version_minor": 0
      },
      "text/plain": [
       "  0%|          | 0/15 [00:00<?, ?it/s]"
      ]
     },
     "metadata": {},
     "output_type": "display_data"
    },
    {
     "name": "stdout",
     "output_type": "stream",
     "text": [
      "{'eval_loss': 1.0616998672485352, 'eval_runtime': 4.823, 'eval_samples_per_second': 24.673, 'eval_steps_per_second': 3.11, 'epoch': 0.53}\n",
      "{'loss': 1.0243, 'grad_norm': 2.1476993560791016, 'learning_rate': 3.455e-05, 'epoch': 0.55}\n",
      "{'loss': 1.0228, 'grad_norm': 1.944696068763733, 'learning_rate': 3.405e-05, 'epoch': 0.57}\n",
      "{'loss': 1.0758, 'grad_norm': 1.96865713596344, 'learning_rate': 3.355e-05, 'epoch': 0.58}\n",
      "{'loss': 1.0512, 'grad_norm': 1.869978427886963, 'learning_rate': 3.3050000000000004e-05, 'epoch': 0.6}\n",
      "{'loss': 1.0037, 'grad_norm': 2.0094544887542725, 'learning_rate': 3.2550000000000005e-05, 'epoch': 0.62}\n",
      "{'loss': 1.0563, 'grad_norm': 1.7818167209625244, 'learning_rate': 3.205e-05, 'epoch': 0.64}\n",
      "{'loss': 1.073, 'grad_norm': 2.1659719944000244, 'learning_rate': 3.155e-05, 'epoch': 0.65}\n",
      "{'loss': 1.0179, 'grad_norm': 2.0163960456848145, 'learning_rate': 3.105e-05, 'epoch': 0.67}\n",
      "{'loss': 0.9861, 'grad_norm': 1.769527554512024, 'learning_rate': 3.0550000000000004e-05, 'epoch': 0.69}\n",
      "{'loss': 1.0062, 'grad_norm': 1.8959262371063232, 'learning_rate': 3.0050000000000002e-05, 'epoch': 0.71}\n"
     ]
    },
    {
     "data": {
      "application/vnd.jupyter.widget-view+json": {
       "model_id": "75e2fcbde513425bb6be0f20d925d2cc",
       "version_major": 2,
       "version_minor": 0
      },
      "text/plain": [
       "  0%|          | 0/15 [00:00<?, ?it/s]"
      ]
     },
     "metadata": {},
     "output_type": "display_data"
    },
    {
     "name": "stdout",
     "output_type": "stream",
     "text": [
      "{'eval_loss': 1.0508220195770264, 'eval_runtime': 4.8375, 'eval_samples_per_second': 24.599, 'eval_steps_per_second': 3.101, 'epoch': 0.71}\n",
      "{'loss': 1.0136, 'grad_norm': 1.9174178838729858, 'learning_rate': 2.955e-05, 'epoch': 0.73}\n",
      "{'loss': 0.9993, 'grad_norm': 2.0393118858337402, 'learning_rate': 2.9049999999999998e-05, 'epoch': 0.74}\n",
      "{'loss': 1.0716, 'grad_norm': 2.019953489303589, 'learning_rate': 2.855e-05, 'epoch': 0.76}\n",
      "{'loss': 1.0665, 'grad_norm': 1.9788817167282104, 'learning_rate': 2.8050000000000004e-05, 'epoch': 0.78}\n",
      "{'loss': 1.0212, 'grad_norm': 1.8350025415420532, 'learning_rate': 2.7550000000000002e-05, 'epoch': 0.8}\n",
      "{'loss': 1.0589, 'grad_norm': 2.0446388721466064, 'learning_rate': 2.7050000000000004e-05, 'epoch': 0.81}\n",
      "{'loss': 1.0207, 'grad_norm': 1.9882991313934326, 'learning_rate': 2.655e-05, 'epoch': 0.83}\n",
      "{'loss': 1.0517, 'grad_norm': 2.0202701091766357, 'learning_rate': 2.6050000000000003e-05, 'epoch': 0.85}\n",
      "{'loss': 1.0497, 'grad_norm': 1.7956794500350952, 'learning_rate': 2.555e-05, 'epoch': 0.87}\n",
      "{'loss': 1.0759, 'grad_norm': 2.026339530944824, 'learning_rate': 2.5050000000000002e-05, 'epoch': 0.88}\n"
     ]
    },
    {
     "data": {
      "application/vnd.jupyter.widget-view+json": {
       "model_id": "70ec598a86384a92b0b95665776fc214",
       "version_major": 2,
       "version_minor": 0
      },
      "text/plain": [
       "  0%|          | 0/15 [00:00<?, ?it/s]"
      ]
     },
     "metadata": {},
     "output_type": "display_data"
    },
    {
     "name": "stdout",
     "output_type": "stream",
     "text": [
      "{'eval_loss': 1.0334616899490356, 'eval_runtime': 4.8172, 'eval_samples_per_second': 24.703, 'eval_steps_per_second': 3.114, 'epoch': 0.88}\n",
      "{'loss': 1.0087, 'grad_norm': 1.873201847076416, 'learning_rate': 2.455e-05, 'epoch': 0.9}\n",
      "{'loss': 1.0325, 'grad_norm': 2.087005138397217, 'learning_rate': 2.4050000000000002e-05, 'epoch': 0.92}\n",
      "{'loss': 0.9956, 'grad_norm': 1.783280372619629, 'learning_rate': 2.355e-05, 'epoch': 0.94}\n",
      "{'loss': 1.0474, 'grad_norm': 1.9027445316314697, 'learning_rate': 2.305e-05, 'epoch': 0.96}\n",
      "{'loss': 0.9905, 'grad_norm': 1.8281941413879395, 'learning_rate': 2.2550000000000003e-05, 'epoch': 0.97}\n",
      "{'loss': 0.9815, 'grad_norm': 1.9153276681900024, 'learning_rate': 2.205e-05, 'epoch': 0.99}\n",
      "{'loss': 0.8859, 'grad_norm': 1.7678457498550415, 'learning_rate': 2.1550000000000002e-05, 'epoch': 1.01}\n",
      "{'loss': 0.8192, 'grad_norm': 1.9715479612350464, 'learning_rate': 2.105e-05, 'epoch': 1.03}\n",
      "{'loss': 0.7689, 'grad_norm': 1.7704538106918335, 'learning_rate': 2.055e-05, 'epoch': 1.04}\n",
      "{'loss': 0.8016, 'grad_norm': 1.7984750270843506, 'learning_rate': 2.0050000000000003e-05, 'epoch': 1.06}\n"
     ]
    },
    {
     "data": {
      "application/vnd.jupyter.widget-view+json": {
       "model_id": "351d6f97fe424d8db5925fed0b2cc02a",
       "version_major": 2,
       "version_minor": 0
      },
      "text/plain": [
       "  0%|          | 0/15 [00:00<?, ?it/s]"
      ]
     },
     "metadata": {},
     "output_type": "display_data"
    },
    {
     "name": "stdout",
     "output_type": "stream",
     "text": [
      "{'eval_loss': 1.0328484773635864, 'eval_runtime': 4.8154, 'eval_samples_per_second': 24.712, 'eval_steps_per_second': 3.115, 'epoch': 1.06}\n",
      "{'loss': 0.8795, 'grad_norm': 1.8791788816452026, 'learning_rate': 1.955e-05, 'epoch': 1.08}\n",
      "{'loss': 0.865, 'grad_norm': 1.7590374946594238, 'learning_rate': 1.9050000000000002e-05, 'epoch': 1.1}\n",
      "{'loss': 0.8658, 'grad_norm': 1.6887364387512207, 'learning_rate': 1.855e-05, 'epoch': 1.12}\n",
      "{'loss': 0.8054, 'grad_norm': 1.5886561870574951, 'learning_rate': 1.805e-05, 'epoch': 1.13}\n",
      "{'loss': 0.8165, 'grad_norm': 1.811152458190918, 'learning_rate': 1.755e-05, 'epoch': 1.15}\n",
      "{'loss': 0.8332, 'grad_norm': 1.8117011785507202, 'learning_rate': 1.705e-05, 'epoch': 1.17}\n",
      "{'loss': 0.7992, 'grad_norm': 1.8512988090515137, 'learning_rate': 1.6550000000000002e-05, 'epoch': 1.19}\n",
      "{'loss': 0.8039, 'grad_norm': 1.754333734512329, 'learning_rate': 1.605e-05, 'epoch': 1.2}\n",
      "{'loss': 0.8217, 'grad_norm': 1.7926610708236694, 'learning_rate': 1.5550000000000002e-05, 'epoch': 1.22}\n",
      "{'loss': 0.7536, 'grad_norm': 2.085092306137085, 'learning_rate': 1.505e-05, 'epoch': 1.24}\n"
     ]
    },
    {
     "data": {
      "application/vnd.jupyter.widget-view+json": {
       "model_id": "689d2e25833f4a43a036ef3b83dbad8a",
       "version_major": 2,
       "version_minor": 0
      },
      "text/plain": [
       "  0%|          | 0/15 [00:00<?, ?it/s]"
      ]
     },
     "metadata": {},
     "output_type": "display_data"
    },
    {
     "name": "stdout",
     "output_type": "stream",
     "text": [
      "{'eval_loss': 1.0310155153274536, 'eval_runtime': 4.8125, 'eval_samples_per_second': 24.727, 'eval_steps_per_second': 3.117, 'epoch': 1.24}\n",
      "{'loss': 0.7945, 'grad_norm': 1.8435461521148682, 'learning_rate': 1.455e-05, 'epoch': 1.26}\n",
      "{'loss': 0.8715, 'grad_norm': 1.9556423425674438, 'learning_rate': 1.4050000000000003e-05, 'epoch': 1.27}\n",
      "{'loss': 0.8189, 'grad_norm': 1.76655912399292, 'learning_rate': 1.3550000000000002e-05, 'epoch': 1.29}\n",
      "{'loss': 0.8097, 'grad_norm': 1.7744367122650146, 'learning_rate': 1.305e-05, 'epoch': 1.31}\n",
      "{'loss': 0.8549, 'grad_norm': 2.0442564487457275, 'learning_rate': 1.255e-05, 'epoch': 1.33}\n",
      "{'loss': 0.7838, 'grad_norm': 1.7238463163375854, 'learning_rate': 1.205e-05, 'epoch': 1.35}\n",
      "{'loss': 0.8393, 'grad_norm': 1.883691668510437, 'learning_rate': 1.1550000000000001e-05, 'epoch': 1.36}\n",
      "{'loss': 0.8168, 'grad_norm': 1.948301076889038, 'learning_rate': 1.1050000000000001e-05, 'epoch': 1.38}\n",
      "{'loss': 0.8415, 'grad_norm': 1.7809844017028809, 'learning_rate': 1.055e-05, 'epoch': 1.4}\n",
      "{'loss': 0.8156, 'grad_norm': 1.9401628971099854, 'learning_rate': 1.005e-05, 'epoch': 1.42}\n"
     ]
    },
    {
     "data": {
      "application/vnd.jupyter.widget-view+json": {
       "model_id": "ec0b6749f24b47749c452f3643fe28f2",
       "version_major": 2,
       "version_minor": 0
      },
      "text/plain": [
       "  0%|          | 0/15 [00:00<?, ?it/s]"
      ]
     },
     "metadata": {},
     "output_type": "display_data"
    },
    {
     "name": "stdout",
     "output_type": "stream",
     "text": [
      "{'eval_loss': 1.0248416662216187, 'eval_runtime': 4.8223, 'eval_samples_per_second': 24.677, 'eval_steps_per_second': 3.111, 'epoch': 1.42}\n",
      "{'loss': 0.7991, 'grad_norm': 1.8500282764434814, 'learning_rate': 9.55e-06, 'epoch': 1.43}\n",
      "{'loss': 0.7896, 'grad_norm': 1.859580636024475, 'learning_rate': 9.05e-06, 'epoch': 1.45}\n",
      "{'loss': 0.8112, 'grad_norm': 1.7300654649734497, 'learning_rate': 8.550000000000001e-06, 'epoch': 1.47}\n",
      "{'loss': 0.8285, 'grad_norm': 1.7986068725585938, 'learning_rate': 8.050000000000001e-06, 'epoch': 1.49}\n",
      "{'loss': 0.777, 'grad_norm': 1.7774221897125244, 'learning_rate': 7.55e-06, 'epoch': 1.5}\n",
      "{'loss': 0.7905, 'grad_norm': 1.872243046760559, 'learning_rate': 7.049999999999999e-06, 'epoch': 1.52}\n",
      "{'loss': 0.7849, 'grad_norm': 1.9118177890777588, 'learning_rate': 6.550000000000001e-06, 'epoch': 1.54}\n",
      "{'loss': 0.8348, 'grad_norm': 1.8157360553741455, 'learning_rate': 6.0500000000000005e-06, 'epoch': 1.56}\n",
      "{'loss': 0.8138, 'grad_norm': 1.6830424070358276, 'learning_rate': 5.55e-06, 'epoch': 1.58}\n",
      "{'loss': 0.8234, 'grad_norm': 1.836678385734558, 'learning_rate': 5.050000000000001e-06, 'epoch': 1.59}\n"
     ]
    },
    {
     "data": {
      "application/vnd.jupyter.widget-view+json": {
       "model_id": "8689b3c5d17d462a8b3c8efb22e170e1",
       "version_major": 2,
       "version_minor": 0
      },
      "text/plain": [
       "  0%|          | 0/15 [00:00<?, ?it/s]"
      ]
     },
     "metadata": {},
     "output_type": "display_data"
    },
    {
     "name": "stdout",
     "output_type": "stream",
     "text": [
      "{'eval_loss': 1.022844910621643, 'eval_runtime': 4.8164, 'eval_samples_per_second': 24.707, 'eval_steps_per_second': 3.114, 'epoch': 1.59}\n",
      "{'loss': 0.8333, 'grad_norm': 1.7024340629577637, 'learning_rate': 4.5500000000000005e-06, 'epoch': 1.61}\n",
      "{'loss': 0.8066, 'grad_norm': 1.8077661991119385, 'learning_rate': 4.05e-06, 'epoch': 1.63}\n",
      "{'loss': 0.8103, 'grad_norm': 2.0675742626190186, 'learning_rate': 3.55e-06, 'epoch': 1.65}\n",
      "{'loss': 0.7929, 'grad_norm': 1.7160780429840088, 'learning_rate': 3.05e-06, 'epoch': 1.66}\n",
      "{'loss': 0.8618, 'grad_norm': 1.9925400018692017, 'learning_rate': 2.55e-06, 'epoch': 1.68}\n",
      "{'loss': 0.8606, 'grad_norm': 1.822501301765442, 'learning_rate': 2.0500000000000003e-06, 'epoch': 1.7}\n",
      "{'loss': 0.78, 'grad_norm': 1.732309341430664, 'learning_rate': 1.55e-06, 'epoch': 1.72}\n",
      "{'loss': 0.7955, 'grad_norm': 1.7780712842941284, 'learning_rate': 1.0500000000000001e-06, 'epoch': 1.73}\n",
      "{'loss': 0.8346, 'grad_norm': 1.7961950302124023, 'learning_rate': 5.5e-07, 'epoch': 1.75}\n",
      "{'loss': 0.7917, 'grad_norm': 1.7604845762252808, 'learning_rate': 5.0000000000000004e-08, 'epoch': 1.77}\n"
     ]
    },
    {
     "data": {
      "application/vnd.jupyter.widget-view+json": {
       "model_id": "28e9c4373389458baef55fc38d4d350e",
       "version_major": 2,
       "version_minor": 0
      },
      "text/plain": [
       "  0%|          | 0/15 [00:00<?, ?it/s]"
      ]
     },
     "metadata": {},
     "output_type": "display_data"
    },
    {
     "name": "stdout",
     "output_type": "stream",
     "text": [
      "{'eval_loss': 1.0213946104049683, 'eval_runtime': 4.8115, 'eval_samples_per_second': 24.732, 'eval_steps_per_second': 3.118, 'epoch': 1.77}\n",
      "{'train_runtime': 705.8145, 'train_samples_per_second': 5.667, 'train_steps_per_second': 1.417, 'train_loss': 0.9620923929214478, 'epoch': 1.77}\n"
     ]
    }
   ],
   "source": [
    "# Train the model\n",
    "trainer.train()\n",
    "\n",
    "# Save the model\n",
    "trainer.save_model(f\"./{finetune_name}\")"
   ]
  },
  {
   "cell_type": "code",
   "execution_count": null,
   "id": "c4f69e33-827d-41d0-9832-71a79c2ea34d",
   "metadata": {},
   "outputs": [],
   "source": [
    "# trainer.push_to_hub(tags=finetune_tags)"
   ]
  },
  {
   "cell_type": "markdown",
   "id": "25ff4d5c-45ea-439d-8c93-236ad3e36527",
   "metadata": {},
   "source": [
    "### Bonus Exercise: Generate with fine-tuned model\n",
    "\n",
    "🐕 Use the fine-tuned to model generate a response, just like with the base example..\n"
   ]
  },
  {
   "cell_type": "code",
   "execution_count": 12,
   "id": "fd71fa84-7217-40b5-9747-2db4a05eea6c",
   "metadata": {},
   "outputs": [
    {
     "name": "stdout",
     "output_type": "stream",
     "text": [
      "tensor([[    1,  4093,   198, 19161,   253,   421, 30614,   563,  6256,     2,\n",
      "           198,     1,   520,  9531,   198, 19556,    17,  1073,   416,   339,\n",
      "           724,   346,  1834,    47,   339,  5248,   253,  1789,  1743,   284,\n",
      "           339]], device='cuda:0')\n",
      "user\n",
      "Write a haiku about programming\n",
      "assistant\n",
      "Hello! How can I help you today? I'm a language model and I\n"
     ]
    }
   ],
   "source": [
    "# Test the fine-tuned model on the same prompt\n",
    "finetune_name = \"SmolLM2-FT-MyDataset\"\n",
    "# Load the model and tokenizer\n",
    "model = AutoModelForCausalLM.from_pretrained(\n",
    "    pretrained_model_name_or_path=finetune_name\n",
    ").to(device)\n",
    "\n",
    "tokenizer = AutoTokenizer.from_pretrained(pretrained_model_name_or_path=finetune_name)\n",
    "\n",
    "# Let's test the base model before training\n",
    "prompt = \"Write a haiku about programming\"\n",
    "\n",
    "# Format with template\n",
    "messages = [{\"role\": \"user\", \"content\": prompt}]\n",
    "formatted_prompt = tokenizer.apply_chat_template(messages, tokenize=False)\n",
    "\n",
    "# Generate response\n",
    "inputs = tokenizer(formatted_prompt, return_tensors=\"pt\").to(device)\n",
    "\n",
    "# TODO: use the fine-tuned to model generate a response, just like with the base example.\n",
    "outputs = model.generate(**inputs)\n",
    "\n",
    "print(outputs)\n",
    "\n",
    "# Decode and print output\n",
    "generated_text = tokenizer.decode(outputs[0], skip_special_tokens=True)\n",
    "print(generated_text)"
   ]
  },
  {
   "cell_type": "markdown",
   "id": "7f3ad1af-0d56-488a-9ee1-b74c1e372e49",
   "metadata": {},
   "source": [
    "\n",
    "💐 You're done!\n",
    "\n",
    "This notebook provided a step-by-step guide to fine-tuning the HuggingFaceTB/SmolLM2-135M model using the SFTTrainer. By following these steps, you can adapt the model to perform specific tasks more effectively. If you want to carry on working on this course, here are steps you could try out:\n",
    "\n",
    "- Try this notebook on a harder difficulty\n",
    "- Review a colleagues PR\n",
    "- Improve the course material via an Issue or PR."
   ]
  },
  {
   "cell_type": "code",
   "execution_count": null,
   "id": "d1ecb080-2105-428b-a50d-09d63a04de05",
   "metadata": {},
   "outputs": [],
   "source": []
  },
  {
   "cell_type": "code",
   "execution_count": null,
   "id": "e48750f6-8995-4b27-bd88-39a4cc1ecd0a",
   "metadata": {},
   "outputs": [],
   "source": []
  }
 ],
 "metadata": {
  "kernelspec": {
   "display_name": "Python 3 (ipykernel)",
   "language": "python",
   "name": "python3"
  },
  "language_info": {
   "codemirror_mode": {
    "name": "ipython",
    "version": 3
   },
   "file_extension": ".py",
   "mimetype": "text/x-python",
   "name": "python",
   "nbconvert_exporter": "python",
   "pygments_lexer": "ipython3",
   "version": "3.10.16"
  }
 },
 "nbformat": 4,
 "nbformat_minor": 5
}
