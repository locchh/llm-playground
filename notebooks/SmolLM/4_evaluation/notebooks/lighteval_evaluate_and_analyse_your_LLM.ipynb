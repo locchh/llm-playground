{
 "cells": [
  {
   "cell_type": "markdown",
   "id": "571e3dd6-c741-454d-ae44-7ece1b8a1300",
   "metadata": {},
   "source": [
    "### lighteval is your AI evaluation library\n",
    "\n",
    "This notebook explores how you can use lighteval to evaluate and compare LLMs.\n",
    "\n",
    "`lighteval` has been around a while and it's a great tool for getting eval score on major benchmarks. It's just been refactored to support being used like a library in Python, which makes it great for comparing models across benchmarks.\n",
    "\n",
    "So let's dig in to some eval scores.\n",
    "\n",
    "### Exercise: Evaluate Your Own Model\n",
    "\n",
    "Now that you've seen how to evaluate models on specific domains, try evaluating a model on a domain that interests you.\n",
    "\n",
    "Difficulty Levels\n",
    "\n",
    "🐢 Use the existing medical domain tasks but evaluate a different model from the Hugging Face hub\n",
    "\n",
    "🐕 Create a new domain evaluation by selecting different MMLU tasks (e.g., computer science, mathematics, physics)\n",
    "\n",
    "🦁 Create a custom evaluation task using LightEval's task framework and evaluate models on your specific domain\n",
    "\n"
   ]
  },
  {
   "cell_type": "markdown",
   "id": "77774390-7608-4124-8659-7a845ed93a5f",
   "metadata": {},
   "source": [
    "```python\n",
    "# !pip install -qqq -U \"torch<2.5\" \"torchvision<2.5\" \"torchaudio<2.5\" --index-url https://download.pytorch.org/whl/cu121\n",
    "# !pip list | grep torch\n",
    "# Install package directly from a GitHub repository instead of PyPI (Not affect to installed dependencies)\n",
    "!pip install -qqq git+https://github.com/huggingface/lighteval.git tiktoken\n",
    "!pip install lighteval[math]\n",
    "```"
   ]
  },
  {
   "cell_type": "code",
   "execution_count": 1,
   "id": "5479719b-6851-45c4-89a8-f561a3529440",
   "metadata": {},
   "outputs": [
    {
     "name": "stdout",
     "output_type": "stream",
     "text": [
      "Name: lighteval\n",
      "Version: 0.6.0.dev0\n",
      "Summary: A lightweight and configurable evaluation package\n",
      "Home-page: https://github.com/huggingface/lighteval\n",
      "Author: \n",
      "Author-email: Clémentine Fourrier <clementine@huggingface.com>, Nathan Habib <nathan.habib@huggingface.com>, Thomas Wolf <thom@huggingface.com>\n",
      "License: MIT License\n",
      "Location: /home/loc/miniconda3/envs/py3x/lib/python3.10/site-packages\n",
      "Requires: accelerate, aenum, colorlog, datasets, fsspec, GitPython, huggingface_hub, nltk, numpy, protobuf, pycountry, pytablewriter, rich, rouge_score, sacrebleu, scikit-learn, sentencepiece, termcolor, torch, transformers, typer\n",
      "Required-by: \n"
     ]
    }
   ],
   "source": [
    "#!pip install lighteval\n",
    "!pip show lighteval"
   ]
  },
  {
   "cell_type": "code",
   "execution_count": 2,
   "id": "c62d03b7-0838-47d2-b8eb-aabe31942f74",
   "metadata": {},
   "outputs": [
    {
     "name": "stdout",
     "output_type": "stream",
     "text": [
      "True\n",
      "Tesla P40\n"
     ]
    }
   ],
   "source": [
    "import os\n",
    "os.environ[\"CUDA_VISIBLE_DEVICES\"] = \"0\"\n",
    "\n",
    "import torch\n",
    "print(torch.cuda.is_available())\n",
    "print(torch.cuda.get_device_name())"
   ]
  },
  {
   "cell_type": "markdown",
   "id": "79961817-b534-4ad5-8170-6cd06c6940dd",
   "metadata": {},
   "source": [
    "### Setup lighteval evaluation\n",
    "\n",
    "We need to setup the evaluation environment and pipeline. Much of this we will disable because we're keeping things in the notebook, but we could also use `push_to_hub` or `push_to_tensorboard`.\n",
    "\n",
    "**`push_to_hub`**\n",
    "\n",
    "This is useful if we're evaluating a model and want to persist its evaluation with weights and configuration on the Hugging Face hub.\n",
    "\n",
    "**`push_to_tensorboard`**\n",
    "\n",
    "This would be useful if we were building an evaluation tool or script, where we wanted to view results within tensorboard."
   ]
  },
  {
   "cell_type": "code",
   "execution_count": 6,
   "id": "ac44f15a-9479-4060-94e2-dccd1ba71d07",
   "metadata": {},
   "outputs": [],
   "source": [
    "import lighteval\n",
    "from datetime import timedelta\n",
    "from transformers import AutoModelForCausalLM\n",
    "\n",
    "from lighteval.logging.evaluation_tracker import EvaluationTracker\n",
    "# from lighteval.logging.hierarchical_logger import hlog_warn, htrack\n",
    "#from lighteval.models.model_config import create_model_config\n",
    "from lighteval.pipeline import EnvConfig, ParallelismManager, Pipeline, PipelineParameters\n",
    "\n",
    "\n",
    "with open(\"/home/loc/Documents/keys/HF_key.txt\") as f:\n",
    "    TOKEN = f.read().strip()\n"
   ]
  },
  {
   "cell_type": "code",
   "execution_count": 8,
   "id": "6cf94174-17e8-40a8-b0a4-c4df3794fd61",
   "metadata": {},
   "outputs": [],
   "source": [
    "\n",
    "env_config = EnvConfig(token=TOKEN, cache_dir=\"~/tmp\")\n",
    "\n",
    "evaluation_tracker = EvaluationTracker(\n",
    "    output_dir=\"~/tmp\",\n",
    "    save_details=False,\n",
    "    push_to_hub=False,\n",
    "    push_to_tensorboard=False,\n",
    "    public=False,\n",
    "    hub_results_org=False,\n",
    ")\n",
    "\n",
    "pipeline_params = PipelineParameters(\n",
    "    launcher_type=ParallelismManager.ACCELERATE,\n",
    "    env_config=env_config,\n",
    "    job_id=1,\n",
    "    override_batch_size=1,\n",
    "    num_fewshot_seeds=0,\n",
    "    max_samples=10,\n",
    "    use_chat_template=False,\n",
    ")"
   ]
  },
  {
   "cell_type": "markdown",
   "id": "00c0e0fd-006a-4617-800b-22ba4ed72e73",
   "metadata": {},
   "source": [
    "### Compares models with `lighteval`\n",
    "\n",
    "We are going to compare two small LLMs on a domain. We will use `Qwen2.5-0.5B` and `SmolLM2-360M-Instruct` and we will evaluate them on a medical domain.\n",
    "\n",
    "We can create a domain evaluation from a subset of MMLU evaluations, by defining the evaluation tasks. In lighteval, tasks are described as strings.\n",
    "\n",
    "```\n",
    "{suite}|{task}:{subtask}|{num_few_shot}|{0 or 1 to reduce num_few_shot if prompt is too long}\n",
    "```\n",
    "\n",
    "Therefore, we will pass our list of medicine related tasks like this:\n",
    "\n",
    "```\n",
    "leaderboard|mmlu:anatomy|5|0,leaderboard|mmlu:professional_medicine|5|0,leaderboard|mmlu:high_school_biology|5|0,leaderboard|mmlu:high_school_chemistry|5|0\n",
    "```\n",
    "\n",
    "Which can be translated to :\n",
    "\n",
    "| Suite       | Task                             | Num Fewshot Example | Limit Fewshots |\n",
    "|------------|---------------------------------|---------------------|---------------|\n",
    "| leaderboard | mmlu:anatomy                   | 5                   | False         |\n",
    "| leaderboard | mmlu:professional_medicine     | 5                   | False         |\n",
    "| leaderboard | mmlu:high_school_biology       | 5                   | False         |\n",
    "| leaderboard | mmlu:high_school_chemistry     | 5                   |               |\n",
    "\n",
    "\n",
    "For a full list of lighteval supported tasks. Checkout this page in [the documentation](https://github.com/huggingface/lighteval/wiki/Available-Tasks)."
   ]
  },
  {
   "cell_type": "code",
   "execution_count": 9,
   "id": "eb741f38-1f41-4f26-a256-f0987df999aa",
   "metadata": {},
   "outputs": [],
   "source": [
    "domain_tasks = \"leaderboard|mmlu:anatomy|5|0,leaderboard|mmlu:professional_medicine|5|0,leaderboard|mmlu:high_school_biology|5|0,leaderboard|mmlu:high_school_chemistry|5|0\""
   ]
  },
  {
   "cell_type": "markdown",
   "id": "b30b434d-62cc-43a3-8d0b-10c1c365f111",
   "metadata": {},
   "source": [
    "### Evaluate Qwen2.5 0.5B"
   ]
  },
  {
   "cell_type": "code",
   "execution_count": 10,
   "id": "e9b61a2e-dfdc-4f1d-a657-21e045653dcb",
   "metadata": {},
   "outputs": [
    {
     "data": {
      "application/vnd.jupyter.widget-view+json": {
       "model_id": "e50f464da994424b849646c64325b828",
       "version_major": 2,
       "version_minor": 0
      },
      "text/plain": [
       "config.json:   0%|          | 0.00/681 [00:00<?, ?B/s]"
      ]
     },
     "metadata": {},
     "output_type": "display_data"
    },
    {
     "data": {
      "application/vnd.jupyter.widget-view+json": {
       "model_id": "240ab4c9d0784b6eb1fb7d23e21742a3",
       "version_major": 2,
       "version_minor": 0
      },
      "text/plain": [
       "model.safetensors:   0%|          | 0.00/988M [00:00<?, ?B/s]"
      ]
     },
     "metadata": {},
     "output_type": "display_data"
    },
    {
     "data": {
      "application/vnd.jupyter.widget-view+json": {
       "model_id": "0760da990479495fb1d2be5ecbf40613",
       "version_major": 2,
       "version_minor": 0
      },
      "text/plain": [
       "generation_config.json:   0%|          | 0.00/138 [00:00<?, ?B/s]"
      ]
     },
     "metadata": {},
     "output_type": "display_data"
    },
    {
     "name": "stderr",
     "output_type": "stream",
     "text": [
      "--max_samples WAS SET. THESE NUMBERS ARE ONLY PARTIAL AND SHOULD NOT BE USED FOR COMPARISON UNLESS YOU KNOW WHAT YOU ARE DOING.\n"
     ]
    },
    {
     "data": {
      "application/vnd.jupyter.widget-view+json": {
       "model_id": "214cd3054600488fbc6189a858ad0102",
       "version_major": 2,
       "version_minor": 0
      },
      "text/plain": [
       "tokenizer_config.json:   0%|          | 0.00/7.23k [00:00<?, ?B/s]"
      ]
     },
     "metadata": {},
     "output_type": "display_data"
    },
    {
     "name": "stderr",
     "output_type": "stream",
     "text": [
      "Problem when loading the tokenizer in the cache - discarding the provided cache path value.\n"
     ]
    },
    {
     "data": {
      "application/vnd.jupyter.widget-view+json": {
       "model_id": "c2834967023146c586d299cc3cc84500",
       "version_major": 2,
       "version_minor": 0
      },
      "text/plain": [
       "tokenizer_config.json:   0%|          | 0.00/7.23k [00:00<?, ?B/s]"
      ]
     },
     "metadata": {},
     "output_type": "display_data"
    },
    {
     "data": {
      "application/vnd.jupyter.widget-view+json": {
       "model_id": "1b0a565f769340308757994e3580d34d",
       "version_major": 2,
       "version_minor": 0
      },
      "text/plain": [
       "vocab.json:   0%|          | 0.00/2.78M [00:00<?, ?B/s]"
      ]
     },
     "metadata": {},
     "output_type": "display_data"
    },
    {
     "data": {
      "application/vnd.jupyter.widget-view+json": {
       "model_id": "3c575c1df71c456d80e466a8cada25d3",
       "version_major": 2,
       "version_minor": 0
      },
      "text/plain": [
       "merges.txt:   0%|          | 0.00/1.67M [00:00<?, ?B/s]"
      ]
     },
     "metadata": {},
     "output_type": "display_data"
    },
    {
     "data": {
      "application/vnd.jupyter.widget-view+json": {
       "model_id": "d4fc42547f4043c3a014d094311d0f01",
       "version_major": 2,
       "version_minor": 0
      },
      "text/plain": [
       "tokenizer.json:   0%|          | 0.00/7.03M [00:00<?, ?B/s]"
      ]
     },
     "metadata": {},
     "output_type": "display_data"
    },
    {
     "name": "stderr",
     "output_type": "stream",
     "text": [
      "If you want to use extended_tasks, make sure you installed their dependencies using `pip install -e .[extended_tasks]`.\n"
     ]
    },
    {
     "data": {
      "application/vnd.jupyter.widget-view+json": {
       "model_id": "6b1647f6c8d14ba7b87bce2334bbcad2",
       "version_major": 2,
       "version_minor": 0
      },
      "text/plain": [
       "README.md:   0%|          | 0.00/39.7k [00:00<?, ?B/s]"
      ]
     },
     "metadata": {},
     "output_type": "display_data"
    },
    {
     "data": {
      "application/vnd.jupyter.widget-view+json": {
       "model_id": "28ec89a8c4334113ba6940a99c761e09",
       "version_major": 2,
       "version_minor": 0
      },
      "text/plain": [
       "mmlu.py:   0%|          | 0.00/5.76k [00:00<?, ?B/s]"
      ]
     },
     "metadata": {},
     "output_type": "display_data"
    },
    {
     "data": {
      "application/vnd.jupyter.widget-view+json": {
       "model_id": "be1253d963dc45eaba50fe340f85f2b9",
       "version_major": 2,
       "version_minor": 0
      },
      "text/plain": [
       "0000.parquet:   0%|          | 0.00/47.5M [00:00<?, ?B/s]"
      ]
     },
     "metadata": {},
     "output_type": "display_data"
    },
    {
     "data": {
      "application/vnd.jupyter.widget-view+json": {
       "model_id": "d96e198a0cd54d2b8de08c8b4f6dfddb",
       "version_major": 2,
       "version_minor": 0
      },
      "text/plain": [
       "0000.parquet:   0%|          | 0.00/20.1k [00:00<?, ?B/s]"
      ]
     },
     "metadata": {},
     "output_type": "display_data"
    },
    {
     "data": {
      "application/vnd.jupyter.widget-view+json": {
       "model_id": "f4a33712eba645fb84750db7d817c7e6",
       "version_major": 2,
       "version_minor": 0
      },
      "text/plain": [
       "0000.parquet:   0%|          | 0.00/5.28k [00:00<?, ?B/s]"
      ]
     },
     "metadata": {},
     "output_type": "display_data"
    },
    {
     "data": {
      "application/vnd.jupyter.widget-view+json": {
       "model_id": "f8220f909f1d41f395b7883f5e56884d",
       "version_major": 2,
       "version_minor": 0
      },
      "text/plain": [
       "0000.parquet:   0%|          | 0.00/3.50k [00:00<?, ?B/s]"
      ]
     },
     "metadata": {},
     "output_type": "display_data"
    },
    {
     "data": {
      "application/vnd.jupyter.widget-view+json": {
       "model_id": "581d8c66caf94dd8be345306cd5ebbe3",
       "version_major": 2,
       "version_minor": 0
      },
      "text/plain": [
       "Generating auxiliary_train split:   0%|          | 0/99842 [00:00<?, ? examples/s]"
      ]
     },
     "metadata": {},
     "output_type": "display_data"
    },
    {
     "data": {
      "application/vnd.jupyter.widget-view+json": {
       "model_id": "db481d325f774bfea78b1fb4a4622378",
       "version_major": 2,
       "version_minor": 0
      },
      "text/plain": [
       "Generating test split:   0%|          | 0/135 [00:00<?, ? examples/s]"
      ]
     },
     "metadata": {},
     "output_type": "display_data"
    },
    {
     "data": {
      "application/vnd.jupyter.widget-view+json": {
       "model_id": "02cc0fac176545aa95b888756b606bf5",
       "version_major": 2,
       "version_minor": 0
      },
      "text/plain": [
       "Generating validation split:   0%|          | 0/14 [00:00<?, ? examples/s]"
      ]
     },
     "metadata": {},
     "output_type": "display_data"
    },
    {
     "data": {
      "application/vnd.jupyter.widget-view+json": {
       "model_id": "be368d65e799497c81b4e927ad120ed9",
       "version_major": 2,
       "version_minor": 0
      },
      "text/plain": [
       "Generating dev split:   0%|          | 0/5 [00:00<?, ? examples/s]"
      ]
     },
     "metadata": {},
     "output_type": "display_data"
    },
    {
     "data": {
      "application/vnd.jupyter.widget-view+json": {
       "model_id": "867be15e93474f19a47dade7316808f4",
       "version_major": 2,
       "version_minor": 0
      },
      "text/plain": [
       "0000.parquet:   0%|          | 0.00/62.7k [00:00<?, ?B/s]"
      ]
     },
     "metadata": {},
     "output_type": "display_data"
    },
    {
     "data": {
      "application/vnd.jupyter.widget-view+json": {
       "model_id": "32960dc0d9fd48e9bab747cf24291826",
       "version_major": 2,
       "version_minor": 0
      },
      "text/plain": [
       "0000.parquet:   0%|          | 0.00/10.6k [00:00<?, ?B/s]"
      ]
     },
     "metadata": {},
     "output_type": "display_data"
    },
    {
     "data": {
      "application/vnd.jupyter.widget-view+json": {
       "model_id": "170ad43c221440f7a7bb17bade42321d",
       "version_major": 2,
       "version_minor": 0
      },
      "text/plain": [
       "0000.parquet:   0%|          | 0.00/4.94k [00:00<?, ?B/s]"
      ]
     },
     "metadata": {},
     "output_type": "display_data"
    },
    {
     "data": {
      "application/vnd.jupyter.widget-view+json": {
       "model_id": "084a1f0d38414ffc823e08ab3f14af51",
       "version_major": 2,
       "version_minor": 0
      },
      "text/plain": [
       "Generating auxiliary_train split:   0%|          | 0/99842 [00:00<?, ? examples/s]"
      ]
     },
     "metadata": {},
     "output_type": "display_data"
    },
    {
     "data": {
      "application/vnd.jupyter.widget-view+json": {
       "model_id": "1b97c339fd2844bda264cd94d3cc43ab",
       "version_major": 2,
       "version_minor": 0
      },
      "text/plain": [
       "Generating test split:   0%|          | 0/310 [00:00<?, ? examples/s]"
      ]
     },
     "metadata": {},
     "output_type": "display_data"
    },
    {
     "data": {
      "application/vnd.jupyter.widget-view+json": {
       "model_id": "b73ff57d6c444073884655a3dfd3beb5",
       "version_major": 2,
       "version_minor": 0
      },
      "text/plain": [
       "Generating validation split:   0%|          | 0/32 [00:00<?, ? examples/s]"
      ]
     },
     "metadata": {},
     "output_type": "display_data"
    },
    {
     "data": {
      "application/vnd.jupyter.widget-view+json": {
       "model_id": "a23d2fac01004185937bd3906ead8b55",
       "version_major": 2,
       "version_minor": 0
      },
      "text/plain": [
       "Generating dev split:   0%|          | 0/5 [00:00<?, ? examples/s]"
      ]
     },
     "metadata": {},
     "output_type": "display_data"
    },
    {
     "data": {
      "application/vnd.jupyter.widget-view+json": {
       "model_id": "3c372d1317c343daa0d9615cc187be91",
       "version_major": 2,
       "version_minor": 0
      },
      "text/plain": [
       "0000.parquet:   0%|          | 0.00/33.3k [00:00<?, ?B/s]"
      ]
     },
     "metadata": {},
     "output_type": "display_data"
    },
    {
     "data": {
      "application/vnd.jupyter.widget-view+json": {
       "model_id": "516a6e5445774271aa63c27159d68a71",
       "version_major": 2,
       "version_minor": 0
      },
      "text/plain": [
       "0000.parquet:   0%|          | 0.00/8.31k [00:00<?, ?B/s]"
      ]
     },
     "metadata": {},
     "output_type": "display_data"
    },
    {
     "data": {
      "application/vnd.jupyter.widget-view+json": {
       "model_id": "7a592fa583624cb98da215d6516442db",
       "version_major": 2,
       "version_minor": 0
      },
      "text/plain": [
       "0000.parquet:   0%|          | 0.00/4.16k [00:00<?, ?B/s]"
      ]
     },
     "metadata": {},
     "output_type": "display_data"
    },
    {
     "data": {
      "application/vnd.jupyter.widget-view+json": {
       "model_id": "056a270a19e64cbb862711af16d31e1b",
       "version_major": 2,
       "version_minor": 0
      },
      "text/plain": [
       "Generating auxiliary_train split:   0%|          | 0/99842 [00:00<?, ? examples/s]"
      ]
     },
     "metadata": {},
     "output_type": "display_data"
    },
    {
     "data": {
      "application/vnd.jupyter.widget-view+json": {
       "model_id": "208953b259ac478fbc40bbcd4e6a5022",
       "version_major": 2,
       "version_minor": 0
      },
      "text/plain": [
       "Generating test split:   0%|          | 0/203 [00:00<?, ? examples/s]"
      ]
     },
     "metadata": {},
     "output_type": "display_data"
    },
    {
     "data": {
      "application/vnd.jupyter.widget-view+json": {
       "model_id": "c06fc08da34942d1ae13f97d731199f8",
       "version_major": 2,
       "version_minor": 0
      },
      "text/plain": [
       "Generating validation split:   0%|          | 0/22 [00:00<?, ? examples/s]"
      ]
     },
     "metadata": {},
     "output_type": "display_data"
    },
    {
     "data": {
      "application/vnd.jupyter.widget-view+json": {
       "model_id": "9f4dee456063439eb0fe0b7b92e9446b",
       "version_major": 2,
       "version_minor": 0
      },
      "text/plain": [
       "Generating dev split:   0%|          | 0/5 [00:00<?, ? examples/s]"
      ]
     },
     "metadata": {},
     "output_type": "display_data"
    },
    {
     "data": {
      "application/vnd.jupyter.widget-view+json": {
       "model_id": "ae248e28b9a344209251bcad1a1dd778",
       "version_major": 2,
       "version_minor": 0
      },
      "text/plain": [
       "0000.parquet:   0%|          | 0.00/125k [00:00<?, ?B/s]"
      ]
     },
     "metadata": {},
     "output_type": "display_data"
    },
    {
     "data": {
      "application/vnd.jupyter.widget-view+json": {
       "model_id": "505ce990a8954df1832727013ed873cf",
       "version_major": 2,
       "version_minor": 0
      },
      "text/plain": [
       "0000.parquet:   0%|          | 0.00/19.9k [00:00<?, ?B/s]"
      ]
     },
     "metadata": {},
     "output_type": "display_data"
    },
    {
     "data": {
      "application/vnd.jupyter.widget-view+json": {
       "model_id": "016e43a861fb453e83895ae94d015a8d",
       "version_major": 2,
       "version_minor": 0
      },
      "text/plain": [
       "0000.parquet:   0%|          | 0.00/8.45k [00:00<?, ?B/s]"
      ]
     },
     "metadata": {},
     "output_type": "display_data"
    },
    {
     "data": {
      "application/vnd.jupyter.widget-view+json": {
       "model_id": "98943a009dfd4b299c876c8e715d42b5",
       "version_major": 2,
       "version_minor": 0
      },
      "text/plain": [
       "Generating auxiliary_train split:   0%|          | 0/99842 [00:00<?, ? examples/s]"
      ]
     },
     "metadata": {},
     "output_type": "display_data"
    },
    {
     "data": {
      "application/vnd.jupyter.widget-view+json": {
       "model_id": "2a88472fe1444aaa911e1f85087322a3",
       "version_major": 2,
       "version_minor": 0
      },
      "text/plain": [
       "Generating test split:   0%|          | 0/272 [00:00<?, ? examples/s]"
      ]
     },
     "metadata": {},
     "output_type": "display_data"
    },
    {
     "data": {
      "application/vnd.jupyter.widget-view+json": {
       "model_id": "b11d7b6c9d9441ebad8822f16a99e313",
       "version_major": 2,
       "version_minor": 0
      },
      "text/plain": [
       "Generating validation split:   0%|          | 0/31 [00:00<?, ? examples/s]"
      ]
     },
     "metadata": {},
     "output_type": "display_data"
    },
    {
     "data": {
      "application/vnd.jupyter.widget-view+json": {
       "model_id": "eed355d6f87344d4b5e0c543850e1770",
       "version_major": 2,
       "version_minor": 0
      },
      "text/plain": [
       "Generating dev split:   0%|          | 0/5 [00:00<?, ? examples/s]"
      ]
     },
     "metadata": {},
     "output_type": "display_data"
    },
    {
     "name": "stderr",
     "output_type": "stream",
     "text": [
      "Token indices sequence length is longer than the specified maximum sequence length for this model (334 > 20). Running this sequence through the model will result in indexing errors\n",
      "0it [00:00, ?it/s]\n",
      "\u001b[A%|                                                                       | 0/40 [00:00<?, ?it/s]\n",
      "\u001b[A%|█▌                                                             | 1/40 [00:00<00:08,  4.86it/s]\n",
      "\u001b[A%|████████████▌                                                  | 8/40 [00:00<00:01, 30.25it/s]\n",
      "\u001b[A%|███████████████████████▎                                      | 15/40 [00:00<00:00, 43.63it/s]\n",
      "\u001b[A%|██████████████████████████████████                            | 22/40 [00:00<00:00, 51.65it/s]\n",
      "\u001b[A%|████████████████████████████████████████████▉                 | 29/40 [00:00<00:00, 56.93it/s]\n",
      "100%|██████████████████████████████████████████████████████████████| 40/40 [00:00<00:00, 50.50it/s]\n",
      "1it [00:00,  1.26it/s]\n",
      "\u001b[A%|                                                                       | 0/40 [00:00<?, ?it/s]\n",
      "\u001b[A%|███████████                                                    | 7/40 [00:00<00:00, 68.85it/s]\n",
      "\u001b[A%|█████████████████████▋                                        | 14/40 [00:00<00:00, 68.74it/s]\n",
      "\u001b[A%|████████████████████████████████▌                             | 21/40 [00:00<00:00, 68.59it/s]\n",
      "\u001b[A%|███████████████████████████████████████████▍                  | 28/40 [00:00<00:00, 68.55it/s]\n",
      "100%|██████████████████████████████████████████████████████████████| 40/40 [00:00<00:00, 58.82it/s]\n",
      "2it [00:01,  1.37it/s]\n",
      "\u001b[A%|                                                                       | 0/40 [00:00<?, ?it/s]\n",
      "\u001b[A%|███████████                                                    | 7/40 [00:00<00:00, 68.59it/s]\n",
      "\u001b[A%|█████████████████████▋                                        | 14/40 [00:00<00:00, 68.25it/s]\n",
      "\u001b[A%|████████████████████████████████▌                             | 21/40 [00:00<00:00, 68.12it/s]\n",
      "\u001b[A%|███████████████████████████████████████████▍                  | 28/40 [00:00<00:00, 51.85it/s]\n",
      "100%|██████████████████████████████████████████████████████████████| 40/40 [00:00<00:00, 59.79it/s]\n",
      "3it [00:02,  1.42it/s]\n",
      "\u001b[A%|                                                                       | 0/40 [00:00<?, ?it/s]\n",
      "\u001b[A%|███████████                                                    | 7/40 [00:00<00:00, 68.51it/s]\n",
      "\u001b[A%|█████████████████████▋                                        | 14/40 [00:00<00:00, 68.46it/s]\n",
      "\u001b[A%|████████████████████████████████▌                             | 21/40 [00:00<00:00, 68.56it/s]\n",
      "\u001b[A%|███████████████████████████████████████████▍                  | 28/40 [00:00<00:00, 68.49it/s]\n",
      "100%|██████████████████████████████████████████████████████████████| 40/40 [00:00<00:00, 68.35it/s]\n",
      "4it [00:02,  1.46it/s]\n"
     ]
    }
   ],
   "source": [
    "qwen_model = AutoModelForCausalLM.from_pretrained(\"Qwen/Qwen2.5-0.5B\")\n",
    "\n",
    "pipeline = Pipeline(\n",
    "    tasks=domain_tasks,\n",
    "    pipeline_parameters=pipeline_params,\n",
    "    evaluation_tracker=evaluation_tracker,\n",
    "    model=qwen_model\n",
    ")\n",
    "\n",
    "pipeline.evaluate()\n",
    "\n",
    "qwen_results = pipeline.get_results()\n",
    "     "
   ]
  },
  {
   "cell_type": "code",
   "execution_count": 12,
   "id": "6554d15b-bd2e-43e7-ac70-1ba528ec958d",
   "metadata": {},
   "outputs": [
    {
     "name": "stdout",
     "output_type": "stream",
     "text": [
      "|                  Task                  |Version|Metric|Value|   |Stderr|\n",
      "|----------------------------------------|------:|------|----:|---|-----:|\n",
      "|all                                     |       |acc   |  0.3|±  |0.1408|\n",
      "|leaderboard:mmlu:_average:5             |       |acc   |  0.3|±  |0.1408|\n",
      "|leaderboard:mmlu:anatomy:5              |      0|acc   |  0.5|±  |0.1667|\n",
      "|leaderboard:mmlu:high_school_biology:5  |      0|acc   |  0.1|±  |0.1000|\n",
      "|leaderboard:mmlu:high_school_chemistry:5|      0|acc   |  0.2|±  |0.1333|\n",
      "|leaderboard:mmlu:professional_medicine:5|      0|acc   |  0.4|±  |0.1633|\n",
      "\n"
     ]
    }
   ],
   "source": [
    "pipeline.show_results()"
   ]
  },
  {
   "cell_type": "markdown",
   "id": "ffe9d9ec-a20c-46ce-94cb-8ebd9a2b56e2",
   "metadata": {},
   "source": [
    "### Evaluate SmolLM 360M"
   ]
  },
  {
   "cell_type": "code",
   "execution_count": 13,
   "id": "b4dac0c4-a020-480b-a292-2ebed297db7d",
   "metadata": {},
   "outputs": [
    {
     "name": "stderr",
     "output_type": "stream",
     "text": [
      "--max_samples WAS SET. THESE NUMBERS ARE ONLY PARTIAL AND SHOULD NOT BE USED FOR COMPARISON UNLESS YOU KNOW WHAT YOU ARE DOING.\n"
     ]
    },
    {
     "data": {
      "application/vnd.jupyter.widget-view+json": {
       "model_id": "e47de7d7fc264e2393e0aa46072c9212",
       "version_major": 2,
       "version_minor": 0
      },
      "text/plain": [
       "tokenizer_config.json:   0%|          | 0.00/3.76k [00:00<?, ?B/s]"
      ]
     },
     "metadata": {},
     "output_type": "display_data"
    },
    {
     "name": "stderr",
     "output_type": "stream",
     "text": [
      "Problem when loading the tokenizer in the cache - discarding the provided cache path value.\n",
      "If you want to use extended_tasks, make sure you installed their dependencies using `pip install -e .[extended_tasks]`.\n",
      "Token indices sequence length is longer than the specified maximum sequence length for this model (341 > 20). Running this sequence through the model will result in indexing errors\n",
      "0it [00:00, ?it/s]\n",
      "\u001b[A%|                                                                       | 0/40 [00:00<?, ?it/s]\n",
      "\u001b[A%|███████▉                                                       | 5/40 [00:00<00:00, 40.93it/s]\n",
      "\u001b[A%|███████████████▌                                              | 10/40 [00:00<00:00, 40.30it/s]\n",
      "\u001b[A%|██████████████████████████▎                                   | 17/40 [00:00<00:00, 46.09it/s]\n",
      "\u001b[A%|██████████████████████████████████                            | 22/40 [00:00<00:00, 42.19it/s]\n",
      "\u001b[A%|████████████████████████████████████████████▉                 | 29/40 [00:00<00:00, 50.42it/s]\n",
      "100%|██████████████████████████████████████████████████████████████| 40/40 [00:00<00:00, 45.37it/s]\n",
      "1it [00:00,  1.13it/s]\n",
      "\u001b[A%|                                                                       | 0/40 [00:00<?, ?it/s]\n",
      "\u001b[A%|█████████▍                                                     | 6/40 [00:00<00:00, 58.61it/s]\n",
      "\u001b[A%|█████████████████████▋                                        | 14/40 [00:00<00:00, 66.00it/s]\n",
      "\u001b[A%|██████████████████████████████████                            | 22/40 [00:00<00:00, 68.37it/s]\n",
      "\u001b[A%|████████████████████████████████████████████▉                 | 29/40 [00:00<00:00, 51.89it/s]\n",
      "100%|██████████████████████████████████████████████████████████████| 40/40 [00:00<00:00, 59.36it/s]\n",
      "2it [00:01,  1.31it/s]\n",
      "\u001b[A%|                                                                       | 0/40 [00:00<?, ?it/s]\n",
      "\u001b[A%|████████████▌                                                  | 8/40 [00:00<00:00, 70.92it/s]\n",
      "\u001b[A%|████████████████████████▊                                     | 16/40 [00:00<00:00, 70.36it/s]\n",
      "\u001b[A%|█████████████████████████████████████▏                        | 24/40 [00:00<00:00, 70.21it/s]\n",
      "\u001b[A%|█████████████████████████████████████████████████▌            | 32/40 [00:00<00:00, 69.95it/s]\n",
      "100%|██████████████████████████████████████████████████████████████| 40/40 [00:00<00:00, 69.79it/s]\n",
      "3it [00:02,  1.48it/s]\n",
      "\u001b[A%|                                                                       | 0/40 [00:00<?, ?it/s]\n",
      "\u001b[A%|████████████▌                                                  | 8/40 [00:00<00:00, 70.74it/s]\n",
      "\u001b[A%|████████████████████████▊                                     | 16/40 [00:00<00:00, 70.45it/s]\n",
      "\u001b[A%|█████████████████████████████████████▏                        | 24/40 [00:00<00:00, 65.90it/s]\n",
      "\u001b[A%|████████████████████████████████████████████████              | 31/40 [00:00<00:00, 58.04it/s]\n",
      "100%|██████████████████████████████████████████████████████████████| 40/40 [00:00<00:00, 63.18it/s]\n",
      "4it [00:02,  1.44it/s]\n"
     ]
    }
   ],
   "source": [
    "\n",
    "smol_model = AutoModelForCausalLM.from_pretrained(\"HuggingFaceTB/SmolLM2-360M-Instruct\")\n",
    "\n",
    "pipeline = Pipeline(\n",
    "    tasks=domain_tasks,\n",
    "    pipeline_parameters=pipeline_params,\n",
    "    evaluation_tracker=evaluation_tracker,\n",
    "    model=smol_model\n",
    ")\n",
    "\n",
    "pipeline.evaluate()"
   ]
  },
  {
   "cell_type": "code",
   "execution_count": 14,
   "id": "e47ef4ba-4563-43a2-a414-c94f4972a95f",
   "metadata": {},
   "outputs": [],
   "source": [
    "smol_results = pipeline.get_results()"
   ]
  },
  {
   "cell_type": "code",
   "execution_count": 15,
   "id": "c64f80d2-c072-45ae-861a-dbd603a9b15e",
   "metadata": {},
   "outputs": [
    {
     "name": "stdout",
     "output_type": "stream",
     "text": [
      "|                  Task                  |Version|Metric|Value |   |Stderr|\n",
      "|----------------------------------------|------:|------|-----:|---|-----:|\n",
      "|all                                     |       |acc   |0.3333|±  |0.1169|\n",
      "|leaderboard:mmlu:_average:5             |       |acc   |0.3400|±  |0.1121|\n",
      "|leaderboard:mmlu:anatomy:5              |      0|acc   |0.4500|±  |0.1141|\n",
      "|leaderboard:mmlu:high_school_biology:5  |      0|acc   |0.1500|±  |0.0819|\n",
      "|leaderboard:mmlu:high_school_chemistry:5|      0|acc   |0.3500|±  |0.1094|\n",
      "|leaderboard:mmlu:professional_medicine:5|      0|acc   |0.4500|±  |0.1141|\n",
      "\n"
     ]
    }
   ],
   "source": [
    "pipeline.show_results()"
   ]
  },
  {
   "cell_type": "markdown",
   "id": "b93f018d-c746-4afb-9fff-51a00a45f1d1",
   "metadata": {},
   "source": [
    "### Visualize Results\n",
    "\n",
    "Now that we have results from the two models we can visualize them side-by-side. We'll keep visualisation simple here, but with this data structure you could represent scores in many ways."
   ]
  },
  {
   "cell_type": "code",
   "execution_count": 18,
   "id": "babda029-5454-4846-857b-08b151f567a6",
   "metadata": {},
   "outputs": [
    {
     "data": {
      "text/plain": [
       "<Axes: >"
      ]
     },
     "execution_count": 18,
     "metadata": {},
     "output_type": "execute_result"
    },
    {
     "data": {
      "image/png": "[encoded data removed]",
      "text/plain": [
       "<Figure size 640x480 with 1 Axes>"
      ]
     },
     "metadata": {},
     "output_type": "display_data"
    }
   ],
   "source": [
    "import pandas as pd\n",
    "\n",
    "df = pd.DataFrame.from_records(smol_results[\"results\"]).T[\"acc\"].rename(\"SmolLM2-360M-Instruct\")\n",
    "_df = pd.DataFrame.from_records(qwen_results[\"results\"]).T[\"acc\"].rename(\"Qwen2-0.5B-DPO\")\n",
    "df = pd.concat([df, _df], axis=1)\n",
    "df.plot(kind=\"barh\")"
   ]
  },
  {
   "cell_type": "markdown",
   "id": "9add1f09-9601-4b43-a1a2-2a4208af2220",
   "metadata": {},
   "source": [
    "### 💐 That's it!\n",
    "\n",
    "You have a handy notebook to view model evals. You could use this to:\n",
    "\n",
    "- select the right model for your inference use case\n",
    "- evaluate checkpoints during training\n",
    "- share model scores\n",
    "\n",
    "🏃Next Steps\n",
    "\n",
    "If you want to go deeper into your evaluation results check out this notebook\n",
    "\n"
   ]
  },
  {
   "cell_type": "code",
   "execution_count": null,
   "id": "8dfdff2d-5350-4e77-a258-aca2eb394e8f",
   "metadata": {},
   "outputs": [],
   "source": []
  }
 ],
 "metadata": {
  "kernelspec": {
   "display_name": "Python 3 (ipykernel)",
   "language": "python",
   "name": "python3"
  },
  "language_info": {
   "codemirror_mode": {
    "name": "ipython",
    "version": 3
   },
   "file_extension": ".py",
   "mimetype": "text/x-python",
   "name": "python",
   "nbconvert_exporter": "python",
   "pygments_lexer": "ipython3",
   "version": "3.10.16"
  }
 },
 "nbformat": 4,
 "nbformat_minor": 5
}
