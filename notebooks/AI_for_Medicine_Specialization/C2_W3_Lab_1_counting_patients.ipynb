{
 "cells": [
  {
   "cell_type": "markdown",
   "metadata": {},
   "source": [
    "# Count Patients\n",
    "\n",
    "Welcome to the first practice lab of this week!"
   ]
  },
  {
   "cell_type": "markdown",
   "metadata": {},
   "source": [
    "## Import Packages"
   ]
  },
  {
   "cell_type": "code",
   "execution_count": null,
   "metadata": {},
   "outputs": [],
   "source": [
    "import numpy as np\n",
    "import pandas as pd"
   ]
  },
  {
   "cell_type": "markdown",
   "metadata": {},
   "source": [
    "We'll work with data where:\n",
    "- Time: days after a disease is diagnosed and the patient either dies or left the hospital's supervision.\n",
    "- Event: \n",
    "    - 1 if the patient died\n",
    "    - 0 if the patient was not observed to die beyond the given 'Time' (their data is censored)\n",
    "    \n",
    "Notice that these are the same numbers that you see in the lecture video about estimating survival."
   ]
  },
  {
   "cell_type": "code",
   "execution_count": null,
   "metadata": {},
   "outputs": [],
   "source": [
    "df = pd.DataFrame({'Time': [10,8,60,20,12,30,15],\n",
    "                   'Event': [1,0,1,1,0,1,0]\n",
    "                  })\n",
    "df"
   ]
  },
  {
   "cell_type": "markdown",
   "metadata": {},
   "source": [
    "## Count Number of Censored Patients"
   ]
  },
  {
   "cell_type": "code",
   "execution_count": null,
   "metadata": {},
   "outputs": [],
   "source": [
    "df['Event'] == 0"
   ]
  },
  {
   "cell_type": "markdown",
   "metadata": {},
   "source": [
    "Patient 1, 4 and 6 were censored."
   ]
  },
  {
   "cell_type": "markdown",
   "metadata": {},
   "source": [
    "- Count how many patient records were censored\n",
    "\n",
    "When we sum a series of booleans, `True` is treated as 1 and `False` is treated as 0."
   ]
  },
  {
   "cell_type": "code",
   "execution_count": null,
   "metadata": {},
   "outputs": [],
   "source": [
    "sum(df['Event'] == 0)"
   ]
  },
  {
   "cell_type": "markdown",
   "metadata": {},
   "source": [
    "## Count Number of Patients Who Definitely Survived Past Time $t$\n",
    "\n",
    "This assumes that any patient who was censored died at the time of being censored ( **died immediately**).\n",
    "\n",
    "If a patient survived past time `t`:\n",
    "- Their `Time` of event should be greater than `t`.  \n",
    "- Notice that they can have an `Event` of either 1 or 0.  What matters is their `Time` value."
   ]
  },
  {
   "cell_type": "code",
   "execution_count": null,
   "metadata": {},
   "outputs": [],
   "source": [
    "t = 25\n",
    "df['Time'] > t"
   ]
  },
  {
   "cell_type": "code",
   "execution_count": null,
   "metadata": {},
   "outputs": [],
   "source": [
    "sum(df['Time'] > t)"
   ]
  },
  {
   "cell_type": "markdown",
   "metadata": {},
   "source": [
    "## Count Number of Patients Who May Have Survived Past Time $t$\n",
    "\n",
    "This assumes that censored patients **never die**.\n",
    "- The patient is censored at any time and we assume that they live forever.\n",
    "- The patient died (`Event` is 1) but after time `t`"
   ]
  },
  {
   "cell_type": "code",
   "execution_count": null,
   "metadata": {},
   "outputs": [],
   "source": [
    "t = 25\n",
    "(df['Time'] > t) | (df['Event'] == 0)"
   ]
  },
  {
   "cell_type": "code",
   "execution_count": null,
   "metadata": {},
   "outputs": [],
   "source": [
    "sum( (df['Time'] > t) | (df['Event'] == 0) )"
   ]
  },
  {
   "cell_type": "markdown",
   "metadata": {},
   "source": [
    "## Count Number of Patients Who were Not Censored Before Time $t$"
   ]
  },
  {
   "cell_type": "markdown",
   "metadata": {},
   "source": [
    "If patient was not censored before time `t`:\n",
    "- They either had an event (death) before `t`, at `t`, or after `t` (any time)\n",
    "- Or, their `Time` occurs after time `t` (they may have either died or been censored at a later time after `t`)"
   ]
  },
  {
   "cell_type": "code",
   "execution_count": null,
   "metadata": {},
   "outputs": [],
   "source": [
    "t = 25\n",
    "(df['Event'] == 1) | (df['Time'] > t)"
   ]
  },
  {
   "cell_type": "code",
   "execution_count": null,
   "metadata": {},
   "outputs": [],
   "source": [
    "sum( (df['Event'] == 1) | (df['Time'] > t) )"
   ]
  }
 ],
 "metadata": {
  "kernelspec": {
   "display_name": "Python 3",
   "language": "python",
   "name": "python3"
  },
  "language_info": {
   "codemirror_mode": {
    "name": "ipython",
    "version": 3
   },
   "file_extension": ".py",
   "mimetype": "text/x-python",
   "name": "python",
   "nbconvert_exporter": "python",
   "pygments_lexer": "ipython3",
   "version": "3.7.6"
  }
 },
 "nbformat": 4,
 "nbformat_minor": 4
}
