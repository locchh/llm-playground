{
 "cells": [
  {
   "cell_type": "markdown",
   "id": "b1bd69ee-01ef-4c8e-8d57-0dfdddd96de2",
   "metadata": {},
   "source": [
    "Check Login"
   ]
  },
  {
   "cell_type": "code",
   "execution_count": 1,
   "id": "c6c2bf5e-88fe-4139-ace2-0f806bec78ab",
   "metadata": {},
   "outputs": [
    {
     "name": "stdout",
     "output_type": "stream",
     "text": [
      "locchuong\n"
     ]
    }
   ],
   "source": [
    "!huggingface-cli whoami"
   ]
  },
  {
   "cell_type": "code",
   "execution_count": 6,
   "id": "ebef8d5c-f365-4582-85fb-b5a2d051abc3",
   "metadata": {},
   "outputs": [
    {
     "name": "stdout",
     "output_type": "stream",
     "text": [
      "Current GPU: Tesla P40\n"
     ]
    }
   ],
   "source": [
    "import os\n",
    "os.environ[\"CUDA_VISIBLE_DEVICES\"] = \"0\"\n",
    "\n",
    "import torch\n",
    "# Check if a GPU is available\n",
    "if torch.cuda.is_available():\n",
    "    # Get the current device index (default is 0 if no other device is specified)\n",
    "    current_device = torch.cuda.current_device()\n",
    "    \n",
    "    # Get the name of the GPU at this device index\n",
    "    gpu_name = torch.cuda.get_device_name(current_device)\n",
    "    print(f\"Current GPU: {gpu_name}\")\n",
    "else:\n",
    "    print(\"No GPU available.\")"
   ]
  },
  {
   "cell_type": "markdown",
   "id": "bd0ff50b-f0f8-4575-bb63-1b4c5490251d",
   "metadata": {},
   "source": [
    "Download dataset"
   ]
  },
  {
   "cell_type": "code",
   "execution_count": 3,
   "id": "ec0c70cd-3b81-41a7-a3dc-f18d5b4afd80",
   "metadata": {},
   "outputs": [
    {
     "data": {
      "application/vnd.jupyter.widget-view+json": {
       "model_id": "420b2c65530949a8b81a1b1cc0a3022f",
       "version_major": 2,
       "version_minor": 0
      },
      "text/plain": [
       "README.md:   0%|          | 0.00/116 [00:00<?, ?B/s]"
      ]
     },
     "metadata": {},
     "output_type": "display_data"
    },
    {
     "data": {
      "application/vnd.jupyter.widget-view+json": {
       "model_id": "a3e1d44a4c1346e794d99c7c620d613c",
       "version_major": 2,
       "version_minor": 0
      },
      "text/plain": [
       "(…)-00000-of-00001-4aff41abcbe8fcb8.parquet:   0%|          | 0.00/63.9M [00:00<?, ?B/s]"
      ]
     },
     "metadata": {},
     "output_type": "display_data"
    },
    {
     "data": {
      "application/vnd.jupyter.widget-view+json": {
       "model_id": "8ac6547dc3d5430cb29f32fbb0713abc",
       "version_major": 2,
       "version_minor": 0
      },
      "text/plain": [
       "Generating train split:   0%|          | 0/251655 [00:00<?, ? examples/s]"
      ]
     },
     "metadata": {},
     "output_type": "display_data"
    }
   ],
   "source": [
    "# !huggingface-cli download dataset longquan/llm-japanese-dataset-split_10\n",
    "from datasets import load_dataset\n",
    "\n",
    "# Make sure to provide the correct `repo_id`\n",
    "dataset = load_dataset(\"longquan/llm-japanese-dataset-split_10\")"
   ]
  },
  {
   "cell_type": "code",
   "execution_count": 7,
   "id": "5bff07f2-3adf-4794-9e4d-9a5dd0b8c998",
   "metadata": {},
   "outputs": [
    {
     "name": "stdout",
     "output_type": "stream",
     "text": [
      "Available Splits: dict_keys(['train'])\n",
      "First Rows of Train Split: {'instruction': '次の日本語には間違っている部分があります。その部分を直して、正しい日本語の文を出力してください。', 'input': 'フライデースペシャル』（ニッポン放送）内で、１４：４０頃から放送されていた生放送コーナー「森野熊八\\u3000体いきいき楽しい食卓」が２０１４年１０月にて終了となり、後コーナーとし２０１４年１１月より開始された事前録音フロート番組。', 'output': 'フライデースペシャル』（ニッポン放送）内で、１４：４０頃から放送されていた生放送コーナー「森野熊八\\u3000体いきいき楽しい食卓」が２０１４年１０月にて終了となり、後コーナーとして２０１４年１１月より開始された事前録音フロート番組。'}\n"
     ]
    }
   ],
   "source": [
    "# Load dataset from local cache\n",
    "dataset = load_dataset(\"longquan/llm-japanese-dataset-split_10\", cache_dir=\"~/.cache/huggingface/datasets\")\n",
    "\n",
    "# View available dataset splits\n",
    "print(\"Available Splits:\", dataset.keys())\n",
    "\n",
    "# Load specific split (e.g., 'train') and inspect the first few rows\n",
    "train_data = dataset[\"train\"]\n",
    "print(\"First Rows of Train Split:\", train_data[0])\n"
   ]
  },
  {
   "cell_type": "markdown",
   "id": "e027b221-a1f7-4d71-86eb-4bd0525d563a",
   "metadata": {},
   "source": [
    "Load model and inference"
   ]
  },
  {
   "cell_type": "code",
   "execution_count": 9,
   "id": "3d2f8af8-77c2-4704-afce-ee4049437594",
   "metadata": {},
   "outputs": [],
   "source": [
    "from transformers import pipeline"
   ]
  },
  {
   "cell_type": "code",
   "execution_count": 10,
   "id": "b0f3ddf1-0e78-4a90-82b0-d3aee9599bc0",
   "metadata": {},
   "outputs": [],
   "source": [
    "model_id = \"meta-llama/Llama-3.2-1B-Instruct\""
   ]
  },
  {
   "cell_type": "code",
   "execution_count": 11,
   "id": "4eaf0b58-0c64-4f7e-afef-16fc415a1ca1",
   "metadata": {},
   "outputs": [],
   "source": [
    "pipe = pipeline(\n",
    "    \"text-generation\",\n",
    "    model=model_id,\n",
    "    device_map=\"auto\",\n",
    ")"
   ]
  },
  {
   "cell_type": "code",
   "execution_count": 12,
   "id": "67759200-7999-4772-942d-65837a460cf0",
   "metadata": {},
   "outputs": [
    {
     "data": {
      "text/plain": [
       "[{'role': 'system', 'content': 'You are a helpful assistant.'},\n",
       " {'role': 'user',\n",
       "  'content': \"Please summarize the following text: 'Artificial intelligence is a field of computer science that enables machines to perform tasks that typically require human intelligence.'\"}]"
      ]
     },
     "execution_count": 12,
     "metadata": {},
     "output_type": "execute_result"
    }
   ],
   "source": [
    "messages = [\n",
    "    {\"role\": \"system\", \"content\": \"You are a helpful assistant.\"},\n",
    "    {\"role\": \"user\", \"content\": \"Please summarize the following text: 'Artificial intelligence is a field of computer science that enables machines to perform tasks that typically require human intelligence.'\"}\n",
    "]\n",
    "\n",
    "messages"
   ]
  },
  {
   "cell_type": "code",
   "execution_count": 13,
   "id": "556df233-89d8-4a22-84c6-1162bd38d36c",
   "metadata": {},
   "outputs": [
    {
     "name": "stderr",
     "output_type": "stream",
     "text": [
      "Setting `pad_token_id` to `eos_token_id`:128001 for open-end generation.\n"
     ]
    },
    {
     "name": "stdout",
     "output_type": "stream",
     "text": [
      "{'role': 'assistant', 'content': \"Here's a summary of the text:\\n\\nArtificial intelligence (AI) is a branch of computer science that allows machines to think and learn like humans. It involves developing algorithms and systems that can perform tasks that typically require human intelligence, such as problem-solving, decision-making, and learning.\"}\n"
     ]
    }
   ],
   "source": [
    "outputs = pipe(\n",
    "    messages,\n",
    "    max_length=128,\n",
    ")\n",
    "print(outputs[0][\"generated_text\"][-1])"
   ]
  },
  {
   "cell_type": "markdown",
   "id": "d08ab627-83d8-4947-bb32-66c240469390",
   "metadata": {},
   "source": [
    "Run a sample on dataset"
   ]
  },
  {
   "cell_type": "code",
   "execution_count": 22,
   "id": "39e196ad-0141-4c44-8aea-e27819e88f83",
   "metadata": {},
   "outputs": [
    {
     "data": {
      "text/plain": [
       "'フライデースペシャル』（ニッポン放送）内で、１４：４０頃から放送されていた生放送コーナー「森野熊八\\u3000体いきいき楽しい食卓」が２０１４年１０月にて終了となり、後コーナーとして２０１４年１１月より開始された事前録音フロート番組。'"
      ]
     },
     "execution_count": 22,
     "metadata": {},
     "output_type": "execute_result"
    }
   ],
   "source": [
    "sample = train_data[0]\n",
    "sample['output']"
   ]
  },
  {
   "cell_type": "code",
   "execution_count": 21,
   "id": "a64c4ce3-bf3c-4863-8ffa-066724acbe78",
   "metadata": {},
   "outputs": [
    {
     "data": {
      "text/plain": [
       "[{'role': 'system',\n",
       "  'content': '次の日本語には間違っている部分があります。その部分を直して、正しい日本語の文を出力してください。'},\n",
       " {'role': 'user',\n",
       "  'content': 'フライデースペシャル』（ニッポン放送）内で、１４：４０頃から放送されていた生放送コーナー「森野熊八\\u3000体いきいき楽しい食卓」が２０１４年１０月にて終了となり、後コーナーとし２０１４年１１月より開始された事前録音フロート番組。'}]"
      ]
     },
     "execution_count": 21,
     "metadata": {},
     "output_type": "execute_result"
    }
   ],
   "source": [
    "messages = [\n",
    "    {\"role\": \"system\", \"content\": sample[\"instruction\"]},\n",
    "    {\"role\": \"user\", \"content\": sample[\"input\"]}\n",
    "]\n",
    "messages"
   ]
  },
  {
   "cell_type": "code",
   "execution_count": 24,
   "id": "cd6b93a6-7d2f-4c95-8d69-032825150b4b",
   "metadata": {},
   "outputs": [
    {
     "name": "stderr",
     "output_type": "stream",
     "text": [
      "Setting `pad_token_id` to `eos_token_id`:128001 for open-end generation.\n"
     ]
    },
    {
     "name": "stdout",
     "output_type": "stream",
     "text": [
      "{'role': 'assistant', 'content': '「森野熊八\\u3000体いきいき楽しい食卓」は、ニッポン放送（NHK）の「フライデースペシャル」内で、１４：４０頃から放送されていた生放送コーナーで、２０１４年１０月に終了した。 \\n\\nその後、２０１４年１１月に、事前録音フロート番組として始まった。'}\n"
     ]
    }
   ],
   "source": [
    "outputs = pipe(\n",
    "    messages,\n",
    "    max_new_tokens=128,\n",
    ")\n",
    "print(outputs[0][\"generated_text\"][-1])"
   ]
  },
  {
   "cell_type": "markdown",
   "id": "cc17ec8d-5027-4766-ba46-4b57047985ca",
   "metadata": {},
   "source": [
    "Random pick a sample"
   ]
  },
  {
   "cell_type": "code",
   "execution_count": 25,
   "id": "ea0cb4a5-5944-49ef-bb31-15bf19601280",
   "metadata": {},
   "outputs": [],
   "source": [
    "import random"
   ]
  },
  {
   "cell_type": "code",
   "execution_count": 37,
   "id": "3148067e-bd3b-4a27-bbca-7570076ca517",
   "metadata": {},
   "outputs": [
    {
     "name": "stderr",
     "output_type": "stream",
     "text": [
      "Setting `pad_token_id` to `eos_token_id`:128001 for open-end generation.\n"
     ]
    },
    {
     "name": "stdout",
     "output_type": "stream",
     "text": [
      "Reference:  フライデースペシャル』（ニッポン放送）内で、１４：４０頃から放送されていた生放送コーナー「森野熊八　体いきいき楽しい食卓」が２０１４年１０月にて終了となり、後コーナーとして２０１４年１１月より開始された事前録音フロート番組。 \n",
      "\n",
      "Model:  {'role': 'assistant', 'content': '佐藤優里亜（さいとう うりあ）とは、日本の女性声優です。彼女の声優業は、多くのゲーム、テレビ番組、映画などで活躍しています。\\n\\n佐藤優里亜は、声優業の始めは、NHK（日本放送協会）でTV番組にゲストとして出演したことで始まりました。後に、ゲームのキャラクターとしての声優業に進みました。\\n\\n佐藤優里亜の主なキャラクターとしては、スピーチボール、ミスターハンサン、そしてヒ'}\n"
     ]
    }
   ],
   "source": [
    "random_sample = train_data[random.choice(range(train_data.num_rows))]\n",
    "\n",
    "print(\"Reference: \",sample['output'],\"\\n\")\n",
    "\n",
    "messages = [\n",
    "    {\"role\": \"system\", \"content\": random_sample[\"instruction\"]},\n",
    "    {\"role\": \"user\", \"content\": random_sample[\"input\"]}\n",
    "]\n",
    "outputs = pipe(\n",
    "    messages,\n",
    "    max_new_tokens=128,\n",
    ")\n",
    "print(\"Model: \", outputs[0][\"generated_text\"][-1])"
   ]
  },
  {
   "cell_type": "markdown",
   "id": "8918112b-d1fe-45e8-93d5-2877f702c4da",
   "metadata": {},
   "source": [
    "References\n",
    "\n",
    "https://huggingface.co/datasets/longquan/llm-japanese-dataset-split_10"
   ]
  }
 ],
 "metadata": {
  "kernelspec": {
   "display_name": "Python 3 (ipykernel)",
   "language": "python",
   "name": "python3"
  },
  "language_info": {
   "codemirror_mode": {
    "name": "ipython",
    "version": 3
   },
   "file_extension": ".py",
   "mimetype": "text/x-python",
   "name": "python",
   "nbconvert_exporter": "python",
   "pygments_lexer": "ipython3",
   "version": "3.8.19"
  }
 },
 "nbformat": 4,
 "nbformat_minor": 5
}
