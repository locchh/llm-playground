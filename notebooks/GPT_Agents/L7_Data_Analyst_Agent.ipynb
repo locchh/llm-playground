{
 "cells": [
  {
   "cell_type": "markdown",
   "id": "2ee5f8b6-c540-4597-84f0-d6736b5dd246",
   "metadata": {},
   "source": [
    "The agent is comprised of a router using OpenAI function calling, and a set of three tools: a database lookup tool, a data analysis tool, and a code generator to create graphs.\n",
    "\n",
    "![img](https://raw.githubusercontent.com/locchh/llm-playground/356c24bcd38ead072e9aa7e6d90dd7b2b2ff4c4b/notebooks/Evaluating_AI_Agents/images/agent.png)\n",
    "\n",
    "The agent can lookup information from a local file, perform analysis on that information, and graph results. The example local file is a log of transactions at a local store. The agent can help the store owners understand trends and anomalies in their sales data."
   ]
  },
  {
   "cell_type": "markdown",
   "id": "e4a1dc75-3775-41f3-8d9e-a931c6834999",
   "metadata": {},
   "source": [
    "### Initializing the OpenAI client"
   ]
  },
  {
   "cell_type": "code",
   "execution_count": 1,
   "id": "585f31dd-ed46-4d8a-b2fb-610e2505ab14",
   "metadata": {},
   "outputs": [
    {
     "name": "stdout",
     "output_type": "stream",
     "text": [
      "API key set successfully.\n",
      "Hello! How can I assist you today?\n"
     ]
    }
   ],
   "source": [
    "import json\n",
    "import duckdb\n",
    "import pandas as pd\n",
    "from pydantic import BaseModel, Field\n",
    "from IPython.display import Markdown\n",
    "from helper import set_openai_key, test_openai_api, create_openai_client, print_pretty\n",
    "\n",
    "set_openai_key()\n",
    "\n",
    "test_openai_api()\n",
    "\n",
    "client = create_openai_client()\n",
    "\n",
    "MODEL = \"gpt-4o-mini\""
   ]
  },
  {
   "cell_type": "code",
   "execution_count": 2,
   "id": "25070f27-d808-42cb-a07a-903f40ac3b56",
   "metadata": {},
   "outputs": [],
   "source": [
    "# define the path to the transactional data\n",
    "TRANSACTION_DATA_FILE_PATH = 'data/Store_Sales_Price_Elasticity_Promotions_Data.parquet'"
   ]
  },
  {
   "cell_type": "markdown",
   "id": "0d0191e7-7344-4fc8-827b-78eb87dbb910",
   "metadata": {},
   "source": [
    "### Defining the tools\n",
    "\n",
    "Let's start by creating the three tools the agent will be able to use."
   ]
  },
  {
   "cell_type": "markdown",
   "id": "0df5d13b-8b4f-4e4f-9523-610f8c554bad",
   "metadata": {},
   "source": [
    "#### Tool 1: Database Lookup\n",
    "\n",
    "This first tool reads from a local parquet file that contains the transaction data.\n",
    "\n",
    "This database lookup tool works using three steps.\n",
    "\n",
    "![tool1](https://raw.githubusercontent.com/locchh/llm-playground/356c24bcd38ead072e9aa7e6d90dd7b2b2ff4c4b/notebooks/Evaluating_AI_Agents/images/tool1.png)\n",
    "\n",
    "1. First, it creates the SQL table from a local file, if not already done.\n",
    "2. Second, it translates the original prompt into an sql query (using an LLM call).\n",
    "3. Finally, it runs that query against the database."
   ]
  },
  {
   "cell_type": "code",
   "execution_count": 3,
   "id": "fe6c1c73-091f-4b55-9c4f-eef5006e557a",
   "metadata": {},
   "outputs": [],
   "source": [
    "# prompt template for step 2 of tool 1\n",
    "SQL_GENERATION_PROMPT = \"\"\"\n",
    "Generate an SQL query based on a prompt. Do not reply with anything besides the SQL query.\n",
    "The prompt is: {prompt}\n",
    "\n",
    "The available columns are: {columns}\n",
    "The table name is: {table_name}\n",
    "\"\"\"\n",
    "\n",
    "\n",
    "# code for step 2 of tool 1\n",
    "def generate_sql_query(prompt: str, columns: list, table_name: str) -> str:\n",
    "    \"\"\"Generate an SQL query based on a prompt\"\"\"\n",
    "    formatted_prompt = SQL_GENERATION_PROMPT.format(prompt=prompt, \n",
    "                                                    columns=columns, \n",
    "                                                    table_name=table_name)\n",
    "\n",
    "    response = client.chat.completions.create(\n",
    "        model=MODEL,\n",
    "        messages=[{\"role\": \"user\", \"content\": formatted_prompt}],\n",
    "    )\n",
    "    \n",
    "    return response.choices[0].message.content\n"
   ]
  },
  {
   "cell_type": "code",
   "execution_count": 4,
   "id": "7a6e4b2b-89f5-4ca6-b771-929a9772d981",
   "metadata": {},
   "outputs": [],
   "source": [
    "# code for tool 1\n",
    "def lookup_sales_data(prompt: str) -> str:\n",
    "    \"\"\"Implementation of sales data lookup from parquet file using SQL\"\"\"\n",
    "    try:\n",
    "\n",
    "        # define the table name\n",
    "        table_name = \"sales\"\n",
    "        \n",
    "        # step 1: read the parquet file into a DuckDB table\n",
    "        df = pd.read_parquet(TRANSACTION_DATA_FILE_PATH)\n",
    "\n",
    "        # creates a DuckDB database table from a Pandas DataFrame (df) if it doesn't already exist.\n",
    "        duckdb.sql(f\"CREATE TABLE IF NOT EXISTS {table_name} AS SELECT * FROM df\")\n",
    "\n",
    "        # step 2: generate the SQL code\n",
    "        sql_query = generate_sql_query(prompt, df.columns, table_name)\n",
    "        # clean the response to make sure it only includes the SQL code\n",
    "        sql_query = sql_query.strip()\n",
    "        sql_query = sql_query.replace(\"```sql\", \"\").replace(\"```\", \"\")\n",
    "        \n",
    "        # step 3: execute the SQL query\n",
    "        result = duckdb.sql(sql_query).df()\n",
    "        \n",
    "        return result.to_string()\n",
    "    except Exception as e:\n",
    "        return f\"Error accessing data: {str(e)}\"\n"
   ]
  },
  {
   "cell_type": "code",
   "execution_count": 5,
   "id": "f2b47341-45e4-4a1f-90ec-e9eeeaf8505b",
   "metadata": {},
   "outputs": [
    {
     "name": "stdout",
     "output_type": "stream",
     "text": [
      "    Store_Number  SKU_Coded  Product_Class_Code  Sold_Date  Qty_Sold  Total_Sale_Value  On_Promo\n",
      "0           1320    6173050               22875 2021-11-01         1          4.990000         0\n",
      "1           1320    6174250               22875 2021-11-01         1          0.890000         0\n",
      "2           1320    6176200               22975 2021-11-01         2         99.980003         0\n",
      "3           1320    6176800               22800 2021-11-01         1         14.970000         0\n",
      "4           1320    6177250               22975 2021-11-01         1          6.890000         0\n",
      "5           1320    6177300               22800 2021-11-01         1          9.990000         0\n",
      "6           1320    6177350               22800 2021-11-01         2         16.980000         0\n",
      "7           1320    6177700               22875 2021-11-01         1          3.190000         0\n",
      "8           1320    6178000               22875 2021-11-01         2          6.380000         0\n",
      "9           1320    6178250               22800 2021-11-01         1         16.590000         0\n",
      "10          1320    6179250               24400 2021-11-01         1         14.990000         0\n",
      "11          1320    6179300               22800 2021-11-01         2          9.980000         0\n",
      "12          1320    6179400               24400 2021-11-01         2         29.980000         0\n",
      "13          1320    6179450               24400 2021-11-01         1         14.990000         0\n",
      "14          1320    6179500               24400 2021-11-01         1         14.990000         0\n",
      "15          1320    6179750               22800 2021-11-01         2         39.980000         0\n",
      "16          1320    6180550               22975 2021-11-01         1         15.990000         0\n",
      "17          1320    6182050               22975 2021-11-01         1          7.990000         0\n",
      "18          1320    6183750               22850 2021-11-01         3         38.970001         0\n",
      "19          1320    6184100               22975 2021-11-01         3         59.970001         0\n",
      "20          1320    6188550               22950 2021-11-01         2         15.980000         0\n",
      "21          1320    6190050               24425 2021-11-01         5         19.950001         0\n",
      "22          1320    6190150               24425 2021-11-01         1          8.990000         0\n",
      "23          1320    6190200               24425 2021-11-01         1          8.990000         0\n",
      "24          1320    6190250               24425 2021-11-01         1          7.990000         0\n",
      "25          1320    6190350               22950 2021-11-01         1          6.990000         0\n",
      "26          1320    6190400               22950 2021-11-01         1          6.990000         0\n",
      "27          1320    6193750               22875 2021-11-01         1          6.990000         0\n",
      "28          1320    6195350               24375 2021-11-01         1         16.990000         0\n",
      "29          1320    6195800               22850 2021-11-01         3         25.719999         1\n"
     ]
    }
   ],
   "source": [
    "example_data = lookup_sales_data(\"Show me all the sales for store 1320 on November 1st, 2021\")\n",
    "print(example_data)"
   ]
  },
  {
   "cell_type": "markdown",
   "id": "62027d7e-be5b-44d7-bbf9-8353b48ad6f4",
   "metadata": {},
   "source": [
    "#### Tool 2: Data Analysis\n",
    "\n",
    "The second tool can analyze the returned data and display conclusions to users.\n",
    "\n",
    "![tool2](https://raw.githubusercontent.com/locchh/llm-playground/356c24bcd38ead072e9aa7e6d90dd7b2b2ff4c4b/notebooks/Evaluating_AI_Agents/images/tool2.png)\n"
   ]
  },
  {
   "cell_type": "code",
   "execution_count": 6,
   "id": "589fa939-a594-4d3d-b87d-6c8cc886b6c3",
   "metadata": {},
   "outputs": [],
   "source": [
    "# Construct prompt based on analysis type and data subset\n",
    "DATA_ANALYSIS_PROMPT = \"\"\"\n",
    "Analyze the following data: {data}\n",
    "Your job is to answer the following question: {prompt}\n",
    "\"\"\""
   ]
  },
  {
   "cell_type": "code",
   "execution_count": 7,
   "id": "e8e0b58d-b601-45a7-a441-8908995083ff",
   "metadata": {},
   "outputs": [],
   "source": [
    "# code for tool 2\n",
    "def analyze_sales_data(prompt: str, data: str) -> str:\n",
    "    \"\"\"Implementation of AI-powered sales data analysis\"\"\"\n",
    "    formatted_prompt = DATA_ANALYSIS_PROMPT.format(data=data, prompt=prompt)\n",
    "\n",
    "    response = client.chat.completions.create(\n",
    "        model=MODEL,\n",
    "        messages=[{\"role\": \"user\", \"content\": formatted_prompt}],\n",
    "    )\n",
    "    \n",
    "    analysis = response.choices[0].message.content\n",
    "    return analysis if analysis else \"No analysis could be generated\""
   ]
  },
  {
   "cell_type": "code",
   "execution_count": 8,
   "id": "c18975e2-8e61-495c-8627-1d255a3f9e59",
   "metadata": {},
   "outputs": [
    {
     "name": "stdout",
     "output_type": "stream",
     "text": [
      "Analyzing the provided sales data from a single store on a specific date, we can deduce several trends and insights based on the variables listed:\n",
      "\n",
      "### 1. **Sales Distribution by Product Class:**\n",
      "   - The data consists of multiple product classes identified by the `Product_Class_Code` column (e.g., 22800, 22875, 22975, etc.).\n",
      "   - It appears that certain classes (like 24400 and 22800) have multiple transactions, indicating they might be popular products in the store.\n",
      "\n",
      "### 2. **Quantity Sold:**\n",
      "   - The `Qty_Sold` column indicates that several products were sold in single units, but there are instances where higher quantities are sold:\n",
      "     - For instance, products with SKU `6183750` and `6184100` in class `22850` and `22975` respectively were sold in quantities of 3, suggesting these may be well-received items or bundled offers.\n",
      "   - The maximum quantity sold in the dataset is 5 for SKU `6190050`, indicating a potential bulk order or high demand.\n",
      "\n",
      "### 3. **Total Sale Value Analysis:**\n",
      "   - The `Total_Sale_Value` shows a variety of sales amounts, ranging from as low as $0.89 to as high as $99.98, indicating various price points across different products.\n",
      "   - Higher sale values seem associated with class codes like `22975` whereas lower values are linked with codes like `22875` and `24425`.\n",
      "\n",
      "### 4. **Promotional Impact:**\n",
      "   - The `On_Promo` column indicates whether the item was on promotion, with the only promotional sale (indicated by a `1`) being for SKU `6195800`, which sold 3 units for a total of $25.72.\n",
      "   - Since most items in the dataset are not on promotion, it would be worth investigating whether the promotional items saw a spike in quantity sold compared to regular items, as this can highlight the effectiveness of promotions.\n",
      "\n",
      "### 5. **Item Variability:**\n",
      "   - Some items (like those coded with `24400`) appear multiple times, suggesting various sizes or package options are available for the same product class.\n",
      "   - The data also shows a mixture of unit sales leading to varying total sales, indicating that customers may prefer different product configurations.\n",
      "\n",
      "### 6. **Date and Store Analysis:**\n",
      "   - This dataset is specific to `Store_Number 1320` for the date `2021-11-01`, which indicates that the trends would need to be contextualized within the broader sales history of this store to assess overall performance.\n",
      "   - There could be patterns related to time of year, stock availability, or local events which might affect these sales figures if we analyze more date ranges.\n",
      "\n",
      "### Conclusion:\n",
      "The data shows a diverse set of products with varying sales performance. Product class codes suggest some items are more favorable than others, and insights can be drawn on the effectiveness of promotions and inventory management. To fully harness this data, a temporal analysis or a comparison with other stores' sales data could yield a more comprehensive understanding of sales trends in this retail environment.\n"
     ]
    }
   ],
   "source": [
    "print(analyze_sales_data(prompt=\"what trends do you see in this data\", \n",
    "                         data=example_data))"
   ]
  },
  {
   "cell_type": "markdown",
   "id": "c5f1350d-84fc-4ae9-8938-d840a23c4c9a",
   "metadata": {},
   "source": [
    "#### Tool 3: Data Visualization\n",
    "\n",
    "The third tool generates python code to create the requested graphs from the returned data of the first tool. It consists of two steps: \n",
    "\n",
    "![tool3](https://raw.githubusercontent.com/locchh/llm-playground/356c24bcd38ead072e9aa7e6d90dd7b2b2ff4c4b/notebooks/Evaluating_AI_Agents/images/tool3.png)\n",
    "\n",
    "1. First, it creates the chart configuration: chart type, title, data, lables for x-axis and y-axis (using an LLM call).\n",
    "2. Second, it generates the python code based on the chart configuration of the first step (using an LLM call)."
   ]
  },
  {
   "cell_type": "code",
   "execution_count": 9,
   "id": "c40d0bc5-229c-496d-b08d-35b1369560bd",
   "metadata": {},
   "outputs": [],
   "source": [
    "# prompt template for step 1 of tool 3\n",
    "CHART_CONFIGURATION_PROMPT = \"\"\"\n",
    "Generate a chart configuration based on this data: {data}\n",
    "The goal is to show: {visualization_goal}\n",
    "\"\"\""
   ]
  },
  {
   "cell_type": "code",
   "execution_count": 10,
   "id": "74e6d8d3-ba99-484f-bc39-06bc457ca223",
   "metadata": {},
   "outputs": [],
   "source": [
    "# class defining the response format of step 1 of tool 3\n",
    "class VisualizationConfig(BaseModel):\n",
    "    chart_type: str = Field(..., description=\"Type of chart to generate\")\n",
    "    x_axis: str = Field(..., description=\"Name of the x-axis column\")\n",
    "    y_axis: str = Field(..., description=\"Name of the y-axis column\")\n",
    "    title: str = Field(..., description=\"Title of the chart\")"
   ]
  },
  {
   "cell_type": "code",
   "execution_count": 12,
   "id": "7d73b854-a2e1-466a-8edc-784f8835ee16",
   "metadata": {},
   "outputs": [],
   "source": [
    "# code for step 1 of tool 3\n",
    "def extract_chart_config(data: str, visualization_goal: str) -> dict:\n",
    "    \"\"\"Generate chart visualization configuration\n",
    "    \n",
    "    Args:\n",
    "        data: String containing the data to visualize\n",
    "        visualization_goal: Description of what the visualization should show\n",
    "        \n",
    "    Returns:\n",
    "        Dictionary containing line chart configuration\n",
    "    \"\"\"\n",
    "    formatted_prompt = CHART_CONFIGURATION_PROMPT.format(data=data,\n",
    "                                                         visualization_goal=visualization_goal)\n",
    "    \n",
    "    response = client.beta.chat.completions.parse(\n",
    "        model=MODEL,\n",
    "        messages=[{\"role\": \"user\", \"content\": formatted_prompt}],\n",
    "        response_format=VisualizationConfig,\n",
    "    )\n",
    "    \n",
    "    try:\n",
    "        # Extract axis and title info from response\n",
    "        content = response.choices[0].message.content\n",
    "        \n",
    "        # Return structured chart config\n",
    "        return {\n",
    "            \"chart_type\": content.chart_type,\n",
    "            \"x_axis\": content.x_axis,\n",
    "            \"y_axis\": content.y_axis,\n",
    "            \"title\": content.title,\n",
    "            \"data\": data\n",
    "        }\n",
    "    except Exception:\n",
    "        return {\n",
    "            \"chart_type\": \"line\", \n",
    "            \"x_axis\": \"date\",\n",
    "            \"y_axis\": \"value\",\n",
    "            \"title\": visualization_goal,\n",
    "            \"data\": data\n",
    "        }"
   ]
  },
  {
   "cell_type": "code",
   "execution_count": 13,
   "id": "49c4d3a5-bf80-4aae-b2a7-04bf8dec190d",
   "metadata": {},
   "outputs": [],
   "source": [
    "# prompt template for step 2 of tool 3\n",
    "CREATE_CHART_PROMPT = \"\"\"\n",
    "Write python code to create a chart based on the following configuration.\n",
    "Only return the code, no other text.\n",
    "config: {config}\n",
    "\"\"\"\n"
   ]
  },
  {
   "cell_type": "code",
   "execution_count": 14,
   "id": "728c50da-d6c0-4dd7-83b4-e63587107d71",
   "metadata": {},
   "outputs": [],
   "source": [
    "# code for step 2 of tool 3\n",
    "def create_chart(config: dict) -> str:\n",
    "    \"\"\"Create a chart based on the configuration\"\"\"\n",
    "    formatted_prompt = CREATE_CHART_PROMPT.format(config=config)\n",
    "    \n",
    "    response = client.chat.completions.create(\n",
    "        model=MODEL,\n",
    "        messages=[{\"role\": \"user\", \"content\": formatted_prompt}],\n",
    "    )\n",
    "    \n",
    "    code = response.choices[0].message.content\n",
    "    code = code.replace(\"```python\", \"\").replace(\"```\", \"\")\n",
    "    code = code.strip()\n",
    "    \n",
    "    return code"
   ]
  },
  {
   "cell_type": "code",
   "execution_count": 15,
   "id": "8c0e4a5c-7472-45fe-833e-32a0e7ee9808",
   "metadata": {},
   "outputs": [],
   "source": [
    "# code for tool 3\n",
    "def generate_visualization(data: str, visualization_goal: str) -> str:\n",
    "    \"\"\"Generate a visualization based on the data and goal\"\"\"\n",
    "    config = extract_chart_config(data, visualization_goal)\n",
    "    code = create_chart(config)\n",
    "    return code"
   ]
  },
  {
   "cell_type": "code",
   "execution_count": 20,
   "id": "4c0c8ce7-39de-4e6b-9676-4ae0b9e86b25",
   "metadata": {},
   "outputs": [
    {
     "name": "stdout",
     "output_type": "stream",
     "text": [
      "import pandas as pd\n",
      "import matplotlib.pyplot as plt\n",
      "from io import StringIO\n",
      "\n",
      "# Configuration\n",
      "config = {\n",
      "    'chart_type': 'line',\n",
      "    'x_axis': 'Sold_Date',\n",
      "    'y_axis': 'Total_Sale_Value',\n",
      "    'title': 'A bar chart of sales by product SKU. Put the product SKU on the x-axis and the sales on the y-axis.',\n",
      "    'data': '    Store_Number  SKU_Coded  Product_Class_Code  Sold_Date  Qty_Sold  Total_Sale_Value  On_Promo\\n0           1320    6173050               22875 2021-11-01         1          4.990000         0\\n1           1320    6174250               22875 2021-11-01         1          0.890000         0\\n2           1320    6176200               22975 2021-11-01         2         99.980003         0\\n3           1320    6176800               22800 2021-11-01         1         14.970000         0\\n4           1320    6177250               22975 2021-11-01         1          6.890000         0\\n5           1320    6177300               22800 2021-11-01         1          9.990000         0\\n6           1320    6177350               22800 2021-11-01         2         16.980000         0\\n7           1320    6177700               22875 2021-11-01         1          3.190000         0\\n8           1320    6178000               22875 2021-11-01         2          6.380000         0\\n9           1320    6178250               22800 2021-11-01         1         16.590000         0\\n10          1320    6179250               24400 2021-11-01         1         14.990000         0\\n11          1320    6179300               22800 2021-11-01         2          9.980000         0\\n12          1320    6179400               24400 2021-11-01         2         29.980000         0\\n13          1320    6179450               24400 2021-11-01         1         14.990000         0\\n14          1320    6179500               24400 2021-11-01         1         14.990000         0\\n15          1320    6179750               22800 2021-11-01         2         39.980000         0\\n16          1320    6180550               22975 2021-11-01         1         15.990000         0\\n17          1320    6182050               22975 2021-11-01         1          7.990000         0\\n18          1320    6183750               22850 2021-11-01         3         38.970001         0\\n19          1320    6184100               22975 2021-11-01         3         59.970001         0\\n20          1320    6188550               22950 2021-11-01         2         15.980000         0\\n21          1320    6190050               24425 2021-11-01         5         19.950001         0\\n22          1320    6190150               24425 2021-11-01         1          8.990000         0\\n23          1320    6190200               24425 2021-11-01         1          8.990000         0\\n24          1320    6190250               24425 2021-11-01         1          7.990000         0\\n25          1320    6190350               22950 2021-11-01         1          6.990000         0\\n26          1320    6190400               22950 2021-11-01         1          6.990000         0\\n27          1320    6193750               22875 2021-11-01         1          6.990000         0\\n28          1320    6195350               24375 2021-11-01         1         16.990000         0\\n29          1320    6195800               22850 2021-11-01         3         25.719999         1'\n",
      "}\n",
      "\n",
      "# Load the data into a DataFrame\n",
      "data = pd.read_csv(StringIO(config['data']), sep='\\s+')\n",
      "\n",
      "# Plotting\n",
      "plt.figure(figsize=(10, 6))\n",
      "plt.plot(data[config['x_axis']], data[config['y_axis']], marker='o')\n",
      "plt.title(config['title'])\n",
      "plt.xlabel(config['x_axis'])\n",
      "plt.ylabel(config['y_axis'])\n",
      "plt.xticks(rotation=45)\n",
      "plt.grid()\n",
      "plt.tight_layout()\n",
      "plt.show()\n"
     ]
    }
   ],
   "source": [
    "code = generate_visualization(example_data, \n",
    "                              \"A bar chart of sales by product SKU. Put the product SKU on the x-axis and the sales on the y-axis.\")\n",
    "print(code)"
   ]
  },
  {
   "cell_type": "code",
   "execution_count": 21,
   "id": "753c6348-01ec-4d49-8a50-ad782d51e4d1",
   "metadata": {},
   "outputs": [
    {
     "data": {
      "image/png": "[encoded data removed]",
      "text/plain": [
       "<Figure size 1000x600 with 1 Axes>"
      ]
     },
     "metadata": {},
     "output_type": "display_data"
    }
   ],
   "source": [
    "exec(code)"
   ]
  },
  {
   "cell_type": "markdown",
   "id": "78d99a00-4b5a-440e-8c9a-eeb233873ec0",
   "metadata": {},
   "source": [
    "### Defining the Router\n",
    "\n",
    "Now that all of the tools are defined, you can create the router. The router will take the original user input, and is responsible for calling any tools. After each tool call is completed, the agent will return to router to determine whether another tool should be called.\n"
   ]
  },
  {
   "cell_type": "markdown",
   "id": "3fca8f39-bb2e-4a10-82f7-0a7f4127f3a7",
   "metadata": {},
   "source": [
    "#### Tool Schema\n",
    "\n",
    "\n",
    "\n",
    "Let's define the tools in a way that can be understood by our OpenAI model. OpenAI understands a specific JSON format:\n"
   ]
  },
  {
   "cell_type": "code",
   "execution_count": 22,
   "id": "f7790458-2b5a-4c44-86e9-29ca0c3003a8",
   "metadata": {},
   "outputs": [],
   "source": [
    "# Define tools/functions that can be called by the model\n",
    "tools = [\n",
    "    {\n",
    "        \"type\": \"function\",\n",
    "        \"function\": {\n",
    "            \"name\": \"lookup_sales_data\",\n",
    "            \"description\": \"Look up data from Store Sales Price Elasticity Promotions dataset\",\n",
    "            \"parameters\": {\n",
    "                \"type\": \"object\",\n",
    "                \"properties\": {\n",
    "                    \"prompt\": {\"type\": \"string\", \"description\": \"The unchanged prompt that the user provided.\"}\n",
    "                },\n",
    "                \"required\": [\"prompt\"]\n",
    "            }\n",
    "        }\n",
    "    },\n",
    "    {\n",
    "        \"type\": \"function\",\n",
    "        \"function\": {\n",
    "            \"name\": \"analyze_sales_data\", \n",
    "            \"description\": \"Analyze sales data to extract insights\",\n",
    "            \"parameters\": {\n",
    "                \"type\": \"object\",\n",
    "                \"properties\": {\n",
    "                    \"data\": {\"type\": \"string\", \"description\": \"The lookup_sales_data tool's output.\"},\n",
    "                    \"prompt\": {\"type\": \"string\", \"description\": \"The unchanged prompt that the user provided.\"}\n",
    "                },\n",
    "                \"required\": [\"data\", \"prompt\"]\n",
    "            }\n",
    "        }\n",
    "    },\n",
    "    {\n",
    "        \"type\": \"function\",\n",
    "        \"function\": {\n",
    "            \"name\": \"generate_visualization\",\n",
    "            \"description\": \"Generate Python code to create data visualizations\",\n",
    "            \"parameters\": {\n",
    "                \"type\": \"object\", \n",
    "                \"properties\": {\n",
    "                    \"data\": {\"type\": \"string\", \"description\": \"The lookup_sales_data tool's output.\"},\n",
    "                    \"visualization_goal\": {\"type\": \"string\", \"description\": \"The goal of the visualization.\"}\n",
    "                },\n",
    "                \"required\": [\"data\", \"visualization_goal\"]\n",
    "            }\n",
    "        }\n",
    "    }\n",
    "]\n",
    "\n",
    "# Dictionary mapping function names to their implementations\n",
    "tool_implementations = {\n",
    "    \"lookup_sales_data\": lookup_sales_data,\n",
    "    \"analyze_sales_data\": analyze_sales_data, \n",
    "    \"generate_visualization\": generate_visualization\n",
    "}\n"
   ]
  },
  {
   "cell_type": "markdown",
   "id": "a8f7dd79-cc19-4eff-a656-c6c6df737177",
   "metadata": {},
   "source": [
    "#### Router Logic\n",
    "\n",
    "The router is composed of a main loop method, and a method to handle the tool calls that you get back from the model.\n",
    "\n",
    "![router](https://raw.githubusercontent.com/locchh/llm-playground/356c24bcd38ead072e9aa7e6d90dd7b2b2ff4c4b/notebooks/Evaluating_AI_Agents/images/router.png)\n",
    "\n",
    "The following two cells define the function `handle_tool_calls` and the variable `SYSTEM_PROMPT`, which will be used by the function `run_agent` defining the router logic."
   ]
  },
  {
   "cell_type": "code",
   "execution_count": 23,
   "id": "e953d8d6-f888-4469-aac3-d7c1e28e1be7",
   "metadata": {},
   "outputs": [],
   "source": [
    "# code for executing the tools returned in the model's response\n",
    "def handle_tool_calls(tool_calls, messages):\n",
    "    \n",
    "    for tool_call in tool_calls:   \n",
    "        function = tool_implementations[tool_call.function.name]\n",
    "        function_args = json.loads(tool_call.function.arguments)\n",
    "        result = function(**function_args)\n",
    "        messages.append({\"role\": \"tool\", \"content\": result, \"tool_call_id\": tool_call.id})\n",
    "        \n",
    "    return messages"
   ]
  },
  {
   "cell_type": "code",
   "execution_count": 24,
   "id": "c2e79d56-9a17-4e3e-98a4-28a151b60496",
   "metadata": {},
   "outputs": [],
   "source": [
    "SYSTEM_PROMPT = \"\"\"\n",
    "You are a helpful assistant that can answer questions about the Store Sales Price Elasticity Promotions dataset.\n",
    "\"\"\""
   ]
  },
  {
   "cell_type": "code",
   "execution_count": 26,
   "id": "555c31aa-0d5c-4e75-876a-dd4bc77c6c29",
   "metadata": {},
   "outputs": [],
   "source": [
    "def run_agent(messages):\n",
    "    print(\"Running agent with messages:\", messages)\n",
    "\n",
    "    if isinstance(messages, str):\n",
    "        messages = [{\"role\": \"user\", \"content\": messages}]\n",
    "        \n",
    "    # Check and add system prompt if needed\n",
    "    if not any(\n",
    "            isinstance(message, dict) and message.get(\"role\") == \"system\" for message in messages\n",
    "        ):\n",
    "            system_prompt = {\"role\": \"system\", \"content\": SYSTEM_PROMPT}\n",
    "            messages.append(system_prompt)\n",
    "\n",
    "    while True:\n",
    "        print(\"Making router call to OpenAI\")\n",
    "        response = client.chat.completions.create(\n",
    "            model=MODEL,\n",
    "            messages=messages,\n",
    "            tools=tools,\n",
    "        )\n",
    "        messages.append(response.choices[0].message)\n",
    "        tool_calls = response.choices[0].message.tool_calls\n",
    "        print(\"Received response with tool calls:\", bool(tool_calls))\n",
    "\n",
    "        # if the model decides to call function(s), call handle_tool_calls\n",
    "        if tool_calls:\n",
    "            print(\"Processing tool calls\")\n",
    "            messages = handle_tool_calls(tool_calls, messages)\n",
    "        else:\n",
    "            print(\"No tool calls, returning final response\")\n",
    "            return response.choices[0].message.content\n"
   ]
  },
  {
   "cell_type": "code",
   "execution_count": 27,
   "id": "b92ac262-8064-4082-81eb-f96831ae402e",
   "metadata": {},
   "outputs": [
    {
     "name": "stdout",
     "output_type": "stream",
     "text": [
      "Running agent with messages: Show me the code for graph of sales by store in Nov 2021, and tell me what trends you see.\n",
      "Making router call to OpenAI\n",
      "Received response with tool calls: True\n",
      "Processing tool calls\n",
      "Making router call to OpenAI\n",
      "Received response with tool calls: True\n",
      "Processing tool calls\n",
      "Making router call to OpenAI\n",
      "Received response with tool calls: True\n",
      "Processing tool calls\n",
      "Making router call to OpenAI\n",
      "Received response with tool calls: False\n",
      "No tool calls, returning final response\n"
     ]
    }
   ],
   "source": [
    "result = run_agent('Show me the code for graph of sales by store in Nov 2021, and tell me what trends you see.')"
   ]
  },
  {
   "cell_type": "code",
   "execution_count": 28,
   "id": "3bc0d2fb-8bfb-492b-a730-8473350a2b45",
   "metadata": {},
   "outputs": [
    {
     "name": "stdout",
     "output_type": "stream",
     "text": [
      "Here is the Python code for generating a bar graph that shows total sales by store for November 2021:\n",
      "\n",
      "```python\n",
      "import pandas as pd\n",
      "import matplotlib.pyplot as plt\n",
      "from io import StringIO\n",
      "\n",
      "data = \"\"\"Store_Number  Total_Quantity_Sold  Total_Sales_Value\n",
      "0           3080               1454.0       18044.450005\n",
      "1           4840               1612.0       19127.169971\n",
      "2           2090               1080.0       11617.179888\n",
      "3           4070                932.0        9161.409921\n",
      "4           2640               1005.0       10891.639931\n",
      "5            880               1525.0       17753.769956\n",
      "6           1320               1701.0       19553.789981\n",
      "7           1540               1801.0       21207.689942\n",
      "8           4730                819.0       10571.779962\n",
      "9           1980                893.0        9084.959929\n",
      "10          2750               1462.0       16310.409961\n",
      "11          2420               1370.0       15234.709888\n",
      "12          3410               1345.0       15982.159946\n",
      "13          3300               1859.0       23730.719905\n",
      "14          1650               1770.0       23186.909958\n",
      "15          4180                913.0       10213.819920\n",
      "16           550                764.0        9554.049975\n",
      "17          1100               1712.0       19298.679917\n",
      "18          3190               1003.0       11934.999961\n",
      "19           990               1280.0       15101.459945\n",
      "20          2970               2312.0       31000.569969\n",
      "21          2530                890.0       11139.740003\n",
      "22          4400                225.0        4390.689987\n",
      "23          3740                949.0       10719.049952\n",
      "24          2310               1594.0       16611.539945\n",
      "25          2200               1513.0       16854.439921\n",
      "26          1870               1648.0       17091.849894\n",
      "27          3630               1311.0       14202.299958\n",
      "28           660               1208.0       13041.239901\n",
      "29           770                973.0        9181.769959\n",
      "30           330               1105.0       12569.599911\n",
      "31          1210               1821.0       21021.669984\n",
      "32          1760               1207.0       14598.209948\"\"\"\n",
      "\n",
      "df = pd.read_csv(StringIO(data), sep=\"\\s+\")\n",
      "plt.figure(figsize=(10, 6))\n",
      "plt.bar(df['Store_Number'], df['Total_Sales_Value'])\n",
      "plt.title('Total Sales by Store for November 2021')\n",
      "plt.xlabel('Store Number')\n",
      "plt.ylabel('Total Sales Value ($)')\n",
      "plt.xticks(rotation=45)\n",
      "plt.grid(axis='y')\n",
      "plt.tight_layout()\n",
      "plt.show()\n",
      "```\n",
      "\n",
      "### Observations from the Data:\n",
      "\n",
      "- **Top Performers**: Store 2970 has the highest total sales value ($31,000), followed by Store 3300 and Store 1650, indicating these stores either have higher foot traffic or carry more popular products.\n",
      "- **Low Performers**: Store 4400 has the lowest sales at only $4,390, which might be a concern that requires investigation, such as examining product availability or store location effectiveness.\n",
      "- **Sales Consistency**: There appears to be a wide range in sales performance, suggesting that specific stores might need strategic evaluations to identify what factors contribute to their performance.\n",
      "- **Correlation Between Quantity and Sales Value**: Stores with higher quantities sold generally show higher sales values, but there could be variations in average sales price per unit leading to differing sales values despite similar quantities.\n",
      "\n",
      "These insights can help inform operational decisions, marketing strategies, and inventory management for the coming months.\n"
     ]
    }
   ],
   "source": [
    "print(result)"
   ]
  },
  {
   "cell_type": "code",
   "execution_count": 29,
   "id": "3eafead7-287d-4f0d-9168-b784de6ba676",
   "metadata": {},
   "outputs": [
    {
     "data": {
      "text/markdown": [
       "Here is the Python code for generating a bar graph that shows total sales by store for November 2021:\n",
       "\n",
       "```python\n",
       "import pandas as pd\n",
       "import matplotlib.pyplot as plt\n",
       "from io import StringIO\n",
       "\n",
       "data = \"\"\"Store_Number  Total_Quantity_Sold  Total_Sales_Value\n",
       "0           3080               1454.0       18044.450005\n",
       "1           4840               1612.0       19127.169971\n",
       "2           2090               1080.0       11617.179888\n",
       "3           4070                932.0        9161.409921\n",
       "4           2640               1005.0       10891.639931\n",
       "5            880               1525.0       17753.769956\n",
       "6           1320               1701.0       19553.789981\n",
       "7           1540               1801.0       21207.689942\n",
       "8           4730                819.0       10571.779962\n",
       "9           1980                893.0        9084.959929\n",
       "10          2750               1462.0       16310.409961\n",
       "11          2420               1370.0       15234.709888\n",
       "12          3410               1345.0       15982.159946\n",
       "13          3300               1859.0       23730.719905\n",
       "14          1650               1770.0       23186.909958\n",
       "15          4180                913.0       10213.819920\n",
       "16           550                764.0        9554.049975\n",
       "17          1100               1712.0       19298.679917\n",
       "18          3190               1003.0       11934.999961\n",
       "19           990               1280.0       15101.459945\n",
       "20          2970               2312.0       31000.569969\n",
       "21          2530                890.0       11139.740003\n",
       "22          4400                225.0        4390.689987\n",
       "23          3740                949.0       10719.049952\n",
       "24          2310               1594.0       16611.539945\n",
       "25          2200               1513.0       16854.439921\n",
       "26          1870               1648.0       17091.849894\n",
       "27          3630               1311.0       14202.299958\n",
       "28           660               1208.0       13041.239901\n",
       "29           770                973.0        9181.769959\n",
       "30           330               1105.0       12569.599911\n",
       "31          1210               1821.0       21021.669984\n",
       "32          1760               1207.0       14598.209948\"\"\"\n",
       "\n",
       "df = pd.read_csv(StringIO(data), sep=\"\\s+\")\n",
       "plt.figure(figsize=(10, 6))\n",
       "plt.bar(df['Store_Number'], df['Total_Sales_Value'])\n",
       "plt.title('Total Sales by Store for November 2021')\n",
       "plt.xlabel('Store Number')\n",
       "plt.ylabel('Total Sales Value ($)')\n",
       "plt.xticks(rotation=45)\n",
       "plt.grid(axis='y')\n",
       "plt.tight_layout()\n",
       "plt.show()\n",
       "```\n",
       "\n",
       "### Observations from the Data:\n",
       "\n",
       "- **Top Performers**: Store 2970 has the highest total sales value ($31,000), followed by Store 3300 and Store 1650, indicating these stores either have higher foot traffic or carry more popular products.\n",
       "- **Low Performers**: Store 4400 has the lowest sales at only $4,390, which might be a concern that requires investigation, such as examining product availability or store location effectiveness.\n",
       "- **Sales Consistency**: There appears to be a wide range in sales performance, suggesting that specific stores might need strategic evaluations to identify what factors contribute to their performance.\n",
       "- **Correlation Between Quantity and Sales Value**: Stores with higher quantities sold generally show higher sales values, but there could be variations in average sales price per unit leading to differing sales values despite similar quantities.\n",
       "\n",
       "These insights can help inform operational decisions, marketing strategies, and inventory management for the coming months."
      ],
      "text/plain": [
       "<IPython.core.display.Markdown object>"
      ]
     },
     "execution_count": 29,
     "metadata": {},
     "output_type": "execute_result"
    }
   ],
   "source": [
    "# you can also print a formatted version of the result\n",
    "Markdown(result)"
   ]
  },
  {
   "cell_type": "code",
   "execution_count": null,
   "id": "d0500429-ad39-403a-8cfa-ecf61806e7e0",
   "metadata": {},
   "outputs": [],
   "source": []
  }
 ],
 "metadata": {
  "kernelspec": {
   "display_name": "Python 3 (ipykernel)",
   "language": "python",
   "name": "python3"
  },
  "language_info": {
   "codemirror_mode": {
    "name": "ipython",
    "version": 3
   },
   "file_extension": ".py",
   "mimetype": "text/x-python",
   "name": "python",
   "nbconvert_exporter": "python",
   "pygments_lexer": "ipython3",
   "version": "3.8.20"
  }
 },
 "nbformat": 4,
 "nbformat_minor": 5
}
