{
 "cells": [
  {
   "cell_type": "code",
   "execution_count": 1,
   "id": "68671ea1-8c34-460b-b930-032727b5674b",
   "metadata": {},
   "outputs": [
    {
     "name": "stdout",
     "output_type": "stream",
     "text": [
      "API key set successfully.\n",
      "Hello! How can I assist you today?\n"
     ]
    }
   ],
   "source": [
    "import json\n",
    "import random\n",
    "from helper import set_openai_key, test_openai_api, create_openai_client, print_pretty\n",
    "\n",
    "set_openai_key()\n",
    "\n",
    "test_openai_api()\n",
    "\n",
    "client = create_openai_client()"
   ]
  },
  {
   "cell_type": "code",
   "execution_count": 9,
   "id": "84bfaa67-14da-4f7f-a6c2-bd130fdd6932",
   "metadata": {},
   "outputs": [],
   "source": [
    "class Agent:\n",
    "    \n",
    "    def __init__(self, system_prompt=\"\"):\n",
    "        self.system_prompt = system_prompt\n",
    "        self.messages = []\n",
    "        if self.system_prompt:\n",
    "            self.messages.append({\"role\":\"system\",\"content\":system_prompt})\n",
    "\n",
    "    def __call__(self, message):\n",
    "        # Update message to the agent's messages\n",
    "        self.messages.append({\"role\":\"user\",\"content\":message})\n",
    "        result = self.execute()\n",
    "        # Update LLM response the agent's messages\n",
    "        self.messages.append({\"role\":\"assistant\",\"content\":result})\n",
    "        return result\n",
    "\n",
    "    def execute(self):\n",
    "        completion = client.chat.completions.create(\n",
    "            model=\"gpt-4o\",\n",
    "            temperature=0,\n",
    "            messages=self.messages\n",
    "        )\n",
    "        return completion.choices[0].message.content"
   ]
  },
  {
   "cell_type": "code",
   "execution_count": 10,
   "id": "a0388e60-024f-42c8-a9dc-b36226d2b213",
   "metadata": {},
   "outputs": [],
   "source": [
    "system_prompt = \"\"\"\n",
    "You run in a loop of Thought, Action, PAUSE, Observation.\n",
    "At the end of the loop you output an Answer\n",
    "Use Thought to describe your thoughts about the question you have been asked.\n",
    "Use Action to run one of the actions available to you - then return PAUSE.\n",
    "Observation will be the result of running those actions.\n",
    "\n",
    "Your available actions are:\n",
    "\n",
    "calculate:\n",
    "e.g. calculate: 4 * 7 / 3\n",
    "Runs a calculation and returns the number - uses Python so be sure to use floating point syntax if necessary\n",
    "\n",
    "average_dog_weight:\n",
    "e.g. average_dog_weight: Collie\n",
    "returns average weight of a dog when given the breed\n",
    "\n",
    "Example session:\n",
    "\n",
    "Question: How much does a Bulldog weigh?\n",
    "Thought: I should look the dogs weight using average_dog_weight\n",
    "Action: average_dog_weight: Bulldog\n",
    "PAUSE\n",
    "\n",
    "You will be called again with this:\n",
    "\n",
    "Observation: A Bulldog weights 51 lbs\n",
    "\n",
    "You then output:\n",
    "\n",
    "Answer: A bulldog weights 51 lbs\n",
    "\"\"\".strip()"
   ]
  },
  {
   "cell_type": "code",
   "execution_count": 11,
   "id": "2f60f62a-d2bb-4bf4-8aef-1caa579ea426",
   "metadata": {},
   "outputs": [],
   "source": [
    "def calculate(what):\n",
    "    # Executes the string as Python code and returns the result.\n",
    "    return eval(what)\n",
    "\n",
    "\n",
    "def average_dog_weight(name):\n",
    "    if name in \"Scottish Terrier\": \n",
    "        return(\"Scottish Terriers average 20 lbs\")\n",
    "    elif name in \"Border Collie\":\n",
    "        return(\"a Border Collies average weight is 37 lbs\")\n",
    "    elif name in \"Toy Poodle\":\n",
    "        return(\"a toy poodles average weight is 7 lbs\")\n",
    "    else:\n",
    "        return(\"An average dog weights 50 lbs\")"
   ]
  },
  {
   "cell_type": "code",
   "execution_count": 13,
   "id": "228f6d55-ef57-4d9b-85db-0ffa5fe97f8e",
   "metadata": {},
   "outputs": [],
   "source": [
    "abot = Agent(system_prompt)"
   ]
  },
  {
   "cell_type": "code",
   "execution_count": 14,
   "id": "ca81fa8a-2a92-4494-8757-0f9a322a62ff",
   "metadata": {},
   "outputs": [
    {
     "name": "stdout",
     "output_type": "stream",
     "text": [
      "Thought: I should look up the average weight of a Toy Poodle using the average_dog_weight action.\n",
      "Action: average_dog_weight: Toy Poodle\n",
      "PAUSE\n"
     ]
    }
   ],
   "source": [
    "result = abot(\"How much does a toy poodle weigh?\")\n",
    "print(result)\n"
   ]
  },
  {
   "cell_type": "code",
   "execution_count": 15,
   "id": "f1b76e60-59fd-4b43-ac7f-40977380da52",
   "metadata": {},
   "outputs": [
    {
     "data": {
      "text/plain": [
       "'a toy poodles average weight is 7 lbs'"
      ]
     },
     "execution_count": 15,
     "metadata": {},
     "output_type": "execute_result"
    }
   ],
   "source": [
    "result = average_dog_weight(\"Toy Poodle\")\n",
    "result"
   ]
  },
  {
   "cell_type": "code",
   "execution_count": 16,
   "id": "d6db836a-0be5-45a7-b054-e11d7d4746f3",
   "metadata": {},
   "outputs": [
    {
     "data": {
      "text/plain": [
       "'Observation: a toy poodles average weight is 7 lbs'"
      ]
     },
     "execution_count": 16,
     "metadata": {},
     "output_type": "execute_result"
    }
   ],
   "source": [
    "next_prompt = \"Observation: {}\".format(result)\n",
    "next_prompt"
   ]
  },
  {
   "cell_type": "code",
   "execution_count": 17,
   "id": "e5e5bfb4-4db1-471b-92b8-52160405e18f",
   "metadata": {},
   "outputs": [
    {
     "data": {
      "text/plain": [
       "'Answer: A Toy Poodle weighs an average of 7 lbs.'"
      ]
     },
     "execution_count": 17,
     "metadata": {},
     "output_type": "execute_result"
    }
   ],
   "source": [
    "abot(next_prompt)"
   ]
  },
  {
   "cell_type": "code",
   "execution_count": 18,
   "id": "da85a8c1-c253-4076-9535-836ab78aa890",
   "metadata": {},
   "outputs": [
    {
     "name": "stdout",
     "output_type": "stream",
     "text": [
      "[\n",
      "    {\n",
      "        \"content\": \"You run in a loop of Thought, Action, PAUSE, Observation.\\nAt the end of the loop you output an Answer\\nUse Thought to describe your thoughts about the question you have been asked.\\nUse Action to run one of the actions available to you - then return PAUSE.\\nObservation will be the result of running those actions.\\n\\nYour available actions are:\\n\\ncalculate:\\ne.g. calculate: 4 * 7 / 3\\nRuns a calculation and returns the number - uses Python so be sure to use floating point syntax if necessary\\n\\naverage_dog_weight:\\ne.g. average_dog_weight: Collie\\nreturns average weight of a dog when given the breed\\n\\nExample session:\\n\\nQuestion: How much does a Bulldog weigh?\\nThought: I should look the dogs weight using average_dog_weight\\nAction: average_dog_weight: Bulldog\\nPAUSE\\n\\nYou will be called again with this:\\n\\nObservation: A Bulldog weights 51 lbs\\n\\nYou then output:\\n\\nAnswer: A bulldog weights 51 lbs\",\n",
      "        \"role\": \"system\"\n",
      "    },\n",
      "    {\n",
      "        \"content\": \"How much does a toy poodle weigh?\",\n",
      "        \"role\": \"user\"\n",
      "    },\n",
      "    {\n",
      "        \"content\": \"Thought: I should look up the average weight of a Toy Poodle using the average_dog_weight action.\\nAction: average_dog_weight: Toy Poodle\\nPAUSE\",\n",
      "        \"role\": \"assistant\"\n",
      "    },\n",
      "    {\n",
      "        \"content\": \"Observation: a toy poodles average weight is 7 lbs\",\n",
      "        \"role\": \"user\"\n",
      "    },\n",
      "    {\n",
      "        \"content\": \"Answer: A Toy Poodle weighs an average of 7 lbs.\",\n",
      "        \"role\": \"assistant\"\n",
      "    }\n",
      "]\n"
     ]
    }
   ],
   "source": [
    "print_pretty(abot.messages)"
   ]
  },
  {
   "cell_type": "code",
   "execution_count": 20,
   "id": "a3cbd7ae-c2c7-4606-91f4-cf8953294922",
   "metadata": {},
   "outputs": [],
   "source": [
    "# Re-instantiate\n",
    "abot = Agent(system_prompt)"
   ]
  },
  {
   "cell_type": "code",
   "execution_count": 21,
   "id": "3dd9b574-16e2-45a6-851b-4bebd31ccbcd",
   "metadata": {},
   "outputs": [
    {
     "name": "stdout",
     "output_type": "stream",
     "text": [
      "[\n",
      "    {\n",
      "        \"content\": \"You run in a loop of Thought, Action, PAUSE, Observation.\\nAt the end of the loop you output an Answer\\nUse Thought to describe your thoughts about the question you have been asked.\\nUse Action to run one of the actions available to you - then return PAUSE.\\nObservation will be the result of running those actions.\\n\\nYour available actions are:\\n\\ncalculate:\\ne.g. calculate: 4 * 7 / 3\\nRuns a calculation and returns the number - uses Python so be sure to use floating point syntax if necessary\\n\\naverage_dog_weight:\\ne.g. average_dog_weight: Collie\\nreturns average weight of a dog when given the breed\\n\\nExample session:\\n\\nQuestion: How much does a Bulldog weigh?\\nThought: I should look the dogs weight using average_dog_weight\\nAction: average_dog_weight: Bulldog\\nPAUSE\\n\\nYou will be called again with this:\\n\\nObservation: A Bulldog weights 51 lbs\\n\\nYou then output:\\n\\nAnswer: A bulldog weights 51 lbs\",\n",
      "        \"role\": \"system\"\n",
      "    },\n",
      "    {\n",
      "        \"content\": \"I have 2 dogs, a border collie and a scottish terrier. What is their combined weight\",\n",
      "        \"role\": \"user\"\n",
      "    },\n",
      "    {\n",
      "        \"content\": \"Thought: I need to find the average weight of both a Border Collie and a Scottish Terrier, then add them together to find the combined weight.\\nAction: average_dog_weight: Border Collie\\nPAUSE\",\n",
      "        \"role\": \"assistant\"\n",
      "    }\n",
      "]\n"
     ]
    }
   ],
   "source": [
    "question = \"\"\"I have 2 dogs, a border collie and a scottish terrier. \\\n",
    "What is their combined weight\"\"\"\n",
    "\n",
    "abot(question)\n",
    "\n",
    "print_pretty(abot.messages)"
   ]
  },
  {
   "cell_type": "code",
   "execution_count": 22,
   "id": "f27b0da6-f049-4adf-96e6-63417e9f9bd2",
   "metadata": {},
   "outputs": [
    {
     "name": "stdout",
     "output_type": "stream",
     "text": [
      "Observation: a Border Collies average weight is 37 lbs\n"
     ]
    }
   ],
   "source": [
    "next_prompt = \"Observation: {}\".format(average_dog_weight(\"Border Collie\"))\n",
    "\n",
    "print(next_prompt)"
   ]
  },
  {
   "cell_type": "code",
   "execution_count": 23,
   "id": "a32bdd6e-0d75-42b9-8abe-d173b7c84b0f",
   "metadata": {},
   "outputs": [
    {
     "name": "stdout",
     "output_type": "stream",
     "text": [
      "[\n",
      "    {\n",
      "        \"content\": \"You run in a loop of Thought, Action, PAUSE, Observation.\\nAt the end of the loop you output an Answer\\nUse Thought to describe your thoughts about the question you have been asked.\\nUse Action to run one of the actions available to you - then return PAUSE.\\nObservation will be the result of running those actions.\\n\\nYour available actions are:\\n\\ncalculate:\\ne.g. calculate: 4 * 7 / 3\\nRuns a calculation and returns the number - uses Python so be sure to use floating point syntax if necessary\\n\\naverage_dog_weight:\\ne.g. average_dog_weight: Collie\\nreturns average weight of a dog when given the breed\\n\\nExample session:\\n\\nQuestion: How much does a Bulldog weigh?\\nThought: I should look the dogs weight using average_dog_weight\\nAction: average_dog_weight: Bulldog\\nPAUSE\\n\\nYou will be called again with this:\\n\\nObservation: A Bulldog weights 51 lbs\\n\\nYou then output:\\n\\nAnswer: A bulldog weights 51 lbs\",\n",
      "        \"role\": \"system\"\n",
      "    },\n",
      "    {\n",
      "        \"content\": \"I have 2 dogs, a border collie and a scottish terrier. What is their combined weight\",\n",
      "        \"role\": \"user\"\n",
      "    },\n",
      "    {\n",
      "        \"content\": \"Thought: I need to find the average weight of both a Border Collie and a Scottish Terrier, then add them together to find the combined weight.\\nAction: average_dog_weight: Border Collie\\nPAUSE\",\n",
      "        \"role\": \"assistant\"\n",
      "    },\n",
      "    {\n",
      "        \"content\": \"Observation: a Border Collies average weight is 37 lbs\",\n",
      "        \"role\": \"user\"\n",
      "    },\n",
      "    {\n",
      "        \"content\": \"Action: average_dog_weight: Scottish Terrier\\nPAUSE\",\n",
      "        \"role\": \"assistant\"\n",
      "    }\n",
      "]\n"
     ]
    }
   ],
   "source": [
    "abot(next_prompt)\n",
    "\n",
    "print_pretty(abot.messages)"
   ]
  },
  {
   "cell_type": "code",
   "execution_count": 24,
   "id": "c2d57a53-4d12-4acb-bcf1-41b0e080ac61",
   "metadata": {},
   "outputs": [
    {
     "name": "stdout",
     "output_type": "stream",
     "text": [
      "Observation: Scottish Terriers average 20 lbs\n"
     ]
    }
   ],
   "source": [
    "next_prompt = \"Observation: {}\".format(average_dog_weight(\"Scottish Terrier\"))\n",
    "\n",
    "print(next_prompt)"
   ]
  },
  {
   "cell_type": "code",
   "execution_count": 25,
   "id": "2feba7b0-f5de-4200-aa77-3bce8c68d6ca",
   "metadata": {},
   "outputs": [
    {
     "name": "stdout",
     "output_type": "stream",
     "text": [
      "[\n",
      "    {\n",
      "        \"content\": \"You run in a loop of Thought, Action, PAUSE, Observation.\\nAt the end of the loop you output an Answer\\nUse Thought to describe your thoughts about the question you have been asked.\\nUse Action to run one of the actions available to you - then return PAUSE.\\nObservation will be the result of running those actions.\\n\\nYour available actions are:\\n\\ncalculate:\\ne.g. calculate: 4 * 7 / 3\\nRuns a calculation and returns the number - uses Python so be sure to use floating point syntax if necessary\\n\\naverage_dog_weight:\\ne.g. average_dog_weight: Collie\\nreturns average weight of a dog when given the breed\\n\\nExample session:\\n\\nQuestion: How much does a Bulldog weigh?\\nThought: I should look the dogs weight using average_dog_weight\\nAction: average_dog_weight: Bulldog\\nPAUSE\\n\\nYou will be called again with this:\\n\\nObservation: A Bulldog weights 51 lbs\\n\\nYou then output:\\n\\nAnswer: A bulldog weights 51 lbs\",\n",
      "        \"role\": \"system\"\n",
      "    },\n",
      "    {\n",
      "        \"content\": \"I have 2 dogs, a border collie and a scottish terrier. What is their combined weight\",\n",
      "        \"role\": \"user\"\n",
      "    },\n",
      "    {\n",
      "        \"content\": \"Thought: I need to find the average weight of both a Border Collie and a Scottish Terrier, then add them together to find the combined weight.\\nAction: average_dog_weight: Border Collie\\nPAUSE\",\n",
      "        \"role\": \"assistant\"\n",
      "    },\n",
      "    {\n",
      "        \"content\": \"Observation: a Border Collies average weight is 37 lbs\",\n",
      "        \"role\": \"user\"\n",
      "    },\n",
      "    {\n",
      "        \"content\": \"Action: average_dog_weight: Scottish Terrier\\nPAUSE\",\n",
      "        \"role\": \"assistant\"\n",
      "    },\n",
      "    {\n",
      "        \"content\": \"Observation: Scottish Terriers average 20 lbs\",\n",
      "        \"role\": \"user\"\n",
      "    },\n",
      "    {\n",
      "        \"content\": \"Thought: Now that I have the average weights of both the Border Collie and the Scottish Terrier, I can calculate their combined weight.\\nAction: calculate: 37 + 20\\nPAUSE\",\n",
      "        \"role\": \"assistant\"\n",
      "    }\n",
      "]\n"
     ]
    }
   ],
   "source": [
    "abot(next_prompt)\n",
    "\n",
    "print_pretty(abot.messages)"
   ]
  },
  {
   "cell_type": "code",
   "execution_count": 26,
   "id": "d547ad74-ec5b-447c-8985-bad7776f04c1",
   "metadata": {},
   "outputs": [
    {
     "name": "stdout",
     "output_type": "stream",
     "text": [
      "Observation: 57\n"
     ]
    }
   ],
   "source": [
    "next_prompt = \"Observation: {}\".format(eval(\"37 + 20\"))\n",
    "print(next_prompt)"
   ]
  },
  {
   "cell_type": "code",
   "execution_count": 27,
   "id": "25472b0c-e2a6-4af7-98e7-4198d2745b6f",
   "metadata": {},
   "outputs": [
    {
     "name": "stdout",
     "output_type": "stream",
     "text": [
      "[\n",
      "    {\n",
      "        \"content\": \"You run in a loop of Thought, Action, PAUSE, Observation.\\nAt the end of the loop you output an Answer\\nUse Thought to describe your thoughts about the question you have been asked.\\nUse Action to run one of the actions available to you - then return PAUSE.\\nObservation will be the result of running those actions.\\n\\nYour available actions are:\\n\\ncalculate:\\ne.g. calculate: 4 * 7 / 3\\nRuns a calculation and returns the number - uses Python so be sure to use floating point syntax if necessary\\n\\naverage_dog_weight:\\ne.g. average_dog_weight: Collie\\nreturns average weight of a dog when given the breed\\n\\nExample session:\\n\\nQuestion: How much does a Bulldog weigh?\\nThought: I should look the dogs weight using average_dog_weight\\nAction: average_dog_weight: Bulldog\\nPAUSE\\n\\nYou will be called again with this:\\n\\nObservation: A Bulldog weights 51 lbs\\n\\nYou then output:\\n\\nAnswer: A bulldog weights 51 lbs\",\n",
      "        \"role\": \"system\"\n",
      "    },\n",
      "    {\n",
      "        \"content\": \"I have 2 dogs, a border collie and a scottish terrier. What is their combined weight\",\n",
      "        \"role\": \"user\"\n",
      "    },\n",
      "    {\n",
      "        \"content\": \"Thought: I need to find the average weight of both a Border Collie and a Scottish Terrier, then add them together to find the combined weight.\\nAction: average_dog_weight: Border Collie\\nPAUSE\",\n",
      "        \"role\": \"assistant\"\n",
      "    },\n",
      "    {\n",
      "        \"content\": \"Observation: a Border Collies average weight is 37 lbs\",\n",
      "        \"role\": \"user\"\n",
      "    },\n",
      "    {\n",
      "        \"content\": \"Action: average_dog_weight: Scottish Terrier\\nPAUSE\",\n",
      "        \"role\": \"assistant\"\n",
      "    },\n",
      "    {\n",
      "        \"content\": \"Observation: Scottish Terriers average 20 lbs\",\n",
      "        \"role\": \"user\"\n",
      "    },\n",
      "    {\n",
      "        \"content\": \"Thought: Now that I have the average weights of both the Border Collie and the Scottish Terrier, I can calculate their combined weight.\\nAction: calculate: 37 + 20\\nPAUSE\",\n",
      "        \"role\": \"assistant\"\n",
      "    },\n",
      "    {\n",
      "        \"content\": \"Observation: 57\",\n",
      "        \"role\": \"user\"\n",
      "    },\n",
      "    {\n",
      "        \"content\": \"Answer: The combined average weight of a Border Collie and a Scottish Terrier is 57 lbs.\",\n",
      "        \"role\": \"assistant\"\n",
      "    }\n",
      "]\n"
     ]
    }
   ],
   "source": [
    "abot(next_prompt)\n",
    "\n",
    "print_pretty(abot.messages)"
   ]
  },
  {
   "cell_type": "markdown",
   "id": "fd651533-22e3-4820-ae00-04fd8708e6d8",
   "metadata": {},
   "source": [
    "### Add loop"
   ]
  },
  {
   "cell_type": "code",
   "execution_count": 29,
   "id": "831f25b7-4633-4030-bd72-b89453ae805b",
   "metadata": {},
   "outputs": [],
   "source": [
    "import re\n",
    "action_re = re.compile('^Action: (\\w+): (.*)$')   # python regular expression to selection action"
   ]
  },
  {
   "cell_type": "code",
   "execution_count": 34,
   "id": "2ecf3938-0cf5-486e-b52e-b47c53f5b982",
   "metadata": {},
   "outputs": [],
   "source": [
    "known_actions = {\n",
    "    \"calculate\": calculate,\n",
    "    \"average_dog_weight\": average_dog_weight\n",
    "}"
   ]
  },
  {
   "cell_type": "code",
   "execution_count": 42,
   "id": "02a1d6d5-0458-4d11-8626-8ec88adf75a9",
   "metadata": {},
   "outputs": [],
   "source": [
    "def query(question, max_turns=5):\n",
    "    \"\"\"\n",
    "    Handles a conversational loop with an AI agent, allowing it to respond and take actions.\n",
    "\n",
    "    Args:\n",
    "        question (str): The initial user query to start the conversation.\n",
    "        max_turns (int, optional): The maximum number of interactions allowed. Default is 5.\n",
    "\n",
    "    Returns:\n",
    "        None or exits when no further actions are needed.\n",
    "    \"\"\"\n",
    "    i = 0  # Counter for conversation turns\n",
    "    bot = Agent(system_prompt)  # Initialize the agent with a system prompt\n",
    "    next_prompt = question  # Set the initial prompt to the user's question\n",
    "\n",
    "    # This loop will stop if exceed the max_turns or no action call\n",
    "    while i < max_turns:\n",
    "        i += 1  # Increment turn counter\n",
    "        result = bot(next_prompt)  # Get response from the AI agent\n",
    "        print(result)  # Print the response\n",
    "\n",
    "        # Extract any action commands from the response\n",
    "        actions = [\n",
    "            action_re.match(a) \n",
    "            for a in result.split('\\n')  # Split response into lines\n",
    "            if action_re.match(a)  # Check if the line matches an action pattern\n",
    "        ]\n",
    "        \n",
    "        if actions:\n",
    "            # If an action is detected, extract the action name and input\n",
    "            action, action_input = actions[0].groups()\n",
    "\n",
    "            # Validate if the action is known\n",
    "            if action not in known_actions:\n",
    "                raise Exception(\"Unknown action: {}: {}\".format(action, action_input))\n",
    "\n",
    "            # Execute the action and print the observation\n",
    "            print(\" -- running action={}, action_input={}\".format(action, action_input))\n",
    "            observation = known_actions[action](action_input)\n",
    "            print(\"Observation:\", observation)\n",
    "\n",
    "            # Update the next prompt with the action result\n",
    "            next_prompt = \"Observation: {}\".format(observation)\n",
    "            \n",
    "        else:\n",
    "            # If no actions are detected, exit the loop\n",
    "            return\n"
   ]
  },
  {
   "cell_type": "code",
   "execution_count": 43,
   "id": "70625744-d702-410a-af0b-f1d49de0ccd5",
   "metadata": {},
   "outputs": [
    {
     "name": "stdout",
     "output_type": "stream",
     "text": [
      "Thought: I need to find the average weight of both a Border Collie and a Scottish Terrier, then add them together to find the combined weight.\n",
      "Action: average_dog_weight: Border Collie\n",
      "PAUSE\n",
      " -- running action=average_dog_weight, action_input=Border Collie\n",
      "Observation: a Border Collies average weight is 37 lbs\n",
      "\n",
      "Action: average_dog_weight: Scottish Terrier\n",
      "PAUSE\n",
      " -- running action=average_dog_weight, action_input=Scottish Terrier\n",
      "Observation: Scottish Terriers average 20 lbs\n",
      "\n",
      "Thought: Now that I have the average weights of both the Border Collie and the Scottish Terrier, I can calculate their combined weight.\n",
      "Action: calculate: 37 + 20\n",
      "PAUSE\n",
      " -- running action=calculate, action_input=37 + 20\n",
      "Observation: 57\n",
      "\n",
      "Answer: The combined weight of a Border Collie and a Scottish Terrier is 57 lbs.\n"
     ]
    }
   ],
   "source": [
    "question = \"\"\"I have 2 dogs, a border collie and a scottish terrier. \\\n",
    "What is their combined weight\"\"\"\n",
    "query(question)"
   ]
  },
  {
   "cell_type": "code",
   "execution_count": null,
   "id": "4046438a-5485-4e96-b820-fe019620ef90",
   "metadata": {},
   "outputs": [],
   "source": []
  }
 ],
 "metadata": {
  "kernelspec": {
   "display_name": "Python 3 (ipykernel)",
   "language": "python",
   "name": "python3"
  },
  "language_info": {
   "codemirror_mode": {
    "name": "ipython",
    "version": 3
   },
   "file_extension": ".py",
   "mimetype": "text/x-python",
   "name": "python",
   "nbconvert_exporter": "python",
   "pygments_lexer": "ipython3",
   "version": "3.8.20"
  }
 },
 "nbformat": 4,
 "nbformat_minor": 5
}
