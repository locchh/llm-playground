{
 "cells": [
  {
   "cell_type": "code",
   "execution_count": 1,
   "id": "4c35ad18-18e5-4167-a2ab-5a137fda863b",
   "metadata": {},
   "outputs": [],
   "source": [
    "import json\n",
    "import random\n",
    "from helper import set_openai_key, test_openai_api, create_openai_client, print_pretty"
   ]
  },
  {
   "cell_type": "code",
   "execution_count": 2,
   "id": "943bed29-69b7-49a0-9dd5-7e13ff1d4553",
   "metadata": {},
   "outputs": [
    {
     "name": "stdout",
     "output_type": "stream",
     "text": [
      "API key set successfully.\n",
      "Hi there! How can I assist you today?\n"
     ]
    }
   ],
   "source": [
    "set_openai_key()\n",
    "\n",
    "test_openai_api()\n",
    "\n",
    "client = create_openai_client()"
   ]
  },
  {
   "cell_type": "markdown",
   "id": "67bae4b2-d5f2-4de0-9005-15947ed71026",
   "metadata": {},
   "source": [
    "## Function Calling\n",
    "\n",
    "![img](https://cdn.openai.com/API/docs/images/function-calling-diagram-steps.png)"
   ]
  },
  {
   "cell_type": "markdown",
   "id": "90ab7125-aa48-4ef8-ba6f-921b0f27d874",
   "metadata": {},
   "source": [
    "### Get weather"
   ]
  },
  {
   "cell_type": "code",
   "execution_count": 3,
   "id": "ed7cd9cf-0a70-424b-a63c-d0474103a45d",
   "metadata": {},
   "outputs": [
    {
     "name": "stdout",
     "output_type": "stream",
     "text": [
      "ChatCompletion(id='chatcmpl-B4lPrR9UrAfSD4TPr2xPu6l1c3JUt', choices=[Choice(finish_reason='function_call', index=0, logprobs=None, message=ChatCompletionMessage(content=None, refusal=None, role='assistant', audio=None, function_call=FunctionCall(arguments='{\"location\":\"Boston, MA\",\"unit\":\"fahrenheit\"}', name='get_current_weather'), tool_calls=None))], created=1740475279, model='gpt-4-turbo-2024-04-09', object='chat.completion', service_tier='default', system_fingerprint='fp_bf9cb2c77f', usage=CompletionUsage(completion_tokens=23, prompt_tokens=86, total_tokens=109, completion_tokens_details=CompletionTokensDetails(accepted_prediction_tokens=0, audio_tokens=0, reasoning_tokens=0, rejected_prediction_tokens=0), prompt_tokens_details=PromptTokensDetails(audio_tokens=0, cached_tokens=0)))\n"
     ]
    }
   ],
   "source": [
    "messages = [{\"role\": \"user\", \"content\": \"What is the weather like in Boston?\"}]\n",
    "\n",
    "functions = [\n",
    "    {\n",
    "        \"name\": \"get_current_weather\",\n",
    "        \"description\": \"Get the current weather in a given location\",\n",
    "        \"parameters\": {\n",
    "            \"type\": \"object\",\n",
    "            \"properties\": {\n",
    "                \"location\": {\n",
    "                    \"type\": \"string\",\n",
    "                    \"description\": \"The city and state, e.g., San Francisco, CA\"\n",
    "                },\n",
    "                \"unit\": {\n",
    "                    \"type\": \"string\",\n",
    "                    \"enum\": [\"celsius\", \"fahrenheit\"],\n",
    "                    \"description\": \"Temperature unit\"\n",
    "                }\n",
    "            },\n",
    "            \"required\": [\"location\"]\n",
    "        }\n",
    "    }\n",
    "]\n",
    "\n",
    "response = client.chat.completions.create(\n",
    "    model=\"gpt-4-turbo\",\n",
    "    messages=messages,\n",
    "    temperature=0,\n",
    "    functions=functions,\n",
    "    function_call=\"auto\"  # Ensures function calling is automatically handled\n",
    ")\n",
    "\n",
    "print(response)\n"
   ]
  },
  {
   "cell_type": "code",
   "execution_count": 4,
   "id": "f24d2ae8-1da3-4080-9a99-0f6a0fe45fb2",
   "metadata": {},
   "outputs": [
    {
     "name": "stdout",
     "output_type": "stream",
     "text": [
      "{\n",
      "    \"choices\": [\n",
      "        {\n",
      "            \"finish_reason\": \"function_call\",\n",
      "            \"index\": 0,\n",
      "            \"logprobs\": null,\n",
      "            \"message\": {\n",
      "                \"audio\": null,\n",
      "                \"content\": null,\n",
      "                \"function_call\": {\n",
      "                    \"arguments\": \"{\\\"location\\\":\\\"Boston, MA\\\",\\\"unit\\\":\\\"fahrenheit\\\"}\",\n",
      "                    \"name\": \"get_current_weather\"\n",
      "                },\n",
      "                \"refusal\": null,\n",
      "                \"role\": \"assistant\",\n",
      "                \"tool_calls\": null\n",
      "            }\n",
      "        }\n",
      "    ],\n",
      "    \"created\": 1740475279,\n",
      "    \"id\": \"chatcmpl-B4lPrR9UrAfSD4TPr2xPu6l1c3JUt\",\n",
      "    \"model\": \"gpt-4-turbo-2024-04-09\",\n",
      "    \"object\": \"chat.completion\",\n",
      "    \"service_tier\": \"default\",\n",
      "    \"system_fingerprint\": \"fp_bf9cb2c77f\",\n",
      "    \"usage\": {\n",
      "        \"completion_tokens\": 23,\n",
      "        \"completion_tokens_details\": {\n",
      "            \"accepted_prediction_tokens\": 0,\n",
      "            \"audio_tokens\": 0,\n",
      "            \"reasoning_tokens\": 0,\n",
      "            \"rejected_prediction_tokens\": 0\n",
      "        },\n",
      "        \"prompt_tokens\": 86,\n",
      "        \"prompt_tokens_details\": {\n",
      "            \"audio_tokens\": 0,\n",
      "            \"cached_tokens\": 0\n",
      "        },\n",
      "        \"total_tokens\": 109\n",
      "    }\n",
      "}\n"
     ]
    }
   ],
   "source": [
    "print_pretty(response.dict())"
   ]
  },
  {
   "cell_type": "code",
   "execution_count": 5,
   "id": "56713773-abb4-4a13-a924-d1a4ed41e7e4",
   "metadata": {},
   "outputs": [],
   "source": [
    "# Let define function in local\n",
    "def get_current_weather(location, unit=\"fahrenheit\"):\n",
    "    \"\"\"Simulates fetching current weather for a given location.\"\"\"\n",
    "    conditions = [\"Sunny\", \"Cloudy\", \"Rainy\", \"Stormy\", \"Snowy\"]\n",
    "    temperature = random.randint(-10, 100) if unit == \"fahrenheit\" else round((random.randint(-10, 100) - 32) * 5/9, 1)\n",
    "    \n",
    "    return {\n",
    "        \"location\": location,\n",
    "        \"temperature\": str(temperature),\n",
    "        \"unit\": unit,\n",
    "        \"condition\": random.choice(conditions)\n",
    "    }"
   ]
  },
  {
   "cell_type": "code",
   "execution_count": 6,
   "id": "626b3e6f-9ac3-4c6a-a081-616a6682972b",
   "metadata": {},
   "outputs": [
    {
     "name": "stdout",
     "output_type": "stream",
     "text": [
      "name: get_current_weather\n",
      "arguments: {'location': 'Boston, MA', 'unit': 'fahrenheit'}\n",
      "{\n",
      "    \"choices\": [\n",
      "        {\n",
      "            \"finish_reason\": \"stop\",\n",
      "            \"index\": 0,\n",
      "            \"logprobs\": null,\n",
      "            \"message\": {\n",
      "                \"audio\": null,\n",
      "                \"content\": \"The current weather in Boston, MA is rainy with a temperature of -1\\u00b0F.\",\n",
      "                \"function_call\": null,\n",
      "                \"refusal\": null,\n",
      "                \"role\": \"assistant\",\n",
      "                \"tool_calls\": null\n",
      "            }\n",
      "        }\n",
      "    ],\n",
      "    \"created\": 1740475286,\n",
      "    \"id\": \"chatcmpl-B4lPyCdbcNsHayy7hPOTy4NJ6NlHQ\",\n",
      "    \"model\": \"gpt-4-turbo-2024-04-09\",\n",
      "    \"object\": \"chat.completion\",\n",
      "    \"service_tier\": \"default\",\n",
      "    \"system_fingerprint\": \"fp_bf9cb2c77f\",\n",
      "    \"usage\": {\n",
      "        \"completion_tokens\": 18,\n",
      "        \"completion_tokens_details\": {\n",
      "            \"accepted_prediction_tokens\": 0,\n",
      "            \"audio_tokens\": 0,\n",
      "            \"reasoning_tokens\": 0,\n",
      "            \"rejected_prediction_tokens\": 0\n",
      "        },\n",
      "        \"prompt_tokens\": 49,\n",
      "        \"prompt_tokens_details\": {\n",
      "            \"audio_tokens\": 0,\n",
      "            \"cached_tokens\": 0\n",
      "        },\n",
      "        \"total_tokens\": 67\n",
      "    }\n",
      "}\n"
     ]
    }
   ],
   "source": [
    "assistant_message = response.choices[0].message.dict()\n",
    "\n",
    "if assistant_message.get(\"function_call\"):\n",
    "\n",
    "    function_name = assistant_message[\"function_call\"][\"name\"]\n",
    "\n",
    "    print(\"name:\",function_name)\n",
    "    \n",
    "    function_args = json.loads(assistant_message[\"function_call\"][\"arguments\"])\n",
    "\n",
    "    print(\"arguments:\",function_args)\n",
    "\n",
    "    if function_name == \"get_current_weather\":\n",
    "        \n",
    "        function_response = get_current_weather(**function_args)\n",
    "\n",
    "        messages.append({\"role\": \"function\", \"name\": function_name, \"content\": json.dumps(function_response)})\n",
    "        \n",
    "        final_response = client.chat.completions.create(\n",
    "            model=\"gpt-4-turbo\",\n",
    "            messages=messages,\n",
    "            temperature=0\n",
    "        )\n",
    "        \n",
    "        print_pretty(final_response.dict())\n",
    "    "
   ]
  },
  {
   "cell_type": "code",
   "execution_count": 7,
   "id": "1bc0289e-da13-404f-8855-4b0d5a06b749",
   "metadata": {},
   "outputs": [
    {
     "name": "stdout",
     "output_type": "stream",
     "text": [
      "The current weather in Boston, MA is rainy with a temperature of -1°F.\n"
     ]
    }
   ],
   "source": [
    "print(final_response.choices[0].message.content)"
   ]
  },
  {
   "cell_type": "markdown",
   "id": "e49dc835-fb08-4958-b32f-3ef81ab7fab6",
   "metadata": {},
   "source": [
    "### Send email\n",
    "\n",
    "**Tool choice**\n",
    "\n",
    "By default the model will determine when and how many tools to use. You can force specific behavior with the tool_choice parameter.\n",
    "\n",
    "- Auto: (Default) Call zero, one, or multiple functions. `tool_choice: \"auto\"`\n",
    "\n",
    "- Required: Call one or more functions. `tool_choice: \"required\"`\n",
    "\n",
    "- Forced Function: Call exactly one specific function. `tool_choice: {\"type\": \"function\", \"function\": {\"name\": \"get_weather\"}}`\n"
   ]
  },
  {
   "cell_type": "code",
   "execution_count": 8,
   "id": "c0d4ffda-c415-4da5-a9c9-d91f9066d844",
   "metadata": {},
   "outputs": [],
   "source": [
    "messages=[{\"role\": \"user\", \"content\": \"Can you send an email to ilan@example.com and katia@example.com saying hi?\"}]"
   ]
  },
  {
   "cell_type": "code",
   "execution_count": 9,
   "id": "ba1e8218-4bd2-49af-b3a7-37039af5fda9",
   "metadata": {},
   "outputs": [],
   "source": [
    "tools = [\n",
    "    {\n",
    "        \"type\": \"function\",\n",
    "        \"function\": {\n",
    "            \"name\": \"send_email\",\n",
    "            \"description\": \"Send an email to a given recipient with a subject and message.\",\n",
    "            \"parameters\": {\n",
    "                \"type\": \"object\",\n",
    "                \"properties\": {\n",
    "                    \"to\": {\n",
    "                        \"type\": \"string\",\n",
    "                        \"description\": \"The recipient email address.\"\n",
    "                    },\n",
    "                    \"subject\": {\n",
    "                        \"type\": \"string\",\n",
    "                        \"description\": \"Email subject line.\"\n",
    "                    },\n",
    "                    \"body\": {\n",
    "                        \"type\": \"string\",\n",
    "                        \"description\": \"Body of the email message.\"\n",
    "                    }\n",
    "                },\n",
    "                \"required\": [\n",
    "                    \"to\",\n",
    "                    \"subject\",\n",
    "                    \"body\"\n",
    "                ],\n",
    "                \"additionalProperties\": False\n",
    "            },\n",
    "            \"strict\": True\n",
    "        }\n",
    "    }\n",
    "]"
   ]
  },
  {
   "cell_type": "code",
   "execution_count": 10,
   "id": "693e74ad-6a50-4bd9-b15c-646901ff6853",
   "metadata": {},
   "outputs": [
    {
     "name": "stdout",
     "output_type": "stream",
     "text": [
      "{\n",
      "    \"choices\": [\n",
      "        {\n",
      "            \"finish_reason\": \"tool_calls\",\n",
      "            \"index\": 0,\n",
      "            \"logprobs\": null,\n",
      "            \"message\": {\n",
      "                \"audio\": null,\n",
      "                \"content\": null,\n",
      "                \"function_call\": null,\n",
      "                \"refusal\": null,\n",
      "                \"role\": \"assistant\",\n",
      "                \"tool_calls\": [\n",
      "                    {\n",
      "                        \"function\": {\n",
      "                            \"arguments\": \"{\\\"to\\\": \\\"ilan@example.com\\\", \\\"subject\\\": \\\"Hello!\\\", \\\"body\\\": \\\"Hi Ilan,\\\\n\\\\nJust wanted to say hi!\\\\n\\\\nBest regards,\\\"}\",\n",
      "                            \"name\": \"send_email\"\n",
      "                        },\n",
      "                        \"id\": \"call_Rhw2bfEEYRBGFKp8FR9lZk6j\",\n",
      "                        \"type\": \"function\"\n",
      "                    },\n",
      "                    {\n",
      "                        \"function\": {\n",
      "                            \"arguments\": \"{\\\"to\\\": \\\"katia@example.com\\\", \\\"subject\\\": \\\"Hello!\\\", \\\"body\\\": \\\"Hi Katia,\\\\n\\\\nJust wanted to say hi!\\\\n\\\\nBest regards,\\\"}\",\n",
      "                            \"name\": \"send_email\"\n",
      "                        },\n",
      "                        \"id\": \"call_to4S05VzWKSScBqHgYMSHb84\",\n",
      "                        \"type\": \"function\"\n",
      "                    }\n",
      "                ]\n",
      "            }\n",
      "        }\n",
      "    ],\n",
      "    \"created\": 1740475295,\n",
      "    \"id\": \"chatcmpl-B4lQ7pKRuE1F0j0yk25ZabaAihzbe\",\n",
      "    \"model\": \"gpt-4o-2024-08-06\",\n",
      "    \"object\": \"chat.completion\",\n",
      "    \"service_tier\": \"default\",\n",
      "    \"system_fingerprint\": \"fp_eb9dce56a8\",\n",
      "    \"usage\": {\n",
      "        \"completion_tokens\": 100,\n",
      "        \"completion_tokens_details\": {\n",
      "            \"accepted_prediction_tokens\": 0,\n",
      "            \"audio_tokens\": 0,\n",
      "            \"reasoning_tokens\": 0,\n",
      "            \"rejected_prediction_tokens\": 0\n",
      "        },\n",
      "        \"prompt_tokens\": 91,\n",
      "        \"prompt_tokens_details\": {\n",
      "            \"audio_tokens\": 0,\n",
      "            \"cached_tokens\": 0\n",
      "        },\n",
      "        \"total_tokens\": 191\n",
      "    }\n",
      "}\n"
     ]
    }
   ],
   "source": [
    "response = client.chat.completions.create(\n",
    "    model=\"gpt-4o\",\n",
    "    messages=messages,\n",
    "    tools=tools\n",
    ")\n",
    "\n",
    "print_pretty(response.dict())"
   ]
  },
  {
   "cell_type": "code",
   "execution_count": 11,
   "id": "f5a8ede6-62c8-435b-a965-ddab09948abc",
   "metadata": {},
   "outputs": [],
   "source": [
    "def send_email(name, args):\n",
    "    \"\"\"\n",
    "    Mock function to simulate sending an email.\n",
    "    Prints the email details for testing purposes.\n",
    "    \"\"\"\n",
    "    print(f\"Function: {name}\")\n",
    "    print(f\"Sending email to: {args['to']}\")\n",
    "    print(f\"Subject: {args['subject']}\")\n",
    "    print(f\"Body: {args['body']}\")\n",
    "    \n",
    "    # Simulate success response\n",
    "    return json.dumps({\"status\": \"success\", \"message\": \"Email sent successfully.\"})"
   ]
  },
  {
   "cell_type": "code",
   "execution_count": 12,
   "id": "eb0d6775-d975-4363-918b-beff90554f2a",
   "metadata": {},
   "outputs": [
    {
     "name": "stdout",
     "output_type": "stream",
     "text": [
      "send_email {'to': 'ilan@example.com', 'subject': 'Hello!', 'body': 'Hi Ilan,\\n\\nJust wanted to say hi!\\n\\nBest regards,'}\n",
      "Function: send_email\n",
      "Sending email to: ilan@example.com\n",
      "Subject: Hello!\n",
      "Body: Hi Ilan,\n",
      "\n",
      "Just wanted to say hi!\n",
      "\n",
      "Best regards,\n",
      "send_email {'to': 'katia@example.com', 'subject': 'Hello!', 'body': 'Hi Katia,\\n\\nJust wanted to say hi!\\n\\nBest regards,'}\n",
      "Function: send_email\n",
      "Sending email to: katia@example.com\n",
      "Subject: Hello!\n",
      "Body: Hi Katia,\n",
      "\n",
      "Just wanted to say hi!\n",
      "\n",
      "Best regards,\n"
     ]
    }
   ],
   "source": [
    "for tool_call in response.choices[0].message.tool_calls:\n",
    "    name = tool_call.function.name\n",
    "    args = json.loads(tool_call.function.arguments)\n",
    "    print(name,args)\n",
    "    result = send_email(name, args)\n",
    "\n",
    "    # Append assistant's tool call response\n",
    "    messages.append({\n",
    "        \"role\": \"assistant\",\n",
    "        \"content\": None,\n",
    "        \"tool_calls\": [\n",
    "            {\n",
    "                \"id\": tool_call.id,\n",
    "                \"type\": \"function\",\n",
    "                \"function\": {\n",
    "                    \"name\": name,\n",
    "                    \"arguments\": json.dumps(args)\n",
    "                }\n",
    "            }\n",
    "        ]\n",
    "    })\n",
    "\n",
    "    # # Append tool response correctly\n",
    "    messages.append({\n",
    "        \"role\": \"tool\",\n",
    "        \"tool_call_id\": tool_call.id,\n",
    "        \"content\": result\n",
    "    })"
   ]
  },
  {
   "cell_type": "code",
   "execution_count": 13,
   "id": "1aff0ffc-e423-4d57-a038-ebd11112b378",
   "metadata": {},
   "outputs": [
    {
     "data": {
      "text/plain": [
       "[{'role': 'user',\n",
       "  'content': 'Can you send an email to ilan@example.com and katia@example.com saying hi?'},\n",
       " {'role': 'assistant',\n",
       "  'content': None,\n",
       "  'tool_calls': [{'id': 'call_Rhw2bfEEYRBGFKp8FR9lZk6j',\n",
       "    'type': 'function',\n",
       "    'function': {'name': 'send_email',\n",
       "     'arguments': '{\"to\": \"ilan@example.com\", \"subject\": \"Hello!\", \"body\": \"Hi Ilan,\\\\n\\\\nJust wanted to say hi!\\\\n\\\\nBest regards,\"}'}}]},\n",
       " {'role': 'tool',\n",
       "  'tool_call_id': 'call_Rhw2bfEEYRBGFKp8FR9lZk6j',\n",
       "  'content': '{\"status\": \"success\", \"message\": \"Email sent successfully.\"}'},\n",
       " {'role': 'assistant',\n",
       "  'content': None,\n",
       "  'tool_calls': [{'id': 'call_to4S05VzWKSScBqHgYMSHb84',\n",
       "    'type': 'function',\n",
       "    'function': {'name': 'send_email',\n",
       "     'arguments': '{\"to\": \"katia@example.com\", \"subject\": \"Hello!\", \"body\": \"Hi Katia,\\\\n\\\\nJust wanted to say hi!\\\\n\\\\nBest regards,\"}'}}]},\n",
       " {'role': 'tool',\n",
       "  'tool_call_id': 'call_to4S05VzWKSScBqHgYMSHb84',\n",
       "  'content': '{\"status\": \"success\", \"message\": \"Email sent successfully.\"}'}]"
      ]
     },
     "execution_count": 13,
     "metadata": {},
     "output_type": "execute_result"
    }
   ],
   "source": [
    "messages"
   ]
  },
  {
   "cell_type": "code",
   "execution_count": 14,
   "id": "0f55bfcf-0b66-478f-bc07-fe22261b86cf",
   "metadata": {},
   "outputs": [
    {
     "name": "stdout",
     "output_type": "stream",
     "text": [
      "{\n",
      "    \"choices\": [\n",
      "        {\n",
      "            \"finish_reason\": \"stop\",\n",
      "            \"index\": 0,\n",
      "            \"logprobs\": null,\n",
      "            \"message\": {\n",
      "                \"audio\": null,\n",
      "                \"content\": \"I've sent the emails to both Ilan and Katia saying hi! If there's anything else you need, feel free to ask.\",\n",
      "                \"function_call\": null,\n",
      "                \"refusal\": null,\n",
      "                \"role\": \"assistant\",\n",
      "                \"tool_calls\": null\n",
      "            }\n",
      "        }\n",
      "    ],\n",
      "    \"created\": 1740475302,\n",
      "    \"id\": \"chatcmpl-B4lQEO3alY6HbEspRMKfkOnbwFCqZ\",\n",
      "    \"model\": \"gpt-4o-2024-08-06\",\n",
      "    \"object\": \"chat.completion\",\n",
      "    \"service_tier\": \"default\",\n",
      "    \"system_fingerprint\": \"fp_eb9dce56a8\",\n",
      "    \"usage\": {\n",
      "        \"completion_tokens\": 28,\n",
      "        \"completion_tokens_details\": {\n",
      "            \"accepted_prediction_tokens\": 0,\n",
      "            \"audio_tokens\": 0,\n",
      "            \"reasoning_tokens\": 0,\n",
      "            \"rejected_prediction_tokens\": 0\n",
      "        },\n",
      "        \"prompt_tokens\": 220,\n",
      "        \"prompt_tokens_details\": {\n",
      "            \"audio_tokens\": 0,\n",
      "            \"cached_tokens\": 0\n",
      "        },\n",
      "        \"total_tokens\": 248\n",
      "    }\n",
      "}\n"
     ]
    }
   ],
   "source": [
    "final_response = client.chat.completions.create(\n",
    "    model=\"gpt-4o\",\n",
    "    messages=messages,\n",
    "    tools=tools\n",
    ")\n",
    "\n",
    "print_pretty(final_response.dict())"
   ]
  },
  {
   "cell_type": "markdown",
   "id": "e94b14af-5b1a-4343-a547-3e0a26773d24",
   "metadata": {},
   "source": [
    "### Search knowledge base\n"
   ]
  },
  {
   "cell_type": "code",
   "execution_count": 29,
   "id": "973c2d59-c226-4614-9e90-a4089bba8261",
   "metadata": {},
   "outputs": [],
   "source": [
    "tools = [\n",
    "    {\n",
    "        \"type\": \"function\",  # Specifies that this tool is a function.\n",
    "        \"function\": {\n",
    "            \"name\": \"search_knowledge_base\",  # Function name to be called by the AI model.\n",
    "            \"description\": \"Query a knowledge base to retrieve relevant info on a topic.\",  # Describes what this function does.\n",
    "            \"parameters\": {  # Defines the expected input parameters for this function.\n",
    "                \"type\": \"object\",  # The parameters are structured as a JSON object.\n",
    "                \"properties\": {  # Specifies the individual parameters.\n",
    "                    \"query\": {  \n",
    "                        \"type\": \"string\",  # The query must be a string.\n",
    "                        \"description\": \"The user question or search query.\"  # Explanation of what the query represents.\n",
    "                    },\n",
    "                    \"options\": {  # Additional options for refining the search.\n",
    "                        \"type\": \"object\",  # This is a nested object containing search options.\n",
    "                        \"properties\": {  # Specifies the sub-options within \"options\".\n",
    "                            \"num_results\": {\n",
    "                                \"type\": \"number\",  # Must be a number.\n",
    "                                \"description\": \"Number of top results to return.\"  # Defines how many search results to retrieve.\n",
    "                            },\n",
    "                            \"domain_filter\": {\n",
    "                                \"type\": [\n",
    "                                    \"string\",\n",
    "                                    \"null\"\n",
    "                                ],  # Can be a string (specific domain) or null (no filter).\n",
    "                                \"description\": \"Optional domain to narrow the search (e.g. 'finance', 'medical'). Pass null if not needed.\"  \n",
    "                                # Allows filtering by domain, e.g., only returning results from \"finance\" or \"medical\".\n",
    "                            },\n",
    "                            \"sort_by\": {\n",
    "                                \"type\": [\n",
    "                                    \"string\",\n",
    "                                    \"null\"\n",
    "                                ],  # Can be a string (sort option) or null (no sorting).\n",
    "                                \"enum\": [\n",
    "                                    \"relevance\",  # Sort by relevance to the query.\n",
    "                                    \"date\",  # Sort by the most recent results.\n",
    "                                    \"popularity\",  # Sort by most popular results.\n",
    "                                    \"alphabetical\"  # Sort alphabetically.\n",
    "                                ],\n",
    "                                \"description\": \"How to sort results. Pass null if not needed.\"  \n",
    "                                # Specifies sorting criteria for the retrieved results.\n",
    "                            }\n",
    "                        },\n",
    "                        \"required\": [\n",
    "                            \"num_results\",\n",
    "                            \"domain_filter\",\n",
    "                            \"sort_by\"\n",
    "                        ],  # These options must always be provided.\n",
    "                        \"additionalProperties\": False  # Prevents extra, undefined properties from being included.\n",
    "                    }\n",
    "                },\n",
    "                \"required\": [\n",
    "                    \"query\",\n",
    "                    \"options\"\n",
    "                ],  # Both \"query\" and \"options\" must be present.\n",
    "                \"additionalProperties\": False  # No other properties are allowed outside the defined ones.\n",
    "            },\n",
    "            \"strict\": True  # Enforces strict validation on parameters.\n",
    "        }\n",
    "    }\n",
    "]\n"
   ]
  },
  {
   "cell_type": "code",
   "execution_count": 30,
   "id": "40cf860c-5f9a-4608-95ec-448528ba9510",
   "metadata": {},
   "outputs": [],
   "source": [
    "messages=[{\"role\": \"user\", \"content\": \"Can you find information about ChatGPT in the AI knowledge base?\"}]"
   ]
  },
  {
   "cell_type": "code",
   "execution_count": 31,
   "id": "96ce9a51-94ab-40df-8741-fcc02aad029b",
   "metadata": {},
   "outputs": [
    {
     "name": "stdout",
     "output_type": "stream",
     "text": [
      "{\n",
      "    \"choices\": [\n",
      "        {\n",
      "            \"finish_reason\": \"tool_calls\",\n",
      "            \"index\": 0,\n",
      "            \"logprobs\": null,\n",
      "            \"message\": {\n",
      "                \"audio\": null,\n",
      "                \"content\": null,\n",
      "                \"function_call\": null,\n",
      "                \"refusal\": null,\n",
      "                \"role\": \"assistant\",\n",
      "                \"tool_calls\": [\n",
      "                    {\n",
      "                        \"function\": {\n",
      "                            \"arguments\": \"{\\\"query\\\":\\\"ChatGPT\\\",\\\"options\\\":{\\\"num_results\\\":5,\\\"domain_filter\\\":\\\"AI\\\",\\\"sort_by\\\":\\\"relevance\\\"}}\",\n",
      "                            \"name\": \"search_knowledge_base\"\n",
      "                        },\n",
      "                        \"id\": \"call_MNaX2XBWyajYwlfdeqJaU2FH\",\n",
      "                        \"type\": \"function\"\n",
      "                    }\n",
      "                ]\n",
      "            }\n",
      "        }\n",
      "    ],\n",
      "    \"created\": 1740476386,\n",
      "    \"id\": \"chatcmpl-B4lhiumdu9JniupRyurYTAC7indVq\",\n",
      "    \"model\": \"gpt-4o-2024-08-06\",\n",
      "    \"object\": \"chat.completion\",\n",
      "    \"service_tier\": \"default\",\n",
      "    \"system_fingerprint\": \"fp_f9f4fb6dbf\",\n",
      "    \"usage\": {\n",
      "        \"completion_tokens\": 36,\n",
      "        \"completion_tokens_details\": {\n",
      "            \"accepted_prediction_tokens\": 0,\n",
      "            \"audio_tokens\": 0,\n",
      "            \"reasoning_tokens\": 0,\n",
      "            \"rejected_prediction_tokens\": 0\n",
      "        },\n",
      "        \"prompt_tokens\": 197,\n",
      "        \"prompt_tokens_details\": {\n",
      "            \"audio_tokens\": 0,\n",
      "            \"cached_tokens\": 0\n",
      "        },\n",
      "        \"total_tokens\": 233\n",
      "    }\n",
      "}\n"
     ]
    }
   ],
   "source": [
    "response = client.chat.completions.create(\n",
    "    model=\"gpt-4o\",\n",
    "    messages=messages,\n",
    "    tools=tools\n",
    ")\n",
    "\n",
    "print_pretty(response.dict())"
   ]
  },
  {
   "cell_type": "code",
   "execution_count": 36,
   "id": "9e0a7184-af04-4db3-ae3c-2a43ba632fac",
   "metadata": {},
   "outputs": [
    {
     "name": "stdout",
     "output_type": "stream",
     "text": [
      "{\n",
      "  \"query\": \"ChatGPT\",\n",
      "  \"results\": [\n",
      "    {\n",
      "      \"title\": \"Introduction to ChatGPT\",\n",
      "      \"snippet\": \"ChatGPT is an AI model developed by OpenAI...\"\n",
      "    },\n",
      "    {\n",
      "      \"title\": \"ChatGPT Use Cases\",\n",
      "      \"snippet\": \"ChatGPT can be used for customer support, coding, and more...\"\n",
      "    }\n",
      "  ]\n",
      "}\n"
     ]
    }
   ],
   "source": [
    "def search_knowledge_base(name, args):\n",
    "    \"\"\"\n",
    "    Mock function to simulate querying a knowledge base.\n",
    "    \"\"\"\n",
    "    query = args.get(\"query\")\n",
    "    options = args.get(\"options\", {})\n",
    "    num_results = options.get(\"num_results\", 3)\n",
    "    domain_filter = options.get(\"domain_filter\", None)\n",
    "    sort_by = options.get(\"sort_by\", \"relevance\")\n",
    "\n",
    "    # Mock response data\n",
    "    results = [\n",
    "        {\"title\": \"Introduction to ChatGPT\", \"snippet\": \"ChatGPT is an AI model developed by OpenAI...\"},\n",
    "        {\"title\": \"ChatGPT Use Cases\", \"snippet\": \"ChatGPT can be used for customer support, coding, and more...\"},\n",
    "        {\"title\": \"How ChatGPT Works\", \"snippet\": \"ChatGPT uses a transformer-based neural network to generate responses...\"},\n",
    "        {\"title\": \"ChatGPT The Best AI model\", \"snippet\": \"Will AI take over the world? ChatGPT is becoming more intelligent.\"}\n",
    "    ]\n",
    "    \n",
    "    # Apply mock filters\n",
    "    if domain_filter:\n",
    "        results = [r for r in results if domain_filter.lower() in r[\"title\"].lower()]\n",
    "\n",
    "    # Apply sorting (mock behavior)\n",
    "    if sort_by == \"alphabetical\":\n",
    "        results = sorted(results, key=lambda x: x[\"title\"])\n",
    "    elif sort_by == \"date\":\n",
    "        results = results[::-1]  # Reverse list as a placeholder for recent-first sorting\n",
    "\n",
    "    # Limit the number of results\n",
    "    results = results[:num_results]\n",
    "\n",
    "    # Format response\n",
    "    response = {\"query\": query, \"results\": results}\n",
    "    \n",
    "    return json.dumps(response, indent=2)\n",
    "\n",
    "# Example test call\n",
    "test_args = {\n",
    "    \"query\": \"ChatGPT\",\n",
    "    \"options\": {\n",
    "        \"num_results\": 2,\n",
    "        \"domain_filter\": None,\n",
    "        \"sort_by\": \"relevance\"\n",
    "    }\n",
    "}\n",
    "\n",
    "print(search_knowledge_base(\"search_knowledge_base\", test_args))"
   ]
  },
  {
   "cell_type": "code",
   "execution_count": 37,
   "id": "51209ff9-1065-492f-8270-343593c1d301",
   "metadata": {},
   "outputs": [
    {
     "name": "stdout",
     "output_type": "stream",
     "text": [
      "search_knowledge_base {'query': 'ChatGPT', 'options': {'num_results': 5, 'domain_filter': 'AI', 'sort_by': 'relevance'}}\n"
     ]
    }
   ],
   "source": [
    "for tool_call in response.choices[0].message.tool_calls:\n",
    "    name = tool_call.function.name\n",
    "    args = json.loads(tool_call.function.arguments)\n",
    "    print(name,args)\n",
    "    result = search_knowledge_base(name, args)\n",
    "\n",
    "    # Append assistant's tool call response\n",
    "    messages.append({\n",
    "        \"role\": \"assistant\",\n",
    "        \"content\": None,\n",
    "        \"tool_calls\": [\n",
    "            {\n",
    "                \"id\": tool_call.id,\n",
    "                \"type\": \"function\",\n",
    "                \"function\": {\n",
    "                    \"name\": name,\n",
    "                    \"arguments\": json.dumps(args)\n",
    "                }\n",
    "            }\n",
    "        ]\n",
    "    })\n",
    "\n",
    "    # # Append tool response correctly\n",
    "    messages.append({\n",
    "        \"role\": \"tool\",\n",
    "        \"tool_call_id\": tool_call.id,\n",
    "        \"content\": result\n",
    "    })"
   ]
  },
  {
   "cell_type": "code",
   "execution_count": 38,
   "id": "0df26cbc-5177-4ac3-a97c-98222ad099f7",
   "metadata": {},
   "outputs": [
    {
     "data": {
      "text/plain": [
       "[{'role': 'user',\n",
       "  'content': 'Can you find information about ChatGPT in the AI knowledge base?'},\n",
       " {'role': 'assistant',\n",
       "  'content': None,\n",
       "  'tool_calls': [{'id': 'call_MNaX2XBWyajYwlfdeqJaU2FH',\n",
       "    'type': 'function',\n",
       "    'function': {'name': 'search_knowledge_base',\n",
       "     'arguments': '{\"query\": \"ChatGPT\", \"options\": {\"num_results\": 5, \"domain_filter\": \"AI\", \"sort_by\": \"relevance\"}}'}}]},\n",
       " {'role': 'tool',\n",
       "  'tool_call_id': 'call_MNaX2XBWyajYwlfdeqJaU2FH',\n",
       "  'content': '{\\n  \"query\": \"ChatGPT\",\\n  \"results\": []\\n}'},\n",
       " {'role': 'assistant',\n",
       "  'content': None,\n",
       "  'tool_calls': [{'id': 'call_MNaX2XBWyajYwlfdeqJaU2FH',\n",
       "    'type': 'function',\n",
       "    'function': {'name': 'search_knowledge_base',\n",
       "     'arguments': '{\"query\": \"ChatGPT\", \"options\": {\"num_results\": 5, \"domain_filter\": \"AI\", \"sort_by\": \"relevance\"}}'}}]},\n",
       " {'role': 'tool',\n",
       "  'tool_call_id': 'call_MNaX2XBWyajYwlfdeqJaU2FH',\n",
       "  'content': '{\\n  \"query\": \"ChatGPT\",\\n  \"results\": [\\n    {\\n      \"title\": \"ChatGPT The Best AI model\",\\n      \"snippet\": \"Will AI take over the world? ChatGPT is becoming more intelligent.\"\\n    }\\n  ]\\n}'}]"
      ]
     },
     "execution_count": 38,
     "metadata": {},
     "output_type": "execute_result"
    }
   ],
   "source": [
    "messages"
   ]
  },
  {
   "cell_type": "code",
   "execution_count": 39,
   "id": "3cdd83d0-7176-439f-b54d-69f1979b58be",
   "metadata": {},
   "outputs": [
    {
     "name": "stdout",
     "output_type": "stream",
     "text": [
      "Here's the most relevant information I found about ChatGPT in the AI knowledge base:\n",
      "\n",
      "- **ChatGPT The Best AI model**: Highlights include ChatGPT becoming more intelligent and discussions about whether AI will take over the world.\n",
      "\n",
      "If you need further details or additional topics, feel free to ask!\n"
     ]
    }
   ],
   "source": [
    "final_response = client.chat.completions.create(\n",
    "    model=\"gpt-4o\",\n",
    "    messages=messages,\n",
    "    tools=tools\n",
    ")\n",
    "\n",
    "print(final_response.choices[0].message.content)"
   ]
  },
  {
   "cell_type": "code",
   "execution_count": null,
   "id": "fce8d39d-777f-4b19-8101-d1804d2092fd",
   "metadata": {},
   "outputs": [],
   "source": []
  }
 ],
 "metadata": {
  "kernelspec": {
   "display_name": "Python 3 (ipykernel)",
   "language": "python",
   "name": "python3"
  },
  "language_info": {
   "codemirror_mode": {
    "name": "ipython",
    "version": 3
   },
   "file_extension": ".py",
   "mimetype": "text/x-python",
   "name": "python",
   "nbconvert_exporter": "python",
   "pygments_lexer": "ipython3",
   "version": "3.8.20"
  }
 },
 "nbformat": 4,
 "nbformat_minor": 5
}
