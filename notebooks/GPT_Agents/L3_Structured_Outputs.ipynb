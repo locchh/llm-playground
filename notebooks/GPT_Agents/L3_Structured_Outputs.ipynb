{
 "cells": [
  {
   "cell_type": "markdown",
   "id": "4211245d-d02a-456b-971f-4845bce98913",
   "metadata": {},
   "source": [
    "### Introduction\n",
    "\n",
    "JSON is one of the most widely used formats in the world for applications to exchange data.\n",
    "\n",
    "Structured Outputs is a feature that ensures the model will always generate responses that adhere to your supplied [JSON Schema](https://json-schema.org/overview/what-is-jsonschema), so you don't need to worry about the model omitting a required key, or hallucinating an invalid enum value.\n",
    "\n",
    "Some benefits of Structured Outputs include:\n",
    "\n",
    "- Reliable type-safety: No need to validate or retry incorrectly formatted responses\n",
    "- Explicit refusals: Safety-based model refusals are now programmatically detectable\n",
    "- Simpler prompting: No need for strongly worded prompts to achieve consistent formatting\n",
    "\n",
    "In addition to supporting JSON Schema in the REST API, the OpenAI SDKs for Python and JavaScript also make it easy to define object schemas using Pydantic and Zod respectively. Below, you can see how to extract information from unstructured text that conforms to a schema defined in code.\n",
    "\n",
    "Supported models\n",
    "\n",
    "Structured Outputs are available in our latest large language models, starting with GPT-4o:\n",
    "\n",
    "- o3-mini-2025-1-31 and later\n",
    "- o1-2024-12-17 and later\n",
    "- gpt-4o-mini-2024-07-18 and later\n",
    "- gpt-4o-2024-08-06 and later\n",
    "\n",
    "Older models like gpt-4-turbo and earlier may use JSON mode instead."
   ]
  },
  {
   "cell_type": "code",
   "execution_count": 1,
   "id": "c06cc3a0-6521-4b2a-9fe3-28d728239d70",
   "metadata": {},
   "outputs": [
    {
     "name": "stdout",
     "output_type": "stream",
     "text": [
      "API key set successfully.\n",
      "Hello! How can I assist you today?\n"
     ]
    }
   ],
   "source": [
    "import json\n",
    "from enum import Enum\n",
    "from pydantic import BaseModel\n",
    "from typing import List, Optional\n",
    "from helper import set_openai_key, test_openai_api, create_openai_client, print_pretty\n",
    "\n",
    "set_openai_key()\n",
    "\n",
    "test_openai_api()\n",
    "\n",
    "client = create_openai_client()"
   ]
  },
  {
   "cell_type": "markdown",
   "id": "d4371465-5eed-4435-8b45-db231df55ac2",
   "metadata": {},
   "source": [
    "### Chain of thought"
   ]
  },
  {
   "cell_type": "code",
   "execution_count": 2,
   "id": "2be7d14e-8c19-4f16-bd1d-1e541cc415a9",
   "metadata": {},
   "outputs": [],
   "source": [
    "class Step(BaseModel):\n",
    "    explanation: str\n",
    "    output: str\n",
    "\n",
    "class MathReasoning(BaseModel):\n",
    "    steps: List[Step]\n",
    "    final_answer: str"
   ]
  },
  {
   "cell_type": "code",
   "execution_count": 4,
   "id": "bee280b9-e69d-49ca-98b7-d41fcdd0944f",
   "metadata": {},
   "outputs": [
    {
     "name": "stdout",
     "output_type": "stream",
     "text": [
      "steps=[Step(explanation='The goal is to solve for \\\\( x \\\\), which means isolating \\\\( x \\\\) on one side of the equation. The initial equation is \\\\( 8x + 7 = -23 \\\\). To start, we need to eliminate the +7 from the left side.', output='8x + 7 = -23'), Step(explanation='Subtract 7 from both sides of the equation to move it to the other side. This helps in isolating the term with \\\\( x \\\\).', output='8x + 7 - 7 = -23 - 7'), Step(explanation='Simplifying both sides after subtracting 7. On the left side, \\\\( +7 \\\\) and \\\\( -7 \\\\) cancel each other out, leaving \\\\( 8x \\\\). On the right side, \\\\(-23 - 7\\\\) simplifies to \\\\(-30\\\\).', output='8x = -30'), Step(explanation='Now, we need to get \\\\( x \\\\) by itself. Since \\\\( x \\\\) is being multiplied by 8, we should divide both sides by 8 to solve for \\\\( x \\\\).', output='\\\\frac{8x}{8} = \\\\frac{-30}{8}'), Step(explanation='Simplifying both sides. On the left side, \\\\( \\\\frac{8x}{8} = x \\\\). On the right side, \\\\( \\\\frac{-30}{8} \\\\) can be simplified to \\\\( -\\\\frac{15}{4} \\\\) by dividing the numerator and the denominator by 2.', output='x = -\\\\frac{15}{4}')] final_answer='x = -\\\\frac{15}{4}'\n"
     ]
    }
   ],
   "source": [
    "completion = client.beta.chat.completions.parse(\n",
    "    model=\"gpt-4o-2024-08-06\",\n",
    "    messages=[\n",
    "        {\"role\": \"system\", \"content\": \"You are a helpful math tutor. Guide the user through the solution step by step.\"},\n",
    "        {\"role\": \"user\", \"content\": \"how can I solve 8x + 7 = -23\"}\n",
    "    ],\n",
    "    response_format=MathReasoning,\n",
    ")\n",
    "\n",
    "math_reasoning = completion.choices[0].message\n",
    "\n",
    "# If the model refuses to respond, you will get a refusal message\n",
    "if (math_reasoning.refusal):\n",
    "    print(math_reasoning.refusal)\n",
    "else:\n",
    "    print(math_reasoning.parsed)"
   ]
  },
  {
   "cell_type": "code",
   "execution_count": 5,
   "id": "7410209d-70a1-4fef-ab2a-fcfa77fd6184",
   "metadata": {},
   "outputs": [
    {
     "name": "stdout",
     "output_type": "stream",
     "text": [
      "{\n",
      "    \"choices\": [\n",
      "        {\n",
      "            \"finish_reason\": \"stop\",\n",
      "            \"index\": 0,\n",
      "            \"logprobs\": null,\n",
      "            \"message\": {\n",
      "                \"audio\": null,\n",
      "                \"content\": \"{\\\"steps\\\":[{\\\"explanation\\\":\\\"The goal is to solve for \\\\\\\\( x \\\\\\\\), which means isolating \\\\\\\\( x \\\\\\\\) on one side of the equation. The initial equation is \\\\\\\\( 8x + 7 = -23 \\\\\\\\). To start, we need to eliminate the +7 from the left side.\\\",\\\"output\\\":\\\"8x + 7 = -23\\\"},{\\\"explanation\\\":\\\"Subtract 7 from both sides of the equation to move it to the other side. This helps in isolating the term with \\\\\\\\( x \\\\\\\\).\\\",\\\"output\\\":\\\"8x + 7 - 7 = -23 - 7\\\"},{\\\"explanation\\\":\\\"Simplifying both sides after subtracting 7. On the left side, \\\\\\\\( +7 \\\\\\\\) and \\\\\\\\( -7 \\\\\\\\) cancel each other out, leaving \\\\\\\\( 8x \\\\\\\\). On the right side, \\\\\\\\(-23 - 7\\\\\\\\) simplifies to \\\\\\\\(-30\\\\\\\\).\\\",\\\"output\\\":\\\"8x = -30\\\"},{\\\"explanation\\\":\\\"Now, we need to get \\\\\\\\( x \\\\\\\\) by itself. Since \\\\\\\\( x \\\\\\\\) is being multiplied by 8, we should divide both sides by 8 to solve for \\\\\\\\( x \\\\\\\\).\\\",\\\"output\\\":\\\"\\\\\\\\frac{8x}{8} = \\\\\\\\frac{-30}{8}\\\"},{\\\"explanation\\\":\\\"Simplifying both sides. On the left side, \\\\\\\\( \\\\\\\\frac{8x}{8} = x \\\\\\\\). On the right side, \\\\\\\\( \\\\\\\\frac{-30}{8} \\\\\\\\) can be simplified to \\\\\\\\( -\\\\\\\\frac{15}{4} \\\\\\\\) by dividing the numerator and the denominator by 2.\\\",\\\"output\\\":\\\"x = -\\\\\\\\frac{15}{4}\\\"}],\\\"final_answer\\\":\\\"x = -\\\\\\\\frac{15}{4}\\\"}\",\n",
      "                \"function_call\": null,\n",
      "                \"parsed\": {\n",
      "                    \"final_answer\": \"x = -\\\\frac{15}{4}\",\n",
      "                    \"steps\": [\n",
      "                        {\n",
      "                            \"explanation\": \"The goal is to solve for \\\\( x \\\\), which means isolating \\\\( x \\\\) on one side of the equation. The initial equation is \\\\( 8x + 7 = -23 \\\\). To start, we need to eliminate the +7 from the left side.\",\n",
      "                            \"output\": \"8x + 7 = -23\"\n",
      "                        },\n",
      "                        {\n",
      "                            \"explanation\": \"Subtract 7 from both sides of the equation to move it to the other side. This helps in isolating the term with \\\\( x \\\\).\",\n",
      "                            \"output\": \"8x + 7 - 7 = -23 - 7\"\n",
      "                        },\n",
      "                        {\n",
      "                            \"explanation\": \"Simplifying both sides after subtracting 7. On the left side, \\\\( +7 \\\\) and \\\\( -7 \\\\) cancel each other out, leaving \\\\( 8x \\\\). On the right side, \\\\(-23 - 7\\\\) simplifies to \\\\(-30\\\\).\",\n",
      "                            \"output\": \"8x = -30\"\n",
      "                        },\n",
      "                        {\n",
      "                            \"explanation\": \"Now, we need to get \\\\( x \\\\) by itself. Since \\\\( x \\\\) is being multiplied by 8, we should divide both sides by 8 to solve for \\\\( x \\\\).\",\n",
      "                            \"output\": \"\\\\frac{8x}{8} = \\\\frac{-30}{8}\"\n",
      "                        },\n",
      "                        {\n",
      "                            \"explanation\": \"Simplifying both sides. On the left side, \\\\( \\\\frac{8x}{8} = x \\\\). On the right side, \\\\( \\\\frac{-30}{8} \\\\) can be simplified to \\\\( -\\\\frac{15}{4} \\\\) by dividing the numerator and the denominator by 2.\",\n",
      "                            \"output\": \"x = -\\\\frac{15}{4}\"\n",
      "                        }\n",
      "                    ]\n",
      "                },\n",
      "                \"refusal\": null,\n",
      "                \"role\": \"assistant\",\n",
      "                \"tool_calls\": []\n",
      "            }\n",
      "        }\n",
      "    ],\n",
      "    \"created\": 1740570933,\n",
      "    \"id\": \"chatcmpl-B5AIfNon3rlVZojhUR7WyOI4T1wRs\",\n",
      "    \"model\": \"gpt-4o-2024-08-06\",\n",
      "    \"object\": \"chat.completion\",\n",
      "    \"service_tier\": \"default\",\n",
      "    \"system_fingerprint\": \"fp_f9f4fb6dbf\",\n",
      "    \"usage\": {\n",
      "        \"completion_tokens\": 366,\n",
      "        \"completion_tokens_details\": {\n",
      "            \"accepted_prediction_tokens\": 0,\n",
      "            \"audio_tokens\": 0,\n",
      "            \"reasoning_tokens\": 0,\n",
      "            \"rejected_prediction_tokens\": 0\n",
      "        },\n",
      "        \"prompt_tokens\": 143,\n",
      "        \"prompt_tokens_details\": {\n",
      "            \"audio_tokens\": 0,\n",
      "            \"cached_tokens\": 0\n",
      "        },\n",
      "        \"total_tokens\": 509\n",
      "    }\n",
      "}\n"
     ]
    }
   ],
   "source": [
    "print_pretty(completion.dict())"
   ]
  },
  {
   "cell_type": "code",
   "execution_count": 7,
   "id": "33440ebf-d42f-47d6-935d-7475149b49c3",
   "metadata": {},
   "outputs": [
    {
     "name": "stdout",
     "output_type": "stream",
     "text": [
      "{\n",
      "    \"final_answer\": \"x = -\\\\frac{15}{4}\",\n",
      "    \"steps\": [\n",
      "        {\n",
      "            \"explanation\": \"The goal is to solve for \\\\( x \\\\), which means isolating \\\\( x \\\\) on one side of the equation. The initial equation is \\\\( 8x + 7 = -23 \\\\). To start, we need to eliminate the +7 from the left side.\",\n",
      "            \"output\": \"8x + 7 = -23\"\n",
      "        },\n",
      "        {\n",
      "            \"explanation\": \"Subtract 7 from both sides of the equation to move it to the other side. This helps in isolating the term with \\\\( x \\\\).\",\n",
      "            \"output\": \"8x + 7 - 7 = -23 - 7\"\n",
      "        },\n",
      "        {\n",
      "            \"explanation\": \"Simplifying both sides after subtracting 7. On the left side, \\\\( +7 \\\\) and \\\\( -7 \\\\) cancel each other out, leaving \\\\( 8x \\\\). On the right side, \\\\(-23 - 7\\\\) simplifies to \\\\(-30\\\\).\",\n",
      "            \"output\": \"8x = -30\"\n",
      "        },\n",
      "        {\n",
      "            \"explanation\": \"Now, we need to get \\\\( x \\\\) by itself. Since \\\\( x \\\\) is being multiplied by 8, we should divide both sides by 8 to solve for \\\\( x \\\\).\",\n",
      "            \"output\": \"\\\\frac{8x}{8} = \\\\frac{-30}{8}\"\n",
      "        },\n",
      "        {\n",
      "            \"explanation\": \"Simplifying both sides. On the left side, \\\\( \\\\frac{8x}{8} = x \\\\). On the right side, \\\\( \\\\frac{-30}{8} \\\\) can be simplified to \\\\( -\\\\frac{15}{4} \\\\) by dividing the numerator and the denominator by 2.\",\n",
      "            \"output\": \"x = -\\\\frac{15}{4}\"\n",
      "        }\n",
      "    ]\n",
      "}\n"
     ]
    }
   ],
   "source": [
    "print_pretty(math_reasoning.parsed.dict())"
   ]
  },
  {
   "cell_type": "markdown",
   "id": "57846414-d25b-4c2b-adb4-1e7b3eae183a",
   "metadata": {},
   "source": [
    "### Structured data extraction"
   ]
  },
  {
   "cell_type": "code",
   "execution_count": 9,
   "id": "de2598f8-10da-4b26-8c45-8f91eefda7bf",
   "metadata": {},
   "outputs": [],
   "source": [
    "class ResearchPaperExtraction(BaseModel):\n",
    "    title: str\n",
    "    authors: List[str]\n",
    "    abstract: str\n",
    "    keywords: List[str]"
   ]
  },
  {
   "cell_type": "code",
   "execution_count": 10,
   "id": "0f3e3c30-35a6-479b-b3ef-0fd35728ce90",
   "metadata": {},
   "outputs": [],
   "source": [
    "paper = \"\"\"\n",
    "Title: Graph-Based Recommendation Systems: A Survey\n",
    "\n",
    "Authors: John Doe, Jane Smith\n",
    "Abstract: Recommendation systems play a crucial role in modern applications, providing personalized content to users.\n",
    "In recent years, graph-based methods have emerged as powerful tools for improving recommendation quality.\n",
    "This survey explores state-of-the-art graph-based recommendation techniques, including graph neural networks (GNNs),\n",
    "random walk-based approaches, and knowledge graphs. We compare various models, highlight key challenges,\n",
    "and discuss future research directions in this evolving field.\n",
    "\"\"\""
   ]
  },
  {
   "cell_type": "code",
   "execution_count": 11,
   "id": "3448c9d8-051a-49ac-be30-c9085dccf705",
   "metadata": {},
   "outputs": [],
   "source": [
    "completion = client.beta.chat.completions.parse(\n",
    "    model=\"gpt-4o-2024-08-06\",\n",
    "    messages=[\n",
    "        {\"role\": \"system\", \"content\": \"You are an expert at structured data extraction. You will be given unstructured text from a research paper and should convert it into the given structure.\"},\n",
    "        {\"role\": \"user\", \"content\": f\"{paper}\"}\n",
    "    ],\n",
    "    response_format=ResearchPaperExtraction,\n",
    ")\n",
    "\n",
    "research_paper = completion.choices[0].message.parsed"
   ]
  },
  {
   "cell_type": "code",
   "execution_count": 12,
   "id": "124525b3-d317-45e7-8a77-c6a5f8d25083",
   "metadata": {},
   "outputs": [
    {
     "name": "stdout",
     "output_type": "stream",
     "text": [
      "{\n",
      "    \"abstract\": \"Recommendation systems play a crucial role in modern applications, providing personalized content to users. In recent years, graph-based methods have emerged as powerful tools for improving recommendation quality. This survey explores state-of-the-art graph-based recommendation techniques, including graph neural networks (GNNs), random walk-based approaches, and knowledge graphs. We compare various models, highlight key challenges, and discuss future research directions in this evolving field.\",\n",
      "    \"authors\": [\n",
      "        \"John Doe\",\n",
      "        \"Jane Smith\"\n",
      "    ],\n",
      "    \"keywords\": [],\n",
      "    \"title\": \"Graph-Based Recommendation Systems: A Survey\"\n",
      "}\n"
     ]
    }
   ],
   "source": [
    "print_pretty(research_paper.dict())"
   ]
  },
  {
   "cell_type": "markdown",
   "id": "7c04246e-5693-49a3-83eb-269ae797eeeb",
   "metadata": {},
   "source": [
    "### UI Generation"
   ]
  },
  {
   "cell_type": "code",
   "execution_count": 14,
   "id": "3deded78-fef5-4b6c-af6d-061d84b08717",
   "metadata": {},
   "outputs": [],
   "source": [
    "class UIType(str, Enum):\n",
    "    div = \"div\"\n",
    "    button = \"button\"\n",
    "    header = \"header\"\n",
    "    section = \"section\"\n",
    "    field = \"field\"\n",
    "    form = \"form\"\n",
    "\n",
    "class Attribute(BaseModel):\n",
    "    name: str\n",
    "    value: str\n",
    "\n",
    "class UI(BaseModel):\n",
    "    type: UIType\n",
    "    label: str\n",
    "    children: List[\"UI\"] \n",
    "    attributes: List[Attribute]\n",
    "\n",
    "UI.model_rebuild() # This is required to enable recursive types\n",
    "\n",
    "class Response(BaseModel):\n",
    "    ui: UI\n"
   ]
  },
  {
   "cell_type": "code",
   "execution_count": 15,
   "id": "fd773d76-fb72-4caa-8a82-10aece251fea",
   "metadata": {},
   "outputs": [
    {
     "name": "stdout",
     "output_type": "stream",
     "text": [
      "{\n",
      "    \"ui\": {\n",
      "        \"attributes\": [\n",
      "            {\n",
      "                \"name\": \"action\",\n",
      "                \"value\": \"/submit_profile\"\n",
      "            },\n",
      "            {\n",
      "                \"name\": \"method\",\n",
      "                \"value\": \"post\"\n",
      "            }\n",
      "        ],\n",
      "        \"children\": [\n",
      "            {\n",
      "                \"attributes\": [\n",
      "                    {\n",
      "                        \"name\": \"type\",\n",
      "                        \"value\": \"text\"\n",
      "                    },\n",
      "                    {\n",
      "                        \"name\": \"name\",\n",
      "                        \"value\": \"first_name\"\n",
      "                    }\n",
      "                ],\n",
      "                \"children\": [],\n",
      "                \"label\": \"First Name\",\n",
      "                \"type\": \"field\"\n",
      "            },\n",
      "            {\n",
      "                \"attributes\": [\n",
      "                    {\n",
      "                        \"name\": \"type\",\n",
      "                        \"value\": \"text\"\n",
      "                    },\n",
      "                    {\n",
      "                        \"name\": \"name\",\n",
      "                        \"value\": \"last_name\"\n",
      "                    }\n",
      "                ],\n",
      "                \"children\": [],\n",
      "                \"label\": \"Last Name\",\n",
      "                \"type\": \"field\"\n",
      "            },\n",
      "            {\n",
      "                \"attributes\": [\n",
      "                    {\n",
      "                        \"name\": \"type\",\n",
      "                        \"value\": \"email\"\n",
      "                    },\n",
      "                    {\n",
      "                        \"name\": \"name\",\n",
      "                        \"value\": \"email\"\n",
      "                    }\n",
      "                ],\n",
      "                \"children\": [],\n",
      "                \"label\": \"Email\",\n",
      "                \"type\": \"field\"\n",
      "            },\n",
      "            {\n",
      "                \"attributes\": [\n",
      "                    {\n",
      "                        \"name\": \"type\",\n",
      "                        \"value\": \"tel\"\n",
      "                    },\n",
      "                    {\n",
      "                        \"name\": \"name\",\n",
      "                        \"value\": \"phone\"\n",
      "                    }\n",
      "                ],\n",
      "                \"children\": [],\n",
      "                \"label\": \"Phone Number\",\n",
      "                \"type\": \"field\"\n",
      "            },\n",
      "            {\n",
      "                \"attributes\": [\n",
      "                    {\n",
      "                        \"name\": \"type\",\n",
      "                        \"value\": \"date\"\n",
      "                    },\n",
      "                    {\n",
      "                        \"name\": \"name\",\n",
      "                        \"value\": \"dob\"\n",
      "                    }\n",
      "                ],\n",
      "                \"children\": [],\n",
      "                \"label\": \"Date of Birth\",\n",
      "                \"type\": \"field\"\n",
      "            },\n",
      "            {\n",
      "                \"attributes\": [\n",
      "                    {\n",
      "                        \"name\": \"type\",\n",
      "                        \"value\": \"textarea\"\n",
      "                    },\n",
      "                    {\n",
      "                        \"name\": \"name\",\n",
      "                        \"value\": \"bio\"\n",
      "                    }\n",
      "                ],\n",
      "                \"children\": [],\n",
      "                \"label\": \"Biography\",\n",
      "                \"type\": \"field\"\n",
      "            },\n",
      "            {\n",
      "                \"attributes\": [\n",
      "                    {\n",
      "                        \"name\": \"type\",\n",
      "                        \"value\": \"submit\"\n",
      "                    }\n",
      "                ],\n",
      "                \"children\": [],\n",
      "                \"label\": \"Submit\",\n",
      "                \"type\": \"button\"\n",
      "            }\n",
      "        ],\n",
      "        \"label\": \"User Profile Form\",\n",
      "        \"type\": \"form\"\n",
      "    }\n",
      "}\n"
     ]
    }
   ],
   "source": [
    "completion = client.beta.chat.completions.parse(\n",
    "    model=\"gpt-4o-2024-08-06\",\n",
    "    messages=[\n",
    "        {\"role\": \"system\", \"content\": \"You are a UI generator AI. Convert the user input into a UI.\"},\n",
    "        {\"role\": \"user\", \"content\": \"Make a User Profile Form\"}\n",
    "    ],\n",
    "    response_format=Response,\n",
    ")\n",
    "\n",
    "ui = completion.choices[0].message.parsed\n",
    "print_pretty(ui.dict())"
   ]
  },
  {
   "cell_type": "markdown",
   "id": "66a9fb51-9518-4a34-819e-8f73f1c9fbb4",
   "metadata": {},
   "source": [
    "### Moderation"
   ]
  },
  {
   "cell_type": "code",
   "execution_count": 16,
   "id": "4b851698-b349-40b7-94ef-107c9a54fad8",
   "metadata": {},
   "outputs": [],
   "source": [
    "class Category(str, Enum):\n",
    "    violence = \"violence\"\n",
    "    sexual = \"sexual\"\n",
    "    self_harm = \"self_harm\"\n",
    "\n",
    "class ContentCompliance(BaseModel):\n",
    "    is_violating: bool\n",
    "    category: Optional[Category]\n",
    "    explanation_if_violating: Optional[str]\n"
   ]
  },
  {
   "cell_type": "code",
   "execution_count": 17,
   "id": "138415d8-280e-43b0-9c9c-c877d3104799",
   "metadata": {},
   "outputs": [],
   "source": [
    "completion = client.beta.chat.completions.parse(\n",
    "    model=\"gpt-4o-2024-08-06\",\n",
    "    messages=[\n",
    "        {\"role\": \"system\", \"content\": \"Determine if the user input violates specific guidelines and explain if they do.\"},\n",
    "        {\"role\": \"user\", \"content\": \"How do I prepare for a job interview?\"}\n",
    "    ],\n",
    "    response_format=ContentCompliance,\n",
    ")\n",
    "\n",
    "compliance = completion.choices[0].message.parsed"
   ]
  },
  {
   "cell_type": "code",
   "execution_count": 18,
   "id": "1f8ded66-dc21-47b0-9f0d-fba19fe8efd8",
   "metadata": {},
   "outputs": [
    {
     "data": {
      "text/plain": [
       "ContentCompliance(is_violating=False, category=None, explanation_if_violating=None)"
      ]
     },
     "execution_count": 18,
     "metadata": {},
     "output_type": "execute_result"
    }
   ],
   "source": [
    "compliance"
   ]
  },
  {
   "cell_type": "code",
   "execution_count": null,
   "id": "c2cfde70-3468-49ba-95f8-d6244256d48b",
   "metadata": {},
   "outputs": [],
   "source": []
  }
 ],
 "metadata": {
  "kernelspec": {
   "display_name": "Python 3 (ipykernel)",
   "language": "python",
   "name": "python3"
  },
  "language_info": {
   "codemirror_mode": {
    "name": "ipython",
    "version": 3
   },
   "file_extension": ".py",
   "mimetype": "text/x-python",
   "name": "python",
   "nbconvert_exporter": "python",
   "pygments_lexer": "ipython3",
   "version": "3.8.20"
  }
 },
 "nbformat": 4,
 "nbformat_minor": 5
}
