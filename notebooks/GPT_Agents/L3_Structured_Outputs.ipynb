{
 "cells": [
  {
   "cell_type": "markdown",
   "id": "4211245d-d02a-456b-971f-4845bce98913",
   "metadata": {},
   "source": [
    "### Introduction\n",
    "\n",
    "JSON is one of the most widely used formats in the world for applications to exchange data.\n",
    "\n",
    "Structured Outputs is a feature that ensures the model will always generate responses that adhere to your supplied [JSON Schema](https://json-schema.org/overview/what-is-jsonschema), so you don't need to worry about the model omitting a required key, or hallucinating an invalid enum value.\n",
    "\n",
    "Some benefits of Structured Outputs include:\n",
    "\n",
    "- Reliable type-safety: No need to validate or retry incorrectly formatted responses\n",
    "- Explicit refusals: Safety-based model refusals are now programmatically detectable\n",
    "- Simpler prompting: No need for strongly worded prompts to achieve consistent formatting\n",
    "\n",
    "In addition to supporting JSON Schema in the REST API, the OpenAI SDKs for Python and JavaScript also make it easy to define object schemas using Pydantic and Zod respectively. Below, you can see how to extract information from unstructured text that conforms to a schema defined in code.\n",
    "\n",
    "Supported models\n",
    "\n",
    "Structured Outputs are available in our latest large language models, starting with GPT-4o:\n",
    "\n",
    "    o3-mini-2025-1-31 and later\n",
    "    o1-2024-12-17 and later\n",
    "    gpt-4o-mini-2024-07-18 and later\n",
    "    gpt-4o-2024-08-06 and later\n",
    "\n",
    "Older models like gpt-4-turbo and earlier may use JSON mode instead."
   ]
  },
  {
   "cell_type": "code",
   "execution_count": 1,
   "id": "c06cc3a0-6521-4b2a-9fe3-28d728239d70",
   "metadata": {},
   "outputs": [
    {
     "name": "stdout",
     "output_type": "stream",
     "text": [
      "API key set successfully.\n",
      "Hello! How can I assist you today?\n"
     ]
    }
   ],
   "source": [
    "import json\n",
    "from helper import set_openai_key, test_openai_api, create_openai_client, print_pretty\n",
    "\n",
    "set_openai_key()\n",
    "\n",
    "test_openai_api()\n",
    "\n",
    "client = create_openai_client()"
   ]
  },
  {
   "cell_type": "code",
   "execution_count": null,
   "id": "9203bf90-ccab-4b6a-8f7d-c55d6f493fcf",
   "metadata": {},
   "outputs": [],
   "source": []
  }
 ],
 "metadata": {
  "kernelspec": {
   "display_name": "Python 3 (ipykernel)",
   "language": "python",
   "name": "python3"
  },
  "language_info": {
   "codemirror_mode": {
    "name": "ipython",
    "version": 3
   },
   "file_extension": ".py",
   "mimetype": "text/x-python",
   "name": "python",
   "nbconvert_exporter": "python",
   "pygments_lexer": "ipython3",
   "version": "3.8.20"
  }
 },
 "nbformat": 4,
 "nbformat_minor": 5
}
