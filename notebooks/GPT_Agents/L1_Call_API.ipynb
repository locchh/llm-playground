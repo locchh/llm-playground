{
 "cells": [
  {
   "cell_type": "code",
   "execution_count": 1,
   "id": "058a600b-015b-4e24-8345-644f485dd3b5",
   "metadata": {},
   "outputs": [],
   "source": [
    "from helper import set_openai_key, test_openai_api, create_openai_client"
   ]
  },
  {
   "cell_type": "code",
   "execution_count": 2,
   "id": "3fb00e6b-3519-484e-993b-4ebd6eeb078c",
   "metadata": {},
   "outputs": [
    {
     "name": "stdout",
     "output_type": "stream",
     "text": [
      "API key set successfully.\n"
     ]
    }
   ],
   "source": [
    "set_openai_key()"
   ]
  },
  {
   "cell_type": "code",
   "execution_count": 3,
   "id": "95c2df3d-2196-47bd-b1db-997988d2dec1",
   "metadata": {},
   "outputs": [
    {
     "name": "stdout",
     "output_type": "stream",
     "text": [
      "Hello! How can I assist you today?\n"
     ]
    }
   ],
   "source": [
    "test_openai_api()"
   ]
  },
  {
   "cell_type": "code",
   "execution_count": 4,
   "id": "97dcc237-7ddd-48c0-99db-06d980ab78fe",
   "metadata": {},
   "outputs": [],
   "source": [
    "client = create_openai_client()"
   ]
  },
  {
   "cell_type": "code",
   "execution_count": 5,
   "id": "bbc52e7a-94e4-4653-8e0f-81e3b9c28367",
   "metadata": {},
   "outputs": [],
   "source": [
    "def get_completion(prompt, model=\"gpt-3.5-turbo\"):\n",
    "    messages = [{\"role\": \"user\", \"content\": prompt}]\n",
    "    response = client.chat.completions.create(\n",
    "        model=model,\n",
    "        messages=messages,\n",
    "        temperature=0\n",
    "    )\n",
    "    return response.choices[0].message.content"
   ]
  },
  {
   "cell_type": "code",
   "execution_count": 6,
   "id": "39c6e8ae-a59e-4efe-a71a-f832a5f17b20",
   "metadata": {},
   "outputs": [
    {
     "data": {
      "text/plain": [
       "'The capital of France is Paris.'"
      ]
     },
     "execution_count": 6,
     "metadata": {},
     "output_type": "execute_result"
    }
   ],
   "source": [
    "response = get_completion(\"What is the capital of France?\")\n",
    "response"
   ]
  },
  {
   "cell_type": "code",
   "execution_count": null,
   "id": "6ccc163b-d922-4d95-b0d3-3a9e19197d0c",
   "metadata": {},
   "outputs": [],
   "source": []
  }
 ],
 "metadata": {
  "kernelspec": {
   "display_name": "Python 3 (ipykernel)",
   "language": "python",
   "name": "python3"
  },
  "language_info": {
   "codemirror_mode": {
    "name": "ipython",
    "version": 3
   },
   "file_extension": ".py",
   "mimetype": "text/x-python",
   "name": "python",
   "nbconvert_exporter": "python",
   "pygments_lexer": "ipython3",
   "version": "3.8.20"
  }
 },
 "nbformat": 4,
 "nbformat_minor": 5
}
