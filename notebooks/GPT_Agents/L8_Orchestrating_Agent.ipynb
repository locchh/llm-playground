{
 "cells": [
  {
   "cell_type": "code",
   "execution_count": null,
   "id": "367e0953-8a15-4876-8948-5b9de05bff1a",
   "metadata": {},
   "outputs": [],
   "source": []
  }
 ],
 "metadata": {
  "kernelspec": {
   "display_name": "",
   "name": ""
  },
  "language_info": {
   "name": ""
  }
 },
 "nbformat": 4,
 "nbformat_minor": 5
}
